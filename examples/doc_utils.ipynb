{
 "cells": [
  {
   "cell_type": "code",
   "execution_count": 2,
   "metadata": {},
   "outputs": [],
   "source": [
    "import networkx as nx\n",
    "import requests\n",
    "import csv\n",
    "from poitousprint import Portic, Toflit, nest_toflit18_flow, nest_portic_pointcall, build_cooccurence_graph\n",
    "\n",
    "toflit_client = Toflit()\n"
   ]
  },
  {
   "cell_type": "code",
   "execution_count": 6,
   "metadata": {},
   "outputs": [
    {
     "data": {
      "text/plain": [
       "{'flow': {'year': '1792', 'export_import': 'Exports'},\n",
       " 'source': {'source_type': '1792-both semester',\n",
       "  'best_guess_national_prodxpart': '0',\n",
       "  'best_guess_national_partner': '0',\n",
       "  'best_guess_national_product': '0',\n",
       "  'best_guess_region_prodxpart': '0',\n",
       "  'best_guess_national_region': '0',\n",
       "  'nbr_obs': '497',\n",
       "  'imprimatur': 'x',\n",
       "  'filepath': 'sources/1792-both semester/AN_F12_252_et_F12_1843B_Exports_1792.csv',\n",
       "  'source': 'AN F12 252 et F12 1843B',\n",
       "  'sheet': '26'},\n",
       " 'product_origin': {'origin': '',\n",
       "  'origin_origin': '',\n",
       "  'customs_region_origin': '',\n",
       "  'details_provenance': ''},\n",
       " 'product_quantity_and_value': {'value': '',\n",
       "  'quantity': '7069',\n",
       "  'computed_value': '0',\n",
       "  'value_as_reported': '',\n",
       "  'computed_value_per_unit': '0',\n",
       "  'computed_quantity': '0',\n",
       "  'value_minus_unit_val_x_qty': '',\n",
       "  'quantities_metric': '3460.2754',\n",
       "  'unit_price_metric': '',\n",
       "  'conv_simplification_to_metric': '.48949999',\n",
       "  'quantity_unit_metric': 'kg',\n",
       "  'quantity_unit_simplification': 'livres',\n",
       "  'value_minus_un_source': '',\n",
       "  'value_total': '',\n",
       "  'value_sub_total_1': '',\n",
       "  'value_sub_total_2': '',\n",
       "  'value_sub_total_3': '',\n",
       "  'quantity_unit': 'livres',\n",
       "  'quantity_unit_orthographic': 'livres',\n",
       "  'value_per_unit': ''},\n",
       " 'product_denomination': {'product': 'Dentelle de soie',\n",
       "  'product_orthographic': 'dentelle de soie',\n",
       "  'product_simplification': 'dentelle de soie',\n",
       "  'product_sitc': '6f',\n",
       "  'peche': '0',\n",
       "  'product_medicinales': 'not a medical product',\n",
       "  'product_RE_aggregate': 'Objets manufacturés',\n",
       "  'product_threesectors': 'Manufactures',\n",
       "  'product_threesectorsM': 'Produits manufacturés',\n",
       "  'product_hamburg': '',\n",
       "  'product_canada': \"Pas importé en France depuis l'Amérique avant 1763\",\n",
       "  'product_edentreaty': 'Soie',\n",
       "  'product_grains': 'Pas grain (0)',\n",
       "  'product_coton': 'not raw cotton',\n",
       "  'product_ulrich': 'out',\n",
       "  'product_coffee': 'Not coffee',\n",
       "  'product_porcelaine': 'Sans lien avec la porcelaine',\n",
       "  'product_v_glass_beads': 'out',\n",
       "  'product_revolutionempire': 'Dentelles',\n",
       "  'product_beaver': 'No link with beaver',\n",
       "  'product_type_textile': 'passementerie',\n",
       "  'product_luxe_dans_type': 'haut de gamme',\n",
       "  'product_luxe_dans_SITC': 'haut de gamme',\n",
       "  'product_sitc_FR': 'Filés ou tissés de soie et soie mélangée',\n",
       "  'product_sitc_EN': 'Silk threads and fabrics',\n",
       "  'product_sitc_simplEN': 'Silk threads and fabrics'},\n",
       " 'partner': {'partner': \"De l'Europe, y compris le Levant et la Barbarie et les États-Unis d'Amérique\",\n",
       "  'partner_orthographic': \"Europe (y compris le Levant, la Barbarie, et les États-Unis d'Amérique)\",\n",
       "  'partner_simplification': \"Europe (y compris le Levant, la Barbarie, et les États-Unis d'Amérique)\",\n",
       "  'partner_grouping': 'Divers',\n",
       "  'partner_obrien': '',\n",
       "  'partner_sourcename': 'Divers',\n",
       "  'partner_wars': 'Divers',\n",
       "  'partner_africa': 'Not Outre-mers'},\n",
       " 'localization': {'customs_region_grouping': '',\n",
       "  'customs_office': '',\n",
       "  'customs_region': ''},\n",
       " 'duty': {'duty_quantity': '',\n",
       "  'duty_quantity_unit': '',\n",
       "  'duty_by_unit': '',\n",
       "  'duty_total': '',\n",
       "  'duty_part_of_bundle': '',\n",
       "  'duty_remarks': ''},\n",
       " 'other_props': {'line_number': '177',\n",
       "  'needs_more_details': '0',\n",
       "  'absurd_observation': '',\n",
       "  'obsolete': 'non'}}"
      ]
     },
     "execution_count": 6,
     "metadata": {},
     "output_type": "execute_result"
    }
   ],
   "source": [
    "result = toflit_client.get_flows(\n",
    "    year=1792, \n",
    "    start_year=1789, \n",
    "    end_year=1789, \n",
    "    product_orthographic='dentelle de soie'\n",
    ")\n",
    "flow = result[0]\n",
    "# print(flow)\n",
    "\n",
    "nest_toflit18_flow(flow)"
   ]
  },
  {
   "cell_type": "code",
   "execution_count": null,
   "metadata": {},
   "outputs": [],
   "source": []
  }
 ],
 "metadata": {
  "kernelspec": {
   "display_name": "Python 3",
   "language": "python",
   "name": "python3"
  },
  "language_info": {
   "codemirror_mode": {
    "name": "ipython",
    "version": 3
   },
   "file_extension": ".py",
   "mimetype": "text/x-python",
   "name": "python",
   "nbconvert_exporter": "python",
   "pygments_lexer": "ipython3",
   "version": "3.8.5"
  }
 },
 "nbformat": 4,
 "nbformat_minor": 4
}
