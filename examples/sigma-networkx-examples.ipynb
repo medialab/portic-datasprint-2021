{
 "cells": [
  {
   "cell_type": "code",
   "execution_count": 1,
   "metadata": {},
   "outputs": [],
   "source": [
    "from poitousprint import Portic, Toflit\n",
    "import json\n",
    "import networkx as nx\n",
    "from ipysigma import Sigma\n",
    "\n",
    "portic_client = Portic()\n",
    "toflit_client = Toflit()\n",
    "\n",
    "# this function allows to map a value from a domain of min-max to another\n",
    "def map_value(value, domain_min, domain_max, range_min, range_max):\n",
    "    left_span = domain_max - domain_min\n",
    "    right_span = range_max - range_min\n",
    "\n",
    "    # Convert the left range into a 0-1 range (float)\n",
    "    scaled = float(value - domain_min) / float(left_span)\n",
    "\n",
    "    # Convert the 0-1 range into a value in the right range.\n",
    "    return range_min + (scaled * right_span)"
   ]
  },
  {
   "cell_type": "code",
   "execution_count": 2,
   "metadata": {},
   "outputs": [
    {
     "data": {
      "text/plain": [
       "{'partner': 'Petites iles',\n",
       " 'product': 'Bestiaux beuf',\n",
       " 'value': '15120',\n",
       " 'customs_office': \"Les Sables d'Olonne\",\n",
       " 'partner_simplification': 'Petites Îles'}"
      ]
     },
     "execution_count": 2,
     "metadata": {},
     "output_type": "execute_result"
    }
   ],
   "source": [
    "# naive toflit18 request\n",
    "flows = toflit_client.get_flows(\n",
    "    year=1789,\n",
    "    customs_region='La Rochelle', \n",
    "    params=[\n",
    "      \"product\",\n",
    "      \"partner\",\n",
    "      \"import\",\n",
    "      \"value\",\n",
    "      \"line\",\n",
    "      \"partner_simplification\",\n",
    "      \"customs_office\"\n",
    "\t]\n",
    ")\n",
    "flows[0]"
   ]
  },
  {
   "cell_type": "markdown",
   "metadata": {},
   "source": [
    "# Étape 1 : première expérimentation\n",
    "\n",
    "Cartographie d'un réseau bipartite entre les produits et les partenaires "
   ]
  },
  {
   "cell_type": "code",
   "execution_count": 3,
   "metadata": {},
   "outputs": [
    {
     "data": {
      "application/vnd.jupyter.widget-view+json": {
       "model_id": "0ef16021cab04763bad51cff69c9feba",
       "version_major": 2,
       "version_minor": 0
      },
      "text/plain": [
       "Sigma(data={'nodes': [('partner_Petites iles', {'type': 'partner', 'name': 'Petites iles', 'color': 'rgb(255, …"
      ]
     },
     "metadata": {},
     "output_type": "display_data"
    }
   ],
   "source": [
    "# créer un graphe\n",
    "Graph = nx.Graph()\n",
    "\n",
    "# créer des dict pour les deux types de noeuds et les liens\n",
    "products_uniq = {}\n",
    "partners_uniq = {}\n",
    "edges_uniq = {}\n",
    "# remplir les dicts\n",
    "for flow in flows:\n",
    "    partner = flow[\"partner\"]\n",
    "    product = flow[\"product\"]\n",
    "    partner_id = \"partner_\" + partner\n",
    "    product_id = \"product_\" + product\n",
    "    if product_id in products_uniq:\n",
    "        products_uniq[product_id] = {**products_uniq[product_id], \"size\": products_uniq[product_id][\"size\"] + 1}\n",
    "    else:\n",
    "       products_uniq[product_id] = {\n",
    "           \"type\": \"product\", \n",
    "           \"name\": product, \n",
    "           \"color\": \"rgb(0, 255, 0)\",\n",
    "           \"size\": 1\n",
    "       }\n",
    "    if partner_id in partners_uniq:\n",
    "        partners_uniq[partner_id] = {**partners_uniq[partner_id], \"size\": partners_uniq[partner_id][\"size\"] + 1}\n",
    "    else:\n",
    "       partners_uniq[partner_id] = {\n",
    "           \"type\": \"partner\", \n",
    "           \"name\": partner, \n",
    "           \"color\": \"rgb(255, 0, 0)\",\n",
    "           \"size\": 1\n",
    "       }\n",
    "    edge_footprint = partner_id + \"-\" + product_id\n",
    "    if edge_footprint in edges_uniq:\n",
    "        edges_uniq[edge_footprint][\"weight\"] += 1\n",
    "    else:\n",
    "        edges_uniq[edge_footprint] = {\n",
    "            \"source\": product_id,\n",
    "            \"target\": partner_id,\n",
    "            \"weight\": 1\n",
    "        }\n",
    "# concaténer les deux dicts de noeuds en un seul\n",
    "all_nodes = partners_uniq\n",
    "all_nodes.update(products_uniq)\n",
    "# applatir et formatter les noeuds\n",
    "nodes = []\n",
    "for key, node in all_nodes.items():\n",
    "    nodes.append((key, node))\n",
    "edges = []\n",
    "\n",
    "for key, edge in edges_uniq.items():\n",
    "    edges.append((edge[\"source\"], edge[\"target\"], {\"weight\": edge[\"weight\"]}))\n",
    "    \n",
    "domain_min_nodes_size = min([node[1]['size'] for node in nodes])\n",
    "domain_max_nodes_size = max([node[1]['size'] for node in nodes])\n",
    "range_in_nodes_size = [1, 10]\n",
    "nodes_size_mapping_params = [domain_min_nodes_size, domain_max_nodes_size, *range_in_nodes_size]\n",
    "\n",
    "for node in nodes:\n",
    "    node[1][\"size\"] = map_value(node[1][\"size\"], *nodes_size_mapping_params)\n",
    "    node[1][\"label\"] = node[1][\"name\"]\n",
    "\n",
    "\n",
    "Graph.add_nodes_from(nodes)\n",
    "Graph.add_edges_from(edges)\n",
    "\n",
    "Sigma(Graph)"
   ]
  },
  {
   "cell_type": "markdown",
   "metadata": {},
   "source": [
    "# Étape 2 : factoriser la fabrication de réseaux de coocurrence\n",
    "\n",
    "On fabrique une fonction générique qui permet de fabriquer un réseau à partir :\n",
    "\n",
    "1. d'une liste de dicts (ex. flux toflit18)\n",
    "1. d'une liste de deux propriétés à comparer"
   ]
  },
  {
   "cell_type": "code",
   "execution_count": 4,
   "metadata": {},
   "outputs": [],
   "source": [
    "def render_coocurrences_graph(data, key_1, key_2, params=None):\n",
    "    # créer un graphe\n",
    "    Graph = nx.Graph()\n",
    "\n",
    "    # créer des dict pour les deux types de noeuds et les liens\n",
    "    key1_uniq = {}\n",
    "    key2_uniq = {}\n",
    "    edges_uniq = {}\n",
    "    default_params = {\n",
    "        \"color_1\": \"rgb(0, 255, 0)\",\n",
    "        \"color_2\": \"rgb(255, 0, 0)\",\n",
    "        \"node_min_size\": 1,\n",
    "        \"node_max_size\": 10\n",
    "    }\n",
    "    final_params = default_params\n",
    "    if params is not None :\n",
    "        final_params = {\n",
    "            *default_params,\n",
    "            *params\n",
    "        }\n",
    "    \n",
    "    # remplir les dicts\n",
    "    for datum in data:\n",
    "        if key_1 in datum and key_2 in datum:\n",
    "            value_1 = datum[key_1] if datum[key_1] is not None else \"undefined\"\n",
    "            value_2 = datum[key_2] if datum[key_2] is not None else \"undefined\"\n",
    "            value_1_id = key_1 + \"_\" + value_1\n",
    "            value_2_id = key_2 + \"_\" + value_2\n",
    "            if value_1_id in key1_uniq:\n",
    "                key1_uniq[value_1_id] = {**key1_uniq[value_1_id], \"size\": key1_uniq[value_1_id][\"size\"] + 1}\n",
    "            else:\n",
    "               key1_uniq[value_1_id] = {\n",
    "                   \"type\": key_1, \n",
    "                   \"name\": value_1, \n",
    "                   \"color\": final_params[\"color_1\"],\n",
    "                   \"size\": 1\n",
    "               }\n",
    "            if value_2_id in key2_uniq:\n",
    "                key2_uniq[value_2_id] = {**key2_uniq[value_2_id], \"size\": key2_uniq[value_2_id][\"size\"] + 1}\n",
    "            else:\n",
    "               key2_uniq[value_2_id] = {\n",
    "                   \"type\": key_2, \n",
    "                   \"name\": value_2, \n",
    "                   \"color\": final_params[\"color_2\"],\n",
    "                   \"size\": 1\n",
    "               }\n",
    "            edge_footprint = value_1_id + \"-\" + value_2_id\n",
    "            if edge_footprint in edges_uniq:\n",
    "                edges_uniq[edge_footprint][\"weight\"] += 1\n",
    "            else:\n",
    "                edges_uniq[edge_footprint] = {\n",
    "                    \"source\": value_1_id,\n",
    "                    \"target\": value_2_id,\n",
    "                    \"weight\": 1\n",
    "                }\n",
    "    # concaténer les deux dicts de noeuds en un seul\n",
    "    all_nodes = key1_uniq\n",
    "    all_nodes.update(key2_uniq)\n",
    "    # applatir et formatter les noeuds\n",
    "    nodes = []\n",
    "    for key, node in all_nodes.items():\n",
    "        nodes.append((key, node))\n",
    "    edges = []\n",
    "\n",
    "    for key, edge in edges_uniq.items():\n",
    "        edges.append((edge[\"source\"], edge[\"target\"], {\"weight\": edge[\"weight\"]}))\n",
    "        \n",
    "    # ajuster la taille des noeuds en fonction d'un min et d'un max donnés\n",
    "    domain_min_nodes_size = min([node[1]['size'] for node in nodes])\n",
    "    domain_max_nodes_size = max([node[1]['size'] for node in nodes])\n",
    "    range_in_nodes_size = [final_params[\"node_min_size\"], final_params[\"node_max_size\"]]\n",
    "    nodes_size_mapping_params = [domain_min_nodes_size, domain_max_nodes_size, *range_in_nodes_size]\n",
    "\n",
    "    for node in nodes:\n",
    "        node[1][\"size\"] = map_value(node[1][\"size\"], *nodes_size_mapping_params)\n",
    "        node[1][\"label\"] = node[1][\"name\"]\n",
    "\n",
    "\n",
    "    Graph.add_nodes_from(nodes)\n",
    "    Graph.add_edges_from(edges)\n",
    "\n",
    "    return Sigma(Graph, start_layout=True)"
   ]
  },
  {
   "cell_type": "code",
   "execution_count": 5,
   "metadata": {},
   "outputs": [
    {
     "data": {
      "application/vnd.jupyter.widget-view+json": {
       "model_id": "54b3aba1e62f4340b4e1e45a5ff5bfa9",
       "version_major": 2,
       "version_minor": 0
      },
      "text/plain": [
       "Sigma(data={'nodes': [('product_Bestiaux beuf', {'type': 'product', 'name': 'Bestiaux beuf', 'color': 'rgb(0, …"
      ]
     },
     "metadata": {},
     "output_type": "display_data"
    }
   ],
   "source": [
    "render_coocurrences_graph(flows, \"product\", \"partner_simplification\")"
   ]
  },
  {
   "cell_type": "code",
   "execution_count": 6,
   "metadata": {},
   "outputs": [
    {
     "data": {
      "application/vnd.jupyter.widget-view+json": {
       "model_id": "04af1c1605e74c90b681da80cb8eacb5",
       "version_major": 2,
       "version_minor": 0
      },
      "text/plain": [
       "Sigma(data={'nodes': [('partner_Petites iles', {'type': 'partner', 'name': 'Petites iles', 'color': 'rgb(0, 25…"
      ]
     },
     "metadata": {},
     "output_type": "display_data"
    }
   ],
   "source": [
    "render_coocurrences_graph(flows, \"partner\", \"partner_simplification\")"
   ]
  },
  {
   "cell_type": "markdown",
   "metadata": {},
   "source": [
    "# Étape 3 : test avec PORTIC\n"
   ]
  },
  {
   "cell_type": "code",
   "execution_count": 7,
   "metadata": {},
   "outputs": [],
   "source": [
    "flows = portic_client.get_flows(year=1789)"
   ]
  },
  {
   "cell_type": "code",
   "execution_count": 8,
   "metadata": {},
   "outputs": [
    {
     "data": {
      "text/plain": [
       "{'travel_id': '0000138N- 07',\n",
       " 'distance_dep_dest': 221.509,\n",
       " 'distance_homeport_dep': None,\n",
       " 'departure': 'La Rochelle',\n",
       " 'departure_fr': 'La Rochelle',\n",
       " 'departure_en': 'La Rochelle',\n",
       " 'departure_uhgs_id': 'A0198999',\n",
       " 'departure_latitude': '46.166667',\n",
       " 'departure_longitude': '-1.15',\n",
       " 'departure_admiralty': 'La Rochelle',\n",
       " 'departure_province': 'Aunis',\n",
       " 'departure_states': '[{\"1749-1815\" : \"France\"}]',\n",
       " 'departure_substates': None,\n",
       " 'departure_state_1789_fr': 'France',\n",
       " 'departure_substate_1789_fr': None,\n",
       " 'departure_state_1789_en': 'France',\n",
       " 'departure_substate_1789_en': None,\n",
       " 'departure_ferme_direction': 'La Rochelle',\n",
       " 'departure_ferme_bureau': 'La Rochelle',\n",
       " 'departure_ferme_bureau_uncertainty': 0.0,\n",
       " 'departure_partner_balance_1789': None,\n",
       " 'departure_partner_balance_supp_1789': 'France',\n",
       " 'departure_partner_balance_1789_uncertainty': None,\n",
       " 'departure_partner_balance_supp_1789_uncertainty': 0,\n",
       " 'departure_shiparea': 'ACE-ROCH',\n",
       " 'departure_status': 'siège amirauté',\n",
       " 'departure_source_1787_available': True,\n",
       " 'departure_source_1789_available': True,\n",
       " 'departure_point': '0101000020110F000054C16EA11641FFC0ACD86784FE265641',\n",
       " 'departure_out_date': '1789=02=20',\n",
       " 'departure_action': 'Out',\n",
       " 'outdate_fixed': -5707411200000,\n",
       " 'departure_navstatus': 'PC-RF',\n",
       " 'departure_function': 'O',\n",
       " 'destination': 'Bordeaux',\n",
       " 'destination_fr': 'Bordeaux',\n",
       " 'destination_en': 'Bordeaux',\n",
       " 'destination_uhgs_id': 'A0180923',\n",
       " 'destination_latitude': '44.833333',\n",
       " 'destination_longitude': '-0.566667',\n",
       " 'destination_admiralty': 'Bordeaux',\n",
       " 'destination_province': 'Guyenne',\n",
       " 'destination_states': '[{\"1749-1815\" : \"France\"}]',\n",
       " 'destination_substates': None,\n",
       " 'destination_state_1789_fr': 'France',\n",
       " 'destination_substate_1789_fr': None,\n",
       " 'destination_state_1789_en': 'France',\n",
       " 'destination_substate_1789_en': None,\n",
       " 'destination_ferme_direction': None,\n",
       " 'destination_ferme_bureau': None,\n",
       " 'destination_ferme_bureau_uncertainty': None,\n",
       " 'destination_partner_balance_1789': None,\n",
       " 'destination_partner_balance_supp_1789': 'France',\n",
       " 'destination_partner_balance_1789_uncertainty': None,\n",
       " 'destination_partner_balance_supp_1789_uncertainty': 0,\n",
       " 'destination_shiparea': 'ACE-ROCH',\n",
       " 'destination_status': 'siège amirauté',\n",
       " 'destination_source_1787_available': True,\n",
       " 'destination_source_1789_available': True,\n",
       " 'destination_point': '0101000020110F00008E6AD69E22CDEEC01AD8B04E2E585541',\n",
       " 'destination_in_date': '1789>03>14',\n",
       " 'destination_action': 'In',\n",
       " 'indate_fixed': None,\n",
       " 'destination_navstatus': 'FC-RF',\n",
       " 'destination_function': 'T',\n",
       " 'ship_name': 'Marie',\n",
       " 'ship_id': '0000138N',\n",
       " 'tonnage': '36',\n",
       " 'tonnage_unit': 'tx',\n",
       " 'tonnage_class': '[21-50]',\n",
       " 'in_crew': None,\n",
       " 'flag': 'French',\n",
       " 'ship_flag_id': 'A0167415',\n",
       " 'ship_flag_standardized_fr': 'français',\n",
       " 'ship_flag_standardized_en': 'French',\n",
       " 'class': None,\n",
       " 'homeport': 'Moulon',\n",
       " 'homeport_uhgs_id': 'A0185628',\n",
       " 'homeport_latitude': None,\n",
       " 'homeport_longitude': None,\n",
       " 'homeport_admiralty': None,\n",
       " 'homeport_province': None,\n",
       " 'homeport_states': None,\n",
       " 'homeport_substates': None,\n",
       " 'homeport_status': None,\n",
       " 'homeport_shiparea': None,\n",
       " 'homeport_point': None,\n",
       " 'homeport_state_1789_fr': None,\n",
       " 'homeport_substate_1789_fr': None,\n",
       " 'homeport_state_1789_en': None,\n",
       " 'homeport_substate_1789_en': None,\n",
       " 'homeport_toponyme_fr': None,\n",
       " 'homeport_toponyme_en': None,\n",
       " 'source_entry': 'both-from',\n",
       " 'source_doc_id': '00342095',\n",
       " 'source_text': 'ANF, G5-132-2/1642',\n",
       " 'source_suite': 'G5',\n",
       " 'source_component': 'ANF, G5-132-2',\n",
       " 'source_number': 1642.0,\n",
       " 'source_other': None,\n",
       " 'source_main_port_uhgs_id': 'A0198999',\n",
       " 'source_main_port_toponyme': 'La Rochelle',\n",
       " 'source_subset': 'Poitou_1789',\n",
       " 'captain_id': '00000192',\n",
       " 'captain_name': 'Robert, Pierre',\n",
       " 'birthplace': None,\n",
       " 'status': None,\n",
       " 'citizenship': None,\n",
       " 'commodity_purpose': None,\n",
       " 'commodity_id': None,\n",
       " 'quantity': None,\n",
       " 'quantity_u': None,\n",
       " 'commodity_standardized': None,\n",
       " 'commodity_standardized_fr': None,\n",
       " 'commodity_permanent_coding': None,\n",
       " 'commodity_purpose2': None,\n",
       " 'commodity_id2': None,\n",
       " 'quantity2': None,\n",
       " 'quantity_u2': None,\n",
       " 'commodity_standardized2': None,\n",
       " 'commodity_standardized2_fr': None,\n",
       " 'commodity_permanent_coding2': None,\n",
       " 'commodity_purpose3': None,\n",
       " 'commodity_id3': None,\n",
       " 'quantity3': None,\n",
       " 'quantity_u3': None,\n",
       " 'commodity_standardized3': None,\n",
       " 'commodity_standardized3_fr': None,\n",
       " 'commodity_permanent_coding3': None,\n",
       " 'commodity_purpose4': None,\n",
       " 'commodity_id4': None,\n",
       " 'quantity4': None,\n",
       " 'quantity_u4': None,\n",
       " 'commodity_standardized4': None,\n",
       " 'commodity_standardized4_fr': None,\n",
       " 'commodity_permanent_coding4': None,\n",
       " 'all_cargos': None,\n",
       " 'tax_concept': 'Droit de congé français',\n",
       " 'payment_date': None,\n",
       " 'q01': None,\n",
       " 'q01_u': None,\n",
       " 'q02': '15.0',\n",
       " 'q02_u': None,\n",
       " 'q03': None,\n",
       " 'q03_u': None,\n",
       " 'all_taxes': [{'q01': None,\n",
       "   'q02': '15.0',\n",
       "   'q03': None,\n",
       "   'q01_u': None,\n",
       "   'q02_u': None,\n",
       "   'q03_u': None,\n",
       "   'tax_concept': 'Droit de congé français',\n",
       "   'payment_date': None,\n",
       "   'link_to_pointcall': '00342095'}],\n",
       " 'ship_uncertainity': 0,\n",
       " 'tonnage_uncertainity': 0,\n",
       " 'flag_uncertainity': -2,\n",
       " 'homeport_uncertainity': 0,\n",
       " 'departure_uncertainity': 0,\n",
       " 'destination_uncertainity': -1,\n",
       " 'captain_uncertainity': 0,\n",
       " 'travel_uncertainity': -1,\n",
       " 'cargo_uncertainity': -4,\n",
       " 'taxe_uncertainity': 0,\n",
       " 'pointcall_outdate_uncertainity': -1,\n",
       " 'departure_pkid': 85817,\n",
       " 'destination_pkid': 86338,\n",
       " 'travel_rank': 7,\n",
       " 'distance_dep_dest_miles': '103',\n",
       " 'distance_homeport_dep_miles': None,\n",
       " 'subject': '0000138N',\n",
       " 'subject_order': 7}"
      ]
     },
     "execution_count": 8,
     "metadata": {},
     "output_type": "execute_result"
    }
   ],
   "source": [
    "flows[0]"
   ]
  },
  {
   "cell_type": "code",
   "execution_count": 9,
   "metadata": {},
   "outputs": [
    {
     "data": {
      "text/plain": [
       "8360"
      ]
     },
     "execution_count": 9,
     "metadata": {},
     "output_type": "execute_result"
    }
   ],
   "source": [
    "len(flows)"
   ]
  },
  {
   "cell_type": "code",
   "execution_count": 10,
   "metadata": {},
   "outputs": [
    {
     "data": {
      "application/vnd.jupyter.widget-view+json": {
       "model_id": "b74e3976dc7340d1999ebaa09e7629de",
       "version_major": 2,
       "version_minor": 0
      },
      "text/plain": [
       "Sigma(data={'nodes': [('departure_fr_La Rochelle', {'type': 'departure_fr', 'name': 'La Rochelle', 'color': 'r…"
      ]
     },
     "metadata": {},
     "output_type": "display_data"
    }
   ],
   "source": [
    "render_coocurrences_graph(flows, \"departure_fr\", \"destination_fr\")"
   ]
  },
  {
   "cell_type": "code",
   "execution_count": null,
   "metadata": {},
   "outputs": [],
   "source": [
    "render_coocurrences_graph(flows, \"homeport_toponyme_fr\", \"destination_fr\")"
   ]
  },
  {
   "cell_type": "markdown",
   "metadata": {},
   "source": [
    "# Étape 4 : test des croisements"
   ]
  },
  {
   "cell_type": "code",
   "execution_count": 11,
   "metadata": {},
   "outputs": [
    {
     "data": {
      "application/vnd.jupyter.widget-view+json": {
       "model_id": "76cf7b58bf4d4ab2b1bc5dfa67a714cf",
       "version_major": 2,
       "version_minor": 0
      },
      "text/plain": [
       "Sigma(data={'nodes': [('departure_La Rochelle', {'type': 'departure', 'name': 'La Rochelle', 'color': 'rgb(0, …"
      ]
     },
     "metadata": {},
     "output_type": "display_data"
    }
   ],
   "source": [
    "def resolve_flow_partner(flow):\n",
    "    res = flow.copy()\n",
    "    partner = flow['destination_partner_balance_1789']\n",
    "    if flow is None and 'destination_partner_balance_supp_1789' in flow:\n",
    "        partner = flow['destination_partner_balance_supp_1789']\n",
    "    if flow is None:\n",
    "        partner = 'non attribué'\n",
    "    res['partner'] = partner\n",
    "    return res\n",
    "    \n",
    "flows_with_toflit18_partner = [resolve_flow_partner(flow) for flow in flows if flow[\"source_subset\"] == \"Poitou_1789\"]\n",
    "\n",
    "render_coocurrences_graph(flows_with_toflit18_partner, \"departure\", \"partner\")"
   ]
  },
  {
   "cell_type": "code",
   "execution_count": 12,
   "metadata": {},
   "outputs": [
    {
     "data": {
      "text/plain": [
       "{'Bayonne',\n",
       " 'Dunkerque',\n",
       " 'Espagne',\n",
       " 'Etats-Unis',\n",
       " 'Hollande',\n",
       " 'Lorient',\n",
       " None,\n",
       " 'Petites Iles'}"
      ]
     },
     "execution_count": 12,
     "metadata": {},
     "output_type": "execute_result"
    }
   ],
   "source": [
    "unique_partners = set([t[\"partner\"] for t in flows_with_toflit18_partner])\n",
    "unique_partners"
   ]
  },
  {
   "cell_type": "code",
   "execution_count": 13,
   "metadata": {},
   "outputs": [
    {
     "data": {
      "application/vnd.jupyter.widget-view+json": {
       "model_id": "3b915b7e73c54ba9a5da83631ae892ff",
       "version_major": 2,
       "version_minor": 0
      },
      "text/plain": [
       "Sigma(data={'nodes': [('departure_Rochefort', {'type': 'departure', 'name': 'Rochefort', 'color': 'rgb(0, 255,…"
      ]
     },
     "metadata": {},
     "output_type": "display_data"
    }
   ],
   "source": [
    "# test sans la france\n",
    "flows_with_toflit18_partner=[flow for flow in flows_with_toflit18_partner if flow[\"partner\"] != \"France\" and flow[\"partner\"] is not None]\n",
    "render_coocurrences_graph(flows_with_toflit18_partner, \"departure\", \"partner\")"
   ]
  }
 ],
 "metadata": {
  "kernelspec": {
   "display_name": "Python 3",
   "language": "python",
   "name": "python3"
  },
  "language_info": {
   "codemirror_mode": {
    "name": "ipython",
    "version": 3
   },
   "file_extension": ".py",
   "mimetype": "text/x-python",
   "name": "python",
   "nbconvert_exporter": "python",
   "pygments_lexer": "ipython3",
   "version": "3.8.5"
  }
 },
 "nbformat": 4,
 "nbformat_minor": 4
}
