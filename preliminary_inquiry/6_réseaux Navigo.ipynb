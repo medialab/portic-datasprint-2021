{
 "cells": [
  {
   "cell_type": "markdown",
   "metadata": {},
   "source": [
    "## Enquête Navigo\n",
    "\n",
    "#### Objectif : visualisation des données disponibles et avoir une première vue d'ensemble\n",
    "- réseaux bipartites departs / destinations\n",
    "- réseaux monopartites entre ports\n",
    "=> on peut colorer ces réseaux pour identifier les ports concernés par le sprint, ou bien filtrer les données pour ne construire que les noeuds et liens du réseau qui concernent le sprint"
   ]
  },
  {
   "cell_type": "code",
   "execution_count": 1,
   "metadata": {},
   "outputs": [],
   "source": [
    "from poitousprint import Portic, Toflit, get_pointcalls_port_as_toflit_partner, get_flows_or_travels_port_as_toflit_partner\n",
    "import json\n",
    "import networkx as nx\n",
    "from ipysigma import Sigma\n",
    "\n",
    "portic_client = Portic()\n",
    "toflit_client = Toflit()\n",
    "\n",
    "# this function allows to map a value from a domain of min-max to another\n",
    "def map_value(value, domain_min, domain_max, range_min, range_max):\n",
    "    left_span = domain_max - domain_min\n",
    "    right_span = range_max - range_min\n",
    "\n",
    "    # Convert the left range into a 0-1 range (float)\n",
    "    scaled = float(value - domain_min) / float(left_span)\n",
    "\n",
    "    # Convert the 0-1 range into a value in the right range.\n",
    "    return range_min + (scaled * right_span)"
   ]
  },
  {
   "cell_type": "markdown",
   "metadata": {},
   "source": [
    "#### Fonctions génériques qui permettent de fabriquer des réseaux bipartite et monopartite à partir :\n",
    "\n",
    "1. d'une liste de dicts (ex. flux toflit18)\n",
    "2. d'une liste de deux propriétés à comparer"
   ]
  },
  {
   "cell_type": "code",
   "execution_count": 2,
   "metadata": {},
   "outputs": [],
   "source": [
    "def render_coocurrences_graph(data, key_1, key_2, params=None):\n",
    "    # créer un graphe\n",
    "    Graph = nx.Graph()\n",
    "\n",
    "    # créer des dict pour les deux types de noeuds et les liens\n",
    "    key1_uniq = {}\n",
    "    key2_uniq = {}\n",
    "    edges_uniq = {}\n",
    "    default_params = {\n",
    "        \"color_1\": \"rgb(0, 255, 0)\", # noeuds de type 1 en vert\n",
    "        \"color_2\": \"rgb(255, 0, 0)\", # noeuds de type 2 en rouge\n",
    "        \"node_min_size\": 1,\n",
    "        \"node_max_size\": 10\n",
    "    }\n",
    "    final_params = default_params\n",
    "    if params is not None :\n",
    "        final_params = {\n",
    "            *default_params,\n",
    "            *params\n",
    "        }\n",
    "    \n",
    "    # remplir les dicts\n",
    "    for datum in data:\n",
    "        if key_1 in datum and key_2 in datum:\n",
    "            value_1 = datum[key_1] if datum[key_1] is not None else \"undefined\"\n",
    "            value_2 = datum[key_2] if datum[key_2] is not None else \"undefined\"\n",
    "            value_1_id = key_1 + \"_\" + value_1\n",
    "            value_2_id = key_2 + \"_\" + value_2\n",
    "            if value_1_id in key1_uniq:\n",
    "                key1_uniq[value_1_id] = {**key1_uniq[value_1_id], \"size\": key1_uniq[value_1_id][\"size\"] + 1}\n",
    "            else:\n",
    "               key1_uniq[value_1_id] = {\n",
    "                   \"type\": key_1, \n",
    "                   \"name\": value_1, \n",
    "                   \"color\": final_params[\"color_1\"],\n",
    "                   \"size\": 1\n",
    "               }\n",
    "            if value_2_id in key2_uniq:\n",
    "                key2_uniq[value_2_id] = {**key2_uniq[value_2_id], \"size\": key2_uniq[value_2_id][\"size\"] + 1}\n",
    "            else:\n",
    "               key2_uniq[value_2_id] = {\n",
    "                   \"type\": key_2, \n",
    "                   \"name\": value_2, \n",
    "                   \"color\": final_params[\"color_2\"],\n",
    "                   \"size\": 1\n",
    "               }\n",
    "            edge_footprint = value_1_id + \"-\" + value_2_id\n",
    "            if edge_footprint in edges_uniq:\n",
    "                edges_uniq[edge_footprint][\"weight\"] += 1\n",
    "            else:\n",
    "                edges_uniq[edge_footprint] = {\n",
    "                    \"source\": value_1_id,\n",
    "                    \"target\": value_2_id,\n",
    "                    \"weight\": 1\n",
    "                }\n",
    "    # concaténer les deux dicts de noeuds en un seul\n",
    "    all_nodes = key1_uniq\n",
    "    all_nodes.update(key2_uniq)\n",
    "    # applatir et formatter les noeuds\n",
    "    nodes = []\n",
    "    for key, node in all_nodes.items():\n",
    "        nodes.append((key, node))\n",
    "    edges = []\n",
    "\n",
    "    for key, edge in edges_uniq.items():\n",
    "        edges.append((edge[\"source\"], edge[\"target\"], {\"weight\": edge[\"weight\"]}))\n",
    "        \n",
    "    # ajuster la taille des noeuds en fonction d'un min et d'un max donnés\n",
    "    domain_min_nodes_size = min([node[1]['size'] for node in nodes])\n",
    "    domain_max_nodes_size = max([node[1]['size'] for node in nodes])\n",
    "    range_in_nodes_size = [final_params[\"node_min_size\"], final_params[\"node_max_size\"]]\n",
    "    nodes_size_mapping_params = [domain_min_nodes_size, domain_max_nodes_size, *range_in_nodes_size]\n",
    "\n",
    "    for node in nodes:\n",
    "        node[1][\"size\"] = map_value(node[1][\"size\"], *nodes_size_mapping_params)\n",
    "        node[1][\"label\"] = node[1][\"name\"]\n",
    "\n",
    "\n",
    "    Graph.add_nodes_from(nodes)\n",
    "    Graph.add_edges_from(edges)\n",
    "\n",
    "    return Sigma(Graph, start_layout=True)"
   ]
  },
  {
   "cell_type": "code",
   "execution_count": 34,
   "metadata": {},
   "outputs": [],
   "source": [
    "def render_monopartite_graph_port_exchanges(data, key_1, key_2, params=None): # data could be Navigo flows or travels \n",
    "\n",
    "    # créer un graphe\n",
    "    Graph = nx.Graph()\n",
    "\n",
    "    # créer des dict pour l'unique type de noeuds et les liens\n",
    "    key_uniq = {}\n",
    "    edges_uniq = {}\n",
    "    default_params = {\n",
    "        \"color_1\": \"rgb(0, 255, 0)\", # noeuds de type 1 en vert\n",
    "        \"color_2\": \"rgb(255, 0, 0)\", # noeuds de type 2 en rouge\n",
    "        \"node_min_size\": 1,\n",
    "        \"node_max_size\": 10\n",
    "    }\n",
    "    final_params = default_params\n",
    "    if params is not None :\n",
    "        final_params = {\n",
    "            *default_params,\n",
    "            *params\n",
    "        }\n",
    "        \n",
    "    # remplir les dicts\n",
    "    for datum in data:\n",
    "        if key_1 in datum and key_2 in datum:\n",
    "            value_1 = datum[key_1] if datum[key_1] is not None else \"undefined\"\n",
    "            value_2 = datum[key_2] if datum[key_2] is not None else \"undefined\"\n",
    "            value_1_id = value_1_id = key_1 + \"_\" + value_1\n",
    "            value_2_id = key_2 + \"_\" + value_2\n",
    "\n",
    "            if value_1_id in key_uniq:\n",
    "                key_uniq[value_1_id] = {**key_uniq[value_1_id], \"size\": key_uniq[value_1_id][\"size\"] + 1}\n",
    "            else:\n",
    "               key_uniq[value_1_id] = {\n",
    "                   \"type\": key_1, \n",
    "                   \"label\": value_1, \n",
    "                   \"color\": \"rgb(0, 255, 0)\",\n",
    "                   \"size\": 1\n",
    "               }\n",
    "\n",
    "            if value_2_id in key_uniq:\n",
    "                key_uniq[value_2_id] = {**key_uniq[value_2_id], \"size\": key_uniq[value_2_id][\"size\"] + 1}\n",
    "            else:\n",
    "               key_uniq[value_2_id] = {\n",
    "                   \"type\": key_2, \n",
    "                   \"label\": value_2, \n",
    "                   \"color\": \"rgb(0, 255, 0)\",\n",
    "                   \"size\": 1\n",
    "               }\n",
    "\n",
    "            edge_footprint = value_1_id + \"-\" + value_2_id\n",
    "\n",
    "            if edge_footprint in edges_uniq:\n",
    "                edges_uniq[edge_footprint][\"weight\"] += 1\n",
    "            else:\n",
    "                edges_uniq[edge_footprint] = {\n",
    "                    \"source\": value_1_id,\n",
    "                    \"target\": value_2_id,\n",
    "                    \"weight\": 1\n",
    "                }\n",
    "    \n",
    "    \n",
    "    # concaténer les deux dicts de noeuds en un seul => obsolète dans ce cas\n",
    "    all_nodes = key_uniq\n",
    "    # all_nodes.update(# autre dict de noeuds )\n",
    "\n",
    "    # applatir et formatter les noeuds\n",
    "    nodes = []\n",
    "    for key, node in all_nodes.items():\n",
    "        nodes.append((key, node))\n",
    "    edges = []\n",
    "\n",
    "    for key, edge in edges_uniq.items():\n",
    "        edges.append((edge[\"source\"], edge[\"target\"], {\"weight\": edge[\"weight\"]}))\n",
    "\n",
    "    domain_min_nodes_size = min([node[1]['size'] for node in nodes])\n",
    "    domain_max_nodes_size = max([node[1]['size'] for node in nodes])\n",
    "    range_in_nodes_size = [1, 10]\n",
    "    nodes_size_mapping_params = [domain_min_nodes_size, domain_max_nodes_size, *range_in_nodes_size]\n",
    "\n",
    "    for node in nodes:\n",
    "        node[1][\"size\"] = map_value(node[1][\"size\"], *nodes_size_mapping_params)\n",
    "        # node[1][\"label\"] = node[1][\"name\"]\n",
    "    \n",
    "    Graph.add_nodes_from(nodes)\n",
    "    Graph.add_edges_from(edges)\n",
    "\n",
    "    return Sigma(Graph, start_layout=True)"
   ]
  },
  {
   "cell_type": "markdown",
   "metadata": {},
   "source": [
    "# 0. Je vais chercher les pointcalls / flows / travels du sprint (côté Navigo) pour nourrir mes réseaux"
   ]
  },
  {
   "cell_type": "code",
   "execution_count": 3,
   "metadata": {},
   "outputs": [],
   "source": [
    "pointcalls_datasprint = portic_client.get_pointcalls(\n",
    "    year =1789,\n",
    "    source_subset = 'Poitou_1789')\n",
    "\n",
    "pointcalls_with_toflit_partners = get_pointcalls_port_as_toflit_partner(pointcalls_datasprint, 'partner_grouping')"
   ]
  },
  {
   "cell_type": "code",
   "execution_count": 4,
   "metadata": {},
   "outputs": [
    {
     "data": {
      "text/plain": [
       "{'pkid': 93362,\n",
       " 'record_id': '00349916',\n",
       " 'pointcall': 'Arzon',\n",
       " 'pointcall_uhgs_id': 'A0145524',\n",
       " 'toponyme_fr': 'Arzon',\n",
       " 'toponyme_en': 'Arzon',\n",
       " 'latitude': '47.549033',\n",
       " 'longitude': '-2.893367',\n",
       " 'pointcall_admiralty': 'Vannes',\n",
       " 'pointcall_province': 'Bretagne',\n",
       " 'pointcall_states': '[{\"1749-1815\" : \"France\"}]',\n",
       " 'pointcall_substates': None,\n",
       " 'pointcall_states_en': '[{\"1749-1815\" : \"France\"}]',\n",
       " 'pointcall_substates_en': None,\n",
       " 'state_1789_fr': 'France',\n",
       " 'state_1789_en': 'France',\n",
       " 'substate_1789_fr': None,\n",
       " 'substate_1789_en': None,\n",
       " 'source_1787_available': False,\n",
       " 'source_1789_available': False,\n",
       " 'pointcall_status': None,\n",
       " 'shiparea': 'ACE-IROI',\n",
       " 'pointcall_point': '0101000020110F0000D5408190A0A813C166F399CFC6025741',\n",
       " 'ferme_direction': None,\n",
       " 'ferme_bureau': None,\n",
       " 'ferme_bureau_uncertainty': None,\n",
       " 'partner_balance_1789': None,\n",
       " 'partner_balance_supp_1789': 'France',\n",
       " 'partner_balance_1789_uncertainty': None,\n",
       " 'partner_balance_supp_1789_uncertainty': 0.0,\n",
       " 'pointcall_out_date': None,\n",
       " 'pointcall_action': 'In',\n",
       " 'outdate_fixed': None,\n",
       " 'pointcall_in_date': '1789>05>26',\n",
       " 'indate_fixed': None,\n",
       " 'net_route_marker': 'A',\n",
       " 'pointcall_function': 'T',\n",
       " 'navigo_status': 'FC-RF',\n",
       " 'ship_name': 'Sainte Anne',\n",
       " 'ship_id': '0012865N',\n",
       " 'tonnage': '7',\n",
       " 'tonnage_unit': 'tx',\n",
       " 'flag': 'French',\n",
       " 'class': None,\n",
       " 'ship_flag_id': 'A0167415',\n",
       " 'in_crew': None,\n",
       " 'homeport': 'Arzon',\n",
       " 'homeport_uhgs_id': 'A0145524',\n",
       " 'homeport_toponyme_fr': 'Arzon',\n",
       " 'homeport_toponyme_en': 'Arzon',\n",
       " 'homeport_latitude': '47.549033',\n",
       " 'homeport_longitude': '-2.893367',\n",
       " 'homeport_admiralty': 'Vannes',\n",
       " 'homeport_province': 'Bretagne',\n",
       " 'homeport_states': '[{\"1749-1815\" : \"France\"}]',\n",
       " 'homeport_substates': None,\n",
       " 'homeport_states_en': '[{\"1749-1815\" : \"France\"}]',\n",
       " 'homeport_substates_en': None,\n",
       " 'homeport_state_1789_fr': 'France',\n",
       " 'homeport_state_1789_en': 'France',\n",
       " 'homeport_substate_1789_fr': None,\n",
       " 'homeport_substate_1789_en': None,\n",
       " 'homeport_source_1787_available': False,\n",
       " 'homeport_source_1789_available': False,\n",
       " 'homeport_status': None,\n",
       " 'homeport_shiparea': 'ACE-IROI',\n",
       " 'homeport_point': 'SRID=3857;POINT(-322088.141118062 6032155.24377141)',\n",
       " 'homeport_ferme_direction': None,\n",
       " 'homeport_ferme_bureau': None,\n",
       " 'homeport_ferme_bureau_uncertainty': None,\n",
       " 'homeport_partner_balance_1789': None,\n",
       " 'homeport_partner_balance_supp_1789': 'France',\n",
       " 'homeport_partner_balance_1789_uncertainty': None,\n",
       " 'homeport_partner_balance_supp_1789_uncertainty': 0.0,\n",
       " 'source_doc_id': '00340015',\n",
       " 'source_text': 'ANF, G5-91/9370',\n",
       " 'source_suite': 'G5',\n",
       " 'source_component': 'ANF, G5-91',\n",
       " 'source_number': 9370.0,\n",
       " 'source_other': None,\n",
       " 'source_main_port_uhgs_id': 'A0199508',\n",
       " 'source_main_port_toponyme': 'La Flotte en Ré',\n",
       " 'source_subset': 'Poitou_1789',\n",
       " 'captain_id': '00012789',\n",
       " 'captain_name': 'Rouallec, François',\n",
       " 'birthplace': None,\n",
       " 'status': None,\n",
       " 'citizenship': None,\n",
       " 'commodity_purpose': 'vin',\n",
       " 'commodity_id': '00000043',\n",
       " 'quantity': None,\n",
       " 'quantity_u': None,\n",
       " 'commodity_standardized': 'Wine',\n",
       " 'commodity_standardized_fr': 'Vin',\n",
       " 'commodity_permanent_coding': 'ID-FFBxxx-JF-FAAAxx-FBxx',\n",
       " 'all_cargos': [{'quantity': None,\n",
       "   'quantity_u': None,\n",
       "   'commodity_id': '00000043',\n",
       "   'commodity_purpose': 'vin',\n",
       "   'link_to_pointcall': '00340015',\n",
       "   'commodity_standardized_en': 'Wine',\n",
       "   'commodity_standardized_fr': 'Vin',\n",
       "   'commodity_permanent_coding': 'ID-FFBxxx-JF-FAAAxx-FBxx'}],\n",
       " 'tax_concept': 'Droit de congé français',\n",
       " 'payment_date': None,\n",
       " 'q01': None,\n",
       " 'q01_u': None,\n",
       " 'q02': '10.0',\n",
       " 'q02_u': None,\n",
       " 'q03': None,\n",
       " 'q03_u': None,\n",
       " 'all_taxes': [{'q01': None,\n",
       "   'q02': '10.0',\n",
       "   'q03': None,\n",
       "   'q01_u': None,\n",
       "   'q02_u': None,\n",
       "   'q03_u': None,\n",
       "   'tax_concept': 'Droit de congé français',\n",
       "   'payment_date': None,\n",
       "   'link_to_pointcall': '00340015'}],\n",
       " 'ship_uncertainity': 0,\n",
       " 'tonnage_uncertainity': 0,\n",
       " 'flag_uncertainity': -2,\n",
       " 'homeport_uncertainity': 0,\n",
       " 'pointcall_uncertainity': -1,\n",
       " 'captain_uncertainity': 0,\n",
       " 'cargo_uncertainity': 0,\n",
       " 'taxe_uncertainity': 0,\n",
       " 'pointcall_in_date2': '1789=05=26',\n",
       " 'pointcall_out_date2': None,\n",
       " 'date_fixed': None,\n",
       " 'pointcall_rankfull': 15,\n",
       " 'ship_flag_standardized_fr': 'français',\n",
       " 'ship_flag_standardized_en': 'French',\n",
       " 'tonnage_class': '[1-20]',\n",
       " 'commodity_purpose2': None,\n",
       " 'commodity_id2': None,\n",
       " 'quantity2': None,\n",
       " 'quantity_u2': None,\n",
       " 'commodity_standardized2': None,\n",
       " 'commodity_standardized2_fr': None,\n",
       " 'commodity_permanent_coding2': None,\n",
       " 'commodity_purpose3': None,\n",
       " 'commodity_id3': None,\n",
       " 'quantity3': None,\n",
       " 'quantity_u3': None,\n",
       " 'commodity_standardized3': None,\n",
       " 'commodity_standardized3_fr': None,\n",
       " 'commodity_permanent_coding3': None,\n",
       " 'commodity_purpose4': None,\n",
       " 'commodity_id4': None,\n",
       " 'quantity4': None,\n",
       " 'quantity_u4': None,\n",
       " 'commodity_standardized4': None,\n",
       " 'commodity_standardized4_fr': None,\n",
       " 'commodity_permanent_coding4': None,\n",
       " 'data_block_leader_marker': 'T',\n",
       " 'pointcall_outdate_uncertainity': -1,\n",
       " 'shipclass_uncertainity': -4,\n",
       " 'birthplace_uhgs_id_uncertainity': -4,\n",
       " 'birthplace_uncertainity': -4,\n",
       " 'citizenship_uncertainity': -4,\n",
       " 'birthplace_uhgs_id': None,\n",
       " 'pointcall_as_toflit_partner': 'France'}"
      ]
     },
     "execution_count": 4,
     "metadata": {},
     "output_type": "execute_result"
    }
   ],
   "source": [
    "pointcalls_with_toflit_partners[0]"
   ]
  },
  {
   "cell_type": "code",
   "execution_count": 5,
   "metadata": {},
   "outputs": [
    {
     "data": {
      "text/plain": [
       "13829"
      ]
     },
     "execution_count": 5,
     "metadata": {},
     "output_type": "execute_result"
    }
   ],
   "source": [
    "len(pointcalls_datasprint)"
   ]
  },
  {
   "cell_type": "code",
   "execution_count": 7,
   "metadata": {},
   "outputs": [],
   "source": [
    "flows_datasprint = portic_client.get_flows(\n",
    "        ports = ['A1964694', # je fonctionne avec tous les UHGS_id des ports associés à la direction des fermes de La Rochelle (voir fichier aligenement localités dans le drive : Noirmoutier et Ile de Bouin sont pris en compte)\n",
    "                'A0171758',\n",
    "                'A0136930',\n",
    "                'A0196496',\n",
    "                'A0198999',\n",
    "                'A0137148',\n",
    "                'A0127055',\n",
    "                'A0133403',\n",
    "                'A0213721',\n",
    "                'A0199508',\n",
    "                'A0148208',\n",
    "                'A0141325',\n",
    "                'A0138533',\n",
    "                'A1964982',\n",
    "                'A0186515',\n",
    "                'A0124809',\n",
    "                'A1964767',\n",
    "                'A0172590',\n",
    "                'A0181608',\n",
    "                'A0165077',\n",
    "                'A0169240',\n",
    "                'A0165056',\n",
    "                'A1963997',\n",
    "                'A0136403',\n",
    "                'A0195938',\n",
    "                'A0122971',\n",
    "                'A0207992'], # sinon on devrait pouvoir fonctionner avec source_subset = 'Poitou_1789' mais pour l'instant ne fonctionne pas pour moi\n",
    "    year = 1789)\n",
    "\n",
    "# cette fonction ajoute les attributs \"departure_fr_as_toflit_partner\" et \"destination_fr_as_toflit_partner\" à un flow ou travel navigo (à perfectionner => pour l'instant elle n'associe pas de partenaire aux ports Etrangers du sprint, et ne semble fonctionner que pour la France ...)\n",
    "flows_with_toflit_partners = get_flows_or_travels_port_as_toflit_partner(flows_datasprint, 'partner_grouping')"
   ]
  },
  {
   "cell_type": "code",
   "execution_count": 8,
   "metadata": {},
   "outputs": [
    {
     "data": {
      "text/plain": [
       "{'travel_id': '0000138N- 07',\n",
       " 'distance_dep_dest': 221.509,\n",
       " 'distance_homeport_dep': None,\n",
       " 'departure': 'La Rochelle',\n",
       " 'departure_fr': 'La Rochelle',\n",
       " 'departure_en': 'La Rochelle',\n",
       " 'departure_uhgs_id': 'A0198999',\n",
       " 'departure_latitude': '46.166667',\n",
       " 'departure_longitude': '-1.15',\n",
       " 'departure_admiralty': 'La Rochelle',\n",
       " 'departure_province': 'Aunis',\n",
       " 'departure_states': '[{\"1749-1815\" : \"France\"}]',\n",
       " 'departure_substates': None,\n",
       " 'departure_state_1789_fr': 'France',\n",
       " 'departure_substate_1789_fr': None,\n",
       " 'departure_state_1789_en': 'France',\n",
       " 'departure_substate_1789_en': None,\n",
       " 'departure_ferme_direction': 'La Rochelle',\n",
       " 'departure_ferme_bureau': 'La Rochelle',\n",
       " 'departure_ferme_bureau_uncertainty': 0.0,\n",
       " 'departure_partner_balance_1789': None,\n",
       " 'departure_partner_balance_supp_1789': 'France',\n",
       " 'departure_partner_balance_1789_uncertainty': None,\n",
       " 'departure_partner_balance_supp_1789_uncertainty': 0,\n",
       " 'departure_shiparea': 'ACE-ROCH',\n",
       " 'departure_status': 'siège amirauté',\n",
       " 'departure_source_1787_available': True,\n",
       " 'departure_source_1789_available': True,\n",
       " 'departure_point': '0101000020110F000054C16EA11641FFC0ACD86784FE265641',\n",
       " 'departure_out_date': '1789=02=20',\n",
       " 'departure_action': 'Out',\n",
       " 'outdate_fixed': -5707411200000,\n",
       " 'departure_navstatus': 'PC-RF',\n",
       " 'departure_function': 'O',\n",
       " 'destination': 'Bordeaux',\n",
       " 'destination_fr': 'Bordeaux',\n",
       " 'destination_en': 'Bordeaux',\n",
       " 'destination_uhgs_id': 'A0180923',\n",
       " 'destination_latitude': '44.833333',\n",
       " 'destination_longitude': '-0.566667',\n",
       " 'destination_admiralty': 'Bordeaux',\n",
       " 'destination_province': 'Guyenne',\n",
       " 'destination_states': '[{\"1749-1815\" : \"France\"}]',\n",
       " 'destination_substates': None,\n",
       " 'destination_state_1789_fr': 'France',\n",
       " 'destination_substate_1789_fr': None,\n",
       " 'destination_state_1789_en': 'France',\n",
       " 'destination_substate_1789_en': None,\n",
       " 'destination_ferme_direction': None,\n",
       " 'destination_ferme_bureau': None,\n",
       " 'destination_ferme_bureau_uncertainty': None,\n",
       " 'destination_partner_balance_1789': None,\n",
       " 'destination_partner_balance_supp_1789': 'France',\n",
       " 'destination_partner_balance_1789_uncertainty': None,\n",
       " 'destination_partner_balance_supp_1789_uncertainty': 0,\n",
       " 'destination_shiparea': 'ACE-ROCH',\n",
       " 'destination_status': 'siège amirauté',\n",
       " 'destination_source_1787_available': True,\n",
       " 'destination_source_1789_available': True,\n",
       " 'destination_point': '0101000020110F00008E6AD69E22CDEEC01AD8B04E2E585541',\n",
       " 'destination_in_date': '1789>03>14',\n",
       " 'destination_action': 'In',\n",
       " 'indate_fixed': None,\n",
       " 'destination_navstatus': 'FC-RF',\n",
       " 'destination_function': 'T',\n",
       " 'ship_name': 'Marie',\n",
       " 'ship_id': '0000138N',\n",
       " 'tonnage': '36',\n",
       " 'tonnage_unit': 'tx',\n",
       " 'tonnage_class': '[21-50]',\n",
       " 'in_crew': None,\n",
       " 'flag': 'French',\n",
       " 'ship_flag_id': 'A0167415',\n",
       " 'ship_flag_standardized_fr': 'français',\n",
       " 'ship_flag_standardized_en': 'French',\n",
       " 'class': None,\n",
       " 'homeport': 'Moulon',\n",
       " 'homeport_uhgs_id': 'A0185628',\n",
       " 'homeport_latitude': None,\n",
       " 'homeport_longitude': None,\n",
       " 'homeport_admiralty': None,\n",
       " 'homeport_province': None,\n",
       " 'homeport_states': None,\n",
       " 'homeport_substates': None,\n",
       " 'homeport_status': None,\n",
       " 'homeport_shiparea': None,\n",
       " 'homeport_point': None,\n",
       " 'homeport_state_1789_fr': None,\n",
       " 'homeport_substate_1789_fr': None,\n",
       " 'homeport_state_1789_en': None,\n",
       " 'homeport_substate_1789_en': None,\n",
       " 'homeport_toponyme_fr': None,\n",
       " 'homeport_toponyme_en': None,\n",
       " 'source_entry': 'both-from',\n",
       " 'source_doc_id': '00342095',\n",
       " 'source_text': 'ANF, G5-132-2/1642',\n",
       " 'source_suite': 'G5',\n",
       " 'source_component': 'ANF, G5-132-2',\n",
       " 'source_number': 1642.0,\n",
       " 'source_other': None,\n",
       " 'source_main_port_uhgs_id': 'A0198999',\n",
       " 'source_main_port_toponyme': 'La Rochelle',\n",
       " 'source_subset': 'Poitou_1789',\n",
       " 'captain_id': '00000192',\n",
       " 'captain_name': 'Robert, Pierre',\n",
       " 'birthplace': None,\n",
       " 'status': None,\n",
       " 'citizenship': None,\n",
       " 'commodity_purpose': None,\n",
       " 'commodity_id': None,\n",
       " 'quantity': None,\n",
       " 'quantity_u': None,\n",
       " 'commodity_standardized': None,\n",
       " 'commodity_standardized_fr': None,\n",
       " 'commodity_permanent_coding': None,\n",
       " 'commodity_purpose2': None,\n",
       " 'commodity_id2': None,\n",
       " 'quantity2': None,\n",
       " 'quantity_u2': None,\n",
       " 'commodity_standardized2': None,\n",
       " 'commodity_standardized2_fr': None,\n",
       " 'commodity_permanent_coding2': None,\n",
       " 'commodity_purpose3': None,\n",
       " 'commodity_id3': None,\n",
       " 'quantity3': None,\n",
       " 'quantity_u3': None,\n",
       " 'commodity_standardized3': None,\n",
       " 'commodity_standardized3_fr': None,\n",
       " 'commodity_permanent_coding3': None,\n",
       " 'commodity_purpose4': None,\n",
       " 'commodity_id4': None,\n",
       " 'quantity4': None,\n",
       " 'quantity_u4': None,\n",
       " 'commodity_standardized4': None,\n",
       " 'commodity_standardized4_fr': None,\n",
       " 'commodity_permanent_coding4': None,\n",
       " 'all_cargos': None,\n",
       " 'tax_concept': 'Droit de congé français',\n",
       " 'payment_date': None,\n",
       " 'q01': None,\n",
       " 'q01_u': None,\n",
       " 'q02': '15.0',\n",
       " 'q02_u': None,\n",
       " 'q03': None,\n",
       " 'q03_u': None,\n",
       " 'all_taxes': [{'q01': None,\n",
       "   'q02': '15.0',\n",
       "   'q03': None,\n",
       "   'q01_u': None,\n",
       "   'q02_u': None,\n",
       "   'q03_u': None,\n",
       "   'tax_concept': 'Droit de congé français',\n",
       "   'payment_date': None,\n",
       "   'link_to_pointcall': '00342095'}],\n",
       " 'ship_uncertainity': 0,\n",
       " 'tonnage_uncertainity': 0,\n",
       " 'flag_uncertainity': -2,\n",
       " 'homeport_uncertainity': 0,\n",
       " 'departure_uncertainity': 0,\n",
       " 'destination_uncertainity': -1,\n",
       " 'captain_uncertainity': 0,\n",
       " 'travel_uncertainity': -1,\n",
       " 'cargo_uncertainity': -4,\n",
       " 'taxe_uncertainity': 0,\n",
       " 'pointcall_outdate_uncertainity': -1,\n",
       " 'departure_pkid': 85817,\n",
       " 'destination_pkid': 86338,\n",
       " 'travel_rank': 7,\n",
       " 'distance_dep_dest_miles': '103',\n",
       " 'distance_homeport_dep_miles': None,\n",
       " 'subject': '0000138N',\n",
       " 'subject_order': 7,\n",
       " 'departure_fr_as_toflit_partner': 'France',\n",
       " 'destination_fr_as_toflit_partner': 'France'}"
      ]
     },
     "execution_count": 8,
     "metadata": {},
     "output_type": "execute_result"
    }
   ],
   "source": [
    "flows_with_toflit_partners[0]"
   ]
  },
  {
   "cell_type": "code",
   "execution_count": 9,
   "metadata": {},
   "outputs": [
    {
     "data": {
      "text/plain": [
       "7045"
      ]
     },
     "execution_count": 9,
     "metadata": {},
     "output_type": "execute_result"
    }
   ],
   "source": [
    "len(flows_datasprint)"
   ]
  },
  {
   "cell_type": "code",
   "execution_count": 10,
   "metadata": {},
   "outputs": [],
   "source": [
    "travels_datasprint = portic_client.get_travels(source_subset = 'Poitou_1789')\n",
    "\n",
    "travels_with_toflit_partners = get_flows_or_travels_port_as_toflit_partner(travels_datasprint, 'partner_grouping')"
   ]
  },
  {
   "cell_type": "code",
   "execution_count": 11,
   "metadata": {},
   "outputs": [
    {
     "data": {
      "text/plain": [
       "{'travel_id': '0004361N- 16',\n",
       " 'distance_dep_dest': 102.282,\n",
       " 'distance_homeport_dep': 379.809,\n",
       " 'departure': 'Ribérou [Saujon]',\n",
       " 'departure_fr': 'Ribérou',\n",
       " 'departure_en': 'Ribérou',\n",
       " 'departure_uhgs_id': 'A1964767',\n",
       " 'departure_latitude': '45.6755',\n",
       " 'departure_longitude': '-0.935826',\n",
       " 'departure_admiralty': 'Marennes',\n",
       " 'departure_province': 'Saintonge',\n",
       " 'departure_states': '[{\"1749-1815\" : \"France\"}]',\n",
       " 'departure_substates': None,\n",
       " 'departure_state_1789_fr': 'France',\n",
       " 'departure_substate_1789_fr': None,\n",
       " 'departure_state_1789_en': 'France',\n",
       " 'departure_substate_1789_en': None,\n",
       " 'departure_ferme_direction': 'La Rochelle',\n",
       " 'departure_ferme_bureau': 'Marennes',\n",
       " 'departure_ferme_bureau_uncertainty': 0.0,\n",
       " 'departure_partner_balance_1789': None,\n",
       " 'departure_partner_balance_supp_1789': 'France',\n",
       " 'departure_partner_balance_1789_uncertainty': None,\n",
       " 'departure_partner_balance_supp_1789_uncertainty': 0.0,\n",
       " 'departure_shiparea': 'ACE-ROCH',\n",
       " 'departure_status': 'oblique',\n",
       " 'departure_source_1787_available': True,\n",
       " 'departure_source_1789_available': True,\n",
       " 'departure_point': '0101000020110F0000CA2ED9C7FA6EF9C0334934DF3CDA5541',\n",
       " 'departure_out_date': '1789=07=23',\n",
       " 'departure_action': 'Out',\n",
       " 'outdate_fixed': -5694192000000,\n",
       " 'departure_navstatus': 'PC-RF',\n",
       " 'departure_function': 'O',\n",
       " 'destination': 'Aligre de Marans',\n",
       " 'destination_fr': 'Marans',\n",
       " 'destination_en': 'Marans',\n",
       " 'destination_uhgs_id': 'A1964694',\n",
       " 'destination_latitude': '46.312468',\n",
       " 'destination_longitude': '-0.995682',\n",
       " 'destination_admiralty': 'La Rochelle',\n",
       " 'destination_province': 'Aunis',\n",
       " 'destination_states': '[{\"1749-1815\" : \"France\"}]',\n",
       " 'destination_substates': None,\n",
       " 'destination_state_1789_fr': 'France',\n",
       " 'destination_substate_1789_fr': None,\n",
       " 'destination_state_1789_en': 'France',\n",
       " 'destination_substate_1789_en': None,\n",
       " 'destination_ferme_direction': 'La Rochelle',\n",
       " 'destination_ferme_bureau': 'Alligre',\n",
       " 'destination_ferme_bureau_uncertainty': 0.0,\n",
       " 'destination_partner_balance_1789': None,\n",
       " 'destination_partner_balance_supp_1789': 'France',\n",
       " 'destination_partner_balance_1789_uncertainty': None,\n",
       " 'destination_partner_balance_supp_1789_uncertainty': 0.0,\n",
       " 'destination_shiparea': 'ACE-ROCH',\n",
       " 'destination_status': 'oblique',\n",
       " 'destination_source_1787_available': True,\n",
       " 'destination_source_1789_available': True,\n",
       " 'destination_point': '0101000020110F00000096FF026D0FFBC09D9C2527E93D5641',\n",
       " 'destination_in_date': None,\n",
       " 'destination_action': 'Out',\n",
       " 'indate_fixed': -5692550400000,\n",
       " 'destination_navstatus': 'PC-RF',\n",
       " 'destination_function': 'O',\n",
       " 'ship_name': 'Saint Jean',\n",
       " 'ship_id': '0004361N',\n",
       " 'tonnage': '10',\n",
       " 'tonnage_unit': 'tx',\n",
       " 'tonnage_class': '[1-20]',\n",
       " 'in_crew': None,\n",
       " 'flag': 'French',\n",
       " 'ship_flag_id': 'A0167415',\n",
       " 'ship_flag_standardized_fr': 'français',\n",
       " 'ship_flag_standardized_en': 'French',\n",
       " 'class': None,\n",
       " 'homeport': 'Lomariaquer',\n",
       " 'homeport_uhgs_id': 'A0186503',\n",
       " 'homeport_latitude': '47.566667',\n",
       " 'homeport_longitude': '-2.95',\n",
       " 'homeport_admiralty': 'Vannes',\n",
       " 'homeport_province': 'Bretagne',\n",
       " 'homeport_states': '[{\"1749-1815\" : \"France\"}]',\n",
       " 'homeport_substates': None,\n",
       " 'homeport_status': 'oblique',\n",
       " 'homeport_shiparea': 'ACE-IROI',\n",
       " 'homeport_point': 'SRID=3857;POINT(-328392.497840156 6035064.06965767)',\n",
       " 'homeport_state_1789_fr': 'France',\n",
       " 'homeport_substate_1789_fr': None,\n",
       " 'homeport_state_1789_en': 'France',\n",
       " 'homeport_substate_1789_en': None,\n",
       " 'homeport_toponyme_fr': 'Locmariaquer',\n",
       " 'homeport_toponyme_en': 'Locmariaquer',\n",
       " 'source_entry': 'both-from',\n",
       " 'source_doc_id': '00336342',\n",
       " 'source_text': 'ANF, G5-129/7693',\n",
       " 'source_suite': 'G5',\n",
       " 'source_component': 'ANF, G5-129',\n",
       " 'source_number': 7693.0,\n",
       " 'source_other': None,\n",
       " 'source_main_port_uhgs_id': 'A1964767',\n",
       " 'source_main_port_toponyme': 'Ribérou [Saujon]',\n",
       " 'source_subset': 'Poitou_1789',\n",
       " 'captain_id': '00004302',\n",
       " 'captain_name': 'Le Port, Joseph',\n",
       " 'birthplace': None,\n",
       " 'status': None,\n",
       " 'citizenship': None,\n",
       " 'commodity_purpose': 'lest',\n",
       " 'commodity_id': '00000094',\n",
       " 'quantity': None,\n",
       " 'quantity_u': None,\n",
       " 'commodity_standardized': 'Ballast',\n",
       " 'commodity_standardized_fr': 'Lest',\n",
       " 'commodity_permanent_coding': 'TM-Zxxxxx-xx-xxxxxx-xxxx',\n",
       " 'commodity_purpose2': None,\n",
       " 'commodity_id2': None,\n",
       " 'quantity2': None,\n",
       " 'quantity_u2': None,\n",
       " 'commodity_standardized2': None,\n",
       " 'commodity_standardized2_fr': None,\n",
       " 'commodity_permanent_coding2': None,\n",
       " 'commodity_purpose3': None,\n",
       " 'commodity_id3': None,\n",
       " 'quantity3': None,\n",
       " 'quantity_u3': None,\n",
       " 'commodity_standardized3': None,\n",
       " 'commodity_standardized3_fr': None,\n",
       " 'commodity_permanent_coding3': None,\n",
       " 'commodity_purpose4': None,\n",
       " 'commodity_id4': None,\n",
       " 'quantity4': None,\n",
       " 'quantity_u4': None,\n",
       " 'commodity_standardized4': None,\n",
       " 'commodity_standardized4_fr': None,\n",
       " 'commodity_permanent_coding4': None,\n",
       " 'all_cargos': [{'quantity': None,\n",
       "   'quantity_u': None,\n",
       "   'commodity_id': '00000094',\n",
       "   'commodity_purpose': 'lest',\n",
       "   'link_to_pointcall': '00336342',\n",
       "   'commodity_standardized_en': 'Ballast',\n",
       "   'commodity_standardized_fr': 'Lest',\n",
       "   'commodity_permanent_coding': 'TM-Zxxxxx-xx-xxxxxx-xxxx'}],\n",
       " 'tax_concept': 'Droit de congé français',\n",
       " 'payment_date': None,\n",
       " 'q01': None,\n",
       " 'q01_u': None,\n",
       " 'q02': '15.0',\n",
       " 'q02_u': None,\n",
       " 'q03': None,\n",
       " 'q03_u': None,\n",
       " 'all_taxes': [{'q01': None,\n",
       "   'q02': '15.0',\n",
       "   'q03': None,\n",
       "   'q01_u': None,\n",
       "   'q02_u': None,\n",
       "   'q03_u': None,\n",
       "   'tax_concept': 'Droit de congé français',\n",
       "   'payment_date': None,\n",
       "   'link_to_pointcall': '00336342'}],\n",
       " 'ship_uncertainity': 0,\n",
       " 'tonnage_uncertainity': 0,\n",
       " 'flag_uncertainity': -2,\n",
       " 'homeport_uncertainity': 0,\n",
       " 'departure_uncertainity': 0,\n",
       " 'destination_uncertainity': 0,\n",
       " 'captain_uncertainity': 0,\n",
       " 'travel_uncertainity': 0,\n",
       " 'cargo_uncertainity': 0,\n",
       " 'taxe_uncertainity': 0,\n",
       " 'pointcall_outdate_uncertainity': -1,\n",
       " 'departure_pkid': 80064,\n",
       " 'destination_pkid': 80274,\n",
       " 'travel_rank': 16,\n",
       " 'distance_dep_dest_miles': '50',\n",
       " 'distance_homeport_dep_miles': None,\n",
       " 'departure_fr_as_toflit_partner': 'France',\n",
       " 'destination_fr_as_toflit_partner': 'France'}"
      ]
     },
     "execution_count": 11,
     "metadata": {},
     "output_type": "execute_result"
    }
   ],
   "source": [
    "travels_with_toflit_partners[0]"
   ]
  },
  {
   "cell_type": "code",
   "execution_count": 12,
   "metadata": {},
   "outputs": [
    {
     "data": {
      "text/plain": [
       "890"
      ]
     },
     "execution_count": 12,
     "metadata": {},
     "output_type": "execute_result"
    }
   ],
   "source": [
    "len(travels_datasprint)"
   ]
  },
  {
   "cell_type": "markdown",
   "metadata": {},
   "source": [
    "# Fabrication de réseaux \n",
    "\n",
    "## chaque réseau est construit avec des flows et des travels pour pouvoir comparer les données disponibles sur ces 2 types d'objets Navigo"
   ]
  },
  {
   "cell_type": "markdown",
   "metadata": {},
   "source": [
    "## 1. Réseaux bipartites : départ / arrivée\n",
    "\n",
    "#### Si 2 ports font partie du même flow, ou du même travel, ils seront reliés sur le graphe\n",
    "#### Pour chaque réseau on fonctionne d'abord avec les données des flows, puis les données des travels\n",
    "\n",
    "##### Légende :\n",
    "##### - ports de départ en vert\n",
    "##### - ports d'arrivée en rouge\n",
    "\n",
    "Remarques : \n",
    "- Peut-être intéressant de filtrer les ports de départ / d'arrivée sur la direction des Fermes de La Rochelle (pour savoir où vont les bateaux qui partent de la région / d'où viennent les bateaux arrivent dans la région)\n",
    "- Avec les flows risque de duplications\n",
    "- Avec travels on a pas beaucoup de données apparemment"
   ]
  },
  {
   "cell_type": "markdown",
   "metadata": {},
   "source": [
    "### A. Visualisation de données Navigo pures : réseau port Navigo de départ / port Navigo d'arrivée "
   ]
  },
  {
   "cell_type": "code",
   "execution_count": 66,
   "metadata": {},
   "outputs": [
    {
     "data": {
      "application/vnd.jupyter.widget-view+json": {
       "model_id": "c72b2ecbe72c48678a0f42ea6052de06",
       "version_major": 2,
       "version_minor": 0
      },
      "text/plain": [
       "Sigma(data={'nodes': [('departure_fr_La Rochelle', {'type': 'departure_fr', 'name': 'La Rochelle', 'color': 'r…"
      ]
     },
     "metadata": {},
     "output_type": "display_data"
    }
   ],
   "source": [
    "render_coocurrences_graph(flows_datasprint, \"departure_fr\", \"destination_fr\")"
   ]
  },
  {
   "cell_type": "code",
   "execution_count": 44,
   "metadata": {},
   "outputs": [
    {
     "data": {
      "application/vnd.jupyter.widget-view+json": {
       "model_id": "da1de09212b74513a23f69682ca7afb1",
       "version_major": 2,
       "version_minor": 0
      },
      "text/plain": [
       "Sigma(data={'nodes': [('departure_fr_Ribérou', {'type': 'departure_fr', 'name': 'Ribérou', 'color': 'rgb(0, 25…"
      ]
     },
     "metadata": {},
     "output_type": "display_data"
    }
   ],
   "source": [
    "render_coocurrences_graph(travels_datasprint, \"departure_fr\", \"destination_fr\")"
   ]
  },
  {
   "cell_type": "markdown",
   "metadata": {},
   "source": [
    "### B. croisement : partenaire Toflit de départ / port Navigo d'arrivée"
   ]
  },
  {
   "cell_type": "code",
   "execution_count": 43,
   "metadata": {},
   "outputs": [
    {
     "data": {
      "application/vnd.jupyter.widget-view+json": {
       "model_id": "e01424edf66e44c7bc79c68468885682",
       "version_major": 2,
       "version_minor": 0
      },
      "text/plain": [
       "Sigma(data={'nodes': [('departure_fr_as_toflit_partner_France', {'type': 'departure_fr_as_toflit_partner', 'na…"
      ]
     },
     "metadata": {},
     "output_type": "display_data"
    }
   ],
   "source": [
    "render_coocurrences_graph(flows_with_toflit_partners, \"departure_fr_as_toflit_partner\", \"destination_fr\")"
   ]
  },
  {
   "cell_type": "code",
   "execution_count": 42,
   "metadata": {},
   "outputs": [
    {
     "data": {
      "application/vnd.jupyter.widget-view+json": {
       "model_id": "0b0a0e23e7554609850f050c1074fd63",
       "version_major": 2,
       "version_minor": 0
      },
      "text/plain": [
       "Sigma(data={'nodes': [('departure_fr_as_toflit_partner_France', {'type': 'departure_fr_as_toflit_partner', 'na…"
      ]
     },
     "metadata": {},
     "output_type": "display_data"
    }
   ],
   "source": [
    "render_coocurrences_graph(travels_with_toflit_partners, \"departure_fr_as_toflit_partner\", \"destination_fr\")"
   ]
  },
  {
   "cell_type": "markdown",
   "metadata": {},
   "source": [
    "### C. croisement : port Navigo de départ / bureau des Fermes Toflit d'arrivée"
   ]
  },
  {
   "cell_type": "code",
   "execution_count": 48,
   "metadata": {},
   "outputs": [
    {
     "data": {
      "application/vnd.jupyter.widget-view+json": {
       "model_id": "cd887ae538874acc8a86e2e3b740694c",
       "version_major": 2,
       "version_minor": 0
      },
      "text/plain": [
       "Sigma(data={'nodes': [('departure_fr_La Rochelle', {'type': 'departure_fr', 'name': 'La Rochelle', 'color': 'r…"
      ]
     },
     "metadata": {},
     "output_type": "display_data"
    }
   ],
   "source": [
    "render_coocurrences_graph(flows_datasprint, \"departure_fr\", \"destination_ferme_bureau\")"
   ]
  },
  {
   "cell_type": "code",
   "execution_count": 50,
   "metadata": {},
   "outputs": [
    {
     "data": {
      "application/vnd.jupyter.widget-view+json": {
       "model_id": "",
       "version_major": 2,
       "version_minor": 0
      },
      "text/plain": [
       "Sigma(data={'nodes': [('departure_fr_Ribérou', {'type': 'departure_fr', 'name': 'Ribérou', 'color': 'rgb(0, 25…"
      ]
     },
     "metadata": {},
     "output_type": "display_data"
    }
   ],
   "source": [
    "render_coocurrences_graph(travels_datasprint, \"departure_fr\", \"destination_ferme_bureau\")"
   ]
  },
  {
   "cell_type": "markdown",
   "metadata": {},
   "source": [
    "### D. croisement (visualisation de données Navigo avec des entités Toflit) : bureau des Fermes Toflit de départ / partenaire Toflit d'arrivée"
   ]
  },
  {
   "cell_type": "code",
   "execution_count": 52,
   "metadata": {},
   "outputs": [
    {
     "data": {
      "application/vnd.jupyter.widget-view+json": {
       "model_id": "fdf120b265604616afb44784a2d4f4fa",
       "version_major": 2,
       "version_minor": 0
      },
      "text/plain": [
       "Sigma(data={'nodes': [('departure_fr_as_toflit_partner_France', {'type': 'departure_fr_as_toflit_partner', 'na…"
      ]
     },
     "metadata": {},
     "output_type": "display_data"
    }
   ],
   "source": [
    "render_coocurrences_graph(flows_with_toflit_partners, \"departure_ferme_bureau\", \"destination_fr_as_toflit_partner\")"
   ]
  },
  {
   "cell_type": "code",
   "execution_count": 54,
   "metadata": {},
   "outputs": [
    {
     "data": {
      "application/vnd.jupyter.widget-view+json": {
       "model_id": "a7e5fce264e0462cbe21051a38292b8c",
       "version_major": 2,
       "version_minor": 0
      },
      "text/plain": [
       "Sigma(data={'nodes': [('departure_ferme_bureau_Marennes', {'type': 'departure_ferme_bureau', 'name': 'Marennes…"
      ]
     },
     "metadata": {},
     "output_type": "display_data"
    }
   ],
   "source": [
    "render_coocurrences_graph(travels_with_toflit_partners, \"departure_ferme_bureau\", \"destination_fr_as_toflit_partner\")"
   ]
  },
  {
   "cell_type": "markdown",
   "metadata": {},
   "source": [
    "## 2. Réseau monopartite : échanges entre ports\n",
    "\n",
    "#### Si 2 ports sont dans le même flow ou travel, ils sont reliés \n",
    "#### Plus les échanges sont intenses, plus les ports sont proches sur le graphe\n"
   ]
  },
  {
   "cell_type": "markdown",
   "metadata": {},
   "source": [
    "### A. Visualisation de données Navigo pures : les noeuds sont des ports Navigo"
   ]
  },
  {
   "cell_type": "code",
   "execution_count": 35,
   "metadata": {},
   "outputs": [
    {
     "data": {
      "application/vnd.jupyter.widget-view+json": {
       "model_id": "",
       "version_major": 2,
       "version_minor": 0
      },
      "text/plain": [
       "Sigma(data={'nodes': [('departure_fr_La Rochelle', {'type': 'departure_fr', 'label': 'La Rochelle', 'color': '…"
      ]
     },
     "metadata": {},
     "output_type": "display_data"
    }
   ],
   "source": [
    "render_monopartite_graph_port_exchanges(flows_datasprint, 'departure_fr', 'destination_fr')"
   ]
  },
  {
   "cell_type": "code",
   "execution_count": 37,
   "metadata": {},
   "outputs": [
    {
     "data": {
      "application/vnd.jupyter.widget-view+json": {
       "model_id": "",
       "version_major": 2,
       "version_minor": 0
      },
      "text/plain": [
       "Sigma(data={'nodes': [('departure_fr_Ribérou', {'type': 'departure_fr', 'label': 'Ribérou', 'color': 'rgb(0, 2…"
      ]
     },
     "metadata": {},
     "output_type": "display_data"
    }
   ],
   "source": [
    "render_monopartite_graph_port_exchanges(travels, 'departure_fr', 'destination_fr')"
   ]
  },
  {
   "cell_type": "markdown",
   "metadata": {},
   "source": [
    "### B. croisement (visualisation de données Navigo avec un agnle de vue Toflit) : les noeuds sont des partenaires Toflit "
   ]
  },
  {
   "cell_type": "code",
   "execution_count": 38,
   "metadata": {},
   "outputs": [
    {
     "data": {
      "application/vnd.jupyter.widget-view+json": {
       "model_id": "89e19ad19f114dc2af33b0e865bd1640",
       "version_major": 2,
       "version_minor": 0
      },
      "text/plain": [
       "Sigma(data={'nodes': [('departure_fr_as_toflit_partner_France', {'type': 'departure_fr_as_toflit_partner', 'la…"
      ]
     },
     "metadata": {},
     "output_type": "display_data"
    }
   ],
   "source": [
    "render_monopartite_graph_port_exchanges(flows_with_toflit_partners, 'departure_fr_as_toflit_partner', 'destination_fr_as_toflit_partner')"
   ]
  },
  {
   "cell_type": "code",
   "execution_count": 39,
   "metadata": {},
   "outputs": [
    {
     "data": {
      "application/vnd.jupyter.widget-view+json": {
       "model_id": "99875ad52ba443cc98ac8c3a14b06249",
       "version_major": 2,
       "version_minor": 0
      },
      "text/plain": [
       "Sigma(data={'nodes': [('departure_fr_as_toflit_partner_France', {'type': 'departure_fr_as_toflit_partner', 'la…"
      ]
     },
     "metadata": {},
     "output_type": "display_data"
    }
   ],
   "source": [
    "render_monopartite_graph_port_exchanges(travels_with_toflit_partners, 'departure_fr_as_toflit_partner', 'destination_fr_as_toflit_partner')"
   ]
  },
  {
   "cell_type": "markdown",
   "metadata": {},
   "source": [
    "## Bonus : \n",
    "- fonction qui adapte la couleur des noeuds pour qu'on distingue ceux qui font partie du champ d'étude du datasprint / ceux qui n'en font pas partie\n",
    "- fonction qui filtre le \"data\" donner pour n'inclure dans le réseau que les entités qui font partie du champ d'étude du datasprint\n",
    "\n",
    "Entités qui font partie du champ d'étude du datasprint : \n",
    "- 27 ports identifiés par leurs ughs_id \n",
    "- 7 bureaux des Fermes \n",
    "- 1 direction des Fermes"
   ]
  },
  {
   "cell_type": "code",
   "execution_count": 75,
   "metadata": {},
   "outputs": [],
   "source": [
    "def render_coocurrences_graph_sprint_colored(data, key_1, key_2, params=None):\n",
    "    # créer un graphe\n",
    "    Graph = nx.Graph()\n",
    "\n",
    "    # créer des dict pour les deux types de noeuds et les liens\n",
    "    key1_uniq = {}\n",
    "    key2_uniq = {}\n",
    "    edges_uniq = {}\n",
    "    default_params = {\n",
    "        \"color_1\": \"rgb(51, 204, 255)\", # noeuds de type 1 en bleu clair\n",
    "        \"color_2\": \"rgb(238, 130, 238)\", # noeuds de type 2 en rose\n",
    "        \"node_min_size\": 1,\n",
    "        \"node_max_size\": 10\n",
    "    }\n",
    "    final_params = default_params\n",
    "    if params is not None :\n",
    "        final_params = {\n",
    "            *default_params,\n",
    "            *params\n",
    "        }\n",
    "        \n",
    "    # colorer les ports / ou autres entités rattachées à la direction des fermes de La Rochelle (au sprint)\n",
    "    # en bleu si entité de départ\n",
    "    # en violet si entité d'arrivée\n",
    "    sprint_ughs_id = ['A1964694','A0171758','A0136930','A0196496','A0198999','A0137148','A0127055','A0133403','A0213721','A0199508','A0148208','A0141325','A0138533','A1964982','A0186515','A0124809','A1964767','A0172590','A0181608','A0165077','A0169240','A0165056','A1963997','A0136403','A0195938','A0122971','A0207992']\n",
    "    sprint_bureaux = ['Alligre', 'Saint-Martin île de Ré', 'Marennes', 'Rochefort', 'Charente', 'La Rochelle', 'Sables-d\\'Olonne']\n",
    "    sprint_direction = 'La Rochelle'\n",
    "    \n",
    "    # choisir par rapport à quelles valeurs on va filtrer la coloration bleue, en fonction des keys données en argument\n",
    "    chosen_filter1 = None\n",
    "    if key_1 == 'departure_fr':\n",
    "        chosen_filter1 = sprint_ughs_id\n",
    "    elif key_1 == 'departure_ferme_bureau':\n",
    "        chosen_filter1 = sprint_bureaux\n",
    "    elif key_1 == 'departure_ferme_direction':\n",
    "        chosen_filter1 = sprint_direction \n",
    "    \n",
    "    # choisir par rapport à quelles valeurs on va filtrer la coloration violette, en fonction des keys données en argument\n",
    "    chosen_filter2 = None\n",
    "    if key_2 == 'destination_fr':\n",
    "        chosen_filter2 = sprint_ughs_id\n",
    "    elif key_2 == 'destination_ferme_bureau':\n",
    "        chosen_filter2 = sprint_bureaux\n",
    "    elif key_2 == 'destination_ferme_direction':\n",
    "        chosen_filter2 = sprint_direction \n",
    "    \n",
    "    # remplir les dicts\n",
    "    for datum in data:\n",
    "    \n",
    "        if key_1 in datum and key_2 in datum:\n",
    "            value_1 = datum[key_1] if datum[key_1] is not None else \"undefined\"\n",
    "            value_2 = datum[key_2] if datum[key_2] is not None else \"undefined\"\n",
    "            value_1_id = key_1 + \"_\" + value_1\n",
    "            value_2_id = key_2 + \"_\" + value_2\n",
    "            \n",
    "            # on changera la variable color attribuée au noeud s'il passe le filtre de rattachement au sprint\n",
    "            color = final_params[\"color_1\"]\n",
    "        \n",
    "            if value_1_id in key1_uniq:\n",
    "                key1_uniq[value_1_id] = {**key1_uniq[value_1_id], \"size\": key1_uniq[value_1_id][\"size\"] + 1}\n",
    "            else:\n",
    "                # coloration en bleu si le noeud se rattache à la direction des fermes de La Rochelle\n",
    "                if (chosen_filter1 == sprint_ughs_id and datum['departure_uhgs_id'] is not None and datum['departure_uhgs_id'] in sprint_ughs_id):\n",
    "                    color = \"rgb (0, 0, 255)\"\n",
    "                elif (chosen_filter1 == sprint_bureaux and datum['departure_ferme_bureau'] is not None and datum['departure_ferme_bureau'] in sprint_bureaux):\n",
    "                    color = \"rgb (0, 0, 255)\"\n",
    "                elif (chosen_filter1 == sprint_direction and datum['departure_ferme_direction'] is not None and datum['departure_ferme_direction'] in sprint_direction) :\n",
    "                    color = \"rgb (0, 0, 255)\"\n",
    "                    \n",
    "                key1_uniq[value_1_id] = {\n",
    "                   \"type\": key_1, \n",
    "                   \"name\": value_1, \n",
    "                   \"color\": color,\n",
    "                   \"size\": 1\n",
    "                }\n",
    "            \n",
    "            # on changera la variable color attribuée au noeud s'il passe le filtre de rattachement au sprint\n",
    "            color = final_params[\"color_2\"]\n",
    "            \n",
    "            if value_2_id in key2_uniq:\n",
    "                key2_uniq[value_2_id] = {**key2_uniq[value_2_id], \"size\": key2_uniq[value_2_id][\"size\"] + 1}\n",
    "            else:\n",
    "                # coloration en violet si le noeud se rattache à la direction des fermes de La Rochelle\n",
    "                if (chosen_filter2 == sprint_ughs_id and datum['destination_uhgs_id'] is not None and datum['destination_uhgs_id'] in sprint_ughs_id):\n",
    "                    color = \"rgb(70, 0, 128)\"\n",
    "                elif (chosen_filter2 == sprint_bureaux and datum['destination_ferme_bureau'] is not None and datum['destination_ferme_bureau'] in sprint_bureaux):\n",
    "                    color = \"rgb(70, 0, 128)\"\n",
    "                elif (chosen_filter2 == sprint_direction and datum['destination_ferme_direction'] is not None and datum['destination_ferme_direction'] in sprint_direction) :\n",
    "                    color = \"rgb(70, 0, 128)\"\n",
    "                    \n",
    "                key2_uniq[value_2_id] = {\n",
    "                   \"type\": key_2, \n",
    "                   \"name\": value_2, \n",
    "                   \"color\": color,\n",
    "                   \"size\": 1\n",
    "               }\n",
    "                \n",
    "            edge_footprint = value_1_id + \"-\" + value_2_id\n",
    "            if edge_footprint in edges_uniq:\n",
    "                edges_uniq[edge_footprint][\"weight\"] += 1\n",
    "            else:\n",
    "                edges_uniq[edge_footprint] = {\n",
    "                    \"source\": value_1_id,\n",
    "                    \"target\": value_2_id,\n",
    "                    \"weight\": 1\n",
    "                }\n",
    "    # concaténer les deux dicts de noeuds en un seul\n",
    "    all_nodes = key1_uniq\n",
    "    all_nodes.update(key2_uniq)\n",
    "    # applatir et formatter les noeuds\n",
    "    nodes = []\n",
    "    for key, node in all_nodes.items():\n",
    "        nodes.append((key, node))\n",
    "    edges = []\n",
    "\n",
    "    for key, edge in edges_uniq.items():\n",
    "        edges.append((edge[\"source\"], edge[\"target\"], {\"weight\": edge[\"weight\"]}))\n",
    "        \n",
    "    # ajuster la taille des noeuds en fonction d'un min et d'un max donnés\n",
    "    domain_min_nodes_size = min([node[1]['size'] for node in nodes])\n",
    "    domain_max_nodes_size = max([node[1]['size'] for node in nodes])\n",
    "    range_in_nodes_size = [final_params[\"node_min_size\"], final_params[\"node_max_size\"]]\n",
    "    nodes_size_mapping_params = [domain_min_nodes_size, domain_max_nodes_size, *range_in_nodes_size]\n",
    "\n",
    "    for node in nodes:\n",
    "        node[1][\"size\"] = map_value(node[1][\"size\"], *nodes_size_mapping_params)\n",
    "        node[1][\"label\"] = node[1][\"name\"]\n",
    "\n",
    "\n",
    "    Graph.add_nodes_from(nodes)\n",
    "    Graph.add_edges_from(edges)\n",
    "\n",
    "    return Sigma(Graph, start_layout=True)"
   ]
  },
  {
   "cell_type": "code",
   "execution_count": 77,
   "metadata": {},
   "outputs": [
    {
     "data": {
      "application/vnd.jupyter.widget-view+json": {
       "model_id": "76a025c5c02c4db1a0c11aedf1fd7b95",
       "version_major": 2,
       "version_minor": 0
      },
      "text/plain": [
       "Sigma(data={'nodes': [('departure_ferme_bureau_La Rochelle', {'type': 'departure_ferme_bureau', 'name': 'La Ro…"
      ]
     },
     "metadata": {},
     "output_type": "display_data"
    }
   ],
   "source": [
    "render_coocurrences_graph_sprint_colored(flows_with_toflit_partners, 'departure_ferme_bureau', 'destination_fr_as_toflit_partner')"
   ]
  },
  {
   "cell_type": "code",
   "execution_count": 80,
   "metadata": {},
   "outputs": [],
   "source": [
    "def render_coocurrences_graph_sprint_filtered(data, key_1, key_2, params=None):\n",
    "    \n",
    "    # créer un graphe\n",
    "    Graph = nx.Graph()\n",
    "\n",
    "    # créer des dict pour les deux types de noeuds et les liens\n",
    "    key1_uniq = {}\n",
    "    key2_uniq = {}\n",
    "    edges_uniq = {}\n",
    "    default_params = {\n",
    "        \"color_1\": \"rgb(0, 0, 255)\", # noeuds de type 1 en bleu foncé\n",
    "        \"color_2\": \"rgb(70, 0, 128)\",# noeuds de type 2 en violet foncé \n",
    "        \"node_min_size\": 1,\n",
    "        \"node_max_size\": 10\n",
    "    }\n",
    "    final_params = default_params\n",
    "    if params is not None :\n",
    "        final_params = {\n",
    "            *default_params,\n",
    "            *params\n",
    "        }\n",
    "        \n",
    "    # filtrer les ports / ou autres entités rattachées à la direction des fermes de La Rochelle (au sprint)\n",
    "    sprint_ughs_id = ['A1964694','A0171758','A0136930','A0196496','A0198999','A0137148','A0127055','A0133403','A0213721','A0199508','A0148208','A0141325','A0138533','A1964982','A0186515','A0124809','A1964767','A0172590','A0181608','A0165077','A0169240','A0165056','A1963997','A0136403','A0195938','A0122971','A0207992']\n",
    "    sprint_bureaux = ['Alligre', 'Saint-Martin île de Ré', 'Marennes', 'Rochefort', 'Charente', 'La Rochelle', 'Sables-d\\'Olonne']\n",
    "    sprint_direction = 'La Rochelle'\n",
    "    \n",
    "    # choisir par rapport à quelles valeurs on va filtrer, en fonction des keys données en argument\n",
    "    chosen_filter1 = None\n",
    "    if key_1 == 'departure_fr':\n",
    "        chosen_filter1 = sprint_ughs_id\n",
    "    elif key_1 == 'departure_ferme_bureau':\n",
    "        chosen_filter1 = sprint_bureaux\n",
    "    elif key_1 == 'departure_ferme_direction':\n",
    "        chosen_filter1 = sprint_direction \n",
    "    \n",
    "    # choisir par rapport à quelles valeurs on va filtrer la coloration violette, en fonction des keys données en argument\n",
    "    chosen_filter2 = None\n",
    "    if key_2 == 'destination_fr':\n",
    "        chosen_filter2 = sprint_ughs_id\n",
    "    elif key_2 == 'destination_ferme_bureau':\n",
    "        chosen_filter2 = sprint_bureaux\n",
    "    elif key_2 == 'destination_ferme_direction':\n",
    "        chosen_filter2 = sprint_direction \n",
    "    \n",
    "    # remplir les dicts\n",
    "    for datum in data:\n",
    "    \n",
    "        if key_1 in datum and key_2 in datum:\n",
    "            value_1 = datum[key_1] if datum[key_1] is not None else \"undefined\"\n",
    "            value_2 = datum[key_2] if datum[key_2] is not None else \"undefined\"\n",
    "            value_1_id = key_1 + \"_\" + value_1\n",
    "            value_2_id = key_2 + \"_\" + value_2\n",
    "            \n",
    "            # on n'ajoutera les noeuds et le lien entre eux que s'ils passent le filtre de rattachement au sprint\n",
    "            valid_node_1 = False\n",
    "            valid_node_2 = False\n",
    "            if (chosen_filter1 == sprint_ughs_id and datum['departure_uhgs_id'] is not None and datum['departure_uhgs_id'] in sprint_ughs_id):\n",
    "                valid_node_1 = True\n",
    "            elif (chosen_filter1 == sprint_bureaux and datum['departure_ferme_bureau'] is not None and datum['departure_ferme_bureau'] in sprint_bureaux):\n",
    "                valid_node_1 = True\n",
    "            elif (chosen_filter1 == sprint_direction and datum['departure_ferme_direction'] is not None and datum['departure_ferme_direction'] in sprint_direction) :\n",
    "                valid_node_1 = True\n",
    "            if (chosen_filter2 == sprint_ughs_id and datum['destination_uhgs_id'] is not None and datum['destination_uhgs_id'] in sprint_ughs_id):\n",
    "                valid_node_2 = True\n",
    "            elif (chosen_filter2 == sprint_bureaux and datum['destination_ferme_bureau'] is not None and datum['destination_ferme_bureau'] in sprint_bureaux):\n",
    "                valid_node_2 = True\n",
    "            elif (chosen_filter2 == sprint_direction and datum['destination_ferme_direction'] is not None and datum['destination_ferme_direction'] in sprint_direction) :\n",
    "                valid_node_2 = True\n",
    "            \n",
    "            if valid_node_1 and valid_node_2:\n",
    "                \n",
    "                if value_1_id in key1_uniq:\n",
    "                    key1_uniq[value_1_id] = {**key1_uniq[value_1_id], \"size\": key1_uniq[value_1_id][\"size\"] + 1}\n",
    "                else:\n",
    "                    key1_uniq[value_1_id] = {\n",
    "                       \"type\": key_1, \n",
    "                       \"name\": value_1, \n",
    "                       \"color\": final_params['color_1'],\n",
    "                       \"size\": 1\n",
    "                    }\n",
    "\n",
    "                if value_2_id in key2_uniq:\n",
    "                    key2_uniq[value_2_id] = {**key2_uniq[value_2_id], \"size\": key2_uniq[value_2_id][\"size\"] + 1}\n",
    "                else:\n",
    "                    key2_uniq[value_2_id] = {\n",
    "                       \"type\": key_2, \n",
    "                       \"name\": value_2, \n",
    "                       \"color\": final_params['color_2'],\n",
    "                       \"size\": 1\n",
    "                    }\n",
    "\n",
    "                edge_footprint = value_1_id + \"-\" + value_2_id\n",
    "                if edge_footprint in edges_uniq:\n",
    "                    edges_uniq[edge_footprint][\"weight\"] += 1\n",
    "                else:\n",
    "                    edges_uniq[edge_footprint] = {\n",
    "                        \"source\": value_1_id,\n",
    "                        \"target\": value_2_id,\n",
    "                        \"weight\": 1\n",
    "                    }\n",
    "                    \n",
    "    # concaténer les deux dicts de noeuds en un seul\n",
    "    all_nodes = key1_uniq\n",
    "    all_nodes.update(key2_uniq)\n",
    "    # applatir et formatter les noeuds\n",
    "    nodes = []\n",
    "    for key, node in all_nodes.items():\n",
    "        nodes.append((key, node))\n",
    "    edges = []\n",
    "\n",
    "    for key, edge in edges_uniq.items():\n",
    "        edges.append((edge[\"source\"], edge[\"target\"], {\"weight\": edge[\"weight\"]}))\n",
    "        \n",
    "    # ajuster la taille des noeuds en fonction d'un min et d'un max donnés\n",
    "    domain_min_nodes_size = min([node[1]['size'] for node in nodes])\n",
    "    domain_max_nodes_size = max([node[1]['size'] for node in nodes])\n",
    "    range_in_nodes_size = [final_params[\"node_min_size\"], final_params[\"node_max_size\"]]\n",
    "    nodes_size_mapping_params = [domain_min_nodes_size, domain_max_nodes_size, *range_in_nodes_size]\n",
    "\n",
    "    for node in nodes:\n",
    "        node[1][\"size\"] = map_value(node[1][\"size\"], *nodes_size_mapping_params)\n",
    "        node[1][\"label\"] = node[1][\"name\"]\n",
    "\n",
    "\n",
    "    Graph.add_nodes_from(nodes)\n",
    "    Graph.add_edges_from(edges)\n",
    "\n",
    "    return Sigma(Graph, start_layout=True)"
   ]
  },
  {
   "cell_type": "code",
   "execution_count": 81,
   "metadata": {},
   "outputs": [
    {
     "data": {
      "application/vnd.jupyter.widget-view+json": {
       "model_id": "fa1cdf911b984d7c82abc53fc5702ccf",
       "version_major": 2,
       "version_minor": 0
      },
      "text/plain": [
       "Sigma(data={'nodes': [('departure_fr_Rochefort', {'type': 'departure_fr', 'name': 'Rochefort', 'color': 'rgb(0…"
      ]
     },
     "metadata": {},
     "output_type": "display_data"
    }
   ],
   "source": [
    "render_coocurrences_graph_sprint_filtered(flows_datasprint, 'departure_fr','destination_fr')"
   ]
  }
 ],
 "metadata": {
  "kernelspec": {
   "display_name": "Python 3",
   "language": "python",
   "name": "python3"
  },
  "language_info": {
   "codemirror_mode": {
    "name": "ipython",
    "version": 3
   },
   "file_extension": ".py",
   "mimetype": "text/x-python",
   "name": "python",
   "nbconvert_exporter": "python",
   "pygments_lexer": "ipython3",
   "version": "3.8.5"
  }
 },
 "nbformat": 4,
 "nbformat_minor": 4
}
