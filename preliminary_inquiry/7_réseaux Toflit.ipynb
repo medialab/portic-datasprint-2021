{
 "cells": [
  {
   "cell_type": "code",
   "execution_count": 1,
   "metadata": {},
   "outputs": [],
   "source": [
    "from poitousprint import Portic, Toflit\n",
    "import json\n",
    "import networkx as nx\n",
    "from ipysigma import Sigma\n",
    "\n",
    "portic_client = Portic()\n",
    "toflit_client = Toflit()\n",
    "\n",
    "# this function allows to map a value from a domain of min-max to another\n",
    "def map_value(value, domain_min, domain_max, range_min, range_max):\n",
    "    left_span = domain_max - domain_min\n",
    "    right_span = range_max - range_min\n",
    "\n",
    "    # Convert the left range into a 0-1 range (float)\n",
    "    scaled = float(value - domain_min) / float(left_span)\n",
    "\n",
    "    # Convert the 0-1 range into a value in the right range.\n",
    "    return range_min + (scaled * right_span)"
   ]
  },
  {
   "cell_type": "markdown",
   "metadata": {},
   "source": [
    "#### Fonction générique qui permet de fabriquer un réseau à partir :\n",
    "\n",
    "1. d'une liste de dicts (ex. flux toflit18)\n",
    "2. d'une liste de deux propriétés à comparer\n",
    "3. d'un param filter_import_export que l'on peut mettre sur import ou exports (par défaut on a à la fois les imports et les exports"
   ]
  },
  {
   "cell_type": "code",
   "execution_count": 20,
   "metadata": {},
   "outputs": [],
   "source": [
    "def render_coocurrences_graph(data, key_1, key_2, filter_export_import=None, params=None):\n",
    "    if filter_export_import not in [None, 'Exports', 'Imports']:\n",
    "        print(\"filter_export_import must be 'Exports', 'Imports' or None\")\n",
    "        raise\n",
    "    \n",
    "    # créer un graphe\n",
    "    Graph = nx.Graph()\n",
    "\n",
    "    # créer des dict pour les deux types de noeuds et les liens\n",
    "    key1_uniq = {}\n",
    "    key2_uniq = {}\n",
    "    edges_uniq = {}\n",
    "    default_params = {\n",
    "        \"color_1\": \"rgb(0, 255, 0)\",\n",
    "        \"color_2\": \"rgb(255, 0, 0)\",\n",
    "        \"node_min_size\": 1,\n",
    "        \"node_max_size\": 10\n",
    "    }\n",
    "    final_params = default_params\n",
    "    if params is not None :\n",
    "        final_params = {\n",
    "            *default_params,\n",
    "            *params\n",
    "        }\n",
    "    \n",
    "    # remplir les dicts\n",
    "    for datum in data:\n",
    "        if (filter_export_import is not None and datum['export_import'] != filter_export_import):\n",
    "            continue\n",
    "            \n",
    "        if key_1 in datum and key_2 in datum:\n",
    "            value_1 = datum[key_1] if datum[key_1] is not None else \"undefined\"\n",
    "            value_2 = datum[key_2] if datum[key_2] is not None else \"undefined\"\n",
    "            value_1_id = key_1 + \"_\" + value_1\n",
    "            value_2_id = key_2 + \"_\" + value_2\n",
    "            \n",
    "            if value_1_id in key1_uniq:\n",
    "                key1_uniq[value_1_id] = {**key1_uniq[value_1_id], \"size\": key1_uniq[value_1_id][\"size\"] + 1}\n",
    "            else:\n",
    "               key1_uniq[value_1_id] = {\n",
    "                   \"type\": key_1, \n",
    "                   \"name\": value_1, \n",
    "                   \"color\": final_params[\"color_1\"],\n",
    "                   \"size\": 1\n",
    "               }\n",
    "            \n",
    "            if value_2_id in key2_uniq:\n",
    "                key2_uniq[value_2_id] = {**key2_uniq[value_2_id], \"size\": key2_uniq[value_2_id][\"size\"] + 1}\n",
    "            else:\n",
    "               key2_uniq[value_2_id] = {\n",
    "                   \"type\": key_2, \n",
    "                   \"name\": value_2, \n",
    "                   \"color\": final_params[\"color_2\"],\n",
    "                   \"size\": 1\n",
    "               }\n",
    "            \n",
    "            edge_footprint = value_1_id + \"-\" + value_2_id\n",
    "            if edge_footprint in edges_uniq:\n",
    "                edges_uniq[edge_footprint][\"weight\"] += 1\n",
    "            else:\n",
    "                edges_uniq[edge_footprint] = {\n",
    "                    \"source\": value_1_id,\n",
    "                    \"target\": value_2_id,\n",
    "                    \"weight\": 1\n",
    "                }\n",
    "                \n",
    "    # concaténer les deux dicts de noeuds en un seul\n",
    "    all_nodes = key1_uniq\n",
    "    all_nodes.update(key2_uniq)\n",
    "    # applatir et formatter les noeuds\n",
    "    nodes = []\n",
    "    for key, node in all_nodes.items():\n",
    "        nodes.append((key, node))\n",
    "    edges = []\n",
    "\n",
    "    for key, edge in edges_uniq.items():\n",
    "        edges.append((edge[\"source\"], edge[\"target\"], {\"weight\": edge[\"weight\"]}))\n",
    "        \n",
    "    # ajuster la taille des noeuds en fonction d'un min et d'un max donnés\n",
    "    domain_min_nodes_size = min([node[1]['size'] for node in nodes])\n",
    "    domain_max_nodes_size = max([node[1]['size'] for node in nodes])\n",
    "    range_in_nodes_size = [final_params[\"node_min_size\"], final_params[\"node_max_size\"]]\n",
    "    nodes_size_mapping_params = [domain_min_nodes_size, domain_max_nodes_size, *range_in_nodes_size]\n",
    "\n",
    "    for node in nodes:\n",
    "        node[1][\"size\"] = map_value(node[1][\"size\"], *nodes_size_mapping_params)\n",
    "        node[1][\"label\"] = node[1][\"name\"]\n",
    "\n",
    "\n",
    "    Graph.add_nodes_from(nodes)\n",
    "    Graph.add_edges_from(edges)\n",
    "\n",
    "    return Sigma(Graph, start_layout=True)"
   ]
  },
  {
   "cell_type": "markdown",
   "metadata": {},
   "source": [
    "# 0. Je vais chercher les flux du sprint (côté Toflit) pour nourrir mes réseaux\n",
    "\n",
    "nb : pour les flux concernant le sprint on n'a qu'une seule direction des Fermes : La Rochelle"
   ]
  },
  {
   "cell_type": "code",
   "execution_count": 23,
   "metadata": {
    "scrolled": true
   },
   "outputs": [
    {
     "data": {
      "text/plain": [
       "{'customs_region': 'La Rochelle',\n",
       " 'partner': 'Petites iles',\n",
       " 'export_import': 'Exports',\n",
       " 'value': '15120',\n",
       " 'customs_office': \"Les Sables d'Olonne\",\n",
       " 'partner_simplification': 'Petites Îles',\n",
       " 'product_revolutionempire': 'Animaux'}"
      ]
     },
     "execution_count": 23,
     "metadata": {},
     "output_type": "execute_result"
    }
   ],
   "source": [
    "# je vais chercher les flux qui concernent le sprint côté Toflit\n",
    "\n",
    "flows = toflit_client.get_flows(\n",
    "    year=1789,\n",
    "    customs_region='La Rochelle', \n",
    "    params=[\n",
    "      \"product_revolutionempire\",\n",
    "      \"partner\",\n",
    "      \"export_import\",\n",
    "      \"value\",\n",
    "      \"line\",\n",
    "      \"partner_simplification\",\n",
    "      \"customs_office\",\n",
    "      \"customs_region\"\n",
    "\t]\n",
    ")\n",
    "flows[0]    "
   ]
  },
  {
   "cell_type": "code",
   "execution_count": 24,
   "metadata": {},
   "outputs": [
    {
     "data": {
      "text/plain": [
       "1062"
      ]
     },
     "execution_count": 24,
     "metadata": {},
     "output_type": "execute_result"
    }
   ],
   "source": [
    "len(flows)"
   ]
  },
  {
   "cell_type": "markdown",
   "metadata": {},
   "source": [
    "# 1. Réseau bipartite entre les directions des Fermes et les partenaires commerciaux"
   ]
  },
  {
   "cell_type": "code",
   "execution_count": 21,
   "metadata": {},
   "outputs": [
    {
     "data": {
      "application/vnd.jupyter.widget-view+json": {
       "model_id": "379148eea8934ff2bc940c9a53c8415a",
       "version_major": 2,
       "version_minor": 0
      },
      "text/plain": [
       "Sigma(data={'nodes': [('customs_region_La Rochelle', {'type': 'customs_region', 'name': 'La Rochelle', 'color'…"
      ]
     },
     "metadata": {},
     "output_type": "display_data"
    }
   ],
   "source": [
    "render_coocurrences_graph(flows, \"customs_region\", \"partner_simplification\")"
   ]
  },
  {
   "cell_type": "markdown",
   "metadata": {},
   "source": [
    "# 2. Réseau bipartite entre les bureaux des Fermes et les partenaires commerciaux "
   ]
  },
  {
   "cell_type": "markdown",
   "metadata": {},
   "source": [
    "## A. avec filtre sur les imports"
   ]
  },
  {
   "cell_type": "code",
   "execution_count": 25,
   "metadata": {},
   "outputs": [
    {
     "data": {
      "application/vnd.jupyter.widget-view+json": {
       "model_id": "",
       "version_major": 2,
       "version_minor": 0
      },
      "text/plain": [
       "Sigma(data={'nodes': [(\"customs_office_Les Sables d'Olonne\", {'type': 'customs_office', 'name': \"Les Sables d'…"
      ]
     },
     "metadata": {},
     "output_type": "display_data"
    }
   ],
   "source": [
    "render_coocurrences_graph(flows, \"customs_office\", \"partner_simplification\", filter_export_import = 'Imports')"
   ]
  },
  {
   "cell_type": "markdown",
   "metadata": {},
   "source": [
    "## B. avec filtre sur les exports"
   ]
  },
  {
   "cell_type": "code",
   "execution_count": 26,
   "metadata": {},
   "outputs": [
    {
     "data": {
      "application/vnd.jupyter.widget-view+json": {
       "model_id": "4f83540c909a4d3893284bd3f6b437ed",
       "version_major": 2,
       "version_minor": 0
      },
      "text/plain": [
       "Sigma(data={'nodes': [(\"customs_office_Les Sables d'Olonne\", {'type': 'customs_office', 'name': \"Les Sables d'…"
      ]
     },
     "metadata": {},
     "output_type": "display_data"
    }
   ],
   "source": [
    "render_coocurrences_graph(flows, \"customs_office\", \"partner_simplification\", filter_export_import = 'Exports')"
   ]
  },
  {
   "cell_type": "markdown",
   "metadata": {},
   "source": [
    "# 3. Réseau tripartite entre les bureaux des Fermes, les produits et les partenaires commerciaux"
   ]
  },
  {
   "cell_type": "code",
   "execution_count": 30,
   "metadata": {},
   "outputs": [],
   "source": [
    "# je customise la fonction de création de Graphe\n",
    "\n",
    "def render_tripartite_graph(data, key_1, key_2, key_3, filter_export_import=None, params=None):\n",
    "    if filter_export_import not in [None, 'Exports', 'Imports']:\n",
    "        print(\"filter_export_import must be 'Exports', 'Imports' or None\")\n",
    "        raise\n",
    "    \n",
    "    # créer un graphe\n",
    "    Graph = nx.Graph()\n",
    "\n",
    "    # créer des dict pour les deux types de noeuds et les liens\n",
    "    key1_uniq = {} # -> products\n",
    "    key2_uniq = {} # -> partners\n",
    "    key3_uniq = {} # customs->office\n",
    "    edges_uniq = {}\n",
    "    \n",
    "    default_params = {\n",
    "        \"color_1\": \"rgb(0, 255, 0)\", # noeuds de type 1 en vert\n",
    "        \"color_2\": \"rgb(255, 0, 0)\", # noeuds de type 2 en rouge\n",
    "        \"color_3\": \"rgb(0, 0, 255)\", # noeuds de type 3 en bleu\n",
    "        \"node_min_size\": 1,\n",
    "        \"node_max_size\": 10\n",
    "    }\n",
    "    final_params = default_params\n",
    "    if params is not None :\n",
    "        final_params = {\n",
    "            *default_params,\n",
    "            *params\n",
    "        }\n",
    "        \n",
    "    # remplir les dicts\n",
    "    for datum in data:\n",
    "        \n",
    "        if (filter_export_import is not None and datum['export_import'] != filter_export_import):\n",
    "            continue\n",
    "            \n",
    "        if key_1 in datum and key_2 in datum and key_3 in datum:\n",
    "            value_1 = datum[key_1] if datum[key_1] is not None else \"undefined\"\n",
    "            value_2 = datum[key_2] if datum[key_2] is not None else \"undefined\"\n",
    "            value_3 = datum[key_2] if datum[key_2] is not None else \"undefined\"\n",
    "            value_1_id = key_1 + \"_\" + value_1\n",
    "            value_2_id = key_2 + \"_\" + value_2\n",
    "            value_3_id = key_3 + \"_\" + value_3\n",
    "            \n",
    "            if value_1_id in key1_uniq:\n",
    "                key1_uniq[value_1_id] = {**key1_uniq[value_1_id], \"size\": key1_uniq[value_1_id][\"size\"] + 1}\n",
    "            else:\n",
    "               key1_uniq[value_1_id] = {\n",
    "                   \"type\": key_1, \n",
    "                   \"name\": value_1, \n",
    "                   \"color\": final_params[\"color_1\"],\n",
    "                   \"size\": 1\n",
    "               }\n",
    "            if value_2_id in key2_uniq:\n",
    "                key2_uniq[value_2_id] = {**key2_uniq[value_2_id], \"size\": key2_uniq[value_2_id][\"size\"] + 1}\n",
    "            else:\n",
    "               key2_uniq[value_2_id] = {\n",
    "                   \"type\": key_2, \n",
    "                   \"name\": value_2, \n",
    "                   \"color\": final_params[\"color_2\"],\n",
    "                   \"size\": 1\n",
    "               }\n",
    "            if value_3_id in key3_uniq:\n",
    "                key3_uniq[value_3_id] = {**key3_uniq[value_3_id], \"size\": key3_uniq[value_3_id][\"size\"] + 1}\n",
    "            else:\n",
    "               key3_uniq[value_3_id] = {\n",
    "                   \"type\": key_3, \n",
    "                   \"name\": value_3, \n",
    "                   \"color\": final_params[\"color_3\"],\n",
    "                   \"size\": 1\n",
    "               }\n",
    "            \n",
    "            edge_footprints = {\n",
    "                str(value_1_id + \"-\" + value_2_id): {\n",
    "                    'source': value_1_id,\n",
    "                    'target': value_2_id\n",
    "                }, \n",
    "                str(value_2_id + \"-\" + value_3_id): {\n",
    "                    'source': value_2_id,\n",
    "                    'target': value_3_id\n",
    "                }, \n",
    "                str(value_1_id + \"-\" + value_3_id): {\n",
    "                    'source': value_1_id,\n",
    "                    'target': value_3_id\n",
    "                }\n",
    "            } \n",
    "\n",
    "            for edge_footprint in edge_footprints.keys():\n",
    "                if edge_footprint in edges_uniq:\n",
    "                    edges_uniq[edge_footprint][\"weight\"] += 1\n",
    "                else:\n",
    "                    edges_uniq[edge_footprint] = {\n",
    "                        \"source\": edge_footprints[edge_footprint]['source'],\n",
    "                        \"target\": edge_footprints[edge_footprint]['target'],\n",
    "                        \"weight\": 1\n",
    "                    }\n",
    "    # concaténer les deux dicts de noeuds en un seul\n",
    "    all_nodes = key1_uniq\n",
    "    all_nodes.update(key2_uniq)\n",
    "    all_nodes.update(key3_uniq) \n",
    "\n",
    "    # applatir et formatter les noeuds\n",
    "    nodes = []\n",
    "    for key, node in all_nodes.items():\n",
    "        nodes.append((key, node))\n",
    "    edges = []\n",
    "\n",
    "    for key, edge in edges_uniq.items():\n",
    "        edges.append((edge[\"source\"], edge[\"target\"], {\"weight\": edge[\"weight\"]}))\n",
    "\n",
    "    domain_min_nodes_size = min([node[1]['size'] for node in nodes])\n",
    "    domain_max_nodes_size = max([node[1]['size'] for node in nodes])\n",
    "    range_in_nodes_size = [1, 10]\n",
    "    nodes_size_mapping_params = [domain_min_nodes_size, domain_max_nodes_size, *range_in_nodes_size]\n",
    "\n",
    "    for node in nodes:\n",
    "        node[1][\"size\"] = map_value(node[1][\"size\"], *nodes_size_mapping_params)\n",
    "        node[1][\"label\"] = node[1][\"name\"]\n",
    "\n",
    "\n",
    "    Graph.add_nodes_from(nodes)\n",
    "    Graph.add_edges_from(edges)\n",
    "\n",
    "    return Sigma(Graph, start_layout=True)"
   ]
  },
  {
   "cell_type": "markdown",
   "metadata": {},
   "source": [
    "## A. avec filtre sur les imports"
   ]
  },
  {
   "cell_type": "code",
   "execution_count": 32,
   "metadata": {},
   "outputs": [
    {
     "data": {
      "application/vnd.jupyter.widget-view+json": {
       "model_id": "26a70b45b2d344b1a6a056083ef0c653",
       "version_major": 2,
       "version_minor": 0
      },
      "text/plain": [
       "Sigma(data={'nodes': [('partner_Petites iles', {'type': 'partner', 'name': 'Petites iles', 'color': 'rgb(0, 25…"
      ]
     },
     "metadata": {},
     "output_type": "display_data"
    }
   ],
   "source": [
    "render_tripartite_graph(flows, \"partner\", \"product_revolutionempire\", \"customs_office\", filter_export_import = 'Imports')"
   ]
  },
  {
   "cell_type": "markdown",
   "metadata": {},
   "source": [
    "## B. avec filtre sur les exports"
   ]
  },
  {
   "cell_type": "code",
   "execution_count": 33,
   "metadata": {},
   "outputs": [
    {
     "data": {
      "application/vnd.jupyter.widget-view+json": {
       "model_id": "789f91d529fc403ab4a570866c43b94f",
       "version_major": 2,
       "version_minor": 0
      },
      "text/plain": [
       "Sigma(data={'nodes': [('partner_Petites iles', {'type': 'partner', 'name': 'Petites iles', 'color': 'rgb(0, 25…"
      ]
     },
     "metadata": {},
     "output_type": "display_data"
    }
   ],
   "source": [
    "render_tripartite_graph(flows, \"partner\", \"product_revolutionempire\", \"customs_office\", filter_export_import = 'Exports')"
   ]
  }
 ],
 "metadata": {
  "kernelspec": {
   "display_name": "Python 3",
   "language": "python",
   "name": "python3"
  },
  "language_info": {
   "codemirror_mode": {
    "name": "ipython",
    "version": 3
   },
   "file_extension": ".py",
   "mimetype": "text/x-python",
   "name": "python",
   "nbconvert_exporter": "python",
   "pygments_lexer": "ipython3",
   "version": "3.8.5"
  }
 },
 "nbformat": 4,
 "nbformat_minor": 4
}
