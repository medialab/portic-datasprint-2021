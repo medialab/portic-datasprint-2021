{
 "cells": [
  {
   "cell_type": "markdown",
   "metadata": {},
   "source": [
    "## Croisement partenaires commerciaux Navigo / Toflit\n",
    "\n",
    "### Objectif : obtenir un diagramme alluvial qui représente le croisement entre ports Navigo dans lesquels on a des pointcalls 'In' (ce qu'on pourrait analyser comme des destinataires d'exports) et les partenaires commerciaux Toflit18 pour les flux concernant le sprint\n",
    "\n",
    "=> RAWGraphs"
   ]
  },
  {
   "cell_type": "code",
   "execution_count": 9,
   "metadata": {},
   "outputs": [],
   "source": [
    "from poitousprint import Portic, Toflit, get_pointcalls_port_as_toflit_partner\n",
    "\n",
    "toflit_client = Toflit()\n",
    "portic_client = Portic()"
   ]
  },
  {
   "cell_type": "code",
   "execution_count": 27,
   "metadata": {},
   "outputs": [],
   "source": [
    "chosen_pointcall_actions = 'Out'"
   ]
  },
  {
   "cell_type": "code",
   "execution_count": 28,
   "metadata": {},
   "outputs": [
    {
     "name": "stdout",
     "output_type": "stream",
     "text": [
      "[{'pkid': 85774, 'record_id': '00342052', 'pointcall': 'La Rochelle', 'pointcall_uhgs_id': 'A0198999', 'toponyme_fr': 'La Rochelle', 'toponyme_en': 'La Rochelle', 'latitude': '46.166667', 'longitude': '-1.15', 'pointcall_admiralty': 'La Rochelle', 'pointcall_province': 'Aunis', 'pointcall_states': '[{\"1749-1815\" : \"France\"}]', 'pointcall_substates': None, 'pointcall_states_en': '[{\"1749-1815\" : \"France\"}]', 'pointcall_substates_en': None, 'state_1789_fr': 'France', 'state_1789_en': 'France', 'substate_1789_fr': None, 'substate_1789_en': None, 'source_1787_available': True, 'source_1789_available': True, 'pointcall_status': 'siège amirauté', 'shiparea': 'ACE-ROCH', 'pointcall_point': '0101000020110F000054C16EA11641FFC0ACD86784FE265641', 'ferme_direction': 'La Rochelle', 'ferme_bureau': 'La Rochelle', 'ferme_bureau_uncertainty': 0.0, 'partner_balance_1789': None, 'partner_balance_supp_1789': 'France', 'partner_balance_1789_uncertainty': None, 'partner_balance_supp_1789_uncertainty': 0.0, 'pointcall_out_date': '1789=08=24', 'pointcall_action': 'Out', 'outdate_fixed': -5691427200000, 'pointcall_in_date': None, 'indate_fixed': None, 'net_route_marker': None, 'pointcall_function': 'O', 'navigo_status': 'PC-RF', 'ship_name': 'Saint Jean Marie', 'ship_id': '0007555N', 'tonnage': '24', 'tonnage_unit': 'tx', 'flag': 'French', 'class': 'Chasse-marée', 'ship_flag_id': 'A0167415', 'in_crew': None, 'homeport': 'Arzon', 'homeport_uhgs_id': 'A0145524', 'homeport_toponyme_fr': 'Arzon', 'homeport_toponyme_en': 'Arzon', 'homeport_latitude': '47.549033', 'homeport_longitude': '-2.893367', 'homeport_admiralty': 'Vannes', 'homeport_province': 'Bretagne', 'homeport_states': '[{\"1749-1815\" : \"France\"}]', 'homeport_substates': None, 'homeport_states_en': '[{\"1749-1815\" : \"France\"}]', 'homeport_substates_en': None, 'homeport_state_1789_fr': 'France', 'homeport_state_1789_en': 'France', 'homeport_substate_1789_fr': None, 'homeport_substate_1789_en': None, 'homeport_source_1787_available': False, 'homeport_source_1789_available': False, 'homeport_status': None, 'homeport_shiparea': 'ACE-IROI', 'homeport_point': 'SRID=3857;POINT(-322088.141118062 6032155.24377141)', 'homeport_ferme_direction': None, 'homeport_ferme_bureau': None, 'homeport_ferme_bureau_uncertainty': None, 'homeport_partner_balance_1789': None, 'homeport_partner_balance_supp_1789': 'France', 'homeport_partner_balance_1789_uncertainty': None, 'homeport_partner_balance_supp_1789_uncertainty': 0.0, 'source_doc_id': '00342052', 'source_text': 'ANF, G5-132-2/9064', 'source_suite': 'G5', 'source_component': 'ANF, G5-132-2', 'source_number': 9064.0, 'source_other': None, 'source_main_port_uhgs_id': 'A0198999', 'source_main_port_toponyme': 'La Rochelle', 'source_subset': 'Poitou_1789', 'captain_id': '00007757', 'captain_name': 'Corchant, Joseph', 'birthplace': None, 'status': None, 'citizenship': None, 'commodity_purpose': None, 'commodity_id': None, 'quantity': None, 'quantity_u': None, 'commodity_standardized': None, 'commodity_standardized_fr': None, 'commodity_permanent_coding': None, 'all_cargos': None, 'tax_concept': 'Droit de congé français', 'payment_date': None, 'q01': '1.0', 'q01_u': 'l.t.', 'q02': None, 'q02_u': None, 'q03': None, 'q03_u': None, 'all_taxes': [{'q01': '1.0', 'q02': None, 'q03': None, 'q01_u': 'l.t.', 'q02_u': None, 'q03_u': None, 'tax_concept': 'Droit de congé français', 'payment_date': None, 'link_to_pointcall': '00342052'}], 'ship_uncertainity': 0, 'tonnage_uncertainity': -1, 'flag_uncertainity': -2, 'homeport_uncertainity': 0, 'pointcall_uncertainity': 0, 'captain_uncertainity': 0, 'cargo_uncertainity': -4, 'taxe_uncertainity': 0, 'pointcall_in_date2': None, 'pointcall_out_date2': '1789=08=24', 'date_fixed': -5691427200000, 'pointcall_rankfull': 10, 'ship_flag_standardized_fr': 'français', 'ship_flag_standardized_en': 'French', 'tonnage_class': '[21-50]', 'commodity_purpose2': None, 'commodity_id2': None, 'quantity2': None, 'quantity_u2': None, 'commodity_standardized2': None, 'commodity_standardized2_fr': None, 'commodity_permanent_coding2': None, 'commodity_purpose3': None, 'commodity_id3': None, 'quantity3': None, 'quantity_u3': None, 'commodity_standardized3': None, 'commodity_standardized3_fr': None, 'commodity_permanent_coding3': None, 'commodity_purpose4': None, 'commodity_id4': None, 'quantity4': None, 'quantity_u4': None, 'commodity_standardized4': None, 'commodity_standardized4_fr': None, 'commodity_permanent_coding4': None, 'data_block_leader_marker': 'A', 'pointcall_outdate_uncertainity': -1, 'shipclass_uncertainity': -2, 'birthplace_uhgs_id_uncertainity': -4, 'birthplace_uncertainity': -4, 'citizenship_uncertainity': -4, 'birthplace_uhgs_id': None, 'pointcall_as_toflit_partner': 'France'}]\n"
     ]
    }
   ],
   "source": [
    "# récupération de tous les ports navigo concernés\n",
    "\n",
    "pointcalls_datasprint = portic_client.get_pointcalls(\n",
    " # year = 1789,\n",
    " # pointcall_admiralty = ['La Rochelle', 'Marennes', 'Sables d\\'Olonne'],\n",
    " source_subset = 'Poitou_1789',\n",
    " pointcall_action = chosen_pointcall_actions\n",
    ")\n",
    "\n",
    "croisement_partners = get_pointcalls_port_as_toflit_partner(pointcalls_datasprint, 'partner_grouping')\n",
    "print(croisement_partners[0:1])"
   ]
  },
  {
   "cell_type": "code",
   "execution_count": 29,
   "metadata": {},
   "outputs": [
    {
     "data": {
      "text/plain": [
       "[{'port_navigo': 'La Rochelle', 'toflit_partner': 'France'},\n",
       " {'port_navigo': 'Marennes', 'toflit_partner': 'France'},\n",
       " {'port_navigo': 'Marennes', 'toflit_partner': 'France'},\n",
       " {'port_navigo': 'Marennes', 'toflit_partner': 'France'},\n",
       " {'port_navigo': 'Aligre de Marans', 'toflit_partner': 'France'},\n",
       " {'port_navigo': 'Ribérou [Saujon]', 'toflit_partner': 'France'},\n",
       " {'port_navigo': 'Ribérou [Saujon]', 'toflit_partner': 'France'},\n",
       " {'port_navigo': 'Ribérou [Saujon]', 'toflit_partner': 'France'},\n",
       " {'port_navigo': 'Aligre de Marans', 'toflit_partner': 'France'},\n",
       " {'port_navigo': 'Ars en Ré', 'toflit_partner': 'France'},\n",
       " {'port_navigo': \"Saint Denis [d' Oléron]\", 'toflit_partner': 'France'},\n",
       " {'port_navigo': 'Royan', 'toflit_partner': 'France'},\n",
       " {'port_navigo': 'Aligre de Marans', 'toflit_partner': 'France'},\n",
       " {'port_navigo': 'Aligre de Marans', 'toflit_partner': 'France'},\n",
       " {'port_navigo': 'Ribérou [Saujon]', 'toflit_partner': 'France'},\n",
       " {'port_navigo': 'Marennes', 'toflit_partner': 'France'},\n",
       " {'port_navigo': 'Royan', 'toflit_partner': 'France'},\n",
       " {'port_navigo': \"Saint Denis [d' Oléron]\", 'toflit_partner': 'France'},\n",
       " {'port_navigo': \"Saint Denis [d' Oléron]\", 'toflit_partner': 'France'},\n",
       " {'port_navigo': 'Noirmoutier', 'toflit_partner': 'France'},\n",
       " {'port_navigo': 'Saint Martin de Ré', 'toflit_partner': 'France'},\n",
       " {'port_navigo': 'Ars en Ré', 'toflit_partner': 'France'},\n",
       " {'port_navigo': 'Ars en Ré', 'toflit_partner': 'France'},\n",
       " {'port_navigo': 'Beauvoir-sur-Mer', 'toflit_partner': 'France'},\n",
       " {'port_navigo': 'Saint Gilles sur Vie', 'toflit_partner': 'France'},\n",
       " {'port_navigo': \"Le Chateau [d' Oléron]\", 'toflit_partner': 'France'},\n",
       " {'port_navigo': 'La Rochelle', 'toflit_partner': 'France'},\n",
       " {'port_navigo': 'La Rochelle', 'toflit_partner': 'France'},\n",
       " {'port_navigo': 'La Rochelle', 'toflit_partner': 'France'},\n",
       " {'port_navigo': 'La Rochelle', 'toflit_partner': 'France'}]"
      ]
     },
     "execution_count": 29,
     "metadata": {},
     "output_type": "execute_result"
    }
   ],
   "source": [
    "# écriture des alignements dans un dict avec une ligne par match pour grossir les liens selon quantité de pointcalls concernés dans le diagramme alluvial\n",
    "ports_navigo = []\n",
    "\n",
    "for pointcall in croisement_partners:\n",
    "    ports_navigo.append({\n",
    "        'port_navigo': pointcall['pointcall'],\n",
    "        'toflit_partner':pointcall['pointcall_as_toflit_partner']\n",
    "    })\n",
    "\n",
    "ports_navigo[0:30]"
   ]
  },
  {
   "cell_type": "code",
   "execution_count": 30,
   "metadata": {},
   "outputs": [],
   "source": [
    "# écriture dans un csv\n",
    "import csv\n",
    "from csv import DictWriter\n",
    "\n",
    "# tableau qui contient une colonne par clé de dict \n",
    "with open('dumps/croisement_ports_' + str(chosen_pointcall_actions) + '_partners_datasprint.csv', 'w', newline='') as csvfile:\n",
    "        fieldnames = ['port_navigo','toflit_partner']\n",
    "        writer = csv.DictWriter(csvfile, fieldnames=fieldnames)\n",
    "\n",
    "        writer.writeheader()\n",
    "        for pointcall in ports_navigo:\n",
    "            writer.writerow(pointcall)"
   ]
  }
 ],
 "metadata": {
  "kernelspec": {
   "display_name": "Python 3",
   "language": "python",
   "name": "python3"
  },
  "language_info": {
   "codemirror_mode": {
    "name": "ipython",
    "version": 3
   },
   "file_extension": ".py",
   "mimetype": "text/x-python",
   "name": "python",
   "nbconvert_exporter": "python",
   "pygments_lexer": "ipython3",
   "version": "3.8.5"
  }
 },
 "nbformat": 4,
 "nbformat_minor": 2
}
