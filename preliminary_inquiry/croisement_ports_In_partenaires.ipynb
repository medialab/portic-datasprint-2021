{
 "cells": [
  {
   "cell_type": "markdown",
   "metadata": {},
   "source": [
    "## Croisement partenaires commerciaux Navigo / Toflit\n",
    "\n",
    "### Objectif : obtenir un diagramme alluvial qui représente le croisement entre ports Navigo dans lesquels on a des pointcalls 'In' (ce qu'on pourrait analyser comme des destinataires d'exports) et les partenaires commerciaux Toflit18 pour les flux concernant le sprint\n",
    "\n",
    "=> RAWGraphs"
   ]
  },
  {
   "cell_type": "code",
   "execution_count": 4,
   "metadata": {},
   "outputs": [],
   "source": [
    "from poitousprint import Portic, Toflit, get_pointcalls_port_as_toflit_partner\n",
    "\n",
    "toflit_client = Toflit()\n",
    "portic_client = Portic()\n",
    "\n"
   ]
  },
  {
   "cell_type": "code",
   "execution_count": 5,
   "metadata": {},
   "outputs": [
    {
     "name": "stdout",
     "output_type": "stream",
     "text": [
      "[{'pkid': 86502, 'record_id': '00342781', 'pointcall': 'Ile de Ré', 'pointcall_uhgs_id': 'A0151330', 'toponyme_fr': 'île de Ré', 'toponyme_en': 'île de Ré', 'latitude': '46.2', 'longitude': '-1.416667', 'pointcall_admiralty': 'La Rochelle', 'pointcall_province': 'Aunis', 'pointcall_states': '[{\"1749-1815\" : \"France\"}]', 'pointcall_substates': None, 'pointcall_states_en': '[{\"1749-1815\" : \"France\"}]', 'pointcall_substates_en': None, 'state_1789_fr': 'France', 'state_1789_en': 'France', 'substate_1789_fr': None, 'substate_1789_en': None, 'source_1787_available': False, 'source_1789_available': False, 'pointcall_status': None, 'shiparea': 'ACE-ROCH', 'pointcall_point': '0101000020110F000026464831354003C19725725F3A2C5641', 'ferme_direction': None, 'ferme_bureau': None, 'ferme_bureau_uncertainty': None, 'partner_balance_1789': None, 'partner_balance_supp_1789': 'France', 'partner_balance_1789_uncertainty': None, 'partner_balance_supp_1789_uncertainty': 0.0, 'pointcall_out_date': None, 'pointcall_action': 'In', 'outdate_fixed': None, 'pointcall_in_date': '1789>03>14', 'indate_fixed': None, 'net_route_marker': 'A', 'pointcall_function': 'T', 'navigo_status': 'FC-RF', 'ship_name': 'Saint Louis', 'ship_id': '0021541N', 'tonnage': '14', 'tonnage_unit': 'tx', 'flag': 'French', 'class': None, 'ship_flag_id': 'A0167415', 'in_crew': None, 'homeport': 'Aligre', 'homeport_uhgs_id': 'A1964694', 'homeport_toponyme_fr': 'Marans', 'homeport_toponyme_en': 'Marans', 'homeport_latitude': '46.312468', 'homeport_longitude': '-0.995682', 'homeport_admiralty': 'La Rochelle', 'homeport_province': 'Aunis', 'homeport_states': '[{\"1749-1815\" : \"France\"}]', 'homeport_substates': None, 'homeport_states_en': '[{\"1749-1815\" : \"France\"}]', 'homeport_substates_en': None, 'homeport_state_1789_fr': 'France', 'homeport_state_1789_en': 'France', 'homeport_substate_1789_fr': None, 'homeport_substate_1789_en': None, 'homeport_source_1787_available': True, 'homeport_source_1789_available': True, 'homeport_status': 'oblique', 'homeport_shiparea': 'ACE-ROCH', 'homeport_point': 'SRID=3857;POINT(-110838.813232027 5830564.61167064)', 'homeport_ferme_direction': 'La Rochelle', 'homeport_ferme_bureau': 'Alligre', 'homeport_ferme_bureau_uncertainty': 0.0, 'homeport_partner_balance_1789': None, 'homeport_partner_balance_supp_1789': 'France', 'homeport_partner_balance_1789_uncertainty': None, 'homeport_partner_balance_supp_1789_uncertainty': 0.0, 'source_doc_id': '00332880', 'source_text': 'ANF, G5-39B/8567', 'source_suite': 'G5', 'source_component': 'ANF, G5-39B', 'source_number': 8567.0, 'source_other': None, 'source_main_port_uhgs_id': 'A1964694', 'source_main_port_toponyme': 'Aligre de Marans', 'source_subset': 'Poitou_1789', 'captain_id': '00021464', 'captain_name': 'Claveau, François', 'birthplace': None, 'status': None, 'citizenship': None, 'commodity_purpose': 'Bois', 'commodity_id': '00000051', 'quantity': None, 'quantity_u': None, 'commodity_standardized': 'Wood', 'commodity_standardized_fr': 'Bois', 'commodity_permanent_coding': 'IB-Axxxxx-xx-xxxxxx-xxxx', 'all_cargos': [{'quantity': None, 'quantity_u': None, 'commodity_id': '00000051', 'commodity_purpose': 'Bois', 'link_to_pointcall': '00332880', 'commodity_standardized_en': 'Wood', 'commodity_standardized_fr': 'Bois', 'commodity_permanent_coding': 'IB-Axxxxx-xx-xxxxxx-xxxx'}], 'tax_concept': 'Droit de congé français', 'payment_date': None, 'q01': None, 'q01_u': None, 'q02': '10.0', 'q02_u': None, 'q03': None, 'q03_u': None, 'all_taxes': [{'q01': None, 'q02': '10.0', 'q03': None, 'q01_u': None, 'q02_u': None, 'q03_u': None, 'tax_concept': 'Droit de congé français', 'payment_date': None, 'link_to_pointcall': '00332880'}], 'ship_uncertainity': 0, 'tonnage_uncertainity': 0, 'flag_uncertainity': -2, 'homeport_uncertainity': 0, 'pointcall_uncertainity': -1, 'captain_uncertainity': 0, 'cargo_uncertainity': 0, 'taxe_uncertainity': 0, 'pointcall_in_date2': '1789=03=14', 'pointcall_out_date2': None, 'date_fixed': None, 'pointcall_rankfull': 5, 'ship_flag_standardized_fr': 'français', 'ship_flag_standardized_en': 'French', 'tonnage_class': '[1-20]', 'commodity_purpose2': None, 'commodity_id2': None, 'quantity2': None, 'quantity_u2': None, 'commodity_standardized2': None, 'commodity_standardized2_fr': None, 'commodity_permanent_coding2': None, 'commodity_purpose3': None, 'commodity_id3': None, 'quantity3': None, 'quantity_u3': None, 'commodity_standardized3': None, 'commodity_standardized3_fr': None, 'commodity_permanent_coding3': None, 'commodity_purpose4': None, 'commodity_id4': None, 'quantity4': None, 'quantity_u4': None, 'commodity_standardized4': None, 'commodity_standardized4_fr': None, 'commodity_permanent_coding4': None, 'data_block_leader_marker': 'T', 'pointcall_outdate_uncertainity': -1, 'shipclass_uncertainity': -4, 'birthplace_uhgs_id_uncertainity': -4, 'birthplace_uncertainity': -4, 'citizenship_uncertainity': -4, 'birthplace_uhgs_id': None, 'pointcall_as_toflit_partner': 'France'}]\n"
     ]
    }
   ],
   "source": [
    "# récupération de tous les ports navigo concernés\n",
    "\n",
    "pointcalls_datasprint = portic_client.get_pointcalls(\n",
    " year = 1789,\n",
    " pointcall_admiralty = ['La Rochelle', 'Marennes', 'Sables d\\'Olonne'],\n",
    " pointcall_action = 'In'\n",
    ")\n",
    "\n",
    "croisement_partners = get_pointcalls_port_as_toflit_partner(pointcalls_datasprint, 'partner_grouping')\n",
    "print(croisement_partners[0:1])"
   ]
  },
  {
   "cell_type": "code",
   "execution_count": 6,
   "metadata": {},
   "outputs": [
    {
     "data": {
      "text/plain": [
       "[{'port_navigo': 'Ile de Ré', 'toflit_partner': 'France'},\n",
       " {'port_navigo': 'Ile de Ré', 'toflit_partner': 'France'},\n",
       " {'port_navigo': 'Ile de Ré', 'toflit_partner': 'France'},\n",
       " {'port_navigo': 'Esnandes', 'toflit_partner': 'France'},\n",
       " {'port_navigo': 'Le Plomb', 'toflit_partner': 'France'},\n",
       " {'port_navigo': 'Le Plomb', 'toflit_partner': 'France'},\n",
       " {'port_navigo': 'Oléron', 'toflit_partner': 'France'},\n",
       " {'port_navigo': 'Oléron', 'toflit_partner': 'France'},\n",
       " {'port_navigo': 'Oléron', 'toflit_partner': 'France'},\n",
       " {'port_navigo': 'Marennes', 'toflit_partner': 'France'},\n",
       " {'port_navigo': 'Oléron', 'toflit_partner': 'France'},\n",
       " {'port_navigo': 'Oléron', 'toflit_partner': 'France'},\n",
       " {'port_navigo': 'Oléron', 'toflit_partner': 'France'},\n",
       " {'port_navigo': 'Oléron', 'toflit_partner': 'France'},\n",
       " {'port_navigo': 'La Rochelle', 'toflit_partner': 'France'},\n",
       " {'port_navigo': 'La Rochelle', 'toflit_partner': 'France'},\n",
       " {'port_navigo': 'La Rochelle', 'toflit_partner': 'France'},\n",
       " {'port_navigo': 'Ile de Ré', 'toflit_partner': 'France'},\n",
       " {'port_navigo': 'Rochefort', 'toflit_partner': 'France'},\n",
       " {'port_navigo': 'Oléron', 'toflit_partner': 'France'},\n",
       " {'port_navigo': 'Marennes', 'toflit_partner': 'France'},\n",
       " {'port_navigo': 'Marennes', 'toflit_partner': 'France'},\n",
       " {'port_navigo': 'La Tremblade', 'toflit_partner': 'France'},\n",
       " {'port_navigo': 'La Tremblade', 'toflit_partner': 'France'},\n",
       " {'port_navigo': 'La Rochelle', 'toflit_partner': 'France'},\n",
       " {'port_navigo': 'Aligre de Marans', 'toflit_partner': 'France'},\n",
       " {'port_navigo': 'Aligre de Marans', 'toflit_partner': 'France'},\n",
       " {'port_navigo': 'Oléron', 'toflit_partner': 'France'},\n",
       " {'port_navigo': 'Rochefort', 'toflit_partner': 'France'},\n",
       " {'port_navigo': 'La Rochelle', 'toflit_partner': 'France'}]"
      ]
     },
     "execution_count": 6,
     "metadata": {},
     "output_type": "execute_result"
    }
   ],
   "source": [
    "ports_navigo = []\n",
    "\n",
    "for pointcall in croisement_partners:\n",
    "    ports_navigo.append({\n",
    "        'port_navigo': pointcall['pointcall'],\n",
    "        'toflit_partner':pointcall['pointcall_as_toflit_partner']\n",
    "    })\n",
    "\n",
    "ports_navigo[0:30]"
   ]
  },
  {
   "cell_type": "code",
   "execution_count": 8,
   "metadata": {},
   "outputs": [],
   "source": [
    "# écriture dans un csv\n",
    "import csv\n",
    "from csv import DictWriter\n",
    "\n",
    "# tableau qui contient une colonne par clé de dict \n",
    "with open('dumps/croisement_ports_partners_datasprint.csv', 'w', newline='') as csvfile:\n",
    "        fieldnames = ['port_navigo','toflit_partner']\n",
    "        writer = csv.DictWriter(csvfile, fieldnames=fieldnames)\n",
    "\n",
    "        writer.writeheader()\n",
    "        for pointcall in ports_navigo:\n",
    "            writer.writerow(pointcall)"
   ]
  }
 ],
 "metadata": {
  "kernelspec": {
   "display_name": "Python 3",
   "language": "python",
   "name": "python3"
  },
  "language_info": {
   "codemirror_mode": {
    "name": "ipython",
    "version": 3
   },
   "file_extension": ".py",
   "mimetype": "text/x-python",
   "name": "python",
   "nbconvert_exporter": "python",
   "pygments_lexer": "ipython3",
   "version": "3.8.5"
  }
 },
 "nbformat": 4,
 "nbformat_minor": 2
}
