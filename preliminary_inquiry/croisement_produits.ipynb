{
 "metadata": {
  "language_info": {
   "codemirror_mode": {
    "name": "ipython",
    "version": 3
   },
   "file_extension": ".py",
   "mimetype": "text/x-python",
   "name": "python",
   "nbconvert_exporter": "python",
   "pygments_lexer": "ipython3",
   "version": "3.7.3-final"
  },
  "orig_nbformat": 2,
  "kernelspec": {
   "name": "python3",
   "display_name": "Python 3",
   "language": "python"
  }
 },
 "nbformat": 4,
 "nbformat_minor": 2,
 "cells": [
  {
   "source": [
    "## Objectif : \n",
    "Pour les produit commercés / transportés pour les flux concernant le datasprint, obtenir 3 ensembles :\n",
    "- ensemble 1 - produits qu'on retrouve à la fois dans Toflit18 et Portic\n",
    "- ensemble 2 - produits qu'on retrouve exclusivement dans Toflit18\n",
    "- ensemble 3 - produits qu'on retrouve exclusivement dans Portic"
   ],
   "cell_type": "markdown",
   "metadata": {}
  },
  {
   "cell_type": "code",
   "execution_count": 30,
   "metadata": {},
   "outputs": [],
   "source": [
    "# choix d'une classification d'alignement\n",
    "chosen_classification = 'product_revolutionempire'"
   ]
  },
  {
   "cell_type": "code",
   "execution_count": 31,
   "metadata": {},
   "outputs": [],
   "source": [
    "from poitousprint import Portic, Toflit, get_pointcalls_commodity_purposes_as_toflit_product\n",
    "\n",
    "toflit_client = Toflit()\n",
    "portic_client = Portic()\n"
   ]
  },
  {
   "cell_type": "code",
   "execution_count": 32,
   "metadata": {},
   "outputs": [],
   "source": [
    "# récupération des pointcalls Portic qui concernent le datasprint\n",
    "pointcalls_datasprint = portic_client.get_pointcalls(\n",
    " year = 1789,\n",
    " pointcall_admiralty = ['La Rochelle', 'Marennes', 'Sables d\\'Olonne']\n",
    ")\n",
    "\n",
    "# enrichissement de ces pointcalls avec la propriété 'commodity_as_toflit' qui nous donne l'équivalent des produits navigo dans Toflit18 avec la classification choisie\n",
    "croisement_produits = get_pointcalls_commodity_purposes_as_toflit_product(pointcalls_datasprint, product_classification=chosen_classification)"
   ]
  },
  {
   "cell_type": "code",
   "execution_count": 26,
   "metadata": {},
   "outputs": [
    {
     "output_type": "execute_result",
     "data": {
      "text/plain": [
       "{'Alcalis',\n",
       " 'Animaux',\n",
       " 'Armes, munitions, poudre et pierres à fusil',\n",
       " 'Beurre',\n",
       " 'Bière, cidre et vinaigre',\n",
       " 'Blé et autres grains comestibles',\n",
       " 'Bois divers hors combustible',\n",
       " 'Brai, goudron et résines',\n",
       " 'Bâtiments de mer et apparaux',\n",
       " 'Café',\n",
       " 'Cendres diverses',\n",
       " 'Chairs et œufs',\n",
       " 'Chanvre',\n",
       " 'Combustibles dont charbons et bois',\n",
       " 'Cordage et filets',\n",
       " 'Coton non transformé',\n",
       " 'Cuirs, peaux et pelleterie',\n",
       " 'Cuivre',\n",
       " 'Divers incertains',\n",
       " 'Divers mélangés',\n",
       " 'Eaux-de-vie et liqueurs',\n",
       " 'Farine, gruau, biscuits et pâtes',\n",
       " 'Fer',\n",
       " 'Fromage',\n",
       " 'Fruits frais',\n",
       " 'Fruits secs et noix',\n",
       " 'Graines diverses et mélangées',\n",
       " 'Graines grasses',\n",
       " 'Graisses diverses',\n",
       " 'Habits et lingerie',\n",
       " 'Huiles diverses',\n",
       " 'Laines non transformées diverses',\n",
       " 'Lin',\n",
       " 'Légumes',\n",
       " 'Matières premières diverses',\n",
       " 'Meubles, glaces et miroirs',\n",
       " None,\n",
       " 'Ouvrages de bois, liège et jonc',\n",
       " 'Ouvrages divers et mélangés',\n",
       " 'Ouvrages métalliques',\n",
       " 'Porcelaine, poterie, faïence et ouvrages de terre',\n",
       " 'Produits inconnus',\n",
       " 'Pêche et fruits de mer',\n",
       " 'Savon',\n",
       " 'Sel',\n",
       " 'Sortie pour pêche',\n",
       " 'Subsistances diverses et mélangées',\n",
       " 'Sucre',\n",
       " 'Verrerie',\n",
       " 'Vins divers',\n",
       " 'Êtres humains'}"
      ]
     },
     "metadata": {},
     "execution_count": 26
    }
   ],
   "source": [
    "navigo_products_for_datasprint = set()\n",
    "for pointcall in croisement_produits:\n",
    "    if pointcall['commodity_purposes'] is not None:\n",
    "        for commodity in pointcall['commodity_purposes']:\n",
    "            navigo_products_for_datasprint.add(commodity['commodity_as_toflit'])\n",
    "\n",
    "navigo_products_for_datasprint"
   ]
  },
  {
   "cell_type": "code",
   "execution_count": 33,
   "metadata": {},
   "outputs": [
    {
     "output_type": "execute_result",
     "data": {
      "text/plain": [
       "{'Acier',\n",
       " 'Alquifoux, mine de plomb et graphite',\n",
       " 'Alun',\n",
       " 'Animaux',\n",
       " 'Argenterie et orfèvrerie',\n",
       " 'Armes, munitions, poudre et pierres à fusil',\n",
       " 'Azur et cobalt',\n",
       " 'Beurre',\n",
       " 'Bijouterie et pierres fines',\n",
       " 'Bière, cidre et vinaigre',\n",
       " 'Blé et autres grains comestibles',\n",
       " 'Bois divers hors combustible',\n",
       " 'Bonneterie de soie',\n",
       " 'Bonneterie hors soie',\n",
       " 'Bouchons principalement en liège',\n",
       " 'Bougies, chandelles et flambeaux',\n",
       " 'Brai, goudron et résines',\n",
       " 'Bâtiments de mer et apparaux',\n",
       " 'Cacao et chocolat',\n",
       " 'Café',\n",
       " 'Cannelle',\n",
       " 'Chairs et œufs',\n",
       " 'Chanvre',\n",
       " 'Chapeaux hors paille et écorce',\n",
       " 'Chevaux et bêtes de somme',\n",
       " 'Châles et mouchoirs de soie',\n",
       " 'Châles et mouchoirs hors soie',\n",
       " 'Cire',\n",
       " 'Colles diverses',\n",
       " 'Combustibles dont charbons et bois',\n",
       " 'Cordage et filets',\n",
       " 'Cordonnerie et sellerie',\n",
       " 'Cornes, corail, écailles, ivoire et nacre',\n",
       " 'Coton non transformé',\n",
       " 'Cuirs, peaux et pelleterie',\n",
       " 'Cuivre',\n",
       " 'Céruse et blanc de plomb',\n",
       " 'Denrées coloniales et épiceries diverses',\n",
       " 'Divers incertains',\n",
       " 'Divers mélangés',\n",
       " 'Drogues diverses',\n",
       " 'Drogues médicinales diverses',\n",
       " 'Eaux-de-vie et liqueurs',\n",
       " 'Farine, gruau, biscuits et pâtes',\n",
       " 'Faucilles, faux et limes',\n",
       " 'Fer',\n",
       " 'Fer-blanc',\n",
       " 'Fils divers',\n",
       " 'Fleurs artificielles et ouvrages de mode',\n",
       " 'Fromage',\n",
       " 'Fruits frais',\n",
       " 'Fruits secs et noix',\n",
       " 'Gommes diverses',\n",
       " 'Graines de jardin',\n",
       " 'Graines diverses et mélangées',\n",
       " 'Graines grasses',\n",
       " 'Graisses diverses',\n",
       " 'Habits et lingerie',\n",
       " \"Huile d'olive à manger\",\n",
       " 'Huile de poisson',\n",
       " 'Huiles diverses',\n",
       " 'Indigo',\n",
       " 'Laines non transformées diverses',\n",
       " 'Librairie',\n",
       " 'Lin',\n",
       " 'Légumes',\n",
       " 'Manne et médicaments',\n",
       " 'Marbre brut et ouvré',\n",
       " 'Matières brutes et transformées pour teinture',\n",
       " 'Matières premières diverses',\n",
       " 'Mercerie',\n",
       " 'Meubles, glaces et miroirs',\n",
       " 'Mousseline, basin et nankin',\n",
       " 'Métaux divers et mélangés',\n",
       " \"Objets d'art et d'histoire naturelle\",\n",
       " 'Ouvrages de bois, liège et jonc',\n",
       " 'Ouvrages divers et mélangés',\n",
       " 'Ouvrages métalliques',\n",
       " 'Papier',\n",
       " 'Parfumerie et toilette',\n",
       " 'Plomb',\n",
       " 'Poils et crin',\n",
       " 'Poivre et piment',\n",
       " 'Porcelaine, poterie, faïence et ouvrages de terre',\n",
       " 'Produits inconnus',\n",
       " 'Pêche et fruits de mer',\n",
       " 'Quincaillerie',\n",
       " 'Quinquina',\n",
       " 'Riz',\n",
       " 'Rocou',\n",
       " 'Rubanerie et passementerie diverse',\n",
       " 'Réglisse',\n",
       " 'Salpêtre et soufre',\n",
       " 'Salsepareille',\n",
       " 'Savon',\n",
       " 'Sel',\n",
       " 'Sirop et mélasse',\n",
       " 'Soieries diverses',\n",
       " 'Subsistances diverses et mélangées',\n",
       " 'Sucre',\n",
       " 'Séné',\n",
       " 'Textiles manufacturés divers et mélangés',\n",
       " 'Thé',\n",
       " 'Toiles de chanvre et de lin',\n",
       " 'Toiles de coton',\n",
       " 'Toiles diverses',\n",
       " 'Verrerie',\n",
       " 'Vin de liqueurs',\n",
       " 'Vins de Bordeaux',\n",
       " 'Vins divers',\n",
       " 'Étain',\n",
       " 'Étoffes de laine',\n",
       " 'Étoffes de soie',\n",
       " 'Étoffes diverses'}"
      ]
     },
     "metadata": {},
     "execution_count": 33
    }
   ],
   "source": [
    "# récupération des flows Toflit18 qui concernent le datasprint\n",
    "flows = toflit_client.get_flows(\n",
    "    year=1789, \n",
    "    customs_region='La Rochelle',\n",
    ")\n",
    "\n",
    "toflit_products_for_datasprint = set()\n",
    "for flow in flows:\n",
    "    toflit_products_for_datasprint.add(flow[chosen_classification])\n",
    "\n",
    "toflit_products_for_datasprint"
   ]
  },
  {
   "cell_type": "code",
   "execution_count": 34,
   "metadata": {},
   "outputs": [
    {
     "output_type": "stream",
     "name": "stdout",
     "text": [
      "ensemble 1 - produits qu'on retrouve à la fois dans Toflit18 et Portic :\n {'Légumes', 'Graines diverses et mélangées', 'Bière, cidre et vinaigre', 'Armes, munitions, poudre et pierres à fusil', 'Chairs et œufs', 'Habits et lingerie', 'Ouvrages de bois, liège et jonc', 'Eaux-de-vie et liqueurs', 'Chanvre', 'Divers incertains', 'Subsistances diverses et mélangées', 'Savon', 'Sel', 'Bois divers hors combustible', 'Produits inconnus', 'Porcelaine, poterie, faïence et ouvrages de terre', 'Cuirs, peaux et pelleterie', 'Coton non transformé', 'Fer', 'Huiles diverses', 'Meubles, glaces et miroirs', 'Ouvrages métalliques', 'Graines grasses', 'Beurre', 'Café', 'Ouvrages divers et mélangés', 'Fruits secs et noix', 'Combustibles dont charbons et bois', 'Graisses diverses', 'Sucre', 'Pêche et fruits de mer', 'Blé et autres grains comestibles', 'Animaux', 'Vins divers', 'Divers mélangés', 'Matières premières diverses', 'Cuivre', 'Verrerie', 'Lin', 'Cordage et filets', 'Brai, goudron et résines', 'Bâtiments de mer et apparaux', 'Farine, gruau, biscuits et pâtes', 'Fromage', 'Fruits frais', 'Laines non transformées diverses'}\n\n\nensemble 2 - produits qu'on retrouve exclusivement dans Toflit18 : \n {'Alquifoux, mine de plomb et graphite', 'Quinquina', 'Toiles diverses', 'Fils divers', 'Cire', 'Bougies, chandelles et flambeaux', 'Chevaux et bêtes de somme', 'Matières brutes et transformées pour teinture', 'Cornes, corail, écailles, ivoire et nacre', 'Étoffes de soie', 'Mercerie', 'Étain', 'Colles diverses', 'Manne et médicaments', 'Toiles de coton', 'Cacao et chocolat', 'Gommes diverses', 'Acier', 'Plomb', 'Riz', 'Poils et crin', 'Soieries diverses', 'Vin de liqueurs', 'Rubanerie et passementerie diverse', 'Poivre et piment', 'Salpêtre et soufre', 'Drogues médicinales diverses', 'Huile de poisson', 'Azur et cobalt', 'Chapeaux hors paille et écorce', 'Mousseline, basin et nankin', 'Papier', \"Huile d'olive à manger\", 'Étoffes diverses', 'Indigo', 'Salsepareille', 'Rocou', 'Réglisse', 'Châles et mouchoirs hors soie', 'Cannelle', 'Séné', 'Toiles de chanvre et de lin', 'Parfumerie et toilette', 'Céruse et blanc de plomb', 'Métaux divers et mélangés', 'Librairie', 'Vins de Bordeaux', 'Textiles manufacturés divers et mélangés', 'Alun', \"Objets d'art et d'histoire naturelle\", 'Drogues diverses', 'Quincaillerie', 'Cordonnerie et sellerie', 'Sirop et mélasse', 'Bijouterie et pierres fines', 'Denrées coloniales et épiceries diverses', 'Fer-blanc', 'Argenterie et orfèvrerie', 'Faucilles, faux et limes', 'Étoffes de laine', 'Thé', 'Marbre brut et ouvré', 'Bonneterie hors soie', 'Bonneterie de soie', 'Graines de jardin', 'Bouchons principalement en liège', 'Châles et mouchoirs de soie', 'Fleurs artificielles et ouvrages de mode'}\n\n\nensemble 3 - produits qu'on retrouve exclusivement dans Portic : \n {'Cendres diverses', 'Alcalis', 'Êtres humains', None, 'Sortie pour pêche'}\n"
     ]
    }
   ],
   "source": [
    "result1 = toflit_products_for_datasprint.intersection(navigo_products_for_datasprint)\n",
    "\n",
    "result2 = toflit_products_for_datasprint.difference(navigo_products_for_datasprint)\n",
    "\n",
    "result3 = navigo_products_for_datasprint.difference(toflit_products_for_datasprint)\n",
    "\n",
    "print(\"ensemble 1 - produits qu'on retrouve à la fois dans Toflit18 et Portic :\\n\", result1)\n",
    "print(\"\\n\\nensemble 2 - produits qu'on retrouve exclusivement dans Toflit18 : \\n\", result2)\n",
    "print(\"\\n\\nensemble 3 - produits qu'on retrouve exclusivement dans Portic : \\n\", result3)\n"
   ]
  },
  {
   "cell_type": "code",
   "execution_count": 42,
   "metadata": {},
   "outputs": [],
   "source": [
    "# écriture dans un csv\n",
    "\n",
    "# initialisation du tableau avec une 1ere colonne contenant les produits communs\n",
    "with open('preliminary_inquiry/dumps/croisement_produits_datasprint_revolutionempire.csv', 'w', newline='') as csvfile:\n",
    "        fieldnames = ['produits communs datasprint']\n",
    "        writer = csv.DictWriter(csvfile, fieldnames=fieldnames)\n",
    "\n",
    "        writer.writeheader()\n",
    "        for product in result1:\n",
    "                    writer.writerow({'produits communs datasprint': product})"
   ]
  },
  {
   "cell_type": "code",
   "execution_count": 43,
   "metadata": {},
   "outputs": [],
   "source": [
    "import csv\n",
    "from csv import DictReader\n",
    "from csv import DictWriter\n",
    "\n",
    "# définition d'une fonction d'ajout de colonnes dans un csv (on va faire une colonne par ensemble)\n",
    "def add_column_in_csv_2(input_file, output_file, iterable, transform_row, tansform_column_names):\n",
    "    \"\"\" Append a column in existing csv using csv.reader / csv.writer classes\"\"\"\n",
    "    # Open the input_file in read mode and output_file in write mode\n",
    "    with open(input_file, 'r') as read_obj, \\\n",
    "            open(output_file, 'w', newline='') as write_obj:\n",
    "        # Create a DictReader object from the input file object\n",
    "        dict_reader = DictReader(read_obj)\n",
    "        # Get a list of column names from the csv\n",
    "        field_names = dict_reader.fieldnames\n",
    "        # Call the callback function to modify column name list\n",
    "        tansform_column_names(field_names)\n",
    "        # Create a DictWriter object from the output file object by passing column / field names\n",
    "        dict_writer = DictWriter(write_obj, field_names)\n",
    "        # Write the column names in output csv file\n",
    "        dict_writer.writeheader()\n",
    "        # Read each row of the input csv file as dictionary\n",
    "        for row, item in zip(dict_reader, iterable): \n",
    "            # Modify the dictionary / row by passing it to the transform function (the callback)\n",
    "            transform_row(row, dict_reader.line_num, item)\n",
    "            # Write the updated dictionary or row to the output file\n",
    "            dict_writer.writerow(row)"
   ]
  },
  {
   "cell_type": "code",
   "execution_count": 47,
   "metadata": {},
   "outputs": [
    {
     "output_type": "error",
     "ename": "TypeError",
     "evalue": "'NoneType' object is not iterable",
     "traceback": [
      "\u001b[0;31m---------------------------------------------------------------------------\u001b[0m",
      "\u001b[0;31mTypeError\u001b[0m                                 Traceback (most recent call last)",
      "\u001b[0;32m<ipython-input-47-921aada81802>\u001b[0m in \u001b[0;36m<module>\u001b[0;34m\u001b[0m\n\u001b[1;32m      2\u001b[0m \u001b[0mheader_of_new_col\u001b[0m \u001b[0;34m=\u001b[0m \u001b[0;34m'produits exclusifs Toflit'\u001b[0m\u001b[0;34m\u001b[0m\u001b[0;34m\u001b[0m\u001b[0m\n\u001b[1;32m      3\u001b[0m \u001b[0;31m# je réécris mon fichier csv en écrasant l'ancien\u001b[0m\u001b[0;34m\u001b[0m\u001b[0;34m\u001b[0m\u001b[0;34m\u001b[0m\u001b[0m\n\u001b[0;32m----> 4\u001b[0;31m add_column_in_csv_2('preliminary_inquiry/dumps/croisement_produits_datasprint_revolutionempire.csv', 'preliminary_inquiry/dumps/croisement_produits_datasprint_revolutionempire.csv', result2,\n\u001b[0m\u001b[1;32m      5\u001b[0m                     \u001b[0;32mlambda\u001b[0m \u001b[0mrow\u001b[0m\u001b[0;34m,\u001b[0m \u001b[0mline_num\u001b[0m\u001b[0;34m,\u001b[0m \u001b[0mitem\u001b[0m\u001b[0;34m:\u001b[0m\u001b[0;34m\u001b[0m\u001b[0;34m\u001b[0m\u001b[0m\n\u001b[1;32m      6\u001b[0m                             \u001b[0mrow\u001b[0m\u001b[0;34m.\u001b[0m\u001b[0mupdate\u001b[0m\u001b[0;34m(\u001b[0m\u001b[0;34m{\u001b[0m\u001b[0mheader_of_new_col\u001b[0m\u001b[0;34m:\u001b[0m \u001b[0mitem\u001b[0m\u001b[0;34m}\u001b[0m\u001b[0;34m)\u001b[0m\u001b[0;34m,\u001b[0m\u001b[0;34m\u001b[0m\u001b[0;34m\u001b[0m\u001b[0m\n",
      "\u001b[0;32m<ipython-input-43-4f815d038338>\u001b[0m in \u001b[0;36madd_column_in_csv_2\u001b[0;34m(input_file, output_file, iterable, transform_row, tansform_column_names)\u001b[0m\n\u001b[1;32m     18\u001b[0m         \u001b[0mdict_writer\u001b[0m \u001b[0;34m=\u001b[0m \u001b[0mDictWriter\u001b[0m\u001b[0;34m(\u001b[0m\u001b[0mwrite_obj\u001b[0m\u001b[0;34m,\u001b[0m \u001b[0mfield_names\u001b[0m\u001b[0;34m)\u001b[0m\u001b[0;34m\u001b[0m\u001b[0;34m\u001b[0m\u001b[0m\n\u001b[1;32m     19\u001b[0m         \u001b[0;31m# Write the column names in output csv file\u001b[0m\u001b[0;34m\u001b[0m\u001b[0;34m\u001b[0m\u001b[0;34m\u001b[0m\u001b[0m\n\u001b[0;32m---> 20\u001b[0;31m         \u001b[0mdict_writer\u001b[0m\u001b[0;34m.\u001b[0m\u001b[0mwriteheader\u001b[0m\u001b[0;34m(\u001b[0m\u001b[0;34m)\u001b[0m\u001b[0;34m\u001b[0m\u001b[0;34m\u001b[0m\u001b[0m\n\u001b[0m\u001b[1;32m     21\u001b[0m         \u001b[0;31m# Read each row of the input csv file as dictionary\u001b[0m\u001b[0;34m\u001b[0m\u001b[0;34m\u001b[0m\u001b[0;34m\u001b[0m\u001b[0m\n\u001b[1;32m     22\u001b[0m         \u001b[0;32mfor\u001b[0m \u001b[0mrow\u001b[0m\u001b[0;34m,\u001b[0m \u001b[0mitem\u001b[0m \u001b[0;32min\u001b[0m \u001b[0mzip\u001b[0m\u001b[0;34m(\u001b[0m\u001b[0mdict_reader\u001b[0m\u001b[0;34m,\u001b[0m \u001b[0miterable\u001b[0m\u001b[0;34m)\u001b[0m\u001b[0;34m:\u001b[0m\u001b[0;34m\u001b[0m\u001b[0;34m\u001b[0m\u001b[0m\n",
      "\u001b[0;32m~/opt/anaconda3/lib/python3.8/csv.py\u001b[0m in \u001b[0;36mwriteheader\u001b[0;34m(self)\u001b[0m\n\u001b[1;32m    140\u001b[0m \u001b[0;34m\u001b[0m\u001b[0m\n\u001b[1;32m    141\u001b[0m     \u001b[0;32mdef\u001b[0m \u001b[0mwriteheader\u001b[0m\u001b[0;34m(\u001b[0m\u001b[0mself\u001b[0m\u001b[0;34m)\u001b[0m\u001b[0;34m:\u001b[0m\u001b[0;34m\u001b[0m\u001b[0;34m\u001b[0m\u001b[0m\n\u001b[0;32m--> 142\u001b[0;31m         \u001b[0mheader\u001b[0m \u001b[0;34m=\u001b[0m \u001b[0mdict\u001b[0m\u001b[0;34m(\u001b[0m\u001b[0mzip\u001b[0m\u001b[0;34m(\u001b[0m\u001b[0mself\u001b[0m\u001b[0;34m.\u001b[0m\u001b[0mfieldnames\u001b[0m\u001b[0;34m,\u001b[0m \u001b[0mself\u001b[0m\u001b[0;34m.\u001b[0m\u001b[0mfieldnames\u001b[0m\u001b[0;34m)\u001b[0m\u001b[0;34m)\u001b[0m\u001b[0;34m\u001b[0m\u001b[0;34m\u001b[0m\u001b[0m\n\u001b[0m\u001b[1;32m    143\u001b[0m         \u001b[0;32mreturn\u001b[0m \u001b[0mself\u001b[0m\u001b[0;34m.\u001b[0m\u001b[0mwriterow\u001b[0m\u001b[0;34m(\u001b[0m\u001b[0mheader\u001b[0m\u001b[0;34m)\u001b[0m\u001b[0;34m\u001b[0m\u001b[0;34m\u001b[0m\u001b[0m\n\u001b[1;32m    144\u001b[0m \u001b[0;34m\u001b[0m\u001b[0m\n",
      "\u001b[0;31mTypeError\u001b[0m: 'NoneType' object is not iterable"
     ]
    }
   ],
   "source": [
    "# complétion du tableau les produits exclusifs à Toflit pour le datasprint : \n",
    "header_of_new_col = 'produits exclusifs Toflit'\n",
    "# je réécris mon fichier csv en écrasant l'ancien\n",
    "add_column_in_csv_2('preliminary_inquiry/dumps/croisement_produits_datasprint_revolutionempire.csv', 'preliminary_inquiry/dumps/croisement_produits_datasprint_revolutionempire.csv', result2,\n",
    "                    lambda row, line_num, item: \n",
    "                            row.update({header_of_new_col: item}), \n",
    "                    lambda fiel_dnames: field_names.append(header_of_new_col))\n"
   ]
  },
  {
   "cell_type": "code",
   "execution_count": 48,
   "metadata": {},
   "outputs": [
    {
     "output_type": "error",
     "ename": "AttributeError",
     "evalue": "'NoneType' object has no attribute 'append'",
     "traceback": [
      "\u001b[0;31m---------------------------------------------------------------------------\u001b[0m",
      "\u001b[0;31mAttributeError\u001b[0m                            Traceback (most recent call last)",
      "\u001b[0;32m<ipython-input-48-db59c648e940>\u001b[0m in \u001b[0;36m<module>\u001b[0;34m\u001b[0m\n\u001b[1;32m      2\u001b[0m \u001b[0mheader_of_new_col\u001b[0m \u001b[0;34m=\u001b[0m \u001b[0;34m'produits exclusifs Navigo'\u001b[0m\u001b[0;34m\u001b[0m\u001b[0;34m\u001b[0m\u001b[0m\n\u001b[1;32m      3\u001b[0m \u001b[0;31m# je réécris mon fichier csv en écrasant l'ancien\u001b[0m\u001b[0;34m\u001b[0m\u001b[0;34m\u001b[0m\u001b[0;34m\u001b[0m\u001b[0m\n\u001b[0;32m----> 4\u001b[0;31m add_column_in_csv_2('preliminary_inquiry/dumps/croisement_produits_datasprint_revolutionempire.csv', 'preliminary_inquiry/dumps/croisement_produits_datasprint_revolutionempire.csv', result3,\n\u001b[0m\u001b[1;32m      5\u001b[0m                     \u001b[0;32mlambda\u001b[0m \u001b[0mrow\u001b[0m\u001b[0;34m,\u001b[0m \u001b[0mline_num\u001b[0m\u001b[0;34m,\u001b[0m \u001b[0mitem\u001b[0m\u001b[0;34m:\u001b[0m\u001b[0;34m\u001b[0m\u001b[0;34m\u001b[0m\u001b[0m\n\u001b[1;32m      6\u001b[0m                             \u001b[0mrow\u001b[0m\u001b[0;34m.\u001b[0m\u001b[0mupdate\u001b[0m\u001b[0;34m(\u001b[0m\u001b[0;34m{\u001b[0m\u001b[0mheader_of_new_col\u001b[0m\u001b[0;34m:\u001b[0m \u001b[0mitem\u001b[0m\u001b[0;34m}\u001b[0m\u001b[0;34m)\u001b[0m\u001b[0;34m,\u001b[0m\u001b[0;34m\u001b[0m\u001b[0;34m\u001b[0m\u001b[0m\n",
      "\u001b[0;32m<ipython-input-43-4f815d038338>\u001b[0m in \u001b[0;36madd_column_in_csv_2\u001b[0;34m(input_file, output_file, iterable, transform_row, tansform_column_names)\u001b[0m\n\u001b[1;32m     14\u001b[0m         \u001b[0mfield_names\u001b[0m \u001b[0;34m=\u001b[0m \u001b[0mdict_reader\u001b[0m\u001b[0;34m.\u001b[0m\u001b[0mfieldnames\u001b[0m\u001b[0;34m\u001b[0m\u001b[0;34m\u001b[0m\u001b[0m\n\u001b[1;32m     15\u001b[0m         \u001b[0;31m# Call the callback function to modify column name list\u001b[0m\u001b[0;34m\u001b[0m\u001b[0;34m\u001b[0m\u001b[0;34m\u001b[0m\u001b[0m\n\u001b[0;32m---> 16\u001b[0;31m         \u001b[0mtansform_column_names\u001b[0m\u001b[0;34m(\u001b[0m\u001b[0mfield_names\u001b[0m\u001b[0;34m)\u001b[0m\u001b[0;34m\u001b[0m\u001b[0;34m\u001b[0m\u001b[0m\n\u001b[0m\u001b[1;32m     17\u001b[0m         \u001b[0;31m# Create a DictWriter object from the output file object by passing column / field names\u001b[0m\u001b[0;34m\u001b[0m\u001b[0;34m\u001b[0m\u001b[0;34m\u001b[0m\u001b[0m\n\u001b[1;32m     18\u001b[0m         \u001b[0mdict_writer\u001b[0m \u001b[0;34m=\u001b[0m \u001b[0mDictWriter\u001b[0m\u001b[0;34m(\u001b[0m\u001b[0mwrite_obj\u001b[0m\u001b[0;34m,\u001b[0m \u001b[0mfield_names\u001b[0m\u001b[0;34m)\u001b[0m\u001b[0;34m\u001b[0m\u001b[0;34m\u001b[0m\u001b[0m\n",
      "\u001b[0;32m<ipython-input-48-db59c648e940>\u001b[0m in \u001b[0;36m<lambda>\u001b[0;34m(field_names)\u001b[0m\n\u001b[1;32m      5\u001b[0m                     \u001b[0;32mlambda\u001b[0m \u001b[0mrow\u001b[0m\u001b[0;34m,\u001b[0m \u001b[0mline_num\u001b[0m\u001b[0;34m,\u001b[0m \u001b[0mitem\u001b[0m\u001b[0;34m:\u001b[0m\u001b[0;34m\u001b[0m\u001b[0;34m\u001b[0m\u001b[0m\n\u001b[1;32m      6\u001b[0m                             \u001b[0mrow\u001b[0m\u001b[0;34m.\u001b[0m\u001b[0mupdate\u001b[0m\u001b[0;34m(\u001b[0m\u001b[0;34m{\u001b[0m\u001b[0mheader_of_new_col\u001b[0m\u001b[0;34m:\u001b[0m \u001b[0mitem\u001b[0m\u001b[0;34m}\u001b[0m\u001b[0;34m)\u001b[0m\u001b[0;34m,\u001b[0m\u001b[0;34m\u001b[0m\u001b[0;34m\u001b[0m\u001b[0m\n\u001b[0;32m----> 7\u001b[0;31m                     lambda field_names: field_names.append(header_of_new_col))\n\u001b[0m",
      "\u001b[0;31mAttributeError\u001b[0m: 'NoneType' object has no attribute 'append'"
     ]
    }
   ],
   "source": [
    "# complétion du tableau les produits exclusifs à Toflit pour le datasprint : \n",
    "header_of_new_col = 'produits exclusifs Navigo'\n",
    "# je réécris mon fichier csv en écrasant l'ancien\n",
    "add_column_in_csv_2('preliminary_inquiry/dumps/croisement_produits_datasprint_revolutionempire.csv', 'preliminary_inquiry/dumps/croisement_produits_datasprint_revolutionempire.csv', result3,\n",
    "                    lambda row, line_num, item: \n",
    "                            row.update({header_of_new_col: item}), \n",
    "                    lambda field_names: field_names.append(header_of_new_col))"
   ]
  },
  {
   "cell_type": "code",
   "execution_count": null,
   "metadata": {},
   "outputs": [],
   "source": []
  }
 ]
}