{
 "cells": [
  {
   "cell_type": "markdown",
   "metadata": {},
   "source": [
    "## Objectif : Représenter l'intersection et l'exclusion des ports avec les bureaux de ferme \n",
    "\n",
    "- grosseur des liens dépend du nombre de pointcalls concernés\n",
    "- colorer de la même manière tous les ports rattachés à un même bureau des Fermes\n",
    "\n",
    "=> diagramme alluvial avec RAWGraphs"
   ]
  },
  {
   "cell_type": "code",
   "execution_count": 1,
   "metadata": {},
   "outputs": [],
   "source": [
    "from poitousprint import Portic, Toflit, get_pointcalls_commodity_purposes_as_toflit_product\n",
    "\n",
    "toflit_client = Toflit()\n",
    "portic_client = Portic()"
   ]
  },
  {
   "cell_type": "code",
   "execution_count": 6,
   "metadata": {},
   "outputs": [
    {
     "data": {
      "text/plain": [
       "[{'pointcall': 'Ile de Ré',\n",
       "  'ferme_bureau': None,\n",
       "  'pointcall_admiralty': 'La Rochelle'},\n",
       " {'pointcall': 'Ile de Ré',\n",
       "  'ferme_bureau': None,\n",
       "  'pointcall_admiralty': 'La Rochelle'},\n",
       " {'pointcall': 'Ile de Ré',\n",
       "  'ferme_bureau': None,\n",
       "  'pointcall_admiralty': 'La Rochelle'},\n",
       " {'pointcall': 'Esnandes',\n",
       "  'ferme_bureau': 'La Rochelle',\n",
       "  'pointcall_admiralty': 'La Rochelle'},\n",
       " {'pointcall': 'Le Plomb',\n",
       "  'ferme_bureau': None,\n",
       "  'pointcall_admiralty': 'La Rochelle'},\n",
       " {'pointcall': 'Le Plomb',\n",
       "  'ferme_bureau': None,\n",
       "  'pointcall_admiralty': 'La Rochelle'},\n",
       " {'pointcall': 'Oléron',\n",
       "  'ferme_bureau': None,\n",
       "  'pointcall_admiralty': 'Marennes'},\n",
       " {'pointcall': 'Oléron',\n",
       "  'ferme_bureau': None,\n",
       "  'pointcall_admiralty': 'Marennes'},\n",
       " {'pointcall': 'Oléron',\n",
       "  'ferme_bureau': None,\n",
       "  'pointcall_admiralty': 'Marennes'}]"
      ]
     },
     "execution_count": 6,
     "metadata": {},
     "output_type": "execute_result"
    }
   ],
   "source": [
    "# récupération de tous les ports navigo concernés\n",
    "\n",
    "pointcalls_datasprint = portic_client.get_pointcalls(\n",
    " year = 1789,\n",
    " pointcall_admiralty = ['La Rochelle', 'Marennes', 'Sables d\\'Olonne'],\n",
    " params = ['pointcall', 'ferme_bureau', 'pointcall_admiralty']\n",
    ")\n",
    "\n",
    "pointcalls_datasprint[0:9]"
   ]
  },
  {
   "cell_type": "code",
   "execution_count": 10,
   "metadata": {},
   "outputs": [
    {
     "data": {
      "text/plain": [
       "['1-analyse-navigo.html',\n",
       " 'dumps',\n",
       " '.DS_Store',\n",
       " 'diagramme alluvial ports Navigo x bureaux des Fermes Toflit.ipynb',\n",
       " 'croisement_ports_bureaux.html',\n",
       " 'croisement_ports_bureaux.ipynb',\n",
       " '.gitkeep',\n",
       " '1-analyse-navigo.ipynb',\n",
       " 'doc_utils.ipynb',\n",
       " '2-analyse-toflit18.ipynb',\n",
       " '.ipynb_checkpoints',\n",
       " 'croisement_produits.ipynb',\n",
       " 'croisement_produits.html',\n",
       " 'doc_utils.html']"
      ]
     },
     "execution_count": 10,
     "metadata": {},
     "output_type": "execute_result"
    }
   ],
   "source": [
    "import os\n",
    "os.listdir()"
   ]
  },
  {
   "cell_type": "code",
   "execution_count": 12,
   "metadata": {},
   "outputs": [],
   "source": [
    "# écriture des croisements dans un csv pour nourrir RAWGraphs\n",
    "import csv\n",
    "from csv import DictWriter\n",
    "\n",
    "# tableau qui contient une ligne par pointcall (avec à chaque fois le port Navigo qui correspond à un bureau Toflit) \n",
    "with open('dumps/croisement_ports_bureaux_datasprint.csv', 'w', newline='') as csvfile:\n",
    "        fieldnames = ['port_Navigo','ferme_bureau_Toflit']\n",
    "        writer = csv.DictWriter(csvfile, fieldnames=fieldnames)\n",
    "\n",
    "        writer.writeheader()\n",
    "        for pointcall in pointcalls_datasprint:\n",
    "                    writer.writerow({\n",
    "                        'port_Navigo':pointcall['pointcall'],\n",
    "                        'ferme_bureau_Toflit':pointcall['ferme_bureau']\n",
    "                    })\n"
   ]
  },
  {
   "cell_type": "code",
   "execution_count": null,
   "metadata": {},
   "outputs": [],
   "source": []
  }
 ],
 "metadata": {
  "kernelspec": {
   "display_name": "Python 3",
   "language": "python",
   "name": "python3"
  },
  "language_info": {
   "codemirror_mode": {
    "name": "ipython",
    "version": 3
   },
   "file_extension": ".py",
   "mimetype": "text/x-python",
   "name": "python",
   "nbconvert_exporter": "python",
   "pygments_lexer": "ipython3",
   "version": "3.8.5"
  }
 },
 "nbformat": 4,
 "nbformat_minor": 4
}
