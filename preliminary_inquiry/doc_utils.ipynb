{
 "cells": [
  {
   "cell_type": "code",
   "execution_count": 5,
   "metadata": {},
   "outputs": [],
   "source": [
    "import networkx as nx\n",
    "import requests\n",
    "import csv\n",
    "from poitousprint import Portic, Toflit, nest_toflit18_flow, nest_portic_pointcall, build_cooccurence_graph\n",
    "\n",
    "toflit_client = Toflit()\n"
   ]
  },
  {
   "cell_type": "code",
   "execution_count": 7,
   "metadata": {},
   "outputs": [
    {
     "data": {
      "text/plain": [
       "{'flow': {'year': '1746', 'export_import': 'Exports'},\n",
       " 'source': {'source_type': 'Local',\n",
       "  'best_guess_national_prodxpart': '0',\n",
       "  'best_guess_national_partner': '0',\n",
       "  'best_guess_national_product': '0',\n",
       "  'best_guess_region_prodxpart': '1',\n",
       "  'best_guess_national_region': '0',\n",
       "  'nbr_obs': '844',\n",
       "  'imprimatur': 'x',\n",
       "  'filepath': 'sources/Local/AD64_2_ETP_104_Bayonne_Exports_1746.csv',\n",
       "  'source': 'AD64 2 ETP 104',\n",
       "  'sheet': '2'},\n",
       " 'product_origin': {'origin': '',\n",
       "  'origin_origin': '',\n",
       "  'customs_region_origin': 'Bayonne',\n",
       "  'details_provenance': ''},\n",
       " 'product_quantity_and_value': {'value': '952320',\n",
       "  'quantity': '3968',\n",
       "  'computed_value': '1',\n",
       "  'value_as_reported': '',\n",
       "  'computed_value_per_unit': '0',\n",
       "  'computed_quantity': '0',\n",
       "  'value_minus_unit_val_x_qty': '',\n",
       "  'quantities_metric': '10197264',\n",
       "  'unit_price_metric': '.093389757',\n",
       "  'conv_simplification_to_metric': '2569.8749475',\n",
       "  'quantity_unit_metric': 'kg',\n",
       "  'quantity_unit_simplification': 'tonneaux',\n",
       "  'value_minus_un_source': '-952320',\n",
       "  'value_total': '',\n",
       "  'value_sub_total_1': '',\n",
       "  'value_sub_total_2': '',\n",
       "  'value_sub_total_3': '',\n",
       "  'quantity_unit': 'tonneaux',\n",
       "  'quantity_unit_orthographic': 'tonneaux',\n",
       "  'value_per_unit': '240'},\n",
       " 'product_denomination': {'product': 'Vin',\n",
       "  'product_orthographic': 'vin',\n",
       "  'product_simplification': 'vin',\n",
       "  'product_sitc': '1',\n",
       "  'peche': '0',\n",
       "  'product_medicinales': 'not a medical product',\n",
       "  'product_RE_aggregate': 'Subsistances',\n",
       "  'product_threesectors': 'Agriculture',\n",
       "  'product_threesectorsM': 'Produits agricoles',\n",
       "  'product_hamburg': 'Vin ; de France',\n",
       "  'product_canada': 'Hors Canada',\n",
       "  'product_edentreaty': 'Vin de France',\n",
       "  'product_grains': 'Pas grain (0)',\n",
       "  'product_coton': 'not raw cotton',\n",
       "  'product_ulrich': 'out',\n",
       "  'product_coffee': 'Not coffee',\n",
       "  'product_porcelaine': 'Sans lien avec la porcelaine',\n",
       "  'product_v_glass_beads': 'out',\n",
       "  'product_revolutionempire': 'Vins divers',\n",
       "  'product_beaver': 'No link with beaver',\n",
       "  'product_type_textile': '',\n",
       "  'product_luxe_dans_type': '',\n",
       "  'product_luxe_dans_SITC': '',\n",
       "  'product_sitc_FR': 'Boissons et tabac',\n",
       "  'product_sitc_EN': 'Beverages and tobacco',\n",
       "  'product_sitc_simplEN': 'Drinks and tobacco'},\n",
       " 'partner': {'partner': 'Hollande',\n",
       "  'partner_orthographic': 'Hollande',\n",
       "  'partner_simplification': 'Hollande',\n",
       "  'partner_grouping': 'Hollande',\n",
       "  'partner_obrien': 'Hollande',\n",
       "  'partner_sourcename': 'Hollande',\n",
       "  'partner_wars': 'Hollande et ses colonies',\n",
       "  'partner_africa': 'Not Outre-mers'},\n",
       " 'localization': {'customs_office': '',\n",
       "  'customs_region': 'Bayonne',\n",
       "  'customs_region_grouping': 'Bayonne'},\n",
       " 'duty': {'duty_quantity': '',\n",
       "  'duty_quantity_unit': '',\n",
       "  'duty_by_unit': '',\n",
       "  'duty_total': '',\n",
       "  'duty_part_of_bundle': '',\n",
       "  'duty_remarks': ''},\n",
       " 'other_props': {'line_number': '162',\n",
       "  'needs_more_details': '0',\n",
       "  'absurd_observation': '',\n",
       "  'obsolete': 'non'}}"
      ]
     },
     "execution_count": 7,
     "metadata": {},
     "output_type": "execute_result"
    }
   ],
   "source": [
    "result = toflit_client.get_flows(year=1790, start_year=1789, end_year=1789, product_orthographic='vin')\n",
    "flow = result[0]\n",
    "# print(flow)\n",
    "\n",
    "nest_toflit18_flow(flow)"
   ]
  },
  {
   "cell_type": "code",
   "execution_count": null,
   "metadata": {},
   "outputs": [],
   "source": []
  }
 ],
 "metadata": {
  "kernelspec": {
   "display_name": "Python 3",
   "language": "python",
   "name": "python3"
  },
  "language_info": {
   "codemirror_mode": {
    "name": "ipython",
    "version": 3
   },
   "file_extension": ".py",
   "mimetype": "text/x-python",
   "name": "python",
   "nbconvert_exporter": "python",
   "pygments_lexer": "ipython3",
   "version": "3.8.5"
  }
 },
 "nbformat": 4,
 "nbformat_minor": 4
}
