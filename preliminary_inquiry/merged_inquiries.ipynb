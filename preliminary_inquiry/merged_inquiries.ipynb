{
 "cells": [
  {
   "cell_type": "markdown",
   "metadata": {},
   "source": [
    "## Croisement 1 - Croisement produits\n",
    "\n",
    "Objectif : \n",
    "Pour les produit commercés / transportés pour les flux concernant le datasprint, obtenir 3 ensembles :\n",
    "- ensemble 1 - produits qu'on retrouve à la fois dans Toflit18 et Portic\n",
    "- ensemble 2 - produits qu'on retrouve exclusivement dans Toflit18\n",
    "- ensemble 3 - produits qu'on retrouve exclusivement dans Portic"
   ]
  },
  {
   "cell_type": "code",
   "execution_count": 8,
   "metadata": {},
   "outputs": [],
   "source": [
    "from poitousprint import Portic, Toflit, get_pointcalls_commodity_purposes_as_toflit_product\n",
    "\n",
    "toflit_client = Toflit()\n",
    "portic_client = Portic()\n"
   ]
  },
  {
   "cell_type": "code",
   "execution_count": 16,
   "metadata": {},
   "outputs": [],
   "source": [
    "# choix d'une classification d'alignement\n",
    "chosen_classificationx = ['product_source', 'product_orthographic', 'product_simplification', 'product_revolutionempire']\n"
   ]
  },
  {
   "cell_type": "code",
   "execution_count": 17,
   "metadata": {},
   "outputs": [],
   "source": [
    "# récupération des pointcalls Portic qui concernent le datasprint\n",
    "pointcalls_datasprint = portic_client.get_pointcalls(\n",
    " year = 1789,\n",
    " pointcall_admiralty = ['La Rochelle', 'Marennes', 'Sables d\\'Olonne']\n",
    ")\n",
    "\n",
    "# enrichissement de ces pointcalls avec la propriété 'commodity_as_toflit' qui nous donne l'équivalent des produits navigo dans Toflit18 avec la classification choisie\n",
    "croisement_produits = get_pointcalls_commodity_purposes_as_toflit_product(pointcalls_datasprint, product_classification=chosen_classification)"
   ]
  },
  {
   "cell_type": "code",
   "execution_count": 18,
   "metadata": {},
   "outputs": [
    {
     "data": {
      "text/plain": [
       "{'???',\n",
       " None,\n",
       " 'ails',\n",
       " 'ardoises',\n",
       " 'avoine',\n",
       " 'baillarge',\n",
       " 'beurre',\n",
       " 'biscuit',\n",
       " 'bière',\n",
       " 'blé',\n",
       " 'bois',\n",
       " 'bois de charpente',\n",
       " 'bois de navire',\n",
       " 'bois pour brûler',\n",
       " 'bois pour construction',\n",
       " 'bordage',\n",
       " 'bouteilles',\n",
       " 'bouteilles vides',\n",
       " 'brai',\n",
       " 'briques',\n",
       " 'bûches',\n",
       " 'café',\n",
       " 'café avarié',\n",
       " 'canons',\n",
       " 'carreaux',\n",
       " 'cendre',\n",
       " 'cendre de lessive',\n",
       " 'cercles',\n",
       " 'cerises',\n",
       " 'chanvre',\n",
       " 'charbon',\n",
       " 'charbon de bois',\n",
       " 'charbon de terre',\n",
       " 'chaux',\n",
       " 'copeaux',\n",
       " 'cordage vieux',\n",
       " 'coton',\n",
       " 'cuivre',\n",
       " 'divers',\n",
       " 'eau-de-vie',\n",
       " 'fagots',\n",
       " 'faire la pêche au poisson frais',\n",
       " 'farine',\n",
       " 'faïence',\n",
       " 'fer',\n",
       " 'fer vieux',\n",
       " 'feuillards',\n",
       " 'fourrages',\n",
       " 'fourrages en fagots',\n",
       " 'fromage',\n",
       " 'fruits',\n",
       " 'fumier',\n",
       " 'futailles',\n",
       " 'futailles vides',\n",
       " 'fèves',\n",
       " 'fûts',\n",
       " 'goudron',\n",
       " 'graine de lin',\n",
       " 'grains',\n",
       " 'grains baillarge',\n",
       " 'grains blé',\n",
       " 'grains de lin',\n",
       " 'grains divers',\n",
       " 'grains froment',\n",
       " 'grains méteil',\n",
       " 'grains orge',\n",
       " 'hardes',\n",
       " 'huile',\n",
       " 'huîtres',\n",
       " 'laine',\n",
       " 'lard salé',\n",
       " 'lentilles',\n",
       " 'lest',\n",
       " 'lest en fer',\n",
       " 'lin',\n",
       " 'marchandises',\n",
       " 'marchandises de Marseille',\n",
       " 'marchandises de foire',\n",
       " 'marchandises des Îles',\n",
       " 'marchandises permises',\n",
       " 'marchandises pour la traite',\n",
       " \"marchandises provenant d'un naufrage\",\n",
       " 'merrains',\n",
       " 'meules pour moulins',\n",
       " 'minot',\n",
       " 'mobilier',\n",
       " 'mogette',\n",
       " 'morue',\n",
       " 'morue sèche',\n",
       " 'morue verte',\n",
       " 'moules',\n",
       " 'moutarde',\n",
       " 'noix',\n",
       " 'oignons',\n",
       " 'outils de pêche à la morue',\n",
       " 'pacotille',\n",
       " 'passagers',\n",
       " 'peaux de bœuf',\n",
       " 'pierres',\n",
       " 'pierres de taille',\n",
       " 'pièces de bois',\n",
       " 'planches',\n",
       " 'plâtre',\n",
       " 'pois',\n",
       " 'poisson',\n",
       " 'poisson sec',\n",
       " 'pommes',\n",
       " 'poterie',\n",
       " 'poudre de guerre',\n",
       " 'poudre à canons',\n",
       " 'pêche (sortie)',\n",
       " 'pêche au poisson frais',\n",
       " 'pêche aux moules',\n",
       " 'pêche aux moules et au poisson frais',\n",
       " 'pêche à la morue',\n",
       " 'restant de beurre',\n",
       " 'restant de chaux',\n",
       " 'restant de futailles',\n",
       " 'restant de marchandises',\n",
       " 'résines',\n",
       " 'salaisons',\n",
       " 'sardines',\n",
       " 'sardines pressées de Bretagne',\n",
       " 'sardines salées',\n",
       " 'savon',\n",
       " 'sel',\n",
       " 'son',\n",
       " 'soudes',\n",
       " 'sucre',\n",
       " 'suif',\n",
       " 'terre',\n",
       " 'terre de broue',\n",
       " 'tourbe',\n",
       " 'tuiles',\n",
       " 'vaches',\n",
       " 'verges à moulins',\n",
       " 'verres cassés',\n",
       " 'vesces',\n",
       " 'vide',\n",
       " 'vin',\n",
       " 'vin pour lest',\n",
       " 'vinaigre',\n",
       " 'vinaterie',\n",
       " \"à l'aventure\",\n",
       " 'à vide',\n",
       " 'échalote',\n",
       " 'étoupes'}"
      ]
     },
     "execution_count": 18,
     "metadata": {},
     "output_type": "execute_result"
    }
   ],
   "source": [
    "navigo_products_for_datasprint = set()\n",
    "for pointcall in croisement_produits:\n",
    "    if pointcall['commodity_purposes'] is not None:\n",
    "        for commodity in pointcall['commodity_purposes']:\n",
    "            navigo_products_for_datasprint.add(commodity['commodity_as_toflit'])\n",
    "\n",
    "navigo_products_for_datasprint"
   ]
  },
  {
   "cell_type": "code",
   "execution_count": 19,
   "metadata": {},
   "outputs": [
    {
     "data": {
      "text/plain": [
       "{'Marly',\n",
       " 'Nankin',\n",
       " 'acier',\n",
       " 'agrès',\n",
       " 'alun',\n",
       " 'amandes',\n",
       " 'amidon',\n",
       " 'ancres de fer',\n",
       " 'anisette',\n",
       " 'armes blanches',\n",
       " 'avoine',\n",
       " 'azur',\n",
       " 'babassis',\n",
       " 'bajutapau',\n",
       " 'baleine',\n",
       " 'baleine coupée',\n",
       " \"barres d'anspect en bois\",\n",
       " 'barres de fer',\n",
       " 'bas de soie',\n",
       " 'bayette',\n",
       " 'beurre',\n",
       " 'biscuit',\n",
       " 'biscuit de mer',\n",
       " 'bière',\n",
       " 'bois',\n",
       " \"bois d'acajou\",\n",
       " 'bois de Brésil',\n",
       " 'bois de Caliatour',\n",
       " 'bois de Campêche',\n",
       " 'bois de Pernambouc',\n",
       " 'bois de chêne',\n",
       " 'bois de menuiserie',\n",
       " 'bois de sapin',\n",
       " 'bois et écorces de chêne et de frêne',\n",
       " 'bois jaune',\n",
       " 'bois osier',\n",
       " 'bois pour brûler',\n",
       " 'bois pour brûler et fagots',\n",
       " 'bois pour construction',\n",
       " 'bois pour construction de sapin',\n",
       " 'bonneterie de coton',\n",
       " 'bonneterie de fil',\n",
       " 'bonneterie de laine',\n",
       " 'bonneterie de soie',\n",
       " 'bonnets de laine',\n",
       " 'bordage',\n",
       " 'bordage de chêne',\n",
       " 'bordage de sapin',\n",
       " 'brai',\n",
       " 'brai et goudron',\n",
       " 'brai gras',\n",
       " 'brai gras et sec',\n",
       " 'brai sec',\n",
       " 'broderie',\n",
       " 'bâtiments naufragés',\n",
       " 'bœuf',\n",
       " 'bœuf salé',\n",
       " 'cacao',\n",
       " 'café',\n",
       " 'café avarié',\n",
       " 'café de Bourbon',\n",
       " 'café de Moka',\n",
       " 'canevettes',\n",
       " 'cannelle',\n",
       " 'casimir de laine',\n",
       " 'cassonade',\n",
       " 'cauris',\n",
       " 'cercles de bois',\n",
       " 'chandelle de suif',\n",
       " 'chanvre',\n",
       " 'chanvre en masses',\n",
       " 'chanvre en rames',\n",
       " 'chapeaux',\n",
       " 'chapeaux de feutre',\n",
       " 'charbon de bois',\n",
       " 'charbon de terre',\n",
       " 'chaux',\n",
       " 'chevaux',\n",
       " 'cheveux',\n",
       " 'chocolat',\n",
       " 'châtaignes sèche',\n",
       " 'cire blanche',\n",
       " 'ciseaux',\n",
       " 'clous',\n",
       " 'clous de fer',\n",
       " 'colle',\n",
       " 'colle de poisson',\n",
       " 'colle forte',\n",
       " 'confitures',\n",
       " 'corail',\n",
       " 'cordage',\n",
       " 'cornalines',\n",
       " 'coton',\n",
       " 'couperose',\n",
       " 'couperose verte',\n",
       " 'coutellerie',\n",
       " 'couvertures de laine',\n",
       " 'cuirs de bœuf',\n",
       " 'cuirs de bœuf tannés',\n",
       " 'cuirs de bœuf verts',\n",
       " 'cuirs en poil de vache',\n",
       " 'cuirs secs en poil',\n",
       " 'cuirs tannés',\n",
       " 'cuirs tannés de vache',\n",
       " 'cuivre',\n",
       " 'cuivre brut',\n",
       " 'cuivre à lessive',\n",
       " 'câble',\n",
       " 'céruse',\n",
       " \"dents d'éléphant\",\n",
       " 'drap',\n",
       " 'drap calimouk',\n",
       " 'drap commun',\n",
       " \"drap d'Elbeuf\",\n",
       " 'drap de Silésie',\n",
       " 'drap petit',\n",
       " 'drogues composées',\n",
       " 'drogues diverses médicinales',\n",
       " 'drogues pour peintures',\n",
       " 'drogues pour peintures et teinture',\n",
       " \"dégras d'huile\",\n",
       " 'eau de Hongrie',\n",
       " \"eau de fleurs d'oranger\",\n",
       " 'eau-de-vie',\n",
       " 'eau-de-vie double',\n",
       " 'eau-de-vie simple',\n",
       " 'enclumes',\n",
       " 'fagots',\n",
       " 'farine',\n",
       " 'farine de froment',\n",
       " 'farine gruau',\n",
       " 'faïence',\n",
       " 'fer',\n",
       " 'fer en plaques',\n",
       " 'fer noir',\n",
       " 'fer vieux',\n",
       " 'fer-blanc',\n",
       " 'ferraille',\n",
       " 'feuillards de bois',\n",
       " 'feuillards de fer',\n",
       " 'fil de coton',\n",
       " 'fil de fer',\n",
       " 'fil de lin',\n",
       " 'flanelle de laine',\n",
       " 'flanelle fil et laine',\n",
       " 'foin',\n",
       " 'fromage',\n",
       " 'fruits confits en vinaigre',\n",
       " 'fruits secs',\n",
       " 'fruits verts',\n",
       " 'fusils',\n",
       " 'futailles',\n",
       " 'futailles petites',\n",
       " 'futailles vides',\n",
       " 'fèves',\n",
       " 'fèves blanches',\n",
       " 'gaze de soie',\n",
       " 'gomme arabique',\n",
       " 'goudron',\n",
       " 'graine de jardin',\n",
       " 'graine de lin',\n",
       " 'grains comestibles',\n",
       " 'grains divers',\n",
       " 'grains froment',\n",
       " 'grains millet',\n",
       " 'grains méteil',\n",
       " 'grains orge',\n",
       " 'grains riz',\n",
       " 'grains seigle',\n",
       " 'graisse',\n",
       " 'guinée',\n",
       " 'hardes pour nègre',\n",
       " 'hardes vieilles',\n",
       " 'harengs blancs',\n",
       " 'haricots',\n",
       " \"huile d'olive\",\n",
       " 'huile de baleine',\n",
       " 'huile de graine',\n",
       " 'huile de lin',\n",
       " 'huile de noix',\n",
       " 'huile de poisson',\n",
       " 'inde plate',\n",
       " 'indienne',\n",
       " 'indienne de coton',\n",
       " 'indigo',\n",
       " 'instruments de musique',\n",
       " 'jambon',\n",
       " 'jus de réglisse',\n",
       " 'laine',\n",
       " 'lard salé',\n",
       " 'lattes de bois',\n",
       " 'librairie',\n",
       " 'limeneas',\n",
       " 'limes',\n",
       " 'lin',\n",
       " 'lin peigné',\n",
       " 'lin préparé',\n",
       " 'linge vieux',\n",
       " 'lingerie',\n",
       " 'linon',\n",
       " 'liqueurs',\n",
       " 'liège',\n",
       " 'liège en bouchons',\n",
       " 'liège en planches',\n",
       " 'légumes',\n",
       " 'manches de bois de gaffes',\n",
       " 'manne',\n",
       " 'maquereaux',\n",
       " 'marbre',\n",
       " 'marchandises',\n",
       " \"marchandises à l'estimation\",\n",
       " 'matériaux de bois',\n",
       " 'mercerie',\n",
       " 'mercerie commune',\n",
       " 'merrains',\n",
       " 'merrains de chêne',\n",
       " 'merrains de sapin',\n",
       " 'merrains pour tonnellerie',\n",
       " 'meules',\n",
       " 'mine de plomb',\n",
       " 'mitrailles de cuivre',\n",
       " 'mobilier',\n",
       " 'morceaux de sapin',\n",
       " 'morue verte',\n",
       " 'mouchoirs de coton',\n",
       " 'mouchoirs de coton et de fil',\n",
       " 'mouchoirs de coton et soie',\n",
       " 'mouchoirs de soie',\n",
       " 'mouchoirs des Indes',\n",
       " 'mouchoirs imprimés',\n",
       " 'mouchoirs romals',\n",
       " 'moulins à café',\n",
       " 'mousseline',\n",
       " 'moutons',\n",
       " 'mâts',\n",
       " 'médicaments',\n",
       " 'mélasse rhum sirop taffia',\n",
       " 'neganepeau',\n",
       " 'noix',\n",
       " 'objets de peu de valeur',\n",
       " 'oignons',\n",
       " 'orange fraîche',\n",
       " 'outils de pêche',\n",
       " \"ouvrages d'orfèvrerie\",\n",
       " \"ouvrages d'osier\",\n",
       " 'ouvrages de bois',\n",
       " 'ouvrages de corail',\n",
       " 'ouvrages de coutellerie',\n",
       " 'ouvrages de coutellerie argenterie',\n",
       " 'ouvrages de cuivre',\n",
       " 'ouvrages de fer',\n",
       " 'ouvrages de grès',\n",
       " 'ouvrages de jonc',\n",
       " 'ouvrages de marbre',\n",
       " 'ouvrages de plomb',\n",
       " 'ouvrages de terre cuite',\n",
       " 'papier',\n",
       " 'papier blanc',\n",
       " 'papier peint',\n",
       " 'parfumerie',\n",
       " 'peaux apprêtées de cheval',\n",
       " 'peaux apprêtées de veau',\n",
       " \"peaux d'ours\",\n",
       " 'peaux de castor',\n",
       " 'peaux de chevreuil',\n",
       " 'peaux de daim',\n",
       " 'peaux de martre',\n",
       " 'peaux de mouton',\n",
       " 'peaux de mouton tannées',\n",
       " 'peaux de veau en poil',\n",
       " 'peaux tannées de veau',\n",
       " 'pelleterie commune',\n",
       " 'perches de bois',\n",
       " 'perches de sapin',\n",
       " 'pierres',\n",
       " 'pierres à bâtir',\n",
       " 'pierres à faux',\n",
       " 'piment',\n",
       " 'pipes à fumer',\n",
       " 'pipes à fumer de terre cuite',\n",
       " 'pistolets',\n",
       " 'planches de bois',\n",
       " 'planches de cuivre',\n",
       " 'planches de pin',\n",
       " 'planches de sapin',\n",
       " 'plaques de cheminées en fer',\n",
       " 'platille',\n",
       " 'plomb',\n",
       " 'plomb en grenaille',\n",
       " 'plomb en saumon',\n",
       " 'plâtre',\n",
       " 'poil de laine',\n",
       " 'pois verts',\n",
       " 'poisson salé',\n",
       " 'poix blanche',\n",
       " 'pommes de terre',\n",
       " 'porcs',\n",
       " 'poterie de terre cuite',\n",
       " 'poudre',\n",
       " 'poudre à tirer',\n",
       " 'poutres de sapin',\n",
       " 'prunes',\n",
       " 'quincaillerie',\n",
       " 'quincaillerie de cuivre',\n",
       " 'quincaillerie de fer',\n",
       " 'quinquina',\n",
       " 'rocou',\n",
       " 'rogues',\n",
       " 'ruban de fil',\n",
       " 'résines',\n",
       " 'sable',\n",
       " 'sabots et selles de bois',\n",
       " 'sabres',\n",
       " 'salsepareille',\n",
       " 'sardines',\n",
       " 'sardines apprêtées',\n",
       " 'sardines salées',\n",
       " 'saumon salé',\n",
       " 'savon',\n",
       " 'sel',\n",
       " 'siamoise de coton et de fil',\n",
       " 'sirop de mélasse',\n",
       " 'sirop fin',\n",
       " 'soliveaux de bois',\n",
       " 'soufre',\n",
       " 'stockfisch salé',\n",
       " 'sucre brut',\n",
       " 'sucre raffiné',\n",
       " 'sucre terré',\n",
       " 'sucre têtes',\n",
       " 'suif',\n",
       " 'suif en rames',\n",
       " 'suif fondu',\n",
       " 'séné',\n",
       " 'tartre',\n",
       " 'terraille',\n",
       " 'thé',\n",
       " 'toile blanche',\n",
       " 'toile chasselas',\n",
       " 'toile cotonnade',\n",
       " 'toile coupis',\n",
       " 'toile coutil',\n",
       " 'toile custas',\n",
       " \"toile d'emballage\",\n",
       " 'toile de basin',\n",
       " 'toile de basin coton et fil',\n",
       " 'toile de chanvre',\n",
       " 'toile de chanvre pour voile',\n",
       " 'toile de chanvre rousse',\n",
       " 'toile de chanvre à carreaux',\n",
       " 'toile de coton',\n",
       " 'toile de coton et de fil',\n",
       " 'toile de fil',\n",
       " 'toile de lin',\n",
       " 'toile de lin blanche',\n",
       " 'toile de lin rousse',\n",
       " 'toile des Indes',\n",
       " 'toile guingans',\n",
       " 'toile kircochaye',\n",
       " 'toile photas',\n",
       " 'toile pour voile',\n",
       " 'toile salemporis bleue',\n",
       " 'toile sanas lustrée',\n",
       " 'toile socreton',\n",
       " 'toile socreton bleue',\n",
       " 'toile tapsel',\n",
       " 'toile à carreaux',\n",
       " 'toile à carreaux et de lin',\n",
       " 'toile écrue',\n",
       " 'tôle de fer',\n",
       " 'vaches',\n",
       " 'veaux',\n",
       " 'velours de coton',\n",
       " 'verges à moulins',\n",
       " 'verrerie en bouteilles',\n",
       " 'verroterie en rassades',\n",
       " 'vin',\n",
       " 'vin blanc',\n",
       " \"vin d'Espagne\",\n",
       " 'vin de Bordeaux',\n",
       " 'vin de Champagne',\n",
       " 'vin de Constance',\n",
       " 'vin de Malaga',\n",
       " 'vin de liqueurs',\n",
       " 'vin divers',\n",
       " 'vin ordinaire',\n",
       " 'vin rouge',\n",
       " 'vin étranger',\n",
       " 'vinaigre',\n",
       " 'voitures',\n",
       " 'volailles',\n",
       " 'épicerie',\n",
       " 'éponges',\n",
       " 'étain',\n",
       " 'étain en saumon',\n",
       " 'étoffe au quart de soie',\n",
       " 'étoffe de coton',\n",
       " 'étoffe de fil et de laine',\n",
       " 'étoffe de fil et de soie',\n",
       " 'étoffe de laine',\n",
       " 'étoffe de soie',\n",
       " \"étoffe de soie dorure d'argent et d'or\",\n",
       " 'étoffe fleuret',\n",
       " 'étoupes'}"
      ]
     },
     "execution_count": 19,
     "metadata": {},
     "output_type": "execute_result"
    }
   ],
   "source": [
    "# récupération des flows Toflit18 qui concernent le datasprint\n",
    "flows = toflit_client.get_flows(\n",
    "    year=1789, \n",
    "    customs_region='La Rochelle',\n",
    ")\n",
    "\n",
    "toflit_products_for_datasprint = set()\n",
    "for flow in flows:\n",
    "    toflit_products_for_datasprint.add(flow[chosen_classification])\n",
    "\n",
    "toflit_products_for_datasprint"
   ]
  },
  {
   "cell_type": "code",
   "execution_count": 20,
   "metadata": {},
   "outputs": [
    {
     "name": "stdout",
     "output_type": "stream",
     "text": [
      "ensemble 1 - produits qu'on retrouve à la fois dans Toflit18 et Portic :\n",
      " {'chanvre', 'avoine', 'merrains', 'pierres', 'charbon de terre', 'bois', 'fer', 'café avarié', 'bois pour brûler', 'futailles vides', 'vinaigre', 'étoupes', 'grains méteil', 'grains divers', 'bordage', 'brai', 'noix', 'beurre', 'fer vieux', 'vaches', 'goudron', 'café', 'résines', 'grains froment', 'graine de lin', 'fagots', 'marchandises', 'fromage', 'mobilier', 'morue verte', 'grains orge', 'cuivre', 'farine', 'bois pour construction', 'futailles', 'charbon de bois', 'bière', 'faïence', 'sel', 'lin', 'eau-de-vie', 'biscuit', 'sardines salées', 'chaux', 'plâtre', 'verges à moulins', 'lard salé', 'suif', 'fèves', 'coton', 'oignons', 'laine', 'sardines', 'vin', 'savon'}\n",
      "\n",
      "\n",
      "ensemble 2 - produits qu'on retrouve exclusivement dans Toflit18 : \n",
      " {'chanvre en rames', 'mouchoirs des Indes', 'planches de cuivre', 'peaux de martre', 'toile à carreaux et de lin', 'anisette', 'limes', 'mélasse rhum sirop taffia', 'fèves blanches', 'platille', 'planches de bois', 'prunes', 'cuirs de bœuf tannés', 'peaux apprêtées de cheval', 'ouvrages de bois', 'peaux de mouton', \"marchandises à l'estimation\", 'huile de noix', 'papier', 'toile écrue', 'matériaux de bois', 'toile de coton et de fil', \"eau de fleurs d'oranger\", 'toile de basin', 'merrains pour tonnellerie', 'merrains de chêne', 'poudre à tirer', 'marbre', 'fruits verts', 'fruits secs', 'linge vieux', 'harengs blancs', 'ciseaux', 'drogues pour peintures et teinture', 'toile blanche', 'bordage de chêne', 'liège en planches', 'indigo', 'drap', 'chandelle de suif', 'indienne', 'drap calimouk', 'moutons', 'hardes pour nègre', 'vin blanc', 'limeneas', 'poix blanche', 'cacao', 'peaux de veau en poil', 'fil de lin', 'cuirs secs en poil', 'cuirs de bœuf verts', 'bois pour construction de sapin', 'plomb', 'toile de chanvre à carreaux', 'toile sanas lustrée', 'sabots et selles de bois', 'perches de bois', 'mouchoirs romals', 'quincaillerie de fer', 'bois de menuiserie', 'piment', 'fer en plaques', 'drogues composées', 'étoffe de fil et de soie', \"dents d'éléphant\", 'bajutapau', 'vin divers', 'alun', 'toile de lin', 'cuirs en poil de vache', 'peaux de castor', 'ouvrages de coutellerie argenterie', 'pipes à fumer de terre cuite', 'pois verts', 'câble', 'chocolat', 'confitures', 'grains millet', 'cuirs de bœuf', 'gaze de soie', 'terraille', 'poutres de sapin', \"toile d'emballage\", 'bonneterie de coton', 'légumes', 'cuirs tannés de vache', 'ancres de fer', 'fusils', 'drap petit', 'châtaignes sèche', 'linon', 'maquereaux', 'éponges', \"drap d'Elbeuf\", 'eau de Hongrie', 'fruits confits en vinaigre', 'céruse', 'brai gras', 'bois de Campêche', 'mouchoirs de coton', 'lingerie', 'plaques de cheminées en fer', 'grains riz', \"étoffe de soie dorure d'argent et d'or\", 'chevaux', 'ruban de fil', 'fil de fer', 'gomme arabique', 'épicerie', 'peaux de chevreuil', 'canevettes', 'pierres à bâtir', 'sabres', 'étoffe de coton', 'grains comestibles', 'guinée', 'ferraille', 'instruments de musique', 'indienne de coton', 'vin de Champagne', 'peaux de mouton tannées', 'couvertures de laine', 'barres de fer', 'outils de pêche', 'toile de lin rousse', 'ouvrages de corail', 'neganepeau', 'coutellerie', 'casimir de laine', 'peaux tannées de veau', 'étoffe de soie', 'vin de Constance', 'toile de fil', 'colle de poisson', 'toile coutil', 'liège', 'verroterie en rassades', 'sucre terré', 'toile de lin blanche', 'salsepareille', 'pistolets', 'foin', 'sirop fin', 'plomb en saumon', 'mercerie', 'cassonade', 'mine de plomb', 'sucre brut', 'vin de liqueurs', \"huile d'olive\", 'verrerie en bouteilles', 'flanelle de laine', 'couperose verte', 'colle forte', 'sucre têtes', 'toile de chanvre rousse', \"ouvrages d'osier\", 'bois pour brûler et fagots', 'baleine coupée', 'flanelle fil et laine', 'baleine', \"barres d'anspect en bois\", 'rogues', 'moulins à café', 'plomb en grenaille', 'toile socreton bleue', 'sucre raffiné', 'farine de froment', 'toile socreton', 'planches de sapin', 'couperose', 'vin ordinaire', 'feuillards de bois', 'vin de Bordeaux', 'inde plate', 'haricots', 'pommes de terre', 'toile cotonnade', 'huile de baleine', 'quinquina', 'objets de peu de valeur', 'manne', 'bonnets de laine', 'huile de poisson', 'soufre', 'bœuf', 'drogues diverses médicinales', 'bas de soie', 'ouvrages de jonc', 'liège en bouchons', 'bois et écorces de chêne et de frêne', 'lattes de bois', 'toile guingans', 'eau-de-vie simple', 'cercles de bois', 'cauris', 'médicaments', 'colle', 'toile pour voile', 'toile kircochaye', \"vin d'Espagne\", 'suif fondu', 'ouvrages de coutellerie', 'perches de sapin', 'farine gruau', 'chanvre en masses', 'thé', 'ouvrages de marbre', 'clous', 'toile de coton', 'cuivre brut', 'poisson salé', 'brai et goudron', \"bois d'acajou\", 'graine de jardin', 'ouvrages de grès', 'ouvrages de plomb', 'ouvrages de fer', 'grains seigle', 'armes blanches', 'étain en saumon', 'sardines apprêtées', 'biscuit de mer', 'bois jaune', 'cordage', 'huile de lin', 'futailles petites', 'bordage de sapin', 'bois osier', 'vin de Malaga', 'drogues pour peintures', 'bois de chêne', 'jus de réglisse', 'bœuf salé', 'toile coupis', 'étoffe au quart de soie', 'enclumes', 'étoffe fleuret', 'café de Bourbon', 'siamoise de coton et de fil', 'papier peint', 'tartre', 'mousseline', 'toile tapsel', 'toile salemporis bleue', 'fer noir', \"ouvrages d'orfèvrerie\", 'broderie', 'étoffe de laine', 'saumon salé', 'bonneterie de fil', 'stockfisch salé', 'bois de Caliatour', 'chapeaux', 'chapeaux de feutre', 'cornalines', 'poil de laine', 'toile chasselas', 'tôle de fer', 'vin étranger', 'lin peigné', 'agrès', 'cuirs tannés', 'veaux', 'bois de sapin', 'soliveaux de bois', 'étoffe de fil et de laine', 'mouchoirs de soie', \"dégras d'huile\", 'bois de Brésil', 'cheveux', 'drap commun', 'peaux apprêtées de veau', 'étain', 'eau-de-vie double', 'mouchoirs de coton et de fil', 'feuillards de fer', 'morceaux de sapin', 'meules', 'papier blanc', 'amandes', 'cuivre à lessive', \"peaux d'ours\", 'merrains de sapin', 'amidon', 'ouvrages de cuivre', 'fer-blanc', 'toile de chanvre pour voile', 'pierres à faux', 'hardes vieilles', 'bâtiments naufragés', 'mouchoirs imprimés', 'bonneterie de laine', 'poudre', 'librairie', 'sirop de mélasse', 'volailles', 'voitures', 'babassis', 'quincaillerie de cuivre', 'mâts', 'brai gras et sec', 'rocou', 'huile de graine', 'mouchoirs de coton et soie', 'poterie de terre cuite', 'bayette', 'corail', 'toile de basin coton et fil', 'porcs', 'café de Moka', 'cire blanche', 'planches de pin', 'acier', 'cannelle', 'mitrailles de cuivre', 'Nankin', 'clous de fer', 'pipes à fumer', 'mercerie commune', 'bonneterie de soie', 'liqueurs', 'ouvrages de terre cuite', 'toile photas', 'lin préparé', 'sable', 'quincaillerie', 'vin rouge', 'toile de chanvre', 'velours de coton', 'jambon', 'drap de Silésie', 'séné', 'peaux de daim', 'toile custas', 'brai sec', 'orange fraîche', 'toile des Indes', 'graisse', 'azur', 'parfumerie', 'pelleterie commune', 'fil de coton', 'bois de Pernambouc', 'manches de bois de gaffes', 'toile à carreaux', 'Marly', 'suif en rames'}\n",
      "\n",
      "\n",
      "ensemble 3 - produits qu'on retrouve exclusivement dans Portic : \n",
      " {'pièces de bois', 'planches', 'bûches', 'cercles', \"à l'aventure\", 'restant de beurre', 'vesces', 'grains blé', 'vide', 'poterie', 'passagers', 'poudre de guerre', 'copeaux', 'fourrages', 'restant de chaux', 'bouteilles vides', 'divers', 'pêche au poisson frais', 'briques', 'huîtres', 'baillarge', 'peaux de bœuf', 'vinaterie', 'sucre', 'pois', 'terre', 'pêche (sortie)', 'bois de navire', 'poisson', 'outils de pêche à la morue', 'poudre à canons', 'terre de broue', 'marchandises de foire', 'hardes', 'cendre', 'tuiles', 'blé', 'lentilles', 'lest en fer', 'cerises', 'grains de lin', 'morue', 'soudes', 'grains', 'pêche à la morue', 'canons', 'fûts', 'sardines pressées de Bretagne', 'pacotille', 'ails', 'fruits', 'meules pour moulins', 'moules', 'marchandises de Marseille', 'moutarde', 'feuillards', 'restant de futailles', 'grains baillarge', 'salaisons', 'à vide', 'tourbe', 'cendre de lessive', \"marchandises provenant d'un naufrage\", 'pommes', 'marchandises permises', 'cordage vieux', 'faire la pêche au poisson frais', 'minot', 'pierres de taille', 'fumier', 'carreaux', None, 'échalote', 'huile', 'lest', 'pêche aux moules et au poisson frais', 'verres cassés', '???', 'son', 'marchandises des Îles', 'fourrages en fagots', 'restant de marchandises', 'pêche aux moules', 'poisson sec', 'mogette', 'bois de charpente', 'charbon', 'bouteilles', 'morue sèche', 'ardoises', 'vin pour lest', 'marchandises pour la traite'}\n"
     ]
    }
   ],
   "source": [
    "result1 = toflit_products_for_datasprint.intersection(navigo_products_for_datasprint)\n",
    "\n",
    "result2 = toflit_products_for_datasprint.difference(navigo_products_for_datasprint)\n",
    "\n",
    "result3 = navigo_products_for_datasprint.difference(toflit_products_for_datasprint)\n",
    "\n",
    "print(\"ensemble 1 - produits qu'on retrouve à la fois dans Toflit18 et Portic :\\n\", result1)\n",
    "print(\"\\n\\nensemble 2 - produits qu'on retrouve exclusivement dans Toflit18 : \\n\", result2)\n",
    "print(\"\\n\\nensemble 3 - produits qu'on retrouve exclusivement dans Portic : \\n\", result3)\n"
   ]
  },
  {
   "cell_type": "code",
   "execution_count": 21,
   "metadata": {},
   "outputs": [],
   "source": [
    "# écriture dans un fichier txt\n",
    "\n",
    "# write data in a file.\n",
    "fichier_texte = open('preliminary_inquiry/dumps/croisement_produits_datasprint_' + chosen_classification + '.txt',\"w\")\n",
    "L = [\"This is Delhi \\n\",\"This is Paris \\n\",\"This is London \\n\"] \n",
    "  \n",
    "# \\n is placed to indicate EOL (End of Line)\n",
    "fichier_texte.write(\"ensemble 1 - produits qu'on retrouve à la fois dans Toflit18 et Portic :\\n\") \n",
    "for produit in result1:\n",
    "    fichier_texte.write(str(produit)+\"\\n\")\n",
    "\n",
    "fichier_texte.write(\"\\n\\n\\nensemble 2 - produits qu'on retrouve exclusivement dans Toflit18 :\\n\") \n",
    "for produit in result2:\n",
    "    fichier_texte.write(str(produit)+\"\\n\")\n",
    "\n",
    "fichier_texte.write(\"\\n\\n\\nensemble 3 - produits qu'on retrouve exclusivement dans Portic :\\n\") \n",
    "for produit in result3:\n",
    "    fichier_texte.write(str(produit)+\"\\n\")\n",
    "    # file1.writelines(L)\n",
    "\n",
    "fichier_texte.close() #to change file access modes\n",
    "  \n",
    "# file1 = open(\"myfile.txt\",\"r+\") "
   ]
  },
  {
   "cell_type": "markdown",
   "metadata": {},
   "source": [
    "## Croisement 2 - Croisement ports / bureaux des Fermes\n",
    "\n",
    "### Objectif : Représenter l'intersection et l'exclusion des ports Navigo avec les bureaux des Fermes Toflit\n",
    "\n",
    "- grosseur des liens dépend du nombre de pointcalls concernés\n",
    "- colorer de la même manière tous les ports rattachés à un même bureau des Fermes\n",
    "\n",
    "=> diagramme alluvial avec RAWGraphs"
   ]
  },
  {
   "cell_type": "code",
   "execution_count": 1,
   "metadata": {},
   "outputs": [],
   "source": [
    "from poitousprint import Portic, Toflit, get_pointcalls_commodity_purposes_as_toflit_product\n",
    "\n",
    "toflit_client = Toflit()\n",
    "portic_client = Portic()"
   ]
  },
  {
   "cell_type": "code",
   "execution_count": 5,
   "metadata": {},
   "outputs": [
    {
     "data": {
      "text/plain": [
       "[{'pointcall': 'Ile de Ré',\n",
       "  'ferme_bureau': None,\n",
       "  'pointcall_admiralty': 'La Rochelle',\n",
       "  'source_subset': 'Poitou_1789'},\n",
       " {'pointcall': 'Ile de Ré',\n",
       "  'ferme_bureau': None,\n",
       "  'pointcall_admiralty': 'La Rochelle',\n",
       "  'source_subset': 'Poitou_1789'},\n",
       " {'pointcall': 'Ile de Ré',\n",
       "  'ferme_bureau': None,\n",
       "  'pointcall_admiralty': 'La Rochelle',\n",
       "  'source_subset': 'Poitou_1789'},\n",
       " {'pointcall': 'Esnandes',\n",
       "  'ferme_bureau': 'La Rochelle',\n",
       "  'pointcall_admiralty': 'La Rochelle',\n",
       "  'source_subset': 'Poitou_1789'},\n",
       " {'pointcall': 'Le Plomb',\n",
       "  'ferme_bureau': None,\n",
       "  'pointcall_admiralty': 'La Rochelle',\n",
       "  'source_subset': 'Poitou_1789'},\n",
       " {'pointcall': 'Le Plomb',\n",
       "  'ferme_bureau': None,\n",
       "  'pointcall_admiralty': 'La Rochelle',\n",
       "  'source_subset': 'Poitou_1789'},\n",
       " {'pointcall': 'Oléron',\n",
       "  'ferme_bureau': None,\n",
       "  'pointcall_admiralty': 'Marennes',\n",
       "  'source_subset': 'Poitou_1789'},\n",
       " {'pointcall': 'Oléron',\n",
       "  'ferme_bureau': None,\n",
       "  'pointcall_admiralty': 'Marennes',\n",
       "  'source_subset': 'Poitou_1789'},\n",
       " {'pointcall': 'Oléron',\n",
       "  'ferme_bureau': None,\n",
       "  'pointcall_admiralty': 'Marennes',\n",
       "  'source_subset': 'Poitou_1789'}]"
      ]
     },
     "execution_count": 5,
     "metadata": {},
     "output_type": "execute_result"
    }
   ],
   "source": [
    "# récupération de tous les ports navigo concernés\n",
    "\n",
    "pointcalls_datasprint = portic_client.get_pointcalls(\n",
    " year = 1789,\n",
    " pointcall_admiralty = ['La Rochelle', 'Marennes', 'Sables d\\'Olonne'],\n",
    " # si on utilise source_subset = 'Poitou_1789' on aura des ports qui ne correspondent pas à la direction des Fermes de La Rochelle => trop de ports (invisualisable)\n",
    " params = ['pointcall', 'ferme_bureau', 'pointcall_admiralty', 'source_subset']\n",
    ")\n",
    "\n",
    "pointcalls_datasprint[0:9]"
   ]
  },
  {
   "cell_type": "code",
   "execution_count": 6,
   "metadata": {},
   "outputs": [],
   "source": [
    "# écriture des croisements dans un csv pour nourrir RAWGraphs\n",
    "import csv\n",
    "from csv import DictWriter\n",
    "\n",
    "# tableau qui contient une ligne par pointcall (avec à chaque fois le port Navigo qui correspond à un bureau Toflit) \n",
    "with open('dumps/croisement_ports_bureaux_datasprint.csv', 'w', newline='') as csvfile:\n",
    "        fieldnames = ['port_Navigo','ferme_bureau_Toflit']\n",
    "        writer = csv.DictWriter(csvfile, fieldnames=fieldnames)\n",
    "\n",
    "        writer.writeheader()\n",
    "        for pointcall in pointcalls_datasprint:\n",
    "            \n",
    "            # remplacer par \"pas de bureau rattaché\" plutot que None quand le port n'a pas de bureau des Fermes associé\n",
    "            bureau = pointcall['ferme_bureau']\n",
    "            if bureau is None:\n",
    "                bureau = \"pas de bureau rattaché\"\n",
    "            writer.writerow({\n",
    "                'port_Navigo':pointcall['pointcall'],\n",
    "                'ferme_bureau_Toflit':bureau\n",
    "            })\n"
   ]
  },
  {
   "cell_type": "code",
   "execution_count": 8,
   "metadata": {},
   "outputs": [
    {
     "data": {
      "image/svg+xml": [
       "<svg xmlns=\"http://www.w3.org/2000/svg\" width=\"805\" height=\"1200\"><rect width=\"805\" height=\"1200\" x=\"0\" y=\"0\" fill=\"#FFFFFF\" id=\"backgorund\"/><g transform=\"translate(10,10)\" id=\"visualization\"><g><rect x=\"780\" y=\"3.410605131648481e-13\" height=\"0.10472610096667267\" width=\"5\" fill=\"black\"><title>Avallon: 1</title></rect><rect x=\"780\" y=\"5.104726100967014\" height=\"0.10472610096667267\" width=\"5\" fill=\"black\"><title>Rivedoux: 1</title></rect><rect x=\"780\" y=\"10.209452201933686\" height=\"0.10472610096667267\" width=\"5\" fill=\"black\"><title>Ile d' Aix: 1</title></rect><rect x=\"780\" y=\"15.314178302900359\" height=\"0.10472610096667267\" width=\"5\" fill=\"black\"><title>Martrou: 1</title></rect><rect x=\"780\" y=\"20.41890440386703\" height=\"0.10472610096667267\" width=\"5\" fill=\"black\"><title>Mornac: 1</title></rect><rect x=\"780\" y=\"25.523630504833704\" height=\"0.10472610096667267\" width=\"5\" fill=\"black\"><title>Charron: 1</title></rect><rect x=\"780\" y=\"30.628356605800377\" height=\"0.20945220193345904\" width=\"5\" fill=\"black\"><title>Coureaux [de Ré]: 2</title></rect><rect x=\"780\" y=\"35.837808807733836\" height=\"0.20945220193334535\" width=\"5\" fill=\"black\"><title>Chaillevette: 2</title></rect><rect x=\"780\" y=\"41.04726100966718\" height=\"0.314178302900018\" width=\"5\" fill=\"black\"><title>Fouras: 3</title></rect><rect x=\"780\" y=\"46.3614393125672\" height=\"0.314178302900018\" width=\"5\" fill=\"black\"><title>Saint André de Cuzac: 3</title></rect><rect x=\"780\" y=\"51.67561761546722\" height=\"0.314178302900018\" width=\"5\" fill=\"black\"><title>Bourcefranc: 3</title></rect><rect x=\"780\" y=\"56.989795918367236\" height=\"0.314178302900018\" width=\"5\" fill=\"black\"><title>Couarde île de Ré: 3</title></rect><rect x=\"780\" y=\"62.303974221267254\" height=\"0.4189044038669181\" width=\"5\" fill=\"black\"><title>Taillebourg: 4</title></rect><rect x=\"780\" y=\"67.72287862513417\" height=\"0.6283566058002634\" width=\"5\" fill=\"black\"><title>Saintes: 6</title></rect><rect x=\"780\" y=\"73.35123523093444\" height=\"0.7330827067669361\" width=\"5\" fill=\"black\"><title>Dercie: 7</title></rect><rect x=\"780\" y=\"79.08431793770137\" height=\"0.7330827067669361\" width=\"5\" fill=\"black\"><title>Loix: 7</title></rect><rect x=\"780\" y=\"84.81740064446831\" height=\"0.8378088077336088\" width=\"5\" fill=\"black\"><title>dans le Pertuis: 8</title></rect><rect x=\"780\" y=\"90.65520945220192\" height=\"1.2567132116004274\" width=\"5\" fill=\"black\"><title>Le Plomb: 12</title></rect><rect x=\"780\" y=\"96.91192266380234\" height=\"1.4661654135338722\" width=\"5\" fill=\"black\"><title>Chaput: 14</title></rect><rect x=\"780\" y=\"103.37808807733622\" height=\"1.7803437164338902\" width=\"5\" fill=\"black\"><title>Mortagne: 17</title></rect><rect x=\"780\" y=\"110.1584317937701\" height=\"1.7803437164338902\" width=\"5\" fill=\"black\"><title>Anveaux: 17</title></rect><rect x=\"780\" y=\"116.938775510204\" height=\"1.9897959183672356\" width=\"5\" fill=\"black\"><title>Brouage: 19</title></rect><rect x=\"780\" y=\"123.92857142857123\" height=\"3.037056928034417\" width=\"5\" fill=\"black\"><title>La Tremblade: 29</title></rect><rect x=\"780\" y=\"131.96562835660563\" height=\"3.351235230934435\" width=\"5\" fill=\"black\"><title>Royan: 32</title></rect><rect x=\"780\" y=\"140.31686358754007\" height=\"3.4559613319011078\" width=\"5\" fill=\"black\"><title>Saint Savinien: 33</title></rect><rect x=\"780\" y=\"148.77282491944118\" height=\"4.0843179377014\" width=\"5\" fill=\"black\"><title>Esnandes: 39</title></rect><rect x=\"780\" y=\"157.85714285714258\" height=\"4.503222341568289\" width=\"5\" fill=\"black\"><title>Soubise: 43</title></rect><rect x=\"780\" y=\"167.36036519871087\" height=\"5.445757250268571\" width=\"5\" fill=\"black\"><title>Seudre: 52</title></rect><rect x=\"780\" y=\"177.80612244897944\" height=\"6.493018259935525\" width=\"5\" fill=\"black\"><title>Le Chateau [d' Oléron]: 62</title></rect><rect x=\"780\" y=\"189.29914070891496\" height=\"7.645005370569265\" width=\"5\" fill=\"black\"><title>Saint Denis [d' Oléron]: 73</title></rect><rect x=\"780\" y=\"201.94414607948423\" height=\"10.472610096670223\" width=\"5\" fill=\"black\"><title>La Perrotine: 100</title></rect><rect x=\"780\" y=\"217.41675617615445\" height=\"20.945220193340504\" width=\"5\" fill=\"black\"><title>Ile de Ré: 200</title></rect><rect x=\"780\" y=\"243.36197636949495\" height=\"23.772824919441433\" width=\"5\" fill=\"black\"><title>La Flotte en Ré: 227</title></rect><rect x=\"780\" y=\"272.1348012889364\" height=\"35.292696025778696\" width=\"5\" fill=\"black\"><title>Ars en Ré: 337</title></rect><rect x=\"780\" y=\"312.4274973147151\" height=\"42.414070891514484\" width=\"5\" fill=\"black\"><title>Oléron: 405</title></rect><rect x=\"780\" y=\"359.84156820622957\" height=\"49.22126745435014\" width=\"5\" fill=\"black\"><title>Ribérou [Saujon]: 470</title></rect><rect x=\"780\" y=\"414.0628356605797\" height=\"59.48442534908702\" width=\"5\" fill=\"black\"><title>Saint Martin de Ré: 568</title></rect><rect x=\"0\" y=\"87.50000000000011\" height=\"59.90332975295382\" width=\"5\" fill=\"black\"><title>Rochefort: 572</title></rect><rect x=\"780\" y=\"478.5472610096667\" height=\"59.90332975295382\" width=\"5\" fill=\"black\"><title>Rochefort: 572</title></rect><rect x=\"0\" y=\"152.40332975295394\" height=\"84.40923737916219\" width=\"5\" fill=\"black\"><title>pas de bureau rattaché: 806</title></rect><rect x=\"0\" y=\"241.81256713211613\" height=\"100.0134264232008\" width=\"5\" fill=\"black\"><title>Alligre: 955</title></rect><rect x=\"780\" y=\"543.4505907626205\" height=\"100.01342642320083\" width=\"5\" fill=\"black\"><title>Aligre de Marans: 955</title></rect><rect x=\"0\" y=\"346.8259935553169\" height=\"118.54994629430712\" width=\"5\" fill=\"black\"><title>Saint-Martin île de Ré: 1132</title></rect><rect x=\"0\" y=\"470.37593984962405\" height=\"138.34317937701394\" width=\"5\" fill=\"black\"><title>Charente: 1321</title></rect><rect x=\"780\" y=\"648.4640171858214\" height=\"138.34317937701394\" width=\"5\" fill=\"black\"><title>Charente: 1321</title></rect><rect x=\"780\" y=\"791.8071965628353\" height=\"178.97690655209453\" width=\"5\" fill=\"black\"><title>Marennes: 1709</title></rect><rect x=\"780\" y=\"975.7841031149298\" height=\"204.2158968850697\" width=\"5\" fill=\"black\"><title>La Rochelle: 1950</title></rect><rect x=\"0\" y=\"613.719119226638\" height=\"208.30021482277118\" width=\"5\" fill=\"black\"><title>La Rochelle: 1989</title></rect><rect x=\"0\" y=\"827.0193340494092\" height=\"265.48066595059083\" width=\"5\" fill=\"black\"><title>Marennes: 2535</title></rect></g><g fill=\"none\" stroke-opacity=\"1\"><g style=\"mix-blend-mode: multiply;\"><path d=\"M5,162.8759398496242C392.5,162.8759398496242,392.5,227.8893662728247,780,227.8893662728247\" stroke=\"#8c564b\" stroke-width=\"20.945220193340493\"/><title>pas de bureau rattaché → Ile de Ré: 200</title></g><g style=\"mix-blend-mode: multiply;\"><path d=\"M5,615.7612781954887C392.5,615.7612781954887,392.5,150.81498388829186,780,150.81498388829186\" stroke=\"#2ca02c\" stroke-width=\"4.084317937701396\"/><title>La Rochelle → Esnandes: 39</title></g><g style=\"mix-blend-mode: multiply;\"><path d=\"M5,173.97690655209465C392.5,173.97690655209465,392.5,91.28356605800214,780,91.28356605800214\" stroke=\"#8c564b\" stroke-width=\"1.2567132116004296\"/><title>pas de bureau rattaché → Le Plomb: 12</title></g><g style=\"mix-blend-mode: multiply;\"><path d=\"M5,195.81229860365212C392.5,195.81229860365212,392.5,333.6345327604723,780,333.6345327604723\" stroke=\"#8c564b\" stroke-width=\"42.4140708915145\"/><title>pas de bureau rattaché → Oléron: 405</title></g><g style=\"mix-blend-mode: multiply;\"><path d=\"M5,916.5077873254564C392.5,916.5077873254564,392.5,881.2956498388826,780,881.2956498388826\" stroke=\"#d62728\" stroke-width=\"178.97690655209453\"/><title>Marennes → Marennes: 1709</title></g><g style=\"mix-blend-mode: multiply;\"><path d=\"M5,719.9113856068743C392.5,719.9113856068743,392.5,1077.8920515574648,780,1077.8920515574648\" stroke=\"#2ca02c\" stroke-width=\"204.2158968850698\"/><title>La Rochelle → La Rochelle: 1950</title></g><g style=\"mix-blend-mode: multiply;\"><path d=\"M5,117.45166487647703C392.5,117.45166487647703,392.5,508.49892588614364,780,508.49892588614364\" stroke=\"#9467bd\" stroke-width=\"59.903329752953816\"/><title>Rochefort → Rochefort: 572</title></g><g style=\"mix-blend-mode: multiply;\"><path d=\"M5,1007.5147690655209C392.5,1007.5147690655209,392.5,125.44709989258841,780,125.44709989258841\" stroke=\"#d62728\" stroke-width=\"3.0370569280343718\"/><title>Marennes → La Tremblade: 29</title></g><g style=\"mix-blend-mode: multiply;\"><path d=\"M5,291.81928034371657C392.5,291.81928034371657,392.5,593.457303974221,780,593.457303974221\" stroke=\"#1f77b4\" stroke-width=\"100.01342642320085\"/><title>Alligre → Aligre de Marans: 955</title></g><g style=\"mix-blend-mode: multiply;\"><path d=\"M5,539.547529538131C392.5,539.547529538131,392.5,717.6356068743283,780,717.6356068743283\" stroke=\"#ff7f0e\" stroke-width=\"138.34317937701397\"/><title>Charente → Charente: 1321</title></g><g style=\"mix-blend-mode: multiply;\"><path d=\"M5,376.56820622986044C392.5,376.56820622986044,392.5,443.8050483351232,780,443.8050483351232\" stroke=\"#e377c2\" stroke-width=\"59.484425349087005\"/><title>Saint-Martin île de Ré → Saint Martin de Ré: 568</title></g><g style=\"mix-blend-mode: multiply;\"><path d=\"M5,217.1240601503761C392.5,217.1240601503761,392.5,30.733082706767078,780,30.733082706767078\" stroke=\"#8c564b\" stroke-width=\"1\"/><title>pas de bureau rattaché → Coureaux [de Ré]: 2</title></g><g style=\"mix-blend-mode: multiply;\"><path d=\"M5,1033.6439312567131C392.5,1033.6439312567131,392.5,384.45220193340464,780,384.45220193340464\" stroke=\"#d62728\" stroke-width=\"49.22126745435016\"/><title>Marennes → Ribérou [Saujon]: 470</title></g><g style=\"mix-blend-mode: multiply;\"><path d=\"M5,423.9567669172933C392.5,423.9567669172933,392.5,289.78114930182574,780,289.78114930182574\" stroke=\"#e377c2\" stroke-width=\"35.29269602577873\"/><title>Saint-Martin île de Ré → Ars en Ré: 337</title></g><g style=\"mix-blend-mode: multiply;\"><path d=\"M5,1062.077067669173C392.5,1062.077067669173,392.5,193.1216433941996,780,193.1216433941996\" stroke=\"#d62728\" stroke-width=\"7.64500537056928\"/><title>Marennes → Saint Denis [d' Oléron]: 73</title></g><g style=\"mix-blend-mode: multiply;\"><path d=\"M5,1067.5751879699249C392.5,1067.5751879699249,392.5,133.64124597207288,780,133.64124597207288\" stroke=\"#d62728\" stroke-width=\"3.351235230934479\"/><title>Marennes → Royan: 32</title></g><g style=\"mix-blend-mode: multiply;\"><path d=\"M5,453.4895273899034C392.5,453.4895273899034,392.5,255.24838882921568,780,255.24838882921568\" stroke=\"#e377c2\" stroke-width=\"23.77282491944146\"/><title>Saint-Martin île de Ré → La Flotte en Ré: 227</title></g><g style=\"mix-blend-mode: multiply;\"><path d=\"M5,1072.4973147153598C392.5,1072.4973147153598,392.5,181.05263157894723,780,181.05263157894723\" stroke=\"#d62728\" stroke-width=\"6.493018259935553\"/><title>Marennes → Le Chateau [d' Oléron]: 62</title></g><g style=\"mix-blend-mode: multiply;\"><path d=\"M5,1080.9801288936628C392.5,1080.9801288936628,392.5,207.18045112781934,780,207.18045112781934\" stroke=\"#d62728\" stroke-width=\"10.472610096670246\"/><title>Marennes → La Perrotine: 100</title></g><g style=\"mix-blend-mode: multiply;\"><path d=\"M5,1087.1066058002148C392.5,1087.1066058002148,392.5,104.26825993555319,780,104.26825993555319\" stroke=\"#d62728\" stroke-width=\"1.780343716433942\"/><title>Marennes → Mortagne: 17</title></g><g style=\"mix-blend-mode: multiply;\"><path d=\"M5,1090.2483888292159C392.5,1090.2483888292159,392.5,160.1087540279267,780,160.1087540279267\" stroke=\"#d62728\" stroke-width=\"4.503222341568207\"/><title>Marennes → Soubise: 43</title></g><g style=\"mix-blend-mode: multiply;\"><path d=\"M5,218.22368421052647C392.5,218.22368421052647,392.5,117.93367346938767,780,117.93367346938767\" stroke=\"#8c564b\" stroke-width=\"1.989795918367347\"/><title>pas de bureau rattaché → Brouage: 19</title></g><g style=\"mix-blend-mode: multiply;\"><path d=\"M5,221.9414607948444C392.5,221.9414607948444,392.5,170.08324382384512,780,170.08324382384512\" stroke=\"#8c564b\" stroke-width=\"5.445757250268528\"/><title>pas de bureau rattaché → Seudre: 52</title></g><g style=\"mix-blend-mode: multiply;\"><path d=\"M5,225.39742212674557C392.5,225.39742212674557,392.5,97.64500537056927,780,97.64500537056927\" stroke=\"#8c564b\" stroke-width=\"1.4661654135338347\"/><title>pas de bureau rattaché → Chaput: 14</title></g><g style=\"mix-blend-mode: multiply;\"><path d=\"M5,226.2352309344792C392.5,226.2352309344792,392.5,35.94253490870054,780,35.94253490870054\" stroke=\"#8c564b\" stroke-width=\"1\"/><title>pas de bureau rattaché → Chaillevette: 2</title></g><g style=\"mix-blend-mode: multiply;\"><path d=\"M5,228.0679377013965C392.5,228.0679377013965,392.5,142.04484425349065,780,142.04484425349065\" stroke=\"#8c564b\" stroke-width=\"3.4559613319011815\"/><title>pas de bureau rattaché → Saint Savinien: 33</title></g><g style=\"mix-blend-mode: multiply;\"><path d=\"M5,230.68609022556407C392.5,230.68609022556407,392.5,111.04860365198708,780,111.04860365198708\" stroke=\"#8c564b\" stroke-width=\"1.780343716433942\"/><title>pas de bureau rattaché → Anveaux: 17</title></g><g style=\"mix-blend-mode: multiply;\"><path d=\"M5,231.89044038668115C392.5,231.89044038668115,392.5,68.03705692803427,780,68.03705692803427\" stroke=\"#8c564b\" stroke-width=\"1\"/><title>pas de bureau rattaché → Saintes: 6</title></g><g style=\"mix-blend-mode: multiply;\"><path d=\"M5,232.25698174006462C392.5,232.25698174006462,392.5,0.052363050483692296,780,0.052363050483692296\" stroke=\"#8c564b\" stroke-width=\"1\"/><title>pas de bureau rattaché → Avallon: 1</title></g><g style=\"mix-blend-mode: multiply;\"><path d=\"M5,232.46643394199802C392.5,232.46643394199802,392.5,41.20435016111723,780,41.20435016111723\" stroke=\"#8c564b\" stroke-width=\"1\"/><title>pas de bureau rattaché → Fouras: 3</title></g><g style=\"mix-blend-mode: multiply;\"><path d=\"M5,232.83297529538146C392.5,232.83297529538146,392.5,62.513426423200656,780,62.513426423200656\" stroke=\"#8c564b\" stroke-width=\"1\"/><title>pas de bureau rattaché → Taillebourg: 4</title></g><g style=\"mix-blend-mode: multiply;\"><path d=\"M5,233.46133190118167C392.5,233.46133190118167,392.5,85.23630504833511,780,85.23630504833511\" stroke=\"#8c564b\" stroke-width=\"1\"/><title>pas de bureau rattaché → dans le Pertuis: 8</title></g><g style=\"mix-blend-mode: multiply;\"><path d=\"M5,234.24677765843194C392.5,234.24677765843194,392.5,73.71777658431789,780,73.71777658431789\" stroke=\"#8c564b\" stroke-width=\"1\"/><title>pas de bureau rattaché → Dercie: 7</title></g><g style=\"mix-blend-mode: multiply;\"><path d=\"M5,234.97986036519885C392.5,234.97986036519885,392.5,79.45085929108483,780,79.45085929108483\" stroke=\"#8c564b\" stroke-width=\"1\"/><title>pas de bureau rattaché → Loix: 7</title></g><g style=\"mix-blend-mode: multiply;\"><path d=\"M5,235.50349087003235C392.5,235.50349087003235,392.5,46.51852846401725,780,46.51852846401725\" stroke=\"#8c564b\" stroke-width=\"1\"/><title>pas de bureau rattaché → Saint André de Cuzac: 3</title></g><g style=\"mix-blend-mode: multiply;\"><path d=\"M5,235.81766917293245C392.5,235.81766917293245,392.5,51.83270676691727,780,51.83270676691727\" stroke=\"#8c564b\" stroke-width=\"1\"/><title>pas de bureau rattaché → Bourcefranc: 3</title></g><g style=\"mix-blend-mode: multiply;\"><path d=\"M5,236.13184747583256C392.5,236.13184747583256,392.5,57.14688506981729,780,57.14688506981729\" stroke=\"#8c564b\" stroke-width=\"1\"/><title>pas de bureau rattaché → Couarde île de Ré: 3</title></g><g style=\"mix-blend-mode: multiply;\"><path d=\"M5,236.34129967776596C392.5,236.34129967776596,392.5,5.157089151450365,780,5.157089151450365\" stroke=\"#8c564b\" stroke-width=\"1\"/><title>pas de bureau rattaché → Rivedoux: 1</title></g><g style=\"mix-blend-mode: multiply;\"><path d=\"M5,236.44602577873266C392.5,236.44602577873266,392.5,10.261815252417037,780,10.261815252417037\" stroke=\"#8c564b\" stroke-width=\"1\"/><title>pas de bureau rattaché → Ile d' Aix: 1</title></g><g style=\"mix-blend-mode: multiply;\"><path d=\"M5,236.55075187969936C392.5,236.55075187969936,392.5,15.36654135338371,780,15.36654135338371\" stroke=\"#8c564b\" stroke-width=\"1\"/><title>pas de bureau rattaché → Martrou: 1</title></g><g style=\"mix-blend-mode: multiply;\"><path d=\"M5,236.65547798066606C392.5,236.65547798066606,392.5,20.471267454350382,780,20.471267454350382\" stroke=\"#8c564b\" stroke-width=\"1\"/><title>pas de bureau rattaché → Mornac: 1</title></g><g style=\"mix-blend-mode: multiply;\"><path d=\"M5,236.76020408163276C392.5,236.76020408163276,392.5,25.575993555317055,780,25.575993555317055\" stroke=\"#8c564b\" stroke-width=\"1\"/><title>pas de bureau rattaché → Charron: 1</title></g></g><g><text x=\"776\" y=\"0.0523630504836774\" text-anchor=\"end\" transform=\"translate(0,-5)\"><tspan alignment-baseline=\"middle\" x=\"776\" style=\"font-family: Arial, sans-serif; font-size: 10px; fill: black; font-weight: bold;\">Avallon</tspan><tspan alignment-baseline=\"middle\" x=\"776\" dy=\"12\" style=\"font-family: Arial, sans-serif; font-size: 10px; fill: black; font-weight: normal;\">1</tspan></text><text x=\"776\" y=\"5.15708915145035\" text-anchor=\"end\" transform=\"translate(0,-5)\"><tspan alignment-baseline=\"middle\" x=\"776\" style=\"font-family: Arial, sans-serif; font-size: 10px; fill: black; font-weight: bold;\">Rivedoux</tspan><tspan alignment-baseline=\"middle\" x=\"776\" dy=\"12\" style=\"font-family: Arial, sans-serif; font-size: 10px; fill: black; font-weight: normal;\">1</tspan></text><text x=\"776\" y=\"10.261815252417023\" text-anchor=\"end\" transform=\"translate(0,-5)\"><tspan alignment-baseline=\"middle\" x=\"776\" style=\"font-family: Arial, sans-serif; font-size: 10px; fill: black; font-weight: bold;\">Ile d' Aix</tspan><tspan alignment-baseline=\"middle\" x=\"776\" dy=\"12\" style=\"font-family: Arial, sans-serif; font-size: 10px; fill: black; font-weight: normal;\">1</tspan></text><text x=\"776\" y=\"15.366541353383695\" text-anchor=\"end\" transform=\"translate(0,-5)\"><tspan alignment-baseline=\"middle\" x=\"776\" style=\"font-family: Arial, sans-serif; font-size: 10px; fill: black; font-weight: bold;\">Martrou</tspan><tspan alignment-baseline=\"middle\" x=\"776\" dy=\"12\" style=\"font-family: Arial, sans-serif; font-size: 10px; fill: black; font-weight: normal;\">1</tspan></text><text x=\"776\" y=\"20.471267454350368\" text-anchor=\"end\" transform=\"translate(0,-5)\"><tspan alignment-baseline=\"middle\" x=\"776\" style=\"font-family: Arial, sans-serif; font-size: 10px; fill: black; font-weight: bold;\">Mornac</tspan><tspan alignment-baseline=\"middle\" x=\"776\" dy=\"12\" style=\"font-family: Arial, sans-serif; font-size: 10px; fill: black; font-weight: normal;\">1</tspan></text><text x=\"776\" y=\"25.57599355531704\" text-anchor=\"end\" transform=\"translate(0,-5)\"><tspan alignment-baseline=\"middle\" x=\"776\" style=\"font-family: Arial, sans-serif; font-size: 10px; fill: black; font-weight: bold;\">Charron</tspan><tspan alignment-baseline=\"middle\" x=\"776\" dy=\"12\" style=\"font-family: Arial, sans-serif; font-size: 10px; fill: black; font-weight: normal;\">1</tspan></text><text x=\"776\" y=\"30.733082706767107\" text-anchor=\"end\" transform=\"translate(0,-5)\"><tspan alignment-baseline=\"middle\" x=\"776\" style=\"font-family: Arial, sans-serif; font-size: 10px; fill: black; font-weight: bold;\">Coureaux [de Ré]</tspan><tspan alignment-baseline=\"middle\" x=\"776\" dy=\"12\" style=\"font-family: Arial, sans-serif; font-size: 10px; fill: black; font-weight: normal;\">2</tspan></text><text x=\"776\" y=\"35.94253490870051\" text-anchor=\"end\" transform=\"translate(0,-5)\"><tspan alignment-baseline=\"middle\" x=\"776\" style=\"font-family: Arial, sans-serif; font-size: 10px; fill: black; font-weight: bold;\">Chaillevette</tspan><tspan alignment-baseline=\"middle\" x=\"776\" dy=\"12\" style=\"font-family: Arial, sans-serif; font-size: 10px; fill: black; font-weight: normal;\">2</tspan></text><text x=\"776\" y=\"41.20435016111719\" text-anchor=\"end\" transform=\"translate(0,-5)\"><tspan alignment-baseline=\"middle\" x=\"776\" style=\"font-family: Arial, sans-serif; font-size: 10px; fill: black; font-weight: bold;\">Fouras</tspan><tspan alignment-baseline=\"middle\" x=\"776\" dy=\"12\" style=\"font-family: Arial, sans-serif; font-size: 10px; fill: black; font-weight: normal;\">3</tspan></text><text x=\"776\" y=\"46.51852846401721\" text-anchor=\"end\" transform=\"translate(0,-5)\"><tspan alignment-baseline=\"middle\" x=\"776\" style=\"font-family: Arial, sans-serif; font-size: 10px; fill: black; font-weight: bold;\">Saint André de Cuzac</tspan><tspan alignment-baseline=\"middle\" x=\"776\" dy=\"12\" style=\"font-family: Arial, sans-serif; font-size: 10px; fill: black; font-weight: normal;\">3</tspan></text><text x=\"776\" y=\"51.83270676691723\" text-anchor=\"end\" transform=\"translate(0,-5)\"><tspan alignment-baseline=\"middle\" x=\"776\" style=\"font-family: Arial, sans-serif; font-size: 10px; fill: black; font-weight: bold;\">Bourcefranc</tspan><tspan alignment-baseline=\"middle\" x=\"776\" dy=\"12\" style=\"font-family: Arial, sans-serif; font-size: 10px; fill: black; font-weight: normal;\">3</tspan></text><text x=\"776\" y=\"57.146885069817245\" text-anchor=\"end\" transform=\"translate(0,-5)\"><tspan alignment-baseline=\"middle\" x=\"776\" style=\"font-family: Arial, sans-serif; font-size: 10px; fill: black; font-weight: bold;\">Couarde île de Ré</tspan><tspan alignment-baseline=\"middle\" x=\"776\" dy=\"12\" style=\"font-family: Arial, sans-serif; font-size: 10px; fill: black; font-weight: normal;\">3</tspan></text><text x=\"776\" y=\"62.51342642320071\" text-anchor=\"end\" transform=\"translate(0,-5)\"><tspan alignment-baseline=\"middle\" x=\"776\" style=\"font-family: Arial, sans-serif; font-size: 10px; fill: black; font-weight: bold;\">Taillebourg</tspan><tspan alignment-baseline=\"middle\" x=\"776\" dy=\"12\" style=\"font-family: Arial, sans-serif; font-size: 10px; fill: black; font-weight: normal;\">4</tspan></text><text x=\"776\" y=\"68.0370569280343\" text-anchor=\"end\" transform=\"translate(0,-5)\"><tspan alignment-baseline=\"middle\" x=\"776\" style=\"font-family: Arial, sans-serif; font-size: 10px; fill: black; font-weight: bold;\">Saintes</tspan><tspan alignment-baseline=\"middle\" x=\"776\" dy=\"12\" style=\"font-family: Arial, sans-serif; font-size: 10px; fill: black; font-weight: normal;\">6</tspan></text><text x=\"776\" y=\"73.7177765843179\" text-anchor=\"end\" transform=\"translate(0,-5)\"><tspan alignment-baseline=\"middle\" x=\"776\" style=\"font-family: Arial, sans-serif; font-size: 10px; fill: black; font-weight: bold;\">Dercie</tspan><tspan alignment-baseline=\"middle\" x=\"776\" dy=\"12\" style=\"font-family: Arial, sans-serif; font-size: 10px; fill: black; font-weight: normal;\">7</tspan></text><text x=\"776\" y=\"79.45085929108484\" text-anchor=\"end\" transform=\"translate(0,-5)\"><tspan alignment-baseline=\"middle\" x=\"776\" style=\"font-family: Arial, sans-serif; font-size: 10px; fill: black; font-weight: bold;\">Loix</tspan><tspan alignment-baseline=\"middle\" x=\"776\" dy=\"12\" style=\"font-family: Arial, sans-serif; font-size: 10px; fill: black; font-weight: normal;\">7</tspan></text><text x=\"776\" y=\"85.23630504833511\" text-anchor=\"end\" transform=\"translate(0,-5)\"><tspan alignment-baseline=\"middle\" x=\"776\" style=\"font-family: Arial, sans-serif; font-size: 10px; fill: black; font-weight: bold;\">dans le Pertuis</tspan><tspan alignment-baseline=\"middle\" x=\"776\" dy=\"12\" style=\"font-family: Arial, sans-serif; font-size: 10px; fill: black; font-weight: normal;\">8</tspan></text><text x=\"776\" y=\"91.28356605800212\" text-anchor=\"end\" transform=\"translate(0,-5)\"><tspan alignment-baseline=\"middle\" x=\"776\" style=\"font-family: Arial, sans-serif; font-size: 10px; fill: black; font-weight: bold;\">Le Plomb</tspan><tspan alignment-baseline=\"middle\" x=\"776\" dy=\"12\" style=\"font-family: Arial, sans-serif; font-size: 10px; fill: black; font-weight: normal;\">12</tspan></text><text x=\"776\" y=\"97.64500537056928\" text-anchor=\"end\" transform=\"translate(0,-5)\"><tspan alignment-baseline=\"middle\" x=\"776\" style=\"font-family: Arial, sans-serif; font-size: 10px; fill: black; font-weight: bold;\">Chaput</tspan><tspan alignment-baseline=\"middle\" x=\"776\" dy=\"12\" style=\"font-family: Arial, sans-serif; font-size: 10px; fill: black; font-weight: normal;\">14</tspan></text><text x=\"776\" y=\"104.26825993555316\" text-anchor=\"end\" transform=\"translate(0,-5)\"><tspan alignment-baseline=\"middle\" x=\"776\" style=\"font-family: Arial, sans-serif; font-size: 10px; fill: black; font-weight: bold;\">Mortagne</tspan><tspan alignment-baseline=\"middle\" x=\"776\" dy=\"12\" style=\"font-family: Arial, sans-serif; font-size: 10px; fill: black; font-weight: normal;\">17</tspan></text><text x=\"776\" y=\"111.04860365198705\" text-anchor=\"end\" transform=\"translate(0,-5)\"><tspan alignment-baseline=\"middle\" x=\"776\" style=\"font-family: Arial, sans-serif; font-size: 10px; fill: black; font-weight: bold;\">Anveaux</tspan><tspan alignment-baseline=\"middle\" x=\"776\" dy=\"12\" style=\"font-family: Arial, sans-serif; font-size: 10px; fill: black; font-weight: normal;\">17</tspan></text><text x=\"776\" y=\"117.93367346938761\" text-anchor=\"end\" transform=\"translate(0,-5)\"><tspan alignment-baseline=\"middle\" x=\"776\" style=\"font-family: Arial, sans-serif; font-size: 10px; fill: black; font-weight: bold;\">Brouage</tspan><tspan alignment-baseline=\"middle\" x=\"776\" dy=\"12\" style=\"font-family: Arial, sans-serif; font-size: 10px; fill: black; font-weight: normal;\">19</tspan></text><text x=\"776\" y=\"125.44709989258844\" text-anchor=\"end\" transform=\"translate(0,-5)\"><tspan alignment-baseline=\"middle\" x=\"776\" style=\"font-family: Arial, sans-serif; font-size: 10px; fill: black; font-weight: bold;\">La Tremblade</tspan><tspan alignment-baseline=\"middle\" x=\"776\" dy=\"12\" style=\"font-family: Arial, sans-serif; font-size: 10px; fill: black; font-weight: normal;\">29</tspan></text><text x=\"776\" y=\"133.64124597207285\" text-anchor=\"end\" transform=\"translate(0,-5)\"><tspan alignment-baseline=\"middle\" x=\"776\" style=\"font-family: Arial, sans-serif; font-size: 10px; fill: black; font-weight: bold;\">Royan</tspan><tspan alignment-baseline=\"middle\" x=\"776\" dy=\"12\" style=\"font-family: Arial, sans-serif; font-size: 10px; fill: black; font-weight: normal;\">32</tspan></text><text x=\"776\" y=\"142.04484425349062\" text-anchor=\"end\" transform=\"translate(0,-5)\"><tspan alignment-baseline=\"middle\" x=\"776\" style=\"font-family: Arial, sans-serif; font-size: 10px; fill: black; font-weight: bold;\">Saint Savinien</tspan><tspan alignment-baseline=\"middle\" x=\"776\" dy=\"12\" style=\"font-family: Arial, sans-serif; font-size: 10px; fill: black; font-weight: normal;\">33</tspan></text><text x=\"776\" y=\"150.81498388829186\" text-anchor=\"end\" transform=\"translate(0,-5)\"><tspan alignment-baseline=\"middle\" x=\"776\" style=\"font-family: Arial, sans-serif; font-size: 10px; fill: black; font-weight: bold;\">Esnandes</tspan><tspan alignment-baseline=\"middle\" x=\"776\" dy=\"12\" style=\"font-family: Arial, sans-serif; font-size: 10px; fill: black; font-weight: normal;\">39</tspan></text><text x=\"776\" y=\"160.10875402792672\" text-anchor=\"end\" transform=\"translate(0,-5)\"><tspan alignment-baseline=\"middle\" x=\"776\" style=\"font-family: Arial, sans-serif; font-size: 10px; fill: black; font-weight: bold;\">Soubise</tspan><tspan alignment-baseline=\"middle\" x=\"776\" dy=\"12\" style=\"font-family: Arial, sans-serif; font-size: 10px; fill: black; font-weight: normal;\">43</tspan></text><text x=\"776\" y=\"170.08324382384515\" text-anchor=\"end\" transform=\"translate(0,-5)\"><tspan alignment-baseline=\"middle\" x=\"776\" style=\"font-family: Arial, sans-serif; font-size: 10px; fill: black; font-weight: bold;\">Seudre</tspan><tspan alignment-baseline=\"middle\" x=\"776\" dy=\"12\" style=\"font-family: Arial, sans-serif; font-size: 10px; fill: black; font-weight: normal;\">52</tspan></text><text x=\"776\" y=\"181.0526315789472\" text-anchor=\"end\" transform=\"translate(0,-5)\"><tspan alignment-baseline=\"middle\" x=\"776\" style=\"font-family: Arial, sans-serif; font-size: 10px; fill: black; font-weight: bold;\">Le Chateau [d' Oléron]</tspan><tspan alignment-baseline=\"middle\" x=\"776\" dy=\"12\" style=\"font-family: Arial, sans-serif; font-size: 10px; fill: black; font-weight: normal;\">62</tspan></text><text x=\"776\" y=\"193.1216433941996\" text-anchor=\"end\" transform=\"translate(0,-5)\"><tspan alignment-baseline=\"middle\" x=\"776\" style=\"font-family: Arial, sans-serif; font-size: 10px; fill: black; font-weight: bold;\">Saint Denis [d' Oléron]</tspan><tspan alignment-baseline=\"middle\" x=\"776\" dy=\"12\" style=\"font-family: Arial, sans-serif; font-size: 10px; fill: black; font-weight: normal;\">73</tspan></text><text x=\"776\" y=\"207.18045112781934\" text-anchor=\"end\" transform=\"translate(0,-5)\"><tspan alignment-baseline=\"middle\" x=\"776\" style=\"font-family: Arial, sans-serif; font-size: 10px; fill: black; font-weight: bold;\">La Perrotine</tspan><tspan alignment-baseline=\"middle\" x=\"776\" dy=\"12\" style=\"font-family: Arial, sans-serif; font-size: 10px; fill: black; font-weight: normal;\">100</tspan></text><text x=\"776\" y=\"227.8893662728247\" text-anchor=\"end\" transform=\"translate(0,-5)\"><tspan alignment-baseline=\"middle\" x=\"776\" style=\"font-family: Arial, sans-serif; font-size: 10px; fill: black; font-weight: bold;\">Ile de Ré</tspan><tspan alignment-baseline=\"middle\" x=\"776\" dy=\"12\" style=\"font-family: Arial, sans-serif; font-size: 10px; fill: black; font-weight: normal;\">200</tspan></text><text x=\"776\" y=\"255.24838882921568\" text-anchor=\"end\" transform=\"translate(0,-5)\"><tspan alignment-baseline=\"middle\" x=\"776\" style=\"font-family: Arial, sans-serif; font-size: 10px; fill: black; font-weight: bold;\">La Flotte en Ré</tspan><tspan alignment-baseline=\"middle\" x=\"776\" dy=\"12\" style=\"font-family: Arial, sans-serif; font-size: 10px; fill: black; font-weight: normal;\">227</tspan></text><text x=\"776\" y=\"289.78114930182574\" text-anchor=\"end\" transform=\"translate(0,-5)\"><tspan alignment-baseline=\"middle\" x=\"776\" style=\"font-family: Arial, sans-serif; font-size: 10px; fill: black; font-weight: bold;\">Ars en Ré</tspan><tspan alignment-baseline=\"middle\" x=\"776\" dy=\"12\" style=\"font-family: Arial, sans-serif; font-size: 10px; fill: black; font-weight: normal;\">337</tspan></text><text x=\"776\" y=\"333.6345327604723\" text-anchor=\"end\" transform=\"translate(0,-5)\"><tspan alignment-baseline=\"middle\" x=\"776\" style=\"font-family: Arial, sans-serif; font-size: 10px; fill: black; font-weight: bold;\">Oléron</tspan><tspan alignment-baseline=\"middle\" x=\"776\" dy=\"12\" style=\"font-family: Arial, sans-serif; font-size: 10px; fill: black; font-weight: normal;\">405</tspan></text><text x=\"776\" y=\"384.45220193340464\" text-anchor=\"end\" transform=\"translate(0,-5)\"><tspan alignment-baseline=\"middle\" x=\"776\" style=\"font-family: Arial, sans-serif; font-size: 10px; fill: black; font-weight: bold;\">Ribérou [Saujon]</tspan><tspan alignment-baseline=\"middle\" x=\"776\" dy=\"12\" style=\"font-family: Arial, sans-serif; font-size: 10px; fill: black; font-weight: normal;\">470</tspan></text><text x=\"776\" y=\"443.8050483351232\" text-anchor=\"end\" transform=\"translate(0,-5)\"><tspan alignment-baseline=\"middle\" x=\"776\" style=\"font-family: Arial, sans-serif; font-size: 10px; fill: black; font-weight: bold;\">Saint Martin de Ré</tspan><tspan alignment-baseline=\"middle\" x=\"776\" dy=\"12\" style=\"font-family: Arial, sans-serif; font-size: 10px; fill: black; font-weight: normal;\">568</tspan></text><text x=\"9\" y=\"117.45166487647703\" text-anchor=\"start\" transform=\"translate(0,-5)\"><tspan alignment-baseline=\"middle\" x=\"9\" style=\"font-family: Arial, sans-serif; font-size: 10px; fill: black; font-weight: bold;\">Rochefort</tspan><tspan alignment-baseline=\"middle\" x=\"9\" dy=\"12\" style=\"font-family: Arial, sans-serif; font-size: 10px; fill: black; font-weight: normal;\">572</tspan></text><text x=\"776\" y=\"508.49892588614364\" text-anchor=\"end\" transform=\"translate(0,-5)\"><tspan alignment-baseline=\"middle\" x=\"776\" style=\"font-family: Arial, sans-serif; font-size: 10px; fill: black; font-weight: bold;\">Rochefort</tspan><tspan alignment-baseline=\"middle\" x=\"776\" dy=\"12\" style=\"font-family: Arial, sans-serif; font-size: 10px; fill: black; font-weight: normal;\">572</tspan></text><text x=\"9\" y=\"194.60794844253502\" text-anchor=\"start\" transform=\"translate(0,-5)\"><tspan alignment-baseline=\"middle\" x=\"9\" style=\"font-family: Arial, sans-serif; font-size: 10px; fill: black; font-weight: bold;\">pas de bureau rattaché</tspan><tspan alignment-baseline=\"middle\" x=\"9\" dy=\"12\" style=\"font-family: Arial, sans-serif; font-size: 10px; fill: black; font-weight: normal;\">806</tspan></text><text x=\"9\" y=\"291.8192803437165\" text-anchor=\"start\" transform=\"translate(0,-5)\"><tspan alignment-baseline=\"middle\" x=\"9\" style=\"font-family: Arial, sans-serif; font-size: 10px; fill: black; font-weight: bold;\">Alligre</tspan><tspan alignment-baseline=\"middle\" x=\"9\" dy=\"12\" style=\"font-family: Arial, sans-serif; font-size: 10px; fill: black; font-weight: normal;\">955</tspan></text><text x=\"776\" y=\"593.457303974221\" text-anchor=\"end\" transform=\"translate(0,-5)\"><tspan alignment-baseline=\"middle\" x=\"776\" style=\"font-family: Arial, sans-serif; font-size: 10px; fill: black; font-weight: bold;\">Aligre de Marans</tspan><tspan alignment-baseline=\"middle\" x=\"776\" dy=\"12\" style=\"font-family: Arial, sans-serif; font-size: 10px; fill: black; font-weight: normal;\">955</tspan></text><text x=\"9\" y=\"406.1009667024705\" text-anchor=\"start\" transform=\"translate(0,-5)\"><tspan alignment-baseline=\"middle\" x=\"9\" style=\"font-family: Arial, sans-serif; font-size: 10px; fill: black; font-weight: bold;\">Saint-Martin île de Ré</tspan><tspan alignment-baseline=\"middle\" x=\"9\" dy=\"12\" style=\"font-family: Arial, sans-serif; font-size: 10px; fill: black; font-weight: normal;\">1132</tspan></text><text x=\"9\" y=\"539.547529538131\" text-anchor=\"start\" transform=\"translate(0,-5)\"><tspan alignment-baseline=\"middle\" x=\"9\" style=\"font-family: Arial, sans-serif; font-size: 10px; fill: black; font-weight: bold;\">Charente</tspan><tspan alignment-baseline=\"middle\" x=\"9\" dy=\"12\" style=\"font-family: Arial, sans-serif; font-size: 10px; fill: black; font-weight: normal;\">1321</tspan></text><text x=\"776\" y=\"717.6356068743283\" text-anchor=\"end\" transform=\"translate(0,-5)\"><tspan alignment-baseline=\"middle\" x=\"776\" style=\"font-family: Arial, sans-serif; font-size: 10px; fill: black; font-weight: bold;\">Charente</tspan><tspan alignment-baseline=\"middle\" x=\"776\" dy=\"12\" style=\"font-family: Arial, sans-serif; font-size: 10px; fill: black; font-weight: normal;\">1321</tspan></text><text x=\"776\" y=\"881.2956498388826\" text-anchor=\"end\" transform=\"translate(0,-5)\"><tspan alignment-baseline=\"middle\" x=\"776\" style=\"font-family: Arial, sans-serif; font-size: 10px; fill: black; font-weight: bold;\">Marennes</tspan><tspan alignment-baseline=\"middle\" x=\"776\" dy=\"12\" style=\"font-family: Arial, sans-serif; font-size: 10px; fill: black; font-weight: normal;\">1709</tspan></text><text x=\"776\" y=\"1077.8920515574646\" text-anchor=\"end\" transform=\"translate(0,-5)\"><tspan alignment-baseline=\"middle\" x=\"776\" style=\"font-family: Arial, sans-serif; font-size: 10px; fill: black; font-weight: bold;\">La Rochelle</tspan><tspan alignment-baseline=\"middle\" x=\"776\" dy=\"12\" style=\"font-family: Arial, sans-serif; font-size: 10px; fill: black; font-weight: normal;\">1950</tspan></text><text x=\"9\" y=\"717.8692266380235\" text-anchor=\"start\" transform=\"translate(0,-5)\"><tspan alignment-baseline=\"middle\" x=\"9\" style=\"font-family: Arial, sans-serif; font-size: 10px; fill: black; font-weight: bold;\">La Rochelle</tspan><tspan alignment-baseline=\"middle\" x=\"9\" dy=\"12\" style=\"font-family: Arial, sans-serif; font-size: 10px; fill: black; font-weight: normal;\">1989</tspan></text><text x=\"9\" y=\"959.7596670247046\" text-anchor=\"start\" transform=\"translate(0,-5)\"><tspan alignment-baseline=\"middle\" x=\"9\" style=\"font-family: Arial, sans-serif; font-size: 10px; fill: black; font-weight: bold;\">Marennes</tspan><tspan alignment-baseline=\"middle\" x=\"9\" dy=\"12\" style=\"font-family: Arial, sans-serif; font-size: 10px; fill: black; font-weight: normal;\">2535</tspan></text></g><g><text x=\"782.5\" y=\"-3.999999999999659\" text-anchor=\"middle\" style=\"font-family: Arial, sans-serif; font-size: 12px; fill: rgb(123, 123, 123); font-weight: bold;\">port_Navigo</text><text x=\"2.5\" y=\"83.50000000000011\" text-anchor=\"middle\" style=\"font-family: Arial, sans-serif; font-size: 12px; fill: rgb(123, 123, 123); font-weight: bold;\">ferme_bureau_Toflit</text></g></g></svg>"
      ],
      "text/plain": [
       "<IPython.core.display.SVG object>"
      ]
     },
     "execution_count": 8,
     "metadata": {},
     "output_type": "execute_result"
    }
   ],
   "source": [
    "from IPython.core.display import SVG\n",
    "SVG(filename='dumps/visualisations/croisement ports Portic : bureaux des Fermes Navigo - datasprint PORTIC 2021/diagramme_alluvial_ports_directions.svg')"
   ]
  },
  {
   "cell_type": "markdown",
   "metadata": {},
   "source": [
    "## Croisement 3 - Croisement ports / partenaires commerciaux \n",
    "\n",
    "### Objectif : obtenir un diagramme alluvial qui représente le croisement entre ports Navigo dans lesquels on a des pointcalls 'In' (ce qu'on pourrait analyser comme des destinataires d'exports) et les partenaires commerciaux Toflit18 pour les flux concernant le sprint\n",
    "\n",
    "=> RAWGraphs"
   ]
  },
  {
   "cell_type": "code",
   "execution_count": 1,
   "metadata": {},
   "outputs": [],
   "source": [
    "from poitousprint import Portic, Toflit, get_pointcalls_port_as_toflit_partner\n",
    "\n",
    "toflit_client = Toflit()\n",
    "portic_client = Portic()"
   ]
  },
  {
   "cell_type": "code",
   "execution_count": 2,
   "metadata": {},
   "outputs": [],
   "source": [
    "chosen_pointcall_actions = 'In'"
   ]
  },
  {
   "cell_type": "code",
   "execution_count": 3,
   "metadata": {},
   "outputs": [
    {
     "name": "stdout",
     "output_type": "stream",
     "text": [
      "[{'pkid': 93362, 'record_id': '00349916', 'pointcall': 'Arzon', 'pointcall_uhgs_id': 'A0145524', 'toponyme_fr': 'Arzon', 'toponyme_en': 'Arzon', 'latitude': '47.549033', 'longitude': '-2.893367', 'pointcall_admiralty': 'Vannes', 'pointcall_province': 'Bretagne', 'pointcall_states': '[{\"1749-1815\" : \"France\"}]', 'pointcall_substates': None, 'pointcall_states_en': '[{\"1749-1815\" : \"France\"}]', 'pointcall_substates_en': None, 'state_1789_fr': 'France', 'state_1789_en': 'France', 'substate_1789_fr': None, 'substate_1789_en': None, 'source_1787_available': False, 'source_1789_available': False, 'pointcall_status': None, 'shiparea': 'ACE-IROI', 'pointcall_point': '0101000020110F0000D5408190A0A813C166F399CFC6025741', 'ferme_direction': None, 'ferme_bureau': None, 'ferme_bureau_uncertainty': None, 'partner_balance_1789': None, 'partner_balance_supp_1789': 'France', 'partner_balance_1789_uncertainty': None, 'partner_balance_supp_1789_uncertainty': 0.0, 'pointcall_out_date': None, 'pointcall_action': 'In', 'outdate_fixed': None, 'pointcall_in_date': '1789>05>26', 'indate_fixed': None, 'net_route_marker': 'A', 'pointcall_function': 'T', 'navigo_status': 'FC-RF', 'ship_name': 'Sainte Anne', 'ship_id': '0012865N', 'tonnage': '7', 'tonnage_unit': 'tx', 'flag': 'French', 'class': None, 'ship_flag_id': 'A0167415', 'in_crew': None, 'homeport': 'Arzon', 'homeport_uhgs_id': 'A0145524', 'homeport_toponyme_fr': 'Arzon', 'homeport_toponyme_en': 'Arzon', 'homeport_latitude': '47.549033', 'homeport_longitude': '-2.893367', 'homeport_admiralty': 'Vannes', 'homeport_province': 'Bretagne', 'homeport_states': '[{\"1749-1815\" : \"France\"}]', 'homeport_substates': None, 'homeport_states_en': '[{\"1749-1815\" : \"France\"}]', 'homeport_substates_en': None, 'homeport_state_1789_fr': 'France', 'homeport_state_1789_en': 'France', 'homeport_substate_1789_fr': None, 'homeport_substate_1789_en': None, 'homeport_source_1787_available': False, 'homeport_source_1789_available': False, 'homeport_status': None, 'homeport_shiparea': 'ACE-IROI', 'homeport_point': 'SRID=3857;POINT(-322088.141118062 6032155.24377141)', 'homeport_ferme_direction': None, 'homeport_ferme_bureau': None, 'homeport_ferme_bureau_uncertainty': None, 'homeport_partner_balance_1789': None, 'homeport_partner_balance_supp_1789': 'France', 'homeport_partner_balance_1789_uncertainty': None, 'homeport_partner_balance_supp_1789_uncertainty': 0.0, 'source_doc_id': '00340015', 'source_text': 'ANF, G5-91/9370', 'source_suite': 'G5', 'source_component': 'ANF, G5-91', 'source_number': 9370.0, 'source_other': None, 'source_main_port_uhgs_id': 'A0199508', 'source_main_port_toponyme': 'La Flotte en Ré', 'source_subset': 'Poitou_1789', 'captain_id': '00012789', 'captain_name': 'Rouallec, François', 'birthplace': None, 'status': None, 'citizenship': None, 'commodity_purpose': 'vin', 'commodity_id': '00000043', 'quantity': None, 'quantity_u': None, 'commodity_standardized': 'Wine', 'commodity_standardized_fr': 'Vin', 'commodity_permanent_coding': 'ID-FFBxxx-JF-FAAAxx-FBxx', 'all_cargos': [{'quantity': None, 'quantity_u': None, 'commodity_id': '00000043', 'commodity_purpose': 'vin', 'link_to_pointcall': '00340015', 'commodity_standardized_en': 'Wine', 'commodity_standardized_fr': 'Vin', 'commodity_permanent_coding': 'ID-FFBxxx-JF-FAAAxx-FBxx'}], 'tax_concept': 'Droit de congé français', 'payment_date': None, 'q01': None, 'q01_u': None, 'q02': '10.0', 'q02_u': None, 'q03': None, 'q03_u': None, 'all_taxes': [{'q01': None, 'q02': '10.0', 'q03': None, 'q01_u': None, 'q02_u': None, 'q03_u': None, 'tax_concept': 'Droit de congé français', 'payment_date': None, 'link_to_pointcall': '00340015'}], 'ship_uncertainity': 0, 'tonnage_uncertainity': 0, 'flag_uncertainity': -2, 'homeport_uncertainity': 0, 'pointcall_uncertainity': -1, 'captain_uncertainity': 0, 'cargo_uncertainity': 0, 'taxe_uncertainity': 0, 'pointcall_in_date2': '1789=05=26', 'pointcall_out_date2': None, 'date_fixed': None, 'pointcall_rankfull': 15, 'ship_flag_standardized_fr': 'français', 'ship_flag_standardized_en': 'French', 'tonnage_class': '[1-20]', 'commodity_purpose2': None, 'commodity_id2': None, 'quantity2': None, 'quantity_u2': None, 'commodity_standardized2': None, 'commodity_standardized2_fr': None, 'commodity_permanent_coding2': None, 'commodity_purpose3': None, 'commodity_id3': None, 'quantity3': None, 'quantity_u3': None, 'commodity_standardized3': None, 'commodity_standardized3_fr': None, 'commodity_permanent_coding3': None, 'commodity_purpose4': None, 'commodity_id4': None, 'quantity4': None, 'quantity_u4': None, 'commodity_standardized4': None, 'commodity_standardized4_fr': None, 'commodity_permanent_coding4': None, 'data_block_leader_marker': 'T', 'pointcall_outdate_uncertainity': -1, 'shipclass_uncertainity': -4, 'birthplace_uhgs_id_uncertainity': -4, 'birthplace_uncertainity': -4, 'citizenship_uncertainity': -4, 'birthplace_uhgs_id': None, 'pointcall_as_toflit_partner': 'France'}]\n"
     ]
    }
   ],
   "source": [
    "# récupération de tous les ports navigo concernés\n",
    "\n",
    "pointcalls_datasprint = portic_client.get_pointcalls(\n",
    " # year = 1789,\n",
    " # pointcall_admiralty = ['La Rochelle', 'Marennes', 'Sables d\\'Olonne'],\n",
    " source_subset = 'Poitou_1789',\n",
    " pointcall_action = chosen_pointcall_actions\n",
    ")\n",
    "\n",
    "croisement_partners = get_pointcalls_port_as_toflit_partner(pointcalls_datasprint, 'partner_grouping')\n",
    "print(croisement_partners[0:1])"
   ]
  },
  {
   "cell_type": "code",
   "execution_count": 5,
   "metadata": {},
   "outputs": [
    {
     "data": {
      "text/plain": [
       "[{'port_navigo': 'Arzon', 'toflit_partner': 'France'},\n",
       " {'port_navigo': 'Côte de Bretagne', 'toflit_partner': 'France'},\n",
       " {'port_navigo': \"Saint Michel en l' Herm\", 'toflit_partner': 'France'},\n",
       " {'port_navigo': 'Ile de Ré', 'toflit_partner': 'France'},\n",
       " {'port_navigo': 'Ile de Ré', 'toflit_partner': 'France'},\n",
       " {'port_navigo': 'Ile de Ré', 'toflit_partner': 'France'},\n",
       " {'port_navigo': 'Esnandes', 'toflit_partner': 'France'},\n",
       " {'port_navigo': 'Le Plomb', 'toflit_partner': 'France'},\n",
       " {'port_navigo': 'Le Plomb', 'toflit_partner': 'France'},\n",
       " {'port_navigo': 'Oléron', 'toflit_partner': 'France'}]"
      ]
     },
     "execution_count": 5,
     "metadata": {},
     "output_type": "execute_result"
    }
   ],
   "source": [
    "# écriture des alignements dans un dict avec une ligne par match pour grossir les liens selon quantité de pointcalls concernés dans le diagramme alluvial\n",
    "ports_navigo = []\n",
    "\n",
    "for pointcall in croisement_partners: \n",
    "    # remplacer par \"pas de partenaire commercial rattaché\" plutot que None quand le port Navigo ne correspond pas à un partenaire Toflit18\n",
    "    partner = pointcall['pointcall_as_toflit_partner']\n",
    "    if partner is None:\n",
    "        partner = \"pas de partenaire commercial rattaché\"\n",
    "        \n",
    "    ports_navigo.append({\n",
    "        'port_navigo': pointcall['pointcall'],\n",
    "        'toflit_partner':partner\n",
    "    })\n",
    "\n",
    "ports_navigo[0:10]"
   ]
  },
  {
   "cell_type": "code",
   "execution_count": 6,
   "metadata": {},
   "outputs": [],
   "source": [
    "# écriture dans un csv\n",
    "import csv\n",
    "from csv import DictWriter\n",
    "\n",
    "# tableau qui contient une colonne par clé de dict \n",
    "with open('dumps/croisement_ports_' + str(chosen_pointcall_actions) + '_partners_datasprint.csv', 'w', newline='') as csvfile:\n",
    "        fieldnames = ['port_navigo','toflit_partner']\n",
    "        writer = csv.DictWriter(csvfile, fieldnames=fieldnames)\n",
    "\n",
    "        writer.writeheader()\n",
    "        for pointcall in ports_navigo:\n",
    "            writer.writerow(pointcall)"
   ]
  },
  {
   "cell_type": "code",
   "execution_count": 7,
   "metadata": {},
   "outputs": [
    {
     "data": {
      "image/svg+xml": [
       "<svg xmlns=\"http://www.w3.org/2000/svg\" width=\"805\" height=\"1600\"><rect width=\"805\" height=\"1600\" x=\"0\" y=\"0\" fill=\"#FFFFFF\" id=\"backgorund\"/><g transform=\"translate(10,10)\" id=\"visualization\"><g><rect x=\"780\" y=\"-1.3642420526593924e-12\" height=\"0.07065544197234885\" width=\"5\" fill=\"black\"><title>Noordwyck: 1</title></rect><rect x=\"780\" y=\"5.070655441970985\" height=\"0.07065544197234885\" width=\"5\" fill=\"black\"><title>Ilfracombe: 1</title></rect><rect x=\"780\" y=\"10.141310883943333\" height=\"0.07065544197234885\" width=\"5\" fill=\"black\"><title>Gualbar Cote d' Affrique [Calabar]: 1</title></rect><rect x=\"780\" y=\"15.211966325915682\" height=\"0.07065544197234885\" width=\"5\" fill=\"black\"><title>Gonaives: 1</title></rect><rect x=\"780\" y=\"20.28262176788803\" height=\"0.07065544197234885\" width=\"5\" fill=\"black\"><title>Côte d' Afrique [de l' Ouest]: 1</title></rect><rect x=\"780\" y=\"25.35327720986038\" height=\"0.07065544197234885\" width=\"5\" fill=\"black\"><title>Pontrieux: 1</title></rect><rect x=\"780\" y=\"30.42393265183273\" height=\"0.07065544197234885\" width=\"5\" fill=\"black\"><title>Avallon: 1</title></rect><rect x=\"780\" y=\"35.49458809380508\" height=\"0.07065544197234885\" width=\"5\" fill=\"black\"><title>Quimperlé: 1</title></rect><rect x=\"780\" y=\"40.56524353577743\" height=\"0.07065544197234885\" width=\"5\" fill=\"black\"><title>Reibnits: 1</title></rect><rect x=\"780\" y=\"45.635898977749775\" height=\"0.07065544197234885\" width=\"5\" fill=\"black\"><title>Greenock: 1</title></rect><rect x=\"780\" y=\"50.706554419722124\" height=\"0.07065544197234885\" width=\"5\" fill=\"black\"><title>Galway: 1</title></rect><rect x=\"780\" y=\"55.77720986169447\" height=\"0.07065544197234885\" width=\"5\" fill=\"black\"><title>Fahrsund: 1</title></rect><rect x=\"780\" y=\"60.84786530366682\" height=\"0.07065544197234885\" width=\"5\" fill=\"black\"><title>Berwick: 1</title></rect><rect x=\"780\" y=\"65.91852074563917\" height=\"0.07065544197234885\" width=\"5\" fill=\"black\"><title>Setubal: 1</title></rect><rect x=\"780\" y=\"70.98917618761152\" height=\"0.07065544197234885\" width=\"5\" fill=\"black\"><title>La Martinique: 1</title></rect><rect x=\"780\" y=\"76.05983162958387\" height=\"0.07065544197234885\" width=\"5\" fill=\"black\"><title>Colonies anglaises: 1</title></rect><rect x=\"780\" y=\"81.13048707155622\" height=\"0.07065544197234885\" width=\"5\" fill=\"black\"><title>Croidevie [Croix de Vie]: 1</title></rect><rect x=\"780\" y=\"86.20114251352857\" height=\"0.07065544197234885\" width=\"5\" fill=\"black\"><title>Bourg [sur Gironde]: 1</title></rect><rect x=\"780\" y=\"91.27179795550092\" height=\"0.07065544197234885\" width=\"5\" fill=\"black\"><title>Alicant: 1</title></rect><rect x=\"780\" y=\"96.34245339747326\" height=\"0.07065544197234885\" width=\"5\" fill=\"black\"><title>Cabicorp en Espagne [Espagne: 1</title></rect><rect x=\"780\" y=\"101.41310883944561\" height=\"0.07065544197234885\" width=\"5\" fill=\"black\"><title>Socoa [Ciboure]: 1</title></rect><rect x=\"780\" y=\"106.48376428141796\" height=\"0.07065544197234885\" width=\"5\" fill=\"black\"><title>New York: 1</title></rect><rect x=\"780\" y=\"111.55441972339031\" height=\"0.07065544197234885\" width=\"5\" fill=\"black\"><title>Moss: 1</title></rect><rect x=\"780\" y=\"116.62507516536266\" height=\"0.07065544197234885\" width=\"5\" fill=\"black\"><title>Fleckfjord: 1</title></rect><rect x=\"780\" y=\"121.69573060733501\" height=\"0.07065544197234885\" width=\"5\" fill=\"black\"><title>Exeter: 1</title></rect><rect x=\"780\" y=\"126.76638604930736\" height=\"0.07065544197234885\" width=\"5\" fill=\"black\"><title>Ile d' Ars: 1</title></rect><rect x=\"780\" y=\"131.8370414912797\" height=\"0.07065544197234885\" width=\"5\" fill=\"black\"><title>Christianson (Norvege): 1</title></rect><rect x=\"780\" y=\"136.90769693325205\" height=\"0.07065544197234885\" width=\"5\" fill=\"black\"><title>Appeldaur en Angleterre: 1</title></rect><rect x=\"780\" y=\"141.9783523752244\" height=\"0.07065544197234885\" width=\"5\" fill=\"black\"><title>Fécamp: 1</title></rect><rect x=\"780\" y=\"147.04900781719675\" height=\"0.07065544197234885\" width=\"5\" fill=\"black\"><title>Castelnaut: 1</title></rect><rect x=\"780\" y=\"152.1196632591691\" height=\"0.07065544197234885\" width=\"5\" fill=\"black\"><title>Roscoff: 1</title></rect><rect x=\"780\" y=\"157.19031870114145\" height=\"0.07065544197234885\" width=\"5\" fill=\"black\"><title>Sette: 1</title></rect><rect x=\"780\" y=\"162.2609741431138\" height=\"0.07065544197234885\" width=\"5\" fill=\"black\"><title>Southampton: 1</title></rect><rect x=\"780\" y=\"167.33162958508615\" height=\"0.07065544197234885\" width=\"5\" fill=\"black\"><title>Barfleur: 1</title></rect><rect x=\"780\" y=\"172.4022850270585\" height=\"0.07065544197234885\" width=\"5\" fill=\"black\"><title>Angleterre: 1</title></rect><rect x=\"780\" y=\"177.47294046903085\" height=\"0.07065544197234885\" width=\"5\" fill=\"black\"><title>Dundee: 1</title></rect><rect x=\"780\" y=\"182.5435959110032\" height=\"0.07065544197234885\" width=\"5\" fill=\"black\"><title>Barcelonne: 1</title></rect><rect x=\"780\" y=\"187.61425135297554\" height=\"0.07065544197234885\" width=\"5\" fill=\"black\"><title>Marblehead: 1</title></rect><rect x=\"780\" y=\"192.6849067949479\" height=\"0.07065544197234885\" width=\"5\" fill=\"black\"><title>Terre Neuve: 1</title></rect><rect x=\"780\" y=\"197.75556223692024\" height=\"0.07065544197234885\" width=\"5\" fill=\"black\"><title>Pilau: 1</title></rect><rect x=\"780\" y=\"202.8262176788926\" height=\"0.07065544197234885\" width=\"5\" fill=\"black\"><title>Le Vivier: 1</title></rect><rect x=\"780\" y=\"207.89687312086494\" height=\"0.07065544197234885\" width=\"5\" fill=\"black\"><title>Colonies américaines: 1</title></rect><rect x=\"780\" y=\"212.9675285628373\" height=\"0.07065544197234885\" width=\"5\" fill=\"black\"><title>Penzance: 1</title></rect><rect x=\"780\" y=\"218.03818400480964\" height=\"0.07065544197234885\" width=\"5\" fill=\"black\"><title>Talmont [Talmont Saint Hilaire]: 1</title></rect><rect x=\"780\" y=\"223.10883944678199\" height=\"0.07065544197234885\" width=\"5\" fill=\"black\"><title>Copenhague: 1</title></rect><rect x=\"780\" y=\"228.17949488875433\" height=\"0.07065544197234885\" width=\"5\" fill=\"black\"><title>Rivedoux: 1</title></rect><rect x=\"780\" y=\"233.25015033072668\" height=\"0.07065544197234885\" width=\"5\" fill=\"black\"><title>Ile d' Aix: 1</title></rect><rect x=\"0\" y=\"527.5000000000002\" height=\"0.07065544197212148\" width=\"5\" fill=\"black\"><title>Outre-mers: 1</title></rect><rect x=\"780\" y=\"238.32080577269903\" height=\"0.07065544197234885\" width=\"5\" fill=\"black\"><title>Ile Bourbon: 1</title></rect><rect x=\"780\" y=\"243.39146121467138\" height=\"0.07065544197234885\" width=\"5\" fill=\"black\"><title>Salcots: 1</title></rect><rect x=\"780\" y=\"248.46211665664373\" height=\"0.07065544197234885\" width=\"5\" fill=\"black\"><title>Rivière de Bordeaux: 1</title></rect><rect x=\"780\" y=\"253.53277209861608\" height=\"0.07065544197234885\" width=\"5\" fill=\"black\"><title>La Marque: 1</title></rect><rect x=\"780\" y=\"258.6034275405884\" height=\"0.07065544197234885\" width=\"5\" fill=\"black\"><title>Chichester: 1</title></rect><rect x=\"780\" y=\"263.6740829825608\" height=\"0.07065544197234885\" width=\"5\" fill=\"black\"><title>Camarthen: 1</title></rect><rect x=\"780\" y=\"268.7447384245331\" height=\"0.07065544197234885\" width=\"5\" fill=\"black\"><title>Negton en Ecosse: 1</title></rect><rect x=\"780\" y=\"273.8153938665055\" height=\"0.07065544197234885\" width=\"5\" fill=\"black\"><title>Bisquai [Pays Basque]: 1</title></rect><rect x=\"780\" y=\"278.8860493084778\" height=\"0.07065544197234885\" width=\"5\" fill=\"black\"><title>Mornac: 1</title></rect><rect x=\"780\" y=\"283.95670475045017\" height=\"0.07065544197234885\" width=\"5\" fill=\"black\"><title>Lemmer: 1</title></rect><rect x=\"780\" y=\"289.0273601924225\" height=\"0.07065544197234885\" width=\"5\" fill=\"black\"><title>Ebbin en Pologne [Elbing]: 1</title></rect><rect x=\"780\" y=\"294.09801563439487\" height=\"0.07065544197234885\" width=\"5\" fill=\"black\"><title>Lisbonne: 1</title></rect><rect x=\"780\" y=\"299.1686710763672\" height=\"0.07065544197234885\" width=\"5\" fill=\"black\"><title>Rhode Island: 1</title></rect><rect x=\"780\" y=\"304.23932651833957\" height=\"0.07065544197234885\" width=\"5\" fill=\"black\"><title>Frédérickstad: 1</title></rect><rect x=\"780\" y=\"309.3099819603119\" height=\"0.07065544197234885\" width=\"5\" fill=\"black\"><title>Ile de Man: 1</title></rect><rect x=\"780\" y=\"314.38063740228426\" height=\"0.07065544197234885\" width=\"5\" fill=\"black\"><title>Portsmouth: 1</title></rect><rect x=\"780\" y=\"319.4512928442566\" height=\"0.07065544197234885\" width=\"5\" fill=\"black\"><title>Douarnenez: 1</title></rect><rect x=\"780\" y=\"324.52194828622896\" height=\"0.07065544197234885\" width=\"5\" fill=\"black\"><title>Barnstable: 1</title></rect><rect x=\"780\" y=\"329.5926037282013\" height=\"0.07065544197234885\" width=\"5\" fill=\"black\"><title>Charron: 1</title></rect><rect x=\"780\" y=\"334.66325917017366\" height=\"0.1413108839446977\" width=\"5\" fill=\"black\"><title>Virginie: 2</title></rect><rect x=\"780\" y=\"339.80457005411836\" height=\"0.1413108839446977\" width=\"5\" fill=\"black\"><title>Coureaux [de Ré]: 2</title></rect><rect x=\"780\" y=\"344.94588093806306\" height=\"0.1413108839446977\" width=\"5\" fill=\"black\"><title>Chaillevette: 2</title></rect><rect x=\"780\" y=\"350.08719182200775\" height=\"0.1413108839446977\" width=\"5\" fill=\"black\"><title>Santander: 2</title></rect><rect x=\"780\" y=\"355.22850270595245\" height=\"0.1413108839446977\" width=\"5\" fill=\"black\"><title>Cap [Français]: 2</title></rect><rect x=\"780\" y=\"360.36981358989715\" height=\"0.1413108839446977\" width=\"5\" fill=\"black\"><title>Madère: 2</title></rect><rect x=\"780\" y=\"365.51112447384185\" height=\"0.1413108839446977\" width=\"5\" fill=\"black\"><title>Le Chateau [d' Oléron]: 2</title></rect><rect x=\"780\" y=\"370.65243535778654\" height=\"0.1413108839446977\" width=\"5\" fill=\"black\"><title>Riga: 2</title></rect><rect x=\"780\" y=\"375.79374624173124\" height=\"0.1413108839446977\" width=\"5\" fill=\"black\"><title>Plymouth: 2</title></rect><rect x=\"780\" y=\"380.93505712567594\" height=\"0.1413108839446977\" width=\"5\" fill=\"black\"><title>Molde: 2</title></rect><rect x=\"780\" y=\"386.07636800962064\" height=\"0.1413108839446977\" width=\"5\" fill=\"black\"><title>Beddefort: 2</title></rect><rect x=\"780\" y=\"391.21767889356533\" height=\"0.1413108839446977\" width=\"5\" fill=\"black\"><title>Georgetown: 2</title></rect><rect x=\"780\" y=\"396.35898977751003\" height=\"0.1413108839446977\" width=\"5\" fill=\"black\"><title>Billiers: 2</title></rect><rect x=\"780\" y=\"401.50030066145473\" height=\"0.1413108839446977\" width=\"5\" fill=\"black\"><title>Landerneau: 2</title></rect><rect x=\"780\" y=\"406.6416115453994\" height=\"0.1413108839446977\" width=\"5\" fill=\"black\"><title>en deor des couraux [en dehors des Couraux]: 2</title></rect><rect x=\"780\" y=\"411.7829224293441\" height=\"0.1413108839446977\" width=\"5\" fill=\"black\"><title>Memel: 2</title></rect><rect x=\"780\" y=\"416.9242333132888\" height=\"0.1413108839446977\" width=\"5\" fill=\"black\"><title>Zierikzee: 2</title></rect><rect x=\"780\" y=\"422.0655441972335\" height=\"0.1413108839446977\" width=\"5\" fill=\"black\"><title>Yarmouth: 2</title></rect><rect x=\"780\" y=\"427.2068550811782\" height=\"0.1413108839446977\" width=\"5\" fill=\"black\"><title>Holmestrand: 2</title></rect><rect x=\"780\" y=\"432.3481659651229\" height=\"0.1413108839446977\" width=\"5\" fill=\"black\"><title>Concarneau: 2</title></rect><rect x=\"780\" y=\"437.4894768490676\" height=\"0.1413108839446977\" width=\"5\" fill=\"black\"><title>Côte d' Angole: 2</title></rect><rect x=\"780\" y=\"442.6307877330123\" height=\"0.1413108839446977\" width=\"5\" fill=\"black\"><title>Philadelphie: 2</title></rect><rect x=\"780\" y=\"447.772098616957\" height=\"0.1413108839446977\" width=\"5\" fill=\"black\"><title>Banc de Terre Neuve: 2</title></rect><rect x=\"780\" y=\"452.9134095009017\" height=\"0.1413108839446977\" width=\"5\" fill=\"black\"><title>Marseille: 2</title></rect><rect x=\"780\" y=\"458.0547203848464\" height=\"0.1413108839446977\" width=\"5\" fill=\"black\"><title>Pool: 2</title></rect><rect x=\"780\" y=\"463.1960312687911\" height=\"0.1413108839446977\" width=\"5\" fill=\"black\"><title>Baltimore: 2</title></rect><rect x=\"780\" y=\"468.3373421527358\" height=\"0.21196632591704656\" width=\"5\" fill=\"black\"><title>Beauvoir-sur-Mer: 3</title></rect><rect x=\"780\" y=\"473.54930847865285\" height=\"0.21196632591704656\" width=\"5\" fill=\"black\"><title>Ile de Bouin: 3</title></rect><rect x=\"780\" y=\"478.7612748045699\" height=\"0.21196632591704656\" width=\"5\" fill=\"black\"><title>Saint Sebastien: 3</title></rect><rect x=\"780\" y=\"483.97324113048694\" height=\"0.21196632591704656\" width=\"5\" fill=\"black\"><title>Gloucester: 3</title></rect><rect x=\"780\" y=\"489.185207456404\" height=\"0.21196632591704656\" width=\"5\" fill=\"black\"><title>Stettin: 3</title></rect><rect x=\"780\" y=\"494.39717378232103\" height=\"0.21196632591704656\" width=\"5\" fill=\"black\"><title>Fouras: 3</title></rect><rect x=\"780\" y=\"499.6091401082381\" height=\"0.21196632591704656\" width=\"5\" fill=\"black\"><title>Saint Jean de Luz: 3</title></rect><rect x=\"780\" y=\"504.8211064341551\" height=\"0.21196632591704656\" width=\"5\" fill=\"black\"><title>Bruges: 3</title></rect><rect x=\"780\" y=\"510.0330727600722\" height=\"0.21196632591704656\" width=\"5\" fill=\"black\"><title>Tingmouth: 3</title></rect><rect x=\"780\" y=\"515.2450390859892\" height=\"0.21196632591704656\" width=\"5\" fill=\"black\"><title>Carnac: 3</title></rect><rect x=\"780\" y=\"520.4570054119063\" height=\"0.21196632591704656\" width=\"5\" fill=\"black\"><title>Corck: 3</title></rect><rect x=\"780\" y=\"525.6689717378233\" height=\"0.21196632591704656\" width=\"5\" fill=\"black\"><title>Saint Esprit: 3</title></rect><rect x=\"780\" y=\"530.8809380637404\" height=\"0.21196632591704656\" width=\"5\" fill=\"black\"><title>Waterford: 3</title></rect><rect x=\"780\" y=\"536.0929043896574\" height=\"0.21196632591704656\" width=\"5\" fill=\"black\"><title>Saint André de Cuzac: 3</title></rect><rect x=\"780\" y=\"541.3048707155745\" height=\"0.21196632591704656\" width=\"5\" fill=\"black\"><title>Port Louis: 3</title></rect><rect x=\"780\" y=\"546.5168370414915\" height=\"0.21196632591704656\" width=\"5\" fill=\"black\"><title>Bourcefranc: 3</title></rect><rect x=\"780\" y=\"551.7288033674085\" height=\"0.21196632591704656\" width=\"5\" fill=\"black\"><title>Plouharnel: 3</title></rect><rect x=\"780\" y=\"556.9407696933256\" height=\"0.21196632591704656\" width=\"5\" fill=\"black\"><title>Saint Valery: 3</title></rect><rect x=\"780\" y=\"562.1527360192426\" height=\"0.21196632591704656\" width=\"5\" fill=\"black\"><title>Couarde île de Ré: 3</title></rect><rect x=\"780\" y=\"567.3647023451597\" height=\"0.21196632591704656\" width=\"5\" fill=\"black\"><title>Bristol: 3</title></rect><rect x=\"780\" y=\"572.5766686710767\" height=\"0.2826217678893954\" width=\"5\" fill=\"black\"><title>Dans les Couraux: 4</title></rect><rect x=\"780\" y=\"577.8592904389661\" height=\"0.2826217678893954\" width=\"5\" fill=\"black\"><title>Saint Gilles sur Vie: 4</title></rect><rect x=\"780\" y=\"583.1419122068555\" height=\"0.2826217678893954\" width=\"5\" fill=\"black\"><title>Liverpool: 4</title></rect><rect x=\"780\" y=\"588.4245339747449\" height=\"0.2826217678893954\" width=\"5\" fill=\"black\"><title>Dartmouth: 4</title></rect><rect x=\"780\" y=\"593.7071557426343\" height=\"0.2826217678893954\" width=\"5\" fill=\"black\"><title>Frédérickshall: 4</title></rect><rect x=\"780\" y=\"598.9897775105237\" height=\"0.2826217678893954\" width=\"5\" fill=\"black\"><title>Baden: 4</title></rect><rect x=\"780\" y=\"604.2723992784131\" height=\"0.2826217678893954\" width=\"5\" fill=\"black\"><title>Harlingen: 4</title></rect><rect x=\"780\" y=\"609.5550210463025\" height=\"0.2826217678893954\" width=\"5\" fill=\"black\"><title>Taillebourg: 4</title></rect><rect x=\"780\" y=\"614.8376428141919\" height=\"0.2826217678893954\" width=\"5\" fill=\"black\"><title>Newbury [USA]: 4</title></rect><rect x=\"780\" y=\"620.1202645820813\" height=\"0.2826217678893954\" width=\"5\" fill=\"black\"><title>Saint Denis [d' Oléron]: 4</title></rect><rect x=\"780\" y=\"625.4028863499707\" height=\"0.2826217678893954\" width=\"5\" fill=\"black\"><title>Norvège: 4</title></rect><rect x=\"780\" y=\"630.6855081178601\" height=\"0.35327720986174427\" width=\"5\" fill=\"black\"><title>Port Navalo: 5</title></rect><rect x=\"780\" y=\"636.0387853277218\" height=\"0.35327720986174427\" width=\"5\" fill=\"black\"><title>Hennebont: 5</title></rect><rect x=\"780\" y=\"641.3920625375836\" height=\"0.35327720986174427\" width=\"5\" fill=\"black\"><title>Le Tréport: 5</title></rect><rect x=\"780\" y=\"646.7453397474453\" height=\"0.35327720986174427\" width=\"5\" fill=\"black\"><title>Saint Pierre et Miquelon: 5</title></rect><rect x=\"780\" y=\"652.0986169573071\" height=\"0.35327720986174427\" width=\"5\" fill=\"black\"><title>Doort: 5</title></rect><rect x=\"780\" y=\"657.4518941671688\" height=\"0.35327720986174427\" width=\"5\" fill=\"black\"><title>Dantzick: 5</title></rect><rect x=\"780\" y=\"662.8051713770305\" height=\"0.35327720986174427\" width=\"5\" fill=\"black\"><title>Christiansand: 5</title></rect><rect x=\"780\" y=\"668.1584485868923\" height=\"0.35327720986174427\" width=\"5\" fill=\"black\"><title>Bilbao: 5</title></rect><rect x=\"780\" y=\"673.511725796754\" height=\"0.35327720986174427\" width=\"5\" fill=\"black\"><title>Blaye: 5</title></rect><rect x=\"780\" y=\"678.8650030066158\" height=\"0.35327720986174427\" width=\"5\" fill=\"black\"><title>Port Launay: 5</title></rect><rect x=\"780\" y=\"684.2182802164775\" height=\"0.35327720986174427\" width=\"5\" fill=\"black\"><title>Méan: 5</title></rect><rect x=\"780\" y=\"689.5715574263393\" height=\"0.35327720986174427\" width=\"5\" fill=\"black\"><title>Bourgneuf: 5</title></rect><rect x=\"780\" y=\"694.924834636201\" height=\"0.35327720986174427\" width=\"5\" fill=\"black\"><title>Abbeville: 5</title></rect><rect x=\"780\" y=\"700.2781118460628\" height=\"0.42393265183397943\" width=\"5\" fill=\"black\"><title>Guernesey: 6</title></rect><rect x=\"780\" y=\"705.7020444978967\" height=\"0.42393265183397943\" width=\"5\" fill=\"black\"><title>Saint Brieux: 6</title></rect><rect x=\"780\" y=\"711.1259771497307\" height=\"0.42393265183397943\" width=\"5\" fill=\"black\"><title>Saintes: 6</title></rect><rect x=\"0\" y=\"532.5706554419723\" height=\"0.4239326518340931\" width=\"5\" fill=\"black\"><title>Portugal: 6</title></rect><rect x=\"780\" y=\"716.5499098015647\" height=\"0.42393265183397943\" width=\"5\" fill=\"black\"><title>Quimper: 6</title></rect><rect x=\"780\" y=\"721.9738424533987\" height=\"0.4239326518340931\" width=\"5\" fill=\"black\"><title>Bremen: 6</title></rect><rect x=\"780\" y=\"727.3977751052328\" height=\"0.4239326518340931\" width=\"5\" fill=\"black\"><title>Newcastle: 6</title></rect><rect x=\"780\" y=\"732.8217077570669\" height=\"0.494588093806442\" width=\"5\" fill=\"black\"><title>Rotterdam: 7</title></rect><rect x=\"780\" y=\"738.3162958508733\" height=\"0.4945880938063283\" width=\"5\" fill=\"black\"><title>Locmariaquer: 7</title></rect><rect x=\"780\" y=\"743.8108839446796\" height=\"0.494588093806442\" width=\"5\" fill=\"black\"><title>Boston: 7</title></rect><rect x=\"780\" y=\"749.3054720384861\" height=\"0.494588093806442\" width=\"5\" fill=\"black\"><title>dans le Pertuis: 7</title></rect><rect x=\"780\" y=\"754.8000601322925\" height=\"0.494588093806442\" width=\"5\" fill=\"black\"><title>Hambourg: 7</title></rect><rect x=\"780\" y=\"760.294648226099\" height=\"0.494588093806442\" width=\"5\" fill=\"black\"><title>Dercie: 7</title></rect><rect x=\"780\" y=\"765.7892363199054\" height=\"0.494588093806442\" width=\"5\" fill=\"black\"><title>Loix: 7</title></rect><rect x=\"780\" y=\"771.2838244137118\" height=\"0.494588093806442\" width=\"5\" fill=\"black\"><title>La Tranche sur Mer: 7</title></rect><rect x=\"780\" y=\"776.7784125075183\" height=\"0.5652435357786771\" width=\"5\" fill=\"black\"><title>Hull: 8</title></rect><rect x=\"780\" y=\"782.343656043297\" height=\"0.5652435357786771\" width=\"5\" fill=\"black\"><title>Luçon: 8</title></rect><rect x=\"780\" y=\"787.9088995790756\" height=\"0.5652435357786771\" width=\"5\" fill=\"black\"><title>Eguillon: 8</title></rect><rect x=\"780\" y=\"793.4741431148543\" height=\"0.635898977751026\" width=\"5\" fill=\"black\"><title>Arzon: 9</title></rect><rect x=\"780\" y=\"799.1100420926053\" height=\"0.635898977751026\" width=\"5\" fill=\"black\"><title>Lubeck: 9</title></rect><rect x=\"780\" y=\"804.7459410703564\" height=\"0.635898977751026\" width=\"5\" fill=\"black\"><title>Le Pornic: 9</title></rect><rect x=\"780\" y=\"810.3818400481074\" height=\"0.6358989777511397\" width=\"5\" fill=\"black\"><title>Cherbourg: 9</title></rect><rect x=\"780\" y=\"816.0177390258585\" height=\"0.7065544197233748\" width=\"5\" fill=\"black\"><title>Morlaix: 10</title></rect><rect x=\"780\" y=\"821.7242934455819\" height=\"0.7065544197233748\" width=\"5\" fill=\"black\"><title>Cote d' or: 10</title></rect><rect x=\"0\" y=\"537.9945880938064\" height=\"0.7065544197232612\" width=\"5\" fill=\"black\"><title>Amériques: 10</title></rect><rect x=\"780\" y=\"827.4308478653053\" height=\"0.7065544197233748\" width=\"5\" fill=\"black\"><title>Auray: 10</title></rect><rect x=\"780\" y=\"833.1374022850287\" height=\"0.7772098616958374\" width=\"5\" fill=\"black\"><title>Soubise: 11</title></rect><rect x=\"780\" y=\"838.9146121467245\" height=\"0.8478653036680726\" width=\"5\" fill=\"black\"><title>Le Plomb: 12</title></rect><rect x=\"0\" y=\"543.7011425135297\" height=\"0.8478653036681862\" width=\"5\" fill=\"black\"><title>Afrique: 12</title></rect><rect x=\"780\" y=\"844.7624774503926\" height=\"0.8478653036680726\" width=\"5\" fill=\"black\"><title>Saint Valery en Caux: 12</title></rect><rect x=\"780\" y=\"850.6103427540606\" height=\"0.8478653036680726\" width=\"5\" fill=\"black\"><title>Stavanger: 12</title></rect><rect x=\"780\" y=\"856.4582080577287\" height=\"0.9185207456404214\" width=\"5\" fill=\"black\"><title>Ostende: 13</title></rect><rect x=\"780\" y=\"862.3767288033691\" height=\"0.9185207456404214\" width=\"5\" fill=\"black\"><title>Chaput: 13</title></rect><rect x=\"780\" y=\"868.2952495490096\" height=\"0.9185207456404214\" width=\"5\" fill=\"black\"><title>Konigsberg: 13</title></rect><rect x=\"0\" y=\"549.5490078171979\" height=\"0.9891761876126566\" width=\"5\" fill=\"black\"><title>Espagne: 14</title></rect><rect x=\"780\" y=\"874.21377029465\" height=\"1.0598316295850054\" width=\"5\" fill=\"black\"><title>Vannes: 15</title></rect><rect x=\"780\" y=\"880.273601924235\" height=\"1.0598316295851191\" width=\"5\" fill=\"black\"><title>Brouage: 15</title></rect><rect x=\"780\" y=\"886.3334335538201\" height=\"1.0598316295850054\" width=\"5\" fill=\"black\"><title>Royan: 15</title></rect><rect x=\"0\" y=\"555.5381840048105\" height=\"1.1304870715573543\" width=\"5\" fill=\"black\"><title>Flandre et autres états de l'Empereur: 16</title></rect><rect x=\"780\" y=\"892.3932651834051\" height=\"1.2011425135298168\" width=\"5\" fill=\"black\"><title>La Teste: 17</title></rect><rect x=\"780\" y=\"898.5944076969349\" height=\"1.2011425135298168\" width=\"5\" fill=\"black\"><title>Anveaux: 17</title></rect><rect x=\"780\" y=\"904.7955502104647\" height=\"1.2011425135297031\" width=\"5\" fill=\"black\"><title>Bergen: 17</title></rect><rect x=\"780\" y=\"910.9966927239944\" height=\"1.271797955502052\" width=\"5\" fill=\"black\"><title>Noirmoutier: 18</title></rect><rect x=\"780\" y=\"917.2684906794965\" height=\"1.271797955502052\" width=\"5\" fill=\"black\"><title>Etaples: 18</title></rect><rect x=\"780\" y=\"923.5402886349985\" height=\"1.3424533974745145\" width=\"5\" fill=\"black\"><title>Boulogne sur Mer: 19</title></rect><rect x=\"780\" y=\"929.8827420324731\" height=\"1.4131088394467497\" width=\"5\" fill=\"black\"><title>La Perrotine: 20</title></rect><rect x=\"780\" y=\"936.2958508719198\" height=\"1.4837642814190986\" width=\"5\" fill=\"black\"><title>Amsterdam: 21</title></rect><rect x=\"780\" y=\"942.7796151533389\" height=\"1.4837642814190986\" width=\"5\" fill=\"black\"><title>La Flotte en Ré: 21</title></rect><rect x=\"780\" y=\"949.263379434758\" height=\"1.4837642814190986\" width=\"5\" fill=\"black\"><title>Calais: 21</title></rect><rect x=\"780\" y=\"955.7471437161771\" height=\"1.4837642814190986\" width=\"5\" fill=\"black\"><title>Belle Île: 21</title></rect><rect x=\"780\" y=\"962.2309079975962\" height=\"1.6957306073361451\" width=\"5\" fill=\"black\"><title>Seudre: 24</title></rect><rect x=\"0\" y=\"561.6686710763679\" height=\"1.8370414912808428\" width=\"5\" fill=\"black\"><title>États-Unis d'Amérique: 26</title></rect><rect x=\"780\" y=\"968.9266386049324\" height=\"1.8370414912808428\" width=\"5\" fill=\"black\"><title>Dieppe: 26</title></rect><rect x=\"780\" y=\"975.7636800962132\" height=\"1.9076969332531917\" width=\"5\" fill=\"black\"><title>La Tremblade: 27</title></rect><rect x=\"780\" y=\"982.6713770294664\" height=\"1.9076969332531917\" width=\"5\" fill=\"black\"><title>Baltique: 27</title></rect><rect x=\"780\" y=\"989.5790739627196\" height=\"2.0490078171978894\" width=\"5\" fill=\"black\"><title>Ars en Ré: 29</title></rect><rect x=\"780\" y=\"996.6280817799175\" height=\"2.0490078171978894\" width=\"5\" fill=\"black\"><title>Brest: 29</title></rect><rect x=\"780\" y=\"1003.6770895971154\" height=\"2.1196632591702382\" width=\"5\" fill=\"black\"><title>Saint Malo: 30</title></rect><rect x=\"780\" y=\"1010.7967528562856\" height=\"2.1196632591701245\" width=\"5\" fill=\"black\"><title>Lorient: 30</title></rect><rect x=\"780\" y=\"1017.9164161154557\" height=\"2.1196632591701245\" width=\"5\" fill=\"black\"><title>Ile d' Yeu: 30</title></rect><rect x=\"780\" y=\"1025.0360793746258\" height=\"2.119663259170011\" width=\"5\" fill=\"black\"><title>Redon: 30</title></rect><rect x=\"780\" y=\"1032.1557426337959\" height=\"2.190318701142587\" width=\"5\" fill=\"black\"><title>Rouen: 31</title></rect><rect x=\"780\" y=\"1039.3460613349384\" height=\"2.2609741431147086\" width=\"5\" fill=\"black\"><title>Granville: 32</title></rect><rect x=\"780\" y=\"1046.6070354780531\" height=\"2.331629585087285\" width=\"5\" fill=\"black\"><title>Quiberon: 33</title></rect><rect x=\"780\" y=\"1053.9386650631404\" height=\"2.331629585087285\" width=\"5\" fill=\"black\"><title>Saint Savinien: 33</title></rect><rect x=\"780\" y=\"1061.2702946482277\" height=\"2.331629585087285\" width=\"5\" fill=\"black\"><title>Ribérou [Saujon]: 33</title></rect><rect x=\"780\" y=\"1068.601924233315\" height=\"2.4022850270594063\" width=\"5\" fill=\"black\"><title>Le Havre: 34</title></rect><rect x=\"780\" y=\"1076.0042092603744\" height=\"2.614251352976453\" width=\"5\" fill=\"black\"><title>Esnandes: 37</title></rect><rect x=\"0\" y=\"568.5057125676487\" height=\"2.8968731208658483\" width=\"5\" fill=\"black\"><title>Hollande: 41</title></rect><rect x=\"780\" y=\"1083.6184606133509\" height=\"2.967528562838197\" width=\"5\" fill=\"black\"><title>Saint Michel en l' Herm: 42</title></rect><rect x=\"780\" y=\"1091.585989176189\" height=\"3.1794948887552437\" width=\"5\" fill=\"black\"><title>Londres: 45</title></rect><rect x=\"780\" y=\"1099.7654840649443\" height=\"3.532772098616988\" width=\"5\" fill=\"black\"><title>Saint Valéry sur Somme: 50</title></rect><rect x=\"780\" y=\"1108.2982561635613\" height=\"4.2393265183404765\" width=\"5\" fill=\"black\"><title>Gravelines: 60</title></rect><rect x=\"780\" y=\"1117.5375826819018\" height=\"4.5219482862296445\" width=\"5\" fill=\"black\"><title>Caen: 64</title></rect><rect x=\"780\" y=\"1127.0595309681314\" height=\"5.0165363800360865\" width=\"5\" fill=\"black\"><title>Sables d' Olonne: 71</title></rect><rect x=\"780\" y=\"1137.0760673481675\" height=\"5.369813589897831\" width=\"5\" fill=\"black\"><title>: 76</title></rect><rect x=\"780\" y=\"1147.4458809380653\" height=\"5.935057125676394\" width=\"5\" fill=\"black\"><title>Saint Martin de Ré: 84</title></rect><rect x=\"780\" y=\"1158.3809380637417\" height=\"6.00571256764897\" width=\"5\" fill=\"black\"><title>Bayonne: 85</title></rect><rect x=\"780\" y=\"1169.3866506313907\" height=\"6.500300661455185\" width=\"5\" fill=\"black\"><title>Chalon: 92</title></rect><rect x=\"780\" y=\"1180.8869512928459\" height=\"7.065544197233976\" width=\"5\" fill=\"black\"><title>Le Croisic: 100</title></rect><rect x=\"0\" y=\"576.4025856885146\" height=\"7.136199639206325\" width=\"5\" fill=\"black\"><title>Nord: 101</title></rect><rect x=\"0\" y=\"588.5387853277209\" height=\"7.489476849067842\" width=\"5\" fill=\"black\"><title>pas de partenaire commercial rattaché: 106</title></rect><rect x=\"780\" y=\"1192.9524954900799\" height=\"7.772098616957237\" width=\"5\" fill=\"black\"><title>Libourne: 110</title></rect><rect x=\"780\" y=\"1205.724594107037\" height=\"7.842754058929813\" width=\"5\" fill=\"black\"><title>Moricq: 111</title></rect><rect x=\"0\" y=\"601.0282621767888\" height=\"7.842754058929586\" width=\"5\" fill=\"black\"><title>Angleterre: 111</title></rect><rect x=\"780\" y=\"1218.567348165967\" height=\"11.375526157546574\" width=\"5\" fill=\"black\"><title>Marennes: 161</title></rect><rect x=\"780\" y=\"1234.9428743235135\" height=\"11.870114251353016\" width=\"5\" fill=\"black\"><title>Dunkerque: 168</title></rect><rect x=\"780\" y=\"1251.8129885748665\" height=\"13.565844858689161\" width=\"5\" fill=\"black\"><title>Rochefort: 192</title></rect><rect x=\"780\" y=\"1270.3788334335557\" height=\"13.63650030066151\" width=\"5\" fill=\"black\"><title>Ile de Ré: 193</title></rect><rect x=\"780\" y=\"1289.0153337342172\" height=\"13.777811184606207\" width=\"5\" fill=\"black\"><title>Honfleur: 195</title></rect><rect x=\"780\" y=\"1307.7931449188234\" height=\"22.185808779314584\" width=\"5\" fill=\"black\"><title>Aligre de Marans: 314</title></rect><rect x=\"780\" y=\"1334.978953698138\" height=\"23.81088394467838\" width=\"5\" fill=\"black\"><title>Côte de Bretagne: 337</title></rect><rect x=\"780\" y=\"1363.7898376428163\" height=\"27.626277811184536\" width=\"5\" fill=\"black\"><title>Oléron: 391</title></rect><rect x=\"780\" y=\"1396.4161154540009\" height=\"28.12086590499098\" width=\"5\" fill=\"black\"><title>Nantes: 398</title></rect><rect x=\"780\" y=\"1429.5369813589919\" height=\"35.892964521948215\" width=\"5\" fill=\"black\"><title>Bordeaux: 508</title></rect><rect x=\"780\" y=\"1470.42994588094\" height=\"48.893565844858585\" width=\"5\" fill=\"black\"><title>Charente: 692</title></rect><rect x=\"780\" y=\"1524.3235117257987\" height=\"55.676488274203166\" width=\"5\" fill=\"black\"><title>La Rochelle: 788</title></rect><rect x=\"0\" y=\"613.8710162357183\" height=\"438.62898376428143\" width=\"5\" fill=\"black\"><title>France: 6208</title></rect></g><g fill=\"none\" stroke-opacity=\"1\"><g style=\"mix-blend-mode: multiply;\"><path d=\"M5,614.1889657245939C392.5,614.1889657245939,392.5,793.7920926037299,780,793.7920926037299\" stroke=\"#8c564b\" stroke-width=\"1\"/><title>France → Arzon: 9</title></g><g style=\"mix-blend-mode: multiply;\"><path d=\"M5,626.4123571858086C392.5,626.4123571858086,392.5,1346.884395670477,780,1346.884395670477\" stroke=\"#8c564b\" stroke-width=\"23.810883944678295\"/><title>France → Côte de Bretagne: 337</title></g><g style=\"mix-blend-mode: multiply;\"><path d=\"M5,639.8015634395667C392.5,639.8015634395667,392.5,1085.10222489477,780,1085.10222489477\" stroke=\"#8c564b\" stroke-width=\"2.9675285628382446\"/><title>France → Saint Michel en l' Herm: 42</title></g><g style=\"mix-blend-mode: multiply;\"><path d=\"M5,648.1035778713166C392.5,648.1035778713166,392.5,1277.1970835838863,780,1277.1970835838863\" stroke=\"#8c564b\" stroke-width=\"13.636500300661456\"/><title>France → Ile de Ré: 193</title></g><g style=\"mix-blend-mode: multiply;\"><path d=\"M5,656.2289536981356C392.5,656.2289536981356,392.5,1077.3113349368627,780,1077.3113349368627\" stroke=\"#8c564b\" stroke-width=\"2.6142513529765488\"/><title>France → Esnandes: 37</title></g><g style=\"mix-blend-mode: multiply;\"><path d=\"M5,657.9600120264579C392.5,657.9600120264579,392.5,839.3385447985585,780,839.3385447985585\" stroke=\"#8c564b\" stroke-width=\"1\"/><title>France → Le Plomb: 12</title></g><g style=\"mix-blend-mode: multiply;\"><path d=\"M5,672.1970835838843C392.5,672.1970835838843,392.5,1377.6029765484086,780,1377.6029765484086\" stroke=\"#8c564b\" stroke-width=\"27.626277811184607\"/><title>France → Oléron: 391</title></g><g style=\"mix-blend-mode: multiply;\"><path d=\"M5,700.0706554419721C392.5,700.0706554419721,392.5,1410.4765484064965,780,1410.4765484064965\" stroke=\"#8c564b\" stroke-width=\"28.120865904990982\"/><title>France → Nantes: 398</title></g><g style=\"mix-blend-mode: multiply;\"><path d=\"M5,732.0775706554417C392.5,732.0775706554417,392.5,1447.483463619966,780,1447.483463619966\" stroke=\"#8c564b\" stroke-width=\"35.89296452194829\"/><title>France → Bordeaux: 508</title></g><g style=\"mix-blend-mode: multiply;\"><path d=\"M5,755.7118159951892C392.5,755.7118159951892,392.5,1224.2551112447402,780,1224.2551112447402\" stroke=\"#8c564b\" stroke-width=\"11.375526157546604\"/><title>France → Marennes: 161</title></g><g style=\"mix-blend-mode: multiply;\"><path d=\"M5,789.2378232110641C392.5,789.2378232110641,392.5,1552.1617558629002,780,1552.1617558629002\" stroke=\"#8c564b\" stroke-width=\"55.67648827420325\"/><title>France → La Rochelle: 788</title></g><g style=\"mix-blend-mode: multiply;\"><path d=\"M5,817.747294046903C392.5,817.747294046903,392.5,924.2115153337357,780,924.2115153337357\" stroke=\"#8c564b\" stroke-width=\"1.342453397474444\"/><title>France → Boulogne sur Mer: 19</title></g><g style=\"mix-blend-mode: multiply;\"><path d=\"M5,818.5598316295849C392.5,818.5598316295849,392.5,572.7179795550214,780,572.7179795550214\" stroke=\"#8c564b\" stroke-width=\"1\"/><title>France → Dans les Couraux: 4</title></g><g style=\"mix-blend-mode: multiply;\"><path d=\"M5,825.4840649428742C392.5,825.4840649428742,392.5,1258.595911004211,780,1258.595911004211\" stroke=\"#8c564b\" stroke-width=\"13.565844858689118\"/><title>France → Rochefort: 192</title></g><g style=\"mix-blend-mode: multiply;\"><path d=\"M5,833.2208358388453C392.5,833.2208358388453,392.5,976.7175285628398,780,976.7175285628398\" stroke=\"#8c564b\" stroke-width=\"1.907696933253157\"/><title>France → La Tremblade: 27</title></g><g style=\"mix-blend-mode: multiply;\"><path d=\"M5,834.7046001202644C392.5,834.7046001202644,392.5,874.7436861094425,780,874.7436861094425\" stroke=\"#8c564b\" stroke-width=\"1.0598316295850874\"/><title>France → Vannes: 15</title></g><g style=\"mix-blend-mode: multiply;\"><path d=\"M5,835.4111545399879C392.5,835.4111545399879,392.5,630.862146722791,780,630.862146722791\" stroke=\"#8c564b\" stroke-width=\"1\"/><title>France → Port Navalo: 5</title></g><g style=\"mix-blend-mode: multiply;\"><path d=\"M5,846.6806975345761C392.5,846.6806975345761,392.5,1318.8860493084806,780,1318.8860493084806\" stroke=\"#8c564b\" stroke-width=\"22.185808779314495\"/><title>France → Aligre de Marans: 314</title></g><g style=\"mix-blend-mode: multiply;\"><path d=\"M5,882.2203848466626C392.5,882.2203848466626,392.5,1494.8767288033694,780,1494.8767288033694\" stroke=\"#8c564b\" stroke-width=\"48.89356584485869\"/><title>France → Charente: 692</title></g><g style=\"mix-blend-mode: multiply;\"><path d=\"M5,561.7393265183402C392.5,561.7393265183402,392.5,334.733914612146,780,334.733914612146\" stroke=\"#cccccc\" stroke-width=\"1\"/><title>États-Unis d'Amérique → Virginie: 2</title></g><g style=\"mix-blend-mode: multiply;\"><path d=\"M5,908.4335538184005C392.5,908.4335538184005,392.5,1101.5318701142528,780,1101.5318701142528\" stroke=\"#8c564b\" stroke-width=\"3.5327720986169577\"/><title>France → Saint Valéry sur Somme: 50</title></g><g style=\"mix-blend-mode: multiply;\"><path d=\"M5,911.2597714972941C392.5,911.2597714972941,392.5,1004.7369212267005,780,1004.7369212267005\" stroke=\"#8c564b\" stroke-width=\"2.1196632591701747\"/><title>France → Saint Malo: 30</title></g><g style=\"mix-blend-mode: multiply;\"><path d=\"M5,568.753006614552C392.5,568.753006614552,392.5,733.0690018039701,780,733.0690018039701\" stroke=\"#e377c2\" stroke-width=\"1\"/><title>Hollande → Rotterdam: 7</title></g><g style=\"mix-blend-mode: multiply;\"><path d=\"M5,576.7205351773902C392.5,576.7205351773902,392.5,799.4279915814809,780,799.4279915814809\" stroke=\"#7f7f7f\" stroke-width=\"1\"/><title>Nord → Lubeck: 9</title></g><g style=\"mix-blend-mode: multiply;\"><path d=\"M5,916.2056524353577C392.5,916.2056524353577,392.5,1196.8385447985586,780,1196.8385447985586\" stroke=\"#8c564b\" stroke-width=\"7.772098616957307\"/><title>France → Libourne: 110</title></g><g style=\"mix-blend-mode: multiply;\"><path d=\"M5,926.9806073361395C392.5,926.9806073361395,392.5,1295.9042393265202,780,1295.9042393265202\" stroke=\"#8c564b\" stroke-width=\"13.777811184606135\"/><title>France → Honfleur: 195</title></g><g style=\"mix-blend-mode: multiply;\"><path d=\"M5,935.9891761876127C392.5,935.9891761876127,392.5,1110.4179194227315,780,1110.4179194227315\" stroke=\"#8c564b\" stroke-width=\"4.2393265183403495\"/><title>France → Gravelines: 60</title></g><g style=\"mix-blend-mode: multiply;\"><path d=\"M5,944.0438965724594C392.5,944.0438965724594,392.5,1240.8779314491899,780,1240.8779314491899\" stroke=\"#8c564b\" stroke-width=\"11.870114251352978\"/><title>France → Dunkerque: 168</title></g><g style=\"mix-blend-mode: multiply;\"><path d=\"M5,952.2399278412507C392.5,952.2399278412507,392.5,1119.7985568250167,780,1119.7985568250167\" stroke=\"#8c564b\" stroke-width=\"4.521948286229706\"/><title>France → Caen: 64</title></g><g style=\"mix-blend-mode: multiply;\"><path d=\"M5,957.50375826819C392.5,957.50375826819,392.5,1161.3837943475662,780,1161.3837943475662\" stroke=\"#8c564b\" stroke-width=\"6.005712567648828\"/><title>France → Bayonne: 85</title></g><g style=\"mix-blend-mode: multiply;\"><path d=\"M5,963.4741431148527C392.5,963.4741431148527,392.5,1150.4134095009035,780,1150.4134095009035\" stroke=\"#8c564b\" stroke-width=\"5.935057125676489\"/><title>France → Saint Martin de Ré: 84</title></g><g style=\"mix-blend-mode: multiply;\"><path d=\"M5,966.5123271196634C392.5,966.5123271196634,392.5,339.8752254960907,780,339.8752254960907\" stroke=\"#8c564b\" stroke-width=\"1\"/><title>France → Coureaux [de Ré]: 2</title></g><g style=\"mix-blend-mode: multiply;\"><path d=\"M5,591.2236921226698C392.5,591.2236921226698,392.5,1139.7609741431163,780,1139.7609741431163\" stroke=\"#cccccc\" stroke-width=\"5.369813589897776\"/><title>pas de partenaire commercial rattaché → : 76</title></g><g style=\"mix-blend-mode: multiply;\"><path d=\"M5,970.1157546602527C392.5,970.1157546602527,392.5,1184.4197233914629,780,1184.4197233914629\" stroke=\"#8c564b\" stroke-width=\"7.0655441972339155\"/><title>France → Le Croisic: 100</title></g><g style=\"mix-blend-mode: multiply;\"><path d=\"M5,974.6730306674685C392.5,974.6730306674685,392.5,990.6035778713185,780,990.6035778713185\" stroke=\"#8c564b\" stroke-width=\"2.0490078171978356\"/><title>France → Ars en Ré: 29</title></g><g style=\"mix-blend-mode: multiply;\"><path d=\"M5,979.6189116055323C392.5,979.6189116055323,392.5,1209.6459711365019,780,1209.6459711365019\" stroke=\"#8c564b\" stroke-width=\"7.842754058929646\"/><title>France → Moricq: 111</title></g><g style=\"mix-blend-mode: multiply;\"><path d=\"M5,983.7875826819004C392.5,983.7875826819004,392.5,738.5635898977765,780,738.5635898977765\" stroke=\"#8c564b\" stroke-width=\"1\"/><title>France → Locmariaquer: 7</title></g><g style=\"mix-blend-mode: multiply;\"><path d=\"M5,555.9974443776307C392.5,555.9974443776307,392.5,856.9174684305489,780,856.9174684305489\" stroke=\"#9467bd\" stroke-width=\"1\"/><title>Flandre et autres états de l'Empereur → Ostende: 13</title></g><g style=\"mix-blend-mode: multiply;\"><path d=\"M5,985.1300360793748C392.5,985.1300360793748,392.5,1033.2509019843671,780,1033.2509019843671\" stroke=\"#8c564b\" stroke-width=\"2.190318701142514\"/><title>France → Rouen: 31</title></g><g style=\"mix-blend-mode: multiply;\"><path d=\"M5,987.1437161755864C392.5,987.1437161755864,392.5,969.8451593505728,780,969.8451593505728\" stroke=\"#8c564b\" stroke-width=\"1.837041491280818\"/><title>France → Dieppe: 26</title></g><g style=\"mix-blend-mode: multiply;\"><path d=\"M5,988.2035478051715C392.5,988.2035478051715,392.5,578.0006013229108,780,578.0006013229108\" stroke=\"#8c564b\" stroke-width=\"1\"/><title>France → Saint Gilles sur Vie: 4</title></g><g style=\"mix-blend-mode: multiply;\"><path d=\"M5,569.0356283824412C392.5,569.0356283824412,392.5,0.035327720984805334,780,0.035327720984805334\" stroke=\"#e377c2\" stroke-width=\"1\"/><title>Hollande → Noordwyck: 1</title></g><g style=\"mix-blend-mode: multiply;\"><path d=\"M5,988.698135898978C392.5,988.698135898978,392.5,816.3710162357203,780,816.3710162357203\" stroke=\"#8c564b\" stroke-width=\"1\"/><title>France → Morlaix: 10</title></g><g style=\"mix-blend-mode: multiply;\"><path d=\"M5,602.6180096211664C392.5,602.6180096211664,392.5,1093.1757366205668,780,1093.1757366205668\" stroke=\"#2ca02c\" stroke-width=\"3.179494888755262\"/><title>Angleterre → Londres: 45</title></g><g style=\"mix-blend-mode: multiply;\"><path d=\"M5,604.419723391461C392.5,604.419723391461,392.5,700.4900781719798,780,700.4900781719798\" stroke=\"#2ca02c\" stroke-width=\"1\"/><title>Angleterre → Guernesey: 6</title></g><g style=\"mix-blend-mode: multiply;\"><path d=\"M5,990.1819001803971C392.5,990.1819001803971,392.5,1040.4765484064958,780,1040.4765484064958\" stroke=\"#8c564b\" stroke-width=\"2.260974143114853\"/><title>France → Granville: 32</title></g><g style=\"mix-blend-mode: multiply;\"><path d=\"M5,544.0544197233914C392.5,544.0544197233914,392.5,822.0775706554437,780,822.0775706554437\" stroke=\"#1f77b4\" stroke-width=\"1\"/><title>Afrique → Cote d' or: 10</title></g><g style=\"mix-blend-mode: multiply;\"><path d=\"M5,569.812838244137C392.5,569.812838244137,392.5,937.0377330126294,780,937.0377330126294\" stroke=\"#e377c2\" stroke-width=\"1.4837642814191223\"/><title>Hollande → Amsterdam: 21</title></g><g style=\"mix-blend-mode: multiply;\"><path d=\"M5,993.8206554419725C392.5,993.8206554419725,392.5,1129.5677991581495,780,1129.5677991581495\" stroke=\"#8c564b\" stroke-width=\"5.01653638003608\"/><title>France → Sables d' Olonne: 71</title></g><g style=\"mix-blend-mode: multiply;\"><path d=\"M5,997.3887552615756C392.5,997.3887552615756,392.5,1011.8565844858707,780,1011.8565844858707\" stroke=\"#8c564b\" stroke-width=\"2.1196632591701747\"/><title>France → Lorient: 30</title></g><g style=\"mix-blend-mode: multiply;\"><path d=\"M5,604.7730006013227C392.5,604.7730006013227,392.5,583.2832230908002,780,583.2832230908002\" stroke=\"#2ca02c\" stroke-width=\"1\"/><title>Angleterre → Liverpool: 4</title></g><g style=\"mix-blend-mode: multiply;\"><path d=\"M5,999.5084185207457C392.5,999.5084185207457,392.5,1018.9762477450408,780,1018.9762477450408\" stroke=\"#8c564b\" stroke-width=\"2.1196632591701747\"/><title>France → Ile d' Yeu: 30</title></g><g style=\"mix-blend-mode: multiply;\"><path d=\"M5,604.9496392062536C392.5,604.9496392062536,392.5,5.105983162957155,780,5.105983162957155\" stroke=\"#2ca02c\" stroke-width=\"1\"/><title>Angleterre → Ilfracombe: 1</title></g><g style=\"mix-blend-mode: multiply;\"><path d=\"M5,605.2675886951291C392.5,605.2675886951291,392.5,777.0610342754077,780,777.0610342754077\" stroke=\"#2ca02c\" stroke-width=\"1\"/><title>Angleterre → Hull: 8</title></g><g style=\"mix-blend-mode: multiply;\"><path d=\"M5,544.4430246542393C392.5,544.4430246542393,392.5,10.176638604929503,780,10.176638604929503\" stroke=\"#1f77b4\" stroke-width=\"1\"/><title>Afrique → Gualbar Cote d' Affrique [Calabar]: 1</title></g><g style=\"mix-blend-mode: multiply;\"><path d=\"M5,538.0299158147926C392.5,538.0299158147926,392.5,15.247294046901851,780,15.247294046901851\" stroke=\"#ff7f0e\" stroke-width=\"1\"/><title>Amériques → Gonaives: 1</title></g><g style=\"mix-blend-mode: multiply;\"><path d=\"M5,1001.3101322910403C392.5,1001.3101322910403,392.5,943.5214972940485,780,943.5214972940485\" stroke=\"#8c564b\" stroke-width=\"1.4837642814191223\"/><title>France → La Flotte en Ré: 21</title></g><g style=\"mix-blend-mode: multiply;\"><path d=\"M5,1002.51127480457C392.5,1002.51127480457,392.5,862.8359891761893,780,862.8359891761893\" stroke=\"#8c564b\" stroke-width=\"1\"/><title>France → Chaput: 13</title></g><g style=\"mix-blend-mode: multiply;\"><path d=\"M5,1006.2206855081179C392.5,1006.2206855081179,392.5,1172.6368009621183,780,1172.6368009621183\" stroke=\"#8c564b\" stroke-width=\"6.500300661455202\"/><title>France → Chalon: 92</title></g><g style=\"mix-blend-mode: multiply;\"><path d=\"M5,1010.212717979555C392.5,1010.212717979555,392.5,950.0052615754676,780,950.0052615754676\" stroke=\"#8c564b\" stroke-width=\"1.4837642814191223\"/><title>France → Calais: 21</title></g><g style=\"mix-blend-mode: multiply;\"><path d=\"M5,1011.4845159350571C392.5,1011.4845159350571,392.5,880.8035177390275,780,880.8035177390275\" stroke=\"#8c564b\" stroke-width=\"1.0598316295850874\"/><title>France → Brouage: 15</title></g><g style=\"mix-blend-mode: multiply;\"><path d=\"M5,1012.3677089597114C392.5,1012.3677089597114,392.5,827.784125075167,780,827.784125075167\" stroke=\"#8c564b\" stroke-width=\"1\"/><title>France → Auray: 10</title></g><g style=\"mix-blend-mode: multiply;\"><path d=\"M5,1013.0036079374624C392.5,1013.0036079374624,392.5,782.6262778111864,780,782.6262778111864\" stroke=\"#8c564b\" stroke-width=\"1\"/><title>France → Luçon: 8</title></g><g style=\"mix-blend-mode: multiply;\"><path d=\"M5,1013.3568851473241C392.5,1013.3568851473241,392.5,345.0165363800354,780,345.0165363800354\" stroke=\"#8c564b\" stroke-width=\"1\"/><title>France → Chaillevette: 2</title></g><g style=\"mix-blend-mode: multiply;\"><path d=\"M5,549.6196632591702C392.5,549.6196632591702,392.5,350.1578472639801,780,350.1578472639801\" stroke=\"#d62728\" stroke-width=\"1\"/><title>Espagne → Santander: 2</title></g><g style=\"mix-blend-mode: multiply;\"><path d=\"M5,1014.5933553818401C392.5,1014.5933553818401,392.5,1047.7728502705968,780,1047.7728502705968\" stroke=\"#8c564b\" stroke-width=\"2.331629585087192\"/><title>France → Quiberon: 33</title></g><g style=\"mix-blend-mode: multiply;\"><path d=\"M5,1016.3597414311484C392.5,1016.3597414311484,392.5,892.99383644017,780,892.99383644017\" stroke=\"#8c564b\" stroke-width=\"1.2011425135297655\"/><title>France → La Teste: 17</title></g><g style=\"mix-blend-mode: multiply;\"><path d=\"M5,544.5136800962116C392.5,544.5136800962116,392.5,20.317949488874202,780,20.317949488874202\" stroke=\"#1f77b4\" stroke-width=\"1\"/><title>Afrique → Côte d' Afrique [de l' Ouest]: 1</title></g><g style=\"mix-blend-mode: multiply;\"><path d=\"M5,1017.0662958508719C392.5,1017.0662958508719,392.5,468.4433253156943,780,468.4433253156943\" stroke=\"#8c564b\" stroke-width=\"1\"/><title>France → Beauvoir-sur-Mer: 3</title></g><g style=\"mix-blend-mode: multiply;\"><path d=\"M5,1017.3489176187613C392.5,1017.3489176187613,392.5,636.2154239326527,780,636.2154239326527\" stroke=\"#8c564b\" stroke-width=\"1\"/><title>France → Hennebont: 5</title></g><g style=\"mix-blend-mode: multiply;\"><path d=\"M5,538.1358989777511C392.5,538.1358989777511,392.5,355.2991581479248,780,355.2991581479248\" stroke=\"#ff7f0e\" stroke-width=\"1\"/><title>Amériques → Cap [Français]: 2</title></g><g style=\"mix-blend-mode: multiply;\"><path d=\"M5,1017.7021948286231C392.5,1017.7021948286231,392.5,641.5687011425144,780,641.5687011425144\" stroke=\"#8c564b\" stroke-width=\"1\"/><title>France → Le Tréport: 5</title></g><g style=\"mix-blend-mode: multiply;\"><path d=\"M5,1018.3027660853879C392.5,1018.3027660853879,392.5,845.1864101022265,780,845.1864101022265\" stroke=\"#8c564b\" stroke-width=\"1\"/><title>France → Saint Valery en Caux: 12</title></g><g style=\"mix-blend-mode: multiply;\"><path d=\"M5,1018.9386650631391C392.5,1018.9386650631391,392.5,705.9140108238138,780,705.9140108238138\" stroke=\"#8c564b\" stroke-width=\"1\"/><title>France → Saint Brieux: 6</title></g><g style=\"mix-blend-mode: multiply;\"><path d=\"M5,1019.1859591100422C392.5,1019.1859591100422,392.5,25.38860493084655,780,25.38860493084655\" stroke=\"#8c564b\" stroke-width=\"1\"/><title>France → Pontrieux: 1</title></g><g style=\"mix-blend-mode: multiply;\"><path d=\"M5,594.8624473842453C392.5,594.8624473842453,392.5,983.625225496093,780,983.625225496093\" stroke=\"#cccccc\" stroke-width=\"1.907696933253157\"/><title>pas de partenaire commercial rattaché → Baltique: 27</title></g><g style=\"mix-blend-mode: multiply;\"><path d=\"M5,1020.4224293445582C392.5,1020.4224293445582,392.5,1069.8030667468447,780,1069.8030667468447\" stroke=\"#8c564b\" stroke-width=\"2.402285027059531\"/><title>France → Le Havre: 34</title></g><g style=\"mix-blend-mode: multiply;\"><path d=\"M5,577.4977450390858C392.5,577.4977450390858,392.5,868.7545099218297,780,868.7545099218297\" stroke=\"#7f7f7f\" stroke-width=\"1\"/><title>Nord → Konigsberg: 13</title></g><g style=\"mix-blend-mode: multiply;\"><path d=\"M5,605.6915213469631C392.5,605.6915213469631,392.5,588.5658448586896,780,588.5658448586896\" stroke=\"#2ca02c\" stroke-width=\"1\"/><title>Angleterre → Dartmouth: 4</title></g><g style=\"mix-blend-mode: multiply;\"><path d=\"M5,1022.2594708358389C392.5,1022.2594708358389,392.5,911.6325917017455,780,911.6325917017455\" stroke=\"#8c564b\" stroke-width=\"1.2717979555021048\"/><title>France → Noirmoutier: 18</title></g><g style=\"mix-blend-mode: multiply;\"><path d=\"M5,1023.9198737221889C392.5,1023.9198737221889,392.5,997.6525856885164,780,997.6525856885164\" stroke=\"#8c564b\" stroke-width=\"2.0490078171978356\"/><title>France → Brest: 29</title></g><g style=\"mix-blend-mode: multiply;\"><path d=\"M5,1026.1101924233315C392.5,1026.1101924233315,392.5,1055.104479855684,780,1055.104479855684\" stroke=\"#8c564b\" stroke-width=\"2.331629585087192\"/><title>France → Saint Savinien: 33</title></g><g style=\"mix-blend-mode: multiply;\"><path d=\"M5,1027.87657847264C392.5,1027.87657847264,392.5,899.1949789536998,780,899.1949789536998\" stroke=\"#8c564b\" stroke-width=\"1.2011425135297655\"/><title>France → Anveaux: 17</title></g><g style=\"mix-blend-mode: multiply;\"><path d=\"M5,1028.6891160553218C392.5,1028.6891160553218,392.5,711.3379434756478,780,711.3379434756478\" stroke=\"#8c564b\" stroke-width=\"1\"/><title>France → Saintes: 6</title></g><g style=\"mix-blend-mode: multiply;\"><path d=\"M5,1029.6076368009624C392.5,1029.6076368009624,392.5,930.5892964521964,780,930.5892964521964\" stroke=\"#8c564b\" stroke-width=\"1.413108839446783\"/><title>France → La Perrotine: 20</title></g><g style=\"mix-blend-mode: multiply;\"><path d=\"M5,1030.3495189416717C392.5,1030.3495189416717,392.5,30.4592603728189,780,30.4592603728189\" stroke=\"#8c564b\" stroke-width=\"1\"/><title>France → Avallon: 1</title></g><g style=\"mix-blend-mode: multiply;\"><path d=\"M5,532.6413108839447C392.5,532.6413108839447,392.5,360.4404690318695,780,360.4404690318695\" stroke=\"#17becf\" stroke-width=\"1\"/><title>Portugal → Madère: 2</title></g><g style=\"mix-blend-mode: multiply;\"><path d=\"M5,578.0983162958507C392.5,578.0983162958507,392.5,593.848466626579,780,593.848466626579\" stroke=\"#7f7f7f\" stroke-width=\"1\"/><title>Nord → Frédérickshall: 4</title></g><g style=\"mix-blend-mode: multiply;\"><path d=\"M5,1031.5506614552016C392.5,1031.5506614552016,392.5,1062.4361094407714,780,1062.4361094407714\" stroke=\"#8c564b\" stroke-width=\"2.331629585087192\"/><title>France → Ribérou [Saujon]: 33</title></g><g style=\"mix-blend-mode: multiply;\"><path d=\"M5,1033.0344257366207C392.5,1033.0344257366207,392.5,805.0638905592319,780,805.0638905592319\" stroke=\"#8c564b\" stroke-width=\"1\"/><title>France → Le Pornic: 9</title></g><g style=\"mix-blend-mode: multiply;\"><path d=\"M5,1033.6349969933858C392.5,1033.6349969933858,392.5,788.191521346965,780,788.191521346965\" stroke=\"#8c564b\" stroke-width=\"1\"/><title>France → Eguillon: 8</title></g><g style=\"mix-blend-mode: multiply;\"><path d=\"M5,1034.05892964522C392.5,1034.05892964522,392.5,599.1310883944684,780,599.1310883944684\" stroke=\"#8c564b\" stroke-width=\"1\"/><title>France → Baden: 4</title></g><g style=\"mix-blend-mode: multiply;\"><path d=\"M5,1034.4122068550816C392.5,1034.4122068550816,392.5,716.7618761274817,780,716.7618761274817\" stroke=\"#8c564b\" stroke-width=\"1\"/><title>France → Quimper: 6</title></g><g style=\"mix-blend-mode: multiply;\"><path d=\"M5,1034.6595009019848C392.5,1034.6595009019848,392.5,35.529915814791245,780,35.529915814791245\" stroke=\"#8c564b\" stroke-width=\"1\"/><title>France → Quimperlé: 1</title></g><g style=\"mix-blend-mode: multiply;\"><path d=\"M5,1034.7654840649434C392.5,1034.7654840649434,392.5,365.5817799158142,780,365.5817799158142\" stroke=\"#8c564b\" stroke-width=\"1\"/><title>France → Le Chateau [d' Oléron]: 2</title></g><g style=\"mix-blend-mode: multiply;\"><path d=\"M5,1034.9421226698742C392.5,1034.9421226698742,392.5,473.65529164161137,780,473.65529164161137\" stroke=\"#8c564b\" stroke-width=\"1\"/><title>France → Ile de Bouin: 3</title></g><g style=\"mix-blend-mode: multiply;\"><path d=\"M5,1035.7899879735423C392.5,1035.7899879735423,392.5,956.4890258568867,780,956.4890258568867\" stroke=\"#8c564b\" stroke-width=\"1.4837642814191223\"/><title>France → Belle Île: 21</title></g><g style=\"mix-blend-mode: multiply;\"><path d=\"M5,538.3831930246544C392.5,538.3831930246544,392.5,646.9219783523762,780,646.9219783523762\" stroke=\"#ff7f0e\" stroke-width=\"1\"/><title>Amériques → Saint Pierre et Miquelon: 5</title></g><g style=\"mix-blend-mode: multiply;\"><path d=\"M5,549.7963018641011C392.5,549.7963018641011,392.5,478.8672579675284,780,478.8672579675284\" stroke=\"#d62728\" stroke-width=\"1\"/><title>Espagne → Saint Sebastien: 3</title></g><g style=\"mix-blend-mode: multiply;\"><path d=\"M5,578.6635598316294C392.5,578.6635598316294,392.5,851.0342754058946,780,851.0342754058946\" stroke=\"#7f7f7f\" stroke-width=\"1\"/><title>Nord → Stavanger: 12</title></g><g style=\"mix-blend-mode: multiply;\"><path d=\"M5,595.8516235718581C392.5,595.8516235718581,392.5,40.600571256763594,780,40.600571256763594\" stroke=\"#cccccc\" stroke-width=\"1\"/><title>pas de partenaire commercial rattaché → Reibnits: 1</title></g><g style=\"mix-blend-mode: multiply;\"><path d=\"M5,579.1581479254359C392.5,579.1581479254359,392.5,370.7230907997589,780,370.7230907997589\" stroke=\"#7f7f7f\" stroke-width=\"1\"/><title>Nord → Riga: 2</title></g><g style=\"mix-blend-mode: multiply;\"><path d=\"M5,1037.591701743837C392.5,1037.591701743837,392.5,1026.0959110042108,780,1026.0959110042108\" stroke=\"#8c564b\" stroke-width=\"2.1196632591701747\"/><title>France → Redon: 30</title></g><g style=\"mix-blend-mode: multiply;\"><path d=\"M5,605.9034876728801C392.5,605.9034876728801,392.5,375.8644016837036,780,375.8644016837036\" stroke=\"#2ca02c\" stroke-width=\"1\"/><title>Angleterre → Plymouth: 2</title></g><g style=\"mix-blend-mode: multiply;\"><path d=\"M5,579.2994588093806C392.5,579.2994588093806,392.5,381.0057125676483,780,381.0057125676483\" stroke=\"#7f7f7f\" stroke-width=\"1\"/><title>Nord → Molde: 2</title></g><g style=\"mix-blend-mode: multiply;\"><path d=\"M5,606.0094708358387C392.5,606.0094708358387,392.5,45.67122669873594,780,45.67122669873594\" stroke=\"#2ca02c\" stroke-width=\"1\"/><title>Angleterre → Greenock: 1</title></g><g style=\"mix-blend-mode: multiply;\"><path d=\"M5,570.6960312687912C392.5,570.6960312687912,392.5,604.4137101623578,780,604.4137101623578\" stroke=\"#e377c2\" stroke-width=\"1\"/><title>Hollande → Harlingen: 4</title></g><g style=\"mix-blend-mode: multiply;\"><path d=\"M5,561.9159651232711C392.5,561.9159651232711,392.5,484.07922429344546,780,484.07922429344546\" stroke=\"#cccccc\" stroke-width=\"1\"/><title>États-Unis d'Amérique → Gloucester: 3</title></g><g style=\"mix-blend-mode: multiply;\"><path d=\"M5,606.080126277811C392.5,606.080126277811,392.5,50.74188214070829,780,50.74188214070829\" stroke=\"#2ca02c\" stroke-width=\"1\"/><title>Angleterre → Galway: 1</title></g><g style=\"mix-blend-mode: multiply;\"><path d=\"M5,579.4054419723391C392.5,579.4054419723391,392.5,55.81253758268064,780,55.81253758268064\" stroke=\"#7f7f7f\" stroke-width=\"1\"/><title>Nord → Fahrsund: 1</title></g><g style=\"mix-blend-mode: multiply;\"><path d=\"M5,1039.2874323511733C392.5,1039.2874323511733,392.5,917.9043896572475,780,917.9043896572475\" stroke=\"#8c564b\" stroke-width=\"1.2717979555021048\"/><title>France → Etaples: 18</title></g><g style=\"mix-blend-mode: multiply;\"><path d=\"M5,571.0139807576668C392.5,571.0139807576668,392.5,652.2752555622379,780,652.2752555622379\" stroke=\"#e377c2\" stroke-width=\"1\"/><title>Hollande → Doort: 5</title></g><g style=\"mix-blend-mode: multiply;\"><path d=\"M5,579.6174082982561C392.5,579.6174082982561,392.5,657.6285327720997,780,657.6285327720997\" stroke=\"#7f7f7f\" stroke-width=\"1\"/><title>Nord → Dantzick: 5</title></g><g style=\"mix-blend-mode: multiply;\"><path d=\"M5,579.9706855081179C392.5,579.9706855081179,392.5,662.9818099819614,780,662.9818099819614\" stroke=\"#7f7f7f\" stroke-width=\"1\"/><title>Nord → Christiansand: 5</title></g><g style=\"mix-blend-mode: multiply;\"><path d=\"M5,550.0789236319905C392.5,550.0789236319905,392.5,668.3350871918232,780,668.3350871918232\" stroke=\"#d62728\" stroke-width=\"1\"/><title>Espagne → Bilbao: 5</title></g><g style=\"mix-blend-mode: multiply;\"><path d=\"M5,606.1507817197834C392.5,606.1507817197834,392.5,60.88319302465299,780,60.88319302465299\" stroke=\"#2ca02c\" stroke-width=\"1\"/><title>Angleterre → Berwick: 1</title></g><g style=\"mix-blend-mode: multiply;\"><path d=\"M5,580.7478953698136C392.5,580.7478953698136,392.5,905.3961214672296,780,905.3961214672296\" stroke=\"#7f7f7f\" stroke-width=\"1.2011425135297655\"/><title>Nord → Bergen: 17</title></g><g style=\"mix-blend-mode: multiply;\"><path d=\"M5,606.2567648827419C392.5,606.2567648827419,392.5,386.147023451593,780,386.147023451593\" stroke=\"#2ca02c\" stroke-width=\"1\"/><title>Angleterre → Beddefort: 2</title></g><g style=\"mix-blend-mode: multiply;\"><path d=\"M5,1040.7711966325921C392.5,1040.7711966325921,392.5,963.0787733012643,780,963.0787733012643\" stroke=\"#8c564b\" stroke-width=\"1.6957306073361398\"/><title>France → Seudre: 24</title></g><g style=\"mix-blend-mode: multiply;\"><path d=\"M5,581.4544497895371C392.5,581.4544497895371,392.5,489.2911906193625,780,489.2911906193625\" stroke=\"#7f7f7f\" stroke-width=\"1\"/><title>Nord → Stettin: 3</title></g><g style=\"mix-blend-mode: multiply;\"><path d=\"M5,1042.0076668671081C392.5,1042.0076668671081,392.5,833.5260072158766,780,833.5260072158766\" stroke=\"#8c564b\" stroke-width=\"1\"/><title>France → Soubise: 11</title></g><g style=\"mix-blend-mode: multiply;\"><path d=\"M5,581.7723992784126C392.5,581.7723992784126,392.5,722.1858087793157,780,722.1858087793157\" stroke=\"#7f7f7f\" stroke-width=\"1\"/><title>Nord → Bremen: 6</title></g><g style=\"mix-blend-mode: multiply;\"><path d=\"M5,532.7472940469032C392.5,532.7472940469032,392.5,65.95384846662535,780,65.95384846662535\" stroke=\"#17becf\" stroke-width=\"1\"/><title>Portugal → Setubal: 1</title></g><g style=\"mix-blend-mode: multiply;\"><path d=\"M5,1042.5022549609146C392.5,1042.5022549609146,392.5,494.50315694527956,780,494.50315694527956\" stroke=\"#8c564b\" stroke-width=\"1\"/><title>France → Fouras: 3</title></g><g style=\"mix-blend-mode: multiply;\"><path d=\"M5,562.2692423331329C392.5,562.2692423331329,392.5,744.0581779915829,780,744.0581779915829\" stroke=\"#cccccc\" stroke-width=\"1\"/><title>États-Unis d'Amérique → Boston: 7</title></g><g style=\"mix-blend-mode: multiply;\"><path d=\"M5,1042.7142212868316C392.5,1042.7142212868316,392.5,499.7151232711966,780,499.7151232711966\" stroke=\"#8c564b\" stroke-width=\"1\"/><title>France → Saint Jean de Luz: 3</title></g><g style=\"mix-blend-mode: multiply;\"><path d=\"M5,562.5871918220083C392.5,562.5871918220083,392.5,391.2883343355377,780,391.2883343355377\" stroke=\"#cccccc\" stroke-width=\"1\"/><title>États-Unis d'Amérique → Georgetown: 2</title></g><g style=\"mix-blend-mode: multiply;\"><path d=\"M5,1042.996843054721C392.5,1042.996843054721,392.5,673.6883644016849,780,673.6883644016849\" stroke=\"#8c564b\" stroke-width=\"1\"/><title>France → Blaye: 5</title></g><g style=\"mix-blend-mode: multiply;\"><path d=\"M5,1043.3147925435967C392.5,1043.3147925435967,392.5,609.6963319302472,780,609.6963319302472\" stroke=\"#8c564b\" stroke-width=\"1\"/><title>France → Taillebourg: 4</title></g><g style=\"mix-blend-mode: multiply;\"><path d=\"M5,1043.7033974744445C392.5,1043.7033974744445,392.5,749.5527660853893,780,749.5527660853893\" stroke=\"#8c564b\" stroke-width=\"1\"/><title>France → dans le Pertuis: 7</title></g><g style=\"mix-blend-mode: multiply;\"><path d=\"M5,1044.4806073361403C392.5,1044.4806073361403,392.5,886.8633493686126,780,886.8633493686126\" stroke=\"#8c564b\" stroke-width=\"1.0598316295850874\"/><title>France → Royan: 15</title></g><g style=\"mix-blend-mode: multiply;\"><path d=\"M5,606.5393866506313C392.5,606.5393866506313,392.5,727.6097414311498,780,727.6097414311498\" stroke=\"#2ca02c\" stroke-width=\"1\"/><title>Angleterre → Newcastle: 6</title></g><g style=\"mix-blend-mode: multiply;\"><path d=\"M5,538.5951593505714C392.5,538.5951593505714,392.5,71.0245039085977,780,71.0245039085977\" stroke=\"#ff7f0e\" stroke-width=\"1\"/><title>Amériques → La Martinique: 1</title></g><g style=\"mix-blend-mode: multiply;\"><path d=\"M5,582.2316596512328C392.5,582.2316596512328,392.5,755.0473541791957,780,755.0473541791957\" stroke=\"#7f7f7f\" stroke-width=\"1\"/><title>Nord → Hambourg: 7</title></g><g style=\"mix-blend-mode: multiply;\"><path d=\"M5,606.7866806975344C392.5,606.7866806975344,392.5,76.09515935057004,780,76.09515935057004\" stroke=\"#2ca02c\" stroke-width=\"1\"/><title>Angleterre → Colonies anglaises: 1</title></g><g style=\"mix-blend-mode: multiply;\"><path d=\"M5,556.5626879134095C392.5,556.5626879134095,392.5,504.92708959711365,780,504.92708959711365\" stroke=\"#9467bd\" stroke-width=\"1\"/><title>Flandre et autres états de l'Empereur → Bruges: 3</title></g><g style=\"mix-blend-mode: multiply;\"><path d=\"M5,1045.1871617558636C392.5,1045.1871617558636,392.5,679.0416416115467,780,679.0416416115467\" stroke=\"#8c564b\" stroke-width=\"1\"/><title>France → Port Launay: 5</title></g><g style=\"mix-blend-mode: multiply;\"><path d=\"M5,1045.3991280817806C392.5,1045.3991280817806,392.5,81.16581479254239,780,81.16581479254239\" stroke=\"#8c564b\" stroke-width=\"1\"/><title>France → Croidevie [Croix de Vie]: 1</title></g><g style=\"mix-blend-mode: multiply;\"><path d=\"M5,606.9279915814791C392.5,606.9279915814791,392.5,510.1390559230307,780,510.1390559230307\" stroke=\"#2ca02c\" stroke-width=\"1\"/><title>Angleterre → Tingmouth: 3</title></g><g style=\"mix-blend-mode: multiply;\"><path d=\"M5,1045.469783523753C392.5,1045.469783523753,392.5,86.23647023451474,780,86.23647023451474\" stroke=\"#8c564b\" stroke-width=\"1\"/><title>France → Bourg [sur Gironde]: 1</title></g><g style=\"mix-blend-mode: multiply;\"><path d=\"M5,1045.5757666867116C392.5,1045.5757666867116,392.5,396.4296452194824,780,396.4296452194824\" stroke=\"#8c564b\" stroke-width=\"1\"/><title>France → Billiers: 2</title></g><g style=\"mix-blend-mode: multiply;\"><path d=\"M5,1045.9643716175594C392.5,1045.9643716175594,392.5,810.699789536983,780,810.699789536983\" stroke=\"#8c564b\" stroke-width=\"1\"/><title>France → Cherbourg: 9</title></g><g style=\"mix-blend-mode: multiply;\"><path d=\"M5,1046.5296151533382C392.5,1046.5296151533382,392.5,760.5419422730022,780,760.5419422730022\" stroke=\"#8c564b\" stroke-width=\"1\"/><title>France → Dercie: 7</title></g><g style=\"mix-blend-mode: multiply;\"><path d=\"M5,1046.847564642214C392.5,1046.847564642214,392.5,401.5709561034271,780,401.5709561034271\" stroke=\"#8c564b\" stroke-width=\"1\"/><title>France → Landerneau: 2</title></g><g style=\"mix-blend-mode: multiply;\"><path d=\"M5,1047.1655141310894C392.5,1047.1655141310894,392.5,766.0365303668086,780,766.0365303668086\" stroke=\"#8c564b\" stroke-width=\"1\"/><title>France → Loix: 7</title></g><g style=\"mix-blend-mode: multiply;\"><path d=\"M5,1047.483463619965C392.5,1047.483463619965,392.5,406.7122669873718,780,406.7122669873718\" stroke=\"#8c564b\" stroke-width=\"1\"/><title>France → en deor des couraux [en dehors des Couraux]: 2</title></g><g style=\"mix-blend-mode: multiply;\"><path d=\"M5,1047.7307576668682C392.5,1047.7307576668682,392.5,684.3949188214084,780,684.3949188214084\" stroke=\"#8c564b\" stroke-width=\"1\"/><title>France → Méan: 5</title></g><g style=\"mix-blend-mode: multiply;\"><path d=\"M5,1048.0133794347576C392.5,1048.0133794347576,392.5,515.3510222489477,780,515.3510222489477\" stroke=\"#8c564b\" stroke-width=\"1\"/><title>France → Carnac: 3</title></g><g style=\"mix-blend-mode: multiply;\"><path d=\"M5,550.2908899579076C392.5,550.2908899579076,392.5,91.30712567648709,780,91.30712567648709\" stroke=\"#d62728\" stroke-width=\"1\"/><title>Espagne → Alicant: 1</title></g><g style=\"mix-blend-mode: multiply;\"><path d=\"M5,582.5496091401083C392.5,582.5496091401083,392.5,411.8535778713165,780,411.8535778713165\" stroke=\"#7f7f7f\" stroke-width=\"1\"/><title>Nord → Memel: 2</title></g><g style=\"mix-blend-mode: multiply;\"><path d=\"M5,550.3615453998799C392.5,550.3615453998799,392.5,96.37778111845944,780,96.37778111845944\" stroke=\"#d62728\" stroke-width=\"1\"/><title>Espagne → Cabicorp en Espagne [Espagne: 1</title></g><g style=\"mix-blend-mode: multiply;\"><path d=\"M5,571.26127480457C392.5,571.26127480457,392.5,416.9948887552612,780,416.9948887552612\" stroke=\"#e377c2\" stroke-width=\"1\"/><title>Hollande → Zierikzee: 2</title></g><g style=\"mix-blend-mode: multiply;\"><path d=\"M5,607.10463018641C392.5,607.10463018641,392.5,422.13619963920587,780,422.13619963920587\" stroke=\"#2ca02c\" stroke-width=\"1\"/><title>Angleterre → Yarmouth: 2</title></g><g style=\"mix-blend-mode: multiply;\"><path d=\"M5,1048.1546903187023C392.5,1048.1546903187023,392.5,101.44843656043179,780,101.44843656043179\" stroke=\"#8c564b\" stroke-width=\"1\"/><title>France → Socoa [Ciboure]: 1</title></g><g style=\"mix-blend-mode: multiply;\"><path d=\"M5,562.6931749849668C392.5,562.6931749849668,392.5,106.51909200240414,780,106.51909200240414\" stroke=\"#cccccc\" stroke-width=\"1\"/><title>États-Unis d'Amérique → New York: 1</title></g><g style=\"mix-blend-mode: multiply;\"><path d=\"M5,562.8698135898977C392.5,562.8698135898977,392.5,614.9789536981366,780,614.9789536981366\" stroke=\"#cccccc\" stroke-width=\"1\"/><title>États-Unis d'Amérique → Newbury [USA]: 4</title></g><g style=\"mix-blend-mode: multiply;\"><path d=\"M5,582.6555923030668C392.5,582.6555923030668,392.5,111.58974744437648,780,111.58974744437648\" stroke=\"#7f7f7f\" stroke-width=\"1\"/><title>Nord → Moss: 1</title></g><g style=\"mix-blend-mode: multiply;\"><path d=\"M5,582.7615754660253C392.5,582.7615754660253,392.5,427.27751052315057,780,427.27751052315057\" stroke=\"#7f7f7f\" stroke-width=\"1\"/><title>Nord → Holmestrand: 2</title></g><g style=\"mix-blend-mode: multiply;\"><path d=\"M5,582.8675586289838C392.5,582.8675586289838,392.5,116.66040288634883,780,116.66040288634883\" stroke=\"#7f7f7f\" stroke-width=\"1\"/><title>Nord → Fleckfjord: 1</title></g><g style=\"mix-blend-mode: multiply;\"><path d=\"M5,607.2106133493685C392.5,607.2106133493685,392.5,121.73105832832118,780,121.73105832832118\" stroke=\"#2ca02c\" stroke-width=\"1\"/><title>Angleterre → Exeter: 1</title></g><g style=\"mix-blend-mode: multiply;\"><path d=\"M5,1048.260673481661C392.5,1048.260673481661,392.5,432.41882140709527,780,432.41882140709527\" stroke=\"#8c564b\" stroke-width=\"1\"/><title>France → Concarneau: 2</title></g><g style=\"mix-blend-mode: multiply;\"><path d=\"M5,607.3519242333132C392.5,607.3519242333132,392.5,520.5629885748648,780,520.5629885748648\" stroke=\"#2ca02c\" stroke-width=\"1\"/><title>Angleterre → Corck: 3</title></g><g style=\"mix-blend-mode: multiply;\"><path d=\"M5,1048.3666566446193C392.5,1048.3666566446193,392.5,126.80171377029353,780,126.80171377029353\" stroke=\"#8c564b\" stroke-width=\"1\"/><title>France → Ile d' Ars: 1</title></g><g style=\"mix-blend-mode: multiply;\"><path d=\"M5,1048.5786229705363C392.5,1048.5786229705363,392.5,689.7481960312701,780,689.7481960312701\" stroke=\"#8c564b\" stroke-width=\"1\"/><title>France → Bourgneuf: 5</title></g><g style=\"mix-blend-mode: multiply;\"><path d=\"M5,532.8532772098617C392.5,532.8532772098617,392.5,437.56013229103996,780,437.56013229103996\" stroke=\"#17becf\" stroke-width=\"1\"/><title>Portugal → Côte d' Angole: 2</title></g><g style=\"mix-blend-mode: multiply;\"><path d=\"M5,1048.896572459412C392.5,1048.896572459412,392.5,620.261575466026,780,620.261575466026\" stroke=\"#8c564b\" stroke-width=\"1\"/><title>France → Saint Denis [d' Oléron]: 4</title></g><g style=\"mix-blend-mode: multiply;\"><path d=\"M5,1049.1438665063151C392.5,1049.1438665063151,392.5,525.7749549007818,780,525.7749549007818\" stroke=\"#8c564b\" stroke-width=\"1\"/><title>France → Saint Esprit: 3</title></g><g style=\"mix-blend-mode: multiply;\"><path d=\"M5,607.5638905592302C392.5,607.5638905592302,392.5,530.9869212266989,780,530.9869212266989\" stroke=\"#2ca02c\" stroke-width=\"1\"/><title>Angleterre → Waterford: 3</title></g><g style=\"mix-blend-mode: multiply;\"><path d=\"M5,582.9382140709562C392.5,582.9382140709562,392.5,131.87236921226588,780,131.87236921226588\" stroke=\"#7f7f7f\" stroke-width=\"1\"/><title>Nord → Christianson (Norvege): 1</title></g><g style=\"mix-blend-mode: multiply;\"><path d=\"M5,1049.4264882742045C392.5,1049.4264882742045,392.5,695.1014732411319,780,695.1014732411319\" stroke=\"#8c564b\" stroke-width=\"1\"/><title>France → Abbeville: 5</title></g><g style=\"mix-blend-mode: multiply;\"><path d=\"M5,607.7052014431749C392.5,607.7052014431749,392.5,136.94302465423823,780,136.94302465423823\" stroke=\"#2ca02c\" stroke-width=\"1\"/><title>Angleterre → Appeldaur en Angleterre: 1</title></g><g style=\"mix-blend-mode: multiply;\"><path d=\"M5,1049.6384546001216C392.5,1049.6384546001216,392.5,142.01368009621058,780,142.01368009621058\" stroke=\"#8c564b\" stroke-width=\"1\"/><title>France → Fécamp: 1</title></g><g style=\"mix-blend-mode: multiply;\"><path d=\"M5,1049.709110042094C392.5,1049.709110042094,392.5,147.08433553818293,780,147.08433553818293\" stroke=\"#8c564b\" stroke-width=\"1\"/><title>France → Castelnaut: 1</title></g><g style=\"mix-blend-mode: multiply;\"><path d=\"M5,1049.7797654840663C392.5,1049.7797654840663,392.5,152.15499098015528,780,152.15499098015528\" stroke=\"#8c564b\" stroke-width=\"1\"/><title>France → Roscoff: 1</title></g><g style=\"mix-blend-mode: multiply;\"><path d=\"M5,1049.8504209260386C392.5,1049.8504209260386,392.5,157.22564642212762,780,157.22564642212762\" stroke=\"#8c564b\" stroke-width=\"1\"/><title>France → Sette: 1</title></g><g style=\"mix-blend-mode: multiply;\"><path d=\"M5,1049.9917318099833C392.5,1049.9917318099833,392.5,536.1988875526159,780,536.1988875526159\" stroke=\"#8c564b\" stroke-width=\"1\"/><title>France → Saint André de Cuzac: 3</title></g><g style=\"mix-blend-mode: multiply;\"><path d=\"M5,607.7758568851473C392.5,607.7758568851473,392.5,162.29630186409997,780,162.29630186409997\" stroke=\"#2ca02c\" stroke-width=\"1\"/><title>Angleterre → Southampton: 1</title></g><g style=\"mix-blend-mode: multiply;\"><path d=\"M5,1050.345009019845C392.5,1050.345009019845,392.5,771.5311184606151,780,771.5311184606151\" stroke=\"#8c564b\" stroke-width=\"1\"/><title>France → La Tranche sur Mer: 7</title></g><g style=\"mix-blend-mode: multiply;\"><path d=\"M5,563.0817799158148C392.5,563.0817799158148,392.5,442.70144317498466,780,442.70144317498466\" stroke=\"#cccccc\" stroke-width=\"1\"/><title>États-Unis d'Amérique → Philadelphie: 2</title></g><g style=\"mix-blend-mode: multiply;\"><path d=\"M5,583.114852675887C392.5,583.114852675887,392.5,625.5441972339154,780,625.5441972339154\" stroke=\"#7f7f7f\" stroke-width=\"1\"/><title>Nord → Norvège: 4</title></g><g style=\"mix-blend-mode: multiply;\"><path d=\"M5,1050.6276307877345C392.5,1050.6276307877345,392.5,167.36695730607232,780,167.36695730607232\" stroke=\"#8c564b\" stroke-width=\"1\"/><title>France → Barfleur: 1</title></g><g style=\"mix-blend-mode: multiply;\"><path d=\"M5,607.8465123271196C392.5,607.8465123271196,392.5,172.43761274804467,780,172.43761274804467\" stroke=\"#2ca02c\" stroke-width=\"1\"/><title>Angleterre → Angleterre: 1</title></g><g style=\"mix-blend-mode: multiply;\"><path d=\"M5,607.917167769092C392.5,607.917167769092,392.5,177.50826819001702,780,177.50826819001702\" stroke=\"#2ca02c\" stroke-width=\"1\"/><title>Angleterre → Dundee: 1</title></g><g style=\"mix-blend-mode: multiply;\"><path d=\"M5,1050.7689416716792C392.5,1050.7689416716792,392.5,541.410853878533,780,541.410853878533\" stroke=\"#8c564b\" stroke-width=\"1\"/><title>France → Port Louis: 3</title></g><g style=\"mix-blend-mode: multiply;\"><path d=\"M5,550.4322008418523C392.5,550.4322008418523,392.5,182.57892363198937,780,182.57892363198937\" stroke=\"#d62728\" stroke-width=\"1\"/><title>Espagne → Barcelonne: 1</title></g><g style=\"mix-blend-mode: multiply;\"><path d=\"M5,1050.9809079975962C392.5,1050.9809079975962,392.5,546.62282020445,780,546.62282020445\" stroke=\"#8c564b\" stroke-width=\"1\"/><title>France → Bourcefranc: 3</title></g><g style=\"mix-blend-mode: multiply;\"><path d=\"M5,563.1877630787733C392.5,563.1877630787733,392.5,187.64957907396172,780,187.64957907396172\" stroke=\"#cccccc\" stroke-width=\"1\"/><title>États-Unis d'Amérique → Marblehead: 1</title></g><g style=\"mix-blend-mode: multiply;\"><path d=\"M5,595.9576067348166C392.5,595.9576067348166,392.5,447.84275405892936,780,447.84275405892936\" stroke=\"#cccccc\" stroke-width=\"1\"/><title>pas de partenaire commercial rattaché → Banc de Terre Neuve: 2</title></g><g style=\"mix-blend-mode: multiply;\"><path d=\"M5,607.9878232110643C392.5,607.9878232110643,392.5,192.72023451593407,780,192.72023451593407\" stroke=\"#2ca02c\" stroke-width=\"1\"/><title>Angleterre → Terre Neuve: 1</title></g><g style=\"mix-blend-mode: multiply;\"><path d=\"M5,1051.1928743235133C392.5,1051.1928743235133,392.5,551.8347865303671,780,551.8347865303671\" stroke=\"#8c564b\" stroke-width=\"1\"/><title>France → Plouharnel: 3</title></g><g style=\"mix-blend-mode: multiply;\"><path d=\"M5,583.2914912808179C392.5,583.2914912808179,392.5,197.79088995790642,780,197.79088995790642\" stroke=\"#7f7f7f\" stroke-width=\"1\"/><title>Nord → Pilau: 1</title></g><g style=\"mix-blend-mode: multiply;\"><path d=\"M5,1051.334185207458C392.5,1051.334185207458,392.5,202.86154539987876,780,202.86154539987876\" stroke=\"#8c564b\" stroke-width=\"1\"/><title>France → Le Vivier: 1</title></g><g style=\"mix-blend-mode: multiply;\"><path d=\"M5,538.6658147925438C392.5,538.6658147925438,392.5,207.9322008418511,780,207.9322008418511\" stroke=\"#ff7f0e\" stroke-width=\"1\"/><title>Amériques → Colonies américaines: 1</title></g><g style=\"mix-blend-mode: multiply;\"><path d=\"M5,1051.4754960914026C392.5,1051.4754960914026,392.5,557.0467528562841,780,557.0467528562841\" stroke=\"#8c564b\" stroke-width=\"1\"/><title>France → Saint Valery: 3</title></g><g style=\"mix-blend-mode: multiply;\"><path d=\"M5,608.0584786530367C392.5,608.0584786530367,392.5,213.00285628382346,780,213.00285628382346\" stroke=\"#2ca02c\" stroke-width=\"1\"/><title>Angleterre → Penzance: 1</title></g><g style=\"mix-blend-mode: multiply;\"><path d=\"M5,1051.6168069753473C392.5,1051.6168069753473,392.5,218.0735117257958,780,218.0735117257958\" stroke=\"#8c564b\" stroke-width=\"1\"/><title>France → Talmont [Talmont Saint Hilaire]: 1</title></g><g style=\"mix-blend-mode: multiply;\"><path d=\"M5,583.3621467227903C392.5,583.3621467227903,392.5,223.14416716776816,780,223.14416716776816\" stroke=\"#7f7f7f\" stroke-width=\"1\"/><title>Nord → Copenhague: 1</title></g><g style=\"mix-blend-mode: multiply;\"><path d=\"M5,1051.722790138306C392.5,1051.722790138306,392.5,452.98406494287406,780,452.98406494287406\" stroke=\"#8c564b\" stroke-width=\"1\"/><title>France → Marseille: 2</title></g><g style=\"mix-blend-mode: multiply;\"><path d=\"M5,1051.8994287432367C392.5,1051.8994287432367,392.5,562.2587191822012,780,562.2587191822012\" stroke=\"#8c564b\" stroke-width=\"1\"/><title>France → Couarde île de Ré: 3</title></g><g style=\"mix-blend-mode: multiply;\"><path d=\"M5,1052.0407396271814C392.5,1052.0407396271814,392.5,228.2148226097405,780,228.2148226097405\" stroke=\"#8c564b\" stroke-width=\"1\"/><title>France → Rivedoux: 1</title></g><g style=\"mix-blend-mode: multiply;\"><path d=\"M5,1052.1113950691538C392.5,1052.1113950691538,392.5,233.28547805171286,780,233.28547805171286\" stroke=\"#8c564b\" stroke-width=\"1\"/><title>France → Ile d' Aix: 1</title></g><g style=\"mix-blend-mode: multiply;\"><path d=\"M5,527.5353277209864C392.5,527.5353277209864,392.5,238.3561334936852,780,238.3561334936852\" stroke=\"#bcbd22\" stroke-width=\"1\"/><title>Outre-mers → Ile Bourbon: 1</title></g><g style=\"mix-blend-mode: multiply;\"><path d=\"M5,608.1644618159952C392.5,608.1644618159952,392.5,458.12537582681875,780,458.12537582681875\" stroke=\"#2ca02c\" stroke-width=\"1\"/><title>Angleterre → Pool: 2</title></g><g style=\"mix-blend-mode: multiply;\"><path d=\"M5,608.2704449789537C392.5,608.2704449789537,392.5,243.42678893565756,780,243.42678893565756\" stroke=\"#2ca02c\" stroke-width=\"1\"/><title>Angleterre → Salcots: 1</title></g><g style=\"mix-blend-mode: multiply;\"><path d=\"M5,1052.1820505111261C392.5,1052.1820505111261,392.5,248.4974443776299,780,248.4974443776299\" stroke=\"#8c564b\" stroke-width=\"1\"/><title>France → Rivière de Bordeaux: 1</title></g><g style=\"mix-blend-mode: multiply;\"><path d=\"M5,1052.2527059530985C392.5,1052.2527059530985,392.5,253.56809981960225,780,253.56809981960225\" stroke=\"#8c564b\" stroke-width=\"1\"/><title>France → La Marque: 1</title></g><g style=\"mix-blend-mode: multiply;\"><path d=\"M5,608.3411004209261C392.5,608.3411004209261,392.5,258.6387552615746,780,258.6387552615746\" stroke=\"#2ca02c\" stroke-width=\"1\"/><title>Angleterre → Chichester: 1</title></g><g style=\"mix-blend-mode: multiply;\"><path d=\"M5,608.4117558628984C392.5,608.4117558628984,392.5,263.70941070354695,780,263.70941070354695\" stroke=\"#2ca02c\" stroke-width=\"1\"/><title>Angleterre → Camarthen: 1</title></g><g style=\"mix-blend-mode: multiply;\"><path d=\"M5,608.4824113048708C392.5,608.4824113048708,392.5,268.7800661455193,780,268.7800661455193\" stroke=\"#2ca02c\" stroke-width=\"1\"/><title>Angleterre → Negton en Ecosse: 1</title></g><g style=\"mix-blend-mode: multiply;\"><path d=\"M5,550.5028562838246C392.5,550.5028562838246,392.5,273.85072158749165,780,273.85072158749165\" stroke=\"#d62728\" stroke-width=\"1\"/><title>Espagne → Bisquai [Pays Basque]: 1</title></g><g style=\"mix-blend-mode: multiply;\"><path d=\"M5,1052.3233613950708C392.5,1052.3233613950708,392.5,278.921377029464,780,278.921377029464\" stroke=\"#8c564b\" stroke-width=\"1\"/><title>France → Mornac: 1</title></g><g style=\"mix-blend-mode: multiply;\"><path d=\"M5,571.3672579675285C392.5,571.3672579675285,392.5,283.99203247143635,780,283.99203247143635\" stroke=\"#e377c2\" stroke-width=\"1\"/><title>Hollande → Lemmer: 1</title></g><g style=\"mix-blend-mode: multiply;\"><path d=\"M5,583.4328021647626C392.5,583.4328021647626,392.5,289.0626879134087,780,289.0626879134087\" stroke=\"#7f7f7f\" stroke-width=\"1\"/><title>Nord → Ebbin en Pologne [Elbing]: 1</title></g><g style=\"mix-blend-mode: multiply;\"><path d=\"M5,608.6237221888155C392.5,608.6237221888155,392.5,567.4706855081182,780,567.4706855081182\" stroke=\"#2ca02c\" stroke-width=\"1\"/><title>Angleterre → Bristol: 3</title></g><g style=\"mix-blend-mode: multiply;\"><path d=\"M5,532.9592603728203C392.5,532.9592603728203,392.5,294.13334335538104,780,294.13334335538104\" stroke=\"#17becf\" stroke-width=\"1\"/><title>Portugal → Lisbonne: 1</title></g><g style=\"mix-blend-mode: multiply;\"><path d=\"M5,563.2584185207456C392.5,563.2584185207456,392.5,299.2039987973534,780,299.2039987973534\" stroke=\"#cccccc\" stroke-width=\"1\"/><title>États-Unis d'Amérique → Rhode Island: 1</title></g><g style=\"mix-blend-mode: multiply;\"><path d=\"M5,583.503457606735C392.5,583.503457606735,392.5,304.27465423932574,780,304.27465423932574\" stroke=\"#7f7f7f\" stroke-width=\"1\"/><title>Nord → Frédérickstad: 1</title></g><g style=\"mix-blend-mode: multiply;\"><path d=\"M5,608.7650330727602C392.5,608.7650330727602,392.5,309.3453096812981,780,309.3453096812981\" stroke=\"#2ca02c\" stroke-width=\"1\"/><title>Angleterre → Ile de Man: 1</title></g><g style=\"mix-blend-mode: multiply;\"><path d=\"M5,608.8356885147325C392.5,608.8356885147325,392.5,314.41596512327044,780,314.41596512327044\" stroke=\"#2ca02c\" stroke-width=\"1\"/><title>Angleterre → Portsmouth: 1</title></g><g style=\"mix-blend-mode: multiply;\"><path d=\"M5,1052.3940168370432C392.5,1052.3940168370432,392.5,319.4866205652428,780,319.4866205652428\" stroke=\"#8c564b\" stroke-width=\"1\"/><title>France → Douarnenez: 1</title></g><g style=\"mix-blend-mode: multiply;\"><path d=\"M5,563.329073962718C392.5,563.329073962718,392.5,324.55727600721514,780,324.55727600721514\" stroke=\"#cccccc\" stroke-width=\"1\"/><title>États-Unis d'Amérique → Barnstable: 1</title></g><g style=\"mix-blend-mode: multiply;\"><path d=\"M5,563.4350571256765C392.5,563.4350571256765,392.5,463.26668671076345,780,463.26668671076345\" stroke=\"#cccccc\" stroke-width=\"1\"/><title>États-Unis d'Amérique → Baltimore: 2</title></g><g style=\"mix-blend-mode: multiply;\"><path d=\"M5,1052.4646722790155C392.5,1052.4646722790155,392.5,329.6279314491875,780,329.6279314491875\" stroke=\"#8c564b\" stroke-width=\"1\"/><title>France → Charron: 1</title></g></g><g><text x=\"776\" y=\"0.035327720984810185\" text-anchor=\"end\" transform=\"translate(0,-5)\"><tspan alignment-baseline=\"middle\" x=\"776\" style=\"font-family: Arial, sans-serif; font-size: 10px; fill: black; font-weight: bold;\">Noordwyck</tspan><tspan alignment-baseline=\"middle\" x=\"776\" dy=\"12\" style=\"font-family: Arial, sans-serif; font-size: 10px; fill: black; font-weight: normal;\">1</tspan></text><text x=\"776\" y=\"5.105983162957159\" text-anchor=\"end\" transform=\"translate(0,-5)\"><tspan alignment-baseline=\"middle\" x=\"776\" style=\"font-family: Arial, sans-serif; font-size: 10px; fill: black; font-weight: bold;\">Ilfracombe</tspan><tspan alignment-baseline=\"middle\" x=\"776\" dy=\"12\" style=\"font-family: Arial, sans-serif; font-size: 10px; fill: black; font-weight: normal;\">1</tspan></text><text x=\"776\" y=\"10.176638604929508\" text-anchor=\"end\" transform=\"translate(0,-5)\"><tspan alignment-baseline=\"middle\" x=\"776\" style=\"font-family: Arial, sans-serif; font-size: 10px; fill: black; font-weight: bold;\">Gualbar Cote d' Affrique [Calabar]</tspan><tspan alignment-baseline=\"middle\" x=\"776\" dy=\"12\" style=\"font-family: Arial, sans-serif; font-size: 10px; fill: black; font-weight: normal;\">1</tspan></text><text x=\"776\" y=\"15.247294046901857\" text-anchor=\"end\" transform=\"translate(0,-5)\"><tspan alignment-baseline=\"middle\" x=\"776\" style=\"font-family: Arial, sans-serif; font-size: 10px; fill: black; font-weight: bold;\">Gonaives</tspan><tspan alignment-baseline=\"middle\" x=\"776\" dy=\"12\" style=\"font-family: Arial, sans-serif; font-size: 10px; fill: black; font-weight: normal;\">1</tspan></text><text x=\"776\" y=\"20.317949488874206\" text-anchor=\"end\" transform=\"translate(0,-5)\"><tspan alignment-baseline=\"middle\" x=\"776\" style=\"font-family: Arial, sans-serif; font-size: 10px; fill: black; font-weight: bold;\">Côte d' Afrique [de l' Ouest]</tspan><tspan alignment-baseline=\"middle\" x=\"776\" dy=\"12\" style=\"font-family: Arial, sans-serif; font-size: 10px; fill: black; font-weight: normal;\">1</tspan></text><text x=\"776\" y=\"25.388604930846554\" text-anchor=\"end\" transform=\"translate(0,-5)\"><tspan alignment-baseline=\"middle\" x=\"776\" style=\"font-family: Arial, sans-serif; font-size: 10px; fill: black; font-weight: bold;\">Pontrieux</tspan><tspan alignment-baseline=\"middle\" x=\"776\" dy=\"12\" style=\"font-family: Arial, sans-serif; font-size: 10px; fill: black; font-weight: normal;\">1</tspan></text><text x=\"776\" y=\"30.459260372818903\" text-anchor=\"end\" transform=\"translate(0,-5)\"><tspan alignment-baseline=\"middle\" x=\"776\" style=\"font-family: Arial, sans-serif; font-size: 10px; fill: black; font-weight: bold;\">Avallon</tspan><tspan alignment-baseline=\"middle\" x=\"776\" dy=\"12\" style=\"font-family: Arial, sans-serif; font-size: 10px; fill: black; font-weight: normal;\">1</tspan></text><text x=\"776\" y=\"35.52991581479125\" text-anchor=\"end\" transform=\"translate(0,-5)\"><tspan alignment-baseline=\"middle\" x=\"776\" style=\"font-family: Arial, sans-serif; font-size: 10px; fill: black; font-weight: bold;\">Quimperlé</tspan><tspan alignment-baseline=\"middle\" x=\"776\" dy=\"12\" style=\"font-family: Arial, sans-serif; font-size: 10px; fill: black; font-weight: normal;\">1</tspan></text><text x=\"776\" y=\"40.6005712567636\" text-anchor=\"end\" transform=\"translate(0,-5)\"><tspan alignment-baseline=\"middle\" x=\"776\" style=\"font-family: Arial, sans-serif; font-size: 10px; fill: black; font-weight: bold;\">Reibnits</tspan><tspan alignment-baseline=\"middle\" x=\"776\" dy=\"12\" style=\"font-family: Arial, sans-serif; font-size: 10px; fill: black; font-weight: normal;\">1</tspan></text><text x=\"776\" y=\"45.67122669873595\" text-anchor=\"end\" transform=\"translate(0,-5)\"><tspan alignment-baseline=\"middle\" x=\"776\" style=\"font-family: Arial, sans-serif; font-size: 10px; fill: black; font-weight: bold;\">Greenock</tspan><tspan alignment-baseline=\"middle\" x=\"776\" dy=\"12\" style=\"font-family: Arial, sans-serif; font-size: 10px; fill: black; font-weight: normal;\">1</tspan></text><text x=\"776\" y=\"50.7418821407083\" text-anchor=\"end\" transform=\"translate(0,-5)\"><tspan alignment-baseline=\"middle\" x=\"776\" style=\"font-family: Arial, sans-serif; font-size: 10px; fill: black; font-weight: bold;\">Galway</tspan><tspan alignment-baseline=\"middle\" x=\"776\" dy=\"12\" style=\"font-family: Arial, sans-serif; font-size: 10px; fill: black; font-weight: normal;\">1</tspan></text><text x=\"776\" y=\"55.81253758268065\" text-anchor=\"end\" transform=\"translate(0,-5)\"><tspan alignment-baseline=\"middle\" x=\"776\" style=\"font-family: Arial, sans-serif; font-size: 10px; fill: black; font-weight: bold;\">Fahrsund</tspan><tspan alignment-baseline=\"middle\" x=\"776\" dy=\"12\" style=\"font-family: Arial, sans-serif; font-size: 10px; fill: black; font-weight: normal;\">1</tspan></text><text x=\"776\" y=\"60.883193024652996\" text-anchor=\"end\" transform=\"translate(0,-5)\"><tspan alignment-baseline=\"middle\" x=\"776\" style=\"font-family: Arial, sans-serif; font-size: 10px; fill: black; font-weight: bold;\">Berwick</tspan><tspan alignment-baseline=\"middle\" x=\"776\" dy=\"12\" style=\"font-family: Arial, sans-serif; font-size: 10px; fill: black; font-weight: normal;\">1</tspan></text><text x=\"776\" y=\"65.95384846662535\" text-anchor=\"end\" transform=\"translate(0,-5)\"><tspan alignment-baseline=\"middle\" x=\"776\" style=\"font-family: Arial, sans-serif; font-size: 10px; fill: black; font-weight: bold;\">Setubal</tspan><tspan alignment-baseline=\"middle\" x=\"776\" dy=\"12\" style=\"font-family: Arial, sans-serif; font-size: 10px; fill: black; font-weight: normal;\">1</tspan></text><text x=\"776\" y=\"71.0245039085977\" text-anchor=\"end\" transform=\"translate(0,-5)\"><tspan alignment-baseline=\"middle\" x=\"776\" style=\"font-family: Arial, sans-serif; font-size: 10px; fill: black; font-weight: bold;\">La Martinique</tspan><tspan alignment-baseline=\"middle\" x=\"776\" dy=\"12\" style=\"font-family: Arial, sans-serif; font-size: 10px; fill: black; font-weight: normal;\">1</tspan></text><text x=\"776\" y=\"76.09515935057004\" text-anchor=\"end\" transform=\"translate(0,-5)\"><tspan alignment-baseline=\"middle\" x=\"776\" style=\"font-family: Arial, sans-serif; font-size: 10px; fill: black; font-weight: bold;\">Colonies anglaises</tspan><tspan alignment-baseline=\"middle\" x=\"776\" dy=\"12\" style=\"font-family: Arial, sans-serif; font-size: 10px; fill: black; font-weight: normal;\">1</tspan></text><text x=\"776\" y=\"81.16581479254239\" text-anchor=\"end\" transform=\"translate(0,-5)\"><tspan alignment-baseline=\"middle\" x=\"776\" style=\"font-family: Arial, sans-serif; font-size: 10px; fill: black; font-weight: bold;\">Croidevie [Croix de Vie]</tspan><tspan alignment-baseline=\"middle\" x=\"776\" dy=\"12\" style=\"font-family: Arial, sans-serif; font-size: 10px; fill: black; font-weight: normal;\">1</tspan></text><text x=\"776\" y=\"86.23647023451474\" text-anchor=\"end\" transform=\"translate(0,-5)\"><tspan alignment-baseline=\"middle\" x=\"776\" style=\"font-family: Arial, sans-serif; font-size: 10px; fill: black; font-weight: bold;\">Bourg [sur Gironde]</tspan><tspan alignment-baseline=\"middle\" x=\"776\" dy=\"12\" style=\"font-family: Arial, sans-serif; font-size: 10px; fill: black; font-weight: normal;\">1</tspan></text><text x=\"776\" y=\"91.30712567648709\" text-anchor=\"end\" transform=\"translate(0,-5)\"><tspan alignment-baseline=\"middle\" x=\"776\" style=\"font-family: Arial, sans-serif; font-size: 10px; fill: black; font-weight: bold;\">Alicant</tspan><tspan alignment-baseline=\"middle\" x=\"776\" dy=\"12\" style=\"font-family: Arial, sans-serif; font-size: 10px; fill: black; font-weight: normal;\">1</tspan></text><text x=\"776\" y=\"96.37778111845944\" text-anchor=\"end\" transform=\"translate(0,-5)\"><tspan alignment-baseline=\"middle\" x=\"776\" style=\"font-family: Arial, sans-serif; font-size: 10px; fill: black; font-weight: bold;\">Cabicorp en Espagne [Espagne</tspan><tspan alignment-baseline=\"middle\" x=\"776\" dy=\"12\" style=\"font-family: Arial, sans-serif; font-size: 10px; fill: black; font-weight: normal;\">1</tspan></text><text x=\"776\" y=\"101.44843656043179\" text-anchor=\"end\" transform=\"translate(0,-5)\"><tspan alignment-baseline=\"middle\" x=\"776\" style=\"font-family: Arial, sans-serif; font-size: 10px; fill: black; font-weight: bold;\">Socoa [Ciboure]</tspan><tspan alignment-baseline=\"middle\" x=\"776\" dy=\"12\" style=\"font-family: Arial, sans-serif; font-size: 10px; fill: black; font-weight: normal;\">1</tspan></text><text x=\"776\" y=\"106.51909200240414\" text-anchor=\"end\" transform=\"translate(0,-5)\"><tspan alignment-baseline=\"middle\" x=\"776\" style=\"font-family: Arial, sans-serif; font-size: 10px; fill: black; font-weight: bold;\">New York</tspan><tspan alignment-baseline=\"middle\" x=\"776\" dy=\"12\" style=\"font-family: Arial, sans-serif; font-size: 10px; fill: black; font-weight: normal;\">1</tspan></text><text x=\"776\" y=\"111.58974744437648\" text-anchor=\"end\" transform=\"translate(0,-5)\"><tspan alignment-baseline=\"middle\" x=\"776\" style=\"font-family: Arial, sans-serif; font-size: 10px; fill: black; font-weight: bold;\">Moss</tspan><tspan alignment-baseline=\"middle\" x=\"776\" dy=\"12\" style=\"font-family: Arial, sans-serif; font-size: 10px; fill: black; font-weight: normal;\">1</tspan></text><text x=\"776\" y=\"116.66040288634883\" text-anchor=\"end\" transform=\"translate(0,-5)\"><tspan alignment-baseline=\"middle\" x=\"776\" style=\"font-family: Arial, sans-serif; font-size: 10px; fill: black; font-weight: bold;\">Fleckfjord</tspan><tspan alignment-baseline=\"middle\" x=\"776\" dy=\"12\" style=\"font-family: Arial, sans-serif; font-size: 10px; fill: black; font-weight: normal;\">1</tspan></text><text x=\"776\" y=\"121.73105832832118\" text-anchor=\"end\" transform=\"translate(0,-5)\"><tspan alignment-baseline=\"middle\" x=\"776\" style=\"font-family: Arial, sans-serif; font-size: 10px; fill: black; font-weight: bold;\">Exeter</tspan><tspan alignment-baseline=\"middle\" x=\"776\" dy=\"12\" style=\"font-family: Arial, sans-serif; font-size: 10px; fill: black; font-weight: normal;\">1</tspan></text><text x=\"776\" y=\"126.80171377029353\" text-anchor=\"end\" transform=\"translate(0,-5)\"><tspan alignment-baseline=\"middle\" x=\"776\" style=\"font-family: Arial, sans-serif; font-size: 10px; fill: black; font-weight: bold;\">Ile d' Ars</tspan><tspan alignment-baseline=\"middle\" x=\"776\" dy=\"12\" style=\"font-family: Arial, sans-serif; font-size: 10px; fill: black; font-weight: normal;\">1</tspan></text><text x=\"776\" y=\"131.87236921226588\" text-anchor=\"end\" transform=\"translate(0,-5)\"><tspan alignment-baseline=\"middle\" x=\"776\" style=\"font-family: Arial, sans-serif; font-size: 10px; fill: black; font-weight: bold;\">Christianson (Norvege)</tspan><tspan alignment-baseline=\"middle\" x=\"776\" dy=\"12\" style=\"font-family: Arial, sans-serif; font-size: 10px; fill: black; font-weight: normal;\">1</tspan></text><text x=\"776\" y=\"136.94302465423823\" text-anchor=\"end\" transform=\"translate(0,-5)\"><tspan alignment-baseline=\"middle\" x=\"776\" style=\"font-family: Arial, sans-serif; font-size: 10px; fill: black; font-weight: bold;\">Appeldaur en Angleterre</tspan><tspan alignment-baseline=\"middle\" x=\"776\" dy=\"12\" style=\"font-family: Arial, sans-serif; font-size: 10px; fill: black; font-weight: normal;\">1</tspan></text><text x=\"776\" y=\"142.01368009621058\" text-anchor=\"end\" transform=\"translate(0,-5)\"><tspan alignment-baseline=\"middle\" x=\"776\" style=\"font-family: Arial, sans-serif; font-size: 10px; fill: black; font-weight: bold;\">Fécamp</tspan><tspan alignment-baseline=\"middle\" x=\"776\" dy=\"12\" style=\"font-family: Arial, sans-serif; font-size: 10px; fill: black; font-weight: normal;\">1</tspan></text><text x=\"776\" y=\"147.08433553818293\" text-anchor=\"end\" transform=\"translate(0,-5)\"><tspan alignment-baseline=\"middle\" x=\"776\" style=\"font-family: Arial, sans-serif; font-size: 10px; fill: black; font-weight: bold;\">Castelnaut</tspan><tspan alignment-baseline=\"middle\" x=\"776\" dy=\"12\" style=\"font-family: Arial, sans-serif; font-size: 10px; fill: black; font-weight: normal;\">1</tspan></text><text x=\"776\" y=\"152.15499098015528\" text-anchor=\"end\" transform=\"translate(0,-5)\"><tspan alignment-baseline=\"middle\" x=\"776\" style=\"font-family: Arial, sans-serif; font-size: 10px; fill: black; font-weight: bold;\">Roscoff</tspan><tspan alignment-baseline=\"middle\" x=\"776\" dy=\"12\" style=\"font-family: Arial, sans-serif; font-size: 10px; fill: black; font-weight: normal;\">1</tspan></text><text x=\"776\" y=\"157.22564642212762\" text-anchor=\"end\" transform=\"translate(0,-5)\"><tspan alignment-baseline=\"middle\" x=\"776\" style=\"font-family: Arial, sans-serif; font-size: 10px; fill: black; font-weight: bold;\">Sette</tspan><tspan alignment-baseline=\"middle\" x=\"776\" dy=\"12\" style=\"font-family: Arial, sans-serif; font-size: 10px; fill: black; font-weight: normal;\">1</tspan></text><text x=\"776\" y=\"162.29630186409997\" text-anchor=\"end\" transform=\"translate(0,-5)\"><tspan alignment-baseline=\"middle\" x=\"776\" style=\"font-family: Arial, sans-serif; font-size: 10px; fill: black; font-weight: bold;\">Southampton</tspan><tspan alignment-baseline=\"middle\" x=\"776\" dy=\"12\" style=\"font-family: Arial, sans-serif; font-size: 10px; fill: black; font-weight: normal;\">1</tspan></text><text x=\"776\" y=\"167.36695730607232\" text-anchor=\"end\" transform=\"translate(0,-5)\"><tspan alignment-baseline=\"middle\" x=\"776\" style=\"font-family: Arial, sans-serif; font-size: 10px; fill: black; font-weight: bold;\">Barfleur</tspan><tspan alignment-baseline=\"middle\" x=\"776\" dy=\"12\" style=\"font-family: Arial, sans-serif; font-size: 10px; fill: black; font-weight: normal;\">1</tspan></text><text x=\"776\" y=\"172.43761274804467\" text-anchor=\"end\" transform=\"translate(0,-5)\"><tspan alignment-baseline=\"middle\" x=\"776\" style=\"font-family: Arial, sans-serif; font-size: 10px; fill: black; font-weight: bold;\">Angleterre</tspan><tspan alignment-baseline=\"middle\" x=\"776\" dy=\"12\" style=\"font-family: Arial, sans-serif; font-size: 10px; fill: black; font-weight: normal;\">1</tspan></text><text x=\"776\" y=\"177.50826819001702\" text-anchor=\"end\" transform=\"translate(0,-5)\"><tspan alignment-baseline=\"middle\" x=\"776\" style=\"font-family: Arial, sans-serif; font-size: 10px; fill: black; font-weight: bold;\">Dundee</tspan><tspan alignment-baseline=\"middle\" x=\"776\" dy=\"12\" style=\"font-family: Arial, sans-serif; font-size: 10px; fill: black; font-weight: normal;\">1</tspan></text><text x=\"776\" y=\"182.57892363198937\" text-anchor=\"end\" transform=\"translate(0,-5)\"><tspan alignment-baseline=\"middle\" x=\"776\" style=\"font-family: Arial, sans-serif; font-size: 10px; fill: black; font-weight: bold;\">Barcelonne</tspan><tspan alignment-baseline=\"middle\" x=\"776\" dy=\"12\" style=\"font-family: Arial, sans-serif; font-size: 10px; fill: black; font-weight: normal;\">1</tspan></text><text x=\"776\" y=\"187.64957907396172\" text-anchor=\"end\" transform=\"translate(0,-5)\"><tspan alignment-baseline=\"middle\" x=\"776\" style=\"font-family: Arial, sans-serif; font-size: 10px; fill: black; font-weight: bold;\">Marblehead</tspan><tspan alignment-baseline=\"middle\" x=\"776\" dy=\"12\" style=\"font-family: Arial, sans-serif; font-size: 10px; fill: black; font-weight: normal;\">1</tspan></text><text x=\"776\" y=\"192.72023451593407\" text-anchor=\"end\" transform=\"translate(0,-5)\"><tspan alignment-baseline=\"middle\" x=\"776\" style=\"font-family: Arial, sans-serif; font-size: 10px; fill: black; font-weight: bold;\">Terre Neuve</tspan><tspan alignment-baseline=\"middle\" x=\"776\" dy=\"12\" style=\"font-family: Arial, sans-serif; font-size: 10px; fill: black; font-weight: normal;\">1</tspan></text><text x=\"776\" y=\"197.79088995790642\" text-anchor=\"end\" transform=\"translate(0,-5)\"><tspan alignment-baseline=\"middle\" x=\"776\" style=\"font-family: Arial, sans-serif; font-size: 10px; fill: black; font-weight: bold;\">Pilau</tspan><tspan alignment-baseline=\"middle\" x=\"776\" dy=\"12\" style=\"font-family: Arial, sans-serif; font-size: 10px; fill: black; font-weight: normal;\">1</tspan></text><text x=\"776\" y=\"202.86154539987876\" text-anchor=\"end\" transform=\"translate(0,-5)\"><tspan alignment-baseline=\"middle\" x=\"776\" style=\"font-family: Arial, sans-serif; font-size: 10px; fill: black; font-weight: bold;\">Le Vivier</tspan><tspan alignment-baseline=\"middle\" x=\"776\" dy=\"12\" style=\"font-family: Arial, sans-serif; font-size: 10px; fill: black; font-weight: normal;\">1</tspan></text><text x=\"776\" y=\"207.9322008418511\" text-anchor=\"end\" transform=\"translate(0,-5)\"><tspan alignment-baseline=\"middle\" x=\"776\" style=\"font-family: Arial, sans-serif; font-size: 10px; fill: black; font-weight: bold;\">Colonies américaines</tspan><tspan alignment-baseline=\"middle\" x=\"776\" dy=\"12\" style=\"font-family: Arial, sans-serif; font-size: 10px; fill: black; font-weight: normal;\">1</tspan></text><text x=\"776\" y=\"213.00285628382346\" text-anchor=\"end\" transform=\"translate(0,-5)\"><tspan alignment-baseline=\"middle\" x=\"776\" style=\"font-family: Arial, sans-serif; font-size: 10px; fill: black; font-weight: bold;\">Penzance</tspan><tspan alignment-baseline=\"middle\" x=\"776\" dy=\"12\" style=\"font-family: Arial, sans-serif; font-size: 10px; fill: black; font-weight: normal;\">1</tspan></text><text x=\"776\" y=\"218.0735117257958\" text-anchor=\"end\" transform=\"translate(0,-5)\"><tspan alignment-baseline=\"middle\" x=\"776\" style=\"font-family: Arial, sans-serif; font-size: 10px; fill: black; font-weight: bold;\">Talmont [Talmont Saint Hilaire]</tspan><tspan alignment-baseline=\"middle\" x=\"776\" dy=\"12\" style=\"font-family: Arial, sans-serif; font-size: 10px; fill: black; font-weight: normal;\">1</tspan></text><text x=\"776\" y=\"223.14416716776816\" text-anchor=\"end\" transform=\"translate(0,-5)\"><tspan alignment-baseline=\"middle\" x=\"776\" style=\"font-family: Arial, sans-serif; font-size: 10px; fill: black; font-weight: bold;\">Copenhague</tspan><tspan alignment-baseline=\"middle\" x=\"776\" dy=\"12\" style=\"font-family: Arial, sans-serif; font-size: 10px; fill: black; font-weight: normal;\">1</tspan></text><text x=\"776\" y=\"228.2148226097405\" text-anchor=\"end\" transform=\"translate(0,-5)\"><tspan alignment-baseline=\"middle\" x=\"776\" style=\"font-family: Arial, sans-serif; font-size: 10px; fill: black; font-weight: bold;\">Rivedoux</tspan><tspan alignment-baseline=\"middle\" x=\"776\" dy=\"12\" style=\"font-family: Arial, sans-serif; font-size: 10px; fill: black; font-weight: normal;\">1</tspan></text><text x=\"776\" y=\"233.28547805171286\" text-anchor=\"end\" transform=\"translate(0,-5)\"><tspan alignment-baseline=\"middle\" x=\"776\" style=\"font-family: Arial, sans-serif; font-size: 10px; fill: black; font-weight: bold;\">Ile d' Aix</tspan><tspan alignment-baseline=\"middle\" x=\"776\" dy=\"12\" style=\"font-family: Arial, sans-serif; font-size: 10px; fill: black; font-weight: normal;\">1</tspan></text><text x=\"9\" y=\"527.5353277209863\" text-anchor=\"start\" transform=\"translate(0,-5)\"><tspan alignment-baseline=\"middle\" x=\"9\" style=\"font-family: Arial, sans-serif; font-size: 10px; fill: black; font-weight: bold;\">Outre-mers</tspan><tspan alignment-baseline=\"middle\" x=\"9\" dy=\"12\" style=\"font-family: Arial, sans-serif; font-size: 10px; fill: black; font-weight: normal;\">1</tspan></text><text x=\"776\" y=\"238.3561334936852\" text-anchor=\"end\" transform=\"translate(0,-5)\"><tspan alignment-baseline=\"middle\" x=\"776\" style=\"font-family: Arial, sans-serif; font-size: 10px; fill: black; font-weight: bold;\">Ile Bourbon</tspan><tspan alignment-baseline=\"middle\" x=\"776\" dy=\"12\" style=\"font-family: Arial, sans-serif; font-size: 10px; fill: black; font-weight: normal;\">1</tspan></text><text x=\"776\" y=\"243.42678893565756\" text-anchor=\"end\" transform=\"translate(0,-5)\"><tspan alignment-baseline=\"middle\" x=\"776\" style=\"font-family: Arial, sans-serif; font-size: 10px; fill: black; font-weight: bold;\">Salcots</tspan><tspan alignment-baseline=\"middle\" x=\"776\" dy=\"12\" style=\"font-family: Arial, sans-serif; font-size: 10px; fill: black; font-weight: normal;\">1</tspan></text><text x=\"776\" y=\"248.4974443776299\" text-anchor=\"end\" transform=\"translate(0,-5)\"><tspan alignment-baseline=\"middle\" x=\"776\" style=\"font-family: Arial, sans-serif; font-size: 10px; fill: black; font-weight: bold;\">Rivière de Bordeaux</tspan><tspan alignment-baseline=\"middle\" x=\"776\" dy=\"12\" style=\"font-family: Arial, sans-serif; font-size: 10px; fill: black; font-weight: normal;\">1</tspan></text><text x=\"776\" y=\"253.56809981960225\" text-anchor=\"end\" transform=\"translate(0,-5)\"><tspan alignment-baseline=\"middle\" x=\"776\" style=\"font-family: Arial, sans-serif; font-size: 10px; fill: black; font-weight: bold;\">La Marque</tspan><tspan alignment-baseline=\"middle\" x=\"776\" dy=\"12\" style=\"font-family: Arial, sans-serif; font-size: 10px; fill: black; font-weight: normal;\">1</tspan></text><text x=\"776\" y=\"258.6387552615746\" text-anchor=\"end\" transform=\"translate(0,-5)\"><tspan alignment-baseline=\"middle\" x=\"776\" style=\"font-family: Arial, sans-serif; font-size: 10px; fill: black; font-weight: bold;\">Chichester</tspan><tspan alignment-baseline=\"middle\" x=\"776\" dy=\"12\" style=\"font-family: Arial, sans-serif; font-size: 10px; fill: black; font-weight: normal;\">1</tspan></text><text x=\"776\" y=\"263.70941070354695\" text-anchor=\"end\" transform=\"translate(0,-5)\"><tspan alignment-baseline=\"middle\" x=\"776\" style=\"font-family: Arial, sans-serif; font-size: 10px; fill: black; font-weight: bold;\">Camarthen</tspan><tspan alignment-baseline=\"middle\" x=\"776\" dy=\"12\" style=\"font-family: Arial, sans-serif; font-size: 10px; fill: black; font-weight: normal;\">1</tspan></text><text x=\"776\" y=\"268.7800661455193\" text-anchor=\"end\" transform=\"translate(0,-5)\"><tspan alignment-baseline=\"middle\" x=\"776\" style=\"font-family: Arial, sans-serif; font-size: 10px; fill: black; font-weight: bold;\">Negton en Ecosse</tspan><tspan alignment-baseline=\"middle\" x=\"776\" dy=\"12\" style=\"font-family: Arial, sans-serif; font-size: 10px; fill: black; font-weight: normal;\">1</tspan></text><text x=\"776\" y=\"273.85072158749165\" text-anchor=\"end\" transform=\"translate(0,-5)\"><tspan alignment-baseline=\"middle\" x=\"776\" style=\"font-family: Arial, sans-serif; font-size: 10px; fill: black; font-weight: bold;\">Bisquai [Pays Basque]</tspan><tspan alignment-baseline=\"middle\" x=\"776\" dy=\"12\" style=\"font-family: Arial, sans-serif; font-size: 10px; fill: black; font-weight: normal;\">1</tspan></text><text x=\"776\" y=\"278.921377029464\" text-anchor=\"end\" transform=\"translate(0,-5)\"><tspan alignment-baseline=\"middle\" x=\"776\" style=\"font-family: Arial, sans-serif; font-size: 10px; fill: black; font-weight: bold;\">Mornac</tspan><tspan alignment-baseline=\"middle\" x=\"776\" dy=\"12\" style=\"font-family: Arial, sans-serif; font-size: 10px; fill: black; font-weight: normal;\">1</tspan></text><text x=\"776\" y=\"283.99203247143635\" text-anchor=\"end\" transform=\"translate(0,-5)\"><tspan alignment-baseline=\"middle\" x=\"776\" style=\"font-family: Arial, sans-serif; font-size: 10px; fill: black; font-weight: bold;\">Lemmer</tspan><tspan alignment-baseline=\"middle\" x=\"776\" dy=\"12\" style=\"font-family: Arial, sans-serif; font-size: 10px; fill: black; font-weight: normal;\">1</tspan></text><text x=\"776\" y=\"289.0626879134087\" text-anchor=\"end\" transform=\"translate(0,-5)\"><tspan alignment-baseline=\"middle\" x=\"776\" style=\"font-family: Arial, sans-serif; font-size: 10px; fill: black; font-weight: bold;\">Ebbin en Pologne [Elbing]</tspan><tspan alignment-baseline=\"middle\" x=\"776\" dy=\"12\" style=\"font-family: Arial, sans-serif; font-size: 10px; fill: black; font-weight: normal;\">1</tspan></text><text x=\"776\" y=\"294.13334335538104\" text-anchor=\"end\" transform=\"translate(0,-5)\"><tspan alignment-baseline=\"middle\" x=\"776\" style=\"font-family: Arial, sans-serif; font-size: 10px; fill: black; font-weight: bold;\">Lisbonne</tspan><tspan alignment-baseline=\"middle\" x=\"776\" dy=\"12\" style=\"font-family: Arial, sans-serif; font-size: 10px; fill: black; font-weight: normal;\">1</tspan></text><text x=\"776\" y=\"299.2039987973534\" text-anchor=\"end\" transform=\"translate(0,-5)\"><tspan alignment-baseline=\"middle\" x=\"776\" style=\"font-family: Arial, sans-serif; font-size: 10px; fill: black; font-weight: bold;\">Rhode Island</tspan><tspan alignment-baseline=\"middle\" x=\"776\" dy=\"12\" style=\"font-family: Arial, sans-serif; font-size: 10px; fill: black; font-weight: normal;\">1</tspan></text><text x=\"776\" y=\"304.27465423932574\" text-anchor=\"end\" transform=\"translate(0,-5)\"><tspan alignment-baseline=\"middle\" x=\"776\" style=\"font-family: Arial, sans-serif; font-size: 10px; fill: black; font-weight: bold;\">Frédérickstad</tspan><tspan alignment-baseline=\"middle\" x=\"776\" dy=\"12\" style=\"font-family: Arial, sans-serif; font-size: 10px; fill: black; font-weight: normal;\">1</tspan></text><text x=\"776\" y=\"309.3453096812981\" text-anchor=\"end\" transform=\"translate(0,-5)\"><tspan alignment-baseline=\"middle\" x=\"776\" style=\"font-family: Arial, sans-serif; font-size: 10px; fill: black; font-weight: bold;\">Ile de Man</tspan><tspan alignment-baseline=\"middle\" x=\"776\" dy=\"12\" style=\"font-family: Arial, sans-serif; font-size: 10px; fill: black; font-weight: normal;\">1</tspan></text><text x=\"776\" y=\"314.41596512327044\" text-anchor=\"end\" transform=\"translate(0,-5)\"><tspan alignment-baseline=\"middle\" x=\"776\" style=\"font-family: Arial, sans-serif; font-size: 10px; fill: black; font-weight: bold;\">Portsmouth</tspan><tspan alignment-baseline=\"middle\" x=\"776\" dy=\"12\" style=\"font-family: Arial, sans-serif; font-size: 10px; fill: black; font-weight: normal;\">1</tspan></text><text x=\"776\" y=\"319.4866205652428\" text-anchor=\"end\" transform=\"translate(0,-5)\"><tspan alignment-baseline=\"middle\" x=\"776\" style=\"font-family: Arial, sans-serif; font-size: 10px; fill: black; font-weight: bold;\">Douarnenez</tspan><tspan alignment-baseline=\"middle\" x=\"776\" dy=\"12\" style=\"font-family: Arial, sans-serif; font-size: 10px; fill: black; font-weight: normal;\">1</tspan></text><text x=\"776\" y=\"324.55727600721514\" text-anchor=\"end\" transform=\"translate(0,-5)\"><tspan alignment-baseline=\"middle\" x=\"776\" style=\"font-family: Arial, sans-serif; font-size: 10px; fill: black; font-weight: bold;\">Barnstable</tspan><tspan alignment-baseline=\"middle\" x=\"776\" dy=\"12\" style=\"font-family: Arial, sans-serif; font-size: 10px; fill: black; font-weight: normal;\">1</tspan></text><text x=\"776\" y=\"329.6279314491875\" text-anchor=\"end\" transform=\"translate(0,-5)\"><tspan alignment-baseline=\"middle\" x=\"776\" style=\"font-family: Arial, sans-serif; font-size: 10px; fill: black; font-weight: bold;\">Charron</tspan><tspan alignment-baseline=\"middle\" x=\"776\" dy=\"12\" style=\"font-family: Arial, sans-serif; font-size: 10px; fill: black; font-weight: normal;\">1</tspan></text><text x=\"776\" y=\"334.733914612146\" text-anchor=\"end\" transform=\"translate(0,-5)\"><tspan alignment-baseline=\"middle\" x=\"776\" style=\"font-family: Arial, sans-serif; font-size: 10px; fill: black; font-weight: bold;\">Virginie</tspan><tspan alignment-baseline=\"middle\" x=\"776\" dy=\"12\" style=\"font-family: Arial, sans-serif; font-size: 10px; fill: black; font-weight: normal;\">2</tspan></text><text x=\"776\" y=\"339.8752254960907\" text-anchor=\"end\" transform=\"translate(0,-5)\"><tspan alignment-baseline=\"middle\" x=\"776\" style=\"font-family: Arial, sans-serif; font-size: 10px; fill: black; font-weight: bold;\">Coureaux [de Ré]</tspan><tspan alignment-baseline=\"middle\" x=\"776\" dy=\"12\" style=\"font-family: Arial, sans-serif; font-size: 10px; fill: black; font-weight: normal;\">2</tspan></text><text x=\"776\" y=\"345.0165363800354\" text-anchor=\"end\" transform=\"translate(0,-5)\"><tspan alignment-baseline=\"middle\" x=\"776\" style=\"font-family: Arial, sans-serif; font-size: 10px; fill: black; font-weight: bold;\">Chaillevette</tspan><tspan alignment-baseline=\"middle\" x=\"776\" dy=\"12\" style=\"font-family: Arial, sans-serif; font-size: 10px; fill: black; font-weight: normal;\">2</tspan></text><text x=\"776\" y=\"350.1578472639801\" text-anchor=\"end\" transform=\"translate(0,-5)\"><tspan alignment-baseline=\"middle\" x=\"776\" style=\"font-family: Arial, sans-serif; font-size: 10px; fill: black; font-weight: bold;\">Santander</tspan><tspan alignment-baseline=\"middle\" x=\"776\" dy=\"12\" style=\"font-family: Arial, sans-serif; font-size: 10px; fill: black; font-weight: normal;\">2</tspan></text><text x=\"776\" y=\"355.2991581479248\" text-anchor=\"end\" transform=\"translate(0,-5)\"><tspan alignment-baseline=\"middle\" x=\"776\" style=\"font-family: Arial, sans-serif; font-size: 10px; fill: black; font-weight: bold;\">Cap [Français]</tspan><tspan alignment-baseline=\"middle\" x=\"776\" dy=\"12\" style=\"font-family: Arial, sans-serif; font-size: 10px; fill: black; font-weight: normal;\">2</tspan></text><text x=\"776\" y=\"360.4404690318695\" text-anchor=\"end\" transform=\"translate(0,-5)\"><tspan alignment-baseline=\"middle\" x=\"776\" style=\"font-family: Arial, sans-serif; font-size: 10px; fill: black; font-weight: bold;\">Madère</tspan><tspan alignment-baseline=\"middle\" x=\"776\" dy=\"12\" style=\"font-family: Arial, sans-serif; font-size: 10px; fill: black; font-weight: normal;\">2</tspan></text><text x=\"776\" y=\"365.5817799158142\" text-anchor=\"end\" transform=\"translate(0,-5)\"><tspan alignment-baseline=\"middle\" x=\"776\" style=\"font-family: Arial, sans-serif; font-size: 10px; fill: black; font-weight: bold;\">Le Chateau [d' Oléron]</tspan><tspan alignment-baseline=\"middle\" x=\"776\" dy=\"12\" style=\"font-family: Arial, sans-serif; font-size: 10px; fill: black; font-weight: normal;\">2</tspan></text><text x=\"776\" y=\"370.7230907997589\" text-anchor=\"end\" transform=\"translate(0,-5)\"><tspan alignment-baseline=\"middle\" x=\"776\" style=\"font-family: Arial, sans-serif; font-size: 10px; fill: black; font-weight: bold;\">Riga</tspan><tspan alignment-baseline=\"middle\" x=\"776\" dy=\"12\" style=\"font-family: Arial, sans-serif; font-size: 10px; fill: black; font-weight: normal;\">2</tspan></text><text x=\"776\" y=\"375.8644016837036\" text-anchor=\"end\" transform=\"translate(0,-5)\"><tspan alignment-baseline=\"middle\" x=\"776\" style=\"font-family: Arial, sans-serif; font-size: 10px; fill: black; font-weight: bold;\">Plymouth</tspan><tspan alignment-baseline=\"middle\" x=\"776\" dy=\"12\" style=\"font-family: Arial, sans-serif; font-size: 10px; fill: black; font-weight: normal;\">2</tspan></text><text x=\"776\" y=\"381.0057125676483\" text-anchor=\"end\" transform=\"translate(0,-5)\"><tspan alignment-baseline=\"middle\" x=\"776\" style=\"font-family: Arial, sans-serif; font-size: 10px; fill: black; font-weight: bold;\">Molde</tspan><tspan alignment-baseline=\"middle\" x=\"776\" dy=\"12\" style=\"font-family: Arial, sans-serif; font-size: 10px; fill: black; font-weight: normal;\">2</tspan></text><text x=\"776\" y=\"386.147023451593\" text-anchor=\"end\" transform=\"translate(0,-5)\"><tspan alignment-baseline=\"middle\" x=\"776\" style=\"font-family: Arial, sans-serif; font-size: 10px; fill: black; font-weight: bold;\">Beddefort</tspan><tspan alignment-baseline=\"middle\" x=\"776\" dy=\"12\" style=\"font-family: Arial, sans-serif; font-size: 10px; fill: black; font-weight: normal;\">2</tspan></text><text x=\"776\" y=\"391.2883343355377\" text-anchor=\"end\" transform=\"translate(0,-5)\"><tspan alignment-baseline=\"middle\" x=\"776\" style=\"font-family: Arial, sans-serif; font-size: 10px; fill: black; font-weight: bold;\">Georgetown</tspan><tspan alignment-baseline=\"middle\" x=\"776\" dy=\"12\" style=\"font-family: Arial, sans-serif; font-size: 10px; fill: black; font-weight: normal;\">2</tspan></text><text x=\"776\" y=\"396.4296452194824\" text-anchor=\"end\" transform=\"translate(0,-5)\"><tspan alignment-baseline=\"middle\" x=\"776\" style=\"font-family: Arial, sans-serif; font-size: 10px; fill: black; font-weight: bold;\">Billiers</tspan><tspan alignment-baseline=\"middle\" x=\"776\" dy=\"12\" style=\"font-family: Arial, sans-serif; font-size: 10px; fill: black; font-weight: normal;\">2</tspan></text><text x=\"776\" y=\"401.5709561034271\" text-anchor=\"end\" transform=\"translate(0,-5)\"><tspan alignment-baseline=\"middle\" x=\"776\" style=\"font-family: Arial, sans-serif; font-size: 10px; fill: black; font-weight: bold;\">Landerneau</tspan><tspan alignment-baseline=\"middle\" x=\"776\" dy=\"12\" style=\"font-family: Arial, sans-serif; font-size: 10px; fill: black; font-weight: normal;\">2</tspan></text><text x=\"776\" y=\"406.7122669873718\" text-anchor=\"end\" transform=\"translate(0,-5)\"><tspan alignment-baseline=\"middle\" x=\"776\" style=\"font-family: Arial, sans-serif; font-size: 10px; fill: black; font-weight: bold;\">en deor des couraux [en dehors des Couraux]</tspan><tspan alignment-baseline=\"middle\" x=\"776\" dy=\"12\" style=\"font-family: Arial, sans-serif; font-size: 10px; fill: black; font-weight: normal;\">2</tspan></text><text x=\"776\" y=\"411.8535778713165\" text-anchor=\"end\" transform=\"translate(0,-5)\"><tspan alignment-baseline=\"middle\" x=\"776\" style=\"font-family: Arial, sans-serif; font-size: 10px; fill: black; font-weight: bold;\">Memel</tspan><tspan alignment-baseline=\"middle\" x=\"776\" dy=\"12\" style=\"font-family: Arial, sans-serif; font-size: 10px; fill: black; font-weight: normal;\">2</tspan></text><text x=\"776\" y=\"416.9948887552612\" text-anchor=\"end\" transform=\"translate(0,-5)\"><tspan alignment-baseline=\"middle\" x=\"776\" style=\"font-family: Arial, sans-serif; font-size: 10px; fill: black; font-weight: bold;\">Zierikzee</tspan><tspan alignment-baseline=\"middle\" x=\"776\" dy=\"12\" style=\"font-family: Arial, sans-serif; font-size: 10px; fill: black; font-weight: normal;\">2</tspan></text><text x=\"776\" y=\"422.13619963920587\" text-anchor=\"end\" transform=\"translate(0,-5)\"><tspan alignment-baseline=\"middle\" x=\"776\" style=\"font-family: Arial, sans-serif; font-size: 10px; fill: black; font-weight: bold;\">Yarmouth</tspan><tspan alignment-baseline=\"middle\" x=\"776\" dy=\"12\" style=\"font-family: Arial, sans-serif; font-size: 10px; fill: black; font-weight: normal;\">2</tspan></text><text x=\"776\" y=\"427.27751052315057\" text-anchor=\"end\" transform=\"translate(0,-5)\"><tspan alignment-baseline=\"middle\" x=\"776\" style=\"font-family: Arial, sans-serif; font-size: 10px; fill: black; font-weight: bold;\">Holmestrand</tspan><tspan alignment-baseline=\"middle\" x=\"776\" dy=\"12\" style=\"font-family: Arial, sans-serif; font-size: 10px; fill: black; font-weight: normal;\">2</tspan></text><text x=\"776\" y=\"432.41882140709527\" text-anchor=\"end\" transform=\"translate(0,-5)\"><tspan alignment-baseline=\"middle\" x=\"776\" style=\"font-family: Arial, sans-serif; font-size: 10px; fill: black; font-weight: bold;\">Concarneau</tspan><tspan alignment-baseline=\"middle\" x=\"776\" dy=\"12\" style=\"font-family: Arial, sans-serif; font-size: 10px; fill: black; font-weight: normal;\">2</tspan></text><text x=\"776\" y=\"437.56013229103996\" text-anchor=\"end\" transform=\"translate(0,-5)\"><tspan alignment-baseline=\"middle\" x=\"776\" style=\"font-family: Arial, sans-serif; font-size: 10px; fill: black; font-weight: bold;\">Côte d' Angole</tspan><tspan alignment-baseline=\"middle\" x=\"776\" dy=\"12\" style=\"font-family: Arial, sans-serif; font-size: 10px; fill: black; font-weight: normal;\">2</tspan></text><text x=\"776\" y=\"442.70144317498466\" text-anchor=\"end\" transform=\"translate(0,-5)\"><tspan alignment-baseline=\"middle\" x=\"776\" style=\"font-family: Arial, sans-serif; font-size: 10px; fill: black; font-weight: bold;\">Philadelphie</tspan><tspan alignment-baseline=\"middle\" x=\"776\" dy=\"12\" style=\"font-family: Arial, sans-serif; font-size: 10px; fill: black; font-weight: normal;\">2</tspan></text><text x=\"776\" y=\"447.84275405892936\" text-anchor=\"end\" transform=\"translate(0,-5)\"><tspan alignment-baseline=\"middle\" x=\"776\" style=\"font-family: Arial, sans-serif; font-size: 10px; fill: black; font-weight: bold;\">Banc de Terre Neuve</tspan><tspan alignment-baseline=\"middle\" x=\"776\" dy=\"12\" style=\"font-family: Arial, sans-serif; font-size: 10px; fill: black; font-weight: normal;\">2</tspan></text><text x=\"776\" y=\"452.98406494287406\" text-anchor=\"end\" transform=\"translate(0,-5)\"><tspan alignment-baseline=\"middle\" x=\"776\" style=\"font-family: Arial, sans-serif; font-size: 10px; fill: black; font-weight: bold;\">Marseille</tspan><tspan alignment-baseline=\"middle\" x=\"776\" dy=\"12\" style=\"font-family: Arial, sans-serif; font-size: 10px; fill: black; font-weight: normal;\">2</tspan></text><text x=\"776\" y=\"458.12537582681875\" text-anchor=\"end\" transform=\"translate(0,-5)\"><tspan alignment-baseline=\"middle\" x=\"776\" style=\"font-family: Arial, sans-serif; font-size: 10px; fill: black; font-weight: bold;\">Pool</tspan><tspan alignment-baseline=\"middle\" x=\"776\" dy=\"12\" style=\"font-family: Arial, sans-serif; font-size: 10px; fill: black; font-weight: normal;\">2</tspan></text><text x=\"776\" y=\"463.26668671076345\" text-anchor=\"end\" transform=\"translate(0,-5)\"><tspan alignment-baseline=\"middle\" x=\"776\" style=\"font-family: Arial, sans-serif; font-size: 10px; fill: black; font-weight: bold;\">Baltimore</tspan><tspan alignment-baseline=\"middle\" x=\"776\" dy=\"12\" style=\"font-family: Arial, sans-serif; font-size: 10px; fill: black; font-weight: normal;\">2</tspan></text><text x=\"776\" y=\"468.4433253156943\" text-anchor=\"end\" transform=\"translate(0,-5)\"><tspan alignment-baseline=\"middle\" x=\"776\" style=\"font-family: Arial, sans-serif; font-size: 10px; fill: black; font-weight: bold;\">Beauvoir-sur-Mer</tspan><tspan alignment-baseline=\"middle\" x=\"776\" dy=\"12\" style=\"font-family: Arial, sans-serif; font-size: 10px; fill: black; font-weight: normal;\">3</tspan></text><text x=\"776\" y=\"473.65529164161137\" text-anchor=\"end\" transform=\"translate(0,-5)\"><tspan alignment-baseline=\"middle\" x=\"776\" style=\"font-family: Arial, sans-serif; font-size: 10px; fill: black; font-weight: bold;\">Ile de Bouin</tspan><tspan alignment-baseline=\"middle\" x=\"776\" dy=\"12\" style=\"font-family: Arial, sans-serif; font-size: 10px; fill: black; font-weight: normal;\">3</tspan></text><text x=\"776\" y=\"478.8672579675284\" text-anchor=\"end\" transform=\"translate(0,-5)\"><tspan alignment-baseline=\"middle\" x=\"776\" style=\"font-family: Arial, sans-serif; font-size: 10px; fill: black; font-weight: bold;\">Saint Sebastien</tspan><tspan alignment-baseline=\"middle\" x=\"776\" dy=\"12\" style=\"font-family: Arial, sans-serif; font-size: 10px; fill: black; font-weight: normal;\">3</tspan></text><text x=\"776\" y=\"484.07922429344546\" text-anchor=\"end\" transform=\"translate(0,-5)\"><tspan alignment-baseline=\"middle\" x=\"776\" style=\"font-family: Arial, sans-serif; font-size: 10px; fill: black; font-weight: bold;\">Gloucester</tspan><tspan alignment-baseline=\"middle\" x=\"776\" dy=\"12\" style=\"font-family: Arial, sans-serif; font-size: 10px; fill: black; font-weight: normal;\">3</tspan></text><text x=\"776\" y=\"489.2911906193625\" text-anchor=\"end\" transform=\"translate(0,-5)\"><tspan alignment-baseline=\"middle\" x=\"776\" style=\"font-family: Arial, sans-serif; font-size: 10px; fill: black; font-weight: bold;\">Stettin</tspan><tspan alignment-baseline=\"middle\" x=\"776\" dy=\"12\" style=\"font-family: Arial, sans-serif; font-size: 10px; fill: black; font-weight: normal;\">3</tspan></text><text x=\"776\" y=\"494.50315694527956\" text-anchor=\"end\" transform=\"translate(0,-5)\"><tspan alignment-baseline=\"middle\" x=\"776\" style=\"font-family: Arial, sans-serif; font-size: 10px; fill: black; font-weight: bold;\">Fouras</tspan><tspan alignment-baseline=\"middle\" x=\"776\" dy=\"12\" style=\"font-family: Arial, sans-serif; font-size: 10px; fill: black; font-weight: normal;\">3</tspan></text><text x=\"776\" y=\"499.7151232711966\" text-anchor=\"end\" transform=\"translate(0,-5)\"><tspan alignment-baseline=\"middle\" x=\"776\" style=\"font-family: Arial, sans-serif; font-size: 10px; fill: black; font-weight: bold;\">Saint Jean de Luz</tspan><tspan alignment-baseline=\"middle\" x=\"776\" dy=\"12\" style=\"font-family: Arial, sans-serif; font-size: 10px; fill: black; font-weight: normal;\">3</tspan></text><text x=\"776\" y=\"504.92708959711365\" text-anchor=\"end\" transform=\"translate(0,-5)\"><tspan alignment-baseline=\"middle\" x=\"776\" style=\"font-family: Arial, sans-serif; font-size: 10px; fill: black; font-weight: bold;\">Bruges</tspan><tspan alignment-baseline=\"middle\" x=\"776\" dy=\"12\" style=\"font-family: Arial, sans-serif; font-size: 10px; fill: black; font-weight: normal;\">3</tspan></text><text x=\"776\" y=\"510.1390559230307\" text-anchor=\"end\" transform=\"translate(0,-5)\"><tspan alignment-baseline=\"middle\" x=\"776\" style=\"font-family: Arial, sans-serif; font-size: 10px; fill: black; font-weight: bold;\">Tingmouth</tspan><tspan alignment-baseline=\"middle\" x=\"776\" dy=\"12\" style=\"font-family: Arial, sans-serif; font-size: 10px; fill: black; font-weight: normal;\">3</tspan></text><text x=\"776\" y=\"515.3510222489477\" text-anchor=\"end\" transform=\"translate(0,-5)\"><tspan alignment-baseline=\"middle\" x=\"776\" style=\"font-family: Arial, sans-serif; font-size: 10px; fill: black; font-weight: bold;\">Carnac</tspan><tspan alignment-baseline=\"middle\" x=\"776\" dy=\"12\" style=\"font-family: Arial, sans-serif; font-size: 10px; fill: black; font-weight: normal;\">3</tspan></text><text x=\"776\" y=\"520.5629885748648\" text-anchor=\"end\" transform=\"translate(0,-5)\"><tspan alignment-baseline=\"middle\" x=\"776\" style=\"font-family: Arial, sans-serif; font-size: 10px; fill: black; font-weight: bold;\">Corck</tspan><tspan alignment-baseline=\"middle\" x=\"776\" dy=\"12\" style=\"font-family: Arial, sans-serif; font-size: 10px; fill: black; font-weight: normal;\">3</tspan></text><text x=\"776\" y=\"525.7749549007818\" text-anchor=\"end\" transform=\"translate(0,-5)\"><tspan alignment-baseline=\"middle\" x=\"776\" style=\"font-family: Arial, sans-serif; font-size: 10px; fill: black; font-weight: bold;\">Saint Esprit</tspan><tspan alignment-baseline=\"middle\" x=\"776\" dy=\"12\" style=\"font-family: Arial, sans-serif; font-size: 10px; fill: black; font-weight: normal;\">3</tspan></text><text x=\"776\" y=\"530.9869212266989\" text-anchor=\"end\" transform=\"translate(0,-5)\"><tspan alignment-baseline=\"middle\" x=\"776\" style=\"font-family: Arial, sans-serif; font-size: 10px; fill: black; font-weight: bold;\">Waterford</tspan><tspan alignment-baseline=\"middle\" x=\"776\" dy=\"12\" style=\"font-family: Arial, sans-serif; font-size: 10px; fill: black; font-weight: normal;\">3</tspan></text><text x=\"776\" y=\"536.1988875526159\" text-anchor=\"end\" transform=\"translate(0,-5)\"><tspan alignment-baseline=\"middle\" x=\"776\" style=\"font-family: Arial, sans-serif; font-size: 10px; fill: black; font-weight: bold;\">Saint André de Cuzac</tspan><tspan alignment-baseline=\"middle\" x=\"776\" dy=\"12\" style=\"font-family: Arial, sans-serif; font-size: 10px; fill: black; font-weight: normal;\">3</tspan></text><text x=\"776\" y=\"541.410853878533\" text-anchor=\"end\" transform=\"translate(0,-5)\"><tspan alignment-baseline=\"middle\" x=\"776\" style=\"font-family: Arial, sans-serif; font-size: 10px; fill: black; font-weight: bold;\">Port Louis</tspan><tspan alignment-baseline=\"middle\" x=\"776\" dy=\"12\" style=\"font-family: Arial, sans-serif; font-size: 10px; fill: black; font-weight: normal;\">3</tspan></text><text x=\"776\" y=\"546.62282020445\" text-anchor=\"end\" transform=\"translate(0,-5)\"><tspan alignment-baseline=\"middle\" x=\"776\" style=\"font-family: Arial, sans-serif; font-size: 10px; fill: black; font-weight: bold;\">Bourcefranc</tspan><tspan alignment-baseline=\"middle\" x=\"776\" dy=\"12\" style=\"font-family: Arial, sans-serif; font-size: 10px; fill: black; font-weight: normal;\">3</tspan></text><text x=\"776\" y=\"551.8347865303671\" text-anchor=\"end\" transform=\"translate(0,-5)\"><tspan alignment-baseline=\"middle\" x=\"776\" style=\"font-family: Arial, sans-serif; font-size: 10px; fill: black; font-weight: bold;\">Plouharnel</tspan><tspan alignment-baseline=\"middle\" x=\"776\" dy=\"12\" style=\"font-family: Arial, sans-serif; font-size: 10px; fill: black; font-weight: normal;\">3</tspan></text><text x=\"776\" y=\"557.0467528562841\" text-anchor=\"end\" transform=\"translate(0,-5)\"><tspan alignment-baseline=\"middle\" x=\"776\" style=\"font-family: Arial, sans-serif; font-size: 10px; fill: black; font-weight: bold;\">Saint Valery</tspan><tspan alignment-baseline=\"middle\" x=\"776\" dy=\"12\" style=\"font-family: Arial, sans-serif; font-size: 10px; fill: black; font-weight: normal;\">3</tspan></text><text x=\"776\" y=\"562.2587191822012\" text-anchor=\"end\" transform=\"translate(0,-5)\"><tspan alignment-baseline=\"middle\" x=\"776\" style=\"font-family: Arial, sans-serif; font-size: 10px; fill: black; font-weight: bold;\">Couarde île de Ré</tspan><tspan alignment-baseline=\"middle\" x=\"776\" dy=\"12\" style=\"font-family: Arial, sans-serif; font-size: 10px; fill: black; font-weight: normal;\">3</tspan></text><text x=\"776\" y=\"567.4706855081182\" text-anchor=\"end\" transform=\"translate(0,-5)\"><tspan alignment-baseline=\"middle\" x=\"776\" style=\"font-family: Arial, sans-serif; font-size: 10px; fill: black; font-weight: bold;\">Bristol</tspan><tspan alignment-baseline=\"middle\" x=\"776\" dy=\"12\" style=\"font-family: Arial, sans-serif; font-size: 10px; fill: black; font-weight: normal;\">3</tspan></text><text x=\"776\" y=\"572.7179795550214\" text-anchor=\"end\" transform=\"translate(0,-5)\"><tspan alignment-baseline=\"middle\" x=\"776\" style=\"font-family: Arial, sans-serif; font-size: 10px; fill: black; font-weight: bold;\">Dans les Couraux</tspan><tspan alignment-baseline=\"middle\" x=\"776\" dy=\"12\" style=\"font-family: Arial, sans-serif; font-size: 10px; fill: black; font-weight: normal;\">4</tspan></text><text x=\"776\" y=\"578.0006013229108\" text-anchor=\"end\" transform=\"translate(0,-5)\"><tspan alignment-baseline=\"middle\" x=\"776\" style=\"font-family: Arial, sans-serif; font-size: 10px; fill: black; font-weight: bold;\">Saint Gilles sur Vie</tspan><tspan alignment-baseline=\"middle\" x=\"776\" dy=\"12\" style=\"font-family: Arial, sans-serif; font-size: 10px; fill: black; font-weight: normal;\">4</tspan></text><text x=\"776\" y=\"583.2832230908002\" text-anchor=\"end\" transform=\"translate(0,-5)\"><tspan alignment-baseline=\"middle\" x=\"776\" style=\"font-family: Arial, sans-serif; font-size: 10px; fill: black; font-weight: bold;\">Liverpool</tspan><tspan alignment-baseline=\"middle\" x=\"776\" dy=\"12\" style=\"font-family: Arial, sans-serif; font-size: 10px; fill: black; font-weight: normal;\">4</tspan></text><text x=\"776\" y=\"588.5658448586896\" text-anchor=\"end\" transform=\"translate(0,-5)\"><tspan alignment-baseline=\"middle\" x=\"776\" style=\"font-family: Arial, sans-serif; font-size: 10px; fill: black; font-weight: bold;\">Dartmouth</tspan><tspan alignment-baseline=\"middle\" x=\"776\" dy=\"12\" style=\"font-family: Arial, sans-serif; font-size: 10px; fill: black; font-weight: normal;\">4</tspan></text><text x=\"776\" y=\"593.848466626579\" text-anchor=\"end\" transform=\"translate(0,-5)\"><tspan alignment-baseline=\"middle\" x=\"776\" style=\"font-family: Arial, sans-serif; font-size: 10px; fill: black; font-weight: bold;\">Frédérickshall</tspan><tspan alignment-baseline=\"middle\" x=\"776\" dy=\"12\" style=\"font-family: Arial, sans-serif; font-size: 10px; fill: black; font-weight: normal;\">4</tspan></text><text x=\"776\" y=\"599.1310883944684\" text-anchor=\"end\" transform=\"translate(0,-5)\"><tspan alignment-baseline=\"middle\" x=\"776\" style=\"font-family: Arial, sans-serif; font-size: 10px; fill: black; font-weight: bold;\">Baden</tspan><tspan alignment-baseline=\"middle\" x=\"776\" dy=\"12\" style=\"font-family: Arial, sans-serif; font-size: 10px; fill: black; font-weight: normal;\">4</tspan></text><text x=\"776\" y=\"604.4137101623578\" text-anchor=\"end\" transform=\"translate(0,-5)\"><tspan alignment-baseline=\"middle\" x=\"776\" style=\"font-family: Arial, sans-serif; font-size: 10px; fill: black; font-weight: bold;\">Harlingen</tspan><tspan alignment-baseline=\"middle\" x=\"776\" dy=\"12\" style=\"font-family: Arial, sans-serif; font-size: 10px; fill: black; font-weight: normal;\">4</tspan></text><text x=\"776\" y=\"609.6963319302472\" text-anchor=\"end\" transform=\"translate(0,-5)\"><tspan alignment-baseline=\"middle\" x=\"776\" style=\"font-family: Arial, sans-serif; font-size: 10px; fill: black; font-weight: bold;\">Taillebourg</tspan><tspan alignment-baseline=\"middle\" x=\"776\" dy=\"12\" style=\"font-family: Arial, sans-serif; font-size: 10px; fill: black; font-weight: normal;\">4</tspan></text><text x=\"776\" y=\"614.9789536981366\" text-anchor=\"end\" transform=\"translate(0,-5)\"><tspan alignment-baseline=\"middle\" x=\"776\" style=\"font-family: Arial, sans-serif; font-size: 10px; fill: black; font-weight: bold;\">Newbury [USA]</tspan><tspan alignment-baseline=\"middle\" x=\"776\" dy=\"12\" style=\"font-family: Arial, sans-serif; font-size: 10px; fill: black; font-weight: normal;\">4</tspan></text><text x=\"776\" y=\"620.261575466026\" text-anchor=\"end\" transform=\"translate(0,-5)\"><tspan alignment-baseline=\"middle\" x=\"776\" style=\"font-family: Arial, sans-serif; font-size: 10px; fill: black; font-weight: bold;\">Saint Denis [d' Oléron]</tspan><tspan alignment-baseline=\"middle\" x=\"776\" dy=\"12\" style=\"font-family: Arial, sans-serif; font-size: 10px; fill: black; font-weight: normal;\">4</tspan></text><text x=\"776\" y=\"625.5441972339154\" text-anchor=\"end\" transform=\"translate(0,-5)\"><tspan alignment-baseline=\"middle\" x=\"776\" style=\"font-family: Arial, sans-serif; font-size: 10px; fill: black; font-weight: bold;\">Norvège</tspan><tspan alignment-baseline=\"middle\" x=\"776\" dy=\"12\" style=\"font-family: Arial, sans-serif; font-size: 10px; fill: black; font-weight: normal;\">4</tspan></text><text x=\"776\" y=\"630.862146722791\" text-anchor=\"end\" transform=\"translate(0,-5)\"><tspan alignment-baseline=\"middle\" x=\"776\" style=\"font-family: Arial, sans-serif; font-size: 10px; fill: black; font-weight: bold;\">Port Navalo</tspan><tspan alignment-baseline=\"middle\" x=\"776\" dy=\"12\" style=\"font-family: Arial, sans-serif; font-size: 10px; fill: black; font-weight: normal;\">5</tspan></text><text x=\"776\" y=\"636.2154239326527\" text-anchor=\"end\" transform=\"translate(0,-5)\"><tspan alignment-baseline=\"middle\" x=\"776\" style=\"font-family: Arial, sans-serif; font-size: 10px; fill: black; font-weight: bold;\">Hennebont</tspan><tspan alignment-baseline=\"middle\" x=\"776\" dy=\"12\" style=\"font-family: Arial, sans-serif; font-size: 10px; fill: black; font-weight: normal;\">5</tspan></text><text x=\"776\" y=\"641.5687011425144\" text-anchor=\"end\" transform=\"translate(0,-5)\"><tspan alignment-baseline=\"middle\" x=\"776\" style=\"font-family: Arial, sans-serif; font-size: 10px; fill: black; font-weight: bold;\">Le Tréport</tspan><tspan alignment-baseline=\"middle\" x=\"776\" dy=\"12\" style=\"font-family: Arial, sans-serif; font-size: 10px; fill: black; font-weight: normal;\">5</tspan></text><text x=\"776\" y=\"646.9219783523762\" text-anchor=\"end\" transform=\"translate(0,-5)\"><tspan alignment-baseline=\"middle\" x=\"776\" style=\"font-family: Arial, sans-serif; font-size: 10px; fill: black; font-weight: bold;\">Saint Pierre et Miquelon</tspan><tspan alignment-baseline=\"middle\" x=\"776\" dy=\"12\" style=\"font-family: Arial, sans-serif; font-size: 10px; fill: black; font-weight: normal;\">5</tspan></text><text x=\"776\" y=\"652.2752555622379\" text-anchor=\"end\" transform=\"translate(0,-5)\"><tspan alignment-baseline=\"middle\" x=\"776\" style=\"font-family: Arial, sans-serif; font-size: 10px; fill: black; font-weight: bold;\">Doort</tspan><tspan alignment-baseline=\"middle\" x=\"776\" dy=\"12\" style=\"font-family: Arial, sans-serif; font-size: 10px; fill: black; font-weight: normal;\">5</tspan></text><text x=\"776\" y=\"657.6285327720997\" text-anchor=\"end\" transform=\"translate(0,-5)\"><tspan alignment-baseline=\"middle\" x=\"776\" style=\"font-family: Arial, sans-serif; font-size: 10px; fill: black; font-weight: bold;\">Dantzick</tspan><tspan alignment-baseline=\"middle\" x=\"776\" dy=\"12\" style=\"font-family: Arial, sans-serif; font-size: 10px; fill: black; font-weight: normal;\">5</tspan></text><text x=\"776\" y=\"662.9818099819614\" text-anchor=\"end\" transform=\"translate(0,-5)\"><tspan alignment-baseline=\"middle\" x=\"776\" style=\"font-family: Arial, sans-serif; font-size: 10px; fill: black; font-weight: bold;\">Christiansand</tspan><tspan alignment-baseline=\"middle\" x=\"776\" dy=\"12\" style=\"font-family: Arial, sans-serif; font-size: 10px; fill: black; font-weight: normal;\">5</tspan></text><text x=\"776\" y=\"668.3350871918232\" text-anchor=\"end\" transform=\"translate(0,-5)\"><tspan alignment-baseline=\"middle\" x=\"776\" style=\"font-family: Arial, sans-serif; font-size: 10px; fill: black; font-weight: bold;\">Bilbao</tspan><tspan alignment-baseline=\"middle\" x=\"776\" dy=\"12\" style=\"font-family: Arial, sans-serif; font-size: 10px; fill: black; font-weight: normal;\">5</tspan></text><text x=\"776\" y=\"673.6883644016849\" text-anchor=\"end\" transform=\"translate(0,-5)\"><tspan alignment-baseline=\"middle\" x=\"776\" style=\"font-family: Arial, sans-serif; font-size: 10px; fill: black; font-weight: bold;\">Blaye</tspan><tspan alignment-baseline=\"middle\" x=\"776\" dy=\"12\" style=\"font-family: Arial, sans-serif; font-size: 10px; fill: black; font-weight: normal;\">5</tspan></text><text x=\"776\" y=\"679.0416416115467\" text-anchor=\"end\" transform=\"translate(0,-5)\"><tspan alignment-baseline=\"middle\" x=\"776\" style=\"font-family: Arial, sans-serif; font-size: 10px; fill: black; font-weight: bold;\">Port Launay</tspan><tspan alignment-baseline=\"middle\" x=\"776\" dy=\"12\" style=\"font-family: Arial, sans-serif; font-size: 10px; fill: black; font-weight: normal;\">5</tspan></text><text x=\"776\" y=\"684.3949188214084\" text-anchor=\"end\" transform=\"translate(0,-5)\"><tspan alignment-baseline=\"middle\" x=\"776\" style=\"font-family: Arial, sans-serif; font-size: 10px; fill: black; font-weight: bold;\">Méan</tspan><tspan alignment-baseline=\"middle\" x=\"776\" dy=\"12\" style=\"font-family: Arial, sans-serif; font-size: 10px; fill: black; font-weight: normal;\">5</tspan></text><text x=\"776\" y=\"689.7481960312701\" text-anchor=\"end\" transform=\"translate(0,-5)\"><tspan alignment-baseline=\"middle\" x=\"776\" style=\"font-family: Arial, sans-serif; font-size: 10px; fill: black; font-weight: bold;\">Bourgneuf</tspan><tspan alignment-baseline=\"middle\" x=\"776\" dy=\"12\" style=\"font-family: Arial, sans-serif; font-size: 10px; fill: black; font-weight: normal;\">5</tspan></text><text x=\"776\" y=\"695.1014732411319\" text-anchor=\"end\" transform=\"translate(0,-5)\"><tspan alignment-baseline=\"middle\" x=\"776\" style=\"font-family: Arial, sans-serif; font-size: 10px; fill: black; font-weight: bold;\">Abbeville</tspan><tspan alignment-baseline=\"middle\" x=\"776\" dy=\"12\" style=\"font-family: Arial, sans-serif; font-size: 10px; fill: black; font-weight: normal;\">5</tspan></text><text x=\"776\" y=\"700.4900781719798\" text-anchor=\"end\" transform=\"translate(0,-5)\"><tspan alignment-baseline=\"middle\" x=\"776\" style=\"font-family: Arial, sans-serif; font-size: 10px; fill: black; font-weight: bold;\">Guernesey</tspan><tspan alignment-baseline=\"middle\" x=\"776\" dy=\"12\" style=\"font-family: Arial, sans-serif; font-size: 10px; fill: black; font-weight: normal;\">6</tspan></text><text x=\"776\" y=\"705.9140108238137\" text-anchor=\"end\" transform=\"translate(0,-5)\"><tspan alignment-baseline=\"middle\" x=\"776\" style=\"font-family: Arial, sans-serif; font-size: 10px; fill: black; font-weight: bold;\">Saint Brieux</tspan><tspan alignment-baseline=\"middle\" x=\"776\" dy=\"12\" style=\"font-family: Arial, sans-serif; font-size: 10px; fill: black; font-weight: normal;\">6</tspan></text><text x=\"776\" y=\"711.3379434756478\" text-anchor=\"end\" transform=\"translate(0,-5)\"><tspan alignment-baseline=\"middle\" x=\"776\" style=\"font-family: Arial, sans-serif; font-size: 10px; fill: black; font-weight: bold;\">Saintes</tspan><tspan alignment-baseline=\"middle\" x=\"776\" dy=\"12\" style=\"font-family: Arial, sans-serif; font-size: 10px; fill: black; font-weight: normal;\">6</tspan></text><text x=\"9\" y=\"532.7826217678894\" text-anchor=\"start\" transform=\"translate(0,-5)\"><tspan alignment-baseline=\"middle\" x=\"9\" style=\"font-family: Arial, sans-serif; font-size: 10px; fill: black; font-weight: bold;\">Portugal</tspan><tspan alignment-baseline=\"middle\" x=\"9\" dy=\"12\" style=\"font-family: Arial, sans-serif; font-size: 10px; fill: black; font-weight: normal;\">6</tspan></text><text x=\"776\" y=\"716.7618761274816\" text-anchor=\"end\" transform=\"translate(0,-5)\"><tspan alignment-baseline=\"middle\" x=\"776\" style=\"font-family: Arial, sans-serif; font-size: 10px; fill: black; font-weight: bold;\">Quimper</tspan><tspan alignment-baseline=\"middle\" x=\"776\" dy=\"12\" style=\"font-family: Arial, sans-serif; font-size: 10px; fill: black; font-weight: normal;\">6</tspan></text><text x=\"776\" y=\"722.1858087793157\" text-anchor=\"end\" transform=\"translate(0,-5)\"><tspan alignment-baseline=\"middle\" x=\"776\" style=\"font-family: Arial, sans-serif; font-size: 10px; fill: black; font-weight: bold;\">Bremen</tspan><tspan alignment-baseline=\"middle\" x=\"776\" dy=\"12\" style=\"font-family: Arial, sans-serif; font-size: 10px; fill: black; font-weight: normal;\">6</tspan></text><text x=\"776\" y=\"727.6097414311498\" text-anchor=\"end\" transform=\"translate(0,-5)\"><tspan alignment-baseline=\"middle\" x=\"776\" style=\"font-family: Arial, sans-serif; font-size: 10px; fill: black; font-weight: bold;\">Newcastle</tspan><tspan alignment-baseline=\"middle\" x=\"776\" dy=\"12\" style=\"font-family: Arial, sans-serif; font-size: 10px; fill: black; font-weight: normal;\">6</tspan></text><text x=\"776\" y=\"733.0690018039701\" text-anchor=\"end\" transform=\"translate(0,-5)\"><tspan alignment-baseline=\"middle\" x=\"776\" style=\"font-family: Arial, sans-serif; font-size: 10px; fill: black; font-weight: bold;\">Rotterdam</tspan><tspan alignment-baseline=\"middle\" x=\"776\" dy=\"12\" style=\"font-family: Arial, sans-serif; font-size: 10px; fill: black; font-weight: normal;\">7</tspan></text><text x=\"776\" y=\"738.5635898977764\" text-anchor=\"end\" transform=\"translate(0,-5)\"><tspan alignment-baseline=\"middle\" x=\"776\" style=\"font-family: Arial, sans-serif; font-size: 10px; fill: black; font-weight: bold;\">Locmariaquer</tspan><tspan alignment-baseline=\"middle\" x=\"776\" dy=\"12\" style=\"font-family: Arial, sans-serif; font-size: 10px; fill: black; font-weight: normal;\">7</tspan></text><text x=\"776\" y=\"744.0581779915829\" text-anchor=\"end\" transform=\"translate(0,-5)\"><tspan alignment-baseline=\"middle\" x=\"776\" style=\"font-family: Arial, sans-serif; font-size: 10px; fill: black; font-weight: bold;\">Boston</tspan><tspan alignment-baseline=\"middle\" x=\"776\" dy=\"12\" style=\"font-family: Arial, sans-serif; font-size: 10px; fill: black; font-weight: normal;\">7</tspan></text><text x=\"776\" y=\"749.5527660853893\" text-anchor=\"end\" transform=\"translate(0,-5)\"><tspan alignment-baseline=\"middle\" x=\"776\" style=\"font-family: Arial, sans-serif; font-size: 10px; fill: black; font-weight: bold;\">dans le Pertuis</tspan><tspan alignment-baseline=\"middle\" x=\"776\" dy=\"12\" style=\"font-family: Arial, sans-serif; font-size: 10px; fill: black; font-weight: normal;\">7</tspan></text><text x=\"776\" y=\"755.0473541791957\" text-anchor=\"end\" transform=\"translate(0,-5)\"><tspan alignment-baseline=\"middle\" x=\"776\" style=\"font-family: Arial, sans-serif; font-size: 10px; fill: black; font-weight: bold;\">Hambourg</tspan><tspan alignment-baseline=\"middle\" x=\"776\" dy=\"12\" style=\"font-family: Arial, sans-serif; font-size: 10px; fill: black; font-weight: normal;\">7</tspan></text><text x=\"776\" y=\"760.5419422730022\" text-anchor=\"end\" transform=\"translate(0,-5)\"><tspan alignment-baseline=\"middle\" x=\"776\" style=\"font-family: Arial, sans-serif; font-size: 10px; fill: black; font-weight: bold;\">Dercie</tspan><tspan alignment-baseline=\"middle\" x=\"776\" dy=\"12\" style=\"font-family: Arial, sans-serif; font-size: 10px; fill: black; font-weight: normal;\">7</tspan></text><text x=\"776\" y=\"766.0365303668086\" text-anchor=\"end\" transform=\"translate(0,-5)\"><tspan alignment-baseline=\"middle\" x=\"776\" style=\"font-family: Arial, sans-serif; font-size: 10px; fill: black; font-weight: bold;\">Loix</tspan><tspan alignment-baseline=\"middle\" x=\"776\" dy=\"12\" style=\"font-family: Arial, sans-serif; font-size: 10px; fill: black; font-weight: normal;\">7</tspan></text><text x=\"776\" y=\"771.5311184606151\" text-anchor=\"end\" transform=\"translate(0,-5)\"><tspan alignment-baseline=\"middle\" x=\"776\" style=\"font-family: Arial, sans-serif; font-size: 10px; fill: black; font-weight: bold;\">La Tranche sur Mer</tspan><tspan alignment-baseline=\"middle\" x=\"776\" dy=\"12\" style=\"font-family: Arial, sans-serif; font-size: 10px; fill: black; font-weight: normal;\">7</tspan></text><text x=\"776\" y=\"777.0610342754076\" text-anchor=\"end\" transform=\"translate(0,-5)\"><tspan alignment-baseline=\"middle\" x=\"776\" style=\"font-family: Arial, sans-serif; font-size: 10px; fill: black; font-weight: bold;\">Hull</tspan><tspan alignment-baseline=\"middle\" x=\"776\" dy=\"12\" style=\"font-family: Arial, sans-serif; font-size: 10px; fill: black; font-weight: normal;\">8</tspan></text><text x=\"776\" y=\"782.6262778111864\" text-anchor=\"end\" transform=\"translate(0,-5)\"><tspan alignment-baseline=\"middle\" x=\"776\" style=\"font-family: Arial, sans-serif; font-size: 10px; fill: black; font-weight: bold;\">Luçon</tspan><tspan alignment-baseline=\"middle\" x=\"776\" dy=\"12\" style=\"font-family: Arial, sans-serif; font-size: 10px; fill: black; font-weight: normal;\">8</tspan></text><text x=\"776\" y=\"788.1915213469649\" text-anchor=\"end\" transform=\"translate(0,-5)\"><tspan alignment-baseline=\"middle\" x=\"776\" style=\"font-family: Arial, sans-serif; font-size: 10px; fill: black; font-weight: bold;\">Eguillon</tspan><tspan alignment-baseline=\"middle\" x=\"776\" dy=\"12\" style=\"font-family: Arial, sans-serif; font-size: 10px; fill: black; font-weight: normal;\">8</tspan></text><text x=\"776\" y=\"793.7920926037298\" text-anchor=\"end\" transform=\"translate(0,-5)\"><tspan alignment-baseline=\"middle\" x=\"776\" style=\"font-family: Arial, sans-serif; font-size: 10px; fill: black; font-weight: bold;\">Arzon</tspan><tspan alignment-baseline=\"middle\" x=\"776\" dy=\"12\" style=\"font-family: Arial, sans-serif; font-size: 10px; fill: black; font-weight: normal;\">9</tspan></text><text x=\"776\" y=\"799.4279915814809\" text-anchor=\"end\" transform=\"translate(0,-5)\"><tspan alignment-baseline=\"middle\" x=\"776\" style=\"font-family: Arial, sans-serif; font-size: 10px; fill: black; font-weight: bold;\">Lubeck</tspan><tspan alignment-baseline=\"middle\" x=\"776\" dy=\"12\" style=\"font-family: Arial, sans-serif; font-size: 10px; fill: black; font-weight: normal;\">9</tspan></text><text x=\"776\" y=\"805.0638905592318\" text-anchor=\"end\" transform=\"translate(0,-5)\"><tspan alignment-baseline=\"middle\" x=\"776\" style=\"font-family: Arial, sans-serif; font-size: 10px; fill: black; font-weight: bold;\">Le Pornic</tspan><tspan alignment-baseline=\"middle\" x=\"776\" dy=\"12\" style=\"font-family: Arial, sans-serif; font-size: 10px; fill: black; font-weight: normal;\">9</tspan></text><text x=\"776\" y=\"810.699789536983\" text-anchor=\"end\" transform=\"translate(0,-5)\"><tspan alignment-baseline=\"middle\" x=\"776\" style=\"font-family: Arial, sans-serif; font-size: 10px; fill: black; font-weight: bold;\">Cherbourg</tspan><tspan alignment-baseline=\"middle\" x=\"776\" dy=\"12\" style=\"font-family: Arial, sans-serif; font-size: 10px; fill: black; font-weight: normal;\">9</tspan></text><text x=\"776\" y=\"816.3710162357202\" text-anchor=\"end\" transform=\"translate(0,-5)\"><tspan alignment-baseline=\"middle\" x=\"776\" style=\"font-family: Arial, sans-serif; font-size: 10px; fill: black; font-weight: bold;\">Morlaix</tspan><tspan alignment-baseline=\"middle\" x=\"776\" dy=\"12\" style=\"font-family: Arial, sans-serif; font-size: 10px; fill: black; font-weight: normal;\">10</tspan></text><text x=\"776\" y=\"822.0775706554437\" text-anchor=\"end\" transform=\"translate(0,-5)\"><tspan alignment-baseline=\"middle\" x=\"776\" style=\"font-family: Arial, sans-serif; font-size: 10px; fill: black; font-weight: bold;\">Cote d' or</tspan><tspan alignment-baseline=\"middle\" x=\"776\" dy=\"12\" style=\"font-family: Arial, sans-serif; font-size: 10px; fill: black; font-weight: normal;\">10</tspan></text><text x=\"9\" y=\"538.3478653036681\" text-anchor=\"start\" transform=\"translate(0,-5)\"><tspan alignment-baseline=\"middle\" x=\"9\" style=\"font-family: Arial, sans-serif; font-size: 10px; fill: black; font-weight: bold;\">Amériques</tspan><tspan alignment-baseline=\"middle\" x=\"9\" dy=\"12\" style=\"font-family: Arial, sans-serif; font-size: 10px; fill: black; font-weight: normal;\">10</tspan></text><text x=\"776\" y=\"827.7841250751669\" text-anchor=\"end\" transform=\"translate(0,-5)\"><tspan alignment-baseline=\"middle\" x=\"776\" style=\"font-family: Arial, sans-serif; font-size: 10px; fill: black; font-weight: bold;\">Auray</tspan><tspan alignment-baseline=\"middle\" x=\"776\" dy=\"12\" style=\"font-family: Arial, sans-serif; font-size: 10px; fill: black; font-weight: normal;\">10</tspan></text><text x=\"776\" y=\"833.5260072158766\" text-anchor=\"end\" transform=\"translate(0,-5)\"><tspan alignment-baseline=\"middle\" x=\"776\" style=\"font-family: Arial, sans-serif; font-size: 10px; fill: black; font-weight: bold;\">Soubise</tspan><tspan alignment-baseline=\"middle\" x=\"776\" dy=\"12\" style=\"font-family: Arial, sans-serif; font-size: 10px; fill: black; font-weight: normal;\">11</tspan></text><text x=\"776\" y=\"839.3385447985586\" text-anchor=\"end\" transform=\"translate(0,-5)\"><tspan alignment-baseline=\"middle\" x=\"776\" style=\"font-family: Arial, sans-serif; font-size: 10px; fill: black; font-weight: bold;\">Le Plomb</tspan><tspan alignment-baseline=\"middle\" x=\"776\" dy=\"12\" style=\"font-family: Arial, sans-serif; font-size: 10px; fill: black; font-weight: normal;\">12</tspan></text><text x=\"9\" y=\"544.1250751653638\" text-anchor=\"start\" transform=\"translate(0,-5)\"><tspan alignment-baseline=\"middle\" x=\"9\" style=\"font-family: Arial, sans-serif; font-size: 10px; fill: black; font-weight: bold;\">Afrique</tspan><tspan alignment-baseline=\"middle\" x=\"9\" dy=\"12\" style=\"font-family: Arial, sans-serif; font-size: 10px; fill: black; font-weight: normal;\">12</tspan></text><text x=\"776\" y=\"845.1864101022265\" text-anchor=\"end\" transform=\"translate(0,-5)\"><tspan alignment-baseline=\"middle\" x=\"776\" style=\"font-family: Arial, sans-serif; font-size: 10px; fill: black; font-weight: bold;\">Saint Valery en Caux</tspan><tspan alignment-baseline=\"middle\" x=\"776\" dy=\"12\" style=\"font-family: Arial, sans-serif; font-size: 10px; fill: black; font-weight: normal;\">12</tspan></text><text x=\"776\" y=\"851.0342754058947\" text-anchor=\"end\" transform=\"translate(0,-5)\"><tspan alignment-baseline=\"middle\" x=\"776\" style=\"font-family: Arial, sans-serif; font-size: 10px; fill: black; font-weight: bold;\">Stavanger</tspan><tspan alignment-baseline=\"middle\" x=\"776\" dy=\"12\" style=\"font-family: Arial, sans-serif; font-size: 10px; fill: black; font-weight: normal;\">12</tspan></text><text x=\"776\" y=\"856.917468430549\" text-anchor=\"end\" transform=\"translate(0,-5)\"><tspan alignment-baseline=\"middle\" x=\"776\" style=\"font-family: Arial, sans-serif; font-size: 10px; fill: black; font-weight: bold;\">Ostende</tspan><tspan alignment-baseline=\"middle\" x=\"776\" dy=\"12\" style=\"font-family: Arial, sans-serif; font-size: 10px; fill: black; font-weight: normal;\">13</tspan></text><text x=\"776\" y=\"862.8359891761893\" text-anchor=\"end\" transform=\"translate(0,-5)\"><tspan alignment-baseline=\"middle\" x=\"776\" style=\"font-family: Arial, sans-serif; font-size: 10px; fill: black; font-weight: bold;\">Chaput</tspan><tspan alignment-baseline=\"middle\" x=\"776\" dy=\"12\" style=\"font-family: Arial, sans-serif; font-size: 10px; fill: black; font-weight: normal;\">13</tspan></text><text x=\"776\" y=\"868.7545099218298\" text-anchor=\"end\" transform=\"translate(0,-5)\"><tspan alignment-baseline=\"middle\" x=\"776\" style=\"font-family: Arial, sans-serif; font-size: 10px; fill: black; font-weight: bold;\">Konigsberg</tspan><tspan alignment-baseline=\"middle\" x=\"776\" dy=\"12\" style=\"font-family: Arial, sans-serif; font-size: 10px; fill: black; font-weight: normal;\">13</tspan></text><text x=\"9\" y=\"550.0435959110042\" text-anchor=\"start\" transform=\"translate(0,-5)\"><tspan alignment-baseline=\"middle\" x=\"9\" style=\"font-family: Arial, sans-serif; font-size: 10px; fill: black; font-weight: bold;\">Espagne</tspan><tspan alignment-baseline=\"middle\" x=\"9\" dy=\"12\" style=\"font-family: Arial, sans-serif; font-size: 10px; fill: black; font-weight: normal;\">14</tspan></text><text x=\"776\" y=\"874.7436861094425\" text-anchor=\"end\" transform=\"translate(0,-5)\"><tspan alignment-baseline=\"middle\" x=\"776\" style=\"font-family: Arial, sans-serif; font-size: 10px; fill: black; font-weight: bold;\">Vannes</tspan><tspan alignment-baseline=\"middle\" x=\"776\" dy=\"12\" style=\"font-family: Arial, sans-serif; font-size: 10px; fill: black; font-weight: normal;\">15</tspan></text><text x=\"776\" y=\"880.8035177390275\" text-anchor=\"end\" transform=\"translate(0,-5)\"><tspan alignment-baseline=\"middle\" x=\"776\" style=\"font-family: Arial, sans-serif; font-size: 10px; fill: black; font-weight: bold;\">Brouage</tspan><tspan alignment-baseline=\"middle\" x=\"776\" dy=\"12\" style=\"font-family: Arial, sans-serif; font-size: 10px; fill: black; font-weight: normal;\">15</tspan></text><text x=\"776\" y=\"886.8633493686126\" text-anchor=\"end\" transform=\"translate(0,-5)\"><tspan alignment-baseline=\"middle\" x=\"776\" style=\"font-family: Arial, sans-serif; font-size: 10px; fill: black; font-weight: bold;\">Royan</tspan><tspan alignment-baseline=\"middle\" x=\"776\" dy=\"12\" style=\"font-family: Arial, sans-serif; font-size: 10px; fill: black; font-weight: normal;\">15</tspan></text><text x=\"9\" y=\"556.1034275405892\" text-anchor=\"start\" transform=\"translate(0,-5)\"><tspan alignment-baseline=\"middle\" x=\"9\" style=\"font-family: Arial, sans-serif; font-size: 10px; fill: black; font-weight: bold;\">Flandre et autres états de l'Empereur</tspan><tspan alignment-baseline=\"middle\" x=\"9\" dy=\"12\" style=\"font-family: Arial, sans-serif; font-size: 10px; fill: black; font-weight: normal;\">16</tspan></text><text x=\"776\" y=\"892.9938364401701\" text-anchor=\"end\" transform=\"translate(0,-5)\"><tspan alignment-baseline=\"middle\" x=\"776\" style=\"font-family: Arial, sans-serif; font-size: 10px; fill: black; font-weight: bold;\">La Teste</tspan><tspan alignment-baseline=\"middle\" x=\"776\" dy=\"12\" style=\"font-family: Arial, sans-serif; font-size: 10px; fill: black; font-weight: normal;\">17</tspan></text><text x=\"776\" y=\"899.1949789536998\" text-anchor=\"end\" transform=\"translate(0,-5)\"><tspan alignment-baseline=\"middle\" x=\"776\" style=\"font-family: Arial, sans-serif; font-size: 10px; fill: black; font-weight: bold;\">Anveaux</tspan><tspan alignment-baseline=\"middle\" x=\"776\" dy=\"12\" style=\"font-family: Arial, sans-serif; font-size: 10px; fill: black; font-weight: normal;\">17</tspan></text><text x=\"776\" y=\"905.3961214672296\" text-anchor=\"end\" transform=\"translate(0,-5)\"><tspan alignment-baseline=\"middle\" x=\"776\" style=\"font-family: Arial, sans-serif; font-size: 10px; fill: black; font-weight: bold;\">Bergen</tspan><tspan alignment-baseline=\"middle\" x=\"776\" dy=\"12\" style=\"font-family: Arial, sans-serif; font-size: 10px; fill: black; font-weight: normal;\">17</tspan></text><text x=\"776\" y=\"911.6325917017455\" text-anchor=\"end\" transform=\"translate(0,-5)\"><tspan alignment-baseline=\"middle\" x=\"776\" style=\"font-family: Arial, sans-serif; font-size: 10px; fill: black; font-weight: bold;\">Noirmoutier</tspan><tspan alignment-baseline=\"middle\" x=\"776\" dy=\"12\" style=\"font-family: Arial, sans-serif; font-size: 10px; fill: black; font-weight: normal;\">18</tspan></text><text x=\"776\" y=\"917.9043896572475\" text-anchor=\"end\" transform=\"translate(0,-5)\"><tspan alignment-baseline=\"middle\" x=\"776\" style=\"font-family: Arial, sans-serif; font-size: 10px; fill: black; font-weight: bold;\">Etaples</tspan><tspan alignment-baseline=\"middle\" x=\"776\" dy=\"12\" style=\"font-family: Arial, sans-serif; font-size: 10px; fill: black; font-weight: normal;\">18</tspan></text><text x=\"776\" y=\"924.2115153337359\" text-anchor=\"end\" transform=\"translate(0,-5)\"><tspan alignment-baseline=\"middle\" x=\"776\" style=\"font-family: Arial, sans-serif; font-size: 10px; fill: black; font-weight: bold;\">Boulogne sur Mer</tspan><tspan alignment-baseline=\"middle\" x=\"776\" dy=\"12\" style=\"font-family: Arial, sans-serif; font-size: 10px; fill: black; font-weight: normal;\">19</tspan></text><text x=\"776\" y=\"930.5892964521964\" text-anchor=\"end\" transform=\"translate(0,-5)\"><tspan alignment-baseline=\"middle\" x=\"776\" style=\"font-family: Arial, sans-serif; font-size: 10px; fill: black; font-weight: bold;\">La Perrotine</tspan><tspan alignment-baseline=\"middle\" x=\"776\" dy=\"12\" style=\"font-family: Arial, sans-serif; font-size: 10px; fill: black; font-weight: normal;\">20</tspan></text><text x=\"776\" y=\"937.0377330126294\" text-anchor=\"end\" transform=\"translate(0,-5)\"><tspan alignment-baseline=\"middle\" x=\"776\" style=\"font-family: Arial, sans-serif; font-size: 10px; fill: black; font-weight: bold;\">Amsterdam</tspan><tspan alignment-baseline=\"middle\" x=\"776\" dy=\"12\" style=\"font-family: Arial, sans-serif; font-size: 10px; fill: black; font-weight: normal;\">21</tspan></text><text x=\"776\" y=\"943.5214972940485\" text-anchor=\"end\" transform=\"translate(0,-5)\"><tspan alignment-baseline=\"middle\" x=\"776\" style=\"font-family: Arial, sans-serif; font-size: 10px; fill: black; font-weight: bold;\">La Flotte en Ré</tspan><tspan alignment-baseline=\"middle\" x=\"776\" dy=\"12\" style=\"font-family: Arial, sans-serif; font-size: 10px; fill: black; font-weight: normal;\">21</tspan></text><text x=\"776\" y=\"950.0052615754676\" text-anchor=\"end\" transform=\"translate(0,-5)\"><tspan alignment-baseline=\"middle\" x=\"776\" style=\"font-family: Arial, sans-serif; font-size: 10px; fill: black; font-weight: bold;\">Calais</tspan><tspan alignment-baseline=\"middle\" x=\"776\" dy=\"12\" style=\"font-family: Arial, sans-serif; font-size: 10px; fill: black; font-weight: normal;\">21</tspan></text><text x=\"776\" y=\"956.4890258568867\" text-anchor=\"end\" transform=\"translate(0,-5)\"><tspan alignment-baseline=\"middle\" x=\"776\" style=\"font-family: Arial, sans-serif; font-size: 10px; fill: black; font-weight: bold;\">Belle Île</tspan><tspan alignment-baseline=\"middle\" x=\"776\" dy=\"12\" style=\"font-family: Arial, sans-serif; font-size: 10px; fill: black; font-weight: normal;\">21</tspan></text><text x=\"776\" y=\"963.0787733012643\" text-anchor=\"end\" transform=\"translate(0,-5)\"><tspan alignment-baseline=\"middle\" x=\"776\" style=\"font-family: Arial, sans-serif; font-size: 10px; fill: black; font-weight: bold;\">Seudre</tspan><tspan alignment-baseline=\"middle\" x=\"776\" dy=\"12\" style=\"font-family: Arial, sans-serif; font-size: 10px; fill: black; font-weight: normal;\">24</tspan></text><text x=\"9\" y=\"562.5871918220083\" text-anchor=\"start\" transform=\"translate(0,-5)\"><tspan alignment-baseline=\"middle\" x=\"9\" style=\"font-family: Arial, sans-serif; font-size: 10px; fill: black; font-weight: bold;\">États-Unis d'Amérique</tspan><tspan alignment-baseline=\"middle\" x=\"9\" dy=\"12\" style=\"font-family: Arial, sans-serif; font-size: 10px; fill: black; font-weight: normal;\">26</tspan></text><text x=\"776\" y=\"969.8451593505728\" text-anchor=\"end\" transform=\"translate(0,-5)\"><tspan alignment-baseline=\"middle\" x=\"776\" style=\"font-family: Arial, sans-serif; font-size: 10px; fill: black; font-weight: bold;\">Dieppe</tspan><tspan alignment-baseline=\"middle\" x=\"776\" dy=\"12\" style=\"font-family: Arial, sans-serif; font-size: 10px; fill: black; font-weight: normal;\">26</tspan></text><text x=\"776\" y=\"976.7175285628398\" text-anchor=\"end\" transform=\"translate(0,-5)\"><tspan alignment-baseline=\"middle\" x=\"776\" style=\"font-family: Arial, sans-serif; font-size: 10px; fill: black; font-weight: bold;\">La Tremblade</tspan><tspan alignment-baseline=\"middle\" x=\"776\" dy=\"12\" style=\"font-family: Arial, sans-serif; font-size: 10px; fill: black; font-weight: normal;\">27</tspan></text><text x=\"776\" y=\"983.625225496093\" text-anchor=\"end\" transform=\"translate(0,-5)\"><tspan alignment-baseline=\"middle\" x=\"776\" style=\"font-family: Arial, sans-serif; font-size: 10px; fill: black; font-weight: bold;\">Baltique</tspan><tspan alignment-baseline=\"middle\" x=\"776\" dy=\"12\" style=\"font-family: Arial, sans-serif; font-size: 10px; fill: black; font-weight: normal;\">27</tspan></text><text x=\"776\" y=\"990.6035778713185\" text-anchor=\"end\" transform=\"translate(0,-5)\"><tspan alignment-baseline=\"middle\" x=\"776\" style=\"font-family: Arial, sans-serif; font-size: 10px; fill: black; font-weight: bold;\">Ars en Ré</tspan><tspan alignment-baseline=\"middle\" x=\"776\" dy=\"12\" style=\"font-family: Arial, sans-serif; font-size: 10px; fill: black; font-weight: normal;\">29</tspan></text><text x=\"776\" y=\"997.6525856885164\" text-anchor=\"end\" transform=\"translate(0,-5)\"><tspan alignment-baseline=\"middle\" x=\"776\" style=\"font-family: Arial, sans-serif; font-size: 10px; fill: black; font-weight: bold;\">Brest</tspan><tspan alignment-baseline=\"middle\" x=\"776\" dy=\"12\" style=\"font-family: Arial, sans-serif; font-size: 10px; fill: black; font-weight: normal;\">29</tspan></text><text x=\"776\" y=\"1004.7369212267005\" text-anchor=\"end\" transform=\"translate(0,-5)\"><tspan alignment-baseline=\"middle\" x=\"776\" style=\"font-family: Arial, sans-serif; font-size: 10px; fill: black; font-weight: bold;\">Saint Malo</tspan><tspan alignment-baseline=\"middle\" x=\"776\" dy=\"12\" style=\"font-family: Arial, sans-serif; font-size: 10px; fill: black; font-weight: normal;\">30</tspan></text><text x=\"776\" y=\"1011.8565844858706\" text-anchor=\"end\" transform=\"translate(0,-5)\"><tspan alignment-baseline=\"middle\" x=\"776\" style=\"font-family: Arial, sans-serif; font-size: 10px; fill: black; font-weight: bold;\">Lorient</tspan><tspan alignment-baseline=\"middle\" x=\"776\" dy=\"12\" style=\"font-family: Arial, sans-serif; font-size: 10px; fill: black; font-weight: normal;\">30</tspan></text><text x=\"776\" y=\"1018.9762477450408\" text-anchor=\"end\" transform=\"translate(0,-5)\"><tspan alignment-baseline=\"middle\" x=\"776\" style=\"font-family: Arial, sans-serif; font-size: 10px; fill: black; font-weight: bold;\">Ile d' Yeu</tspan><tspan alignment-baseline=\"middle\" x=\"776\" dy=\"12\" style=\"font-family: Arial, sans-serif; font-size: 10px; fill: black; font-weight: normal;\">30</tspan></text><text x=\"776\" y=\"1026.0959110042108\" text-anchor=\"end\" transform=\"translate(0,-5)\"><tspan alignment-baseline=\"middle\" x=\"776\" style=\"font-family: Arial, sans-serif; font-size: 10px; fill: black; font-weight: bold;\">Redon</tspan><tspan alignment-baseline=\"middle\" x=\"776\" dy=\"12\" style=\"font-family: Arial, sans-serif; font-size: 10px; fill: black; font-weight: normal;\">30</tspan></text><text x=\"776\" y=\"1033.2509019843671\" text-anchor=\"end\" transform=\"translate(0,-5)\"><tspan alignment-baseline=\"middle\" x=\"776\" style=\"font-family: Arial, sans-serif; font-size: 10px; fill: black; font-weight: bold;\">Rouen</tspan><tspan alignment-baseline=\"middle\" x=\"776\" dy=\"12\" style=\"font-family: Arial, sans-serif; font-size: 10px; fill: black; font-weight: normal;\">31</tspan></text><text x=\"776\" y=\"1040.4765484064958\" text-anchor=\"end\" transform=\"translate(0,-5)\"><tspan alignment-baseline=\"middle\" x=\"776\" style=\"font-family: Arial, sans-serif; font-size: 10px; fill: black; font-weight: bold;\">Granville</tspan><tspan alignment-baseline=\"middle\" x=\"776\" dy=\"12\" style=\"font-family: Arial, sans-serif; font-size: 10px; fill: black; font-weight: normal;\">32</tspan></text><text x=\"776\" y=\"1047.7728502705968\" text-anchor=\"end\" transform=\"translate(0,-5)\"><tspan alignment-baseline=\"middle\" x=\"776\" style=\"font-family: Arial, sans-serif; font-size: 10px; fill: black; font-weight: bold;\">Quiberon</tspan><tspan alignment-baseline=\"middle\" x=\"776\" dy=\"12\" style=\"font-family: Arial, sans-serif; font-size: 10px; fill: black; font-weight: normal;\">33</tspan></text><text x=\"776\" y=\"1055.104479855684\" text-anchor=\"end\" transform=\"translate(0,-5)\"><tspan alignment-baseline=\"middle\" x=\"776\" style=\"font-family: Arial, sans-serif; font-size: 10px; fill: black; font-weight: bold;\">Saint Savinien</tspan><tspan alignment-baseline=\"middle\" x=\"776\" dy=\"12\" style=\"font-family: Arial, sans-serif; font-size: 10px; fill: black; font-weight: normal;\">33</tspan></text><text x=\"776\" y=\"1062.4361094407714\" text-anchor=\"end\" transform=\"translate(0,-5)\"><tspan alignment-baseline=\"middle\" x=\"776\" style=\"font-family: Arial, sans-serif; font-size: 10px; fill: black; font-weight: bold;\">Ribérou [Saujon]</tspan><tspan alignment-baseline=\"middle\" x=\"776\" dy=\"12\" style=\"font-family: Arial, sans-serif; font-size: 10px; fill: black; font-weight: normal;\">33</tspan></text><text x=\"776\" y=\"1069.8030667468447\" text-anchor=\"end\" transform=\"translate(0,-5)\"><tspan alignment-baseline=\"middle\" x=\"776\" style=\"font-family: Arial, sans-serif; font-size: 10px; fill: black; font-weight: bold;\">Le Havre</tspan><tspan alignment-baseline=\"middle\" x=\"776\" dy=\"12\" style=\"font-family: Arial, sans-serif; font-size: 10px; fill: black; font-weight: normal;\">34</tspan></text><text x=\"776\" y=\"1077.3113349368627\" text-anchor=\"end\" transform=\"translate(0,-5)\"><tspan alignment-baseline=\"middle\" x=\"776\" style=\"font-family: Arial, sans-serif; font-size: 10px; fill: black; font-weight: bold;\">Esnandes</tspan><tspan alignment-baseline=\"middle\" x=\"776\" dy=\"12\" style=\"font-family: Arial, sans-serif; font-size: 10px; fill: black; font-weight: normal;\">37</tspan></text><text x=\"9\" y=\"569.9541491280817\" text-anchor=\"start\" transform=\"translate(0,-5)\"><tspan alignment-baseline=\"middle\" x=\"9\" style=\"font-family: Arial, sans-serif; font-size: 10px; fill: black; font-weight: bold;\">Hollande</tspan><tspan alignment-baseline=\"middle\" x=\"9\" dy=\"12\" style=\"font-family: Arial, sans-serif; font-size: 10px; fill: black; font-weight: normal;\">41</tspan></text><text x=\"776\" y=\"1085.10222489477\" text-anchor=\"end\" transform=\"translate(0,-5)\"><tspan alignment-baseline=\"middle\" x=\"776\" style=\"font-family: Arial, sans-serif; font-size: 10px; fill: black; font-weight: bold;\">Saint Michel en l' Herm</tspan><tspan alignment-baseline=\"middle\" x=\"776\" dy=\"12\" style=\"font-family: Arial, sans-serif; font-size: 10px; fill: black; font-weight: normal;\">42</tspan></text><text x=\"776\" y=\"1093.1757366205666\" text-anchor=\"end\" transform=\"translate(0,-5)\"><tspan alignment-baseline=\"middle\" x=\"776\" style=\"font-family: Arial, sans-serif; font-size: 10px; fill: black; font-weight: bold;\">Londres</tspan><tspan alignment-baseline=\"middle\" x=\"776\" dy=\"12\" style=\"font-family: Arial, sans-serif; font-size: 10px; fill: black; font-weight: normal;\">45</tspan></text><text x=\"776\" y=\"1101.5318701142528\" text-anchor=\"end\" transform=\"translate(0,-5)\"><tspan alignment-baseline=\"middle\" x=\"776\" style=\"font-family: Arial, sans-serif; font-size: 10px; fill: black; font-weight: bold;\">Saint Valéry sur Somme</tspan><tspan alignment-baseline=\"middle\" x=\"776\" dy=\"12\" style=\"font-family: Arial, sans-serif; font-size: 10px; fill: black; font-weight: normal;\">50</tspan></text><text x=\"776\" y=\"1110.4179194227315\" text-anchor=\"end\" transform=\"translate(0,-5)\"><tspan alignment-baseline=\"middle\" x=\"776\" style=\"font-family: Arial, sans-serif; font-size: 10px; fill: black; font-weight: bold;\">Gravelines</tspan><tspan alignment-baseline=\"middle\" x=\"776\" dy=\"12\" style=\"font-family: Arial, sans-serif; font-size: 10px; fill: black; font-weight: normal;\">60</tspan></text><text x=\"776\" y=\"1119.7985568250165\" text-anchor=\"end\" transform=\"translate(0,-5)\"><tspan alignment-baseline=\"middle\" x=\"776\" style=\"font-family: Arial, sans-serif; font-size: 10px; fill: black; font-weight: bold;\">Caen</tspan><tspan alignment-baseline=\"middle\" x=\"776\" dy=\"12\" style=\"font-family: Arial, sans-serif; font-size: 10px; fill: black; font-weight: normal;\">64</tspan></text><text x=\"776\" y=\"1129.5677991581495\" text-anchor=\"end\" transform=\"translate(0,-5)\"><tspan alignment-baseline=\"middle\" x=\"776\" style=\"font-family: Arial, sans-serif; font-size: 10px; fill: black; font-weight: bold;\">Sables d' Olonne</tspan><tspan alignment-baseline=\"middle\" x=\"776\" dy=\"12\" style=\"font-family: Arial, sans-serif; font-size: 10px; fill: black; font-weight: normal;\">71</tspan></text><text x=\"776\" y=\"1139.7609741431165\" text-anchor=\"end\" transform=\"translate(0,-5)\"><tspan alignment-baseline=\"middle\" x=\"776\" style=\"font-family: Arial, sans-serif; font-size: 10px; fill: black; font-weight: bold;\"/><tspan alignment-baseline=\"middle\" x=\"776\" dy=\"12\" style=\"font-family: Arial, sans-serif; font-size: 10px; fill: black; font-weight: normal;\">76</tspan></text><text x=\"776\" y=\"1150.4134095009035\" text-anchor=\"end\" transform=\"translate(0,-5)\"><tspan alignment-baseline=\"middle\" x=\"776\" style=\"font-family: Arial, sans-serif; font-size: 10px; fill: black; font-weight: bold;\">Saint Martin de Ré</tspan><tspan alignment-baseline=\"middle\" x=\"776\" dy=\"12\" style=\"font-family: Arial, sans-serif; font-size: 10px; fill: black; font-weight: normal;\">84</tspan></text><text x=\"776\" y=\"1161.3837943475662\" text-anchor=\"end\" transform=\"translate(0,-5)\"><tspan alignment-baseline=\"middle\" x=\"776\" style=\"font-family: Arial, sans-serif; font-size: 10px; fill: black; font-weight: bold;\">Bayonne</tspan><tspan alignment-baseline=\"middle\" x=\"776\" dy=\"12\" style=\"font-family: Arial, sans-serif; font-size: 10px; fill: black; font-weight: normal;\">85</tspan></text><text x=\"776\" y=\"1172.6368009621183\" text-anchor=\"end\" transform=\"translate(0,-5)\"><tspan alignment-baseline=\"middle\" x=\"776\" style=\"font-family: Arial, sans-serif; font-size: 10px; fill: black; font-weight: bold;\">Chalon</tspan><tspan alignment-baseline=\"middle\" x=\"776\" dy=\"12\" style=\"font-family: Arial, sans-serif; font-size: 10px; fill: black; font-weight: normal;\">92</tspan></text><text x=\"776\" y=\"1184.4197233914629\" text-anchor=\"end\" transform=\"translate(0,-5)\"><tspan alignment-baseline=\"middle\" x=\"776\" style=\"font-family: Arial, sans-serif; font-size: 10px; fill: black; font-weight: bold;\">Le Croisic</tspan><tspan alignment-baseline=\"middle\" x=\"776\" dy=\"12\" style=\"font-family: Arial, sans-serif; font-size: 10px; fill: black; font-weight: normal;\">100</tspan></text><text x=\"9\" y=\"579.9706855081178\" text-anchor=\"start\" transform=\"translate(0,-5)\"><tspan alignment-baseline=\"middle\" x=\"9\" style=\"font-family: Arial, sans-serif; font-size: 10px; fill: black; font-weight: bold;\">Nord</tspan><tspan alignment-baseline=\"middle\" x=\"9\" dy=\"12\" style=\"font-family: Arial, sans-serif; font-size: 10px; fill: black; font-weight: normal;\">101</tspan></text><text x=\"9\" y=\"592.2835237522548\" text-anchor=\"start\" transform=\"translate(0,-5)\"><tspan alignment-baseline=\"middle\" x=\"9\" style=\"font-family: Arial, sans-serif; font-size: 10px; fill: black; font-weight: bold;\">pas de partenaire commercial rattaché</tspan><tspan alignment-baseline=\"middle\" x=\"9\" dy=\"12\" style=\"font-family: Arial, sans-serif; font-size: 10px; fill: black; font-weight: normal;\">106</tspan></text><text x=\"776\" y=\"1196.8385447985584\" text-anchor=\"end\" transform=\"translate(0,-5)\"><tspan alignment-baseline=\"middle\" x=\"776\" style=\"font-family: Arial, sans-serif; font-size: 10px; fill: black; font-weight: bold;\">Libourne</tspan><tspan alignment-baseline=\"middle\" x=\"776\" dy=\"12\" style=\"font-family: Arial, sans-serif; font-size: 10px; fill: black; font-weight: normal;\">110</tspan></text><text x=\"776\" y=\"1209.6459711365019\" text-anchor=\"end\" transform=\"translate(0,-5)\"><tspan alignment-baseline=\"middle\" x=\"776\" style=\"font-family: Arial, sans-serif; font-size: 10px; fill: black; font-weight: bold;\">Moricq</tspan><tspan alignment-baseline=\"middle\" x=\"776\" dy=\"12\" style=\"font-family: Arial, sans-serif; font-size: 10px; fill: black; font-weight: normal;\">111</tspan></text><text x=\"9\" y=\"604.9496392062536\" text-anchor=\"start\" transform=\"translate(0,-5)\"><tspan alignment-baseline=\"middle\" x=\"9\" style=\"font-family: Arial, sans-serif; font-size: 10px; fill: black; font-weight: bold;\">Angleterre</tspan><tspan alignment-baseline=\"middle\" x=\"9\" dy=\"12\" style=\"font-family: Arial, sans-serif; font-size: 10px; fill: black; font-weight: normal;\">111</tspan></text><text x=\"776\" y=\"1224.2551112447402\" text-anchor=\"end\" transform=\"translate(0,-5)\"><tspan alignment-baseline=\"middle\" x=\"776\" style=\"font-family: Arial, sans-serif; font-size: 10px; fill: black; font-weight: bold;\">Marennes</tspan><tspan alignment-baseline=\"middle\" x=\"776\" dy=\"12\" style=\"font-family: Arial, sans-serif; font-size: 10px; fill: black; font-weight: normal;\">161</tspan></text><text x=\"776\" y=\"1240.8779314491899\" text-anchor=\"end\" transform=\"translate(0,-5)\"><tspan alignment-baseline=\"middle\" x=\"776\" style=\"font-family: Arial, sans-serif; font-size: 10px; fill: black; font-weight: bold;\">Dunkerque</tspan><tspan alignment-baseline=\"middle\" x=\"776\" dy=\"12\" style=\"font-family: Arial, sans-serif; font-size: 10px; fill: black; font-weight: normal;\">168</tspan></text><text x=\"776\" y=\"1258.595911004211\" text-anchor=\"end\" transform=\"translate(0,-5)\"><tspan alignment-baseline=\"middle\" x=\"776\" style=\"font-family: Arial, sans-serif; font-size: 10px; fill: black; font-weight: bold;\">Rochefort</tspan><tspan alignment-baseline=\"middle\" x=\"776\" dy=\"12\" style=\"font-family: Arial, sans-serif; font-size: 10px; fill: black; font-weight: normal;\">192</tspan></text><text x=\"776\" y=\"1277.1970835838865\" text-anchor=\"end\" transform=\"translate(0,-5)\"><tspan alignment-baseline=\"middle\" x=\"776\" style=\"font-family: Arial, sans-serif; font-size: 10px; fill: black; font-weight: bold;\">Ile de Ré</tspan><tspan alignment-baseline=\"middle\" x=\"776\" dy=\"12\" style=\"font-family: Arial, sans-serif; font-size: 10px; fill: black; font-weight: normal;\">193</tspan></text><text x=\"776\" y=\"1295.9042393265204\" text-anchor=\"end\" transform=\"translate(0,-5)\"><tspan alignment-baseline=\"middle\" x=\"776\" style=\"font-family: Arial, sans-serif; font-size: 10px; fill: black; font-weight: bold;\">Honfleur</tspan><tspan alignment-baseline=\"middle\" x=\"776\" dy=\"12\" style=\"font-family: Arial, sans-serif; font-size: 10px; fill: black; font-weight: normal;\">195</tspan></text><text x=\"776\" y=\"1318.8860493084808\" text-anchor=\"end\" transform=\"translate(0,-5)\"><tspan alignment-baseline=\"middle\" x=\"776\" style=\"font-family: Arial, sans-serif; font-size: 10px; fill: black; font-weight: bold;\">Aligre de Marans</tspan><tspan alignment-baseline=\"middle\" x=\"776\" dy=\"12\" style=\"font-family: Arial, sans-serif; font-size: 10px; fill: black; font-weight: normal;\">314</tspan></text><text x=\"776\" y=\"1346.8843956704773\" text-anchor=\"end\" transform=\"translate(0,-5)\"><tspan alignment-baseline=\"middle\" x=\"776\" style=\"font-family: Arial, sans-serif; font-size: 10px; fill: black; font-weight: bold;\">Côte de Bretagne</tspan><tspan alignment-baseline=\"middle\" x=\"776\" dy=\"12\" style=\"font-family: Arial, sans-serif; font-size: 10px; fill: black; font-weight: normal;\">337</tspan></text><text x=\"776\" y=\"1377.6029765484086\" text-anchor=\"end\" transform=\"translate(0,-5)\"><tspan alignment-baseline=\"middle\" x=\"776\" style=\"font-family: Arial, sans-serif; font-size: 10px; fill: black; font-weight: bold;\">Oléron</tspan><tspan alignment-baseline=\"middle\" x=\"776\" dy=\"12\" style=\"font-family: Arial, sans-serif; font-size: 10px; fill: black; font-weight: normal;\">391</tspan></text><text x=\"776\" y=\"1410.4765484064965\" text-anchor=\"end\" transform=\"translate(0,-5)\"><tspan alignment-baseline=\"middle\" x=\"776\" style=\"font-family: Arial, sans-serif; font-size: 10px; fill: black; font-weight: bold;\">Nantes</tspan><tspan alignment-baseline=\"middle\" x=\"776\" dy=\"12\" style=\"font-family: Arial, sans-serif; font-size: 10px; fill: black; font-weight: normal;\">398</tspan></text><text x=\"776\" y=\"1447.483463619966\" text-anchor=\"end\" transform=\"translate(0,-5)\"><tspan alignment-baseline=\"middle\" x=\"776\" style=\"font-family: Arial, sans-serif; font-size: 10px; fill: black; font-weight: bold;\">Bordeaux</tspan><tspan alignment-baseline=\"middle\" x=\"776\" dy=\"12\" style=\"font-family: Arial, sans-serif; font-size: 10px; fill: black; font-weight: normal;\">508</tspan></text><text x=\"776\" y=\"1494.8767288033694\" text-anchor=\"end\" transform=\"translate(0,-5)\"><tspan alignment-baseline=\"middle\" x=\"776\" style=\"font-family: Arial, sans-serif; font-size: 10px; fill: black; font-weight: bold;\">Charente</tspan><tspan alignment-baseline=\"middle\" x=\"776\" dy=\"12\" style=\"font-family: Arial, sans-serif; font-size: 10px; fill: black; font-weight: normal;\">692</tspan></text><text x=\"776\" y=\"1552.1617558629002\" text-anchor=\"end\" transform=\"translate(0,-5)\"><tspan alignment-baseline=\"middle\" x=\"776\" style=\"font-family: Arial, sans-serif; font-size: 10px; fill: black; font-weight: bold;\">La Rochelle</tspan><tspan alignment-baseline=\"middle\" x=\"776\" dy=\"12\" style=\"font-family: Arial, sans-serif; font-size: 10px; fill: black; font-weight: normal;\">788</tspan></text><text x=\"9\" y=\"833.1855081178591\" text-anchor=\"start\" transform=\"translate(0,-5)\"><tspan alignment-baseline=\"middle\" x=\"9\" style=\"font-family: Arial, sans-serif; font-size: 10px; fill: black; font-weight: bold;\">France</tspan><tspan alignment-baseline=\"middle\" x=\"9\" dy=\"12\" style=\"font-family: Arial, sans-serif; font-size: 10px; fill: black; font-weight: normal;\">6208</tspan></text></g><g><text x=\"782.5\" y=\"-4.000000000001364\" text-anchor=\"middle\" style=\"font-family: Arial, sans-serif; font-size: 12px; fill: rgb(123, 123, 123); font-weight: bold;\">port_navigo</text><text x=\"2.5\" y=\"523.5000000000002\" text-anchor=\"middle\" style=\"font-family: Arial, sans-serif; font-size: 12px; fill: rgb(123, 123, 123); font-weight: bold;\">toflit_partner</text></g></g></svg>"
      ],
      "text/plain": [
       "<IPython.core.display.SVG object>"
      ]
     },
     "execution_count": 7,
     "metadata": {},
     "output_type": "execute_result"
    }
   ],
   "source": [
    "from IPython.core.display import SVG\n",
    "SVG(filename='dumps/visualisations/croisement ports Portic : bureaux des Fermes Navigo - datasprint PORTIC 2021/diagramme_alluvial_ports_partners.svg')"
   ]
  },
  {
   "cell_type": "code",
   "execution_count": null,
   "metadata": {},
   "outputs": [],
   "source": []
  },
  {
   "cell_type": "markdown",
   "metadata": {},
   "source": [
    "## Enquête Navigo\n",
    "\n",
    "#### Objectif : visualisation des données disponibles et avoir une première vue d'ensemble\n",
    "- réseaux bipartites departs / destinations\n",
    "- réseaux monopartites entre ports\n",
    "=> on peut colorer ces réseaux pour identifier les ports concernés par le sprint, ou bien filtrer les données pour ne construire que les noeuds et liens du réseau qui concernent le sprint"
   ]
  },
  {
   "cell_type": "code",
   "execution_count": 1,
   "metadata": {},
   "outputs": [],
   "source": [
    "from poitousprint import Portic, Toflit, get_pointcalls_port_as_toflit_partner, get_flows_or_travels_port_as_toflit_partner\n",
    "import json\n",
    "import networkx as nx\n",
    "from ipysigma import Sigma\n",
    "\n",
    "portic_client = Portic()\n",
    "toflit_client = Toflit()\n",
    "\n",
    "# this function allows to map a value from a domain of min-max to another\n",
    "def map_value(value, domain_min, domain_max, range_min, range_max):\n",
    "    left_span = domain_max - domain_min\n",
    "    right_span = range_max - range_min\n",
    "\n",
    "    # Convert the left range into a 0-1 range (float)\n",
    "    scaled = float(value - domain_min) / float(left_span)\n",
    "\n",
    "    # Convert the 0-1 range into a value in the right range.\n",
    "    return range_min + (scaled * right_span)"
   ]
  },
  {
   "cell_type": "markdown",
   "metadata": {},
   "source": [
    "#### Fonctions génériques qui permettent de fabriquer des réseaux bipartite et monopartite à partir :\n",
    "\n",
    "1. d'une liste de dicts (ex. flux toflit18)\n",
    "2. d'une liste de deux propriétés à comparer"
   ]
  },
  {
   "cell_type": "code",
   "execution_count": 2,
   "metadata": {},
   "outputs": [],
   "source": [
    "def render_coocurrences_graph(data, key_1, key_2, params=None):\n",
    "    # créer un graphe\n",
    "    Graph = nx.Graph()\n",
    "\n",
    "    # créer des dict pour les deux types de noeuds et les liens\n",
    "    key1_uniq = {}\n",
    "    key2_uniq = {}\n",
    "    edges_uniq = {}\n",
    "    default_params = {\n",
    "        \"color_1\": \"rgb(0, 255, 0)\", # noeuds de type 1 en vert\n",
    "        \"color_2\": \"rgb(255, 0, 0)\", # noeuds de type 2 en rouge\n",
    "        \"node_min_size\": 1,\n",
    "        \"node_max_size\": 10\n",
    "    }\n",
    "    final_params = default_params\n",
    "    if params is not None :\n",
    "        final_params = {\n",
    "            *default_params,\n",
    "            *params\n",
    "        }\n",
    "    \n",
    "    # remplir les dicts\n",
    "    for datum in data:\n",
    "        if key_1 in datum and key_2 in datum:\n",
    "            value_1 = datum[key_1] if datum[key_1] is not None else \"undefined\"\n",
    "            value_2 = datum[key_2] if datum[key_2] is not None else \"undefined\"\n",
    "            value_1_id = key_1 + \"_\" + value_1\n",
    "            value_2_id = key_2 + \"_\" + value_2\n",
    "            if value_1_id in key1_uniq:\n",
    "                key1_uniq[value_1_id] = {**key1_uniq[value_1_id], \"size\": key1_uniq[value_1_id][\"size\"] + 1}\n",
    "            else:\n",
    "               key1_uniq[value_1_id] = {\n",
    "                   \"type\": key_1, \n",
    "                   \"name\": value_1, \n",
    "                   \"color\": final_params[\"color_1\"],\n",
    "                   \"size\": 1\n",
    "               }\n",
    "            if value_2_id in key2_uniq:\n",
    "                key2_uniq[value_2_id] = {**key2_uniq[value_2_id], \"size\": key2_uniq[value_2_id][\"size\"] + 1}\n",
    "            else:\n",
    "               key2_uniq[value_2_id] = {\n",
    "                   \"type\": key_2, \n",
    "                   \"name\": value_2, \n",
    "                   \"color\": final_params[\"color_2\"],\n",
    "                   \"size\": 1\n",
    "               }\n",
    "            edge_footprint = value_1_id + \"-\" + value_2_id\n",
    "            if edge_footprint in edges_uniq:\n",
    "                edges_uniq[edge_footprint][\"weight\"] += 1\n",
    "            else:\n",
    "                edges_uniq[edge_footprint] = {\n",
    "                    \"source\": value_1_id,\n",
    "                    \"target\": value_2_id,\n",
    "                    \"weight\": 1\n",
    "                }\n",
    "    # concaténer les deux dicts de noeuds en un seul\n",
    "    all_nodes = key1_uniq\n",
    "    all_nodes.update(key2_uniq)\n",
    "    # applatir et formatter les noeuds\n",
    "    nodes = []\n",
    "    for key, node in all_nodes.items():\n",
    "        nodes.append((key, node))\n",
    "    edges = []\n",
    "\n",
    "    for key, edge in edges_uniq.items():\n",
    "        edges.append((edge[\"source\"], edge[\"target\"], {\"weight\": edge[\"weight\"]}))\n",
    "        \n",
    "    # ajuster la taille des noeuds en fonction d'un min et d'un max donnés\n",
    "    domain_min_nodes_size = min([node[1]['size'] for node in nodes])\n",
    "    domain_max_nodes_size = max([node[1]['size'] for node in nodes])\n",
    "    range_in_nodes_size = [final_params[\"node_min_size\"], final_params[\"node_max_size\"]]\n",
    "    nodes_size_mapping_params = [domain_min_nodes_size, domain_max_nodes_size, *range_in_nodes_size]\n",
    "\n",
    "    for node in nodes:\n",
    "        node[1][\"size\"] = map_value(node[1][\"size\"], *nodes_size_mapping_params)\n",
    "        node[1][\"label\"] = node[1][\"name\"]\n",
    "\n",
    "\n",
    "    Graph.add_nodes_from(nodes)\n",
    "    Graph.add_edges_from(edges)\n",
    "\n",
    "    return Sigma(Graph, start_layout=True)"
   ]
  },
  {
   "cell_type": "code",
   "execution_count": 34,
   "metadata": {},
   "outputs": [],
   "source": [
    "def render_monopartite_graph_port_exchanges(data, key_1, key_2, params=None): # data could be Navigo flows or travels \n",
    "\n",
    "    # créer un graphe\n",
    "    Graph = nx.Graph()\n",
    "\n",
    "    # créer des dict pour l'unique type de noeuds et les liens\n",
    "    key_uniq = {}\n",
    "    edges_uniq = {}\n",
    "    default_params = {\n",
    "        \"color_1\": \"rgb(0, 255, 0)\", # noeuds de type 1 en vert\n",
    "        \"color_2\": \"rgb(255, 0, 0)\", # noeuds de type 2 en rouge\n",
    "        \"node_min_size\": 1,\n",
    "        \"node_max_size\": 10\n",
    "    }\n",
    "    final_params = default_params\n",
    "    if params is not None :\n",
    "        final_params = {\n",
    "            *default_params,\n",
    "            *params\n",
    "        }\n",
    "        \n",
    "    # remplir les dicts\n",
    "    for datum in data:\n",
    "        if key_1 in datum and key_2 in datum:\n",
    "            value_1 = datum[key_1] if datum[key_1] is not None else \"undefined\"\n",
    "            value_2 = datum[key_2] if datum[key_2] is not None else \"undefined\"\n",
    "            value_1_id = value_1_id = key_1 + \"_\" + value_1\n",
    "            value_2_id = key_2 + \"_\" + value_2\n",
    "\n",
    "            if value_1_id in key_uniq:\n",
    "                key_uniq[value_1_id] = {**key_uniq[value_1_id], \"size\": key_uniq[value_1_id][\"size\"] + 1}\n",
    "            else:\n",
    "               key_uniq[value_1_id] = {\n",
    "                   \"type\": key_1, \n",
    "                   \"label\": value_1, \n",
    "                   \"color\": \"rgb(0, 255, 0)\",\n",
    "                   \"size\": 1\n",
    "               }\n",
    "\n",
    "            if value_2_id in key_uniq:\n",
    "                key_uniq[value_2_id] = {**key_uniq[value_2_id], \"size\": key_uniq[value_2_id][\"size\"] + 1}\n",
    "            else:\n",
    "               key_uniq[value_2_id] = {\n",
    "                   \"type\": key_2, \n",
    "                   \"label\": value_2, \n",
    "                   \"color\": \"rgb(0, 255, 0)\",\n",
    "                   \"size\": 1\n",
    "               }\n",
    "\n",
    "            edge_footprint = value_1_id + \"-\" + value_2_id\n",
    "\n",
    "            if edge_footprint in edges_uniq:\n",
    "                edges_uniq[edge_footprint][\"weight\"] += 1\n",
    "            else:\n",
    "                edges_uniq[edge_footprint] = {\n",
    "                    \"source\": value_1_id,\n",
    "                    \"target\": value_2_id,\n",
    "                    \"weight\": 1\n",
    "                }\n",
    "    \n",
    "    \n",
    "    # concaténer les deux dicts de noeuds en un seul => obsolète dans ce cas\n",
    "    all_nodes = key_uniq\n",
    "    # all_nodes.update(# autre dict de noeuds )\n",
    "\n",
    "    # applatir et formatter les noeuds\n",
    "    nodes = []\n",
    "    for key, node in all_nodes.items():\n",
    "        nodes.append((key, node))\n",
    "    edges = []\n",
    "\n",
    "    for key, edge in edges_uniq.items():\n",
    "        edges.append((edge[\"source\"], edge[\"target\"], {\"weight\": edge[\"weight\"]}))\n",
    "\n",
    "    domain_min_nodes_size = min([node[1]['size'] for node in nodes])\n",
    "    domain_max_nodes_size = max([node[1]['size'] for node in nodes])\n",
    "    range_in_nodes_size = [1, 10]\n",
    "    nodes_size_mapping_params = [domain_min_nodes_size, domain_max_nodes_size, *range_in_nodes_size]\n",
    "\n",
    "    for node in nodes:\n",
    "        node[1][\"size\"] = map_value(node[1][\"size\"], *nodes_size_mapping_params)\n",
    "        # node[1][\"label\"] = node[1][\"name\"]\n",
    "    \n",
    "    Graph.add_nodes_from(nodes)\n",
    "    Graph.add_edges_from(edges)\n",
    "\n",
    "    return Sigma(Graph, start_layout=True)"
   ]
  },
  {
   "cell_type": "markdown",
   "metadata": {},
   "source": [
    "# 0. Je vais chercher les pointcalls / flows / travels du sprint (côté Navigo) pour nourrir mes réseaux"
   ]
  },
  {
   "cell_type": "code",
   "execution_count": 3,
   "metadata": {},
   "outputs": [],
   "source": [
    "pointcalls_datasprint = portic_client.get_pointcalls(\n",
    "    year =1789,\n",
    "    source_subset = 'Poitou_1789')\n",
    "\n",
    "pointcalls_with_toflit_partners = get_pointcalls_port_as_toflit_partner(pointcalls_datasprint, 'partner_grouping')"
   ]
  },
  {
   "cell_type": "code",
   "execution_count": 4,
   "metadata": {},
   "outputs": [
    {
     "data": {
      "text/plain": [
       "{'pkid': 93362,\n",
       " 'record_id': '00349916',\n",
       " 'pointcall': 'Arzon',\n",
       " 'pointcall_uhgs_id': 'A0145524',\n",
       " 'toponyme_fr': 'Arzon',\n",
       " 'toponyme_en': 'Arzon',\n",
       " 'latitude': '47.549033',\n",
       " 'longitude': '-2.893367',\n",
       " 'pointcall_admiralty': 'Vannes',\n",
       " 'pointcall_province': 'Bretagne',\n",
       " 'pointcall_states': '[{\"1749-1815\" : \"France\"}]',\n",
       " 'pointcall_substates': None,\n",
       " 'pointcall_states_en': '[{\"1749-1815\" : \"France\"}]',\n",
       " 'pointcall_substates_en': None,\n",
       " 'state_1789_fr': 'France',\n",
       " 'state_1789_en': 'France',\n",
       " 'substate_1789_fr': None,\n",
       " 'substate_1789_en': None,\n",
       " 'source_1787_available': False,\n",
       " 'source_1789_available': False,\n",
       " 'pointcall_status': None,\n",
       " 'shiparea': 'ACE-IROI',\n",
       " 'pointcall_point': '0101000020110F0000D5408190A0A813C166F399CFC6025741',\n",
       " 'ferme_direction': None,\n",
       " 'ferme_bureau': None,\n",
       " 'ferme_bureau_uncertainty': None,\n",
       " 'partner_balance_1789': None,\n",
       " 'partner_balance_supp_1789': 'France',\n",
       " 'partner_balance_1789_uncertainty': None,\n",
       " 'partner_balance_supp_1789_uncertainty': 0.0,\n",
       " 'pointcall_out_date': None,\n",
       " 'pointcall_action': 'In',\n",
       " 'outdate_fixed': None,\n",
       " 'pointcall_in_date': '1789>05>26',\n",
       " 'indate_fixed': None,\n",
       " 'net_route_marker': 'A',\n",
       " 'pointcall_function': 'T',\n",
       " 'navigo_status': 'FC-RF',\n",
       " 'ship_name': 'Sainte Anne',\n",
       " 'ship_id': '0012865N',\n",
       " 'tonnage': '7',\n",
       " 'tonnage_unit': 'tx',\n",
       " 'flag': 'French',\n",
       " 'class': None,\n",
       " 'ship_flag_id': 'A0167415',\n",
       " 'in_crew': None,\n",
       " 'homeport': 'Arzon',\n",
       " 'homeport_uhgs_id': 'A0145524',\n",
       " 'homeport_toponyme_fr': 'Arzon',\n",
       " 'homeport_toponyme_en': 'Arzon',\n",
       " 'homeport_latitude': '47.549033',\n",
       " 'homeport_longitude': '-2.893367',\n",
       " 'homeport_admiralty': 'Vannes',\n",
       " 'homeport_province': 'Bretagne',\n",
       " 'homeport_states': '[{\"1749-1815\" : \"France\"}]',\n",
       " 'homeport_substates': None,\n",
       " 'homeport_states_en': '[{\"1749-1815\" : \"France\"}]',\n",
       " 'homeport_substates_en': None,\n",
       " 'homeport_state_1789_fr': 'France',\n",
       " 'homeport_state_1789_en': 'France',\n",
       " 'homeport_substate_1789_fr': None,\n",
       " 'homeport_substate_1789_en': None,\n",
       " 'homeport_source_1787_available': False,\n",
       " 'homeport_source_1789_available': False,\n",
       " 'homeport_status': None,\n",
       " 'homeport_shiparea': 'ACE-IROI',\n",
       " 'homeport_point': 'SRID=3857;POINT(-322088.141118062 6032155.24377141)',\n",
       " 'homeport_ferme_direction': None,\n",
       " 'homeport_ferme_bureau': None,\n",
       " 'homeport_ferme_bureau_uncertainty': None,\n",
       " 'homeport_partner_balance_1789': None,\n",
       " 'homeport_partner_balance_supp_1789': 'France',\n",
       " 'homeport_partner_balance_1789_uncertainty': None,\n",
       " 'homeport_partner_balance_supp_1789_uncertainty': 0.0,\n",
       " 'source_doc_id': '00340015',\n",
       " 'source_text': 'ANF, G5-91/9370',\n",
       " 'source_suite': 'G5',\n",
       " 'source_component': 'ANF, G5-91',\n",
       " 'source_number': 9370.0,\n",
       " 'source_other': None,\n",
       " 'source_main_port_uhgs_id': 'A0199508',\n",
       " 'source_main_port_toponyme': 'La Flotte en Ré',\n",
       " 'source_subset': 'Poitou_1789',\n",
       " 'captain_id': '00012789',\n",
       " 'captain_name': 'Rouallec, François',\n",
       " 'birthplace': None,\n",
       " 'status': None,\n",
       " 'citizenship': None,\n",
       " 'commodity_purpose': 'vin',\n",
       " 'commodity_id': '00000043',\n",
       " 'quantity': None,\n",
       " 'quantity_u': None,\n",
       " 'commodity_standardized': 'Wine',\n",
       " 'commodity_standardized_fr': 'Vin',\n",
       " 'commodity_permanent_coding': 'ID-FFBxxx-JF-FAAAxx-FBxx',\n",
       " 'all_cargos': [{'quantity': None,\n",
       "   'quantity_u': None,\n",
       "   'commodity_id': '00000043',\n",
       "   'commodity_purpose': 'vin',\n",
       "   'link_to_pointcall': '00340015',\n",
       "   'commodity_standardized_en': 'Wine',\n",
       "   'commodity_standardized_fr': 'Vin',\n",
       "   'commodity_permanent_coding': 'ID-FFBxxx-JF-FAAAxx-FBxx'}],\n",
       " 'tax_concept': 'Droit de congé français',\n",
       " 'payment_date': None,\n",
       " 'q01': None,\n",
       " 'q01_u': None,\n",
       " 'q02': '10.0',\n",
       " 'q02_u': None,\n",
       " 'q03': None,\n",
       " 'q03_u': None,\n",
       " 'all_taxes': [{'q01': None,\n",
       "   'q02': '10.0',\n",
       "   'q03': None,\n",
       "   'q01_u': None,\n",
       "   'q02_u': None,\n",
       "   'q03_u': None,\n",
       "   'tax_concept': 'Droit de congé français',\n",
       "   'payment_date': None,\n",
       "   'link_to_pointcall': '00340015'}],\n",
       " 'ship_uncertainity': 0,\n",
       " 'tonnage_uncertainity': 0,\n",
       " 'flag_uncertainity': -2,\n",
       " 'homeport_uncertainity': 0,\n",
       " 'pointcall_uncertainity': -1,\n",
       " 'captain_uncertainity': 0,\n",
       " 'cargo_uncertainity': 0,\n",
       " 'taxe_uncertainity': 0,\n",
       " 'pointcall_in_date2': '1789=05=26',\n",
       " 'pointcall_out_date2': None,\n",
       " 'date_fixed': None,\n",
       " 'pointcall_rankfull': 15,\n",
       " 'ship_flag_standardized_fr': 'français',\n",
       " 'ship_flag_standardized_en': 'French',\n",
       " 'tonnage_class': '[1-20]',\n",
       " 'commodity_purpose2': None,\n",
       " 'commodity_id2': None,\n",
       " 'quantity2': None,\n",
       " 'quantity_u2': None,\n",
       " 'commodity_standardized2': None,\n",
       " 'commodity_standardized2_fr': None,\n",
       " 'commodity_permanent_coding2': None,\n",
       " 'commodity_purpose3': None,\n",
       " 'commodity_id3': None,\n",
       " 'quantity3': None,\n",
       " 'quantity_u3': None,\n",
       " 'commodity_standardized3': None,\n",
       " 'commodity_standardized3_fr': None,\n",
       " 'commodity_permanent_coding3': None,\n",
       " 'commodity_purpose4': None,\n",
       " 'commodity_id4': None,\n",
       " 'quantity4': None,\n",
       " 'quantity_u4': None,\n",
       " 'commodity_standardized4': None,\n",
       " 'commodity_standardized4_fr': None,\n",
       " 'commodity_permanent_coding4': None,\n",
       " 'data_block_leader_marker': 'T',\n",
       " 'pointcall_outdate_uncertainity': -1,\n",
       " 'shipclass_uncertainity': -4,\n",
       " 'birthplace_uhgs_id_uncertainity': -4,\n",
       " 'birthplace_uncertainity': -4,\n",
       " 'citizenship_uncertainity': -4,\n",
       " 'birthplace_uhgs_id': None,\n",
       " 'pointcall_as_toflit_partner': 'France'}"
      ]
     },
     "execution_count": 4,
     "metadata": {},
     "output_type": "execute_result"
    }
   ],
   "source": [
    "pointcalls_with_toflit_partners[0]"
   ]
  },
  {
   "cell_type": "code",
   "execution_count": 5,
   "metadata": {},
   "outputs": [
    {
     "data": {
      "text/plain": [
       "13829"
      ]
     },
     "execution_count": 5,
     "metadata": {},
     "output_type": "execute_result"
    }
   ],
   "source": [
    "len(pointcalls_datasprint)"
   ]
  },
  {
   "cell_type": "code",
   "execution_count": 7,
   "metadata": {},
   "outputs": [],
   "source": [
    "flows_datasprint = portic_client.get_flows(\n",
    "        ports = ['A1964694', # je fonctionne avec tous les UHGS_id des ports associés à la direction des fermes de La Rochelle (voir fichier aligenement localités dans le drive : Noirmoutier et Ile de Bouin sont pris en compte)\n",
    "                'A0171758',\n",
    "                'A0136930',\n",
    "                'A0196496',\n",
    "                'A0198999',\n",
    "                'A0137148',\n",
    "                'A0127055',\n",
    "                'A0133403',\n",
    "                'A0213721',\n",
    "                'A0199508',\n",
    "                'A0148208',\n",
    "                'A0141325',\n",
    "                'A0138533',\n",
    "                'A1964982',\n",
    "                'A0186515',\n",
    "                'A0124809',\n",
    "                'A1964767',\n",
    "                'A0172590',\n",
    "                'A0181608',\n",
    "                'A0165077',\n",
    "                'A0169240',\n",
    "                'A0165056',\n",
    "                'A1963997',\n",
    "                'A0136403',\n",
    "                'A0195938',\n",
    "                'A0122971',\n",
    "                'A0207992'], # sinon on devrait pouvoir fonctionner avec source_subset = 'Poitou_1789' mais pour l'instant ne fonctionne pas pour moi\n",
    "    year = 1789)\n",
    "\n",
    "# cette fonction ajoute les attributs \"departure_fr_as_toflit_partner\" et \"destination_fr_as_toflit_partner\" à un flow ou travel navigo (à perfectionner => pour l'instant elle n'associe pas de partenaire aux ports Etrangers du sprint, et ne semble fonctionner que pour la France ...)\n",
    "flows_with_toflit_partners = get_flows_or_travels_port_as_toflit_partner(flows_datasprint, 'partner_grouping')"
   ]
  },
  {
   "cell_type": "code",
   "execution_count": 8,
   "metadata": {},
   "outputs": [
    {
     "data": {
      "text/plain": [
       "{'travel_id': '0000138N- 07',\n",
       " 'distance_dep_dest': 221.509,\n",
       " 'distance_homeport_dep': None,\n",
       " 'departure': 'La Rochelle',\n",
       " 'departure_fr': 'La Rochelle',\n",
       " 'departure_en': 'La Rochelle',\n",
       " 'departure_uhgs_id': 'A0198999',\n",
       " 'departure_latitude': '46.166667',\n",
       " 'departure_longitude': '-1.15',\n",
       " 'departure_admiralty': 'La Rochelle',\n",
       " 'departure_province': 'Aunis',\n",
       " 'departure_states': '[{\"1749-1815\" : \"France\"}]',\n",
       " 'departure_substates': None,\n",
       " 'departure_state_1789_fr': 'France',\n",
       " 'departure_substate_1789_fr': None,\n",
       " 'departure_state_1789_en': 'France',\n",
       " 'departure_substate_1789_en': None,\n",
       " 'departure_ferme_direction': 'La Rochelle',\n",
       " 'departure_ferme_bureau': 'La Rochelle',\n",
       " 'departure_ferme_bureau_uncertainty': 0.0,\n",
       " 'departure_partner_balance_1789': None,\n",
       " 'departure_partner_balance_supp_1789': 'France',\n",
       " 'departure_partner_balance_1789_uncertainty': None,\n",
       " 'departure_partner_balance_supp_1789_uncertainty': 0,\n",
       " 'departure_shiparea': 'ACE-ROCH',\n",
       " 'departure_status': 'siège amirauté',\n",
       " 'departure_source_1787_available': True,\n",
       " 'departure_source_1789_available': True,\n",
       " 'departure_point': '0101000020110F000054C16EA11641FFC0ACD86784FE265641',\n",
       " 'departure_out_date': '1789=02=20',\n",
       " 'departure_action': 'Out',\n",
       " 'outdate_fixed': -5707411200000,\n",
       " 'departure_navstatus': 'PC-RF',\n",
       " 'departure_function': 'O',\n",
       " 'destination': 'Bordeaux',\n",
       " 'destination_fr': 'Bordeaux',\n",
       " 'destination_en': 'Bordeaux',\n",
       " 'destination_uhgs_id': 'A0180923',\n",
       " 'destination_latitude': '44.833333',\n",
       " 'destination_longitude': '-0.566667',\n",
       " 'destination_admiralty': 'Bordeaux',\n",
       " 'destination_province': 'Guyenne',\n",
       " 'destination_states': '[{\"1749-1815\" : \"France\"}]',\n",
       " 'destination_substates': None,\n",
       " 'destination_state_1789_fr': 'France',\n",
       " 'destination_substate_1789_fr': None,\n",
       " 'destination_state_1789_en': 'France',\n",
       " 'destination_substate_1789_en': None,\n",
       " 'destination_ferme_direction': None,\n",
       " 'destination_ferme_bureau': None,\n",
       " 'destination_ferme_bureau_uncertainty': None,\n",
       " 'destination_partner_balance_1789': None,\n",
       " 'destination_partner_balance_supp_1789': 'France',\n",
       " 'destination_partner_balance_1789_uncertainty': None,\n",
       " 'destination_partner_balance_supp_1789_uncertainty': 0,\n",
       " 'destination_shiparea': 'ACE-ROCH',\n",
       " 'destination_status': 'siège amirauté',\n",
       " 'destination_source_1787_available': True,\n",
       " 'destination_source_1789_available': True,\n",
       " 'destination_point': '0101000020110F00008E6AD69E22CDEEC01AD8B04E2E585541',\n",
       " 'destination_in_date': '1789>03>14',\n",
       " 'destination_action': 'In',\n",
       " 'indate_fixed': None,\n",
       " 'destination_navstatus': 'FC-RF',\n",
       " 'destination_function': 'T',\n",
       " 'ship_name': 'Marie',\n",
       " 'ship_id': '0000138N',\n",
       " 'tonnage': '36',\n",
       " 'tonnage_unit': 'tx',\n",
       " 'tonnage_class': '[21-50]',\n",
       " 'in_crew': None,\n",
       " 'flag': 'French',\n",
       " 'ship_flag_id': 'A0167415',\n",
       " 'ship_flag_standardized_fr': 'français',\n",
       " 'ship_flag_standardized_en': 'French',\n",
       " 'class': None,\n",
       " 'homeport': 'Moulon',\n",
       " 'homeport_uhgs_id': 'A0185628',\n",
       " 'homeport_latitude': None,\n",
       " 'homeport_longitude': None,\n",
       " 'homeport_admiralty': None,\n",
       " 'homeport_province': None,\n",
       " 'homeport_states': None,\n",
       " 'homeport_substates': None,\n",
       " 'homeport_status': None,\n",
       " 'homeport_shiparea': None,\n",
       " 'homeport_point': None,\n",
       " 'homeport_state_1789_fr': None,\n",
       " 'homeport_substate_1789_fr': None,\n",
       " 'homeport_state_1789_en': None,\n",
       " 'homeport_substate_1789_en': None,\n",
       " 'homeport_toponyme_fr': None,\n",
       " 'homeport_toponyme_en': None,\n",
       " 'source_entry': 'both-from',\n",
       " 'source_doc_id': '00342095',\n",
       " 'source_text': 'ANF, G5-132-2/1642',\n",
       " 'source_suite': 'G5',\n",
       " 'source_component': 'ANF, G5-132-2',\n",
       " 'source_number': 1642.0,\n",
       " 'source_other': None,\n",
       " 'source_main_port_uhgs_id': 'A0198999',\n",
       " 'source_main_port_toponyme': 'La Rochelle',\n",
       " 'source_subset': 'Poitou_1789',\n",
       " 'captain_id': '00000192',\n",
       " 'captain_name': 'Robert, Pierre',\n",
       " 'birthplace': None,\n",
       " 'status': None,\n",
       " 'citizenship': None,\n",
       " 'commodity_purpose': None,\n",
       " 'commodity_id': None,\n",
       " 'quantity': None,\n",
       " 'quantity_u': None,\n",
       " 'commodity_standardized': None,\n",
       " 'commodity_standardized_fr': None,\n",
       " 'commodity_permanent_coding': None,\n",
       " 'commodity_purpose2': None,\n",
       " 'commodity_id2': None,\n",
       " 'quantity2': None,\n",
       " 'quantity_u2': None,\n",
       " 'commodity_standardized2': None,\n",
       " 'commodity_standardized2_fr': None,\n",
       " 'commodity_permanent_coding2': None,\n",
       " 'commodity_purpose3': None,\n",
       " 'commodity_id3': None,\n",
       " 'quantity3': None,\n",
       " 'quantity_u3': None,\n",
       " 'commodity_standardized3': None,\n",
       " 'commodity_standardized3_fr': None,\n",
       " 'commodity_permanent_coding3': None,\n",
       " 'commodity_purpose4': None,\n",
       " 'commodity_id4': None,\n",
       " 'quantity4': None,\n",
       " 'quantity_u4': None,\n",
       " 'commodity_standardized4': None,\n",
       " 'commodity_standardized4_fr': None,\n",
       " 'commodity_permanent_coding4': None,\n",
       " 'all_cargos': None,\n",
       " 'tax_concept': 'Droit de congé français',\n",
       " 'payment_date': None,\n",
       " 'q01': None,\n",
       " 'q01_u': None,\n",
       " 'q02': '15.0',\n",
       " 'q02_u': None,\n",
       " 'q03': None,\n",
       " 'q03_u': None,\n",
       " 'all_taxes': [{'q01': None,\n",
       "   'q02': '15.0',\n",
       "   'q03': None,\n",
       "   'q01_u': None,\n",
       "   'q02_u': None,\n",
       "   'q03_u': None,\n",
       "   'tax_concept': 'Droit de congé français',\n",
       "   'payment_date': None,\n",
       "   'link_to_pointcall': '00342095'}],\n",
       " 'ship_uncertainity': 0,\n",
       " 'tonnage_uncertainity': 0,\n",
       " 'flag_uncertainity': -2,\n",
       " 'homeport_uncertainity': 0,\n",
       " 'departure_uncertainity': 0,\n",
       " 'destination_uncertainity': -1,\n",
       " 'captain_uncertainity': 0,\n",
       " 'travel_uncertainity': -1,\n",
       " 'cargo_uncertainity': -4,\n",
       " 'taxe_uncertainity': 0,\n",
       " 'pointcall_outdate_uncertainity': -1,\n",
       " 'departure_pkid': 85817,\n",
       " 'destination_pkid': 86338,\n",
       " 'travel_rank': 7,\n",
       " 'distance_dep_dest_miles': '103',\n",
       " 'distance_homeport_dep_miles': None,\n",
       " 'subject': '0000138N',\n",
       " 'subject_order': 7,\n",
       " 'departure_fr_as_toflit_partner': 'France',\n",
       " 'destination_fr_as_toflit_partner': 'France'}"
      ]
     },
     "execution_count": 8,
     "metadata": {},
     "output_type": "execute_result"
    }
   ],
   "source": [
    "flows_with_toflit_partners[0]"
   ]
  },
  {
   "cell_type": "code",
   "execution_count": 9,
   "metadata": {},
   "outputs": [
    {
     "data": {
      "text/plain": [
       "7045"
      ]
     },
     "execution_count": 9,
     "metadata": {},
     "output_type": "execute_result"
    }
   ],
   "source": [
    "len(flows_datasprint)"
   ]
  },
  {
   "cell_type": "code",
   "execution_count": 10,
   "metadata": {},
   "outputs": [],
   "source": [
    "travels_datasprint = portic_client.get_travels(source_subset = 'Poitou_1789')\n",
    "\n",
    "travels_with_toflit_partners = get_flows_or_travels_port_as_toflit_partner(travels_datasprint, 'partner_grouping')"
   ]
  },
  {
   "cell_type": "code",
   "execution_count": 11,
   "metadata": {},
   "outputs": [
    {
     "data": {
      "text/plain": [
       "{'travel_id': '0004361N- 16',\n",
       " 'distance_dep_dest': 102.282,\n",
       " 'distance_homeport_dep': 379.809,\n",
       " 'departure': 'Ribérou [Saujon]',\n",
       " 'departure_fr': 'Ribérou',\n",
       " 'departure_en': 'Ribérou',\n",
       " 'departure_uhgs_id': 'A1964767',\n",
       " 'departure_latitude': '45.6755',\n",
       " 'departure_longitude': '-0.935826',\n",
       " 'departure_admiralty': 'Marennes',\n",
       " 'departure_province': 'Saintonge',\n",
       " 'departure_states': '[{\"1749-1815\" : \"France\"}]',\n",
       " 'departure_substates': None,\n",
       " 'departure_state_1789_fr': 'France',\n",
       " 'departure_substate_1789_fr': None,\n",
       " 'departure_state_1789_en': 'France',\n",
       " 'departure_substate_1789_en': None,\n",
       " 'departure_ferme_direction': 'La Rochelle',\n",
       " 'departure_ferme_bureau': 'Marennes',\n",
       " 'departure_ferme_bureau_uncertainty': 0.0,\n",
       " 'departure_partner_balance_1789': None,\n",
       " 'departure_partner_balance_supp_1789': 'France',\n",
       " 'departure_partner_balance_1789_uncertainty': None,\n",
       " 'departure_partner_balance_supp_1789_uncertainty': 0.0,\n",
       " 'departure_shiparea': 'ACE-ROCH',\n",
       " 'departure_status': 'oblique',\n",
       " 'departure_source_1787_available': True,\n",
       " 'departure_source_1789_available': True,\n",
       " 'departure_point': '0101000020110F0000CA2ED9C7FA6EF9C0334934DF3CDA5541',\n",
       " 'departure_out_date': '1789=07=23',\n",
       " 'departure_action': 'Out',\n",
       " 'outdate_fixed': -5694192000000,\n",
       " 'departure_navstatus': 'PC-RF',\n",
       " 'departure_function': 'O',\n",
       " 'destination': 'Aligre de Marans',\n",
       " 'destination_fr': 'Marans',\n",
       " 'destination_en': 'Marans',\n",
       " 'destination_uhgs_id': 'A1964694',\n",
       " 'destination_latitude': '46.312468',\n",
       " 'destination_longitude': '-0.995682',\n",
       " 'destination_admiralty': 'La Rochelle',\n",
       " 'destination_province': 'Aunis',\n",
       " 'destination_states': '[{\"1749-1815\" : \"France\"}]',\n",
       " 'destination_substates': None,\n",
       " 'destination_state_1789_fr': 'France',\n",
       " 'destination_substate_1789_fr': None,\n",
       " 'destination_state_1789_en': 'France',\n",
       " 'destination_substate_1789_en': None,\n",
       " 'destination_ferme_direction': 'La Rochelle',\n",
       " 'destination_ferme_bureau': 'Alligre',\n",
       " 'destination_ferme_bureau_uncertainty': 0.0,\n",
       " 'destination_partner_balance_1789': None,\n",
       " 'destination_partner_balance_supp_1789': 'France',\n",
       " 'destination_partner_balance_1789_uncertainty': None,\n",
       " 'destination_partner_balance_supp_1789_uncertainty': 0.0,\n",
       " 'destination_shiparea': 'ACE-ROCH',\n",
       " 'destination_status': 'oblique',\n",
       " 'destination_source_1787_available': True,\n",
       " 'destination_source_1789_available': True,\n",
       " 'destination_point': '0101000020110F00000096FF026D0FFBC09D9C2527E93D5641',\n",
       " 'destination_in_date': None,\n",
       " 'destination_action': 'Out',\n",
       " 'indate_fixed': -5692550400000,\n",
       " 'destination_navstatus': 'PC-RF',\n",
       " 'destination_function': 'O',\n",
       " 'ship_name': 'Saint Jean',\n",
       " 'ship_id': '0004361N',\n",
       " 'tonnage': '10',\n",
       " 'tonnage_unit': 'tx',\n",
       " 'tonnage_class': '[1-20]',\n",
       " 'in_crew': None,\n",
       " 'flag': 'French',\n",
       " 'ship_flag_id': 'A0167415',\n",
       " 'ship_flag_standardized_fr': 'français',\n",
       " 'ship_flag_standardized_en': 'French',\n",
       " 'class': None,\n",
       " 'homeport': 'Lomariaquer',\n",
       " 'homeport_uhgs_id': 'A0186503',\n",
       " 'homeport_latitude': '47.566667',\n",
       " 'homeport_longitude': '-2.95',\n",
       " 'homeport_admiralty': 'Vannes',\n",
       " 'homeport_province': 'Bretagne',\n",
       " 'homeport_states': '[{\"1749-1815\" : \"France\"}]',\n",
       " 'homeport_substates': None,\n",
       " 'homeport_status': 'oblique',\n",
       " 'homeport_shiparea': 'ACE-IROI',\n",
       " 'homeport_point': 'SRID=3857;POINT(-328392.497840156 6035064.06965767)',\n",
       " 'homeport_state_1789_fr': 'France',\n",
       " 'homeport_substate_1789_fr': None,\n",
       " 'homeport_state_1789_en': 'France',\n",
       " 'homeport_substate_1789_en': None,\n",
       " 'homeport_toponyme_fr': 'Locmariaquer',\n",
       " 'homeport_toponyme_en': 'Locmariaquer',\n",
       " 'source_entry': 'both-from',\n",
       " 'source_doc_id': '00336342',\n",
       " 'source_text': 'ANF, G5-129/7693',\n",
       " 'source_suite': 'G5',\n",
       " 'source_component': 'ANF, G5-129',\n",
       " 'source_number': 7693.0,\n",
       " 'source_other': None,\n",
       " 'source_main_port_uhgs_id': 'A1964767',\n",
       " 'source_main_port_toponyme': 'Ribérou [Saujon]',\n",
       " 'source_subset': 'Poitou_1789',\n",
       " 'captain_id': '00004302',\n",
       " 'captain_name': 'Le Port, Joseph',\n",
       " 'birthplace': None,\n",
       " 'status': None,\n",
       " 'citizenship': None,\n",
       " 'commodity_purpose': 'lest',\n",
       " 'commodity_id': '00000094',\n",
       " 'quantity': None,\n",
       " 'quantity_u': None,\n",
       " 'commodity_standardized': 'Ballast',\n",
       " 'commodity_standardized_fr': 'Lest',\n",
       " 'commodity_permanent_coding': 'TM-Zxxxxx-xx-xxxxxx-xxxx',\n",
       " 'commodity_purpose2': None,\n",
       " 'commodity_id2': None,\n",
       " 'quantity2': None,\n",
       " 'quantity_u2': None,\n",
       " 'commodity_standardized2': None,\n",
       " 'commodity_standardized2_fr': None,\n",
       " 'commodity_permanent_coding2': None,\n",
       " 'commodity_purpose3': None,\n",
       " 'commodity_id3': None,\n",
       " 'quantity3': None,\n",
       " 'quantity_u3': None,\n",
       " 'commodity_standardized3': None,\n",
       " 'commodity_standardized3_fr': None,\n",
       " 'commodity_permanent_coding3': None,\n",
       " 'commodity_purpose4': None,\n",
       " 'commodity_id4': None,\n",
       " 'quantity4': None,\n",
       " 'quantity_u4': None,\n",
       " 'commodity_standardized4': None,\n",
       " 'commodity_standardized4_fr': None,\n",
       " 'commodity_permanent_coding4': None,\n",
       " 'all_cargos': [{'quantity': None,\n",
       "   'quantity_u': None,\n",
       "   'commodity_id': '00000094',\n",
       "   'commodity_purpose': 'lest',\n",
       "   'link_to_pointcall': '00336342',\n",
       "   'commodity_standardized_en': 'Ballast',\n",
       "   'commodity_standardized_fr': 'Lest',\n",
       "   'commodity_permanent_coding': 'TM-Zxxxxx-xx-xxxxxx-xxxx'}],\n",
       " 'tax_concept': 'Droit de congé français',\n",
       " 'payment_date': None,\n",
       " 'q01': None,\n",
       " 'q01_u': None,\n",
       " 'q02': '15.0',\n",
       " 'q02_u': None,\n",
       " 'q03': None,\n",
       " 'q03_u': None,\n",
       " 'all_taxes': [{'q01': None,\n",
       "   'q02': '15.0',\n",
       "   'q03': None,\n",
       "   'q01_u': None,\n",
       "   'q02_u': None,\n",
       "   'q03_u': None,\n",
       "   'tax_concept': 'Droit de congé français',\n",
       "   'payment_date': None,\n",
       "   'link_to_pointcall': '00336342'}],\n",
       " 'ship_uncertainity': 0,\n",
       " 'tonnage_uncertainity': 0,\n",
       " 'flag_uncertainity': -2,\n",
       " 'homeport_uncertainity': 0,\n",
       " 'departure_uncertainity': 0,\n",
       " 'destination_uncertainity': 0,\n",
       " 'captain_uncertainity': 0,\n",
       " 'travel_uncertainity': 0,\n",
       " 'cargo_uncertainity': 0,\n",
       " 'taxe_uncertainity': 0,\n",
       " 'pointcall_outdate_uncertainity': -1,\n",
       " 'departure_pkid': 80064,\n",
       " 'destination_pkid': 80274,\n",
       " 'travel_rank': 16,\n",
       " 'distance_dep_dest_miles': '50',\n",
       " 'distance_homeport_dep_miles': None,\n",
       " 'departure_fr_as_toflit_partner': 'France',\n",
       " 'destination_fr_as_toflit_partner': 'France'}"
      ]
     },
     "execution_count": 11,
     "metadata": {},
     "output_type": "execute_result"
    }
   ],
   "source": [
    "travels_with_toflit_partners[0]"
   ]
  },
  {
   "cell_type": "code",
   "execution_count": 12,
   "metadata": {},
   "outputs": [
    {
     "data": {
      "text/plain": [
       "890"
      ]
     },
     "execution_count": 12,
     "metadata": {},
     "output_type": "execute_result"
    }
   ],
   "source": [
    "len(travels_datasprint)"
   ]
  },
  {
   "cell_type": "markdown",
   "metadata": {},
   "source": [
    "# Fabrication de réseaux \n",
    "\n",
    "## chaque réseau est construit avec des flows et des travels pour pouvoir comparer les données disponibles sur ces 2 types d'objets Navigo"
   ]
  },
  {
   "cell_type": "markdown",
   "metadata": {},
   "source": [
    "## 1. Réseaux bipartites : départ / arrivée\n",
    "\n",
    "#### Si 2 ports font partie du même flow, ou du même travel, ils seront reliés sur le graphe\n",
    "#### Pour chaque réseau on fonctionne d'abord avec les données des flows, puis les données des travels\n",
    "\n",
    "##### Légende :\n",
    "##### - ports de départ en vert\n",
    "##### - ports d'arrivée en rouge\n",
    "\n",
    "Remarques : \n",
    "- Peut-être intéressant de filtrer les ports de départ / d'arrivée sur la direction des Fermes de La Rochelle (pour savoir où vont les bateaux qui partent de la région / d'où viennent les bateaux arrivent dans la région)\n",
    "- Avec les flows risque de duplications\n",
    "- Avec travels on a pas beaucoup de données apparemment"
   ]
  },
  {
   "cell_type": "markdown",
   "metadata": {},
   "source": [
    "### A. Visualisation de données Navigo pures : réseau port Navigo de départ / port Navigo d'arrivée "
   ]
  },
  {
   "cell_type": "code",
   "execution_count": 66,
   "metadata": {},
   "outputs": [
    {
     "data": {
      "application/vnd.jupyter.widget-view+json": {
       "model_id": "c72b2ecbe72c48678a0f42ea6052de06",
       "version_major": 2,
       "version_minor": 0
      },
      "text/plain": [
       "Sigma(data={'nodes': [('departure_fr_La Rochelle', {'type': 'departure_fr', 'name': 'La Rochelle', 'color': 'r…"
      ]
     },
     "metadata": {},
     "output_type": "display_data"
    }
   ],
   "source": [
    "render_coocurrences_graph(flows_datasprint, \"departure_fr\", \"destination_fr\")"
   ]
  },
  {
   "cell_type": "code",
   "execution_count": 44,
   "metadata": {},
   "outputs": [
    {
     "data": {
      "application/vnd.jupyter.widget-view+json": {
       "model_id": "da1de09212b74513a23f69682ca7afb1",
       "version_major": 2,
       "version_minor": 0
      },
      "text/plain": [
       "Sigma(data={'nodes': [('departure_fr_Ribérou', {'type': 'departure_fr', 'name': 'Ribérou', 'color': 'rgb(0, 25…"
      ]
     },
     "metadata": {},
     "output_type": "display_data"
    }
   ],
   "source": [
    "render_coocurrences_graph(travels_datasprint, \"departure_fr\", \"destination_fr\")"
   ]
  },
  {
   "cell_type": "markdown",
   "metadata": {},
   "source": [
    "### B. croisement : partenaire Toflit de départ / port Navigo d'arrivée"
   ]
  },
  {
   "cell_type": "code",
   "execution_count": 43,
   "metadata": {},
   "outputs": [
    {
     "data": {
      "application/vnd.jupyter.widget-view+json": {
       "model_id": "e01424edf66e44c7bc79c68468885682",
       "version_major": 2,
       "version_minor": 0
      },
      "text/plain": [
       "Sigma(data={'nodes': [('departure_fr_as_toflit_partner_France', {'type': 'departure_fr_as_toflit_partner', 'na…"
      ]
     },
     "metadata": {},
     "output_type": "display_data"
    }
   ],
   "source": [
    "render_coocurrences_graph(flows_with_toflit_partners, \"departure_fr_as_toflit_partner\", \"destination_fr\")"
   ]
  },
  {
   "cell_type": "code",
   "execution_count": 42,
   "metadata": {},
   "outputs": [
    {
     "data": {
      "application/vnd.jupyter.widget-view+json": {
       "model_id": "0b0a0e23e7554609850f050c1074fd63",
       "version_major": 2,
       "version_minor": 0
      },
      "text/plain": [
       "Sigma(data={'nodes': [('departure_fr_as_toflit_partner_France', {'type': 'departure_fr_as_toflit_partner', 'na…"
      ]
     },
     "metadata": {},
     "output_type": "display_data"
    }
   ],
   "source": [
    "render_coocurrences_graph(travels_with_toflit_partners, \"departure_fr_as_toflit_partner\", \"destination_fr\")"
   ]
  },
  {
   "cell_type": "markdown",
   "metadata": {},
   "source": [
    "### C. croisement : port Navigo de départ / bureau des Fermes Toflit d'arrivée"
   ]
  },
  {
   "cell_type": "code",
   "execution_count": 48,
   "metadata": {},
   "outputs": [
    {
     "data": {
      "application/vnd.jupyter.widget-view+json": {
       "model_id": "cd887ae538874acc8a86e2e3b740694c",
       "version_major": 2,
       "version_minor": 0
      },
      "text/plain": [
       "Sigma(data={'nodes': [('departure_fr_La Rochelle', {'type': 'departure_fr', 'name': 'La Rochelle', 'color': 'r…"
      ]
     },
     "metadata": {},
     "output_type": "display_data"
    }
   ],
   "source": [
    "render_coocurrences_graph(flows_datasprint, \"departure_fr\", \"destination_ferme_bureau\")"
   ]
  },
  {
   "cell_type": "code",
   "execution_count": 50,
   "metadata": {},
   "outputs": [
    {
     "data": {
      "application/vnd.jupyter.widget-view+json": {
       "model_id": "",
       "version_major": 2,
       "version_minor": 0
      },
      "text/plain": [
       "Sigma(data={'nodes': [('departure_fr_Ribérou', {'type': 'departure_fr', 'name': 'Ribérou', 'color': 'rgb(0, 25…"
      ]
     },
     "metadata": {},
     "output_type": "display_data"
    }
   ],
   "source": [
    "render_coocurrences_graph(travels_datasprint, \"departure_fr\", \"destination_ferme_bureau\")"
   ]
  },
  {
   "cell_type": "markdown",
   "metadata": {},
   "source": [
    "### D. croisement (visualisation de données Navigo avec des entités Toflit) : bureau des Fermes Toflit de départ / partenaire Toflit d'arrivée"
   ]
  },
  {
   "cell_type": "code",
   "execution_count": 52,
   "metadata": {},
   "outputs": [
    {
     "data": {
      "application/vnd.jupyter.widget-view+json": {
       "model_id": "fdf120b265604616afb44784a2d4f4fa",
       "version_major": 2,
       "version_minor": 0
      },
      "text/plain": [
       "Sigma(data={'nodes': [('departure_fr_as_toflit_partner_France', {'type': 'departure_fr_as_toflit_partner', 'na…"
      ]
     },
     "metadata": {},
     "output_type": "display_data"
    }
   ],
   "source": [
    "render_coocurrences_graph(flows_with_toflit_partners, \"departure_ferme_bureau\", \"destination_fr_as_toflit_partner\")"
   ]
  },
  {
   "cell_type": "code",
   "execution_count": 54,
   "metadata": {},
   "outputs": [
    {
     "data": {
      "application/vnd.jupyter.widget-view+json": {
       "model_id": "a7e5fce264e0462cbe21051a38292b8c",
       "version_major": 2,
       "version_minor": 0
      },
      "text/plain": [
       "Sigma(data={'nodes': [('departure_ferme_bureau_Marennes', {'type': 'departure_ferme_bureau', 'name': 'Marennes…"
      ]
     },
     "metadata": {},
     "output_type": "display_data"
    }
   ],
   "source": [
    "render_coocurrences_graph(travels_with_toflit_partners, \"departure_ferme_bureau\", \"destination_fr_as_toflit_partner\")"
   ]
  },
  {
   "cell_type": "markdown",
   "metadata": {},
   "source": [
    "## 2. Réseau monopartite : échanges entre ports\n",
    "\n",
    "#### Si 2 ports sont dans le même flow ou travel, ils sont reliés \n",
    "#### Plus les échanges sont intenses, plus les ports sont proches sur le graphe\n"
   ]
  },
  {
   "cell_type": "markdown",
   "metadata": {},
   "source": [
    "### A. Visualisation de données Navigo pures : les noeuds sont des ports Navigo"
   ]
  },
  {
   "cell_type": "code",
   "execution_count": 35,
   "metadata": {},
   "outputs": [
    {
     "data": {
      "application/vnd.jupyter.widget-view+json": {
       "model_id": "",
       "version_major": 2,
       "version_minor": 0
      },
      "text/plain": [
       "Sigma(data={'nodes': [('departure_fr_La Rochelle', {'type': 'departure_fr', 'label': 'La Rochelle', 'color': '…"
      ]
     },
     "metadata": {},
     "output_type": "display_data"
    }
   ],
   "source": [
    "render_monopartite_graph_port_exchanges(flows_datasprint, 'departure_fr', 'destination_fr')"
   ]
  },
  {
   "cell_type": "code",
   "execution_count": 37,
   "metadata": {},
   "outputs": [
    {
     "data": {
      "application/vnd.jupyter.widget-view+json": {
       "model_id": "",
       "version_major": 2,
       "version_minor": 0
      },
      "text/plain": [
       "Sigma(data={'nodes': [('departure_fr_Ribérou', {'type': 'departure_fr', 'label': 'Ribérou', 'color': 'rgb(0, 2…"
      ]
     },
     "metadata": {},
     "output_type": "display_data"
    }
   ],
   "source": [
    "render_monopartite_graph_port_exchanges(travels, 'departure_fr', 'destination_fr')"
   ]
  },
  {
   "cell_type": "markdown",
   "metadata": {},
   "source": [
    "### B. croisement (visualisation de données Navigo avec un agnle de vue Toflit) : les noeuds sont des partenaires Toflit "
   ]
  },
  {
   "cell_type": "code",
   "execution_count": 38,
   "metadata": {},
   "outputs": [
    {
     "data": {
      "application/vnd.jupyter.widget-view+json": {
       "model_id": "89e19ad19f114dc2af33b0e865bd1640",
       "version_major": 2,
       "version_minor": 0
      },
      "text/plain": [
       "Sigma(data={'nodes': [('departure_fr_as_toflit_partner_France', {'type': 'departure_fr_as_toflit_partner', 'la…"
      ]
     },
     "metadata": {},
     "output_type": "display_data"
    }
   ],
   "source": [
    "render_monopartite_graph_port_exchanges(flows_with_toflit_partners, 'departure_fr_as_toflit_partner', 'destination_fr_as_toflit_partner')"
   ]
  },
  {
   "cell_type": "code",
   "execution_count": 39,
   "metadata": {},
   "outputs": [
    {
     "data": {
      "application/vnd.jupyter.widget-view+json": {
       "model_id": "99875ad52ba443cc98ac8c3a14b06249",
       "version_major": 2,
       "version_minor": 0
      },
      "text/plain": [
       "Sigma(data={'nodes': [('departure_fr_as_toflit_partner_France', {'type': 'departure_fr_as_toflit_partner', 'la…"
      ]
     },
     "metadata": {},
     "output_type": "display_data"
    }
   ],
   "source": [
    "render_monopartite_graph_port_exchanges(travels_with_toflit_partners, 'departure_fr_as_toflit_partner', 'destination_fr_as_toflit_partner')"
   ]
  },
  {
   "cell_type": "markdown",
   "metadata": {},
   "source": [
    "## Bonus : \n",
    "- fonction qui adapte la couleur des noeuds pour qu'on distingue ceux qui font partie du champ d'étude du datasprint / ceux qui n'en font pas partie\n",
    "- fonction qui filtre le \"data\" donner pour n'inclure dans le réseau que les entités qui font partie du champ d'étude du datasprint\n",
    "\n",
    "Entités qui font partie du champ d'étude du datasprint : \n",
    "- 27 ports identifiés par leurs ughs_id \n",
    "- 7 bureaux des Fermes \n",
    "- 1 direction des Fermes"
   ]
  },
  {
   "cell_type": "code",
   "execution_count": 75,
   "metadata": {},
   "outputs": [],
   "source": [
    "def render_coocurrences_graph_sprint_colored(data, key_1, key_2, params=None):\n",
    "    # créer un graphe\n",
    "    Graph = nx.Graph()\n",
    "\n",
    "    # créer des dict pour les deux types de noeuds et les liens\n",
    "    key1_uniq = {}\n",
    "    key2_uniq = {}\n",
    "    edges_uniq = {}\n",
    "    default_params = {\n",
    "        \"color_1\": \"rgb(51, 204, 255)\", # noeuds de type 1 en bleu clair\n",
    "        \"color_2\": \"rgb(238, 130, 238)\", # noeuds de type 2 en rose\n",
    "        \"node_min_size\": 1,\n",
    "        \"node_max_size\": 10\n",
    "    }\n",
    "    final_params = default_params\n",
    "    if params is not None :\n",
    "        final_params = {\n",
    "            *default_params,\n",
    "            *params\n",
    "        }\n",
    "        \n",
    "    # colorer les ports / ou autres entités rattachées à la direction des fermes de La Rochelle (au sprint)\n",
    "    # en bleu si entité de départ\n",
    "    # en violet si entité d'arrivée\n",
    "    sprint_ughs_id = ['A1964694','A0171758','A0136930','A0196496','A0198999','A0137148','A0127055','A0133403','A0213721','A0199508','A0148208','A0141325','A0138533','A1964982','A0186515','A0124809','A1964767','A0172590','A0181608','A0165077','A0169240','A0165056','A1963997','A0136403','A0195938','A0122971','A0207992']\n",
    "    sprint_bureaux = ['Alligre', 'Saint-Martin île de Ré', 'Marennes', 'Rochefort', 'Charente', 'La Rochelle', 'Sables-d\\'Olonne']\n",
    "    sprint_direction = 'La Rochelle'\n",
    "    \n",
    "    # choisir par rapport à quelles valeurs on va filtrer la coloration bleue, en fonction des keys données en argument\n",
    "    chosen_filter1 = None\n",
    "    if key_1 == 'departure_fr':\n",
    "        chosen_filter1 = sprint_ughs_id\n",
    "    elif key_1 == 'departure_ferme_bureau':\n",
    "        chosen_filter1 = sprint_bureaux\n",
    "    elif key_1 == 'departure_ferme_direction':\n",
    "        chosen_filter1 = sprint_direction \n",
    "    \n",
    "    # choisir par rapport à quelles valeurs on va filtrer la coloration violette, en fonction des keys données en argument\n",
    "    chosen_filter2 = None\n",
    "    if key_2 == 'destination_fr':\n",
    "        chosen_filter2 = sprint_ughs_id\n",
    "    elif key_2 == 'destination_ferme_bureau':\n",
    "        chosen_filter2 = sprint_bureaux\n",
    "    elif key_2 == 'destination_ferme_direction':\n",
    "        chosen_filter2 = sprint_direction \n",
    "    \n",
    "    # remplir les dicts\n",
    "    for datum in data:\n",
    "    \n",
    "        if key_1 in datum and key_2 in datum:\n",
    "            value_1 = datum[key_1] if datum[key_1] is not None else \"undefined\"\n",
    "            value_2 = datum[key_2] if datum[key_2] is not None else \"undefined\"\n",
    "            value_1_id = key_1 + \"_\" + value_1\n",
    "            value_2_id = key_2 + \"_\" + value_2\n",
    "            \n",
    "            # on changera la variable color attribuée au noeud s'il passe le filtre de rattachement au sprint\n",
    "            color = final_params[\"color_1\"]\n",
    "        \n",
    "            if value_1_id in key1_uniq:\n",
    "                key1_uniq[value_1_id] = {**key1_uniq[value_1_id], \"size\": key1_uniq[value_1_id][\"size\"] + 1}\n",
    "            else:\n",
    "                # coloration en bleu si le noeud se rattache à la direction des fermes de La Rochelle\n",
    "                if (chosen_filter1 == sprint_ughs_id and datum['departure_uhgs_id'] is not None and datum['departure_uhgs_id'] in sprint_ughs_id):\n",
    "                    color = \"rgb (0, 0, 255)\"\n",
    "                elif (chosen_filter1 == sprint_bureaux and datum['departure_ferme_bureau'] is not None and datum['departure_ferme_bureau'] in sprint_bureaux):\n",
    "                    color = \"rgb (0, 0, 255)\"\n",
    "                elif (chosen_filter1 == sprint_direction and datum['departure_ferme_direction'] is not None and datum['departure_ferme_direction'] in sprint_direction) :\n",
    "                    color = \"rgb (0, 0, 255)\"\n",
    "                    \n",
    "                key1_uniq[value_1_id] = {\n",
    "                   \"type\": key_1, \n",
    "                   \"name\": value_1, \n",
    "                   \"color\": color,\n",
    "                   \"size\": 1\n",
    "                }\n",
    "            \n",
    "            # on changera la variable color attribuée au noeud s'il passe le filtre de rattachement au sprint\n",
    "            color = final_params[\"color_2\"]\n",
    "            \n",
    "            if value_2_id in key2_uniq:\n",
    "                key2_uniq[value_2_id] = {**key2_uniq[value_2_id], \"size\": key2_uniq[value_2_id][\"size\"] + 1}\n",
    "            else:\n",
    "                # coloration en violet si le noeud se rattache à la direction des fermes de La Rochelle\n",
    "                if (chosen_filter2 == sprint_ughs_id and datum['destination_uhgs_id'] is not None and datum['destination_uhgs_id'] in sprint_ughs_id):\n",
    "                    color = \"rgb(70, 0, 128)\"\n",
    "                elif (chosen_filter2 == sprint_bureaux and datum['destination_ferme_bureau'] is not None and datum['destination_ferme_bureau'] in sprint_bureaux):\n",
    "                    color = \"rgb(70, 0, 128)\"\n",
    "                elif (chosen_filter2 == sprint_direction and datum['destination_ferme_direction'] is not None and datum['destination_ferme_direction'] in sprint_direction) :\n",
    "                    color = \"rgb(70, 0, 128)\"\n",
    "                    \n",
    "                key2_uniq[value_2_id] = {\n",
    "                   \"type\": key_2, \n",
    "                   \"name\": value_2, \n",
    "                   \"color\": color,\n",
    "                   \"size\": 1\n",
    "               }\n",
    "                \n",
    "            edge_footprint = value_1_id + \"-\" + value_2_id\n",
    "            if edge_footprint in edges_uniq:\n",
    "                edges_uniq[edge_footprint][\"weight\"] += 1\n",
    "            else:\n",
    "                edges_uniq[edge_footprint] = {\n",
    "                    \"source\": value_1_id,\n",
    "                    \"target\": value_2_id,\n",
    "                    \"weight\": 1\n",
    "                }\n",
    "    # concaténer les deux dicts de noeuds en un seul\n",
    "    all_nodes = key1_uniq\n",
    "    all_nodes.update(key2_uniq)\n",
    "    # applatir et formatter les noeuds\n",
    "    nodes = []\n",
    "    for key, node in all_nodes.items():\n",
    "        nodes.append((key, node))\n",
    "    edges = []\n",
    "\n",
    "    for key, edge in edges_uniq.items():\n",
    "        edges.append((edge[\"source\"], edge[\"target\"], {\"weight\": edge[\"weight\"]}))\n",
    "        \n",
    "    # ajuster la taille des noeuds en fonction d'un min et d'un max donnés\n",
    "    domain_min_nodes_size = min([node[1]['size'] for node in nodes])\n",
    "    domain_max_nodes_size = max([node[1]['size'] for node in nodes])\n",
    "    range_in_nodes_size = [final_params[\"node_min_size\"], final_params[\"node_max_size\"]]\n",
    "    nodes_size_mapping_params = [domain_min_nodes_size, domain_max_nodes_size, *range_in_nodes_size]\n",
    "\n",
    "    for node in nodes:\n",
    "        node[1][\"size\"] = map_value(node[1][\"size\"], *nodes_size_mapping_params)\n",
    "        node[1][\"label\"] = node[1][\"name\"]\n",
    "\n",
    "\n",
    "    Graph.add_nodes_from(nodes)\n",
    "    Graph.add_edges_from(edges)\n",
    "\n",
    "    return Sigma(Graph, start_layout=True)"
   ]
  },
  {
   "cell_type": "code",
   "execution_count": 77,
   "metadata": {},
   "outputs": [
    {
     "data": {
      "application/vnd.jupyter.widget-view+json": {
       "model_id": "76a025c5c02c4db1a0c11aedf1fd7b95",
       "version_major": 2,
       "version_minor": 0
      },
      "text/plain": [
       "Sigma(data={'nodes': [('departure_ferme_bureau_La Rochelle', {'type': 'departure_ferme_bureau', 'name': 'La Ro…"
      ]
     },
     "metadata": {},
     "output_type": "display_data"
    }
   ],
   "source": [
    "render_coocurrences_graph_sprint_colored(flows_with_toflit_partners, 'departure_ferme_bureau', 'destination_fr_as_toflit_partner')"
   ]
  },
  {
   "cell_type": "code",
   "execution_count": 80,
   "metadata": {},
   "outputs": [],
   "source": [
    "def render_coocurrences_graph_sprint_filtered(data, key_1, key_2, params=None):\n",
    "    \n",
    "    # créer un graphe\n",
    "    Graph = nx.Graph()\n",
    "\n",
    "    # créer des dict pour les deux types de noeuds et les liens\n",
    "    key1_uniq = {}\n",
    "    key2_uniq = {}\n",
    "    edges_uniq = {}\n",
    "    default_params = {\n",
    "        \"color_1\": \"rgb(0, 0, 255)\", # noeuds de type 1 en bleu foncé\n",
    "        \"color_2\": \"rgb(70, 0, 128)\",# noeuds de type 2 en violet foncé \n",
    "        \"node_min_size\": 1,\n",
    "        \"node_max_size\": 10\n",
    "    }\n",
    "    final_params = default_params\n",
    "    if params is not None :\n",
    "        final_params = {\n",
    "            *default_params,\n",
    "            *params\n",
    "        }\n",
    "        \n",
    "    # filtrer les ports / ou autres entités rattachées à la direction des fermes de La Rochelle (au sprint)\n",
    "    sprint_ughs_id = ['A1964694','A0171758','A0136930','A0196496','A0198999','A0137148','A0127055','A0133403','A0213721','A0199508','A0148208','A0141325','A0138533','A1964982','A0186515','A0124809','A1964767','A0172590','A0181608','A0165077','A0169240','A0165056','A1963997','A0136403','A0195938','A0122971','A0207992']\n",
    "    sprint_bureaux = ['Alligre', 'Saint-Martin île de Ré', 'Marennes', 'Rochefort', 'Charente', 'La Rochelle', 'Sables-d\\'Olonne']\n",
    "    sprint_direction = 'La Rochelle'\n",
    "    \n",
    "    # choisir par rapport à quelles valeurs on va filtrer, en fonction des keys données en argument\n",
    "    chosen_filter1 = None\n",
    "    if key_1 == 'departure_fr':\n",
    "        chosen_filter1 = sprint_ughs_id\n",
    "    elif key_1 == 'departure_ferme_bureau':\n",
    "        chosen_filter1 = sprint_bureaux\n",
    "    elif key_1 == 'departure_ferme_direction':\n",
    "        chosen_filter1 = sprint_direction \n",
    "    \n",
    "    # choisir par rapport à quelles valeurs on va filtrer la coloration violette, en fonction des keys données en argument\n",
    "    chosen_filter2 = None\n",
    "    if key_2 == 'destination_fr':\n",
    "        chosen_filter2 = sprint_ughs_id\n",
    "    elif key_2 == 'destination_ferme_bureau':\n",
    "        chosen_filter2 = sprint_bureaux\n",
    "    elif key_2 == 'destination_ferme_direction':\n",
    "        chosen_filter2 = sprint_direction \n",
    "    \n",
    "    # remplir les dicts\n",
    "    for datum in data:\n",
    "    \n",
    "        if key_1 in datum and key_2 in datum:\n",
    "            value_1 = datum[key_1] if datum[key_1] is not None else \"undefined\"\n",
    "            value_2 = datum[key_2] if datum[key_2] is not None else \"undefined\"\n",
    "            value_1_id = key_1 + \"_\" + value_1\n",
    "            value_2_id = key_2 + \"_\" + value_2\n",
    "            \n",
    "            # on n'ajoutera les noeuds et le lien entre eux que s'ils passent le filtre de rattachement au sprint\n",
    "            valid_node_1 = False\n",
    "            valid_node_2 = False\n",
    "            if (chosen_filter1 == sprint_ughs_id and datum['departure_uhgs_id'] is not None and datum['departure_uhgs_id'] in sprint_ughs_id):\n",
    "                valid_node_1 = True\n",
    "            elif (chosen_filter1 == sprint_bureaux and datum['departure_ferme_bureau'] is not None and datum['departure_ferme_bureau'] in sprint_bureaux):\n",
    "                valid_node_1 = True\n",
    "            elif (chosen_filter1 == sprint_direction and datum['departure_ferme_direction'] is not None and datum['departure_ferme_direction'] in sprint_direction) :\n",
    "                valid_node_1 = True\n",
    "            if (chosen_filter2 == sprint_ughs_id and datum['destination_uhgs_id'] is not None and datum['destination_uhgs_id'] in sprint_ughs_id):\n",
    "                valid_node_2 = True\n",
    "            elif (chosen_filter2 == sprint_bureaux and datum['destination_ferme_bureau'] is not None and datum['destination_ferme_bureau'] in sprint_bureaux):\n",
    "                valid_node_2 = True\n",
    "            elif (chosen_filter2 == sprint_direction and datum['destination_ferme_direction'] is not None and datum['destination_ferme_direction'] in sprint_direction) :\n",
    "                valid_node_2 = True\n",
    "            \n",
    "            if valid_node_1 and valid_node_2:\n",
    "                \n",
    "                if value_1_id in key1_uniq:\n",
    "                    key1_uniq[value_1_id] = {**key1_uniq[value_1_id], \"size\": key1_uniq[value_1_id][\"size\"] + 1}\n",
    "                else:\n",
    "                    key1_uniq[value_1_id] = {\n",
    "                       \"type\": key_1, \n",
    "                       \"name\": value_1, \n",
    "                       \"color\": final_params['color_1'],\n",
    "                       \"size\": 1\n",
    "                    }\n",
    "\n",
    "                if value_2_id in key2_uniq:\n",
    "                    key2_uniq[value_2_id] = {**key2_uniq[value_2_id], \"size\": key2_uniq[value_2_id][\"size\"] + 1}\n",
    "                else:\n",
    "                    key2_uniq[value_2_id] = {\n",
    "                       \"type\": key_2, \n",
    "                       \"name\": value_2, \n",
    "                       \"color\": final_params['color_2'],\n",
    "                       \"size\": 1\n",
    "                    }\n",
    "\n",
    "                edge_footprint = value_1_id + \"-\" + value_2_id\n",
    "                if edge_footprint in edges_uniq:\n",
    "                    edges_uniq[edge_footprint][\"weight\"] += 1\n",
    "                else:\n",
    "                    edges_uniq[edge_footprint] = {\n",
    "                        \"source\": value_1_id,\n",
    "                        \"target\": value_2_id,\n",
    "                        \"weight\": 1\n",
    "                    }\n",
    "                    \n",
    "    # concaténer les deux dicts de noeuds en un seul\n",
    "    all_nodes = key1_uniq\n",
    "    all_nodes.update(key2_uniq)\n",
    "    # applatir et formatter les noeuds\n",
    "    nodes = []\n",
    "    for key, node in all_nodes.items():\n",
    "        nodes.append((key, node))\n",
    "    edges = []\n",
    "\n",
    "    for key, edge in edges_uniq.items():\n",
    "        edges.append((edge[\"source\"], edge[\"target\"], {\"weight\": edge[\"weight\"]}))\n",
    "        \n",
    "    # ajuster la taille des noeuds en fonction d'un min et d'un max donnés\n",
    "    domain_min_nodes_size = min([node[1]['size'] for node in nodes])\n",
    "    domain_max_nodes_size = max([node[1]['size'] for node in nodes])\n",
    "    range_in_nodes_size = [final_params[\"node_min_size\"], final_params[\"node_max_size\"]]\n",
    "    nodes_size_mapping_params = [domain_min_nodes_size, domain_max_nodes_size, *range_in_nodes_size]\n",
    "\n",
    "    for node in nodes:\n",
    "        node[1][\"size\"] = map_value(node[1][\"size\"], *nodes_size_mapping_params)\n",
    "        node[1][\"label\"] = node[1][\"name\"]\n",
    "\n",
    "\n",
    "    Graph.add_nodes_from(nodes)\n",
    "    Graph.add_edges_from(edges)\n",
    "\n",
    "    return Sigma(Graph, start_layout=True)"
   ]
  },
  {
   "cell_type": "code",
   "execution_count": 81,
   "metadata": {},
   "outputs": [
    {
     "data": {
      "application/vnd.jupyter.widget-view+json": {
       "model_id": "fa1cdf911b984d7c82abc53fc5702ccf",
       "version_major": 2,
       "version_minor": 0
      },
      "text/plain": [
       "Sigma(data={'nodes': [('departure_fr_Rochefort', {'type': 'departure_fr', 'name': 'Rochefort', 'color': 'rgb(0…"
      ]
     },
     "metadata": {},
     "output_type": "display_data"
    }
   ],
   "source": [
    "render_coocurrences_graph_sprint_filtered(flows_datasprint, 'departure_fr','destination_fr')"
   ]
  },
  {
   "cell_type": "code",
   "execution_count": 1,
   "metadata": {},
   "outputs": [],
   "source": [
    "from poitousprint import Portic, Toflit\n",
    "import json\n",
    "import networkx as nx\n",
    "from ipysigma import Sigma\n",
    "\n",
    "portic_client = Portic()\n",
    "toflit_client = Toflit()\n",
    "\n",
    "# this function allows to map a value from a domain of min-max to another\n",
    "def map_value(value, domain_min, domain_max, range_min, range_max):\n",
    "    left_span = domain_max - domain_min\n",
    "    right_span = range_max - range_min\n",
    "\n",
    "    # Convert the left range into a 0-1 range (float)\n",
    "    scaled = float(value - domain_min) / float(left_span)\n",
    "\n",
    "    # Convert the 0-1 range into a value in the right range.\n",
    "    return range_min + (scaled * right_span)"
   ]
  },
  {
   "cell_type": "markdown",
   "metadata": {},
   "source": [
    "#### Fonction générique qui permet de fabriquer un réseau à partir :\n",
    "\n",
    "1. d'une liste de dicts (ex. flux toflit18)\n",
    "2. d'une liste de deux propriétés à comparer\n",
    "3. d'un param filter_import_export que l'on peut mettre sur import ou exports (par défaut on a à la fois les imports et les exports"
   ]
  },
  {
   "cell_type": "code",
   "execution_count": 20,
   "metadata": {},
   "outputs": [],
   "source": [
    "def render_coocurrences_graph(data, key_1, key_2, filter_export_import=None, params=None):\n",
    "    if filter_export_import not in [None, 'Exports', 'Imports']:\n",
    "        print(\"filter_export_import must be 'Exports', 'Imports' or None\")\n",
    "        raise\n",
    "    \n",
    "    # créer un graphe\n",
    "    Graph = nx.Graph()\n",
    "\n",
    "    # créer des dict pour les deux types de noeuds et les liens\n",
    "    key1_uniq = {}\n",
    "    key2_uniq = {}\n",
    "    edges_uniq = {}\n",
    "    default_params = {\n",
    "        \"color_1\": \"rgb(0, 255, 0)\",\n",
    "        \"color_2\": \"rgb(255, 0, 0)\",\n",
    "        \"node_min_size\": 1,\n",
    "        \"node_max_size\": 10\n",
    "    }\n",
    "    final_params = default_params\n",
    "    if params is not None :\n",
    "        final_params = {\n",
    "            *default_params,\n",
    "            *params\n",
    "        }\n",
    "    \n",
    "    # remplir les dicts\n",
    "    for datum in data:\n",
    "        if (filter_export_import is not None and datum['export_import'] != filter_export_import):\n",
    "            continue\n",
    "            \n",
    "        if key_1 in datum and key_2 in datum:\n",
    "            value_1 = datum[key_1] if datum[key_1] is not None else \"undefined\"\n",
    "            value_2 = datum[key_2] if datum[key_2] is not None else \"undefined\"\n",
    "            value_1_id = key_1 + \"_\" + value_1\n",
    "            value_2_id = key_2 + \"_\" + value_2\n",
    "            \n",
    "            if value_1_id in key1_uniq:\n",
    "                key1_uniq[value_1_id] = {**key1_uniq[value_1_id], \"size\": key1_uniq[value_1_id][\"size\"] + 1}\n",
    "            else:\n",
    "               key1_uniq[value_1_id] = {\n",
    "                   \"type\": key_1, \n",
    "                   \"name\": value_1, \n",
    "                   \"color\": final_params[\"color_1\"],\n",
    "                   \"size\": 1\n",
    "               }\n",
    "            \n",
    "            if value_2_id in key2_uniq:\n",
    "                key2_uniq[value_2_id] = {**key2_uniq[value_2_id], \"size\": key2_uniq[value_2_id][\"size\"] + 1}\n",
    "            else:\n",
    "               key2_uniq[value_2_id] = {\n",
    "                   \"type\": key_2, \n",
    "                   \"name\": value_2, \n",
    "                   \"color\": final_params[\"color_2\"],\n",
    "                   \"size\": 1\n",
    "               }\n",
    "            \n",
    "            edge_footprint = value_1_id + \"-\" + value_2_id\n",
    "            if edge_footprint in edges_uniq:\n",
    "                edges_uniq[edge_footprint][\"weight\"] += 1\n",
    "            else:\n",
    "                edges_uniq[edge_footprint] = {\n",
    "                    \"source\": value_1_id,\n",
    "                    \"target\": value_2_id,\n",
    "                    \"weight\": 1\n",
    "                }\n",
    "                \n",
    "    # concaténer les deux dicts de noeuds en un seul\n",
    "    all_nodes = key1_uniq\n",
    "    all_nodes.update(key2_uniq)\n",
    "    # applatir et formatter les noeuds\n",
    "    nodes = []\n",
    "    for key, node in all_nodes.items():\n",
    "        nodes.append((key, node))\n",
    "    edges = []\n",
    "\n",
    "    for key, edge in edges_uniq.items():\n",
    "        edges.append((edge[\"source\"], edge[\"target\"], {\"weight\": edge[\"weight\"]}))\n",
    "        \n",
    "    # ajuster la taille des noeuds en fonction d'un min et d'un max donnés\n",
    "    domain_min_nodes_size = min([node[1]['size'] for node in nodes])\n",
    "    domain_max_nodes_size = max([node[1]['size'] for node in nodes])\n",
    "    range_in_nodes_size = [final_params[\"node_min_size\"], final_params[\"node_max_size\"]]\n",
    "    nodes_size_mapping_params = [domain_min_nodes_size, domain_max_nodes_size, *range_in_nodes_size]\n",
    "\n",
    "    for node in nodes:\n",
    "        node[1][\"size\"] = map_value(node[1][\"size\"], *nodes_size_mapping_params)\n",
    "        node[1][\"label\"] = node[1][\"name\"]\n",
    "\n",
    "\n",
    "    Graph.add_nodes_from(nodes)\n",
    "    Graph.add_edges_from(edges)\n",
    "\n",
    "    return Sigma(Graph, start_layout=True)"
   ]
  },
  {
   "cell_type": "markdown",
   "metadata": {},
   "source": [
    "# 0. Je vais chercher les flux du sprint (côté Toflit) pour nourrir mes réseaux\n",
    "\n",
    "nb : pour les flux concernant le sprint on n'a qu'une seule direction des Fermes : La Rochelle"
   ]
  },
  {
   "cell_type": "code",
   "execution_count": 23,
   "metadata": {
    "scrolled": true
   },
   "outputs": [
    {
     "data": {
      "text/plain": [
       "{'customs_region': 'La Rochelle',\n",
       " 'partner': 'Petites iles',\n",
       " 'export_import': 'Exports',\n",
       " 'value': '15120',\n",
       " 'customs_office': \"Les Sables d'Olonne\",\n",
       " 'partner_simplification': 'Petites Îles',\n",
       " 'product_revolutionempire': 'Animaux'}"
      ]
     },
     "execution_count": 23,
     "metadata": {},
     "output_type": "execute_result"
    }
   ],
   "source": [
    "# je vais chercher les flux qui concernent le sprint côté Toflit\n",
    "\n",
    "flows = toflit_client.get_flows(\n",
    "    year=1789,\n",
    "    customs_region='La Rochelle', \n",
    "    params=[\n",
    "      \"product_revolutionempire\",\n",
    "      \"partner\",\n",
    "      \"export_import\",\n",
    "      \"value\",\n",
    "      \"line\",\n",
    "      \"partner_simplification\",\n",
    "      \"customs_office\",\n",
    "      \"customs_region\"\n",
    "\t]\n",
    ")\n",
    "flows[0]    "
   ]
  },
  {
   "cell_type": "code",
   "execution_count": 24,
   "metadata": {},
   "outputs": [
    {
     "data": {
      "text/plain": [
       "1062"
      ]
     },
     "execution_count": 24,
     "metadata": {},
     "output_type": "execute_result"
    }
   ],
   "source": [
    "len(flows)"
   ]
  },
  {
   "cell_type": "markdown",
   "metadata": {},
   "source": [
    "# 1. Réseau bipartite entre les directions des Fermes et les partenaires commerciaux"
   ]
  },
  {
   "cell_type": "code",
   "execution_count": 21,
   "metadata": {},
   "outputs": [
    {
     "data": {
      "application/vnd.jupyter.widget-view+json": {
       "model_id": "379148eea8934ff2bc940c9a53c8415a",
       "version_major": 2,
       "version_minor": 0
      },
      "text/plain": [
       "Sigma(data={'nodes': [('customs_region_La Rochelle', {'type': 'customs_region', 'name': 'La Rochelle', 'color'…"
      ]
     },
     "metadata": {},
     "output_type": "display_data"
    }
   ],
   "source": [
    "render_coocurrences_graph(flows, \"customs_region\", \"partner_simplification\")"
   ]
  },
  {
   "cell_type": "markdown",
   "metadata": {},
   "source": [
    "# 2. Réseau bipartite entre les bureaux des Fermes et les partenaires commerciaux "
   ]
  },
  {
   "cell_type": "markdown",
   "metadata": {},
   "source": [
    "## A. avec filtre sur les imports"
   ]
  },
  {
   "cell_type": "code",
   "execution_count": 25,
   "metadata": {},
   "outputs": [
    {
     "data": {
      "application/vnd.jupyter.widget-view+json": {
       "model_id": "",
       "version_major": 2,
       "version_minor": 0
      },
      "text/plain": [
       "Sigma(data={'nodes': [(\"customs_office_Les Sables d'Olonne\", {'type': 'customs_office', 'name': \"Les Sables d'…"
      ]
     },
     "metadata": {},
     "output_type": "display_data"
    }
   ],
   "source": [
    "render_coocurrences_graph(flows, \"customs_office\", \"partner_simplification\", filter_export_import = 'Imports')"
   ]
  },
  {
   "cell_type": "markdown",
   "metadata": {},
   "source": [
    "## B. avec filtre sur les exports"
   ]
  },
  {
   "cell_type": "code",
   "execution_count": 26,
   "metadata": {},
   "outputs": [
    {
     "data": {
      "application/vnd.jupyter.widget-view+json": {
       "model_id": "4f83540c909a4d3893284bd3f6b437ed",
       "version_major": 2,
       "version_minor": 0
      },
      "text/plain": [
       "Sigma(data={'nodes': [(\"customs_office_Les Sables d'Olonne\", {'type': 'customs_office', 'name': \"Les Sables d'…"
      ]
     },
     "metadata": {},
     "output_type": "display_data"
    }
   ],
   "source": [
    "render_coocurrences_graph(flows, \"customs_office\", \"partner_simplification\", filter_export_import = 'Exports')"
   ]
  },
  {
   "cell_type": "markdown",
   "metadata": {},
   "source": [
    "# 3. Réseau tripartite entre les bureaux des Fermes, les produits et les partenaires commerciaux"
   ]
  },
  {
   "cell_type": "code",
   "execution_count": 30,
   "metadata": {},
   "outputs": [],
   "source": [
    "# je customise la fonction de création de Graphe\n",
    "\n",
    "def render_tripartite_graph(data, key_1, key_2, key_3, filter_export_import=None, params=None):\n",
    "    if filter_export_import not in [None, 'Exports', 'Imports']:\n",
    "        print(\"filter_export_import must be 'Exports', 'Imports' or None\")\n",
    "        raise\n",
    "    \n",
    "    # créer un graphe\n",
    "    Graph = nx.Graph()\n",
    "\n",
    "    # créer des dict pour les deux types de noeuds et les liens\n",
    "    key1_uniq = {} # -> products\n",
    "    key2_uniq = {} # -> partners\n",
    "    key3_uniq = {} # customs->office\n",
    "    edges_uniq = {}\n",
    "    \n",
    "    default_params = {\n",
    "        \"color_1\": \"rgb(0, 255, 0)\", # noeuds de type 1 en vert\n",
    "        \"color_2\": \"rgb(255, 0, 0)\", # noeuds de type 2 en rouge\n",
    "        \"color_3\": \"rgb(0, 0, 255)\", # noeuds de type 3 en bleu\n",
    "        \"node_min_size\": 1,\n",
    "        \"node_max_size\": 10\n",
    "    }\n",
    "    final_params = default_params\n",
    "    if params is not None :\n",
    "        final_params = {\n",
    "            *default_params,\n",
    "            *params\n",
    "        }\n",
    "        \n",
    "    # remplir les dicts\n",
    "    for datum in data:\n",
    "        \n",
    "        if (filter_export_import is not None and datum['export_import'] != filter_export_import):\n",
    "            continue\n",
    "            \n",
    "        if key_1 in datum and key_2 in datum and key_3 in datum:\n",
    "            value_1 = datum[key_1] if datum[key_1] is not None else \"undefined\"\n",
    "            value_2 = datum[key_2] if datum[key_2] is not None else \"undefined\"\n",
    "            value_3 = datum[key_2] if datum[key_2] is not None else \"undefined\"\n",
    "            value_1_id = key_1 + \"_\" + value_1\n",
    "            value_2_id = key_2 + \"_\" + value_2\n",
    "            value_3_id = key_3 + \"_\" + value_3\n",
    "            \n",
    "            if value_1_id in key1_uniq:\n",
    "                key1_uniq[value_1_id] = {**key1_uniq[value_1_id], \"size\": key1_uniq[value_1_id][\"size\"] + 1}\n",
    "            else:\n",
    "               key1_uniq[value_1_id] = {\n",
    "                   \"type\": key_1, \n",
    "                   \"name\": value_1, \n",
    "                   \"color\": final_params[\"color_1\"],\n",
    "                   \"size\": 1\n",
    "               }\n",
    "            if value_2_id in key2_uniq:\n",
    "                key2_uniq[value_2_id] = {**key2_uniq[value_2_id], \"size\": key2_uniq[value_2_id][\"size\"] + 1}\n",
    "            else:\n",
    "               key2_uniq[value_2_id] = {\n",
    "                   \"type\": key_2, \n",
    "                   \"name\": value_2, \n",
    "                   \"color\": final_params[\"color_2\"],\n",
    "                   \"size\": 1\n",
    "               }\n",
    "            if value_3_id in key3_uniq:\n",
    "                key3_uniq[value_3_id] = {**key3_uniq[value_3_id], \"size\": key3_uniq[value_3_id][\"size\"] + 1}\n",
    "            else:\n",
    "               key3_uniq[value_3_id] = {\n",
    "                   \"type\": key_3, \n",
    "                   \"name\": value_3, \n",
    "                   \"color\": final_params[\"color_3\"],\n",
    "                   \"size\": 1\n",
    "               }\n",
    "            \n",
    "            edge_footprints = {\n",
    "                str(value_1_id + \"-\" + value_2_id): {\n",
    "                    'source': value_1_id,\n",
    "                    'target': value_2_id\n",
    "                }, \n",
    "                str(value_2_id + \"-\" + value_3_id): {\n",
    "                    'source': value_2_id,\n",
    "                    'target': value_3_id\n",
    "                }, \n",
    "                str(value_1_id + \"-\" + value_3_id): {\n",
    "                    'source': value_1_id,\n",
    "                    'target': value_3_id\n",
    "                }\n",
    "            } \n",
    "\n",
    "            for edge_footprint in edge_footprints.keys():\n",
    "                if edge_footprint in edges_uniq:\n",
    "                    edges_uniq[edge_footprint][\"weight\"] += 1\n",
    "                else:\n",
    "                    edges_uniq[edge_footprint] = {\n",
    "                        \"source\": edge_footprints[edge_footprint]['source'],\n",
    "                        \"target\": edge_footprints[edge_footprint]['target'],\n",
    "                        \"weight\": 1\n",
    "                    }\n",
    "    # concaténer les deux dicts de noeuds en un seul\n",
    "    all_nodes = key1_uniq\n",
    "    all_nodes.update(key2_uniq)\n",
    "    all_nodes.update(key3_uniq) \n",
    "\n",
    "    # applatir et formatter les noeuds\n",
    "    nodes = []\n",
    "    for key, node in all_nodes.items():\n",
    "        nodes.append((key, node))\n",
    "    edges = []\n",
    "\n",
    "    for key, edge in edges_uniq.items():\n",
    "        edges.append((edge[\"source\"], edge[\"target\"], {\"weight\": edge[\"weight\"]}))\n",
    "\n",
    "    domain_min_nodes_size = min([node[1]['size'] for node in nodes])\n",
    "    domain_max_nodes_size = max([node[1]['size'] for node in nodes])\n",
    "    range_in_nodes_size = [1, 10]\n",
    "    nodes_size_mapping_params = [domain_min_nodes_size, domain_max_nodes_size, *range_in_nodes_size]\n",
    "\n",
    "    for node in nodes:\n",
    "        node[1][\"size\"] = map_value(node[1][\"size\"], *nodes_size_mapping_params)\n",
    "        node[1][\"label\"] = node[1][\"name\"]\n",
    "\n",
    "\n",
    "    Graph.add_nodes_from(nodes)\n",
    "    Graph.add_edges_from(edges)\n",
    "\n",
    "    return Sigma(Graph, start_layout=True)"
   ]
  },
  {
   "cell_type": "markdown",
   "metadata": {},
   "source": [
    "## A. avec filtre sur les imports"
   ]
  },
  {
   "cell_type": "code",
   "execution_count": 32,
   "metadata": {},
   "outputs": [
    {
     "data": {
      "application/vnd.jupyter.widget-view+json": {
       "model_id": "26a70b45b2d344b1a6a056083ef0c653",
       "version_major": 2,
       "version_minor": 0
      },
      "text/plain": [
       "Sigma(data={'nodes': [('partner_Petites iles', {'type': 'partner', 'name': 'Petites iles', 'color': 'rgb(0, 25…"
      ]
     },
     "metadata": {},
     "output_type": "display_data"
    }
   ],
   "source": [
    "render_tripartite_graph(flows, \"partner\", \"product_revolutionempire\", \"customs_office\", filter_export_import = 'Imports')"
   ]
  },
  {
   "cell_type": "markdown",
   "metadata": {},
   "source": [
    "## B. avec filtre sur les exports"
   ]
  },
  {
   "cell_type": "code",
   "execution_count": 33,
   "metadata": {},
   "outputs": [
    {
     "data": {
      "application/vnd.jupyter.widget-view+json": {
       "model_id": "789f91d529fc403ab4a570866c43b94f",
       "version_major": 2,
       "version_minor": 0
      },
      "text/plain": [
       "Sigma(data={'nodes': [('partner_Petites iles', {'type': 'partner', 'name': 'Petites iles', 'color': 'rgb(0, 25…"
      ]
     },
     "metadata": {},
     "output_type": "display_data"
    }
   ],
   "source": [
    "render_tripartite_graph(flows, \"partner\", \"product_revolutionempire\", \"customs_office\", filter_export_import = 'Exports')"
   ]
  }
 ],
 "metadata": {
  "kernelspec": {
   "display_name": "Python 3",
   "language": "python",
   "name": "python3"
  },
  "language_info": {
   "codemirror_mode": {
    "name": "ipython",
    "version": 3
   },
   "file_extension": ".py",
   "mimetype": "text/x-python",
   "name": "python",
   "nbconvert_exporter": "python",
   "pygments_lexer": "ipython3",
   "version": "3.8.5"
  }
 },
 "nbformat": 4,
 "nbformat_minor": 2
}
