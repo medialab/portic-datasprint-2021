{
 "cells": [
  {
   "cell_type": "code",
   "execution_count": 1,
   "metadata": {},
   "outputs": [],
   "source": [
    "from poitousprint import Portic, Toflit\n",
    "import json\n",
    "import networkx as nx\n",
    "from ipysigma import Sigma\n",
    "\n",
    "portic_client = Portic()\n",
    "toflit_client = Toflit()\n",
    "\n",
    "# this function allows to map a value from a domain of min-max to another\n",
    "def map_value(value, domain_min, domain_max, range_min, range_max):\n",
    "    left_span = domain_max - domain_min\n",
    "    right_span = range_max - range_min\n",
    "\n",
    "    # Convert the left range into a 0-1 range (float)\n",
    "    scaled = float(value - domain_min) / float(left_span)\n",
    "\n",
    "    # Convert the 0-1 range into a value in the right range.\n",
    "    return range_min + (scaled * right_span)"
   ]
  },
  {
   "cell_type": "markdown",
   "metadata": {},
   "source": [
    "#### Fonction générique qui permet de fabriquer un réseau à partir :\n",
    "\n",
    "1. d'une liste de dicts (ex. flux toflit18)\n",
    "2. d'une liste de deux propriétés à comparer"
   ]
  },
  {
   "cell_type": "code",
   "execution_count": 3,
   "metadata": {},
   "outputs": [],
   "source": [
    "def render_coocurrences_graph(data, key_1, key_2, params=None):\n",
    "    # créer un graphe\n",
    "    Graph = nx.Graph()\n",
    "\n",
    "    # créer des dict pour les deux types de noeuds et les liens\n",
    "    key1_uniq = {}\n",
    "    key2_uniq = {}\n",
    "    edges_uniq = {}\n",
    "    default_params = {\n",
    "        \"color_1\": \"rgb(0, 255, 0)\",\n",
    "        \"color_2\": \"rgb(255, 0, 0)\",\n",
    "        \"node_min_size\": 1,\n",
    "        \"node_max_size\": 10\n",
    "    }\n",
    "    final_params = default_params\n",
    "    if params is not None :\n",
    "        final_params = {\n",
    "            *default_params,\n",
    "            *params\n",
    "        }\n",
    "    \n",
    "    # remplir les dicts\n",
    "    for datum in data:\n",
    "        if key_1 in datum and key_2 in datum:\n",
    "            value_1 = datum[key_1] if datum[key_1] is not None else \"undefined\"\n",
    "            value_2 = datum[key_2] if datum[key_2] is not None else \"undefined\"\n",
    "            value_1_id = key_1 + \"_\" + value_1\n",
    "            value_2_id = key_2 + \"_\" + value_2\n",
    "            \n",
    "            if value_1_id in key1_uniq:\n",
    "                key1_uniq[value_1_id] = {**key1_uniq[value_1_id], \"size\": key1_uniq[value_1_id][\"size\"] + 1}\n",
    "            else:\n",
    "               key1_uniq[value_1_id] = {\n",
    "                   \"type\": key_1, \n",
    "                   \"name\": value_1, \n",
    "                   \"color\": final_params[\"color_1\"],\n",
    "                   \"size\": 1\n",
    "               }\n",
    "            \n",
    "            if value_2_id in key2_uniq:\n",
    "                key2_uniq[value_2_id] = {**key2_uniq[value_2_id], \"size\": key2_uniq[value_2_id][\"size\"] + 1}\n",
    "            else:\n",
    "               key2_uniq[value_2_id] = {\n",
    "                   \"type\": key_2, \n",
    "                   \"name\": value_2, \n",
    "                   \"color\": final_params[\"color_2\"],\n",
    "                   \"size\": 1\n",
    "               }\n",
    "            \n",
    "            edge_footprint = value_1_id + \"-\" + value_2_id\n",
    "            if edge_footprint in edges_uniq:\n",
    "                edges_uniq[edge_footprint][\"weight\"] += 1\n",
    "            else:\n",
    "                edges_uniq[edge_footprint] = {\n",
    "                    \"source\": value_1_id,\n",
    "                    \"target\": value_2_id,\n",
    "                    \"weight\": 1\n",
    "                }\n",
    "                \n",
    "    # concaténer les deux dicts de noeuds en un seul\n",
    "    all_nodes = key1_uniq\n",
    "    all_nodes.update(key2_uniq)\n",
    "    # applatir et formatter les noeuds\n",
    "    nodes = []\n",
    "    for key, node in all_nodes.items():\n",
    "        nodes.append((key, node))\n",
    "    edges = []\n",
    "\n",
    "    for key, edge in edges_uniq.items():\n",
    "        edges.append((edge[\"source\"], edge[\"target\"], {\"weight\": edge[\"weight\"]}))\n",
    "        \n",
    "    # ajuster la taille des noeuds en fonction d'un min et d'un max donnés\n",
    "    domain_min_nodes_size = min([node[1]['size'] for node in nodes])\n",
    "    domain_max_nodes_size = max([node[1]['size'] for node in nodes])\n",
    "    range_in_nodes_size = [final_params[\"node_min_size\"], final_params[\"node_max_size\"]]\n",
    "    nodes_size_mapping_params = [domain_min_nodes_size, domain_max_nodes_size, *range_in_nodes_size]\n",
    "\n",
    "    for node in nodes:\n",
    "        node[1][\"size\"] = map_value(node[1][\"size\"], *nodes_size_mapping_params)\n",
    "        node[1][\"label\"] = node[1][\"name\"]\n",
    "\n",
    "\n",
    "    Graph.add_nodes_from(nodes)\n",
    "    Graph.add_edges_from(edges)\n",
    "\n",
    "    return Sigma(Graph, start_layout=True)"
   ]
  },
  {
   "cell_type": "markdown",
   "metadata": {},
   "source": [
    "# 0. Je vais chercher les flux du sprint (côté Toflit) pour nourrir mes réseaux\n",
    "\n",
    "nb : pour les flux concernant le sprint on n'a qu'une seule direction des Fermes : La Rochelle"
   ]
  },
  {
   "cell_type": "code",
   "execution_count": 19,
   "metadata": {},
   "outputs": [
    {
     "data": {
      "text/plain": [
       "{'customs_region': 'La Rochelle',\n",
       " 'partner': 'Petites iles',\n",
       " 'product': 'Bestiaux beuf',\n",
       " 'value': '15120',\n",
       " 'customs_office': \"Les Sables d'Olonne\",\n",
       " 'partner_simplification': 'Petites Îles'}"
      ]
     },
     "execution_count": 19,
     "metadata": {},
     "output_type": "execute_result"
    }
   ],
   "source": [
    "# je vais chercher les flux qui concernent le sprint côté Toflit\n",
    "\n",
    "flows = toflit_client.get_flows(\n",
    "    year=1789,\n",
    "    customs_region='La Rochelle', \n",
    "    params=[\n",
    "      \"product\",\n",
    "      \"partner\",\n",
    "      \"import\",\n",
    "      \"value\",\n",
    "      \"line\",\n",
    "      \"partner_simplification\",\n",
    "      \"customs_office\",\n",
    "      \"customs_region\"\n",
    "\t]\n",
    ")\n",
    "flows[0]"
   ]
  },
  {
   "cell_type": "markdown",
   "metadata": {},
   "source": [
    "# 1. Réseau bipartite entre les directions des Fermes et les partenaires commerciaux"
   ]
  },
  {
   "cell_type": "code",
   "execution_count": 20,
   "metadata": {},
   "outputs": [
    {
     "data": {
      "application/vnd.jupyter.widget-view+json": {
       "model_id": "88b7dd0038e44c0baf8108bc65ce312e",
       "version_major": 2,
       "version_minor": 0
      },
      "text/plain": [
       "Sigma(data={'nodes': [('customs_region_La Rochelle', {'type': 'customs_region', 'name': 'La Rochelle', 'color'…"
      ]
     },
     "metadata": {},
     "output_type": "display_data"
    }
   ],
   "source": [
    "render_coocurrences_graph(flows, \"customs_region\", \"partner_simplification\")"
   ]
  },
  {
   "cell_type": "markdown",
   "metadata": {},
   "source": [
    "# 2. Réseau bipartite entre les bureaux des Fermes et les partenaires commerciaux"
   ]
  },
  {
   "cell_type": "code",
   "execution_count": 18,
   "metadata": {},
   "outputs": [
    {
     "data": {
      "application/vnd.jupyter.widget-view+json": {
       "model_id": "c3843aba4e36409d91f34b18ea05b1a2",
       "version_major": 2,
       "version_minor": 0
      },
      "text/plain": [
       "Sigma(data={'nodes': [(\"customs_office_Les Sables d'Olonne\", {'type': 'customs_office', 'name': \"Les Sables d'…"
      ]
     },
     "metadata": {},
     "output_type": "display_data"
    }
   ],
   "source": [
    "render_coocurrences_graph(flows, \"customs_office\", \"partner_simplification\")"
   ]
  },
  {
   "cell_type": "markdown",
   "metadata": {},
   "source": [
    "# 3. Réseau tripartite entre les bureaux des Fermes, les produits et les partenaires commerciaux"
   ]
  },
  {
   "cell_type": "code",
   "execution_count": 28,
   "metadata": {},
   "outputs": [
    {
     "name": "stdout",
     "output_type": "stream",
     "text": [
      "partner_Petites iles-product_Bestiaux beuf\n",
      "partner_Petites iles-product_Bestiaux beuf\n"
     ]
    }
   ],
   "source": [
    "print(partner_id + \"-\" + product_id)\n",
    "print(str(partner_id + \"-\" + product_id))"
   ]
  },
  {
   "cell_type": "code",
   "execution_count": 27,
   "metadata": {},
   "outputs": [
    {
     "ename": "TypeError",
     "evalue": "string indices must be integers",
     "output_type": "error",
     "traceback": [
      "\u001b[0;31m---------------------------------------------------------------------------\u001b[0m",
      "\u001b[0;31mTypeError\u001b[0m                                 Traceback (most recent call last)",
      "\u001b[0;32m<ipython-input-27-66b0f547ff71>\u001b[0m in \u001b[0;36m<module>\u001b[0;34m\u001b[0m\n\u001b[1;32m     68\u001b[0m         \u001b[0;32melse\u001b[0m\u001b[0;34m:\u001b[0m\u001b[0;34m\u001b[0m\u001b[0;34m\u001b[0m\u001b[0m\n\u001b[1;32m     69\u001b[0m             edges_uniq[edge_footprint] = { # à customiser !!!!!!\n\u001b[0;32m---> 70\u001b[0;31m                 \u001b[0;34m\"source\"\u001b[0m\u001b[0;34m:\u001b[0m \u001b[0medge_footprint\u001b[0m\u001b[0;34m[\u001b[0m\u001b[0;34m'source'\u001b[0m\u001b[0;34m]\u001b[0m\u001b[0;34m,\u001b[0m\u001b[0;34m\u001b[0m\u001b[0;34m\u001b[0m\u001b[0m\n\u001b[0m\u001b[1;32m     71\u001b[0m                 \u001b[0;34m\"target\"\u001b[0m\u001b[0;34m:\u001b[0m \u001b[0medge_footprint\u001b[0m\u001b[0;34m[\u001b[0m\u001b[0;34m'target'\u001b[0m\u001b[0;34m]\u001b[0m\u001b[0;34m,\u001b[0m\u001b[0;34m\u001b[0m\u001b[0;34m\u001b[0m\u001b[0m\n\u001b[1;32m     72\u001b[0m                 \u001b[0;34m\"weight\"\u001b[0m\u001b[0;34m:\u001b[0m \u001b[0;36m1\u001b[0m\u001b[0;34m\u001b[0m\u001b[0;34m\u001b[0m\u001b[0m\n",
      "\u001b[0;31mTypeError\u001b[0m: string indices must be integers"
     ]
    }
   ],
   "source": [
    "# je customise la fonction de création de Graphe\n",
    "\n",
    "# créer un graphe\n",
    "Graph = nx.Graph()\n",
    "\n",
    "# créer des dict pour les deux types de noeuds et les liens\n",
    "products_uniq = {}\n",
    "partners_uniq = {}\n",
    "customs_offices_uniq = {}\n",
    "edges_uniq = {}\n",
    "\n",
    "# remplir les dicts\n",
    "for flow in flows:\n",
    "    partner = flow[\"partner\"]\n",
    "    product = flow[\"product\"]\n",
    "    custom_office = flow[\"customs_office\"] \n",
    "    partner_id = \"partner_\" + partner\n",
    "    product_id = \"product_\" + product\n",
    "    custom_office_id = \"customs_office_\" + custom_office # pas sure de ça\n",
    "    \n",
    "    if product_id in products_uniq:\n",
    "        products_uniq[product_id] = {**products_uniq[product_id], \"size\": products_uniq[product_id][\"size\"] + 1}\n",
    "    else:\n",
    "       products_uniq[product_id] = {\n",
    "           \"type\": \"product\", \n",
    "           \"name\": product, \n",
    "           \"color\": \"rgb(0, 255, 0)\",\n",
    "           \"size\": 1\n",
    "       }\n",
    "    \n",
    "    if partner_id in partners_uniq:\n",
    "        partners_uniq[partner_id] = {**partners_uniq[partner_id], \"size\": partners_uniq[partner_id][\"size\"] + 1}\n",
    "    else:\n",
    "       partners_uniq[partner_id] = {\n",
    "           \"type\": \"partner\", \n",
    "           \"name\": partner, \n",
    "           \"color\": \"rgb(255, 0, 0)\",\n",
    "           \"size\": 1\n",
    "       }\n",
    "    \n",
    "    if custom_office_id in customs_offices_uniq:\n",
    "        customs_offices_uniq[custom_office_id] = {**customs_offices_uniq[custom_office_id], \"size\": customs_offices_uniq[custom_office_id][\"size\"] + 1}\n",
    "    else:\n",
    "       customs_offices_uniq[custom_office_id] = {\n",
    "           \"type\": \"custom office\", \n",
    "           \"name\": custom_office, \n",
    "           \"color\": \"rgb(0, 0, 255)\",\n",
    "           \"size\": 1\n",
    "       }\n",
    "    edge_footprints = {\n",
    "        str(partner_id + \"-\" + product_id): {\n",
    "            'source': partner_id,\n",
    "            'target': product_id\n",
    "        }, \n",
    "        str(partner_id + \"-\" + custom_office_id): {\n",
    "            'source': partner_id,\n",
    "            'target': custom_office_id\n",
    "        }, \n",
    "        str(product_id + \"-\" + custom_office_id): {\n",
    "            'source': product_id,\n",
    "            'target': custom_office_id\n",
    "        }\n",
    "    } # pas sure pour ça\n",
    "    \n",
    "    for edge_footprint in edge_footprints.keys():\n",
    "        if edge_footprint in edges_uniq:\n",
    "            edges_uniq[edge_footprint][values][\"weight\"] += 1\n",
    "        else:\n",
    "            edges_uniq[edge_footprint] = { # à customiser !!!!!!\n",
    "                \"source\": edge_footprint['source'],\n",
    "                \"target\": edge_footprint['target'],\n",
    "                \"weight\": 1\n",
    "            }\n",
    "# concaténer les deux dicts de noeuds en un seul\n",
    "all_nodes = partners_uniq\n",
    "all_nodes.update(products_uniq)\n",
    "all_nodes.update(customs_offices_uniq) # j'espère que ça fonctionne\n",
    "\n",
    "# applatir et formatter les noeuds\n",
    "nodes = []\n",
    "for key, node in all_nodes.items():\n",
    "    nodes.append((key, node))\n",
    "edges = []\n",
    "\n",
    "for key, edge in edges_uniq.items():\n",
    "    edges.append((edge[\"source\"], edge[\"target\"], {\"weight\": edge[\"weight\"]}))\n",
    "    \n",
    "domain_min_nodes_size = min([node[1]['size'] for node in nodes])\n",
    "domain_max_nodes_size = max([node[1]['size'] for node in nodes])\n",
    "range_in_nodes_size = [1, 10]\n",
    "nodes_size_mapping_params = [domain_min_nodes_size, domain_max_nodes_size, *range_in_nodes_size]\n",
    "\n",
    "for node in nodes:\n",
    "    node[1][\"size\"] = map_value(node[1][\"size\"], *nodes_size_mapping_params)\n",
    "    node[1][\"label\"] = node[1][\"name\"]\n",
    "\n",
    "\n",
    "Graph.add_nodes_from(nodes)\n",
    "Graph.add_edges_from(edges)\n",
    "\n",
    "Sigma(Graph)"
   ]
  },
  {
   "cell_type": "code",
   "execution_count": null,
   "metadata": {},
   "outputs": [],
   "source": []
  }
 ],
 "metadata": {
  "kernelspec": {
   "display_name": "Python 3",
   "language": "python",
   "name": "python3"
  },
  "language_info": {
   "codemirror_mode": {
    "name": "ipython",
    "version": 3
   },
   "file_extension": ".py",
   "mimetype": "text/x-python",
   "name": "python",
   "nbconvert_exporter": "python",
   "pygments_lexer": "ipython3",
   "version": "3.8.5"
  }
 },
 "nbformat": 4,
 "nbformat_minor": 4
}
