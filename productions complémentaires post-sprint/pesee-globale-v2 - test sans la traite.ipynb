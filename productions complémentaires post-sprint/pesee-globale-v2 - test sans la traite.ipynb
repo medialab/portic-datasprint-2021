{
 "cells": [
  {
   "cell_type": "markdown",
   "metadata": {},
   "source": [
    "#### Méthodologie d'acquisition des données de pesée globale adoptée lors du sprint :\n",
    "* prendre tous les flux toflit avec le flag best_guess_national_partner pour établir les totaux pour toute la france\n",
    "* prendre tous les flux toflit avec le flag best_guess_region_prodxpart pour établir les totaux par région\n",
    "\n",
    "#### Ajustements post-sprint : tester sans la traite\n",
    "* exclure tous les flux avec pour produit \"êtres humains\" \"traite\" ??? => on n'a rien de tout ça dans les produits toflit\n",
    "=> fonctionner avec partner = colonies et aviser en fonction de l'origine du produit ??\n",
    "(je regarde ce tableau qui m'indique que cette technique ne semble pas fonctionner pour les exports : https://docs.google.com/spreadsheets/d/1ChDCPYVhL3E7MgWMXuFQppKiLUPHuaxD48kAF--Tmmo/edit#gid=1433939378)\n",
    "\n",
    "pour les imports : tests à la fin de ce noebook => on n'a pas les origines des produits, et la nature des produits commercés avec les colonies ne semble pas mentionner la traite \n",
    "\n",
    "\n",
    "==> je dois fonctionner avec des données Navigo pour identifier des activités de traite ?"
   ]
  },
  {
   "cell_type": "code",
   "execution_count": 1,
   "metadata": {},
   "outputs": [],
   "source": [
    "from poitousprint import Toflit\n",
    "from vega import VegaLite\n",
    "import pandas as pd\n",
    "\n",
    "toflit_client = Toflit()"
   ]
  },
  {
   "cell_type": "code",
   "execution_count": 2,
   "metadata": {},
   "outputs": [],
   "source": [
    "flows = toflit_client.get_flows(best_guess_region_prodxpart='1')"
   ]
  },
  {
   "cell_type": "code",
   "execution_count": 3,
   "metadata": {},
   "outputs": [],
   "source": [
    "flows_national = toflit_client.get_flows(best_guess_national_partner='1')"
   ]
  },
  {
   "cell_type": "code",
   "execution_count": 11,
   "metadata": {},
   "outputs": [
    {
     "data": {
      "application/javascript": [
       "const spec = {\"$schema\": \"https://vega.github.io/schema/vega-lite/v5.json\", \"title\": \"\\u00c9volution globale de la part des \\u00e9changes de La Rochelle par rapport \\u00e0 l'ensemble de la France\", \"mark\": {\"type\": \"bar\", \"tooltip\": {\"content\": \"data\"}}, \"encoding\": {\"x\": {\"field\": \"year\", \"type\": \"ordinal\", \"title\": \"ann\\u00e9e\"}, \"y\": {\"type\": \"quantitative\", \"field\": \"portion\", \"title\": \"Par par rapport au total des \\u00e9changes en France\"}, \"color\": {\"type\": \"nominal\", \"field\": \"type\", \"title\": \"Type de flux\", \"scale\": {\"range\": [\"orange\", \"blue\", \"white\"]}}}, \"data\": {\"values\": [{\"year\": \"1718\", \"type\": \"import\", \"portion\": 0.023087047026589345}, {\"year\": \"1718\", \"type\": \"export\", \"portion\": 0.03219531691548792}, {\"year\": \"1719\", \"type\": \"import\", \"portion\": 0.023286329657905818}, {\"year\": \"1719\", \"type\": \"export\", \"portion\": 0.03990792541526205}, {\"year\": \"1720\", \"type\": \"import\", \"portion\": 0.030018476013733926}, {\"year\": \"1720\", \"type\": \"export\", \"portion\": 0.034700843533030726}, {\"year\": \"1721\", \"type\": \"import\", \"portion\": 0.03563645419738427}, {\"year\": \"1721\", \"type\": \"export\", \"portion\": 0.05103735840285629}, {\"year\": \"1722\", \"type\": \"import\", \"portion\": 0.04846145643948962}, {\"year\": \"1722\", \"type\": \"export\", \"portion\": 0.037046882033332514}, {\"year\": \"1723\", \"type\": \"import\", \"portion\": 0.028736513100481094}, {\"year\": \"1723\", \"type\": \"export\", \"portion\": 0.028016170733598373}, {\"year\": \"1724\", \"type\": \"import\", \"portion\": 0.04072881287853137}, {\"year\": \"1724\", \"type\": \"export\", \"portion\": 0.032369231028937163}, {\"year\": \"1725\", \"type\": \"import\", \"portion\": 0.027937989611129647}, {\"year\": \"1725\", \"type\": \"export\", \"portion\": 0.028481867168109066}, {\"year\": \"1726\", \"type\": \"import\", \"portion\": 0.016442514901865712}, {\"year\": \"1726\", \"type\": \"export\", \"portion\": 0.022918987613060077}, {\"year\": \"1727\", \"type\": \"import\", \"portion\": 0.031158258307207636}, {\"year\": \"1727\", \"type\": \"export\", \"portion\": 0.03363148482545753}, {\"year\": \"1728\", \"type\": \"import\", \"portion\": 0.028781919395015256}, {\"year\": \"1728\", \"type\": \"export\", \"portion\": 0.03469617661816836}, {\"year\": \"1729\", \"type\": \"import\", \"portion\": 0.02291567560356445}, {\"year\": \"1729\", \"type\": \"export\", \"portion\": 0.0307252304671884}, {\"year\": \"1730\", \"type\": \"import\", \"portion\": 0.027718129407783395}, {\"year\": \"1730\", \"type\": \"export\", \"portion\": 0.03163350270420768}, {\"year\": \"1731\", \"type\": \"import\", \"portion\": 0.024386694396273483}, {\"year\": \"1731\", \"type\": \"export\", \"portion\": 0.02928467112829813}, {\"year\": \"1732\", \"type\": \"import\", \"portion\": 0.025665269643502606}, {\"year\": \"1732\", \"type\": \"export\", \"portion\": 0.03245018871223936}, {\"year\": \"1733\", \"type\": \"import\", \"portion\": 0.020474254183408494}, {\"year\": \"1733\", \"type\": \"export\", \"portion\": 0.029854887536922985}, {\"year\": \"1734\", \"type\": \"import\", \"portion\": 0.028501627146410007}, {\"year\": \"1734\", \"type\": \"export\", \"portion\": 0.036074071632763494}, {\"year\": \"1735\", \"type\": \"import\", \"portion\": 0.02446483654661584}, {\"year\": \"1735\", \"type\": \"export\", \"portion\": 0.035956712391306316}, {\"year\": \"1736\", \"type\": \"import\", \"portion\": 0.025828464975210116}, {\"year\": \"1736\", \"type\": \"export\", \"portion\": 0.028398811571897473}, {\"year\": \"1737\", \"type\": \"import\", \"portion\": 0.025023719462112088}, {\"year\": \"1737\", \"type\": \"export\", \"portion\": 0.026910536912922604}, {\"year\": \"1738\", \"type\": \"import\", \"portion\": 0.025502745000798428}, {\"year\": \"1738\", \"type\": \"export\", \"portion\": 0.028165949159950007}, {\"year\": \"1739\", \"type\": \"import\", \"portion\": 0.025900674431316863}, {\"year\": \"1739\", \"type\": \"export\", \"portion\": 0.023086852466621934}, {\"year\": \"1740\", \"type\": \"import\", \"portion\": 0.02543196367483261}, {\"year\": \"1740\", \"type\": \"export\", \"portion\": 0.02553828516535352}, {\"year\": \"1741\", \"type\": \"import\", \"portion\": 0.017358050238151658}, {\"year\": \"1741\", \"type\": \"export\", \"portion\": 0.023756183135939423}, {\"year\": \"1742\", \"type\": \"import\", \"portion\": 0.0}, {\"year\": \"1742\", \"type\": \"export\", \"portion\": 0.0}, {\"year\": \"1743\", \"type\": \"import\", \"portion\": 0.0}, {\"year\": \"1743\", \"type\": \"export\", \"portion\": 0.0}, {\"year\": \"1744\", \"type\": \"import\", \"portion\": 0.018102389279419547}, {\"year\": \"1744\", \"type\": \"export\", \"portion\": 0.01804389818701745}, {\"year\": \"1745\", \"type\": \"import\", \"portion\": 0.0}, {\"year\": \"1745\", \"type\": \"export\", \"portion\": 0.0}, {\"year\": \"1746\", \"type\": \"import\", \"portion\": 0.03128891347810377}, {\"year\": \"1746\", \"type\": \"export\", \"portion\": 0.040033135185510854}, {\"year\": \"1747\", \"type\": \"import\", \"portion\": 0.03529119536660195}, {\"year\": \"1747\", \"type\": \"export\", \"portion\": 0.11529652223318178}, {\"year\": \"1748\", \"type\": \"import\", \"portion\": 0.025915480676006197}, {\"year\": \"1748\", \"type\": \"export\", \"portion\": 0.04696971694548557}, {\"year\": \"1749\", \"type\": \"import\", \"portion\": 0.022768183765974982}, {\"year\": \"1749\", \"type\": \"export\", \"portion\": 0.027015853593982214}, {\"year\": \"1750\", \"type\": \"import\", \"portion\": 0.02466740025017455}, {\"year\": \"1750\", \"type\": \"export\", \"portion\": 0.02093672238343731}, {\"year\": \"1751\", \"type\": \"import\", \"portion\": 0.0190012660000254}, {\"year\": \"1751\", \"type\": \"export\", \"portion\": 0.024931938887230328}, {\"year\": \"1752\", \"type\": \"import\", \"portion\": 0.017404243882227367}, {\"year\": \"1752\", \"type\": \"export\", \"portion\": 0.01817393116906683}, {\"year\": \"1753\", \"type\": \"import\", \"portion\": 0.015633999744693237}, {\"year\": \"1753\", \"type\": \"export\", \"portion\": 0.016678284183038555}, {\"year\": \"1754\", \"type\": \"import\", \"portion\": 0.019402932398322616}, {\"year\": \"1754\", \"type\": \"export\", \"portion\": 0.017894645560575687}, {\"year\": \"1755\", \"type\": \"import\", \"portion\": 0.0}, {\"year\": \"1755\", \"type\": \"export\", \"portion\": 0.0}, {\"year\": \"1756\", \"type\": \"import\", \"portion\": 0.017056687045731864}, {\"year\": \"1756\", \"type\": \"export\", \"portion\": 0.017946901522293075}, {\"year\": \"1757\", \"type\": \"import\", \"portion\": 0.02160304470647449}, {\"year\": \"1757\", \"type\": \"export\", \"portion\": 0.025485849221933962}, {\"year\": \"1758\", \"type\": \"import\", \"portion\": 0.008523278068590044}, {\"year\": \"1758\", \"type\": \"export\", \"portion\": 0.018500792962335522}, {\"year\": \"1759\", \"type\": \"import\", \"portion\": 0.0079310525429827}, {\"year\": \"1759\", \"type\": \"export\", \"portion\": 0.010551569827403504}, {\"year\": \"1760\", \"type\": \"import\", \"portion\": 0.009629893494765252}, {\"year\": \"1760\", \"type\": \"export\", \"portion\": 0.011173974563704041}, {\"year\": \"1761\", \"type\": \"import\", \"portion\": 0.0055541769935040786}, {\"year\": \"1761\", \"type\": \"export\", \"portion\": 0.014040456239222635}, {\"year\": \"1762\", \"type\": \"import\", \"portion\": 0.004906744179203537}, {\"year\": \"1762\", \"type\": \"export\", \"portion\": 0.00738254888705376}, {\"year\": \"1763\", \"type\": \"import\", \"portion\": 0.0}, {\"year\": \"1763\", \"type\": \"export\", \"portion\": 0.0}, {\"year\": \"1764\", \"type\": \"import\", \"portion\": 0.01581802891331301}, {\"year\": \"1764\", \"type\": \"export\", \"portion\": 0.0}, {\"year\": \"1765\", \"type\": \"import\", \"portion\": 0.007741683024937755}, {\"year\": \"1765\", \"type\": \"export\", \"portion\": 0.013735596634314305}, {\"year\": \"1766\", \"type\": \"import\", \"portion\": 0.009743565105152393}, {\"year\": \"1766\", \"type\": \"export\", \"portion\": 0.015763131227673297}, {\"year\": \"1767\", \"type\": \"import\", \"portion\": 0.011646678843350947}, {\"year\": \"1767\", \"type\": \"export\", \"portion\": 0.011752829227270802}, {\"year\": \"1768\", \"type\": \"import\", \"portion\": 0.014127639975925132}, {\"year\": \"1768\", \"type\": \"export\", \"portion\": 0.012850639792938615}, {\"year\": \"1769\", \"type\": \"import\", \"portion\": 0.00879732268371977}, {\"year\": \"1769\", \"type\": \"export\", \"portion\": 0.010078064783594595}, {\"year\": \"1770\", \"type\": \"import\", \"portion\": 0.007341156510970023}, {\"year\": \"1770\", \"type\": \"export\", \"portion\": 0.00969288120910802}, {\"year\": \"1771\", \"type\": \"import\", \"portion\": 0.007503362052006741}, {\"year\": \"1771\", \"type\": \"export\", \"portion\": 0.008520964439354638}, {\"year\": \"1772\", \"type\": \"import\", \"portion\": 0.01099015577162888}, {\"year\": \"1772\", \"type\": \"export\", \"portion\": 0.015089232859441448}, {\"year\": \"1773\", \"type\": \"import\", \"portion\": 0.01603211260343224}, {\"year\": \"1773\", \"type\": \"export\", \"portion\": 0.024716818346923942}, {\"year\": \"1774\", \"type\": \"import\", \"portion\": 0.01672800087634431}, {\"year\": \"1774\", \"type\": \"export\", \"portion\": 0.01884264014335381}, {\"year\": \"1775\", \"type\": \"import\", \"portion\": 0.016407989161798475}, {\"year\": \"1775\", \"type\": \"export\", \"portion\": 0.018648802515928094}, {\"year\": \"1776\", \"type\": \"import\", \"portion\": 0.013939185963242307}, {\"year\": \"1776\", \"type\": \"export\", \"portion\": 0.022089856496557626}, {\"year\": \"1777\", \"type\": \"import\", \"portion\": 0.0}, {\"year\": \"1777\", \"type\": \"export\", \"portion\": 0.0}, {\"year\": \"1778\", \"type\": \"import\", \"portion\": 0.0142344596914751}, {\"year\": \"1778\", \"type\": \"export\", \"portion\": 0.011836960500139148}, {\"year\": \"1779\", \"type\": \"import\", \"portion\": 0.009208137457301415}, {\"year\": \"1779\", \"type\": \"export\", \"portion\": 0.009040261516352243}, {\"year\": \"1780\", \"type\": \"import\", \"portion\": 0.008063835134982229}, {\"year\": \"1780\", \"type\": \"export\", \"portion\": 0.008717515278886168}, {\"year\": \"1781\", \"type\": \"import\", \"portion\": 0.0}, {\"year\": \"1781\", \"type\": \"export\", \"portion\": 0.0}, {\"year\": \"1782\", \"type\": \"import\", \"portion\": 0.0}, {\"year\": \"1782\", \"type\": \"export\", \"portion\": 0.0}, {\"year\": \"1783\", \"type\": \"import\", \"portion\": 0.0}, {\"year\": \"1783\", \"type\": \"export\", \"portion\": 0.0}, {\"year\": \"1784\", \"type\": \"import\", \"portion\": 0.0}, {\"year\": \"1784\", \"type\": \"export\", \"portion\": 0.0}, {\"year\": \"1785\", \"type\": \"import\", \"portion\": 0.0}, {\"year\": \"1785\", \"type\": \"export\", \"portion\": 0.0}, {\"year\": \"1786\", \"type\": \"import\", \"portion\": 0.0}, {\"year\": \"1786\", \"type\": \"export\", \"portion\": 0.0}, {\"year\": \"1787\", \"type\": \"import\", \"portion\": 0.0}, {\"year\": \"1787\", \"type\": \"export\", \"portion\": 0.0}, {\"year\": \"1788\", \"type\": \"import\", \"portion\": 0.0}, {\"year\": \"1788\", \"type\": \"export\", \"portion\": 0.0}, {\"year\": \"1789\", \"type\": \"import\", \"portion\": 0.012098439543304458}, {\"year\": \"1789\", \"type\": \"export\", \"portion\": 0.01458004729271058}]}};\n",
       "const opt = {};\n",
       "const type = \"vega-lite\";\n",
       "const id = \"764ad0d2-1109-4b96-abc1-ff5367b48c8d\";\n",
       "\n",
       "const output_area = this;\n",
       "\n",
       "require([\"nbextensions/jupyter-vega/index\"], function(vega) {\n",
       "  const target = document.createElement(\"div\");\n",
       "  target.id = id;\n",
       "  target.className = \"vega-embed\";\n",
       "\n",
       "  const style = document.createElement(\"style\");\n",
       "  style.textContent = [\n",
       "    \".vega-embed .error p {\",\n",
       "    \"  color: firebrick;\",\n",
       "    \"  font-size: 14px;\",\n",
       "    \"}\",\n",
       "  ].join(\"\\\\n\");\n",
       "\n",
       "  // element is a jQuery wrapped DOM element inside the output area\n",
       "  // see http://ipython.readthedocs.io/en/stable/api/generated/\\\n",
       "  // IPython.display.html#IPython.display.Javascript.__init__\n",
       "  element[0].appendChild(target);\n",
       "  element[0].appendChild(style);\n",
       "\n",
       "  vega.render(\"#\" + id, spec, type, opt, output_area);\n",
       "}, function (err) {\n",
       "  if (err.requireType !== \"scripterror\") {\n",
       "    throw(err);\n",
       "  }\n",
       "});\n"
      ],
      "text/plain": [
       "<vega.vegalite.VegaLite at 0x7fb7734cd310>"
      ]
     },
     "execution_count": 11,
     "metadata": {
      "jupyter-vega": "#764ad0d2-1109-4b96-abc1-ff5367b48c8d"
     },
     "output_type": "execute_result"
    },
    {
     "data": {
      "image/png": "[encoded data removed]"
     },
     "metadata": {
      "jupyter-vega": "#764ad0d2-1109-4b96-abc1-ff5367b48c8d"
     },
     "output_type": "display_data"
    }
   ],
   "source": [
    "years_list = [y + 1712 for y in range(120)]\n",
    "years = {}\n",
    "partner_for_imports = set()\n",
    "origin_for_imports = set()\n",
    "products_imported_from_colonies = set()\n",
    "\n",
    "for y in years_list:\n",
    "    years[str(y)] = {\n",
    "        \"year\": y,\n",
    "        \"france_total\": 0,\n",
    "        \"france_export\": 0,\n",
    "        \"france_import\": 0,\n",
    "        \n",
    "        \"la_rochelle_total\": 0,\n",
    "        \"la_rochelle_export\": 0,\n",
    "        \"la_rochelle_import\": 0,\n",
    "    }\n",
    "\n",
    "\n",
    "for f in flows_national:\n",
    "    year = str(f['year'].split('.')[0])\n",
    "    value = float(f['value']) if f['value'] != '' else 0\n",
    "    itype = f['export_import'] if f['export_import'] != 'import' else 'Imports'\n",
    "\n",
    "    detailed_field = 'france_import' if itype == 'Imports' else 'france_export'\n",
    "    years[year]['france_total'] += value        \n",
    "    years[year][detailed_field] += value\n",
    "\n",
    "    \n",
    "for f in flows:\n",
    "    year = str(f['year'].split('.')[0])\n",
    "    value = float(f['value']) if f['value'] != '' else 0\n",
    "    itype = f['export_import'] if f['export_import'] != 'import' else 'Imports'\n",
    "    from_larochelle = f['customs_region'] == 'La Rochelle'\n",
    "    if from_larochelle:\n",
    "        detailed_field = 'la_rochelle_import' if itype == 'Imports' else 'la_rochelle_export'\n",
    "        years[year]['la_rochelle_total'] += value        \n",
    "        years[year][detailed_field] += value\n",
    "    if itype == 'Imports':\n",
    "        partner_for_imports.add(f['partner_simplification'])\n",
    "        origin_for_imports.add(f['origin_origin'])\n",
    "        if f['partner_orthographic'] in [\"Sénégal\", \"Saint-Domingue\", \"Amérique\"]:\n",
    "            products_imported_from_colonies.add(f['product_simplification'])\n",
    "\n",
    "part_by_year = []\n",
    "for year, values in years.items():\n",
    "    part_by_year.append({\n",
    "        \"year\": year,\n",
    "        \"type\": \"import\",\n",
    "        \"portion\": values['la_rochelle_import'] / values['france_total'] if  values['france_total'] > 0 else 0\n",
    "    })\n",
    "    part_by_year.append({\n",
    "        \"year\": year,\n",
    "        \"type\": \"export\",\n",
    "        \"portion\": values['la_rochelle_export'] / values['france_total'] if  values['france_total'] > 0 else 0\n",
    "    })\n",
    "    \"\"\"\n",
    "\n",
    "    part_by_year.append({\n",
    "        \"year\": year,\n",
    "        \"type\": \"reste de la France\",\n",
    "        \"portion\": 1 - values['la_rochelle_total'] / values['france_total'] if  values['france_total'] > 0 else 0\n",
    "    })\n",
    "    \"\"\"\n",
    "VegaLite({\n",
    "    \"$schema\": \"https://vega.github.io/schema/vega-lite/v5.json\",\n",
    "    \"title\": \"Évolution globale de la part des échanges de La Rochelle par rapport à l'ensemble de la France\",\n",
    "    \"mark\": {\"type\": \"bar\", \"tooltip\": {\"content\": \"data\"}},\n",
    "    \"encoding\": {\n",
    "        \"x\": {\n",
    "            \"field\": \"year\",\n",
    "            \"type\": \"ordinal\", \n",
    "            \"title\": \"année\"\n",
    "        },\n",
    "        \"y\": {\n",
    "            \"type\": \"quantitative\",\n",
    "            \"field\": \"portion\",\n",
    "            \"title\": \"Par par rapport au total des échanges en France\"\n",
    "        },\n",
    "        \"color\": {\n",
    "            \"type\": \"nominal\",\n",
    "            \"field\": \"type\",\n",
    "            \"title\": \"Type de flux\",\n",
    "            \"scale\": {\n",
    "                \"range\": [\"orange\", \"blue\", \"white\"]\n",
    "            }\n",
    "        }\n",
    "    }\n",
    "}, pd.DataFrame([y for y in part_by_year if int(y['year']) > 1717 and int(y['year']) < 1790]))\n"
   ]
  },
  {
   "cell_type": "code",
   "execution_count": 12,
   "metadata": {},
   "outputs": [
    {
     "data": {
      "text/plain": [
       "{'agrès',\n",
       " 'ancres de fer',\n",
       " 'avirons de bois',\n",
       " 'baleine coupée',\n",
       " 'baleine en fanon',\n",
       " 'barres de fer',\n",
       " 'blanc de baleine',\n",
       " 'bois de Campêche',\n",
       " 'bois pour construction',\n",
       " 'brai et goudron',\n",
       " 'chandelle de suif',\n",
       " 'choix de bœuf salé',\n",
       " 'cire jaune',\n",
       " 'cire verte',\n",
       " 'cou salé',\n",
       " 'cuirs en poil de vache',\n",
       " 'douelles pour tonneau',\n",
       " 'farine',\n",
       " 'feuilles de tabac',\n",
       " 'futailles vides',\n",
       " 'graine de lin',\n",
       " 'grains ails',\n",
       " 'grains froment',\n",
       " 'grains riz',\n",
       " 'huile de baleine',\n",
       " 'huile de lin',\n",
       " 'huile de morue',\n",
       " 'indigo',\n",
       " 'jambon',\n",
       " \"marchandises à l'estimation\",\n",
       " 'merrains',\n",
       " 'merrains pour tonnellerie',\n",
       " 'meules à faire',\n",
       " 'mitrailles de cuivre',\n",
       " 'morue sèche',\n",
       " 'mâts de sapin',\n",
       " 'ouvrages de fer et ouvrages de jonc',\n",
       " 'peaux de daim',\n",
       " 'pelleterie',\n",
       " 'piment',\n",
       " 'poisson salé',\n",
       " 'quincaillerie',\n",
       " 'suif',\n",
       " 'suif soudes',\n",
       " 'toile pour voile'}"
      ]
     },
     "execution_count": 12,
     "metadata": {},
     "output_type": "execute_result"
    }
   ],
   "source": [
    "products_imported_from_colonies"
   ]
  },
  {
   "cell_type": "code",
   "execution_count": 9,
   "metadata": {},
   "outputs": [
    {
     "data": {
      "text/plain": [
       "{'', 'Flandre'}"
      ]
     },
     "execution_count": 9,
     "metadata": {},
     "output_type": "execute_result"
    }
   ],
   "source": [
    "origin_for_imports"
   ]
  },
  {
   "cell_type": "code",
   "execution_count": 10,
   "metadata": {},
   "outputs": [
    {
     "data": {
      "text/plain": [
       "{'Allemagne',\n",
       " 'Allemagne et Pologne',\n",
       " 'Allemagne, Lorraine et Pays de Liège',\n",
       " 'Alsace',\n",
       " 'Alsace et Lorraine',\n",
       " 'Alsace et les Trois Évêchés',\n",
       " 'Amériques',\n",
       " 'Angleterre',\n",
       " 'Barbarie',\n",
       " \"Barbarie dans l'Océan et Îles françaises d'Amérique\",\n",
       " 'Barbarie et Levant',\n",
       " 'Bayonne',\n",
       " 'Bayonne et Dunkerque',\n",
       " 'Bayonne et Lorient',\n",
       " 'Bayonne et Marseille',\n",
       " 'Bayonne et Petites Îles',\n",
       " 'Clermontois',\n",
       " 'Colonies anglaises',\n",
       " 'Colonies danoises',\n",
       " \"Colonies des États-Unis d'Amérique\",\n",
       " 'Colonies espagnoles',\n",
       " 'Colonies françaises',\n",
       " 'Colonies hollandaises',\n",
       " 'Colonies portugaises',\n",
       " 'Colonies suédoises',\n",
       " 'Corse',\n",
       " 'Courlande et Russie',\n",
       " 'Danemark',\n",
       " 'Danemark et Norvège',\n",
       " 'Duché de Bouillon',\n",
       " 'Dunkerque',\n",
       " 'Dunkerque et Marseille',\n",
       " 'Dunkerque et Petites Îles',\n",
       " 'Empire Ottoman et Levant',\n",
       " 'Espagne',\n",
       " 'Espagne et ses colonies',\n",
       " 'Flandre',\n",
       " 'France',\n",
       " 'Genève et Suisse',\n",
       " 'Genève, Suisse et ses alliés',\n",
       " 'Guinée et Sénégal',\n",
       " 'Gênes',\n",
       " 'Hollande',\n",
       " 'Indes',\n",
       " 'Italie',\n",
       " 'Levant',\n",
       " 'Lorient',\n",
       " 'Lorient et Marseille',\n",
       " 'Lorraine',\n",
       " 'Lorraine et Trois Évêchés',\n",
       " 'Marseille',\n",
       " 'Marseille et Petites Îles',\n",
       " 'Milanais et Toscane',\n",
       " 'Milanais, Toscane et Lucques',\n",
       " 'Naples',\n",
       " 'Naples et Sicile',\n",
       " 'Naples, Sicile et Parme',\n",
       " 'Nord',\n",
       " 'Nord (Hanse et Russie)',\n",
       " 'Norvège',\n",
       " 'Pays de Gex',\n",
       " 'Petites Îles',\n",
       " 'Piémont',\n",
       " 'Pologne',\n",
       " 'Portugal',\n",
       " 'Prusse',\n",
       " 'Royaume de Sardaigne',\n",
       " 'Russie',\n",
       " 'Sardaigne',\n",
       " 'Savoie',\n",
       " 'Savoie et Piémont',\n",
       " 'Suisse',\n",
       " 'Suède',\n",
       " 'Trois Évêchés',\n",
       " 'Venise',\n",
       " 'Villes hanséatiques',\n",
       " '[vide]',\n",
       " \"États de l'Empereur\",\n",
       " 'États du roi',\n",
       " 'États ecclésiastiques',\n",
       " \"États-Unis d'Amérique\",\n",
       " 'Îles',\n",
       " 'Îles françaises',\n",
       " \"Îles françaises de l'Amérique\"}"
      ]
     },
     "execution_count": 10,
     "metadata": {},
     "output_type": "execute_result"
    }
   ],
   "source": [
    "partner_for_imports"
   ]
  },
  {
   "cell_type": "code",
   "execution_count": null,
   "metadata": {},
   "outputs": [],
   "source": []
  }
 ],
 "metadata": {
  "kernelspec": {
   "display_name": "Python 3",
   "language": "python",
   "name": "python3"
  },
  "language_info": {
   "codemirror_mode": {
    "name": "ipython",
    "version": 3
   },
   "file_extension": ".py",
   "mimetype": "text/x-python",
   "name": "python",
   "nbconvert_exporter": "python",
   "pygments_lexer": "ipython3",
   "version": "3.8.5"
  }
 },
 "nbformat": 4,
 "nbformat_minor": 4
}
