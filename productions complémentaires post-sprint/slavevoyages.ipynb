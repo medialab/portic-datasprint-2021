{
 "cells": [
  {
   "cell_type": "markdown",
   "metadata": {},
   "source": [
    "# Analyse des données slavevoyages\n",
    "\n",
    "URL de la requête : https://www.slavevoyages.org/voyage/database\n",
    "        \n",
    "Filtres : \n",
    "- filtre \"Place where voyage began\" : La Rochelle, Rochefort, Bordeaux, Nantes\n",
    "- Export en csv\n",
    "\n",
    "J'ai ensuite exporté un csv avec les colonnes suivantes : Voyage itinerary imputed port where began (ptdepimp) place,\"Voyage dates that began (depb,a,c)\"\n",
    "\n",
    "Je l'ai simplifié au niveau des colonnes.\n",
    "\n",
    "Puis chargement du fichier :"
   ]
  },
  {
   "cell_type": "code",
   "execution_count": null,
   "metadata": {},
   "outputs": [],
   "source": [
    "import csv\n",
    "import re\n",
    "\n",
    "\n",
    "voyages = []\n",
    "with open('slavevoyages_exports_filtered.csv', 'r', newline='') as csvfile:\n",
    "    reader = csv.DictReader(csvfile)\n",
    "    for row in reader:\n",
    "        year = re.search(\"([\\d]{4})\", row[\"date_departure\"] if \"date_departure\" in row else '')\n",
    "        year = year.group(0) if year else None\n",
    "        row[\"port\"] = \"La Rochelle et Rochefort\" if (row[\"port\"] == 'La Rochelle' or row['port'] == 'Rochefort') else row['port']\n",
    "        voyages.append({**row, \"year\": year, \"has_year\": \"année renseignée\" if year is not None else \"pas d'année\"})"
   ]
  },
  {
   "cell_type": "code",
   "execution_count": null,
   "metadata": {},
   "outputs": [],
   "source": [
    "from vega import VegaLite\n",
    "import pandas as pds\n",
    "\n",
    "VegaLite({\n",
    "    \"title\": \"Complétude\",\n",
    "    \"mark\": \"bar\",\n",
    "    \"encoding\": {\n",
    "        \"column\": {\n",
    "            \"type\": \"nominal\", \n",
    "            \"field\": \"port\",\n",
    "            \"title\": \"port\"\n",
    "        },\n",
    "        \"y\": {\n",
    "            \"field\": \"has_year\",\n",
    "            \"type\": \"nominal\",\n",
    "            \"title\": \"année de départ renseignée\"\n",
    "        },\n",
    "        \"x\": {\n",
    "            \"field\": \"has_year\",\n",
    "            \"type\": \"quantitative\",\n",
    "            \"aggregate\": \"count\",\n",
    "            \"title\": \"nombre de voyages\"\n",
    "        },\n",
    "    }\n",
    "}, pds.DataFrame(voyages))"
   ]
  },
  {
   "cell_type": "code",
   "execution_count": null,
   "metadata": {},
   "outputs": [],
   "source": [
    "VegaLite({\n",
    "    \"title\": \"Évolution des départs de navires négriers\",\n",
    "    \"mark\": \"line\",\n",
    "    \"width\": 800,\n",
    "    \"encoding\": {\n",
    "        \"row\": {\n",
    "            \"type\": \"nominal\", \n",
    "            \"field\": \"port\",\n",
    "            \"title\": \"port\"\n",
    "        },\n",
    "        \"y\": {\n",
    "            \"field\": \"year\",\n",
    "            \"type\": \"quantitative\",\n",
    "            \"aggregate\": \"count\",\n",
    "            \"title\": \"nombre de voyages\"\n",
    "        },\n",
    "        \"x\": {\n",
    "            \"field\": \"year\",\n",
    "            \"type\": \"temporal\"\n",
    "        },\n",
    "    }\n",
    "}, pds.DataFrame([v for v in voyages if v[\"year\"] is not None]))"
   ]
  }
 ],
 "metadata": {
  "kernelspec": {
   "display_name": "Python 3",
   "language": "python",
   "name": "python3"
  },
  "language_info": {
   "codemirror_mode": {
    "name": "ipython",
    "version": 3
   },
   "file_extension": ".py",
   "mimetype": "text/x-python",
   "name": "python",
   "nbconvert_exporter": "python",
   "pygments_lexer": "ipython3",
   "version": "3.8.5"
  }
 },
 "nbformat": 4,
 "nbformat_minor": 4
}
