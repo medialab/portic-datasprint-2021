{
 "cells": [
  {
   "cell_type": "markdown",
   "metadata": {},
   "source": [
    "# Préambule\n",
    "\n",
    "Paul et Béatrice ont préparé les données des exports Toflit18 pour les provinces + dans carte matricielle voir quel port exporte quoi et à quel niveau (+ même chose en import).\n",
    "\n",
    "Objectif : transposer ces données en carte au niveau province.\n",
    "\n",
    "- par province, avoir le camembert des imports et exports\n",
    "- faire sauter aux yeux les provinces exportatrices et les provinces exportatrices"
   ]
  },
  {
   "cell_type": "code",
   "execution_count": 10,
   "metadata": {},
   "outputs": [],
   "source": [
    "# Load an empty map\n",
    "from keplergl import KeplerGl\n",
    "from poitousprint import Portic, get_online_csv\n",
    "import json\n",
    "import pandas as pd\n",
    "import geopandas"
   ]
  },
  {
   "cell_type": "code",
   "execution_count": 30,
   "metadata": {},
   "outputs": [],
   "source": [
    "# step 1 : récupérer les données\n",
    "\n",
    "mappings_list = get_online_csv(\"https://docs.google.com/spreadsheets/d/e/2PACX-1vSDyf3-ZL7AjZTal84kEwXThfchUW8K9XzEBSzex0H6RzuQkB5u19x9xnHhEBmcSLZBGCk5EY5gJji-/pub?output=csv\")\n",
    "\n",
    "mappings = {}\n",
    "for m in mappings_list:\n",
    "    mappings[m['customs_region']] = m['province']"
   ]
  },
  {
   "cell_type": "code",
   "execution_count": 17,
   "metadata": {},
   "outputs": [],
   "source": [
    "# step 2 : préparation pour la visualisation\n",
    "imports = pd.read_csv(\"imports.csv\")\n",
    "exports = pd.read_csv(\"exports.csv\")\n",
    "\n",
    "def clean_and_join (df):\n",
    "    df[\"source\"] = df.source.str[3:]\n",
    "    df[\"target\"] = df.target.str[3:]\n",
    "    df['source_province'] = df.source.map(mappings)\n",
    "    return df\n",
    "\n",
    "def sum_by_province (df) :\n",
    "    return df.groupby('source_province')['value'].sum()\n",
    "    \n",
    "imports = clean_and_join(imports)\n",
    "exports = clean_and_join(exports)\n",
    "\n",
    "imports.source_province.value_counts()\n",
    "\n",
    "exports_summed = sum_by_province(exports)\n",
    "imports_summed = sum_by_province(imports)\n",
    "\n",
    "exports_summed.to_csv('exports_summed.csv')\n",
    "imports_summed.to_csv('imports_summed.csv')"
   ]
  },
  {
   "cell_type": "code",
   "execution_count": 27,
   "metadata": {},
   "outputs": [],
   "source": [
    "# step 3 : charger le fond de carte et faire la jointure avec les données d'imports et d'exports\n",
    "\n",
    "polygons = geopandas.read_file(\"cartoweb_france_1789_geojson.geojson\")\n",
    "polygons[\"import_values\"] = polygons.shortname.map(imports_summed).fillna(0)\n",
    "polygons[\"export_values\"] = polygons.shortname.map(exports_summed).fillna(0)"
   ]
  },
  {
   "cell_type": "code",
   "execution_count": 29,
   "metadata": {
    "scrolled": true
   },
   "outputs": [
    {
     "name": "stdout",
     "output_type": "stream",
     "text": [
      "User Guide: https://docs.kepler.gl/docs/keplergl-jupyter\n"
     ]
    },
    {
     "data": {
      "application/vnd.jupyter.widget-view+json": {
       "model_id": "95d0febc71204c95833f09942aabeda7",
       "version_major": 2,
       "version_minor": 0
      },
      "text/plain": [
       "KeplerGl(config={'version': 'v1', 'config': {'mapState': {'latitude': 45.6876849, 'longitude': -1.15, 'zoom': …"
      ]
     },
     "metadata": {},
     "output_type": "display_data"
    }
   ],
   "source": [
    "# step 4 : visualisation\n",
    "\n",
    "config = {\n",
    "    'version': 'v1',\n",
    "    'config': {\n",
    "        # centering the map on the region\n",
    "        'mapState': {\n",
    "            'latitude': 45.6876849,\n",
    "            'longitude': -1.15,\n",
    "            'zoom': 5.2\n",
    "        }\n",
    "    }\n",
    "}\n",
    "\n",
    "\"\"\"\n",
    "# create data frame\n",
    "df_with_geometry = pd.DataFrame({\n",
    "    'id': [1],\n",
    "    'geometry_string': [json.dumps(background)]\n",
    "})\n",
    "\n",
    "# add to map\n",
    "map_1.add_data(df_with_geometry, \"df_with_geometry\")\n",
    "\"\"\"\n",
    "\n",
    "\n",
    "map = KeplerGl(config=config )\n",
    "map.add_data(data=polygons, name=\"feature_collection\")\n",
    "\n",
    "map"
   ]
  },
  {
   "cell_type": "code",
   "execution_count": null,
   "metadata": {},
   "outputs": [],
   "source": []
  }
 ],
 "metadata": {
  "kernelspec": {
   "display_name": "Python 3",
   "language": "python",
   "name": "python3"
  },
  "language_info": {
   "codemirror_mode": {
    "name": "ipython",
    "version": 3
   },
   "file_extension": ".py",
   "mimetype": "text/x-python",
   "name": "python",
   "nbconvert_exporter": "python",
   "pygments_lexer": "ipython3",
   "version": "3.8.2"
  }
 },
 "nbformat": 4,
 "nbformat_minor": 4
}
