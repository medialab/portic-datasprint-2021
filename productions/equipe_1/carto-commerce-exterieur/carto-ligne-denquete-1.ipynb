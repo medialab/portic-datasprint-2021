{
 "cells": [
  {
   "cell_type": "markdown",
   "metadata": {},
   "source": [
    "# Préambule\n",
    "\n",
    "Paul et Béatrice ont préparé les données des exports Toflit18 pour les provinces + dans carte matricielle voir quel port exporte quoi et à quel niveau (+ même chose en import).\n",
    "\n",
    "Objectif : transposer ces données en carte au niveau province.\n",
    "\n",
    "- par province, avoir le camembert des imports et exports\n",
    "- faire sauter aux yeux les provinces exportatrices et les provinces exportatrices"
   ]
  },
  {
   "cell_type": "code",
   "execution_count": null,
   "metadata": {},
   "outputs": [],
   "source": [
    "# Load an empty map\n",
    "from keplergl import KeplerGl\n",
    "from poitousprint import Portic, get_online_csv\n",
    "import pandas as pd"
   ]
  },
  {
   "cell_type": "code",
   "execution_count": null,
   "metadata": {},
   "outputs": [],
   "source": [
    "# step 1 : récupérer les données\n",
    "\n",
    "mappings_list = get_online_csv(\"https://docs.google.com/spreadsheets/d/e/2PACX-1vSDyf3-ZL7AjZTal84kEwXThfchUW8K9XzEBSzex0H6RzuQkB5u19x9xnHhEBmcSLZBGCk5EY5gJji-/pub?output=csv\")\n",
    "\n",
    "mappings = {}\n",
    "for m in mappings_list:\n",
    "    mappings[m['customs_region']] = m['province']\n",
    "\n",
    "mappings"
   ]
  },
  {
   "cell_type": "code",
   "execution_count": null,
   "metadata": {},
   "outputs": [],
   "source": [
    "# step 2 : préparation pour la visualisation\n",
    "imports = pd.read_csv(\"imports.csv\")\n",
    "exports = pd.read_csv(\"exports.csv\")\n",
    "\n",
    "def clean_and_join (df):\n",
    "    df[\"source\"] = df.source.str[3:]\n",
    "    df[\"target\"] = df.target.str[3:]\n",
    "    df['source_province'] = df.source.map(mappings)\n",
    "    return df\n",
    "\n",
    "def sum_by_province (df) :\n",
    "    return df.groupby('source_province')['value'].sum()\n",
    "    \n",
    "imports = clean_and_join(imports)\n",
    "exports = clean_and_join(exports)\n",
    "\n",
    "imports.source_province.value_counts()\n",
    "\n",
    "exports_summed = sum_by_province(exports)\n",
    "imports_summed = sum_by_province(imports)\n",
    "\n",
    "exports_summed.to_csv('exports_summed.csv', index=False)\n",
    "imports_summed.to_csv('imports_summed.csv', index=False)"
   ]
  },
  {
   "cell_type": "code",
   "execution_count": null,
   "metadata": {},
   "outputs": [],
   "source": [
    "# step 3 : visualisation\n",
    "\n",
    "# charger le fond provinces dans kepler\n",
    "\n",
    "\n",
    "config = {\n",
    "    'version': 'v1',\n",
    "    'config': {\n",
    "        # centering the map on the region\n",
    "        'mapState': {\n",
    "            'latitude': 45.6876849,\n",
    "            'longitude': -1.15,\n",
    "            'zoom': 5.2\n",
    "        }\n",
    "    }\n",
    "}\n",
    "\n",
    "map = KeplerGl(config=config, data={'fond': pd.DataFrame([]), 'data': pd.DataFrame([])})\n",
    "map\n"
   ]
  }
 ],
 "metadata": {
  "kernelspec": {
   "display_name": "Python 3",
   "language": "python",
   "name": "python3"
  },
  "language_info": {
   "codemirror_mode": {
    "name": "ipython",
    "version": 3
   },
   "file_extension": ".py",
   "mimetype": "text/x-python",
   "name": "python",
   "nbconvert_exporter": "python",
   "pygments_lexer": "ipython3",
   "version": "3.8.5"
  }
 },
 "nbformat": 4,
 "nbformat_minor": 4
}
