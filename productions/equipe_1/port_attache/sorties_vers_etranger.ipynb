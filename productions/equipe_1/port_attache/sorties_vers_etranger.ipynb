{
 "cells": [
  {
   "cell_type": "code",
   "execution_count": 5,
   "id": "0905a4bf",
   "metadata": {},
   "outputs": [],
   "source": [
    "import pandas as pd\n",
    "import matplotlib.pyplot as plt\n",
    "import seaborn as sns"
   ]
  },
  {
   "cell_type": "code",
   "execution_count": 2,
   "id": "6b3c3ba9",
   "metadata": {},
   "outputs": [
    {
     "name": "stdout",
     "output_type": "stream",
     "text": [
      "Collecting pandas\n",
      "  Using cached https://files.pythonhosted.org/packages/e3/a8/11b157725988409063dff720be51b4dcca2260f2cc4547853172c9b4e6ec/pandas-1.2.3-cp38-cp38-manylinux1_x86_64.whl\n",
      "Requirement already satisfied: python-dateutil>=2.7.3 in /home/bmazoyer/.pyenv/versions/3.8.2/envs/portic-datasprint/lib/python3.8/site-packages (from pandas) (2.8.1)\n",
      "Collecting pytz>=2017.3 (from pandas)\n",
      "  Using cached https://files.pythonhosted.org/packages/70/94/784178ca5dd892a98f113cdd923372024dc04b8d40abe77ca76b5fb90ca6/pytz-2021.1-py2.py3-none-any.whl\n",
      "Collecting numpy>=1.16.5 (from pandas)\n",
      "  Using cached https://files.pythonhosted.org/packages/75/f6/60e7d3a1da53a9979f37931d3cc619211accb339df06af8b387889b8d6ba/numpy-1.20.2-cp38-cp38-manylinux2010_x86_64.whl\n",
      "Requirement already satisfied: six>=1.5 in /home/bmazoyer/.pyenv/versions/3.8.2/envs/portic-datasprint/lib/python3.8/site-packages (from python-dateutil>=2.7.3->pandas) (1.15.0)\n",
      "Installing collected packages: pytz, numpy, pandas\n",
      "Successfully installed numpy-1.20.2 pandas-1.2.3 pytz-2021.1\n",
      "\u001b[33mWARNING: You are using pip version 19.2.3, however version 21.0.1 is available.\n",
      "You should consider upgrading via the 'pip install --upgrade pip' command.\u001b[0m\n"
     ]
    }
   ],
   "source": [
    "! pip install pandas"
   ]
  },
  {
   "cell_type": "code",
   "execution_count": 3,
   "id": "96775d66",
   "metadata": {},
   "outputs": [
    {
     "name": "stdout",
     "output_type": "stream",
     "text": [
      "Collecting matplotlib\n",
      "  Using cached https://files.pythonhosted.org/packages/d4/2c/10224fd2eb8a27f415509d5e35e2945a47856c6128c6027a59a8ffa4016a/matplotlib-3.4.1-cp38-cp38-manylinux1_x86_64.whl\n",
      "Requirement already satisfied: pyparsing>=2.2.1 in /home/bmazoyer/.pyenv/versions/3.8.2/envs/portic-datasprint/lib/python3.8/site-packages (from matplotlib) (2.4.7)\n",
      "Collecting cycler>=0.10 (from matplotlib)\n",
      "  Using cached https://files.pythonhosted.org/packages/f7/d2/e07d3ebb2bd7af696440ce7e754c59dd546ffe1bbe732c8ab68b9c834e61/cycler-0.10.0-py2.py3-none-any.whl\n",
      "Requirement already satisfied: python-dateutil>=2.7 in /home/bmazoyer/.pyenv/versions/3.8.2/envs/portic-datasprint/lib/python3.8/site-packages (from matplotlib) (2.8.1)\n",
      "Collecting kiwisolver>=1.0.1 (from matplotlib)\n",
      "  Using cached https://files.pythonhosted.org/packages/99/04/41e831621ddec54f99e9e3693b8d4f2f583d7f3ee8df33bf9a7d6bf764de/kiwisolver-1.3.1-cp38-cp38-manylinux1_x86_64.whl\n",
      "Collecting pillow>=6.2.0 (from matplotlib)\n",
      "  Using cached https://files.pythonhosted.org/packages/6a/1c/6426906aed9215168f0885f8c750c89f7619d9a10709591d111af44c0b57/Pillow-8.2.0-cp38-cp38-manylinux1_x86_64.whl\n",
      "Requirement already satisfied: numpy>=1.16 in /home/bmazoyer/.pyenv/versions/3.8.2/envs/portic-datasprint/lib/python3.8/site-packages (from matplotlib) (1.20.2)\n",
      "Requirement already satisfied: six in /home/bmazoyer/.pyenv/versions/3.8.2/envs/portic-datasprint/lib/python3.8/site-packages (from cycler>=0.10->matplotlib) (1.15.0)\n",
      "Installing collected packages: cycler, kiwisolver, pillow, matplotlib\n",
      "Successfully installed cycler-0.10.0 kiwisolver-1.3.1 matplotlib-3.4.1 pillow-8.2.0\n",
      "\u001b[33mWARNING: You are using pip version 19.2.3, however version 21.0.1 is available.\n",
      "You should consider upgrading via the 'pip install --upgrade pip' command.\u001b[0m\n"
     ]
    }
   ],
   "source": [
    "! pip install matplotlib"
   ]
  },
  {
   "cell_type": "code",
   "execution_count": 4,
   "id": "95a31730",
   "metadata": {},
   "outputs": [
    {
     "name": "stdout",
     "output_type": "stream",
     "text": [
      "Collecting seaborn\n",
      "  Using cached https://files.pythonhosted.org/packages/68/ad/6c2406ae175f59ec616714e408979b674fe27b9587f79d59a528ddfbcd5b/seaborn-0.11.1-py3-none-any.whl\n",
      "Requirement already satisfied: numpy>=1.15 in /home/bmazoyer/.pyenv/versions/3.8.2/envs/portic-datasprint/lib/python3.8/site-packages (from seaborn) (1.20.2)\n",
      "Requirement already satisfied: matplotlib>=2.2 in /home/bmazoyer/.pyenv/versions/3.8.2/envs/portic-datasprint/lib/python3.8/site-packages (from seaborn) (3.4.1)\n",
      "Requirement already satisfied: pandas>=0.23 in /home/bmazoyer/.pyenv/versions/3.8.2/envs/portic-datasprint/lib/python3.8/site-packages (from seaborn) (1.2.3)\n",
      "Collecting scipy>=1.0 (from seaborn)\n",
      "  Using cached https://files.pythonhosted.org/packages/f1/2b/83ad25bf3812c5e051adc39b9127af2a009c1124da88aeea3be501758a39/scipy-1.6.2-cp38-cp38-manylinux1_x86_64.whl\n",
      "Requirement already satisfied: pyparsing>=2.2.1 in /home/bmazoyer/.pyenv/versions/3.8.2/envs/portic-datasprint/lib/python3.8/site-packages (from matplotlib>=2.2->seaborn) (2.4.7)\n",
      "Requirement already satisfied: pillow>=6.2.0 in /home/bmazoyer/.pyenv/versions/3.8.2/envs/portic-datasprint/lib/python3.8/site-packages (from matplotlib>=2.2->seaborn) (8.2.0)\n",
      "Requirement already satisfied: kiwisolver>=1.0.1 in /home/bmazoyer/.pyenv/versions/3.8.2/envs/portic-datasprint/lib/python3.8/site-packages (from matplotlib>=2.2->seaborn) (1.3.1)\n",
      "Requirement already satisfied: cycler>=0.10 in /home/bmazoyer/.pyenv/versions/3.8.2/envs/portic-datasprint/lib/python3.8/site-packages (from matplotlib>=2.2->seaborn) (0.10.0)\n",
      "Requirement already satisfied: python-dateutil>=2.7 in /home/bmazoyer/.pyenv/versions/3.8.2/envs/portic-datasprint/lib/python3.8/site-packages (from matplotlib>=2.2->seaborn) (2.8.1)\n",
      "Requirement already satisfied: pytz>=2017.3 in /home/bmazoyer/.pyenv/versions/3.8.2/envs/portic-datasprint/lib/python3.8/site-packages (from pandas>=0.23->seaborn) (2021.1)\n",
      "Requirement already satisfied: six in /home/bmazoyer/.pyenv/versions/3.8.2/envs/portic-datasprint/lib/python3.8/site-packages (from cycler>=0.10->matplotlib>=2.2->seaborn) (1.15.0)\n",
      "Installing collected packages: scipy, seaborn\n",
      "Successfully installed scipy-1.6.2 seaborn-0.11.1\n",
      "\u001b[33mWARNING: You are using pip version 19.2.3, however version 21.0.1 is available.\n",
      "You should consider upgrading via the 'pip install --upgrade pip' command.\u001b[0m\n"
     ]
    }
   ],
   "source": [
    "! pip install seaborn"
   ]
  },
  {
   "cell_type": "code",
   "execution_count": 6,
   "id": "c8ec4455",
   "metadata": {},
   "outputs": [],
   "source": [
    "sorties = pd.read_csv(\"sorties_navires_vers_etranger.csv\")"
   ]
  },
  {
   "cell_type": "code",
   "execution_count": 8,
   "id": "4eacc336",
   "metadata": {},
   "outputs": [
    {
     "data": {
      "text/plain": [
       "Grande-Bretagne          118\n",
       "Danemark                  52\n",
       "France                    43\n",
       "Provinces-Unies           37\n",
       "Etats-Unis d'Amérique     23\n",
       "Prusse                    20\n",
       "Lubeck                     8\n",
       "Hambourg                   7\n",
       "Pologne                    7\n",
       "Brême                      5\n",
       "Espagne                    3\n",
       "Duché d'Oldenbourg         2\n",
       "Mecklenbourg               2\n",
       "Duché de Mecklenbourg      1\n",
       "Name: homeport_state_1789_fr, dtype: int64"
      ]
     },
     "execution_count": 8,
     "metadata": {},
     "output_type": "execute_result"
    }
   ],
   "source": [
    "sorties.homeport_state_1789_fr.value_counts()"
   ]
  },
  {
   "cell_type": "code",
   "execution_count": 15,
   "id": "f061a1dc",
   "metadata": {},
   "outputs": [
    {
     "data": {
      "text/plain": [
       "Aunis        21\n",
       "Bretagne      8\n",
       "Normandie     6\n",
       "Guyenne       3\n",
       "Saintonge     3\n",
       "Picardie      1\n",
       "Poitou        1\n",
       "Name: homeport_province, dtype: int64"
      ]
     },
     "execution_count": 15,
     "metadata": {},
     "output_type": "execute_result"
    }
   ],
   "source": [
    "sorties.homeport_province.value_counts()"
   ]
  },
  {
   "cell_type": "code",
   "execution_count": 24,
   "id": "acfa2079",
   "metadata": {},
   "outputs": [],
   "source": [
    "sorties[\"outside_DFLR\"] = ((sorties[\"homeport_state_1789_fr\"] != \"France\") | (~sorties[\"homeport_province\"].isin([\"Aunis\", \"Poitou\", \"Saintonge\"])))"
   ]
  },
  {
   "cell_type": "code",
   "execution_count": 25,
   "id": "f38dfdcf",
   "metadata": {},
   "outputs": [
    {
     "data": {
      "text/html": [
       "<div>\n",
       "<style scoped>\n",
       "    .dataframe tbody tr th:only-of-type {\n",
       "        vertical-align: middle;\n",
       "    }\n",
       "\n",
       "    .dataframe tbody tr th {\n",
       "        vertical-align: top;\n",
       "    }\n",
       "\n",
       "    .dataframe thead th {\n",
       "        text-align: right;\n",
       "    }\n",
       "</style>\n",
       "<table border=\"1\" class=\"dataframe\">\n",
       "  <thead>\n",
       "    <tr style=\"text-align: right;\">\n",
       "      <th></th>\n",
       "      <th>homeport_state_1789_fr</th>\n",
       "      <th>homeport_province</th>\n",
       "      <th>outside_DFLR</th>\n",
       "    </tr>\n",
       "  </thead>\n",
       "  <tbody>\n",
       "    <tr>\n",
       "      <th>293</th>\n",
       "      <td>Grande-Bretagne</td>\n",
       "      <td>NaN</td>\n",
       "      <td>True</td>\n",
       "    </tr>\n",
       "    <tr>\n",
       "      <th>61</th>\n",
       "      <td>Grande-Bretagne</td>\n",
       "      <td>NaN</td>\n",
       "      <td>True</td>\n",
       "    </tr>\n",
       "    <tr>\n",
       "      <th>60</th>\n",
       "      <td>Etats-Unis d'Amérique</td>\n",
       "      <td>NaN</td>\n",
       "      <td>True</td>\n",
       "    </tr>\n",
       "    <tr>\n",
       "      <th>342</th>\n",
       "      <td>Grande-Bretagne</td>\n",
       "      <td>NaN</td>\n",
       "      <td>True</td>\n",
       "    </tr>\n",
       "    <tr>\n",
       "      <th>41</th>\n",
       "      <td>France</td>\n",
       "      <td>Guyenne</td>\n",
       "      <td>True</td>\n",
       "    </tr>\n",
       "    <tr>\n",
       "      <th>3</th>\n",
       "      <td>Grande-Bretagne</td>\n",
       "      <td>NaN</td>\n",
       "      <td>True</td>\n",
       "    </tr>\n",
       "    <tr>\n",
       "      <th>71</th>\n",
       "      <td>Grande-Bretagne</td>\n",
       "      <td>NaN</td>\n",
       "      <td>True</td>\n",
       "    </tr>\n",
       "    <tr>\n",
       "      <th>75</th>\n",
       "      <td>Provinces-Unies</td>\n",
       "      <td>NaN</td>\n",
       "      <td>True</td>\n",
       "    </tr>\n",
       "    <tr>\n",
       "      <th>91</th>\n",
       "      <td>Duché de Mecklenbourg</td>\n",
       "      <td>NaN</td>\n",
       "      <td>True</td>\n",
       "    </tr>\n",
       "    <tr>\n",
       "      <th>308</th>\n",
       "      <td>Danemark</td>\n",
       "      <td>NaN</td>\n",
       "      <td>True</td>\n",
       "    </tr>\n",
       "    <tr>\n",
       "      <th>305</th>\n",
       "      <td>Danemark</td>\n",
       "      <td>NaN</td>\n",
       "      <td>True</td>\n",
       "    </tr>\n",
       "    <tr>\n",
       "      <th>262</th>\n",
       "      <td>Hambourg</td>\n",
       "      <td>NaN</td>\n",
       "      <td>True</td>\n",
       "    </tr>\n",
       "    <tr>\n",
       "      <th>42</th>\n",
       "      <td>Grande-Bretagne</td>\n",
       "      <td>NaN</td>\n",
       "      <td>True</td>\n",
       "    </tr>\n",
       "    <tr>\n",
       "      <th>215</th>\n",
       "      <td>Hambourg</td>\n",
       "      <td>NaN</td>\n",
       "      <td>True</td>\n",
       "    </tr>\n",
       "    <tr>\n",
       "      <th>36</th>\n",
       "      <td>NaN</td>\n",
       "      <td>NaN</td>\n",
       "      <td>True</td>\n",
       "    </tr>\n",
       "    <tr>\n",
       "      <th>189</th>\n",
       "      <td>Grande-Bretagne</td>\n",
       "      <td>NaN</td>\n",
       "      <td>True</td>\n",
       "    </tr>\n",
       "    <tr>\n",
       "      <th>269</th>\n",
       "      <td>NaN</td>\n",
       "      <td>NaN</td>\n",
       "      <td>True</td>\n",
       "    </tr>\n",
       "    <tr>\n",
       "      <th>318</th>\n",
       "      <td>Mecklenbourg</td>\n",
       "      <td>NaN</td>\n",
       "      <td>True</td>\n",
       "    </tr>\n",
       "    <tr>\n",
       "      <th>205</th>\n",
       "      <td>Grande-Bretagne</td>\n",
       "      <td>NaN</td>\n",
       "      <td>True</td>\n",
       "    </tr>\n",
       "    <tr>\n",
       "      <th>166</th>\n",
       "      <td>NaN</td>\n",
       "      <td>NaN</td>\n",
       "      <td>True</td>\n",
       "    </tr>\n",
       "    <tr>\n",
       "      <th>141</th>\n",
       "      <td>Grande-Bretagne</td>\n",
       "      <td>NaN</td>\n",
       "      <td>True</td>\n",
       "    </tr>\n",
       "    <tr>\n",
       "      <th>74</th>\n",
       "      <td>Provinces-Unies</td>\n",
       "      <td>NaN</td>\n",
       "      <td>True</td>\n",
       "    </tr>\n",
       "    <tr>\n",
       "      <th>11</th>\n",
       "      <td>Grande-Bretagne</td>\n",
       "      <td>NaN</td>\n",
       "      <td>True</td>\n",
       "    </tr>\n",
       "    <tr>\n",
       "      <th>30</th>\n",
       "      <td>Etats-Unis d'Amérique</td>\n",
       "      <td>NaN</td>\n",
       "      <td>True</td>\n",
       "    </tr>\n",
       "    <tr>\n",
       "      <th>245</th>\n",
       "      <td>Grande-Bretagne</td>\n",
       "      <td>NaN</td>\n",
       "      <td>True</td>\n",
       "    </tr>\n",
       "    <tr>\n",
       "      <th>82</th>\n",
       "      <td>Grande-Bretagne</td>\n",
       "      <td>NaN</td>\n",
       "      <td>True</td>\n",
       "    </tr>\n",
       "    <tr>\n",
       "      <th>67</th>\n",
       "      <td>Prusse</td>\n",
       "      <td>NaN</td>\n",
       "      <td>True</td>\n",
       "    </tr>\n",
       "    <tr>\n",
       "      <th>286</th>\n",
       "      <td>France</td>\n",
       "      <td>Aunis</td>\n",
       "      <td>False</td>\n",
       "    </tr>\n",
       "    <tr>\n",
       "      <th>193</th>\n",
       "      <td>France</td>\n",
       "      <td>Aunis</td>\n",
       "      <td>False</td>\n",
       "    </tr>\n",
       "    <tr>\n",
       "      <th>171</th>\n",
       "      <td>France</td>\n",
       "      <td>Bretagne</td>\n",
       "      <td>True</td>\n",
       "    </tr>\n",
       "  </tbody>\n",
       "</table>\n",
       "</div>"
      ],
      "text/plain": [
       "    homeport_state_1789_fr homeport_province  outside_DFLR\n",
       "293        Grande-Bretagne               NaN          True\n",
       "61         Grande-Bretagne               NaN          True\n",
       "60   Etats-Unis d'Amérique               NaN          True\n",
       "342        Grande-Bretagne               NaN          True\n",
       "41                  France           Guyenne          True\n",
       "3          Grande-Bretagne               NaN          True\n",
       "71         Grande-Bretagne               NaN          True\n",
       "75         Provinces-Unies               NaN          True\n",
       "91   Duché de Mecklenbourg               NaN          True\n",
       "308               Danemark               NaN          True\n",
       "305               Danemark               NaN          True\n",
       "262               Hambourg               NaN          True\n",
       "42         Grande-Bretagne               NaN          True\n",
       "215               Hambourg               NaN          True\n",
       "36                     NaN               NaN          True\n",
       "189        Grande-Bretagne               NaN          True\n",
       "269                    NaN               NaN          True\n",
       "318           Mecklenbourg               NaN          True\n",
       "205        Grande-Bretagne               NaN          True\n",
       "166                    NaN               NaN          True\n",
       "141        Grande-Bretagne               NaN          True\n",
       "74         Provinces-Unies               NaN          True\n",
       "11         Grande-Bretagne               NaN          True\n",
       "30   Etats-Unis d'Amérique               NaN          True\n",
       "245        Grande-Bretagne               NaN          True\n",
       "82         Grande-Bretagne               NaN          True\n",
       "67                  Prusse               NaN          True\n",
       "286                 France             Aunis         False\n",
       "193                 France             Aunis         False\n",
       "171                 France          Bretagne          True"
      ]
     },
     "execution_count": 25,
     "metadata": {},
     "output_type": "execute_result"
    }
   ],
   "source": [
    "sorties[[\"homeport_state_1789_fr\", \"homeport_province\", \"outside_DFLR\"]].sample(30)"
   ]
  },
  {
   "cell_type": "code",
   "execution_count": 30,
   "id": "a6f127f8",
   "metadata": {},
   "outputs": [
    {
     "data": {
      "image/png": "[encoded data removed]",
      "text/plain": [
       "<Figure size 432x288 with 1 Axes>"
      ]
     },
     "metadata": {
      "needs_background": "light"
     },
     "output_type": "display_data"
    }
   ],
   "source": [
    "ax = sns.countplot(x=\"outside_DFLR\", data=sorties)"
   ]
  },
  {
   "cell_type": "code",
   "execution_count": 29,
   "id": "f0f6723e",
   "metadata": {},
   "outputs": [
    {
     "data": {
      "text/plain": [
       "[Text(0, 0.5, 'Percent')]"
      ]
     },
     "execution_count": 29,
     "metadata": {},
     "output_type": "execute_result"
    },
    {
     "data": {
      "image/png": "[encoded data removed]",
      "text/plain": [
       "<Figure size 432x288 with 1 Axes>"
      ]
     },
     "metadata": {
      "needs_background": "light"
     },
     "output_type": "display_data"
    }
   ],
   "source": [
    "ax = sns.barplot(x=\"outside_DFLR\", y=\"outside_DFLR\", data=sorties, estimator=lambda x: len(x) / len(sorties) * 100)\n",
    "ax.set(ylabel=\"Percent\")"
   ]
  },
  {
   "cell_type": "code",
   "execution_count": null,
   "id": "c7809e53",
   "metadata": {},
   "outputs": [],
   "source": [
    "ax = sns.countplot(x=\"homeport_state_1789_fr\", data=sorties)"
   ]
  },
  {
   "cell_type": "code",
   "execution_count": null,
   "id": "f9c1850b",
   "metadata": {},
   "outputs": [],
   "source": []
  }
 ],
 "metadata": {
  "kernelspec": {
   "display_name": "Python 3",
   "language": "python",
   "name": "python3"
  },
  "language_info": {
   "codemirror_mode": {
    "name": "ipython",
    "version": 3
   },
   "file_extension": ".py",
   "mimetype": "text/x-python",
   "name": "python",
   "nbconvert_exporter": "python",
   "pygments_lexer": "ipython3",
   "version": "3.8.2"
  }
 },
 "nbformat": 4,
 "nbformat_minor": 5
}
