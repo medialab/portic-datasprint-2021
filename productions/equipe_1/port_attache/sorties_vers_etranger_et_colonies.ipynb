{
 "cells": [
  {
   "cell_type": "code",
   "execution_count": null,
   "id": "0905a4bf",
   "metadata": {},
   "outputs": [],
   "source": [
    "import pandas as pd\n",
    "import matplotlib.pyplot as plt\n",
    "import seaborn as sns\n",
    "from matplotlib.pyplot import figure\n",
    "from vega import VegaLite\n",
    "import numpy as np\n",
    "from poitousprint import Portic\n",
    "portic_client = Portic()"
   ]
  },
  {
   "cell_type": "code",
   "execution_count": null,
   "id": "2c474e03",
   "metadata": {},
   "outputs": [],
   "source": [
    "#pointcalls = portic_client.get_pointcalls(year=1789, source_subset=\"Poitou_1789\")"
   ]
  },
  {
   "cell_type": "code",
   "execution_count": null,
   "id": "3ffc0ea9",
   "metadata": {},
   "outputs": [],
   "source": [
    "#len(pointcalls)"
   ]
  },
  {
   "cell_type": "code",
   "execution_count": null,
   "id": "c8ec4455",
   "metadata": {},
   "outputs": [],
   "source": [
    "sorties = pd.read_csv(\"sorties_navires_vers_etranger.csv\")"
   ]
  },
  {
   "cell_type": "code",
   "execution_count": null,
   "id": "b425efdb",
   "metadata": {},
   "outputs": [],
   "source": [
    "sorties_mixtes = pd.read_csv(\"sorties_navires_vers_etranger_mixte_DFLR_ailleurs1787.csv\")\n",
    "sorties = sorties_mixtes[sorties_mixtes.region_depart == \"Aunis-Saintonge-Poitou\"]"
   ]
  },
  {
   "cell_type": "code",
   "execution_count": null,
   "id": "bfb6ca34",
   "metadata": {},
   "outputs": [],
   "source": [
    "sorties_mixtes = pd.read_csv(\"sorties_navires_vers_etranger_mixte_DFLR_ailleurs1787.csv\")\n",
    "sorties_Bretagne = sorties_mixtes[sorties_mixtes.region_depart == \"Bretagne\"]\n",
    "sorties_Guyenne = sorties_mixtes[sorties_mixtes.region_depart == \"Guyenne\"]\n",
    "sorties_Nantes = sorties_mixtes[sorties_mixtes.amiraute_depart == \"Nantes\"]"
   ]
  },
  {
   "cell_type": "code",
   "execution_count": null,
   "id": "5f4b16c3",
   "metadata": {},
   "outputs": [],
   "source": [
    "sorties_Nantes.shape"
   ]
  },
  {
   "cell_type": "code",
   "execution_count": null,
   "id": "d58e68af",
   "metadata": {},
   "outputs": [],
   "source": [
    "sorties.shape"
   ]
  },
  {
   "cell_type": "code",
   "execution_count": null,
   "id": "cc8ccc9d",
   "metadata": {},
   "outputs": [],
   "source": [
    "sorted(sorties_mixtes.columns)"
   ]
  },
  {
   "cell_type": "code",
   "execution_count": null,
   "id": "779a8000",
   "metadata": {},
   "outputs": [],
   "source": []
  },
  {
   "cell_type": "code",
   "execution_count": null,
   "id": "d7128606",
   "metadata": {},
   "outputs": [],
   "source": [
    "len(sorties)"
   ]
  },
  {
   "cell_type": "code",
   "execution_count": null,
   "id": "f000b2d5",
   "metadata": {},
   "outputs": [],
   "source": [
    "sorties[\"homeport_state_1789_fr\"] = sorties.homeport_state_1789_fr.str.replace(\"Duché de Mecklenbourg\", \"Mecklenbourg\")"
   ]
  },
  {
   "cell_type": "code",
   "execution_count": null,
   "id": "7e60a5f5",
   "metadata": {},
   "outputs": [],
   "source": [
    "len(sorties[sorties.homeport_state_1789_fr.isna()])"
   ]
  },
  {
   "cell_type": "code",
   "execution_count": null,
   "id": "4f9a787f",
   "metadata": {},
   "outputs": [],
   "source": [
    "sorties[sorties.homeport_state_1789_fr.isna()].sample(5)"
   ]
  },
  {
   "cell_type": "code",
   "execution_count": null,
   "id": "8fc71cc6",
   "metadata": {},
   "outputs": [],
   "source": [
    "flag_to_homestate = {\"britannique\": \"Grande-Bretagne\",\n",
    "                    \"français\": \"France\",\n",
    "                     \"danois\": \"Danemark\",\n",
    "                     \"hollandais\": \"Provinces-Unies\",\n",
    "                     \"étasunien\": \"Etats-Unis d'Amérique\",\n",
    "                     \"prussien\": \"Prusse\",\n",
    "                     \"lubeckois\": \"Lubeck\",\n",
    "                     \"polonais\": \"Pologne\",\n",
    "                     \"hambourgeois\": \"Hambourg\",\n",
    "                     \"brémois\": \"Brême\",\n",
    "                     \"meckelmbourgeois\": \"Mecklenbourg\",\n",
    "                     \"oldenbourgeois\": \"Duché d'Oldenbourg\",\n",
    "                     \"papenbourgeois\": \"Prusse\"\n",
    "                    }"
   ]
  },
  {
   "cell_type": "code",
   "execution_count": null,
   "id": "7bfc28fe",
   "metadata": {},
   "outputs": [],
   "source": [
    "sorties[sorties.homeport_state_1789_fr.isna()][[\"homeport_state_1789_fr\", \"ship_flag_standardized_fr\"]].sample(5)"
   ]
  },
  {
   "cell_type": "code",
   "execution_count": null,
   "id": "be08b2a3",
   "metadata": {},
   "outputs": [],
   "source": [
    "sorties[\"flag\"] = sorties.ship_flag_standardized_fr.map(flag_to_homestate)"
   ]
  },
  {
   "cell_type": "code",
   "execution_count": null,
   "id": "00d51ace",
   "metadata": {},
   "outputs": [],
   "source": [
    "sorties[[\"homeport_state_1789_fr\", \"ship_flag_standardized_fr\", \"flag\"]].sample(5)"
   ]
  },
  {
   "cell_type": "code",
   "execution_count": null,
   "id": "26159084",
   "metadata": {},
   "outputs": [],
   "source": [
    "sorties[\"homeport_state_1789_fr\"] = sorties[\"homeport_state_1789_fr\"].fillna(sorties.flag)\n",
    "sorties[\"homeport_state_1789_fr\"] = sorties[\"homeport_state_1789_fr\"].fillna(\"Non renseigné\")"
   ]
  },
  {
   "cell_type": "code",
   "execution_count": null,
   "id": "5453cd63",
   "metadata": {},
   "outputs": [],
   "source": [
    "sorties.homeport_state_1789_fr.value_counts()"
   ]
  },
  {
   "cell_type": "code",
   "execution_count": null,
   "id": "4eacc336",
   "metadata": {},
   "outputs": [],
   "source": [
    "sorties.state_destination.value_counts()"
   ]
  },
  {
   "cell_type": "code",
   "execution_count": null,
   "id": "87f5ebdb",
   "metadata": {},
   "outputs": [],
   "source": [
    "sorties[sorties.state_destination.isna()]"
   ]
  },
  {
   "cell_type": "code",
   "execution_count": null,
   "id": "d4c2f0d0",
   "metadata": {},
   "outputs": [],
   "source": [
    "sorties.substate_destination.value_counts()"
   ]
  },
  {
   "cell_type": "code",
   "execution_count": null,
   "id": "6a84eba5",
   "metadata": {},
   "outputs": [],
   "source": [
    "sorties[sorties.substate_destination.isna()]"
   ]
  },
  {
   "cell_type": "code",
   "execution_count": null,
   "id": "8eba675b",
   "metadata": {},
   "outputs": [],
   "source": [
    "sorties[\"destination\"] = sorties[\"substate_destination\"].fillna(sorties[\"state_destination\"])"
   ]
  },
  {
   "cell_type": "code",
   "execution_count": null,
   "id": "b0a485fe",
   "metadata": {},
   "outputs": [],
   "source": [
    "sorties.destination.value_counts()"
   ]
  },
  {
   "cell_type": "code",
   "execution_count": null,
   "id": "f061a1dc",
   "metadata": {},
   "outputs": [],
   "source": [
    "sorties.homeport_province.value_counts()"
   ]
  },
  {
   "cell_type": "code",
   "execution_count": null,
   "id": "acfa2079",
   "metadata": {},
   "outputs": [],
   "source": [
    "sorties[\"outside_DFLR\"] = (\n",
    "    (sorties[\"homeport_state_1789_fr\"] != \"France\") | \n",
    "    (~sorties[\"homeport_province\"].isin([\"Aunis\", \"Poitou\", \"Saintonge\"])))"
   ]
  },
  {
   "cell_type": "code",
   "execution_count": null,
   "id": "4244b270",
   "metadata": {},
   "outputs": [],
   "source": [
    "sorties[\"Port d'attache\"] = sorties[\"outside_DFLR\"].map({True: \"autres\", False: \"Aunis, Poitou, Saintonge\"})"
   ]
  },
  {
   "cell_type": "code",
   "execution_count": null,
   "id": "a6f127f8",
   "metadata": {},
   "outputs": [],
   "source": [
    "(sorties.groupby(\"Port d'attache\").size()).plot.barh()\n",
    "plt.title(\"Nombre de navires qui partent vers l'étranger ou les colonies\")\n",
    "plt.show()"
   ]
  },
  {
   "cell_type": "code",
   "execution_count": null,
   "id": "a886bd89",
   "metadata": {},
   "outputs": [],
   "source": [
    "(sorties.groupby(\"Port d'attache\").size()*100/len(sorties)).plot.barh()\n",
    "plt.xticks(np.arange(0, 100, 10))\n",
    "plt.title(\"Part des navires qui proviennent d'Aunis, Poitou ou Saintonge parmi tous ceux qui partent vers l'étranger ou les colonies\")\n",
    "plt.show()"
   ]
  },
  {
   "cell_type": "code",
   "execution_count": null,
   "id": "294641e3",
   "metadata": {},
   "outputs": [],
   "source": [
    "sorties[\"commodity_standardized_fr\"] = sorties[\"commodity_standardized_fr\"].fillna(\"\")"
   ]
  },
  {
   "cell_type": "code",
   "execution_count": null,
   "id": "eee391f2",
   "metadata": {},
   "outputs": [],
   "source": [
    "colonies = pd.read_csv(\"sorties_navires_vers_colonies.csv\")"
   ]
  },
  {
   "cell_type": "code",
   "execution_count": null,
   "id": "d6208698",
   "metadata": {},
   "outputs": [],
   "source": [
    "colonies"
   ]
  },
  {
   "cell_type": "code",
   "execution_count": null,
   "id": "8cfa7346",
   "metadata": {},
   "outputs": [],
   "source": [
    "colonies[\"commodity_standardized_fr\"] = colonies[\"commodity_standardized_fr\"].fillna(\"\")"
   ]
  },
  {
   "cell_type": "code",
   "execution_count": null,
   "id": "f700ca8e",
   "metadata": {},
   "outputs": [],
   "source": [
    "colonies[\"vers_colonies\"] = (\n",
    "    colonies.substate_destination.str.startswith(\"colonie\") & \n",
    "    (~colonies.commodity_standardized_fr.str.startswith(\"Pêche\")) &\n",
    "    (~colonies.port_destination.str.startswith(\"Saint-Pierre-et-Miquelon\")) &\n",
    "    (~colonies.port_destination.str.startswith(\"Terre-Neuve\"))\n",
    "\n",
    ")"
   ]
  },
  {
   "cell_type": "code",
   "execution_count": null,
   "id": "ab04f823",
   "metadata": {},
   "outputs": [],
   "source": [
    "colonies"
   ]
  },
  {
   "cell_type": "code",
   "execution_count": null,
   "id": "07d89c5d",
   "metadata": {},
   "outputs": [],
   "source": [
    "colonies[colonies.vers_colonies == True][[\"port_depart\", \"outdate_fixed\", \"port_destination\", \"homeport_province\", \"substate_destination\", \"commodity_standardized_fr\", \"tonnage\", \"tonnage_unit\", \"tonnage_class\"]]"
   ]
  },
  {
   "cell_type": "code",
   "execution_count": null,
   "id": "cf738768",
   "metadata": {},
   "outputs": [],
   "source": [
    "\"\"\"\n",
    "ax = sns.countplot(x=\"vers_colonies\", data=sorties)\n",
    "\"\"\""
   ]
  },
  {
   "cell_type": "code",
   "execution_count": null,
   "id": "c282fd22",
   "metadata": {},
   "outputs": [],
   "source": [
    "noDFLR = sorties[(sorties.outside_DFLR == True)]"
   ]
  },
  {
   "cell_type": "code",
   "execution_count": null,
   "id": "329bce05",
   "metadata": {},
   "outputs": [],
   "source": [
    "nb_pointcalls = noDFLR.groupby(\"homeport_state_1789_fr\").size()\n",
    "nb_pointcalls.sort_values().plot.barh()\n",
    "plt.title(\n",
    "    \"Pays d'attache des navires dont la province d'origine n'est pas Aunis, Poitou ou Saintonge, en nb de navires\")\n",
    "plt.show()"
   ]
  },
  {
   "cell_type": "code",
   "execution_count": null,
   "id": "4694e786",
   "metadata": {
    "scrolled": true
   },
   "outputs": [],
   "source": [
    "tonnage = noDFLR.groupby(\"homeport_state_1789_fr\")[\"tonnage\"].sum()\n",
    "tonnage.sort_values().plot.barh()\n",
    "plt.title(\n",
    "    \"Pays d'attache des navires dont la province d'origine n'est pas Aunis, Poitou ou Saintonge, en tonnage total\")\n",
    "plt.show()"
   ]
  },
  {
   "cell_type": "code",
   "execution_count": null,
   "id": "c7809e53",
   "metadata": {},
   "outputs": [],
   "source": [
    "destination = noDFLR.groupby(\"state_destination\").size()\n",
    "destination.sort_values().plot.barh()\n",
    "plt.title(\n",
    "    \"Destinations des navires dont la province d'origine n'est pas Aunis, Poitou ou Saintonge, en nb de navires\")\n",
    "plt.show()"
   ]
  },
  {
   "cell_type": "code",
   "execution_count": null,
   "id": "388f7a62",
   "metadata": {},
   "outputs": [],
   "source": [
    "noDFLR.groupby(\"state_destination\")[\"tonnage\"].sum().sort_values().plot.barh()\n",
    "plt.title(\n",
    "    \"Destinations des navires dont la province d'origine n'est pas Aunis, Poitou ou Saintonge, en tonnage total\")\n",
    "plt.show()"
   ]
  },
  {
   "cell_type": "code",
   "execution_count": null,
   "id": "338dd834",
   "metadata": {},
   "outputs": [],
   "source": [
    "sorties_Bretagne.groupby(\"state_destination\")[\"tonnage\"].sum().sort_values().plot.barh()\n",
    "plt.title(\n",
    "    \"Destinations des navires partis de Bretagne vers l'étranger en 1787, en tonnage total\")\n",
    "plt.show()"
   ]
  },
  {
   "cell_type": "code",
   "execution_count": null,
   "id": "3cccd526",
   "metadata": {},
   "outputs": [],
   "source": [
    "sorties_Nantes.groupby(\"state_destination\")[\"tonnage\"].sum().sort_values().plot.barh()\n",
    "plt.title(\n",
    "    \"Destinations des navires partis de Nantes (amirauté) vers l'étranger en 1787, en tonnage total\")\n",
    "plt.show()"
   ]
  },
  {
   "cell_type": "code",
   "execution_count": null,
   "id": "6d3fc773",
   "metadata": {},
   "outputs": [],
   "source": []
  },
  {
   "cell_type": "code",
   "execution_count": null,
   "id": "5a8032d7",
   "metadata": {},
   "outputs": [],
   "source": [
    "sorties_Guyenne.groupby(\"state_destination\")[\"tonnage\"].sum().sort_values().plot.barh()\n",
    "plt.title(\n",
    "    \"Destinations des navires partis de Guyenne vers l'étranger en 1787, en tonnage total\")\n",
    "plt.show()"
   ]
  },
  {
   "cell_type": "code",
   "execution_count": null,
   "id": "c37d784b",
   "metadata": {},
   "outputs": [],
   "source": [
    "sns.countplot(data=sorties_mixtes, y=\"state_destination\")"
   ]
  },
  {
   "cell_type": "code",
   "execution_count": null,
   "id": "70b59929",
   "metadata": {},
   "outputs": [],
   "source": [
    "g = sns.FacetGrid(sorties_mixtes, row=\"region_depart\")\n",
    "g.map_dataframe(sns.countplot, y=\"state_destination\", order=sorties_mixtes.state_destination.unique())\n",
    "#g.set_axis_labels(\"Total bill\", \"Tip\")\n",
    "#g.add_legend()"
   ]
  },
  {
   "cell_type": "code",
   "execution_count": null,
   "id": "69149cf1",
   "metadata": {},
   "outputs": [],
   "source": [
    "VegaLite({\n",
    "  \"facet\": {\"row\": {\"field\": \"region_depart\"}},\n",
    "  \"spec\": {\n",
    "    \"mark\": \"bar\",\n",
    "    \"encoding\": {\n",
    "      \"x\": {\n",
    "        \"bin\": {\"maxbins\": 15},\n",
    "        \"field\": \"Horsepower\",\n",
    "        \"type\": \"quantitative\"\n",
    "      },\n",
    "      \"y\": {\"aggregate\": \"count\", \"type\": \"quantitative\"}\n",
    "        \n",
    "    }\n",
    "  }\n",
    "}, sorties_mixtes)"
   ]
  },
  {
   "cell_type": "code",
   "execution_count": null,
   "id": "3cf096e6",
   "metadata": {},
   "outputs": [],
   "source": [
    "fr = noDFLR[(noDFLR.homeport_state_1789_fr == \"France\")].groupby(\"homeport_province\").size()\n",
    "fr.sort_values().plot.barh()\n",
    "plt.title(\"Provinces d'attache (hors Aunis, Poitou ou Saintonge) des navires français qui partent vers l'étranger ou les colonies, en nb de navires\")\n",
    "plt.show()"
   ]
  },
  {
   "cell_type": "code",
   "execution_count": null,
   "id": "7d3ceef4",
   "metadata": {},
   "outputs": [],
   "source": [
    "fr = noDFLR[(noDFLR.homeport_state_1789_fr == \"France\")].groupby(\"homeport_province\")[\"tonnage\"].sum()\n",
    "fr.sort_values().plot.barh()\n",
    "plt.title(\"Provinces d'attache (hors Aunis, Poitou ou Saintonge) des navires français qui partent vers l'étranger ou les colonies, en tonnage total\")\n",
    "plt.show()"
   ]
  },
  {
   "cell_type": "code",
   "execution_count": null,
   "id": "36ccac63",
   "metadata": {},
   "outputs": [],
   "source": [
    "noDFLR[(noDFLR.homeport_state_1789_fr == \"France\")].groupby(\"homeport_province\")[\"tonnage\"].mean().sort_values().plot.barh()\n",
    "plt.title(\"Provinces d'attache (hors Aunis, Poitou ou Saintonge) des navires français qui partent vers l'étranger ou les colonies, en tonnage moyen\")\n",
    "plt.show()"
   ]
  },
  {
   "cell_type": "code",
   "execution_count": null,
   "id": "fd3cf836",
   "metadata": {},
   "outputs": [],
   "source": [
    "noDFLR[(noDFLR.homeport_state_1789_fr == \"France\")].groupby(\"substate_destination\").size().sort_values().plot.barh()\n",
    "plt.title(\"Destinations des navires français (hors Aunis, Poitou ou Saintonge) qui partent vers l'étranger ou les colonies, en nombre de navires\")\n",
    "plt.show()"
   ]
  },
  {
   "cell_type": "markdown",
   "id": "5bbdadfd",
   "metadata": {},
   "source": [
    "<img src=\"mon_image.png\">"
   ]
  },
  {
   "cell_type": "code",
   "execution_count": null,
   "id": "ae17b27f",
   "metadata": {},
   "outputs": [],
   "source": [
    "\"\"\"\n",
    "from IPython.core.display import SVG\n",
    "SVG(filename=‘path_to_fichier.svg')\n",
    "\"\"\""
   ]
  },
  {
   "cell_type": "markdown",
   "id": "370ee331",
   "metadata": {},
   "source": [
    "## Focus sur la Grande-Bretagne"
   ]
  },
  {
   "cell_type": "code",
   "execution_count": null,
   "id": "c3f2a705",
   "metadata": {},
   "outputs": [],
   "source": [
    "gb = sorties[sorties.state_destination == \"Grande-Bretagne\"]"
   ]
  },
  {
   "cell_type": "code",
   "execution_count": null,
   "id": "2b90f438",
   "metadata": {},
   "outputs": [],
   "source": [
    "gb[\"homeport_substate_1789_fr\"] = gb[\"homeport_substate_1789_fr\"].fillna(gb[\"homeport_province\"])\n",
    "gb[\"homeport_substate_1789_fr\"] = gb[\"homeport_substate_1789_fr\"].fillna(\"Grande-Bretagne, province absente\")"
   ]
  },
  {
   "cell_type": "code",
   "execution_count": null,
   "id": "7db52100",
   "metadata": {},
   "outputs": [],
   "source": [
    "len(gb)"
   ]
  },
  {
   "cell_type": "code",
   "execution_count": null,
   "id": "b0253361",
   "metadata": {},
   "outputs": [],
   "source": [
    "sns.set(rc={'figure.figsize':(8,4)})\n",
    "gb.groupby(\"destination\")[\"tonnage\"].sum().sort_values().plot.barh()\n",
    "plt.title(\n",
    "    \"Décomposition de la destinations des navires DFLR vers la Grande-Bretagne, en tonage total\")\n",
    "plt.show()"
   ]
  },
  {
   "cell_type": "code",
   "execution_count": null,
   "id": "624e2b8e",
   "metadata": {},
   "outputs": [],
   "source": [
    "gb.groupby(\"destination\").size().sort_values().plot.barh()\n",
    "plt.title(\n",
    "    \"Décomposition de la destinations des navires DFLR vers la Grande-Bretagne, en nb de navires\")\n",
    "plt.show()"
   ]
  },
  {
   "cell_type": "code",
   "execution_count": null,
   "id": "dd55aa5e",
   "metadata": {},
   "outputs": [],
   "source": [
    "from vega import VegaLite"
   ]
  },
  {
   "cell_type": "code",
   "execution_count": null,
   "id": "12db6c32",
   "metadata": {},
   "outputs": [],
   "source": [
    "gb.columns"
   ]
  },
  {
   "cell_type": "code",
   "execution_count": null,
   "id": "00e03bf3",
   "metadata": {},
   "outputs": [],
   "source": [
    "gb[gb.homeport_substate_1789_fr.isna()][[\"homeport_province\", \"homeport_state_1789_fr\", \"ship_flag_standardized_fr\"]]"
   ]
  },
  {
   "cell_type": "code",
   "execution_count": null,
   "id": "17ce375c",
   "metadata": {},
   "outputs": [],
   "source": [
    "gb[\"count\"] = 1"
   ]
  },
  {
   "cell_type": "code",
   "execution_count": null,
   "id": "8f2a8ac7",
   "metadata": {},
   "outputs": [],
   "source": [
    "VegaLite({\n",
    "    \"title\": \"Décomposition du tonnage des navires à destination de la Grande-Bretagne par port d'attache\",\n",
    "    \"mark\": \"rect\",\n",
    "    \"encoding\": {\n",
    "        \"y\": {\n",
    "            \"type\": \"nominal\", \n",
    "            \"field\": \"destination\",\n",
    "            \"title\": \"destination\",\n",
    "            \"sort\": \"-color\"\n",
    "        },\n",
    "        \"x\": {\n",
    "            \"field\": \"homeport_substate_1789_fr\",\n",
    "            \"type\": \"nominal\",\n",
    "            \"title\": \"Province du port d'attache\",\n",
    "            \"sort\": \"-color\"\n",
    "        },\n",
    "        \"color\": {\n",
    "            \"type\": \"quantitative\",\n",
    "            \"aggregate\": \"sum\",\n",
    "            \"field\": \"tonnage\",\n",
    "            \"title\": \"Tonnage cumulé (log)\",\n",
    "            \"scale\": {\n",
    "                \"type\": \"log\"\n",
    "            }\n",
    "        }\n",
    "    }\n",
    "}, gb)"
   ]
  },
  {
   "cell_type": "code",
   "execution_count": null,
   "id": "b913595c",
   "metadata": {},
   "outputs": [],
   "source": [
    "VegaLite({\n",
    "    \"title\": \"Décomposition des navires à destination de la Grande-Bretagne par port d'attache\",\n",
    "    \"mark\": \"rect\",\n",
    "    \"encoding\": {\n",
    "        \"y\": {\n",
    "            \"type\": \"nominal\", \n",
    "            \"field\": \"destination\",\n",
    "            \"title\": \"destination\"\n",
    "        },\n",
    "        \"x\": {\n",
    "            \"field\": \"homeport_substate_1789_fr\",\n",
    "            \"type\": \"nominal\",\n",
    "            \"title\": \"Province du port d'attache\",\n",
    "            \"sort\": \"-color\"\n",
    "        },\n",
    "        \"color\": {\n",
    "            \"type\": \"quantitative\",\n",
    "            \"aggregate\": \"sum\",\n",
    "            \"field\": \"count\",\n",
    "            \"title\": \"Nb de navires (log)\",\n",
    "            \"scale\": {\n",
    "                \"type\": \"log\"\n",
    "            }\n",
    "        }\n",
    "    }\n",
    "}, gb)"
   ]
  },
  {
   "cell_type": "code",
   "execution_count": null,
   "id": "a9ce9f77",
   "metadata": {},
   "outputs": [],
   "source": [
    "gb[\"homeport_toponyme_fr\"].value_counts()"
   ]
  },
  {
   "cell_type": "code",
   "execution_count": null,
   "id": "5b6468c4",
   "metadata": {},
   "outputs": [],
   "source": []
  }
 ],
 "metadata": {
  "kernelspec": {
   "display_name": "Python 3",
   "language": "python",
   "name": "python3"
  },
  "language_info": {
   "codemirror_mode": {
    "name": "ipython",
    "version": 3
   },
   "file_extension": ".py",
   "mimetype": "text/x-python",
   "name": "python",
   "nbconvert_exporter": "python",
   "pygments_lexer": "ipython3",
   "version": "3.8.5"
  }
 },
 "nbformat": 4,
 "nbformat_minor": 5
}
