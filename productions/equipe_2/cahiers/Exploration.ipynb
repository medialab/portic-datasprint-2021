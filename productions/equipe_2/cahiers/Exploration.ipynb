{
 "cells": [
  {
   "cell_type": "markdown",
   "id": "e6fb4297",
   "metadata": {},
   "source": [
    "# Exploration des cahiers de doléance"
   ]
  },
  {
   "cell_type": "code",
   "execution_count": 43,
   "id": "d77ed601",
   "metadata": {},
   "outputs": [],
   "source": [
    "import re\n",
    "import csv\n",
    "import spacy\n",
    "from collections import defaultdict"
   ]
  },
  {
   "cell_type": "code",
   "execution_count": 6,
   "id": "6a854ee1",
   "metadata": {},
   "outputs": [],
   "source": [
    "nlp = spacy.load('fr_core_news_sm')"
   ]
  },
  {
   "cell_type": "code",
   "execution_count": 2,
   "id": "2607ab6c",
   "metadata": {},
   "outputs": [],
   "source": [
    "with open('./resources/cahiers.csv') as f:\n",
    "    data = list(csv.DictReader(f))"
   ]
  },
  {
   "cell_type": "code",
   "execution_count": 15,
   "id": "4f7ebf93",
   "metadata": {},
   "outputs": [],
   "source": [
    "for item in data:\n",
    "    doc = nlp(item['texte_cahier_txt'])\n",
    "    item['sentences'] = [str(sent) for sent in doc.sents]"
   ]
  },
  {
   "cell_type": "code",
   "execution_count": 31,
   "id": "4ab31fc8",
   "metadata": {},
   "outputs": [
    {
     "name": "stdout",
     "output_type": "stream",
     "text": [
      "Marennes (littoral): — Que dans le cas où le régime actuel de la gabelle seroit changé, comme il y a lieu de le présumer, les salines de Saintonge ne pouvant se soutenir qu’autant que les sels qui en proviennent auront un débouché assuré, le bon plaisir de Sa Majesté soit que les pays actuellement aprovisionnés des sels de nos salines, dont la qualité supérieure est générallement reconnue, seront tenus d’y prendre le sel nécessaire à leur consommation et de constater le chargement de leur navires dans nos ports par un certiftîcat du bureau de l’amirauté et autres expéditions des navires, l’objet de cette demande étant d’assurer la conservation de cette précieuse saline et aux consommateurs des sels de la meilheure qualité.\n",
      "\n",
      "Marennes (littoral): — Qu’il soit ordonné, par la même raison, aux armateurs pour la pêche du poisson salé, de continuer à prendre le sel nécessaire pour leur pêche dans les marais de Brouage, ainsi qu’ils y sont obligés par l’article 1er chi titre 15 de l’ordonnance des gabelles, arrêts et lettres patentes des 12 et 21 septembre 1721, 3 et 15 février, 1er et 8 octobre 1722, 29 janvier 1739, et enfin celui du 16 novembre 1787, interprétatif de celui du 25 août 1739 ;\n",
      "\n",
      "Marennes (littoral): — Les négociants réunissent leurs vœux à ceux de la commune pour que Sa Majesté accueille favorablement les demandes exposées dans les articles 14, 15, 16, 17 et 18 du présent cahier, et observent que la position des ports et havres de cette province éloignées de la mer, leur entrée et leur’ sortie par les pertuis de Maumusson et d’Antioche, remplis d’écûeils, en rend la navigation très-difficultueuse, l’augmentation progressive des droits multipliés sur le sel, qui forme le principal objet de leur commerce, que les entraves qu’ils viennent encore d’éprouver récemment par le droit de balisage qu’on a doublé, dès que Sa Majesté l’a eu acquis du sieur de Saint-Disant, gêne le commerce au point qu’il s’est retiré de ces parages et est presque nul depuis plusieurs années, considérations qui méritent l’attention et la faveur du gouvernement.\n",
      "\n",
      "Saint-Augustin sur Mer (littoral): sommes nous nous mêmes propriétaires, nous ne pouvons personnellement jouir de nos récoltes, une personne de lassemblee ayant eu besoin de faire des salaisons pour la consommation de sa maison manda ses sauniers pour lui apporter deux sacs de sel, et ceux cy nayant oze sy exposer, elle eut recours a un agent des fermes de la première classe, le saunier fut alors autorisé a repondre a la demende de son maitre, mais jusqua la concurrence du poids de vingt cinq livres seulement\n",
      "\n",
      " (): - des bois, des boissons, des denrées, des eaux-de-vie, des farines, des fers, des grains, des papiers, du sel, des vins ;\n",
      "\n",
      "Saint-Amand-de-Bonnieure (rural): Supprimer les gabelles, et, comme cet impôt produit considérablement, le remplacer par un simple droit aux fabriques de sel qui sera insensiblement payé par tout l’Angoumois ainsi que par tous les étrangers, et sera au moins aussi productif.\n",
      "\n",
      "Ars-en-Ré (littoral): La même mesure de sel.\n",
      "\n",
      "Rochefort (littoral): \n",
      " Que la gabelle, impôt barbare, soit éteinte à jamais, et la vente du sel déclarée libre dans le royaume et au dehors ;\n",
      "\n",
      "Rochefort (littoral): Que la gabelle, impôt barbare, soit éteinte à jamais et la vente du sel déclarée libre dans le royaume et au dehors.\n",
      "\n",
      "Bouin (littoral): encourager le commerce du sel dans ladite île de Bouin, qui n’est revenu la dernière année qu’à 3 sols et 4 deniers le quintal.\n",
      "\n",
      "Bouin (littoral): \n",
      "\n",
      "    Pendant les XVe et XVIe siècles, les navires anglais venaient souvent mouiller aux deux embouchures du Dain, le Collet et l’Epois, pour y prendre du sel.\n",
      "\n",
      "Noirmoutier (littoral): la dîme de leur sel\n",
      "\n",
      "Noirmoutier (littoral): L’année 1788 a été marquée elle-même par ces fléaux, une partie de l’île a été submergée, des amas de sel ont été fondus, la récolte des terres entièrement perduë ;\n",
      "\n",
      "Rochefort (littoral): Que la gabelle, impôt barbare, soit éteinte à jamais et la vente du sel déclarée libre dans le royaume et au dehors.\n",
      "\n",
      "Ars-en-Ré (littoral): La même mesure de sel.\n",
      "\n",
      "St Augustin sur mer (littoral): sommes nous nous mêmes propriétaires, nous ne pouvons personnellement jouir de nos récoltes, une personne de lassemblee ayant eu besoin de faire des salaisons pour la consommation de sa maison manda ses sauniers pour lui apporter deux sacs de sel, et ceux cy nayant oze sy exposer, elle eut recours a un agent des fermes de la première classe, le saunier fut alors autorisé a repondre a la demende de son maitre, mais jusqua la concurrence du poids de vingt cinq livres seulement\n",
      "\n",
      "Marennes (littoral): — Que dans le cas où le régime actuel de la gabelle seroit changé, comme il y a lieu de le présumer, les salines de Saintonge ne pouvant se soutenir qu’autant que les sels qui en proviennent auront un débouché assuré, le bon plaisir de Sa Majesté soit que les pays actuellement aprovisionnés des sels de nos salines, dont la qualité supérieure est générallement reconnue, seront tenus d’y prendre le sel nécessaire à leur consommation et de constater le chargement de leur navires dans nos ports par un certificat du bureau de l’amirauté et autres expéditions des navires, l’objet de cette demande étant d’assurer la conservation de cette précieuse saline et aux consommateurs des sels de la meilheure qualité.\n",
      "\n",
      "Marennes (littoral): — Qu’il soit ordonné, par la même raison, aux armateurs pour la pêche du poisson salé, de continuer à prendre le sel nécessaire pour leur pêche dans les marais de Brouage, ainsi qu’ils y sont obligés par l’article 1er chi titre 15 de l’ordonnance des gabelles, arrêts et lettres patentes des 12 et 21 septembre 1721, 3 et 15 février, 1er et 8 octobre 1722, 29 janvier 1739, et enfin celui du 16 novembre 1787, interprétatif de celui du 25 août 1739 ;\n",
      "\n",
      "Marennes (littoral): — Les négociants réunissent leurs vœux à ceux de la commune pour que Sa Majesté accueille favorablement les demandes exposées dans les articles 14, 15, 16, 17 et 18 du présent cahier, et observent que la position des ports et havres de cette province éloignées de la mer, leur entrée et leur’ sortie par les pertuis de Maumusson et d’Antioche, remplis d’écûeils, en rend la navigation très-difficultueuse, l’augmentation progressive des droits multipliés sur le sel, qui forme le principal objet de leur commerce, que les entraves qu’ils viennent encore d’éprouver récemment par le droit de balisage qu’on a doublé, dès que Sa Majesté l’a eu acquis du sieur de Saint-Disant, gêne le commerce au point qu’il s’est retiré de ces parages et est presque nul depuis plusieurs années, considérations qui méritent l’attention et la faveur du gouvernement.\n",
      "\n",
      "Soubise (): la ruine d’une partie des marais salants surtout dans cette principauté, lesquels les propriétaires ont été contraints d’abandonner parce que le bas prix du sel se trouvait absorbé par les droits du roi.\n",
      "\n",
      "Soubise (): Si la liberté du commerce du sel n’est pas accordée et que l’approvisionnement de cette denrée soit toujours entre les mains du Roi, que l’adjudicataire chargé de fournir cette denrée en province soit tenu à prendre toutes la fourniture qui lui deviendra nécessaire sur la saline de Saintonge comme produisant des sels de meilleure qualité et que par la même raison les armateurs pour la pêche de poisson salé soient tenus de continuer à prendre le sel nécessaire pour leur pêche sur les salines de Brouage comme ils sont obligés par l’article 1er du titre 14 de l’ordonnance des gabelles et autres arrêts et les lettres patentes à ce sujet.\n",
      "\n",
      "Soubise (): l’été dernier a été si pluvieuses qu’il ne s’est presque parfait de sel comme si toutes les saisons s’étaient conjurées pour épuiser leurs ressources ;\n",
      "\n"
     ]
    }
   ],
   "source": [
    "QUERY = re.compile(r'\\bsel\\b')\n",
    "\n",
    "for item in data:\n",
    "    for sent in item['sentences']:\n",
    "        if QUERY.search(sent):\n",
    "            print('%s (%s):' % (item['localite'], item['rural_littoral']), sent)\n",
    "            print()"
   ]
  },
  {
   "cell_type": "code",
   "execution_count": 45,
   "id": "fe4d64ef",
   "metadata": {},
   "outputs": [
    {
     "data": {
      "text/plain": [
       "defaultdict(set,\n",
       "            {'ORG': {'Assemblée',\n",
       "              'CAHIER',\n",
       "              'Conseil',\n",
       "              'DOLÉANCES',\n",
       "              'Lieutenant général de Niort',\n",
       "              'Tiers',\n",
       "              'Tiers état de la Sénéchaussée de Niort',\n",
       "              'l’Assemblée',\n",
       "              'l’Assemblée des',\n",
       "              'l’Assemblée générale',\n",
       "              'l’Etat'},\n",
       "             'PER': {'Auguste',\n",
       "              'Auguste Monarque',\n",
       "              'Date',\n",
       "              'Députés',\n",
       "              'Etats Généraux',\n",
       "              'Jean Basque',\n",
       "              'Monsieur',\n",
       "              'Pierre Falignon',\n",
       "              'Population',\n",
       "              'Président',\n",
       "              'Sa Majesté',\n",
       "              'Sénéchaussée',\n",
       "              'l’Élection'},\n",
       "             'LOC': {'Bazauges',\n",
       "              'Clergé',\n",
       "              'Elections',\n",
       "              'Etat',\n",
       "              'Etats provinciaux',\n",
       "              'Marrais',\n",
       "              'Noblesse',\n",
       "              'Rois',\n",
       "              'Royaume',\n",
       "              'Sebilleau',\n",
       "              'Versailles',\n",
       "              'départi[teur',\n",
       "              'Élection',\n",
       "              'État',\n",
       "              'États Généraux'},\n",
       "             'MISC': {'Généralité',\n",
       "              'Nous avons parlé plus haut',\n",
       "              'Que la même comparaison',\n",
       "              'Sa Majesté',\n",
       "              'jusqu’',\n",
       "              'l’ordre du',\n",
       "              'Élection',\n",
       "              'Élections',\n",
       "              'États Généraux'}})"
      ]
     },
     "execution_count": 45,
     "metadata": {},
     "output_type": "execute_result"
    }
   ],
   "source": [
    "doc = nlp(data[1]['texte_cahier_txt'])\n",
    "entities = defaultdict(set)\n",
    "for ent in doc.ents:\n",
    "    if len(ent.text) < 4 or len(ent.text) > 40:\n",
    "        continue\n",
    "    entities[ent.label_].add(ent.text.replace('\\xa0', ''))\n",
    "\n",
    "entities"
   ]
  }
 ],
 "metadata": {
  "kernelspec": {
   "display_name": "Python 3",
   "language": "python",
   "name": "python3"
  },
  "language_info": {
   "codemirror_mode": {
    "name": "ipython",
    "version": 3
   },
   "file_extension": ".py",
   "mimetype": "text/x-python",
   "name": "python",
   "nbconvert_exporter": "python",
   "pygments_lexer": "ipython3",
   "version": "3.8.2"
  }
 },
 "nbformat": 4,
 "nbformat_minor": 5
}
