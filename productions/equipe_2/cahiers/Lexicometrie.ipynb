{
 "cells": [
  {
   "cell_type": "markdown",
   "id": "d4784d9e",
   "metadata": {},
   "source": [
    "# Lexicométrie par requêtes dans le cahiers"
   ]
  },
  {
   "cell_type": "code",
   "execution_count": 1,
   "id": "89722c48",
   "metadata": {},
   "outputs": [],
   "source": [
    "import re\n",
    "import csv\n",
    "import spacy\n",
    "from collections import defaultdict, Counter\n",
    "from vega import VegaLite"
   ]
  },
  {
   "cell_type": "code",
   "execution_count": 2,
   "id": "344b10eb",
   "metadata": {},
   "outputs": [],
   "source": [
    "nlp = spacy.load('fr_core_news_lg')"
   ]
  },
  {
   "cell_type": "code",
   "execution_count": 3,
   "id": "1201494c",
   "metadata": {},
   "outputs": [],
   "source": [
    "with open('./resources/cahiers.csv') as f:\n",
    "    data = list(csv.DictReader(f))"
   ]
  },
  {
   "cell_type": "code",
   "execution_count": 4,
   "id": "0dc9dde6",
   "metadata": {},
   "outputs": [],
   "source": [
    "# Parsing sentences\n",
    "for item in data:\n",
    "    doc = nlp(item['texte_cahier_txt'])\n",
    "    item['doc'] = doc\n",
    "    item['sentences'] = [str(sent) for sent in doc.sents]"
   ]
  },
  {
   "cell_type": "markdown",
   "id": "cd874b70",
   "metadata": {},
   "source": [
    "## Requêtes"
   ]
  },
  {
   "cell_type": "code",
   "execution_count": 5,
   "id": "03e875b2",
   "metadata": {},
   "outputs": [],
   "source": [
    "QUERIES = [\n",
    "    {\n",
    "        'name': 'sel',\n",
    "        'pattern': r'\\bgabelles?\\b|\\bsauniers?\\b|\\bsalin|\\bsels?\\b',\n",
    "        'flags': re.I\n",
    "    },\n",
    "    {\n",
    "        'name': 'angleterre',\n",
    "        'pattern': r'\\bAngleterre\\b|\\b[Bb]ritann?ique|\\b[Aa]ngl[ao]|\\bEden\\b'\n",
    "    },\n",
    "    {\n",
    "        'name': 'produits_coloniaux',\n",
    "        'pattern': r'\\bcaf[ée]s?\\b|\\bsucres?\\b|\\bindigo|\\btabac',\n",
    "        'flags': re.I\n",
    "    },\n",
    "    {\n",
    "        'name': 'traite_negriere',\n",
    "        'pattern': r'\\b[Nn][èeé]gr|\\b[Aa]fri' # NOTE: ceci ne marche pas, on ne matche que des noms propres\n",
    "    },\n",
    "    {\n",
    "        'name': 'la_rochelle',\n",
    "        'pattern': r'rochelle\\b',\n",
    "        'flags': re.I\n",
    "    },\n",
    "    {\n",
    "        'name': 'alcool',\n",
    "        'pattern': r'\\balcool|\\bvins?\\b|\\beaux?[\\-—\\s]+de[\\-—\\s]+vie',\n",
    "        'flags': re.I\n",
    "    },\n",
    "    {\n",
    "        'name': 'navigation',\n",
    "        'pattern': r'\\bnavi[rg]|\\bports?\\b|\\bcabot(?:age|eur)s?\\b|\\bmatt?elots?\\b|\\bnaufrag',\n",
    "        'flags': re.I\n",
    "    },\n",
    "    {\n",
    "        'name': 'etranger',\n",
    "        'pattern': r'[\\bl][eé]s?tranger|\\bexport|\\bimports?\\b|\\bimportations?\\b|\\bentrep[oô]', # NOTE: \"importe\" est problématique à cause de la polysémie avec \"importance\"\n",
    "        'flags': re.I\n",
    "    },\n",
    "    {\n",
    "        'name': 'petites_iles',\n",
    "        'pattern': r'\\bBouin\\b|\\bNoirmoutiers?'\n",
    "    },\n",
    "    {\n",
    "        'name': 'commerce_colonial',\n",
    "        'pattern': r'\\b[Cc]coloni|\\b[Aa]m[ée]ri[cq]|\\bIsles\\b|\\bMartini[cq]|\\bGuadeloupe|Domingue\\b|[iî]s?les?\\s+Bourbon|[iî]s?les?\\s+de\\s+France\\b|\\bGuyen|\\bAntilles'\n",
    "    },\n",
    "    {\n",
    "        'name': 'provinces',\n",
    "        'pattern': r'\\bBretagne|\\bNormandie|\\bPicardie|\\bFlandre',\n",
    "        'flags': re.I\n",
    "    },\n",
    "    {\n",
    "        'name': 'institutions',\n",
    "        'pattern': r'\\b(chambre|conseil)\\s+de\\s+commerce|\\bamiraut',\n",
    "        'flags': re.I\n",
    "    },\n",
    "    {\n",
    "        'name': 'ferme_generale',\n",
    "        'pattern': r'\\bferm[iea]|\\bcomm?is\\b|\\bacquits?\\b|\\btarifs?\\b'\n",
    "    },\n",
    "    {\n",
    "        'name': 'contole_etatique',\n",
    "        'pattern': r'\\bclasses?\\b|\\bgarde[\\-—\\s]+c[oô]t',\n",
    "        'flags': re.I\n",
    "    },\n",
    "    {\n",
    "        'name': 'peche',\n",
    "        'pattern': r'\\bTerre[\\-—\\s]+Neuve|\\bmorues?\\b|\\bpoissons?\\b|\\bsardines?|\\bhu[îi]tres?\\b|\\bmoules?\\b|\\bp[êe]che',\n",
    "        'flags': re.I\n",
    "    },\n",
    "    {\n",
    "        'name': 'calamites',\n",
    "        'pattern': r'\\bfamines?\\b|\\baffam?mé|\\bdisette|\\bravage|\\bvimer|\\bmalad\\b|\\bd[ée]g[aâ]t|\\bd[eé]bordement',\n",
    "        'flags': re.I\n",
    "    },\n",
    "    {\n",
    "        'name': 'cereales',\n",
    "        'pattern': r'\\bbl[ée]ds?\\b|\\bbl[ée]s?\\b|\\bfr[uo]ment|\\bvivres?\\b',\n",
    "        'flags': re.I\n",
    "    }\n",
    "]\n",
    "\n",
    "for q in QUERIES:\n",
    "    if 'flags' in q:\n",
    "        q['pattern'] = re.compile(q['pattern'], q['flags'])\n",
    "    else:\n",
    "        q['pattern'] = re.compile(q['pattern'])"
   ]
  },
  {
   "cell_type": "markdown",
   "id": "20c25162",
   "metadata": {},
   "source": [
    "## Calcul des statistiques"
   ]
  },
  {
   "cell_type": "code",
   "execution_count": 6,
   "id": "6bbdefa5",
   "metadata": {},
   "outputs": [
    {
     "data": {
      "text/plain": [
       "Counter({'rural': 124, 'littoral': 26, '': 13})"
      ]
     },
     "execution_count": 6,
     "metadata": {},
     "output_type": "execute_result"
    }
   ],
   "source": [
    "counts = Counter(item['rural_littoral'] for item in data)\n",
    "counts"
   ]
  },
  {
   "cell_type": "code",
   "execution_count": 7,
   "id": "09b257a6",
   "metadata": {},
   "outputs": [
    {
     "data": {
      "text/plain": [
       "Counter({'rural': 14388, 'littoral': 3944, '': 2607})"
      ]
     },
     "execution_count": 7,
     "metadata": {},
     "output_type": "execute_result"
    }
   ],
   "source": [
    "sents_counts = Counter()\n",
    "\n",
    "for item in data:\n",
    "    sents_counts[item['rural_littoral']] += len(item['sentences'])\n",
    "sents_counts"
   ]
  },
  {
   "cell_type": "code",
   "execution_count": 16,
   "id": "da44d318",
   "metadata": {},
   "outputs": [
    {
     "data": {
      "text/plain": [
       "(defaultdict(collections.Counter,\n",
       "             {'rural': Counter({'la_rochelle': 12,\n",
       "                       'commerce_colonial': 6,\n",
       "                       'ferme_generale': 91,\n",
       "                       'calamites': 13,\n",
       "                       'cereales': 33,\n",
       "                       'contole_etatique': 35,\n",
       "                       'alcool': 40,\n",
       "                       'sel': 20,\n",
       "                       'produits_coloniaux': 10,\n",
       "                       'etranger': 6,\n",
       "                       'provinces': 1,\n",
       "                       'navigation': 14,\n",
       "                       'angleterre': 6,\n",
       "                       'institutions': 1,\n",
       "                       'peche': 1,\n",
       "                       'traite_negriere': 2,\n",
       "                       'petites_iles': 1}),\n",
       "              'littoral': Counter({'sel': 16,\n",
       "                       'navigation': 15,\n",
       "                       'provinces': 7,\n",
       "                       'etranger': 8,\n",
       "                       'institutions': 11,\n",
       "                       'peche': 9,\n",
       "                       'produits_coloniaux': 7,\n",
       "                       'alcool': 11,\n",
       "                       'ferme_generale': 15,\n",
       "                       'contole_etatique': 12,\n",
       "                       'angleterre': 5,\n",
       "                       'petites_iles': 3,\n",
       "                       'traite_negriere': 1,\n",
       "                       'la_rochelle': 7,\n",
       "                       'cereales': 8,\n",
       "                       'commerce_colonial': 2,\n",
       "                       'calamites': 3})}),\n",
       " defaultdict(collections.Counter,\n",
       "             {'rural': Counter({'la_rochelle': 12,\n",
       "                       'commerce_colonial': 11,\n",
       "                       'ferme_generale': 280,\n",
       "                       'calamites': 15,\n",
       "                       'cereales': 54,\n",
       "                       'contole_etatique': 70,\n",
       "                       'alcool': 112,\n",
       "                       'sel': 33,\n",
       "                       'produits_coloniaux': 17,\n",
       "                       'etranger': 7,\n",
       "                       'provinces': 1,\n",
       "                       'navigation': 30,\n",
       "                       'angleterre': 6,\n",
       "                       'institutions': 1,\n",
       "                       'peche': 1,\n",
       "                       'traite_negriere': 2,\n",
       "                       'petites_iles': 1}),\n",
       "              'littoral': Counter({'sel': 96,\n",
       "                       'navigation': 60,\n",
       "                       'provinces': 13,\n",
       "                       'etranger': 20,\n",
       "                       'institutions': 13,\n",
       "                       'peche': 19,\n",
       "                       'produits_coloniaux': 20,\n",
       "                       'alcool': 34,\n",
       "                       'ferme_generale': 55,\n",
       "                       'contole_etatique': 29,\n",
       "                       'angleterre': 11,\n",
       "                       'petites_iles': 28,\n",
       "                       'traite_negriere': 2,\n",
       "                       'la_rochelle': 32,\n",
       "                       'cereales': 8,\n",
       "                       'commerce_colonial': 4,\n",
       "                       'calamites': 3})}),\n",
       " defaultdict(collections.Counter,\n",
       "             {'rural': Counter({'la_rochelle': 12,\n",
       "                       'commerce_colonial': 11,\n",
       "                       'ferme_generale': 244,\n",
       "                       'calamites': 15,\n",
       "                       'cereales': 46,\n",
       "                       'contole_etatique': 64,\n",
       "                       'alcool': 82,\n",
       "                       'sel': 30,\n",
       "                       'produits_coloniaux': 13,\n",
       "                       'etranger': 6,\n",
       "                       'provinces': 1,\n",
       "                       'navigation': 25,\n",
       "                       'angleterre': 6,\n",
       "                       'institutions': 1,\n",
       "                       'peche': 1,\n",
       "                       'traite_negriere': 2,\n",
       "                       'petites_iles': 1}),\n",
       "              'littoral': Counter({'sel': 65,\n",
       "                       'navigation': 45,\n",
       "                       'provinces': 11,\n",
       "                       'etranger': 15,\n",
       "                       'institutions': 13,\n",
       "                       'peche': 13,\n",
       "                       'produits_coloniaux': 10,\n",
       "                       'alcool': 20,\n",
       "                       'ferme_generale': 48,\n",
       "                       'contole_etatique': 29,\n",
       "                       'angleterre': 9,\n",
       "                       'petites_iles': 26,\n",
       "                       'traite_negriere': 2,\n",
       "                       'la_rochelle': 31,\n",
       "                       'cereales': 8,\n",
       "                       'commerce_colonial': 4,\n",
       "                       'calamites': 3})}))"
      ]
     },
     "execution_count": 16,
     "metadata": {},
     "output_type": "execute_result"
    }
   ],
   "source": [
    "queries_matches_counts = defaultdict(Counter)\n",
    "queries_sents_counts = defaultdict(Counter)\n",
    "queries_counts = defaultdict(Counter)\n",
    "verbatims = defaultdict(lambda: defaultdict(list))\n",
    "\n",
    "for item in data:\n",
    "    \n",
    "    # NOTE: certains cahier ne sont pas pas catégorisés (facile à ajouter)\n",
    "    if not item['rural_littoral']:\n",
    "        continue\n",
    "        \n",
    "    typ = item['rural_littoral']\n",
    "    \n",
    "    for query in QUERIES:\n",
    "        matched = False\n",
    "        \n",
    "        matches = query['pattern'].findall(item['texte_cahier_txt'])\n",
    "        \n",
    "        if matches:\n",
    "            queries_matches_counts[typ][query['name']] += len(matches)\n",
    "            matched = True\n",
    "            \n",
    "        for sent in item['sentences']:\n",
    "            if query['pattern'].search(sent):\n",
    "                queries_sents_counts[typ][query['name']] += 1\n",
    "                verbatims[typ][query['name']].append((item, sent))\n",
    "        \n",
    "        if matched:\n",
    "            queries_counts[typ][query['name']] += 1\n",
    "            \n",
    "queries_counts, queries_matches_counts, queries_sents_counts"
   ]
  },
  {
   "cell_type": "markdown",
   "id": "8f92cf63",
   "metadata": {},
   "source": [
    "## Visualisations"
   ]
  },
  {
   "cell_type": "code",
   "execution_count": 9,
   "id": "fb0d0ef7",
   "metadata": {},
   "outputs": [],
   "source": [
    "queries_sents_ratios = defaultdict(Counter)\n",
    "queries_ratios = defaultdict(Counter)\n",
    "\n",
    "for typ, container in queries_counts.items():\n",
    "    for k, c in container.items():\n",
    "        queries_ratios[typ][k] = c / counts[typ]\n",
    "        \n",
    "for typ, container in queries_sents_counts.items():\n",
    "    for k, c in container.items():\n",
    "        queries_sents_ratios[typ][k] = c / sents_counts[typ]"
   ]
  },
  {
   "cell_type": "code",
   "execution_count": 10,
   "id": "a3fab3a3",
   "metadata": {},
   "outputs": [
    {
     "data": {
      "text/plain": [
       "defaultdict(collections.Counter,\n",
       "            {'rural': Counter({'la_rochelle': 0.0008340283569641367,\n",
       "                      'commerce_colonial': 0.0007645259938837921,\n",
       "                      'ferme_generale': 0.016958576591604116,\n",
       "                      'calamites': 0.001042535446205171,\n",
       "                      'cereales': 0.003197108701695858,\n",
       "                      'contole_etatique': 0.004448151237142063,\n",
       "                      'alcool': 0.005699193772588268,\n",
       "                      'sel': 0.002085070892410342,\n",
       "                      'produits_coloniaux': 0.0009035307200444815,\n",
       "                      'etranger': 0.0004170141784820684,\n",
       "                      'provinces': 6.950236308034473e-05,\n",
       "                      'navigation': 0.0017375590770086183,\n",
       "                      'angleterre': 0.0004170141784820684,\n",
       "                      'institutions': 6.950236308034473e-05,\n",
       "                      'peche': 6.950236308034473e-05,\n",
       "                      'traite_negriere': 0.00013900472616068947,\n",
       "                      'petites_iles': 6.950236308034473e-05}),\n",
       "             'littoral': Counter({'sel': 0.016480730223123734,\n",
       "                      'navigation': 0.01140973630831643,\n",
       "                      'provinces': 0.002789046653144016,\n",
       "                      'etranger': 0.0038032454361054766,\n",
       "                      'institutions': 0.0032961460446247464,\n",
       "                      'peche': 0.0032961460446247464,\n",
       "                      'produits_coloniaux': 0.002535496957403651,\n",
       "                      'alcool': 0.005070993914807302,\n",
       "                      'ferme_generale': 0.012170385395537525,\n",
       "                      'contole_etatique': 0.007352941176470588,\n",
       "                      'angleterre': 0.002281947261663286,\n",
       "                      'petites_iles': 0.006592292089249493,\n",
       "                      'traite_negriere': 0.0005070993914807302,\n",
       "                      'la_rochelle': 0.007860040567951318,\n",
       "                      'cereales': 0.002028397565922921,\n",
       "                      'commerce_colonial': 0.0010141987829614604,\n",
       "                      'calamites': 0.0007606490872210953})})"
      ]
     },
     "execution_count": 10,
     "metadata": {},
     "output_type": "execute_result"
    }
   ],
   "source": [
    "queries_sents_ratios"
   ]
  },
  {
   "cell_type": "code",
   "execution_count": 11,
   "id": "218fd3b0",
   "metadata": {},
   "outputs": [
    {
     "data": {
      "application/javascript": [
       "const spec = {\"$schema\": \"https://vega.github.io/schema/vega-lite/v5.json\", \"title\": \"Proportions de cahiers littoraux/ruraux matchant nos requ\\u00eates\", \"mark\": \"bar\", \"width\": {\"step\": 30}, \"encoding\": {\"x\": {\"field\": \"type\", \"type\": \"nominal\", \"axis\": \"\"}, \"y\": {\"type\": \"quantitative\", \"field\": \"ratio\"}, \"color\": {\"type\": \"nominal\", \"field\": \"type\"}, \"column\": {\"type\": \"nominal\", \"field\": \"query\", \"title\": \"Requ\\u00eate\"}}, \"data\": {\"values\": [{\"type\": \"rural\", \"query\": \"la_rochelle\", \"ratio\": 0.0967741935483871}, {\"type\": \"rural\", \"query\": \"commerce_colonial\", \"ratio\": 0.04838709677419355}, {\"type\": \"rural\", \"query\": \"ferme_generale\", \"ratio\": 0.7338709677419355}, {\"type\": \"rural\", \"query\": \"calamites\", \"ratio\": 0.10483870967741936}, {\"type\": \"rural\", \"query\": \"cereales\", \"ratio\": 0.2661290322580645}, {\"type\": \"rural\", \"query\": \"contole_etatique\", \"ratio\": 0.28225806451612906}, {\"type\": \"rural\", \"query\": \"alcool\", \"ratio\": 0.3225806451612903}, {\"type\": \"rural\", \"query\": \"sel\", \"ratio\": 0.16129032258064516}, {\"type\": \"rural\", \"query\": \"produits_coloniaux\", \"ratio\": 0.08064516129032258}, {\"type\": \"rural\", \"query\": \"etranger\", \"ratio\": 0.04838709677419355}, {\"type\": \"rural\", \"query\": \"provinces\", \"ratio\": 0.008064516129032258}, {\"type\": \"rural\", \"query\": \"navigation\", \"ratio\": 0.11290322580645161}, {\"type\": \"rural\", \"query\": \"angleterre\", \"ratio\": 0.04838709677419355}, {\"type\": \"rural\", \"query\": \"institutions\", \"ratio\": 0.008064516129032258}, {\"type\": \"rural\", \"query\": \"peche\", \"ratio\": 0.008064516129032258}, {\"type\": \"rural\", \"query\": \"traite_negriere\", \"ratio\": 0.016129032258064516}, {\"type\": \"rural\", \"query\": \"petites_iles\", \"ratio\": 0.008064516129032258}, {\"type\": \"littoral\", \"query\": \"sel\", \"ratio\": 0.6153846153846154}, {\"type\": \"littoral\", \"query\": \"navigation\", \"ratio\": 0.5769230769230769}, {\"type\": \"littoral\", \"query\": \"provinces\", \"ratio\": 0.2692307692307692}, {\"type\": \"littoral\", \"query\": \"etranger\", \"ratio\": 0.3076923076923077}, {\"type\": \"littoral\", \"query\": \"institutions\", \"ratio\": 0.4230769230769231}, {\"type\": \"littoral\", \"query\": \"peche\", \"ratio\": 0.34615384615384615}, {\"type\": \"littoral\", \"query\": \"produits_coloniaux\", \"ratio\": 0.2692307692307692}, {\"type\": \"littoral\", \"query\": \"alcool\", \"ratio\": 0.4230769230769231}, {\"type\": \"littoral\", \"query\": \"ferme_generale\", \"ratio\": 0.5769230769230769}, {\"type\": \"littoral\", \"query\": \"contole_etatique\", \"ratio\": 0.46153846153846156}, {\"type\": \"littoral\", \"query\": \"angleterre\", \"ratio\": 0.19230769230769232}, {\"type\": \"littoral\", \"query\": \"petites_iles\", \"ratio\": 0.11538461538461539}, {\"type\": \"littoral\", \"query\": \"traite_negriere\", \"ratio\": 0.038461538461538464}, {\"type\": \"littoral\", \"query\": \"la_rochelle\", \"ratio\": 0.2692307692307692}, {\"type\": \"littoral\", \"query\": \"cereales\", \"ratio\": 0.3076923076923077}, {\"type\": \"littoral\", \"query\": \"commerce_colonial\", \"ratio\": 0.07692307692307693}, {\"type\": \"littoral\", \"query\": \"calamites\", \"ratio\": 0.11538461538461539}]}};\n",
       "const opt = {};\n",
       "const type = \"vega-lite\";\n",
       "const id = \"8d392d0f-6c17-43de-a54a-84edb8af8404\";\n",
       "\n",
       "const output_area = this;\n",
       "\n",
       "require([\"nbextensions/jupyter-vega/index\"], function(vega) {\n",
       "  const target = document.createElement(\"div\");\n",
       "  target.id = id;\n",
       "  target.className = \"vega-embed\";\n",
       "\n",
       "  const style = document.createElement(\"style\");\n",
       "  style.textContent = [\n",
       "    \".vega-embed .error p {\",\n",
       "    \"  color: firebrick;\",\n",
       "    \"  font-size: 14px;\",\n",
       "    \"}\",\n",
       "  ].join(\"\\\\n\");\n",
       "\n",
       "  // element is a jQuery wrapped DOM element inside the output area\n",
       "  // see http://ipython.readthedocs.io/en/stable/api/generated/\\\n",
       "  // IPython.display.html#IPython.display.Javascript.__init__\n",
       "  element[0].appendChild(target);\n",
       "  element[0].appendChild(style);\n",
       "\n",
       "  vega.render(\"#\" + id, spec, type, opt, output_area);\n",
       "}, function (err) {\n",
       "  if (err.requireType !== \"scripterror\") {\n",
       "    throw(err);\n",
       "  }\n",
       "});\n"
      ],
      "text/plain": [
       "<vega.vegalite.VegaLite at 0x14118b2e0>"
      ]
     },
     "execution_count": 11,
     "metadata": {
      "jupyter-vega": "#8d392d0f-6c17-43de-a54a-84edb8af8404"
     },
     "output_type": "execute_result"
    },
    {
     "data": {
      "image/png": "[encoded data removed]"
     },
     "metadata": {
      "jupyter-vega": "#8d392d0f-6c17-43de-a54a-84edb8af8404"
     },
     "output_type": "display_data"
    }
   ],
   "source": [
    "per_cahier_viz_data = []\n",
    "\n",
    "for typ, container in queries_ratios.items():\n",
    "    for q, r in container.items():\n",
    "        per_cahier_viz_data.append({\n",
    "            'type': typ,\n",
    "            'query': q,\n",
    "            'ratio': r\n",
    "        })\n",
    "        \n",
    "VegaLite({\n",
    "    \"$schema\": \"https://vega.github.io/schema/vega-lite/v5.json\",\n",
    "    \"title\": \"Proportions de cahiers littoraux/ruraux matchant nos requêtes\",\n",
    "    \"mark\": \"bar\",\n",
    "    \"width\": {\"step\": 30},\n",
    "    \"encoding\": {\n",
    "        \"x\": {\n",
    "            \"field\": \"type\",\n",
    "            \"type\": \"nominal\",\n",
    "            \"axis\": \"\"\n",
    "        },\n",
    "        \"y\": {\n",
    "            \"type\": \"quantitative\",\n",
    "            \"field\": \"ratio\"\n",
    "        },\n",
    "        \"color\": {\n",
    "            \"type\": \"nominal\",\n",
    "            \"field\": \"type\"\n",
    "        },\n",
    "        \"column\": {\n",
    "            \"type\": \"nominal\",\n",
    "            \"field\": \"query\",\n",
    "            \"title\": \"Requête\"\n",
    "        }\n",
    "    }\n",
    "}, per_cahier_viz_data)"
   ]
  },
  {
   "cell_type": "code",
   "execution_count": 12,
   "id": "44ee00e0",
   "metadata": {},
   "outputs": [
    {
     "data": {
      "application/javascript": [
       "const spec = {\"$schema\": \"https://vega.github.io/schema/vega-lite/v5.json\", \"title\": \"Proportions de phrases des cahiers littoraux/ruraux matchant nos requ\\u00eates\", \"mark\": \"bar\", \"width\": {\"step\": 30}, \"encoding\": {\"x\": {\"field\": \"type\", \"type\": \"nominal\", \"axis\": \"\"}, \"y\": {\"type\": \"quantitative\", \"field\": \"ratio\"}, \"color\": {\"type\": \"nominal\", \"field\": \"type\"}, \"column\": {\"type\": \"nominal\", \"field\": \"query\", \"title\": \"Requ\\u00eate\"}}, \"data\": {\"values\": [{\"type\": \"rural\", \"query\": \"la_rochelle\", \"ratio\": 0.0008340283569641367}, {\"type\": \"rural\", \"query\": \"commerce_colonial\", \"ratio\": 0.0007645259938837921}, {\"type\": \"rural\", \"query\": \"ferme_generale\", \"ratio\": 0.016958576591604116}, {\"type\": \"rural\", \"query\": \"calamites\", \"ratio\": 0.001042535446205171}, {\"type\": \"rural\", \"query\": \"cereales\", \"ratio\": 0.003197108701695858}, {\"type\": \"rural\", \"query\": \"contole_etatique\", \"ratio\": 0.004448151237142063}, {\"type\": \"rural\", \"query\": \"alcool\", \"ratio\": 0.005699193772588268}, {\"type\": \"rural\", \"query\": \"sel\", \"ratio\": 0.002085070892410342}, {\"type\": \"rural\", \"query\": \"produits_coloniaux\", \"ratio\": 0.0009035307200444815}, {\"type\": \"rural\", \"query\": \"etranger\", \"ratio\": 0.0004170141784820684}, {\"type\": \"rural\", \"query\": \"provinces\", \"ratio\": 6.950236308034473e-05}, {\"type\": \"rural\", \"query\": \"navigation\", \"ratio\": 0.0017375590770086183}, {\"type\": \"rural\", \"query\": \"angleterre\", \"ratio\": 0.0004170141784820684}, {\"type\": \"rural\", \"query\": \"institutions\", \"ratio\": 6.950236308034473e-05}, {\"type\": \"rural\", \"query\": \"peche\", \"ratio\": 6.950236308034473e-05}, {\"type\": \"rural\", \"query\": \"traite_negriere\", \"ratio\": 0.00013900472616068947}, {\"type\": \"rural\", \"query\": \"petites_iles\", \"ratio\": 6.950236308034473e-05}, {\"type\": \"littoral\", \"query\": \"sel\", \"ratio\": 0.016480730223123734}, {\"type\": \"littoral\", \"query\": \"navigation\", \"ratio\": 0.01140973630831643}, {\"type\": \"littoral\", \"query\": \"provinces\", \"ratio\": 0.002789046653144016}, {\"type\": \"littoral\", \"query\": \"etranger\", \"ratio\": 0.0038032454361054766}, {\"type\": \"littoral\", \"query\": \"institutions\", \"ratio\": 0.0032961460446247464}, {\"type\": \"littoral\", \"query\": \"peche\", \"ratio\": 0.0032961460446247464}, {\"type\": \"littoral\", \"query\": \"produits_coloniaux\", \"ratio\": 0.002535496957403651}, {\"type\": \"littoral\", \"query\": \"alcool\", \"ratio\": 0.005070993914807302}, {\"type\": \"littoral\", \"query\": \"ferme_generale\", \"ratio\": 0.012170385395537525}, {\"type\": \"littoral\", \"query\": \"contole_etatique\", \"ratio\": 0.007352941176470588}, {\"type\": \"littoral\", \"query\": \"angleterre\", \"ratio\": 0.002281947261663286}, {\"type\": \"littoral\", \"query\": \"petites_iles\", \"ratio\": 0.006592292089249493}, {\"type\": \"littoral\", \"query\": \"traite_negriere\", \"ratio\": 0.0005070993914807302}, {\"type\": \"littoral\", \"query\": \"la_rochelle\", \"ratio\": 0.007860040567951318}, {\"type\": \"littoral\", \"query\": \"cereales\", \"ratio\": 0.002028397565922921}, {\"type\": \"littoral\", \"query\": \"commerce_colonial\", \"ratio\": 0.0010141987829614604}, {\"type\": \"littoral\", \"query\": \"calamites\", \"ratio\": 0.0007606490872210953}]}};\n",
       "const opt = {};\n",
       "const type = \"vega-lite\";\n",
       "const id = \"8fb801e3-08e1-45f9-aba2-7aa27b7ba6ba\";\n",
       "\n",
       "const output_area = this;\n",
       "\n",
       "require([\"nbextensions/jupyter-vega/index\"], function(vega) {\n",
       "  const target = document.createElement(\"div\");\n",
       "  target.id = id;\n",
       "  target.className = \"vega-embed\";\n",
       "\n",
       "  const style = document.createElement(\"style\");\n",
       "  style.textContent = [\n",
       "    \".vega-embed .error p {\",\n",
       "    \"  color: firebrick;\",\n",
       "    \"  font-size: 14px;\",\n",
       "    \"}\",\n",
       "  ].join(\"\\\\n\");\n",
       "\n",
       "  // element is a jQuery wrapped DOM element inside the output area\n",
       "  // see http://ipython.readthedocs.io/en/stable/api/generated/\\\n",
       "  // IPython.display.html#IPython.display.Javascript.__init__\n",
       "  element[0].appendChild(target);\n",
       "  element[0].appendChild(style);\n",
       "\n",
       "  vega.render(\"#\" + id, spec, type, opt, output_area);\n",
       "}, function (err) {\n",
       "  if (err.requireType !== \"scripterror\") {\n",
       "    throw(err);\n",
       "  }\n",
       "});\n"
      ],
      "text/plain": [
       "<vega.vegalite.VegaLite at 0x1413b4820>"
      ]
     },
     "execution_count": 12,
     "metadata": {
      "jupyter-vega": "#8fb801e3-08e1-45f9-aba2-7aa27b7ba6ba"
     },
     "output_type": "execute_result"
    },
    {
     "data": {
      "image/png": "[encoded data removed]"
     },
     "metadata": {
      "jupyter-vega": "#8fb801e3-08e1-45f9-aba2-7aa27b7ba6ba"
     },
     "output_type": "display_data"
    }
   ],
   "source": [
    "per_sent_viz_data = []\n",
    "\n",
    "for typ, container in queries_sents_ratios.items():\n",
    "    for q, r in container.items():\n",
    "        per_sent_viz_data.append({\n",
    "            'type': typ,\n",
    "            'query': q,\n",
    "            'ratio': r\n",
    "        })\n",
    "        \n",
    "VegaLite({\n",
    "    \"$schema\": \"https://vega.github.io/schema/vega-lite/v5.json\",\n",
    "    \"title\": \"Proportions de phrases des cahiers littoraux/ruraux matchant nos requêtes\",\n",
    "    \"mark\": \"bar\",\n",
    "    \"width\": {\"step\": 30},\n",
    "    \"encoding\": {\n",
    "        \"x\": {\n",
    "            \"field\": \"type\",\n",
    "            \"type\": \"nominal\",\n",
    "            \"axis\": \"\"\n",
    "        },\n",
    "        \"y\": {\n",
    "            \"type\": \"quantitative\",\n",
    "            \"field\": \"ratio\"\n",
    "        },\n",
    "        \"color\": {\n",
    "            \"type\": \"nominal\",\n",
    "            \"field\": \"type\"\n",
    "        },\n",
    "        \"column\": {\n",
    "            \"type\": \"nominal\",\n",
    "            \"field\": \"query\",\n",
    "            \"title\": \"Requête\"\n",
    "        }\n",
    "    }\n",
    "}, per_sent_viz_data)"
   ]
  },
  {
   "cell_type": "code",
   "execution_count": 17,
   "id": "1dafd3b4",
   "metadata": {},
   "outputs": [
    {
     "name": "stdout",
     "output_type": "stream",
     "text": [
      "Ces institutions lèzent le bien général de l’état, soit en empêchant une égale répartition du commerce dans l’étendue du Royaume, soit en le gènant en plusieurs endroits ainsi que les exportations et importations, soit en décourageant l’agriculture, soit en dévastant la campagne de leurs cultivateurs, qui séduits par l’apas de la fortune, abbandonnent bientôt l’état simple et rustique de leurs pères pour se revétir de celui d’un employé.\n",
      "\n",
      "\n",
      "Les entrepôts du tabac offrent surtout un abus intolérable, la ferme générale, indifférente sur les infidélités nuisibles qui altèrent ou vicient la qualité du tabac en poudre, confie indistinctement ce poste à la recommandation des seigneurs qui, communément, en font le lot de leurs commensaux.\n",
      "\n",
      "\n",
      "Il faudrait donc supprimer ou tout au moins reculer aux frontières les bureaux de traites, péages, octrois et aides, et supprimer tous droits sur les denrées et marchandises d’exportation [et] de tous objets, même venant de l’étranger.\n",
      "\n",
      "\n",
      "Il faudrait donc supprimer ou tout au moins reculer aux frontières les bureaux de traites, péages, octrois et aides, et supprimer tous droits sur les denrées et marchandises d’exportation [et] de tous objets, même venant de l’étranger.\n",
      "\n",
      "\n",
      "3° Par l’éloignement des entrepôts pour la vente du reste des productions.\n",
      "\n",
      "\n",
      "Ne pourrrait-on pas y verser les sommes considérables annuellement exportées pour les expéditions en cour de Rome ?\n",
      "\n",
      "\n"
     ]
    }
   ],
   "source": [
    "for _, sent in verbatims['rural']['etranger']:\n",
    "    print(sent)\n",
    "    print()\n",
    "    print()"
   ]
  },
  {
   "cell_type": "markdown",
   "id": "fdf8de5f",
   "metadata": {},
   "source": [
    "## Export des verbatims"
   ]
  },
  {
   "cell_type": "code",
   "execution_count": 18,
   "id": "fbbcf59f",
   "metadata": {},
   "outputs": [],
   "source": [
    "with open('./outputs/verbatims.csv', 'w') as f:\n",
    "    writer = csv.DictWriter(f, fieldnames=['titre', 'localite', 'rural_littoral', 'query', 'verbatim'])\n",
    "    writer.writeheader()\n",
    "    \n",
    "    for typ, container in verbatims.items():\n",
    "        for query, tuples in container.items():\n",
    "            for item, sent in tuples:\n",
    "                writer.writerow({\n",
    "                    'titre': item['titre_propre'],\n",
    "                    'localite': item['localite'],\n",
    "                    'rural_littoral': typ,\n",
    "                    'query': query,\n",
    "                    'verbatim': sent\n",
    "                })"
   ]
  }
 ],
 "metadata": {
  "kernelspec": {
   "display_name": "Python 3",
   "language": "python",
   "name": "python3"
  },
  "language_info": {
   "codemirror_mode": {
    "name": "ipython",
    "version": 3
   },
   "file_extension": ".py",
   "mimetype": "text/x-python",
   "name": "python",
   "nbconvert_exporter": "python",
   "pygments_lexer": "ipython3",
   "version": "3.8.2"
  }
 },
 "nbformat": 4,
 "nbformat_minor": 5
}
