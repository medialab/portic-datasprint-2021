{
 "cells": [
  {
   "cell_type": "markdown",
   "id": "b9f97d5d",
   "metadata": {},
   "source": [
    "# Réseaux Navigocorpus"
   ]
  },
  {
   "cell_type": "code",
   "execution_count": 7,
   "id": "baeac7a8",
   "metadata": {},
   "outputs": [],
   "source": [
    "import networkx as nx\n",
    "from poitousprint import Portic\n",
    "from ipysigma import Sigma"
   ]
  },
  {
   "cell_type": "code",
   "execution_count": 25,
   "id": "4b163fca",
   "metadata": {},
   "outputs": [],
   "source": [
    "INNER_ADMIRALTIES = {'La Rochelle', 'Marennes', 'Sables-d’Olonne'}"
   ]
  },
  {
   "cell_type": "code",
   "execution_count": 2,
   "id": "72100559",
   "metadata": {},
   "outputs": [],
   "source": [
    "client = Portic()"
   ]
  },
  {
   "cell_type": "code",
   "execution_count": 9,
   "id": "4e91e3a1",
   "metadata": {},
   "outputs": [],
   "source": [
    "flows = client.get_flows(year=1789, source_subset='Poitou_1789')\n",
    "flows = [flow for flow in flows if flow['departure_action'] == 'Out']"
   ]
  },
  {
   "cell_type": "markdown",
   "id": "9dca3a57",
   "metadata": {},
   "source": [
    "## Réseau macro"
   ]
  },
  {
   "cell_type": "code",
   "execution_count": 60,
   "id": "ebb22467",
   "metadata": {},
   "outputs": [],
   "source": [
    "inner_graph = nx.DiGraph()\n",
    "macro_graph = nx.DiGraph()\n",
    "\n",
    "def add_node(g, name, admiralty=None, peche=0):\n",
    "    if admiralty is None:\n",
    "        admiralty = 'n/a'\n",
    "    \n",
    "    if g.has_node(name):\n",
    "        g.nodes[name]['peche'] += peche\n",
    "    else:\n",
    "        g.add_node(\n",
    "            name,\n",
    "            admiralty=admiralty,\n",
    "            peche=peche,\n",
    "            in_region=admiralty in INNER_ADMIRALTIES,\n",
    "            inside_degree=0,\n",
    "            outside_degree=0\n",
    "        )\n",
    "\n",
    "def add_edge(g, source, target, tonnage):\n",
    "    if g.has_edge(source, target):\n",
    "        attr = g[source][target]\n",
    "        attr['weight'] += 1\n",
    "        attr['tonnage'] += tonnage\n",
    "    else:\n",
    "        g.add_edge(\n",
    "            source,\n",
    "            target,\n",
    "            weight=1,\n",
    "            tonnage=tonnage\n",
    "        )\n",
    "\n",
    "for flow in flows:\n",
    "    source = flow['departure']\n",
    "    target = flow['destination']\n",
    "    \n",
    "    source_admiralty = flow['departure_admiralty']\n",
    "    target_admiralty = flow['destination_admiralty']\n",
    "    \n",
    "    tonnage = 0\n",
    "\n",
    "    try:\n",
    "        tonnage = int(flow['tonnage'])\n",
    "    except ValueError:\n",
    "        pass\n",
    "    \n",
    "    inside_flow = source_admiralty in INNER_ADMIRALTIES and target_admiralty in INNER_ADMIRALTIES\n",
    "    \n",
    "    # Macro graph\n",
    "    if source == target:\n",
    "        add_node(macro_graph, source, source_admiralty, 1)\n",
    "    else:\n",
    "        add_node(macro_graph, source, source_admiralty)\n",
    "        add_node(macro_graph, target, target_admiralty)\n",
    "        add_edge(macro_graph, source, target, tonnage)\n",
    "        \n",
    "        if source_admiralty in INNER_ADMIRALTIES:\n",
    "            if inside_flow:\n",
    "                macro_graph.nodes[source]['inside_degree'] += 1\n",
    "            else:\n",
    "                macro_graph.nodes[source]['outside_degree'] += 1"
   ]
  },
  {
   "cell_type": "code",
   "execution_count": 61,
   "id": "182afa87",
   "metadata": {},
   "outputs": [],
   "source": [
    "nx.write_gexf(macro_graph, 'macro.gexf')"
   ]
  }
 ],
 "metadata": {
  "kernelspec": {
   "display_name": "Python 3",
   "language": "python",
   "name": "python3"
  },
  "language_info": {
   "codemirror_mode": {
    "name": "ipython",
    "version": 3
   },
   "file_extension": ".py",
   "mimetype": "text/x-python",
   "name": "python",
   "nbconvert_exporter": "python",
   "pygments_lexer": "ipython3",
   "version": "3.8.2"
  }
 },
 "nbformat": 4,
 "nbformat_minor": 5
}
