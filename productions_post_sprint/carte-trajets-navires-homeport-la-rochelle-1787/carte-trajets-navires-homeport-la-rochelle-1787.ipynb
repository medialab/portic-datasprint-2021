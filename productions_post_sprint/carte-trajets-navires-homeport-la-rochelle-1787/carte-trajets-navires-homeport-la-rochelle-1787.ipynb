{
 "cells": [
  {
   "cell_type": "markdown",
   "metadata": {},
   "source": [
    "## Demande de viz complémentaire axe 2.1 \n",
    "\n",
    "En réponse au commentaire de Silvia du 21/0( sur doc étape 3 : \"je verrai bien une carte avec les données Navigo de 1787, qui montre de quels ports français [pointcall OUT ou IN-OUT] sortent les navires de La Rochelle [homeport] et leur destination suivante avec une mise en valeur d'une manière ou d'une autre du tonnage (par ex: possibilité de cliquer pour voir le Nombre OU le tonnage total cumulé\"\n",
    "\n",
    "#### Données utilisées : \n",
    "pointcalls navigo : \n",
    "year = 1787\n",
    "homeport = 'La Rochelle'\n",
    "pointcall_action = ['Out', 'In-Out', 'In-out'] \n",
    "\n",
    "#### Construction de la carte : \n",
    "Production d'un jeu de données mettant en correspondance les points de départ ou d'étape de ces navires (attribut 'pointcall' des pointcalls 'Out' et 'In-Out'), avec leur destination (attribut 'pointcall' des pointcalls 'In' ayant le même source_doc_id).\n",
    "\n",
    "Si le même trajet est réalisé plusieurs fois, on aggrège par nombre de trajets, ou tonnage cumulé, et on adapte la largeur des flux sur la carte."
   ]
  },
  {
   "cell_type": "code",
   "execution_count": 1,
   "metadata": {},
   "outputs": [],
   "source": [
    "# imports\n",
    "import json \n",
    "from poitousprint import Portic, get_pointcalls_commodity_purposes_as_toflit_product\n",
    "\n",
    "portic_client = Portic()"
   ]
  },
  {
   "cell_type": "code",
   "execution_count": 6,
   "metadata": {},
   "outputs": [
    {
     "name": "stdout",
     "output_type": "stream",
     "text": [
      "nombre de pointcalls Out ou In-Out (départs et étapes) trouvés pour desnavires du port de La Rochelle: 360\n"
     ]
    }
   ],
   "source": [
    "# collecte des départs et points d'étape\n",
    "pointcalls_departures_la_rochelle_homeport = portic_client.get_pointcalls(\n",
    "    year = 1787, \n",
    "    homeport = 'La Rochelle', # après vérification, tous les pointcalls 'Out' de 1789 qui concernent les ports rattachés au bureau des Fermes de Marennes ont bien l'attribut ferme_bureau à 'Marennes'\n",
    "    pointcall_action = ['Out', 'In-Out', 'In-out'] # peut être encore des soucis de casse dans l'API \n",
    ")\n",
    "\n",
    "print(\"nombre de pointcalls Out ou In-Out (départs et étapes) trouvés pour desnavires du port de La Rochelle:\", len(pointcalls_departures_la_rochelle_homeport))"
   ]
  },
  {
   "cell_type": "code",
   "execution_count": 15,
   "metadata": {},
   "outputs": [
    {
     "name": "stdout",
     "output_type": "stream",
     "text": [
      "00154072\n",
      "00149640\n",
      "00154055\n",
      "00149450\n",
      "00149634\n",
      "00154054\n",
      "00154060\n",
      "00154050\n",
      "00154052\n",
      "00154059\n",
      "00154070\n",
      "00154086\n",
      "00154082\n",
      "Nombre de source_doc_id trouvés :  347\n"
     ]
    }
   ],
   "source": [
    "# collecte de leurs source_doc_id\n",
    "pointcalls_departures_source_doc_ids = set()\n",
    "\n",
    "for p in pointcalls_departures_la_rochelle_homeport:\n",
    "    pointcalls_departures_source_doc_ids.add(p['source_doc_id'])\n",
    "    \n",
    "print(\"Nombre de source_doc_id trouvés : \", len(pointcalls_departures_source_doc_ids))"
   ]
  },
  {
   "cell_type": "code",
   "execution_count": 10,
   "metadata": {},
   "outputs": [
    {
     "name": "stdout",
     "output_type": "stream",
     "text": [
      "Nombre de pointcalls In trouvés entre 1787 et 1788 : 35750\n"
     ]
    }
   ],
   "source": [
    "# retrouver les destinations : 1ere étape de collecte des pointcalls In\n",
    "pointcalls_in_la_rochelle_homeport = portic_client.get_pointcalls(\n",
    "    start_year = 1787,\n",
    "    end_year = 1788, # on considère que le voyage ne dure pas plus d'un an\n",
    "    pointcall_action = ['In', 'in'] # peut être encore des soucis de casse dans l'API \n",
    ")\n",
    "\n",
    "print(\"Nombre de pointcalls In trouvés entre 1787 et 1788 :\", len(pointcalls_in_la_rochelle_homeport))"
   ]
  },
  {
   "cell_type": "code",
   "execution_count": 12,
   "metadata": {},
   "outputs": [
    {
     "name": "stdout",
     "output_type": "stream",
     "text": [
      "Nombre de destinations pertinentes trouvées :  344\n"
     ]
    }
   ],
   "source": [
    "# retrouver les destinations : 2 etape de filtrage des pointcalls In considérés comme destination des Out sortant de Marennes avec du sel (même pkid)\n",
    "pointcalls_destinations_la_rochelle_homeport = []\n",
    "\n",
    "for p in pointcalls_in_la_rochelle_homeport:\n",
    "    if (str(p['source_doc_id']) in pointcalls_departures_source_doc_ids):\n",
    "        pointcalls_destinations_la_rochelle_homeport.append(p)\n",
    "\n",
    "print(\"Nombre de destinations pertinentes trouvées : \", len(pointcalls_destinations_la_rochelle_homeport))"
   ]
  },
  {
   "cell_type": "code",
   "execution_count": 13,
   "metadata": {},
   "outputs": [],
   "source": [
    "import pandas as pds\n",
    "\n",
    "# Load an empty map\n",
    "from keplergl import KeplerGl\n",
    "\n",
    "kepler_base_conf = {\n",
    "    'version': 'v1',\n",
    "    'config': {\n",
    "        # centering the map on the region\n",
    "        'mapState': {\n",
    "            'latitude': 45.6876849,\n",
    "            'longitude': -1.15,\n",
    "            'zoom': 5.2\n",
    "        }\n",
    "    }\n",
    "}"
   ]
  },
  {
   "cell_type": "code",
   "execution_count": 14,
   "metadata": {},
   "outputs": [
    {
     "ename": "NameError",
     "evalue": "name 'final_pointcalls_in' is not defined",
     "output_type": "error",
     "traceback": [
      "\u001b[0;31m---------------------------------------------------------------------------\u001b[0m",
      "\u001b[0;31mNameError\u001b[0m                                 Traceback (most recent call last)",
      "\u001b[0;32m<ipython-input-14-370d421ee99c>\u001b[0m in \u001b[0;36m<module>\u001b[0;34m\u001b[0m\n\u001b[1;32m      4\u001b[0m \u001b[0mports_dest_ext_flag\u001b[0m \u001b[0;34m=\u001b[0m \u001b[0;34m{\u001b[0m\u001b[0;34m}\u001b[0m\u001b[0;34m\u001b[0m\u001b[0;34m\u001b[0m\u001b[0m\n\u001b[1;32m      5\u001b[0m \u001b[0;34m\u001b[0m\u001b[0m\n\u001b[0;32m----> 6\u001b[0;31m \u001b[0;32mfor\u001b[0m \u001b[0mp\u001b[0m \u001b[0;32min\u001b[0m \u001b[0mfinal_pointcalls_in\u001b[0m\u001b[0;34m:\u001b[0m\u001b[0;34m\u001b[0m\u001b[0;34m\u001b[0m\u001b[0m\n\u001b[0m\u001b[1;32m      7\u001b[0m     \u001b[0mport\u001b[0m \u001b[0;34m=\u001b[0m \u001b[0mp\u001b[0m\u001b[0;34m[\u001b[0m\u001b[0;34m'pointcall'\u001b[0m\u001b[0;34m]\u001b[0m\u001b[0;34m\u001b[0m\u001b[0;34m\u001b[0m\u001b[0m\n\u001b[1;32m      8\u001b[0m     \u001b[0mfrench_flag\u001b[0m \u001b[0;34m=\u001b[0m \u001b[0mp\u001b[0m\u001b[0;34m[\u001b[0m\u001b[0;34m'ship_flag_standardized_fr'\u001b[0m\u001b[0;34m]\u001b[0m \u001b[0;32min\u001b[0m \u001b[0;34m[\u001b[0m\u001b[0;34m'français'\u001b[0m\u001b[0;34m]\u001b[0m\u001b[0;34m\u001b[0m\u001b[0;34m\u001b[0m\u001b[0m\n",
      "\u001b[0;31mNameError\u001b[0m: name 'final_pointcalls_in' is not defined"
     ]
    }
   ],
   "source": [
    "flows_la_rochelle_homeport_1787 = {}\n",
    "## but de reconstruire dicts qui mettent en relation les trajets qui ont le même source doc id mais je ne sais comment gérer les etapes\n",
    "{\n",
    "    'source_doc_id':\n",
    "    { 'lat_dep':\n",
    "      'lon_dep':\n",
    "      'lat-step': # après vérification on a au max 1 escale dans les données qu'on utilise\n",
    "      'lon_step': \n",
    "      'lat_dest':\n",
    "      'lon_dest':\n",
    "      'tonnage':\n",
    "    }\n",
    "}\n",
    "\n",
    "for p in pointcalls_departures_la_rochelle_homeport:\n",
    "    port = p['pointcall']\n",
    "    # french_flag = p['ship_flag_standardized_fr'] in ['français'] \n",
    "    tonnage = int(p['tonnage']) if p['tonnage'] is not None else 0\n",
    "    \n",
    "    if p['source_doc_id'] not in flows_la_rochelle_homeport_1787:\n",
    "        lat = float(p['latitude']) if p['latitude'] is not None else None\n",
    "        lon = float(p['longitude']) if p['longitude'] is not None else None\n",
    "        if p['pointcall_action']=='Out':\n",
    "        flows_la_rochelle_homeport_1787[p['source_doc_id']] = {\n",
    "                'lat_dep':lat,\n",
    "                'lon_dep':lon,\n",
    "                'latitude_dest': lat,\n",
    "                'longitude_dest': lon,\n",
    "                'sous_etat': p['substate_1789_fr'],\n",
    "                'etat': p['state_1789_fr'],\n",
    "                'tonnage':tonnage,\n",
    "            }\n",
    "        else:\n",
    "            ports_dest_french_flag[port]['nb_pointcalls'] += 1\n",
    "            ports_dest_french_flag[port]['tonnages'] += tonnage\n",
    "    else:\n",
    "        if port not in ports_dest_ext_flag:\n",
    "            lat = float(p['latitude']) if p['latitude'] is not None else None\n",
    "            lon = float(p['longitude']) if p['longitude'] is not None else None\n",
    "            ports_dest_ext_flag[port] = {\n",
    "                'latitude_dep':45.81666,\n",
    "                'longitude_dep':-1.116667, \n",
    "                'nb_pointcalls': 1,\n",
    "                'latitude_dest': lat,\n",
    "                'longitude_dest': lon,\n",
    "                'sous_etat': p['substate_1789_fr'],\n",
    "                'etat': p['state_1789_fr'],\n",
    "                'tonnages':tonnage,\n",
    "            }\n",
    "        else:\n",
    "            ports_dest_ext_flag[port]['nb_pointcalls'] += 1\n",
    "            ports_dest_ext_flag[port]['tonnages'] += tonnage\n",
    "            \n",
    "ports_dest_french_flag = [{'port': port, **vals} for port, vals in ports_dest_french_flag.items()]\n",
    "ports_dest_ext_flag = [{'port': port, **vals} for port, vals in ports_dest_ext_flag.items()]\n",
    "\n",
    "# print(\"french flags : \", ports_dest_french_flag[0:10])\n",
    "# print(\"\\n\\next flags : \", ports_dest_ext_flag[0:20])\n",
    "\n",
    "with open('assets/results_french.json', 'w') as fp1:\n",
    "    json.dump(ports_dest_french_flag, fp1)\n",
    "with open('assets/results_ext.json', 'w') as fp2:\n",
    "    json.dump(ports_dest_ext_flag, fp2)"
   ]
  },
  {
   "cell_type": "code",
   "execution_count": null,
   "metadata": {},
   "outputs": [],
   "source": []
  }
 ],
 "metadata": {
  "kernelspec": {
   "display_name": "Python 3",
   "language": "python",
   "name": "python3"
  },
  "language_info": {
   "codemirror_mode": {
    "name": "ipython",
    "version": 3
   },
   "file_extension": ".py",
   "mimetype": "text/x-python",
   "name": "python",
   "nbconvert_exporter": "python",
   "pygments_lexer": "ipython3",
   "version": "3.8.5"
  }
 },
 "nbformat": 4,
 "nbformat_minor": 4
}
