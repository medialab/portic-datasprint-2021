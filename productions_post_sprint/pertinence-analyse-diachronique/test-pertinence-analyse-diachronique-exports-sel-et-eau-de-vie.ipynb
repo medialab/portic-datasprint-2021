{
 "cells": [
  {
   "cell_type": "markdown",
   "metadata": {},
   "source": [
    "## Test pertinence analyse longitudinale exports sel et eau de vie pour viz principales axes 2.2 et 2.3\n",
    "2 modalités temporelles étudiées : \n",
    "* trend de 1750 à 1789\n",
    "* comparaison entre 1750 et 1789\n",
    "\n",
    "Je veux pouvoir :\n",
    "- pour le sel distinguer celui qui sort du bureau de Marennes / autres bureaux de la DFLR / reste de la France\n",
    "- pour l'eau-de-vie distinguer celle qui sort du bureau de Charente / autres bureaux de la DFLR\n",
    "\n",
    "Données utilisées : Toflit (je voulais tenter avec Navigo aussi au départ mais les données ne sont pas pertinentes pour 1750)\n",
    "* produits regardés : product_revolutionempire = 'Sel' / 'Eaux-de-vie et liqueurs' (en réalité on pourrait affiner en enlevant quelques produits dans cette catégorie, et en ajoutant les produits 'vin et eau-de-vie' et 'vin et eau-de-vie' de la catégorie RE 'Boissons diverses et mélangées')\n",
    "\n",
    "#### resultats : \n",
    "- on n'a que les données par direction pour 89 si j'ai bien compris on ne peut que comparer DFLR / reste France\n",
    "- pas l'impression qu'on ai un pattern marquant sur les evolutions de la part de la region dans le total des exports français sur la période étudiée\n",
    "\n",
    "## Conclusion => abandon de la tentative d'analyse diachronique pour ces produits"
   ]
  },
  {
   "cell_type": "code",
   "execution_count": null,
   "metadata": {},
   "outputs": [],
   "source": [
    "from poitousprint import Toflit, Portic, get_pointcalls_commodity_purposes_as_toflit_product\n",
    "from vega import VegaLite\n",
    "import pandas as pd\n",
    "\n",
    "toflit_client = Toflit()\n",
    "portic_client = Portic()"
   ]
  },
  {
   "cell_type": "code",
   "execution_count": null,
   "metadata": {},
   "outputs": [],
   "source": [
    "flows_marennes_export_salt = toflit_client.get_flows(\n",
    "    customs_office = 'Marennes', # peut être qu'on oublie des flows qui ne sont pas associés à un bureau en particulier, mais font bien partie de la DFLR\n",
    "    start_year = 1750,\n",
    "    end_year = 1789,\n",
    "    export_import = 'Exports',\n",
    "    product_revolutionempire = 'Sel')"
   ]
  },
  {
   "cell_type": "code",
   "execution_count": null,
   "metadata": {},
   "outputs": [],
   "source": [
    "flows_dflr_export_salt = toflit_client.get_flows(\n",
    "    customs_region = 'La Rochelle',\n",
    "    start_year = 1750,\n",
    "    end_year = 1789,\n",
    "    export_import = 'Exports',\n",
    "    product_revolutionempire = 'Sel')"
   ]
  },
  {
   "cell_type": "code",
   "execution_count": null,
   "metadata": {},
   "outputs": [],
   "source": [
    "flows_national_export_salt = toflit_client.get_flows(\n",
    "    start_year = 1750,\n",
    "    end_year = 1789,\n",
    "    export_import = 'Exports',\n",
    "    product_revolutionempire = 'Sel')"
   ]
  },
  {
   "cell_type": "code",
   "execution_count": null,
   "metadata": {},
   "outputs": [],
   "source": [
    "print(\"Nombre d'exports de sel au niveau national entre 1750 et 1789  :\", len(flows_national_export_salt))\n",
    "print(\"Parmi ces exports, \", len(flows_dflr_export_salt),\" sortent de la Direction des Fermes de La Rochelle, et \", len(flows_marennes_export_salt),\" du bureau des Fermes de Marennes (pertinent uniquement en 89 pour ce bureau)\")"
   ]
  },
  {
   "cell_type": "code",
   "execution_count": null,
   "metadata": {},
   "outputs": [],
   "source": [
    "years_list = [y + 1712 for y in range(120)]\n",
    "years = {}\n",
    "nb_no_custom_office_flow_1789 = 0\n",
    "\n",
    "for y in years_list:\n",
    "    years[str(y)] = {\n",
    "        \"year\": y,\n",
    "        \"france_export\":0,\n",
    "        \"dflr_export\": 0,\n",
    "        \"marennes_export\": 0\n",
    "    }\n",
    "\n",
    "\n",
    "for f in flows_national_export_salt: \n",
    "    year = str(f['year'].split('.')[0])\n",
    "    value = float(f['value']) if f['value'] != '' else 0\n",
    "    years[year]['france_export'] += value        \n",
    "    if f['customs_region'] == 'La Rochelle':\n",
    "        years[year]['dflr_export'] += value\n",
    "        if f['customs_office'] == 'Marennes':\n",
    "            years[year]['marennes_export'] += value\n",
    "        elif f['customs_office'] == '' and year == 1789:\n",
    "            nb_no_custom_office_flow_1789 += 1\n",
    "\n",
    "part_by_year = []\n",
    "for year, values in years.items():\n",
    "    part_by_year.append({\n",
    "        \"year\": year,\n",
    "        \"type\": \"tout DFLR\",\n",
    "        \"portion\": values['dflr_export'] / values['france_export'] if  values['france_export'] > 0 else 0\n",
    "    })\n",
    "    part_by_year.append({\n",
    "        \"year\": year,\n",
    "        \"type\": \"marennes\",\n",
    "        \"portion\": values['marennes_export'] / values['dflr_export'] if  values['dflr_export'] > 0 else 0\n",
    "    })\n",
    "    \"\"\"\n",
    "\n",
    "    part_by_year.append({\n",
    "        \"year\": year,\n",
    "        \"type\": \"reste de la France\",\n",
    "        \"portion\": 1 - values['la_rochelle_total'] / values['france_total'] if  values['france_total'] > 0 else 0\n",
    "    })\n",
    "    \"\"\"\n",
    "VegaLite({\n",
    "    \"$schema\": \"https://vega.github.io/schema/vega-lite/v5.json\",\n",
    "    \"title\": \"Évolution globale de la part des échanges de La Rochelle par rapport à l'ensemble de la France\",\n",
    "    \"mark\": {\"type\": \"bar\", \"tooltip\": {\"content\": \"data\"}},\n",
    "    \"encoding\": {\n",
    "        \"x\": {\n",
    "            \"field\": \"year\",\n",
    "            \"type\": \"ordinal\", \n",
    "            \"title\": \"année\"\n",
    "        },\n",
    "        \"y\": {\n",
    "            \"type\": \"quantitative\",\n",
    "            \"field\": \"portion\",\n",
    "            \"title\": \"Part Marennes dans sa direction, et la direction par rapport au total des exports de la France\"\n",
    "        },\n",
    "        \"color\": {\n",
    "            \"type\": \"nominal\",\n",
    "            \"field\": \"type\",\n",
    "            \"title\": \"Type de flux\",\n",
    "            \"scale\": {\n",
    "                \"range\": [\"orange\", \"blue\", \"white\"]\n",
    "            }\n",
    "        }\n",
    "    }\n",
    "}, pd.DataFrame([y for y in part_by_year if int(y['year']) > 1717 and int(y['year']) < 1790]))"
   ]
  },
  {
   "cell_type": "code",
   "execution_count": null,
   "metadata": {},
   "outputs": [],
   "source": [
    "print(\"Le nombre d'exports de sel rattachés à la DFLR, mais pas à un bureau particulier s'élève à \", nb_no_custom_office_flow_1789)"
   ]
  },
  {
   "cell_type": "code",
   "execution_count": null,
   "metadata": {},
   "outputs": [],
   "source": [
    "flows_national_export_edv = toflit_client.get_flows(\n",
    "    start_year = 1750,\n",
    "    end_year = 1789,\n",
    "    export_import = 'Exports',\n",
    "    product_revolutionempire = 'Eaux-de-vie et liqueurs')"
   ]
  },
  {
   "cell_type": "code",
   "execution_count": null,
   "metadata": {},
   "outputs": [],
   "source": [
    "print(\"Nombre d'exports d'eau de vie au niveau national entre 1750 et 1789  :\", len(flows_national_export_edv))"
   ]
  },
  {
   "cell_type": "code",
   "execution_count": null,
   "metadata": {},
   "outputs": [],
   "source": [
    "years_list = [y + 1712 for y in range(120)]\n",
    "years = {}\n",
    "nb_no_custom_office_flow_1789 = 0\n",
    "customs_offices = set()\n",
    "\n",
    "for y in years_list:\n",
    "    years[str(y)] = {\n",
    "        \"year\": y,\n",
    "        \"france_export\":0,\n",
    "        \"dflr_export\": 0,\n",
    "        \"charente_export\": 0\n",
    "    }\n",
    "\n",
    "\n",
    "for f in flows_national_export_edv: \n",
    "    year = str(f['year'].split('.')[0])\n",
    "    value = float(f['value']) if f['value'] != '' else 0\n",
    "    years[year]['france_export'] += value  \n",
    "    if f['customs_region'] == 'La Rochelle':\n",
    "        years[year]['dflr_export'] += value\n",
    "        customs_offices.add(f['customs_office'])\n",
    "        if f['customs_office'] == 'Charente':\n",
    "            years[year]['charente_export'] += value\n",
    "        elif f['customs_office'] == '' and year == 1789:\n",
    "            nb_no_custom_office_flow_1789 += 1\n",
    "\n",
    "part_by_year = []\n",
    "for year, values in years.items():\n",
    "    part_by_year.append({\n",
    "        \"year\": year,\n",
    "        \"type\": \"tout DFLR\",\n",
    "        \"portion\": values['dflr_export'] / values['france_export'] if  values['france_export'] > 0 else 0\n",
    "    })\n",
    "    part_by_year.append({\n",
    "        \"year\":year,\n",
    "        \"type\": \"charente\",\n",
    "        \"portion\": values['charente_export'] / values['dflr_export'] if  values['dflr_export'] > 0 else 0\n",
    "    })\n",
    "    \"\"\"\n",
    "\n",
    "    part_by_year.append({\n",
    "        \"year\": year,\n",
    "        \"type\": \"reste de la France\",\n",
    "        \"portion\": 1 - values['la_rochelle_total'] / values['france_total'] if  values['france_total'] > 0 else 0\n",
    "    })\n",
    "    \"\"\"\n",
    "VegaLite({\n",
    "    \"$schema\": \"https://vega.github.io/schema/vega-lite/v5.json\",\n",
    "    \"title\": \"Évolution globale de la part des échanges de La Rochelle par rapport à l'ensemble de la France\",\n",
    "    \"mark\": {\"type\": \"bar\", \"tooltip\": {\"content\": \"data\"}},\n",
    "    \"encoding\": {\n",
    "        \"x\": {\n",
    "            \"field\": \"year\",\n",
    "            \"type\": \"ordinal\", \n",
    "            \"title\": \"année\"\n",
    "        },\n",
    "        \"y\": {\n",
    "            \"type\": \"quantitative\",\n",
    "            \"field\": \"portion\",\n",
    "            \"title\": \"Part Charente dans sa direction, et la direction par rapport au total des exports de la France\"\n",
    "        },\n",
    "        \"color\": {\n",
    "            \"type\": \"nominal\",\n",
    "            \"field\": \"type\",\n",
    "            \"title\": \"Type de flux\",\n",
    "            \"scale\": {\n",
    "                \"range\": [\"orange\", \"blue\", \"white\"]\n",
    "            }\n",
    "        }\n",
    "    }\n",
    "}, pd.DataFrame([y for y in part_by_year if int(y['year']) > 1717 and int(y['year']) < 1790]))\n"
   ]
  },
  {
   "cell_type": "code",
   "execution_count": null,
   "metadata": {},
   "outputs": [],
   "source": [
    "print(\"Le nombre d'exports de d'eau de vie rattachés à la DFLR, mais pas à un bureau particulier s'élève à \", nb_no_custom_office_flow_1789)"
   ]
  },
  {
   "cell_type": "markdown",
   "metadata": {},
   "source": [
    "### Archive de mes tentatives avec Navigo (on a beaucoup plus de données pour 1789, mais rien pour 1750)"
   ]
  },
  {
   "cell_type": "code",
   "execution_count": null,
   "metadata": {},
   "outputs": [],
   "source": [
    "pointcalls_poitou_1789_out = portic_client.get_pointcalls(\n",
    "    source_subset = 'Poitou_1789',\n",
    "    ## besoin de filtrer sur les amirautés pertinentes (celles conservées dans source subset 1789)\n",
    "    start_year = '1750',\n",
    "    end_year = '1789',\n",
    "    pointcall_action = 'Out'\n",
    ")\n",
    "\n",
    "print(\"nombre de pointcalls out de la direction des fermes de la rochelle en 1789 :\", len(pointcalls_poitou_1789_out))"
   ]
  },
  {
   "cell_type": "code",
   "execution_count": null,
   "metadata": {},
   "outputs": [],
   "source": [
    "pointcalls_poitou_1789_out_with_revolution_empire_products = get_pointcalls_commodity_purposes_as_toflit_product(pointcalls_poitou_1789_out, product_classification=\"product_revolutionempire\")\n",
    "# print(pointcalls_poitou_1789_out_with_revolution_empire_products[0:3])"
   ]
  },
  {
   "cell_type": "code",
   "execution_count": null,
   "metadata": {},
   "outputs": [],
   "source": [
    "# filtrer les pointcalls pour lesquels la cargaison contient du sel\n",
    "pointcalls_poitou_1789_out_with_salt = []\n",
    "number_of_pointcalls_from_marennes = 0\n",
    "\n",
    "for pointcall in pointcalls_poitou_1789_out_with_revolution_empire_products:\n",
    "    for commodity_purpose in pointcall['commodity_purposes']:\n",
    "        if (commodity_purpose['commodity_as_toflit'] == 'Sel'):\n",
    "            pointcalls_poitou_1789_out_with_salt.append(pointcall)\n",
    "            if pointcall['ferme_bureau'] == 'Marennes':\n",
    "                number_of_pointcalls_from_marennes += 1\n",
    "        \n",
    "print(\"Nombre de pointcalls pertinents trouvés ('Out' du Poitou en 1789 et transportant du sel) :\", len(pointcalls_poitou_1789_out_with_salt))\n",
    "print(\"Parmi ces pointcalls, \", number_of_pointcalls_from_marennes,\" sortent du bureau des Fermes de Marennes\")"
   ]
  }
 ],
 "metadata": {
  "kernelspec": {
   "display_name": "Python 3",
   "language": "python",
   "name": "python3"
  },
  "language_info": {
   "codemirror_mode": {
    "name": "ipython",
    "version": 3
   },
   "file_extension": ".py",
   "mimetype": "text/x-python",
   "name": "python",
   "nbconvert_exporter": "python",
   "pygments_lexer": "ipython3",
   "version": "3.8.5"
  }
 },
 "nbformat": 4,
 "nbformat_minor": 4
}
