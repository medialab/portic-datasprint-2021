{
 "cells": [
  {
   "cell_type": "markdown",
   "metadata": {},
   "source": [
    "# Analyse des données slavevoyages\n",
    "\n",
    "URL de la requête : https://www.slavevoyages.org/voyage/database\n",
    "        \n",
    "Filtres : \n",
    "- filtre \"Place where voyage began\" : La Rochelle, Rochefort, Bordeaux, Nantes\n",
    "- Export en csv\n",
    "\n",
    "J'ai ensuite exporté un csv avec les colonnes suivantes : Voyage itinerary imputed port where began (ptdepimp) place,\"Voyage dates that began (depb,a,c)\"\n",
    "\n",
    "Je l'ai simplifié au niveau des colonnes.\n",
    "\n",
    "Puis chargement du fichier :"
   ]
  },
  {
   "cell_type": "code",
   "execution_count": null,
   "metadata": {},
   "outputs": [],
   "source": [
    "import csv\n",
    "import re\n",
    "\n",
    "\n",
    "voyages = []\n",
    "with open('slavevoyages_exports_filtered.csv', 'r', newline='') as csvfile:\n",
    "    reader = csv.DictReader(csvfile)\n",
    "    for row in reader:\n",
    "        year = re.search(\"([\\d]{4})\", row[\"date_departure\"] if \"date_departure\" in row else '')\n",
    "        year = year.group(0) if year else None\n",
    "        row[\"port\"] = \"La Rochelle et Rochefort\" if (row[\"port\"] == 'La Rochelle' or row['port'] == 'Rochefort') else row['port']\n",
    "        voyages.append({**row, \"year\": year, \"has_year\": \"année renseignée\" if year is not None else \"pas d'année\"})"
   ]
  },
  {
   "cell_type": "markdown",
   "metadata": {},
   "source": [
    "# 1. Récupération et vérification des données de slavevoyages"
   ]
  },
  {
   "cell_type": "code",
   "execution_count": null,
   "metadata": {},
   "outputs": [],
   "source": [
    "from vega import VegaLite\n",
    "import pandas as pds\n",
    "\n",
    "VegaLite({\n",
    "    \"title\": \"Complétude\",\n",
    "    \"mark\": \"bar\",\n",
    "    \"encoding\": {\n",
    "        \"column\": {\n",
    "            \"type\": \"nominal\", \n",
    "            \"field\": \"port\",\n",
    "            \"title\": \"port\"\n",
    "        },\n",
    "        \"y\": {\n",
    "            \"field\": \"has_year\",\n",
    "            \"type\": \"nominal\",\n",
    "            \"title\": \"année de départ renseignée\"\n",
    "        },\n",
    "        \"x\": {\n",
    "            \"field\": \"has_year\",\n",
    "            \"type\": \"quantitative\",\n",
    "            \"aggregate\": \"count\",\n",
    "            \"title\": \"nombre de voyages\"\n",
    "        },\n",
    "    }\n",
    "}, pds.DataFrame(voyages))"
   ]
  },
  {
   "cell_type": "code",
   "execution_count": null,
   "metadata": {
    "scrolled": true
   },
   "outputs": [],
   "source": [
    "VegaLite({\n",
    "    \"title\": \"Évolution des départs de navires négriers\",\n",
    "    \"mark\": \"line\",\n",
    "    \"width\": 800,\n",
    "    \"encoding\": {\n",
    "        \"row\": {\n",
    "            \"type\": \"nominal\", \n",
    "            \"field\": \"port\",\n",
    "            \"title\": \"port\"\n",
    "        },\n",
    "        \"y\": {\n",
    "            \"field\": \"year\",\n",
    "            \"type\": \"quantitative\",\n",
    "            \"aggregate\": \"count\",\n",
    "            \"title\": \"nombre de voyages\"\n",
    "        },\n",
    "        \"x\": {\n",
    "            \"field\": \"year\",\n",
    "            \"type\": \"temporal\"\n",
    "        },\n",
    "    }\n",
    "}, pds.DataFrame([v for v in voyages if v[\"year\"] is not None]))"
   ]
  },
  {
   "cell_type": "markdown",
   "metadata": {},
   "source": [
    "# 2. Évolution de la part des navires négriers à partir des données navigo"
   ]
  },
  {
   "cell_type": "markdown",
   "metadata": {},
   "source": [
    "On récupère tous les pointcalls Out pour les ports de La Rochelle, Nantes, Bordeaux, de 1700 à 1800"
   ]
  },
  {
   "cell_type": "code",
   "execution_count": null,
   "metadata": {},
   "outputs": [],
   "source": [
    "from poitousprint import Portic\n",
    "import re\n",
    "\n",
    "client = Portic()\n",
    "\n",
    "pointcalls = client.get_pointcalls(\n",
    "    start_year=1700, \n",
    "    end_year=1800,\n",
    "    homeport_toponyme_fr=[\"La Rochelle\", \"Nantes\", \"Bordeaux\", \"Rochefort\"],\n",
    "    # pointcall_action='Out',\n",
    "    params=['homeport_toponyme_fr', 'year', 'pointcall_action', 'outdate_fixed', 'pointcall_out_date']\n",
    ")"
   ]
  },
  {
   "cell_type": "code",
   "execution_count": null,
   "metadata": {},
   "outputs": [],
   "source": [
    "def parse_year(p):\n",
    "    # 1787=03=23\n",
    "    year = re.search(\"([\\d]{4})\", p['pointcall_out_date'])[0] if p['pointcall_out_date'] is not None else None\n",
    "    port = p[\"homeport_toponyme_fr\"]\n",
    "    if port == \"La Rochelle\" or port == \"Rochefort\":\n",
    "        port = \"La Rochelle et Rochefort\"\n",
    "    return {**p.copy(), \"year\": int(year), \"homeport_toponyme_fr\": port}\n",
    "\n",
    "pointcalls = [parse_year(p) for p in pointcalls if p['pointcall_action'] == 'Out']\n",
    "\n",
    "print(str(len(pointcalls)) + ' pointcalls trouvés')"
   ]
  },
  {
   "cell_type": "code",
   "execution_count": null,
   "metadata": {},
   "outputs": [],
   "source": [
    "VegaLite({\n",
    "    \"title\": \"Distribution des pointcalls OUT pour les ports de Nantes, Bordeaux, et La Rochelle\",\n",
    "    \"mark\": \"bar\",\n",
    "    \"encoding\": {\n",
    "        \"y\": {\n",
    "            \"field\": \"year\",\n",
    "            \"type\": \"quantitative\",\n",
    "            \"aggregate\": \"count\",\n",
    "            \"title\": \"nombre de pointcalls\"\n",
    "        },\n",
    "        \"x\": {\n",
    "            \"field\": \"year\",\n",
    "            \"type\": \"ordinal\"\n",
    "        },\n",
    "        \"color\": {\n",
    "            \"field\": \"homeport_toponyme_fr\",\n",
    "            \"type\": \"nominal\"\n",
    "        },\n",
    "    }\n",
    "}, pds.DataFrame(pointcalls))"
   ]
  },
  {
   "cell_type": "code",
   "execution_count": null,
   "metadata": {},
   "outputs": [],
   "source": [
    "VegaLite({\n",
    "    \"title\": \"Distribution des pointcalls OUT pour les ports de Nantes, Bordeaux, et La Rochelle\",\n",
    "    \"mark\": \"bar\",\n",
    "    \"encoding\": {\n",
    "        \"y\": {\n",
    "            \"field\": \"year\",\n",
    "            \"type\": \"quantitative\",\n",
    "            \"aggregate\": \"count\",\n",
    "            \"title\": \"nombre de pointcalls\",\n",
    "            \"stack\": \"normalize\"\n",
    "        },\n",
    "        \"x\": {\n",
    "            \"field\": \"year\",\n",
    "            \"type\": \"ordinal\"\n",
    "        },\n",
    "        \"color\": {\n",
    "            \"field\": \"homeport_toponyme_fr\",\n",
    "            \"type\": \"nominal\"\n",
    "        },\n",
    "    }\n",
    "}, pds.DataFrame(pointcalls))"
   ]
  },
  {
   "cell_type": "code",
   "execution_count": null,
   "metadata": {},
   "outputs": [],
   "source": [
    "# Building slaves data\n",
    "slaves_dict = {}\n",
    "for v in [v for v in voyages if v[\"year\"] is not None]:\n",
    "    if v[\"year\"] not in slaves_dict:\n",
    "        slaves_dict[v[\"year\"]] = {}\n",
    "    if v[\"port\"] not in slaves_dict[v[\"year\"]]:\n",
    "        slaves_dict[v[\"year\"]][v[\"port\"]] = {\n",
    "            \"slave_travels\": 1\n",
    "        }\n",
    "    else :\n",
    "        slaves_dict[v[\"year\"]][v[\"port\"]][\"slave_travels\"] += 1\n",
    "\n",
    "for p in pointcalls:\n",
    "    \"\"\"\n",
    "    if p[\"year\"] not in slaves_dict:\n",
    "        slaves_dict[p[\"year\"]] = {}\n",
    "    if p[\"homeport_toponyme_fr\"] not in slaves_dict[p[\"year\"]]:\n",
    "        slaves_dict[p[\"year\"]][p[\"homeport_toponyme_fr\"]] = {\n",
    "            \"slave_travels\": 0\n",
    "        }\n",
    "    \"\"\"\n",
    "    if \"nb_pointcalls_out\" not in slaves_dict[str(p[\"year\"])][p[\"homeport_toponyme_fr\"]]:\n",
    "        slaves_dict[str(p[\"year\"])][p[\"homeport_toponyme_fr\"]][\"nb_pointcalls_out\"] = 1\n",
    "    else:\n",
    "        slaves_dict[str(p[\"year\"])][p[\"homeport_toponyme_fr\"]][\"nb_pointcalls_out\"] += 1\n",
    "    slaves_dict[str(p[\"year\"])][p[\"homeport_toponyme_fr\"]][\"slave_travels_ratio\"] = slaves_dict[str(p[\"year\"])][p[\"homeport_toponyme_fr\"]][\"slave_travels\"] / slaves_dict[str(p[\"year\"])][p[\"homeport_toponyme_fr\"]][\"nb_pointcalls_out\"]\n",
    "\n",
    "by_year = [{\"year\": year, \"ports\": ports} for (year, ports) in slaves_dict.items()]\n",
    "flat_travels = []\n",
    "for year in by_year:\n",
    "    ports = [{\"year\": year[\"year\"], \"port\": port, **data} for (port, data) in year[\"ports\"].items()]\n",
    "    flat_travels += ports\n",
    "    \n",
    "flat_travels = [t for t in flat_travels if \"nb_pointcalls_out\" in t]"
   ]
  },
  {
   "cell_type": "code",
   "execution_count": null,
   "metadata": {},
   "outputs": [],
   "source": [
    "VegaLite({\n",
    "    \"title\": \"Proportion des expéditions négrières parmi les pointcalls OUT des trois ports\",\n",
    "    \"mark\": \"bar\",\n",
    "    \"encoding\": {\n",
    "        \"y\": {\n",
    "            \"field\": \"slave_travels_ratio\",\n",
    "            \"type\": \"quantitative\",\n",
    "            \"title\": \"proportion de voyages négriers\",\n",
    "            \"scale\": {\n",
    "                \"domain\": [0, 1]\n",
    "            }\n",
    "        },\n",
    "        \"x\": {\n",
    "            \"field\": \"port\",\n",
    "            \"type\": \"nominal\"\n",
    "        },\n",
    "        \"color\": {\n",
    "            \"field\": \"port\",\n",
    "            \"type\": \"nominal\"\n",
    "        },\n",
    "        \"column\": {\n",
    "            \"field\": \"year\",\n",
    "            \"type\": \"nominal\"\n",
    "        },\n",
    "    }\n",
    "}, pds.DataFrame(flat_travels))\n"
   ]
  },
  {
   "cell_type": "markdown",
   "metadata": {},
   "source": [
    "Conclusion : pas très concluant ?"
   ]
  }
 ],
 "metadata": {
  "kernelspec": {
   "display_name": "Python 3",
   "language": "python",
   "name": "python3"
  },
  "language_info": {
   "codemirror_mode": {
    "name": "ipython",
    "version": 3
   },
   "file_extension": ".py",
   "mimetype": "text/x-python",
   "name": "python",
   "nbconvert_exporter": "python",
   "pygments_lexer": "ipython3",
   "version": "3.8.5"
  }
 },
 "nbformat": 4,
 "nbformat_minor": 4
}
