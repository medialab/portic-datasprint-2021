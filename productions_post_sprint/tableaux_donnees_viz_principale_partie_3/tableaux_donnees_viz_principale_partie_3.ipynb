{
 "cells": [
  {
   "cell_type": "markdown",
   "metadata": {},
   "source": [
    "## Demande Loic + besoins Maxime 01/06 : fournir tableau de données pour visualisation principale n3 pour aider à l'écriture / à la formalisation de maquettes\n",
    "\n",
    "## Cécile : fait, pas de soucis particulier\n",
    "#### Tableau 1 (données Navigo) : \n",
    "pour chaque port DFLR en 1789 :\n",
    "- nombre de bateaux sortis du port \n",
    "- tonnage moyen de ces bateaux\n",
    "\n",
    "## Robin : fait\n",
    "#### Tableau 2.1 : (données Navigo, je ne sais pas encore comment ça se calcule)\n",
    "pour chaque port DFLR en 1787 (pourrait se calculer correctement en 89 mais problème de cohérence des données avec tableau 2.2) : \n",
    "- indice de centralité dans le réseau des flux de la région\n",
    "\n",
    "#### Tableau 2.2 : (données Navigo, je ne sais pas encore comment ça se calcule)\n",
    "pour ports de La Rochelle, Bordeaux, Le Havre, Nantes en 1787 : \n",
    "- indice de centralité dans le réseau des flux de la France (et tester monde aussi)\n",
    "\n",
    "#### ==> fournir à Maxime le réseau DFLR au format SVG (voir si pas déjà fait datasprint : export SVG avec Nansi)\n",
    "#### fournir également fond de carte avec positionnement des ports : fournir Khartis déjà fait en SVG (dans dossier Drive Vizusprint)\n",
    "\n",
    "\n",
    "## Cécile : fait\n",
    "#### Tableau 3..1 (données Navigo) : \n",
    "en 1787, pour chaque port DFLR + ports de Bordeaux, Le Havre, Nantes : \n",
    "- tonnage cumulé à destination de l’extérieur de la région\n",
    "- tonnage cumulé à destination de l’hinterland de la région\n",
    "\n",
    "#### Tableau 3.2. (données Toflit) : \n",
    "pour touq bureaux DFLR + Bordeaux, Le Havre, Nantes en 1789 : \n",
    "- valeur cumulée exports produits d'origine extérieure à la région\n",
    "- valeur cumulée exports produits originaires de l’hinterland (PASA)"
   ]
  },
  {
   "cell_type": "code",
   "execution_count": null,
   "metadata": {},
   "outputs": [],
   "source": [
    "# imports\n",
    "import json \n",
    "import csv\n",
    "from poitousprint import Portic, Toflit\n",
    "from vega import VegaLite\n",
    "import pandas as pd\n",
    "\n",
    "portic_client = Portic()\n",
    "toflit_client = Toflit()"
   ]
  },
  {
   "cell_type": "markdown",
   "metadata": {},
   "source": [
    "#### Tableau 1 (données Navigo) : \n",
    "pour chaque port DFLR en 1789 :\n",
    "- nombre de bateaux passés par le port \n",
    "- tonnage moyen de ces bateaux"
   ]
  },
  {
   "cell_type": "code",
   "execution_count": null,
   "metadata": {},
   "outputs": [],
   "source": [
    "# collecte des pointcalls sortis des ports de la DFLR en 1789 \n",
    "pointcalls_ports_dflr_1789 = portic_client.get_pointcalls(\n",
    "    year = 1789, \n",
    "    ferme_direction = 'La Rochelle', \n",
    "    pointcall_action = 'Out' \n",
    ")\n",
    "\n",
    "print(\"nombre de pointcalls sortis des ports de la DFLR en 1789  :\", len(pointcalls_ports_dflr_1789))"
   ]
  },
  {
   "cell_type": "code",
   "execution_count": null,
   "metadata": {},
   "outputs": [],
   "source": [
    "ports_set = set() \n",
    "for p in pointcalls_ports_dflr_1789:\n",
    "    ports_set.add(p['pointcall'])\n",
    "print(\"nb de ports différents trouvés dans la DFLR : \", len(ports_set), \" : \", ports_set)"
   ]
  },
  {
   "cell_type": "code",
   "execution_count": null,
   "metadata": {},
   "outputs": [],
   "source": [
    "ports = {}\n",
    "\n",
    "for p in ports_set:\n",
    "    ports[p] = {\n",
    "        \"port\": p,\n",
    "        \"nb_pointcalls_out\":0,\n",
    "        \"cumulated_tonnage\": 0,\n",
    "        \"mean_tonnage\":0\n",
    "    }\n",
    "\n",
    "\n",
    "for p in pointcalls_ports_dflr_1789: \n",
    "    port = p['pointcall']\n",
    "    if p['tonnage'] is not None:\n",
    "        tonnage = int(p['tonnage'])\n",
    "    else:\n",
    "        tonnage = 0\n",
    "    ports[port]['cumulated_tonnage'] += tonnage  \n",
    "    ports[port]['nb_pointcalls_out'] += 1  \n",
    "\n",
    "for port, values in ports.items():\n",
    "    values['mean_tonnage'] = values['cumulated_tonnage'] / values['nb_pointcalls_out']\n",
    "\n",
    "    \n",
    "part_by_port = []\n",
    "for port, values in ports.items():\n",
    "    part_by_port.append({\n",
    "        \"port\": port,\n",
    "        \"type\": \"nombre de navires sortis du port en 1789\",\n",
    "        \"portion_nb_boats\": values['nb_pointcalls_out'] \n",
    "    })\n",
    "    part_by_port.append({\n",
    "        \"port\": port,\n",
    "        \"type\": \"tonnage moyen des navires sortis du port en 1789\",\n",
    "        \"portion_tonnage\": values['mean_tonnage']\n",
    "    })\n",
    "  \n",
    "VegaLite({\n",
    "    \"$schema\": \"https://vega.github.io/schema/vega-lite/v5.json\",\n",
    "    \"title\": \"Distribution du nombre de navires sortis des ports de la DFLR en 1789\",\n",
    "    \"mark\": {\"type\": \"bar\", \"tooltip\": {\"content\": \"data\"}},\n",
    "    \"encoding\": {\n",
    "        \"x\": {\n",
    "            \"field\": \"port\",\n",
    "            \"type\": \"ordinal\", \n",
    "            \"title\": \"port\"\n",
    "        },\n",
    "        \"y\": {\n",
    "            \"type\": \"quantitative\",\n",
    "            \"field\": \"portion_nb_boats\",\n",
    "            \"title\": \"flux sortants\"\n",
    "        },\n",
    "        \"color\": {\n",
    "            \"type\": \"nominal\",\n",
    "            \"field\": \"type\",\n",
    "            \"title\": \"Type de quantification\",\n",
    "            \"scale\": {\n",
    "                 \"range\": [\"green\"]\n",
    "            }\n",
    "        }\n",
    "    }\n",
    "}, pd.DataFrame([p for p in part_by_port]))"
   ]
  },
  {
   "cell_type": "code",
   "execution_count": null,
   "metadata": {},
   "outputs": [],
   "source": [
    "VegaLite({\n",
    "    \"$schema\": \"https://vega.github.io/schema/vega-lite/v5.json\",\n",
    "    \"title\": \"Distribution des tonnages cumulés des ports de la DFLR en 1789\",\n",
    "    \"mark\": {\"type\": \"bar\", \"tooltip\": {\"content\": \"data\"}},\n",
    "    \"encoding\": {\n",
    "        \"x\": {\n",
    "            \"field\": \"port\",\n",
    "            \"type\": \"ordinal\", \n",
    "            \"title\": \"port\"\n",
    "        },\n",
    "        \"y\": {\n",
    "            \"type\": \"quantitative\",\n",
    "            \"field\": \"portion_tonnage\",\n",
    "            \"title\": \"flux sortants\"\n",
    "        },\n",
    "        \"color\": {\n",
    "            \"type\": \"nominal\",\n",
    "            \"field\": \"type\",\n",
    "            \"title\": \"Type de quantification\",\n",
    "            \"scale\": {\n",
    "                 \"range\": [\"blue\"]\n",
    "            }\n",
    "        }\n",
    "    }\n",
    "}, pd.DataFrame([p for p in part_by_port]))"
   ]
  },
  {
   "cell_type": "markdown",
   "metadata": {},
   "source": [
    "### Ecriture des résultats dans un CSV"
   ]
  },
  {
   "cell_type": "code",
   "execution_count": null,
   "metadata": {},
   "outputs": [],
   "source": [
    "with open('csv_outputs/tableau_1.csv', 'w', newline='') as csvfile:\n",
    "        fieldnames = ['port', 'nb_pointcalls_out', 'mean_tonnage','cumulated_tonnage']\n",
    "        writer = csv.DictWriter(csvfile, fieldnames=fieldnames)\n",
    "\n",
    "        writer.writeheader()\n",
    "        for port, values in ports.items(): # port est une key, values est un dictionnaire python\n",
    "            writer.writerow(values)"
   ]
  },
  {
   "cell_type": "markdown",
   "metadata": {},
   "source": [
    "#### Tableau 3 (données Navigo & Toflit) :  v1 naïve\n",
    "pour chaque port DFLR + ports Bordeaux, Le Havre, Nantes en 1789 (vérifier si ça change pas trop avec 87 aec Navigo mais normalement pas de soucis pour 89) : \n",
    "- tonnage cumulé à destination de l’extérieur de la région (Navigo)\n",
    "- tonnage cumulé à destination de l’hinterland de la région (seulement province propre pour LH, B & N) (Navigo)\n",
    "- valeur cumulée exports produits d'origine extérieure à la région (Toflit)\n",
    "- valeur cumulée exports produits originaires de l’hinterland (Toflit)"
   ]
  },
  {
   "cell_type": "markdown",
   "metadata": {},
   "source": [
    "#### Itérations pour trouver les bonnes données navigo"
   ]
  },
  {
   "cell_type": "code",
   "execution_count": null,
   "metadata": {},
   "outputs": [],
   "source": [
    "# collecte des pointcalls sortis des ports de la DFLR en 1789 \n",
    "pointcalls_ports_dflr_1789 = portic_client.get_pointcalls(\n",
    "    year = 1789, \n",
    "    ferme_direction = 'La Rochelle', \n",
    "    pointcall_action = 'Out' \n",
    ")\n",
    "\n",
    "print(\"nombre de pointcalls sortis des ports de la DFLR en 1789  :\", len(pointcalls_ports_dflr_1789))\n",
    "\n",
    "# collecte des pointcalls sortis des ports de Bordeaux, La Rochelle et Le Havre en 1789\n",
    "pointcalls_bordeaux_lehavre_nantes_1789 = portic_client.get_pointcalls(\n",
    "    year = 1789, \n",
    "    pointcall = ['Bordeaux', 'Nantes', 'Le Havre'], \n",
    "    pointcall_action = 'Out' \n",
    ")\n",
    "\n",
    "print(\"nombre de pointcalls sortis des ports de Bordeaux, La Rochelle et Le Havre en 1789  :\", len(pointcalls_bordeaux_lehavre_nantes_1789))"
   ]
  },
  {
   "cell_type": "markdown",
   "metadata": {},
   "source": [
    "### attention on n'a pas les données pour les ports hors région en 89 => on part sur données 87 au moins pour les ports hors région"
   ]
  },
  {
   "cell_type": "code",
   "execution_count": null,
   "metadata": {},
   "outputs": [],
   "source": [
    "# collecte des pointcalls sortis des ports de la DFLR en 1787 \n",
    "pointcalls_ports_dflr_1787 = portic_client.get_pointcalls(\n",
    "    year = 1787, \n",
    "    ferme_direction = 'La Rochelle', \n",
    "    pointcall_action = 'Out' \n",
    ")\n",
    "\n",
    "print(\"nombre de pointcalls sortis des ports de la DFLR en 1787  :\", len(pointcalls_ports_dflr_1787))"
   ]
  },
  {
   "cell_type": "code",
   "execution_count": null,
   "metadata": {},
   "outputs": [],
   "source": [
    "# collecte des pointcalls sortis des ports de Bordeaux, La Rochelle et Le Havre en 1787\n",
    "pointcalls_bordeaux_lehavre_nantes_1787 = portic_client.get_pointcalls(\n",
    "    year = 1787, \n",
    "    pointcall = ['Bordeaux', 'Nantes', 'Le Havre'], \n",
    "    pointcall_action = 'Out' \n",
    ")\n",
    "\n",
    "print(\"nombre de pointcalls sortis des ports de Bordeaux, La Rochelle et Le Havre en 1787  :\", len(pointcalls_bordeaux_lehavre_nantes_1787))"
   ]
  },
  {
   "cell_type": "code",
   "execution_count": null,
   "metadata": {},
   "outputs": [],
   "source": [
    "ports_set = set() \n",
    "for p in pointcalls_ports_dflr_1789+pointcalls_bordeaux_lehavre_nantes_1787:\n",
    "    ports_set.add(p['pointcall'])\n",
    "print(\"nb de ports différents trouvés dans la DFLR + nos 3 ports : \", len(ports_set), \" : \", ports_set)"
   ]
  },
  {
   "cell_type": "markdown",
   "metadata": {},
   "source": [
    "### je pense raisonner avec les flows si on utilise les données de 87 (attnetion on n'a beaucoup moins de données qu'avec les pointcalls il semblerait) (en ayant ajouté les tonnages ça bouge beaucoup déjà, sans params ça ne semble pas fonctionner, ...)"
   ]
  },
  {
   "cell_type": "code",
   "execution_count": null,
   "metadata": {},
   "outputs": [],
   "source": [
    "# imports\n",
    "import json \n",
    "import csv\n",
    "from poitousprint import Portic, Toflit\n",
    "from vega import VegaLite\n",
    "import pandas as pd\n",
    "\n",
    "portic_client = Portic()\n",
    "toflit_client = Toflit()"
   ]
  },
  {
   "cell_type": "code",
   "execution_count": null,
   "metadata": {},
   "outputs": [],
   "source": [
    "flows_from_ports_dflr_1787 = portic_client.get_flows(\n",
    "    year = 1787,\n",
    "    departure_ferme_direction = 'La Rochelle',\n",
    "    params = ['tonnage', 'distance_dep_dest', 'departure', 'departure_ferme_direction', 'departure_province', 'departure_latitude', 'departure_longitude', 'destination', 'destination_ferme_direction', 'destination_province', 'destination_latitude', 'destination_longitude']\n",
    ")\n",
    "print(len(flows_from_ports_dflr_1787))"
   ]
  },
  {
   "cell_type": "code",
   "execution_count": null,
   "metadata": {},
   "outputs": [],
   "source": [
    "flows_from_bordeaux_lehavre_nantes_1787 = portic_client.get_flows(\n",
    "    year = 1787,\n",
    "    departure = ['Bordeaux', 'Nantes', 'Le Havre'],\n",
    "    params = ['tonnage','distance_dep_dest', 'departure', 'departure_ferme_direction', 'departure_province', 'departure_latitude', 'departure_longitude', 'destination', 'destination_ferme_direction', 'destination_province', 'destination_latitude', 'destination_longitude']\n",
    ")\n",
    "print(len(flows_from_bordeaux_lehavre_nantes_1787))"
   ]
  },
  {
   "cell_type": "code",
   "execution_count": null,
   "metadata": {},
   "outputs": [],
   "source": [
    "ports_set = {'Talmont [Talmont Saint Hilaire]','Soubise', 'Champagné-les-Marais', 'Aligre de Marans', 'Bordeaux', 'Ribérou [Saujon]', 'Le Havre', 'Ars en Ré', 'Beauvoir-sur-Mer', 'La Tranche sur Mer', \"Saint Denis [d' Oléron]\", \"Sables d' Olonne\", 'La Tremblade', 'Charente', 'Saint Martin de Ré', 'Moricq', 'Rochefort', \"Saint Michel en l' Herm\", 'Noirmoutier', \"Le Chateau [d' Oléron]\", 'Nantes', 'Saint Gilles sur Vie', 'Esnandes', 'Marennes', 'La Perrotine', 'La Flotte en Ré', 'La Rochelle', 'Royan', 'Mortagne'}\n",
    "\n",
    "ports_tab_3 = {}\n",
    "nb_flows_not_know_if_inside_or_outside_region = 0\n",
    "\n",
    "for p in ports_set:\n",
    "    ports_tab_3[p] = {\n",
    "        \"port\": p,\n",
    "        \"nb_portic_flows_taken_into_account\": 0,\n",
    "        \"nb_toflit_flows_taken_into_account\": 0,\n",
    "        \"cumulated_tonnage_in_region\": 0,\n",
    "        \"cumulated_tonnage_out_region\": 0,\n",
    "        \"cumulated_exports_value_from_region\": 0,\n",
    "        \"cumulated_exports_value_from_ext\": 0\n",
    "    }\n",
    "    \n",
    "for f in flows_from_ports_dflr_1787 + flows_from_bordeaux_lehavre_nantes_1787: \n",
    "    port = f['departure']\n",
    "    if f['tonnage'] is not None:\n",
    "        tonnage = int(f['tonnage'])\n",
    "    else:\n",
    "        tonnage = 0\n",
    "    if f['departure_ferme_direction'] == 'La Rochelle':\n",
    "        if f['destination_ferme_direction'] == 'La Rochelle':\n",
    "            ports_tab_3[port]['cumulated_tonnage_in_region'] += tonnage  \n",
    "        else:\n",
    "            ports_tab_3[port]['cumulated_tonnage_out_region'] += tonnage  \n",
    "    elif f['departure_province'] is not None: # dans ce cas là notre flow ne part pas de La Rochelle, besoin de distinguer cas bordeaux, nantes, le havre\n",
    "          # j'espère que les provinces de départ d'arrivée sont renseignées dans ce cas là\n",
    "        if f['departure_province'] == f['destination_province']:\n",
    "            ports_tab_3[port]['cumulated_tonnage_in_region'] += tonnage\n",
    "        else:\n",
    "            ports_tab_3[port]['cumulated_tonnage_out_region'] += tonnage\n",
    "    else:\n",
    "        nb_flows_not_know_if_inside_or_outside_region += 1\n",
    "    ports_tab_3[port]['nb_portic_flows_taken_into_account'] += 1  \n",
    "    \n",
    "# print(\"nb_flows_not_know_if_inside_or_outside_region : \", nb_flows_not_know_if_inside_or_outside_region,\"\\n\\n\")\n",
    "\n",
    "\n",
    "# print(ports_tab_3)\n",
    "\n",
    "tonnage_by_port = []\n",
    "for port, values in ports_tab_3.items():\n",
    "    tonnage_by_port.append({\n",
    "        \"port\": port,\n",
    "        \"type\": \"destination régionale\",\n",
    "        \"portion\": values['cumulated_tonnage_in_region'] \n",
    "    })\n",
    "    tonnage_by_port.append({\n",
    "        \"port\": port,\n",
    "        \"type\": \"destination hors région\",\n",
    "        \"portion\": values['cumulated_tonnage_out_region']\n",
    "    })\n",
    "  \n",
    "VegaLite({\n",
    "    \"$schema\": \"https://vega.github.io/schema/vega-lite/v5.json\",\n",
    "    \"title\": \"Distribution des tonnages cumulés sortis de certains ports en 1787\",\n",
    "    \"mark\": {\"type\": \"bar\", \"tooltip\": {\"content\": \"data\"}},\n",
    "    \"encoding\": {\n",
    "        \"x\": {\n",
    "            \"field\": \"port\",\n",
    "            \"type\": \"ordinal\", \n",
    "            \"title\": \"port\"\n",
    "        },\n",
    "        \"y\": {\n",
    "            \"type\": \"quantitative\",\n",
    "            \"field\": \"portion\",\n",
    "            \"title\": \"tonnages cumulés\"\n",
    "        },\n",
    "        \"color\": {\n",
    "            \"type\": \"nominal\",\n",
    "            \"field\": \"type\",\n",
    "            \"title\": \"Type de flux\",\n",
    "            \"scale\": {\n",
    "                 \"range\": [\"green\", \"blue\"]\n",
    "            }\n",
    "        }\n",
    "    }\n",
    "}, pd.DataFrame([p for p in tonnage_by_port]))"
   ]
  },
  {
   "cell_type": "markdown",
   "metadata": {},
   "source": [
    "#### on va maintenant chercher les données pertinentes chez Toflit => est ce que j'essaie de prendre en compte les flux attchés aux directions pertinentes mais pas au bureau des Fermes en particulier ??"
   ]
  },
  {
   "cell_type": "code",
   "execution_count": null,
   "metadata": {},
   "outputs": [],
   "source": [
    "flows_all_toflit_1789 = toflit_client.get_flows(\n",
    "    year = 1789,\n",
    "    export_import = 'Exports',\n",
    "    customs_office = ['La Rochelle', 'Marennes', 'Rochefort', 'Saint-Martin-de-Ré',\"Les Sables d'Olonne\",'Aligre', 'Charente', 'Le Havre', 'Bordeaux', 'Nantes'] # on espère que la casse, l'orthographe est bonne\n",
    ") \n",
    "\n",
    "## est ce que j'essaie de prendre en compte les flux attchés aux directions pertinentes mais pas au bureau des Fermes en particulier ??\n",
    "print(len(flows_all_toflit_1789))"
   ]
  },
  {
   "cell_type": "code",
   "execution_count": null,
   "metadata": {},
   "outputs": [],
   "source": [
    "print(flows_all_toflit_1789[0:10])"
   ]
  },
  {
   "cell_type": "markdown",
   "metadata": {},
   "source": [
    "## ! pour l'instant dans mes tableaux au niveau des valeurs Toflit il faut bien se souvenir qu'on raisonne pas exactement au niveau des ports mais des bureaux"
   ]
  },
  {
   "cell_type": "code",
   "execution_count": null,
   "metadata": {},
   "outputs": [],
   "source": [
    "# si besoin de réinitialiser\n",
    "\n",
    "for p in ports_tab_3:\n",
    "    ports_tab_3[p]['cumulated_exports_value_from_region'] = 0\n",
    "    ports_tab_3[p]['cumulated_exports_value_from_ext'] = 0\n",
    "    ports_tab_3[p]['nb_toflit_flows_taken_into_account'] = 0\n",
    "\n",
    "nb_not_know_origins = 0\n",
    "\n",
    "# incohérences orthographiques à gérer\n",
    "# Saint-Martin-de-Ré ≠ Saint Martin de Ré\n",
    "# Les Sables d'Olonne ≠ Sables d' Olonne\n",
    "# Aligre ≠ Aligre de Marans\n",
    "\n",
    "\n",
    "for f in flows_all_toflit_1789:\n",
    "    bureau = f['customs_office']\n",
    "    # corriger l'orthographe\n",
    "    if bureau == 'Saint-Martin-de-Ré': \n",
    "        bureau = 'Saint Martin de Ré'\n",
    "    elif bureau == \"Les Sables d'Olonne\":\n",
    "        bureau = \"Sables d' Olonne\"\n",
    "    elif bureau == 'Aligre':\n",
    "        bureau = 'Aligre de Marans'\n",
    "        \n",
    "    if f['value'] is not None and f['value'] != '':\n",
    "        value = float(f['value'])\n",
    "    else:\n",
    "        value = 0\n",
    "    if f['customs_region'] == 'La Rochelle': # j'espère que tous les flux de 89 venant d'un bureau de la DFLR ont cet attribut\n",
    "        if f['origin_province'] in ['Aunis', 'Poitou', 'Saintonge', 'Angoumois']:\n",
    "            ports_tab_3[bureau]['cumulated_exports_value_from_region'] += value  \n",
    "        else:\n",
    "            ports_tab_3[bureau]['cumulated_exports_value_from_ext'] += value\n",
    "            if f['origin_province'] is None:\n",
    "                nb_not_know_origins += 1\n",
    "    else: # dans ce cas on est censés avoir un flux pas dans DFLR\n",
    "        if f['customs_office'] in ['La Rochelle', 'Marennes', 'Rochefort', 'Saint-Martin-de-Ré',\"Les Sables d'Olonne\",'Aligre', 'Charente']:\n",
    "            print(\"soucis\") # si on a un flux DFLR c'est que filtre customs_region à changer\n",
    "        if f['customs_office'] == 'Le Havre':\n",
    "            if f['origin_province'] == 'Normandie':\n",
    "                ports_tab_3[bureau]['cumulated_exports_value_from_region'] += value  \n",
    "            else:\n",
    "                ports_tab_3[bureau]['cumulated_exports_value_from_ext'] += value\n",
    "                if f['origin_province'] is None:\n",
    "                    nb_not_know_origins += 1\n",
    "        elif f['customs_office'] == 'Bordeaux':\n",
    "            if f['origin_province'] == 'Guyenne':\n",
    "                ports_tab_3[bureau]['cumulated_exports_value_from_region'] += value  \n",
    "            else:\n",
    "                ports_tab_3[bureau]['cumulated_exports_value_from_ext'] += value\n",
    "                if f['origin_province'] is None:\n",
    "                    nb_not_know_origins += 1\n",
    "        elif f['customs_office'] == 'Nantes':\n",
    "            if f['origin_province'] == 'Bretagne':\n",
    "                ports_tab_3[bureau]['cumulated_exports_value_from_region'] += value  \n",
    "            else:\n",
    "                ports_tab_3[bureau]['cumulated_exports_value_from_ext'] += value\n",
    "                if f['origin_province'] is None:\n",
    "                    nb_not_know_origins += 1\n",
    "    ports_tab_3[bureau]['nb_toflit_flows_taken_into_account'] += 1  \n",
    "    \n",
    "\n",
    "# print(ports_tab_3)\n",
    "\n",
    "value_by_bureau = []\n",
    "for bureau, values in ports_tab_3.items():\n",
    "    if bureau in ['La Rochelle', 'Marennes', 'Rochefort', 'Saint Martin de Ré',\"Sables d' Olonne\",'Aligre de Marans', 'Charente', 'Le Havre', 'Bordeaux', 'Nantes']: \n",
    "        value_by_bureau.append({\n",
    "            \"bureau\": bureau,\n",
    "            \"type\": \"origine régionale\",\n",
    "            \"portion\": values['cumulated_exports_value_from_region'] \n",
    "        })\n",
    "        value_by_bureau.append({\n",
    "            \"bureau\": bureau,\n",
    "            \"type\": \"origine hors région\",\n",
    "            \"portion\": values['cumulated_exports_value_from_ext']\n",
    "        })\n",
    "  \n",
    "VegaLite({\n",
    "    \"$schema\": \"https://vega.github.io/schema/vega-lite/v5.json\",\n",
    "    \"title\": \"Distribution des valeurs cumulées exportées de certains bureaux des Fermes en 1789\",\n",
    "    \"mark\": {\"type\": \"bar\", \"tooltip\": {\"content\": \"data\"}},\n",
    "    \"encoding\": {\n",
    "        \"x\": {\n",
    "            \"field\": \"bureau\",\n",
    "            \"type\": \"ordinal\", \n",
    "            \"title\": \"bureau\"\n",
    "        },\n",
    "        \"y\": {\n",
    "            \"type\": \"quantitative\",\n",
    "            \"field\": \"portion\",\n",
    "            \"title\": \"valeurs cumulées\"\n",
    "        },\n",
    "        \"color\": {\n",
    "            \"type\": \"nominal\",\n",
    "            \"field\": \"type\",\n",
    "            \"title\": \"Type d'origine de produits\",\n",
    "            \"scale\": {\n",
    "                 \"range\": [\"green\", \"blue\"]\n",
    "            }\n",
    "        }\n",
    "    }\n",
    "}, pd.DataFrame([b for b in value_by_bureau]))"
   ]
  },
  {
   "cell_type": "markdown",
   "metadata": {},
   "source": [
    "### Ecriture des résultats dans un csv"
   ]
  },
  {
   "cell_type": "code",
   "execution_count": null,
   "metadata": {},
   "outputs": [],
   "source": [
    "with open('csv_outputs/tableau_3_1.csv', 'w', newline='') as csvfile:\n",
    "        fieldnames = ['port', 'cumulated_tonnage_in_region', 'cumulated_tonnage_out_region', 'nb_portic_flows_taken_into_account']\n",
    "        writer = csv.DictWriter(csvfile, fieldnames=fieldnames)\n",
    "\n",
    "        writer.writeheader()\n",
    "        for port, values in ports_tab_3.items(): # port est une key, values est un dictionnaire python\n",
    "            writer.writerow({'port': values['port'], 'cumulated_tonnage_in_region': values['cumulated_tonnage_in_region'], 'cumulated_tonnage_out_region': values['cumulated_tonnage_out_region'], 'nb_portic_flows_taken_into_account': values['nb_portic_flows_taken_into_account']})\n",
    "\n",
    "with open('csv_outputs/tableau_3_2.csv', 'w', newline='') as csvfile:\n",
    "        fieldnames = ['customs_office','cumulated_exports_value_from_region', 'cumulated_exports_value_from_ext', 'nb_toflit_flows_taken_into_account']\n",
    "        writer = csv.DictWriter(csvfile, fieldnames=fieldnames)\n",
    "        \n",
    "        writer.writeheader()\n",
    "        for bureau, values in ports_tab_3.items(): # bureau est une key, values est un dictionnaire python\n",
    "            if bureau in ['La Rochelle', 'Marennes', 'Rochefort', 'Saint Martin de Ré',\"Sables d' Olonne\",'Aligre de Marans', 'Charente', 'Le Havre', 'Bordeaux', 'Nantes']:\n",
    "                writer.writerow({'customs_office': values['port'], 'cumulated_exports_value_from_region': values['cumulated_exports_value_from_region'], 'cumulated_exports_value_from_ext': values['cumulated_exports_value_from_ext'], 'nb_toflit_flows_taken_into_account': values['nb_toflit_flows_taken_into_account']})"
   ]
  },
  {
   "cell_type": "markdown",
   "metadata": {},
   "source": [
    "### Complétion avec v2 du csv en ajoutant les latitudes et longitudes des ports"
   ]
  },
  {
   "cell_type": "code",
   "execution_count": null,
   "metadata": {},
   "outputs": [],
   "source": [
    "ports_tab_3 = [{'port': port, **vals} for port, vals in ports_tab_3.items()]\n",
    "# print(ports_tab_3)"
   ]
  },
  {
   "cell_type": "code",
   "execution_count": null,
   "metadata": {},
   "outputs": [],
   "source": [
    "portic_client = Portic()\n",
    "pointcalls = portic_client.get_pointcalls(source_subset='Poitou_1789', year=1789)"
   ]
  },
  {
   "cell_type": "code",
   "execution_count": null,
   "metadata": {},
   "outputs": [],
   "source": [
    "ports_coord = {}\n",
    "\n",
    "for p in pointcalls:\n",
    "    port = p['pointcall']\n",
    "    # in_region = p['pointcall_admiralty'] in ['Marennes', 'La Rochelle', \"Sables-d’Olonne\"]\n",
    "    if port not in ports and port in ports_set:\n",
    "        lat = float(p['latitude']) if p['latitude'] is not None else None\n",
    "        lon = float(p['longitude']) if p['longitude'] is not None else None\n",
    "        ports_coord[port] = {\n",
    "            # 'in_region': 'amirautés de Marennes, La Rochelle et Sables d\\'Olonne' if in_region else p['state_1789_fr'],\n",
    "            'latitude': lat,\n",
    "            'longitude': lon,\n",
    "            # 'ferme_bureau': p['ferme_bureau'],\n",
    "            # 'etat': p['state_1789_fr']\n",
    "        }\n",
    "        # ports[port][action] = 1\n",
    "ports_coord = [{'port': port, **vals} for port, vals in ports_coord.items()]"
   ]
  },
  {
   "cell_type": "code",
   "execution_count": null,
   "metadata": {},
   "outputs": [],
   "source": [
    "# print(ports_coord)"
   ]
  },
  {
   "cell_type": "code",
   "execution_count": null,
   "metadata": {},
   "outputs": [],
   "source": [
    "df1 = pd.DataFrame(ports_tab_3)\n",
    "df2 = pd.DataFrame(ports_coord)\n",
    "df_outer = pd.merge(df1, df2, on='port', how='outer')\n",
    "print(df_outer.to_numpy())"
   ]
  }
 ],
 "metadata": {
  "kernelspec": {
   "display_name": "Python 3",
   "language": "python",
   "name": "python3"
  },
  "language_info": {
   "codemirror_mode": {
    "name": "ipython",
    "version": 3
   },
   "file_extension": ".py",
   "mimetype": "text/x-python",
   "name": "python",
   "nbconvert_exporter": "python",
   "pygments_lexer": "ipython3",
   "version": "3.8.5"
  }
 },
 "nbformat": 4,
 "nbformat_minor": 4
}
