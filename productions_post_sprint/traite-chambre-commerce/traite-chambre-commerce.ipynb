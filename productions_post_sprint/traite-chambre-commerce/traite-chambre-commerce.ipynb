{
 "cells": [
  {
   "cell_type": "code",
   "execution_count": null,
   "metadata": {},
   "outputs": [],
   "source": [
    "from poitousprint import get_online_csv\n",
    "import pandas as pds\n",
    "\n",
    "INDEXATION_FINE_URL = 'https://docs.google.com/spreadsheets/d/e/2PACX-1vTcUunq7K6_0lsTpOyQZzNLHa_xSe0FRmzWAHe2mFoow4vRMaH6qAWhybo-rGHntNhJg40R7fLzwWih/pub?gid=101747354&single=true&output=csv'\n",
    "\n",
    "topics = get_online_csv(INDEXATION_FINE_URL)\n"
   ]
  },
  {
   "cell_type": "markdown",
   "metadata": {},
   "source": [
    "# Mentions du commerce colonial dans les relevés de la chambre de commerce\n",
    "\n",
    "1. on se fonde sur l'onglet \"indexation fine\" des délibérations de la chambre du commerce : https://docs.google.com/spreadsheets/d/1juAb0So6QzbvRCuTQf-HLGpwzWNZKbWegZdQoMrbAyQ/edit#gid=101747354\n",
    "2. on réalise un regroupement des thématiques remarquables\n",
    "\n",
    "Voici tout d'abord la liste entière de toutes les valeurs transcrites depuis les marges des documents :"
   ]
  },
  {
   "cell_type": "code",
   "execution_count": null,
   "metadata": {},
   "outputs": [],
   "source": [
    "for l in list(set([t[\"thème\"] for t in topics])):\n",
    "    print(l)"
   ]
  },
  {
   "cell_type": "code",
   "execution_count": null,
   "metadata": {},
   "outputs": [],
   "source": [
    "matches = {\n",
    "    'Etats-Unis': [\n",
    "        'Etats-Unis',\n",
    " 'Etats-Unis pêche'\n",
    "    ],\n",
    "    'colonies': [ \n",
    "        'colonies',\n",
    " 'colonies - Iles du vent',\n",
    " 'colonies Iles sous le vent',\n",
    " 'colonies farines',\n",
    " 'colonies poids et mesures',\n",
    " 'colonies poste aux lettres',\n",
    " 'colonies sucre', 'poste aux lettres colonies', 'port de lettres colonies'\n",
    "    ],\n",
    "    \"commerce d'Afrique\": [\n",
    "        \"com. d'Afrique\",  \"commerce d'Afrique\", \"tabacs commerce d'Afrique\",]\n",
    "}\n",
    "pretty_matches = [{\"theme\": theme, \"valeurs correspondantes\": \", \".join(values)} for (theme, values) in matches.items()]\n",
    "pretty_matches = pds.DataFrame(pretty_matches)\n",
    "\n",
    "display(pretty_matches)"
   ]
  },
  {
   "cell_type": "code",
   "execution_count": null,
   "metadata": {},
   "outputs": [],
   "source": [
    "counts = {\n",
    "    \"autres thèmes\": 0\n",
    "}\n",
    "for key in matches.keys():\n",
    "    counts[key] = 0\n",
    "\n",
    "for topic in topics:\n",
    "    theme = topic['thème']\n",
    "    found = False\n",
    "    for id, values in matches.items():\n",
    "        if theme in values:\n",
    "            counts[id] += 1\n",
    "            found = True\n",
    "    if found is False:\n",
    "        counts[\"autres thèmes\"] += 1\n",
    "\n",
    "counts = [{\"theme\": theme, \"nombre de paragraphes\": count} for (theme, count) in counts.items()]"
   ]
  },
  {
   "cell_type": "markdown",
   "metadata": {},
   "source": [
    "## Appréciation quantitative de la part du commerce d'Afrique dans l'ensemble des délibérations"
   ]
  },
  {
   "cell_type": "code",
   "execution_count": null,
   "metadata": {},
   "outputs": [],
   "source": [
    "from vega import VegaLite\n",
    "\n",
    "VegaLite({\n",
    "    \"title\": \"Distribution des thématiques des délibérations (sur 461 paragraphes annotés)\",\n",
    "    \"width\": 800,\n",
    "    \"mark\": \"bar\",\n",
    "    \"encoding\": {\n",
    "        \"x\": {\n",
    "            \"type\": \"quantitative\", \n",
    "            \"field\": \"nombre de paragraphes\"\n",
    "        },\n",
    "        \"y\": {\n",
    "            \"field\": \"theme\",\n",
    "            \"type\": \"nominal\",\n",
    "            \"title\": \"Thème (regroupé)\",\n",
    "            \"sort\": \"-x\"\n",
    "        }\n",
    "    }\n",
    "}, pds.DataFrame(counts))"
   ]
  },
  {
   "cell_type": "code",
   "execution_count": null,
   "metadata": {},
   "outputs": [],
   "source": []
  }
 ],
 "metadata": {
  "kernelspec": {
   "display_name": "Python 3",
   "language": "python",
   "name": "python3"
  },
  "language_info": {
   "codemirror_mode": {
    "name": "ipython",
    "version": 3
   },
   "file_extension": ".py",
   "mimetype": "text/x-python",
   "name": "python",
   "nbconvert_exporter": "python",
   "pygments_lexer": "ipython3",
   "version": "3.8.5"
  }
 },
 "nbformat": 4,
 "nbformat_minor": 4
}
