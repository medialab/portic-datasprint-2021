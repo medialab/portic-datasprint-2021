{
 "cells": [
  {
   "cell_type": "code",
   "execution_count": null,
   "metadata": {},
   "outputs": [],
   "source": [
    "from poitousprint import Toflit\n",
    "\n",
    "client = Toflit()\n",
    "\n",
    "flows = client.get_flows(year=1789, customs_region=\"La Rochelle\", best_guess_region_prodxpart='1')\n",
    "\n"
   ]
  },
  {
   "cell_type": "code",
   "execution_count": null,
   "metadata": {},
   "outputs": [],
   "source": [
    "checking = set()\n",
    "for f in flows :\n",
    "    product_viz = ''\n",
    "    if (f['partner_grouping'] == 'Afrique'):\n",
    "        product_viz = 'traite'\n",
    "    elif (f['partner_grouping'] == 'Amériques' or f['partner_grouping'] == 'Asie'):\n",
    "        checking.add(f['product_revolutionempire'])\n",
    "        product_viz = 'commerce colonial'\n",
    "    elif (f['product_revolutionempire'] == 'Sel'):\n",
    "        product_viz = 'sel'\n",
    "    elif (f['product_revolutionempire'] == 'Eaux-de-vie et liqueurs' or f['product_revolutionempire'] == 'Vins divers'):\n",
    "        product_viz = 'eau-de-vie et vins divers'\n",
    "    else :\n",
    "        product_viz = 'autres produits'\n",
    "    f['product_viz'] = product_viz\n",
    "    \n",
    "    partner_viz = ''\n",
    "    if (f['partner_grouping'] == 'France'):\n",
    "        partner_viz = 'Ports francs et petites îles'\n",
    "    elif (f['partner_grouping'] in ['Flandre et autres états de l\\'Empereur', 'Nord', 'Flandres']):\n",
    "        partner_viz = 'Europe du Nord'\n",
    "    elif (f['partner_grouping'] == 'Angleterre'):\n",
    "        partner_viz = 'Angleterre'\n",
    "    elif (f['partner_grouping'] == 'Afrique'):\n",
    "        partner_viz = 'Afrique'\n",
    "    elif (f['partner_grouping'] == 'Amériques' or f['partner_grouping'] == 'Asie'):\n",
    "        partner_viz = 'Colonies'\n",
    "    else:\n",
    "        partner_viz = 'Reste du monde'\n",
    "        \n",
    "    f['partner_viz'] = partner_viz\n"
   ]
  },
  {
   "cell_type": "code",
   "execution_count": null,
   "metadata": {},
   "outputs": [],
   "source": [
    "checking"
   ]
  },
  {
   "cell_type": "code",
   "execution_count": null,
   "metadata": {},
   "outputs": [],
   "source": [
    "import csv\n",
    "\n",
    "with open('exports.csv', 'w') as csvfile:\n",
    "    fieldnames = flows[0].keys()\n",
    "    writer = csv.DictWriter(csvfile, fieldnames=fieldnames)\n",
    "\n",
    "    writer.writeheader()\n",
    "    for f in [f for f in flows if f['export_import'] == 'Exports']:\n",
    "        writer.writerow(f)\n",
    "        \n",
    "with open('imports.csv', 'w') as csvfile:\n",
    "    fieldnames = flows[0].keys()\n",
    "    writer = csv.DictWriter(csvfile, fieldnames=fieldnames)\n",
    "\n",
    "    writer.writeheader()\n",
    "    for f in [f for f in flows if f['export_import'] == 'Imports']:\n",
    "        writer.writerow(f)"
   ]
  }
 ],
 "metadata": {
  "kernelspec": {
   "display_name": "Python 3",
   "language": "python",
   "name": "python3"
  },
  "language_info": {
   "codemirror_mode": {
    "name": "ipython",
    "version": 3
   },
   "file_extension": ".py",
   "mimetype": "text/x-python",
   "name": "python",
   "nbconvert_exporter": "python",
   "pygments_lexer": "ipython3",
   "version": "3.8.5"
  }
 },
 "nbformat": 4,
 "nbformat_minor": 4
}
