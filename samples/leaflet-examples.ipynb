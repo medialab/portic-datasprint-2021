{
 "cells": [
  {
   "cell_type": "code",
   "execution_count": 1,
   "metadata": {},
   "outputs": [],
   "source": [
    "from ipyleaflet import Map, Marker\n",
    "from lib.client import Api\n",
    "import pandas as pd\n",
    "\n",
    "client = Api()\n",
    "\n",
    "# this function allows to map a value from a domain of min-max to another\n",
    "def map_value(value, domain_min, domain_max, range_min, range_max):\n",
    "    left_span = domain_max - domain_min\n",
    "    right_span = range_max - range_min\n",
    "\n",
    "    # Convert the left range into a 0-1 range (float)\n",
    "    scaled = float(value - domain_min) / float(left_span)\n",
    "\n",
    "    # Convert the 0-1 range into a value in the right range.\n",
    "    return range_min + (scaled * right_span)\n",
    "\n",
    "# doc : https://ipyleaflet.readthedocs.io/en/latest/api_reference/circle_marker.html"
   ]
  },
  {
   "cell_type": "code",
   "execution_count": 2,
   "metadata": {},
   "outputs": [],
   "source": [
    "travels = client.portic.get_flows({\"date\": \"1789\"})"
   ]
  },
  {
   "cell_type": "code",
   "execution_count": 3,
   "metadata": {},
   "outputs": [
    {
     "data": {
      "application/vnd.jupyter.widget-view+json": {
       "model_id": "b3aed15854d34001900514c540b6c8ec",
       "version_major": 2,
       "version_minor": 0
      },
      "text/plain": [
       "Map(center=[45.6876849, -1.15], controls=(ZoomControl(options=['position', 'zoom_in_text', 'zoom_in_title', 'z…"
      ]
     },
     "metadata": {},
     "output_type": "display_data"
    }
   ],
   "source": [
    "center = (45.6876849, -1.15)\n",
    "poitou_map = Map(center=center,zoom=5)\n",
    "\n",
    "for travel in travels[0:10]:\n",
    "    marker = Marker(location=(travel[\"departure_latitude\"],travel[\"departure_longitude\"]))\n",
    "    poitou_map.add_layer(marker)\n",
    "          \n",
    "display(poitou_map)"
   ]
  },
  {
   "cell_type": "code",
   "execution_count": 4,
   "metadata": {},
   "outputs": [
    {
     "data": {
      "application/vnd.jupyter.widget-view+json": {
       "model_id": "e6f798b2633a431ba6d3a520c71c54b0",
       "version_major": 2,
       "version_minor": 0
      },
      "text/plain": [
       "Map(center=[45.6876849, -1.15], controls=(ZoomControl(options=['position', 'zoom_in_text', 'zoom_in_title', 'z…"
      ]
     },
     "metadata": {},
     "output_type": "display_data"
    }
   ],
   "source": [
    "ports = {}\n",
    "\n",
    "for travel in travels:\n",
    "    if travel[\"departure_uhgs_id\"] in ports:\n",
    "        ports[travel[\"departure_uhgs_id\"]][\"count\"] += 1\n",
    "    else:\n",
    "        ports[travel[\"departure_uhgs_id\"]] = {\n",
    "             \"count\": 1,\n",
    "             'departure_fr': travel['departure_fr'],\n",
    "             'departure_en': travel['departure_en'],\n",
    "             'latitude': travel['departure_latitude'],\n",
    "             'longitude': travel['departure_longitude'],\n",
    "             \"id\": travel[\"departure_uhgs_id\"]\n",
    "        }\n",
    "ports = [port for key,port in ports.items()]\n",
    "\n",
    "from ipyleaflet import basemaps, basemap_to_tiles, CircleMarker\n",
    "\n",
    "watercolor = basemap_to_tiles(basemaps.Stamen.Watercolor)\n",
    "\n",
    "center = (45.6876849, -1.15)\n",
    "\n",
    "poitou_map = Map(layers=(watercolor, ), center=center, zoom=5)\n",
    "\n",
    "max_count = max([port[\"count\"] for port in ports])\n",
    "min_count = min([port[\"count\"] for port in ports])\n",
    "MIN_RADIUS = 1\n",
    "MAX_RADIUS = 20\n",
    "\n",
    "for port in ports:\n",
    "    circle_marker = CircleMarker()\n",
    "    circle_marker.location = (port[\"latitude\"], port[\"longitude\"])\n",
    "    circle_marker.radius = int(map_value(port[\"count\"], min_count, max_count, MIN_RADIUS, MAX_RADIUS))\n",
    "    circle_marker.color = \"red\"\n",
    "    circle_marker.fill_color = \"red\"\n",
    "    poitou_map.add_layer(circle_marker)\n",
    "\n",
    "poitou_map"
   ]
  },
  {
   "cell_type": "code",
   "execution_count": null,
   "metadata": {},
   "outputs": [],
   "source": []
  }
 ],
 "metadata": {
  "kernelspec": {
   "display_name": "Python 3",
   "language": "python",
   "name": "python3"
  },
  "language_info": {
   "codemirror_mode": {
    "name": "ipython",
    "version": 3
   },
   "file_extension": ".py",
   "mimetype": "text/x-python",
   "name": "python",
   "nbconvert_exporter": "python",
   "pygments_lexer": "ipython3",
   "version": "3.8.5"
  }
 },
 "nbformat": 4,
 "nbformat_minor": 4
}
